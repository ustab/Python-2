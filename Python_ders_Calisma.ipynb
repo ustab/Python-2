{
 "cells": [
  {
   "cell_type": "code",
   "execution_count": 5,
   "id": "b22a890c-7882-4f31-941d-33e42f4d6bb8",
   "metadata": {},
   "outputs": [
    {
     "name": "stdout",
     "output_type": "stream",
     "text": [
      "5\n"
     ]
    }
   ],
   "source": [
    "a = 22 // 4\n",
    "print(a)"
   ]
  },
  {
   "cell_type": "code",
   "execution_count": 6,
   "id": "e6b51b7e-44d0-4d47-9784-56f099c52554",
   "metadata": {},
   "outputs": [
    {
     "name": "stdout",
     "output_type": "stream",
     "text": [
      "5.0\n"
     ]
    }
   ],
   "source": [
    "a = 22 // 4.0  #Bolen yada bolunen int ise sonuc int, float ise sonuc float cikar.\n",
    "\n",
    "print(a)"
   ]
  },
  {
   "cell_type": "code",
   "execution_count": 10,
   "id": "807cc2b4-ce6c-455a-a6d5-0335a0097436",
   "metadata": {},
   "outputs": [
    {
     "name": "stdout",
     "output_type": "stream",
     "text": [
      "-10.0\n"
     ]
    }
   ],
   "source": [
    "a = -100 ** 0.5\n",
    "print(a)"
   ]
  },
  {
   "cell_type": "code",
   "execution_count": 13,
   "id": "7038515f-cb71-4a3d-a743-9408774f2f61",
   "metadata": {},
   "outputs": [
    {
     "name": "stdout",
     "output_type": "stream",
     "text": [
      "6 > 8 > 8 > 9 > 19 > 32\n"
     ]
    }
   ],
   "source": [
    "x = 22\n",
    "y = 9\n",
    "z = 8\n",
    "k = 32\n",
    "l = 6\n",
    "m = 19\n",
    "liste = [z, y, z, k, l, m]\n",
    "liste.sort()\n",
    "print(*liste, sep = \" > \")   # liste isminin basina * koyarsak aralarina seperator koymamiza yariyor ********************************************************"
   ]
  },
  {
   "cell_type": "code",
   "execution_count": 18,
   "id": "8ddd308a-41c3-4051-8837-16052d6f06ff",
   "metadata": {},
   "outputs": [
    {
     "name": "stdout",
     "output_type": "stream",
     "text": [
      "ankara istanbul izmir malatya\n"
     ]
    }
   ],
   "source": [
    "a = \"ankara\"\n",
    "b = \"istanbul\"\n",
    "c = \"izmir\"\n",
    "d = \"malatya\"\n",
    "print(a, b, c, d)"
   ]
  },
  {
   "cell_type": "code",
   "execution_count": 30,
   "id": "e8652a96-0c9a-48f7-bedd-dcc25e45aeb7",
   "metadata": {},
   "outputs": [
    {
     "data": {
      "text/plain": [
       "2"
      ]
     },
     "execution_count": 30,
     "metadata": {},
     "output_type": "execute_result"
    }
   ],
   "source": [
    "a = True + False + True\n",
    "a "
   ]
  },
  {
   "cell_type": "code",
   "execution_count": 34,
   "id": "2c5c9702-c682-42d6-b70d-a989aba17d9e",
   "metadata": {},
   "outputs": [
    {
     "data": {
      "text/plain": [
       "False"
      ]
     },
     "execution_count": 34,
     "metadata": {},
     "output_type": "execute_result"
    }
   ],
   "source": [
    "a = not True + True + True\n",
    "a "
   ]
  },
  {
   "cell_type": "code",
   "execution_count": 24,
   "id": "429e36de-fcc0-4308-8f47-6c614afbf84d",
   "metadata": {},
   "outputs": [
    {
     "data": {
      "text/plain": [
       "0"
      ]
     },
     "execution_count": 24,
     "metadata": {},
     "output_type": "execute_result"
    }
   ],
   "source": [
    "a =  (not True) + False\n",
    "a "
   ]
  },
  {
   "cell_type": "code",
   "execution_count": 27,
   "id": "e3b22813-905b-4a1e-a532-33fc5c23d245",
   "metadata": {},
   "outputs": [
    {
     "ename": "SyntaxError",
     "evalue": "invalid syntax (<ipython-input-27-6f98b48d0b87>, line 1)",
     "output_type": "error",
     "traceback": [
      "\u001b[1;36m  File \u001b[1;32m\"<ipython-input-27-6f98b48d0b87>\"\u001b[1;36m, line \u001b[1;32m1\u001b[0m\n\u001b[1;33m    a =  not True + not False\u001b[0m\n\u001b[1;37m                    ^\u001b[0m\n\u001b[1;31mSyntaxError\u001b[0m\u001b[1;31m:\u001b[0m invalid syntax\n"
     ]
    }
   ],
   "source": [
    "a =  not True + not False\n",
    "a "
   ]
  },
  {
   "cell_type": "code",
   "execution_count": 28,
   "id": "29c9e251-d7f7-4c5c-854b-7251fc1125e9",
   "metadata": {},
   "outputs": [
    {
     "data": {
      "text/plain": [
       "1"
      ]
     },
     "execution_count": 28,
     "metadata": {},
     "output_type": "execute_result"
    }
   ],
   "source": [
    "a =  (not True) + (not False)\n",
    "a "
   ]
  },
  {
   "cell_type": "code",
   "execution_count": 1,
   "id": "b70adad4-5377-41ab-877f-7e214c822ff2",
   "metadata": {},
   "outputs": [
    {
     "name": "stdout",
     "output_type": "stream",
     "text": [
      "COMPUTER\n"
     ]
    }
   ],
   "source": [
    "string = \"computer\"\n",
    "string = string.upper()\n",
    "print(string)"
   ]
  },
  {
   "cell_type": "code",
   "execution_count": null,
   "id": "9c2450ed-32b9-4271-9af7-c433b55cf2ff",
   "metadata": {},
   "outputs": [],
   "source": []
  }
 ],
 "metadata": {
  "kernelspec": {
   "display_name": "Python 3",
   "language": "python",
   "name": "python3"
  },
  "language_info": {
   "codemirror_mode": {
    "name": "ipython",
    "version": 3
   },
   "file_extension": ".py",
   "mimetype": "text/x-python",
   "name": "python",
   "nbconvert_exporter": "python",
   "pygments_lexer": "ipython3",
   "version": "3.8.8"
  }
 },
 "nbformat": 4,
 "nbformat_minor": 5
}
