{
 "cells": [
  {
   "cell_type": "code",
   "execution_count": 3,
   "metadata": {},
   "outputs": [],
   "source": [
    "# Basic introduction to control flow statements\n",
    "\n",
    "#  if condition:\n",
    "#       body\n",
    "#  elif condition:\n",
    "#       body\n",
    "#  else:\n",
    "#       body\n",
    "\n",
    "\n",
    "# for i in iterable:\n",
    "#    body\n",
    "\n",
    "# while condition:\n",
    "#    body\n",
    "\n"
   ]
  },
  {
   "cell_type": "code",
   "execution_count": null,
   "metadata": {},
   "outputs": [],
   "source": [
    "# Difference between for and while"
   ]
  },
  {
   "cell_type": "code",
   "execution_count": 7,
   "metadata": {},
   "outputs": [
    {
     "name": "stdout",
     "output_type": "stream",
     "text": [
      "['1', '2', '3', '4', '5']\n"
     ]
    }
   ],
   "source": [
    "liste = [1,2,3,4,5]\n",
    "print(list(map(str, liste)))"
   ]
  },
  {
   "cell_type": "code",
   "execution_count": 4,
   "metadata": {},
   "outputs": [],
   "source": [
    "# Find a students average\n",
    "\n",
    "#   Sample Input :\n",
    "#       2\n",
    "#       Harsh 25 26.5 28\n",
    "#       Anurag 26 28 30\n",
    "#       Harsh\n",
    "\n",
    "#   Sample Output:\n",
    "#       26.50"
   ]
  },
  {
   "cell_type": "code",
   "execution_count": 5,
   "metadata": {},
   "outputs": [
    {
     "name": "stdout",
     "output_type": "stream",
     "text": [
      "40.0\n"
     ]
    }
   ],
   "source": [
    "student_number = int(input(\"How many students are you going to enter? \"))\n",
    "students = dict()\n",
    "for i in range(student_number):\n",
    "    student_info = input(\"What is the students name and his grades? \")\n",
    "    student_info = student_info.split() #       ['Harsh', '25', '26.5', '28']\n",
    "    student_name = student_info[0]\n",
    "    students[student_name] = student_info[1:]\n",
    "\n",
    "wanted_student = input(\"Whose grades do you want to see? \")\n",
    "\n",
    "sum_of_grades = 0\n",
    "for grade in students[wanted_student]:\n",
    "    grade = float(grade)\n",
    "    sum_of_grades += grade\n",
    "average_grade = sum_of_grades / 3 \n",
    "print(average_grade)"
   ]
  },
  {
   "cell_type": "code",
   "execution_count": null,
   "metadata": {},
   "outputs": [],
   "source": [
    "student_number = int(input(\"How many students are you going to enter? \"))\n",
    "students = dict()\n",
    "for i in range(student_number):\n",
    "    student_info = input(\"What is the students name and his grades? \")\n",
    "    student_info = student_info.split() #       ['Harsh', '25', '26.5', '28']\n",
    "    student_name = student_info[0]\n",
    "    students[student_name] = list(map(float,student_info[1:]))\n",
    "\n",
    "wanted_student = input(\"Whose grades do you want to see? \")\n",
    "\n",
    "sum_of_grades = sum(students[wanted_student])\n",
    "average_grade = sum_of_grades / len(students[wanted_student]) \n",
    "print(average_grade)"
   ]
  },
  {
   "cell_type": "code",
   "execution_count": null,
   "metadata": {},
   "outputs": [],
   "source": [
    "student_number = int(input(\"How many students are you going to enter? \"))\n",
    "students = dict()\n",
    "for i in range(student_number):\n",
    "    student_name = input(\"What is the students name? \")\n",
    "    student_grades = input(f\"What is {student_name}'s grades? \")\n",
    "    student_grades = map(float, student_grades.split())\n",
    "    students[student_name] = student_grades\n",
    "\n",
    "wanted_student = input(\"Whose grades do you want to see? \")\n",
    "\n",
    "sum_of_grades = sum(students[wanted_student])\n",
    "average_grade = sum_of_grades / len(students[wanted_student]) \n",
    "print(average_grade)"
   ]
  },
  {
   "cell_type": "code",
   "execution_count": 8,
   "metadata": {},
   "outputs": [],
   "source": [
    "# Find the Runner up score\n",
    "\n",
    "#   Sample input:\n",
    "#       3\n",
    "#       2\n",
    "#       3\n",
    "#       6\n",
    "\n",
    "#   Sample output:\n",
    "#       3"
   ]
  },
  {
   "cell_type": "code",
   "execution_count": 12,
   "metadata": {},
   "outputs": [
    {
     "name": "stdout",
     "output_type": "stream",
     "text": [
      "[6, 5, 6, 4, 2]\n",
      "5\n"
     ]
    }
   ],
   "source": [
    "number = int(input(\"How many number are you going to enter? \"))\n",
    "number_list = [] \n",
    "for i in range(number):\n",
    "    current_num = int(input(\"Enter your number : \"))\n",
    "    number_list.append(current_num)\n",
    "print(number_list)\n",
    "number_list = list(set(number_list))\n",
    "number_list.sort()\n",
    "print(number_list[-2])"
   ]
  },
  {
   "cell_type": "code",
   "execution_count": 18,
   "metadata": {},
   "outputs": [
    {
     "name": "stdout",
     "output_type": "stream",
     "text": [
      "emor\n"
     ]
    }
   ],
   "source": [
    "string = \"omer\"\n",
    "print(\"\".join(sorted(string)))"
   ]
  },
  {
   "cell_type": "code",
   "execution_count": null,
   "metadata": {},
   "outputs": [],
   "source": [
    "# 6 ogrenci 3 notunu girelim ve onlarin ilk sinav ortalamasini alalim"
   ]
  },
  {
   "cell_type": "code",
   "execution_count": null,
   "metadata": {},
   "outputs": [],
   "source": []
  },
  {
   "cell_type": "code",
   "execution_count": 19,
   "metadata": {},
   "outputs": [],
   "source": [
    "# reverse every string in a list\n",
    "\n",
    "#   Sample input:\n",
    "#       'clarusway, omer mentor'\n",
    "\n",
    "#   Sample Output:\n",
    "#       ['yawsuralc', 'rotnem remo']"
   ]
  },
  {
   "cell_type": "code",
   "execution_count": 21,
   "metadata": {},
   "outputs": [
    {
     "name": "stdout",
     "output_type": "stream",
     "text": [
      "['']\n"
     ]
    }
   ],
   "source": [
    "strs = input(\"Enter your strings as comma seperated\")\n",
    "strs = strs.split(\", \")\n",
    "for i in range(len(strs)):\n",
    "    strs[i] = strs[i][::-1]\n",
    "\n",
    "print(strs)"
   ]
  },
  {
   "cell_type": "code",
   "execution_count": 23,
   "metadata": {},
   "outputs": [
    {
     "data": {
      "text/plain": [
       "['yawsuralc', 'rotnem remo']"
      ]
     },
     "execution_count": 23,
     "metadata": {},
     "output_type": "execute_result"
    }
   ],
   "source": [
    "strs = input(\"Enter your strings as comma seperated\")\n",
    "strs = strs.split(\", \")\n",
    "reversed_strs = [i[::-1] for i in strs]\n",
    "reversed_strs"
   ]
  },
  {
   "cell_type": "code",
   "execution_count": 25,
   "metadata": {},
   "outputs": [
    {
     "name": "stdout",
     "output_type": "stream",
     "text": [
      "This is not an armstrong number\n",
      "This is not an armstrong number\n",
      "This is an armstrong number\n"
     ]
    }
   ],
   "source": [
    "# 371 = 3^3 + 7^3 + 1^3 -> armstrong sayisidir\n",
    "\n",
    "number = input(\"Enter your number\") \n",
    "if number.isdigit() and int(number) > 0:\n",
    "    length = len(number)\n",
    "    sum = 0\n",
    "    for integer in number:\n",
    "        integer = int(integer)\n",
    "        sum += integer ** length\n",
    "    if int(number) == sum:\n",
    "        print(\"This is an armstrong number\")\n",
    "    else:\n",
    "        print(\"This is not an armstrong number\")\n",
    "else:\n",
    "    print(\"Please enter a valid number\")\n"
   ]
  },
  {
   "cell_type": "code",
   "execution_count": 28,
   "metadata": {},
   "outputs": [
    {
     "name": "stdout",
     "output_type": "stream",
     "text": [
      "Please enter a valid number\n",
      "Please enter a valid number\n",
      "This is not an armstrong number\n",
      "This is an armstrong number\n"
     ]
    }
   ],
   "source": [
    "while(True):\n",
    "    number = input(\"Enter your number\") \n",
    "    if number.isdigit() and int(number) > 0:\n",
    "        length = len(number)\n",
    "        sum = 0\n",
    "        for integer in number:\n",
    "            integer = int(integer)\n",
    "            sum += integer ** length\n",
    "        if int(number) == sum:\n",
    "            print(\"This is an armstrong number\")  \n",
    "        else:\n",
    "            print(\"This is not an armstrong number\")\n",
    "        break\n",
    "    else:\n",
    "        print(\"Please enter a valid number\")"
   ]
  },
  {
   "cell_type": "code",
   "execution_count": null,
   "metadata": {},
   "outputs": [],
   "source": []
  }
 ],
 "metadata": {
  "interpreter": {
   "hash": "fa6a0a764cb4097f59c43fd49950221d10fdd80b639457893697b370f7a39508"
  },
  "kernelspec": {
   "display_name": "Python 3 (ipykernel)",
   "language": "python",
   "name": "python3"
  },
  "language_info": {
   "codemirror_mode": {
    "name": "ipython",
    "version": 3
   },
   "file_extension": ".py",
   "mimetype": "text/x-python",
   "name": "python",
   "nbconvert_exporter": "python",
   "pygments_lexer": "ipython3",
   "version": "3.9.7"
  }
 },
 "nbformat": 4,
 "nbformat_minor": 4
}
