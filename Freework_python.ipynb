{
 "cells": [
  {
   "cell_type": "code",
   "execution_count": 2,
   "id": "fadc6b1d-46d1-4293-9d66-13616a6fa32c",
   "metadata": {},
   "outputs": [
    {
     "name": "stdout",
     "output_type": "stream",
     "text": [
      "{'a': 1, 'b': 2, 'c': 3, 'ç': 4, 'd': 5, 'e': 6, 'f': 7, 'g': 8, 'ğ': 9, 'h': 10, 'ı': 11, 'i': 12, 'j': 13, 'k': 14, 'l': 15, 'm': 16, 'n': 17, 'o': 18, 'ö': 19, 'p': 20, 'r': 21, 's': 22, 'ş': 23, 't': 24, 'u': 25, 'ü': 26, 'v': 27, 'y': 28, 'z': 29}\n"
     ]
    }
   ],
   "source": [
    "tr_letter = [\"a\", \"b\", \"c\", \"ç\", \"d\", \"e\", \"f\", \"g\", \"ğ\", \"h\", \"ı\", \"i\", \"j\", \"k\", \"l\", \"m\", \"n\", \"o\", \"ö\", \"p\", \"r\", \"s\", \"ş\", \"t\", \"u\", \"ü\", \"v\", \"y\", \"z\"]\n",
    "num = range(1, 30) \n",
    "tr_dict = dict(zip(tr_letter, num))\n",
    "print(tr_dict)"
   ]
  },
  {
   "cell_type": "code",
   "execution_count": null,
   "id": "1c292a65-fffb-4cac-a84a-95f9f9553651",
   "metadata": {},
   "outputs": [],
   "source": []
  },
  {
   "cell_type": "code",
   "execution_count": 15,
   "id": "8289c056-fcf0-44c6-906f-588bd1744b25",
   "metadata": {},
   "outputs": [],
   "source": [
    "tr_dict = {'a': 1, 'b': 2, 'c': 3, 'ç': 4, 'd': 5, 'e': 6, 'f': 7, 'g': 8, 'ğ': 9, 'h': 10, 'ı': 11, 'i': 12, 'j': 13, 'k': 14, 'l': 15, \n",
    "           'm': 16, 'n': 17, 'o': 18, 'ö': 19, 'p': 20, 'r': 21, 's': 22, 'ş': 23, 't': 24, 'u': 25, 'ü': 26, 'v': 27, 'y': 28, 'z': 29}\n",
    " \n",
    "deger = (0)\n",
    "def word():\n",
    "    for i in word :\n",
    "        deger += tr_dict(i)\n",
    "    return deger"
   ]
  },
  {
   "cell_type": "code",
   "execution_count": 16,
   "id": "d72d25c3-9788-4949-b950-ad59ad69e682",
   "metadata": {},
   "outputs": [
    {
     "ename": "TypeError",
     "evalue": "word() takes 0 positional arguments but 1 was given",
     "output_type": "error",
     "traceback": [
      "\u001b[1;31m---------------------------------------------------------------------------\u001b[0m",
      "\u001b[1;31mTypeError\u001b[0m                                 Traceback (most recent call last)",
      "\u001b[1;32m<ipython-input-16-164a46b57b22>\u001b[0m in \u001b[0;36m<module>\u001b[1;34m\u001b[0m\n\u001b[1;32m----> 1\u001b[1;33m \u001b[0mword\u001b[0m\u001b[1;33m(\u001b[0m\u001b[1;34m\"torpil\"\u001b[0m\u001b[1;33m)\u001b[0m\u001b[1;33m\u001b[0m\u001b[1;33m\u001b[0m\u001b[0m\n\u001b[0m",
      "\u001b[1;31mTypeError\u001b[0m: word() takes 0 positional arguments but 1 was given"
     ]
    }
   ],
   "source": [
    "word(\"torpil\")"
   ]
  },
  {
   "cell_type": "code",
   "execution_count": 1,
   "id": "b2e488c5-94dd-4991-9b51-9b301bc403fa",
   "metadata": {},
   "outputs": [
    {
     "name": "stdout",
     "output_type": "stream",
     "text": [
      "g o k s e l\n"
     ]
    }
   ],
   "source": [
    "print(*\"goksel\")"
   ]
  },
  {
   "cell_type": "code",
   "execution_count": 13,
   "id": "500a9f0b-286b-4269-bb0b-3c90cb6f3e83",
   "metadata": {},
   "outputs": [
    {
     "data": {
      "text/plain": [
       "<reversed at 0x1c2b8365f70>"
      ]
     },
     "execution_count": 13,
     "metadata": {},
     "output_type": "execute_result"
    }
   ],
   "source": [
    "reversed(\"goksel\")"
   ]
  },
  {
   "cell_type": "code",
   "execution_count": 5,
   "id": "8b028916-8006-49a3-b308-8458537ef704",
   "metadata": {},
   "outputs": [
    {
     "name": "stdout",
     "output_type": "stream",
     "text": [
      "<reversed object at 0x000001C2B73E71C0>\n"
     ]
    }
   ],
   "source": [
    "print(reversed(\"goksel\"))"
   ]
  },
  {
   "cell_type": "code",
   "execution_count": 6,
   "id": "dacfcf0e-66ac-4728-a13d-7985459eee41",
   "metadata": {},
   "outputs": [
    {
     "name": "stdout",
     "output_type": "stream",
     "text": [
      "l e s k o g\n"
     ]
    }
   ],
   "source": [
    "print(*reversed(\"goksel\"))"
   ]
  },
  {
   "cell_type": "code",
   "execution_count": 6,
   "id": "e0a41a2c-1898-463f-9f39-4f77e20b9fdc",
   "metadata": {},
   "outputs": [],
   "source": [
    "# print(reversed(*\"goksel\")) #calismaz"
   ]
  },
  {
   "cell_type": "code",
   "execution_count": 18,
   "id": "459cf0bb-b015-467b-b50c-893567deecd8",
   "metadata": {},
   "outputs": [
    {
     "name": "stdout",
     "output_type": "stream",
     "text": [
      "l e s k o g\n"
     ]
    },
    {
     "data": {
      "text/plain": [
       "[None]"
      ]
     },
     "execution_count": 18,
     "metadata": {},
     "output_type": "execute_result"
    }
   ],
   "source": [
    "[print(*reversed(\"goksel\"))]"
   ]
  },
  {
   "cell_type": "code",
   "execution_count": 22,
   "id": "c0a114c8-cc18-48b2-ab6b-fe0d76262d2c",
   "metadata": {},
   "outputs": [
    {
     "name": "stdout",
     "output_type": "stream",
     "text": [
      "leskog\n"
     ]
    }
   ],
   "source": [
    "print(\"goksel\"[::-1])"
   ]
  },
  {
   "cell_type": "code",
   "execution_count": 4,
   "id": "7e5bbd2a-e10c-4b88-a924-e8d69b5ec516",
   "metadata": {},
   "outputs": [],
   "source": [
    "#isdigit(\"10\") # calismaz"
   ]
  },
  {
   "cell_type": "code",
   "execution_count": 5,
   "id": "eaa483ee-22c1-4f17-8bb8-650dcced65d1",
   "metadata": {},
   "outputs": [],
   "source": [
    "# isnumber(\"10\")  # calismaz"
   ]
  },
  {
   "cell_type": "markdown",
   "id": "e8b70390-1af3-4c77-affd-3a1cfa54d876",
   "metadata": {},
   "source": [
    "### verilen sayi tekmi ciftmi soyleyen kod"
   ]
  },
  {
   "cell_type": "code",
   "execution_count": 1,
   "id": "7edaaede-39be-4d9f-97ba-b98063724798",
   "metadata": {},
   "outputs": [
    {
     "name": "stdin",
     "output_type": "stream",
     "text": [
      "Enter a number:  35\n"
     ]
    },
    {
     "name": "stdout",
     "output_type": "stream",
     "text": [
      "35 is odd\n"
     ]
    }
   ],
   "source": [
    "x = int(input(\"Enter a number: \"))\n",
    "if (x % 2) == 0:\n",
    "   print(\"{0} is even\".format(x))\n",
    "else:\n",
    "   print(\"{0} is odd\".format(x))"
   ]
  },
  {
   "cell_type": "code",
   "execution_count": 5,
   "id": "ccf764a0-0d07-4c9b-9a69-2a786541c18d",
   "metadata": {},
   "outputs": [
    {
     "name": "stdin",
     "output_type": "stream",
     "text": [
      "Enter a number:  25\n"
     ]
    },
    {
     "name": "stdout",
     "output_type": "stream",
     "text": [
      "25 is odd\n"
     ]
    }
   ],
   "source": [
    "# verilen sayi tekmi ciftmi soyleyen kod list comprehension ile:\n",
    "\n",
    "x = int(input(\"Enter a number: \"))\n",
    "print(\"{0} is even\".format(x)) if (x % 2) == 0 else print(\"{0} is odd\".format(x))"
   ]
  },
  {
   "cell_type": "markdown",
   "id": "67000716-bf6d-4213-8354-86ad3f617f1f",
   "metadata": {},
   "source": [
    "### Kaggle'da takip eden takip edilen kisi karsilastirmak icin yazilim\n",
    "request kütüphanesi kuruludur diye tahmin ediyorum, bs4'u install etmeniz gerekir. username değişkenine kullanıcı adınızı tanımlayarak çalıştırırsanız sihirli outputu alacaksınız :slightly_smiling_face:"
   ]
  },
  {
   "cell_type": "code",
   "execution_count": 2,
   "id": "8b57cb10-dbed-4a78-8056-05ccaac43daf",
   "metadata": {},
   "outputs": [
    {
     "name": "stdout",
     "output_type": "stream",
     "text": [
      "Takip etmediğiniz takipçileriniz\n",
      "\n",
      "-----*****-----\n",
      "Geri takip yapmayanlar!!!\n",
      "\n",
      "kaanboke //// https://www.kaggle.com/kaanboke\n",
      "farukkose //// https://www.kaggle.com/farukkose\n",
      "kadirduran //// https://www.kaggle.com/kadirduran\n",
      "oguzhanyuksel //// https://www.kaggle.com/oguzhanyuksel\n",
      "neslihanbabaarslan //// https://www.kaggle.com/neslihanbabaarslan\n"
     ]
    }
   ],
   "source": [
    "#!pip install requests\n",
    "#!pip install bs4\n",
    "\n",
    "import requests\n",
    "from bs4 import BeautifulSoup\n",
    "import ast\n",
    "\n",
    "username = 'gkselbahadir'\n",
    "\n",
    "\n",
    "followers = requests.get('https://www.kaggle.com/'+username+'/followers')\n",
    "followings = requests.get('https://www.kaggle.com/'+username+'/followers')\n",
    "\n",
    "followers = BeautifulSoup(followers.text, 'html.parser')\n",
    "following = BeautifulSoup(followings.text, 'html.parser')\n",
    "\n",
    "followers = followers.find_all('script', {'class': \"kaggle-component\"})[1].text[77:-103].replace('true',\n",
    "                                                                                                 'True').replace(\n",
    "    'false', 'False')\n",
    "following = following.find_all('script', {'class': \"kaggle-component\"})[1].text[77:-103].replace('true',\n",
    "                                                                                                 'True').replace(\n",
    "    'false', 'False')\n",
    "\n",
    "\n",
    "followers = ast.literal_eval(followers)['followers']\n",
    "following = ast.literal_eval(following)['following']\n",
    "\n",
    "follower_list = list()\n",
    "following_list = list()\n",
    "\n",
    "for i in range(followers['count']):\n",
    "    follower_list.append(followers['list'][i]['userName'])\n",
    "\n",
    "for i in range(following['count']):\n",
    "    following_list.append(following['list'][i]['userName'])\n",
    "\n",
    "print('Takip etmediğiniz takipçileriniz', end='\\n\\n')\n",
    "for user in set(follower_list).difference(following_list):\n",
    "    print(f'{user} //// https://www.kaggle.com/{user}')\n",
    "\n",
    "print('-----*****-----', 'Geri takip yapmayanlar!!!', sep='\\n', end='\\n\\n')\n",
    "for user in set(following_list).difference(follower_list):\n",
    "    print(f'{user} //// https://www.kaggle.com/{user}')"
   ]
  },
  {
   "cell_type": "markdown",
   "id": "3eccbc08-fb92-4633-b62c-430cb3db49d0",
   "metadata": {},
   "source": [
    "### Kaggle Novice'likten kurtulmak için aşağıdaki 4 gerekliliği yerine getirmeniz gerekiyor:\n",
    "#### Run 1 notebook or script - (Bir datasetine gelip new notebook diyip çalıştırmanız yeterli, yayınlamanız gerekmiyor)\n",
    "#### Make 1 competition submission - (Bir competitiona girip sample_submission'ı indirip geri yükleyerek bu aşamayı da geçebilirsiniz :smile: )\n",
    "#### Make 1 comment - (Herhangi bir paylaşıma yorum)\n",
    "#### Give 1 upvote - (Herhangi bir notebook, dataset veya comment'e upvote vermeniz yeterli)"
   ]
  },
  {
   "cell_type": "code",
   "execution_count": null,
   "id": "1d894180-d0bb-4c5d-abcf-8dd750546653",
   "metadata": {},
   "outputs": [],
   "source": []
  }
 ],
 "metadata": {
  "kernelspec": {
   "display_name": "Python 3 (ipykernel)",
   "language": "python",
   "name": "python3"
  },
  "language_info": {
   "codemirror_mode": {
    "name": "ipython",
    "version": 3
   },
   "file_extension": ".py",
   "mimetype": "text/x-python",
   "name": "python",
   "nbconvert_exporter": "python",
   "pygments_lexer": "ipython3",
   "version": "3.9.7"
  }
 },
 "nbformat": 4,
 "nbformat_minor": 5
}
