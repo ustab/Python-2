{
 "cells": [
  {
   "cell_type": "code",
   "execution_count": 4,
   "id": "5f02c67c-94e4-43d6-a3fc-86ced12ec8bf",
   "metadata": {},
   "outputs": [],
   "source": [
    "import os        # doyalarla islem yapmak icin modul\n"
   ]
  },
  {
   "cell_type": "code",
   "execution_count": 7,
   "id": "14b5eea1-6be2-4852-a309-d3cab83cae8b",
   "metadata": {},
   "outputs": [
    {
     "data": {
      "text/plain": [
       "['.ipynb_checkpoints',\n",
       " '05KAS2021_Pyton_WS_2.ipynb',\n",
       " '10_December_Python_Question_Solution.ipynb',\n",
       " '19_kasım_ws.ipynb',\n",
       " 'Assignment.ipynb',\n",
       " 'Boolean.ipynb',\n",
       " 'Ders calisma 3.ipynb',\n",
       " 'Dictionary_lesson.ipynb',\n",
       " 'Errors & Exceptions.ipynb',\n",
       " 'f format.ipynb',\n",
       " 'Functions_in_python.ipynb',\n",
       " 'group_4.ipynb',\n",
       " 'If Elif Else.ipynb',\n",
       " 'ITF_10_9_STUDENT.pdf',\n",
       " 'Joseph work 1.ipynb',\n",
       " 'Joseph work 2.ipynb',\n",
       " 'Joseph work3.ipynb',\n",
       " 'Lambda functions.ipynb',\n",
       " 'Liste fonksiyonlari.ipynb',\n",
       " 'liste islemleri 2.ipynb',\n",
       " 'Liste islemleri.ipynb',\n",
       " 'Listeler.ipynb',\n",
       " 'List_Comprehension.ipynb',\n",
       " 'Mentor ile Soru Cozumu.ipynb',\n",
       " 'Methods.ipynb',\n",
       " 'Modules.ipynb',\n",
       " 'Preclass.ipynb',\n",
       " 'Python plus Fuctions.ipynb',\n",
       " 'Python Workshop (16 Nov 21).ipynb',\n",
       " 'Python_3_session.ipynb',\n",
       " 'Python_ders_Calisma.ipynb',\n",
       " 'Python_lesson2.ipynb',\n",
       " 'Python_Workshop-3.12.2021.ipynb',\n",
       " 'Raife_Mentor.ipynb',\n",
       " 'Serbest.ipynb',\n",
       " 'sets_Python_10_Session 2.ipynb',\n",
       " 'sets_Python_10_Session.ipynb',\n",
       " 'Set_lesson.ipynb',\n",
       " 'Untitled.ipynb',\n",
       " 'While For.ipynb',\n",
       " 'while_for_loops tekrar.ipynb',\n",
       " 'Working with files.ipynb',\n",
       " 'workshop-3_python_student.ipynb',\n",
       " 'workshop-4(student).ipynb',\n",
       " 'workshop_26_11.ipynb',\n",
       " 'WS_2_soru_cozumu.ipynb',\n",
       " 'ws_4_soru_cozumu_jpynb.ipynb']"
      ]
     },
     "execution_count": 7,
     "metadata": {},
     "output_type": "execute_result"
    }
   ],
   "source": [
    "dosya_icerigi = os.listdir() # calistiginiz klasordeki dosyalari listeler\n",
    "dosya_icerigi"
   ]
  },
  {
   "cell_type": "code",
   "execution_count": 8,
   "id": "408f8fba-b2c0-4366-a448-4764da738078",
   "metadata": {},
   "outputs": [],
   "source": [
    "import shutil"
   ]
  },
  {
   "cell_type": "code",
   "execution_count": 9,
   "id": "eb4bd1a7-80e4-4e20-8a75-611de9a4b3f4",
   "metadata": {},
   "outputs": [
    {
     "ename": "OSError",
     "evalue": "[WinError 123] The filename, directory name, or volume label syntax is incorrect: ''",
     "output_type": "error",
     "traceback": [
      "\u001b[1;31m---------------------------------------------------------------------------\u001b[0m",
      "\u001b[1;31mOSError\u001b[0m                                   Traceback (most recent call last)",
      "\u001b[1;32m<ipython-input-9-87b437eba1a6>\u001b[0m in \u001b[0;36m<module>\u001b[1;34m\u001b[0m\n\u001b[1;32m----> 1\u001b[1;33m \u001b[0mshutil\u001b[0m\u001b[1;33m.\u001b[0m\u001b[0mmake_archive\u001b[0m\u001b[1;33m(\u001b[0m\u001b[1;34m\"\"\u001b[0m\u001b[1;33m,\u001b[0m \u001b[1;34m\"zip\"\u001b[0m\u001b[1;33m,\u001b[0m \u001b[1;34m\"\"\u001b[0m\u001b[1;33m)\u001b[0m  \u001b[1;31m# tirnak icine ziplecek klasorun adive adresini iki kkere yaziyoruz\u001b[0m\u001b[1;33m\u001b[0m\u001b[1;33m\u001b[0m\u001b[0m\n\u001b[0m\u001b[0;32m      2\u001b[0m                                     \u001b[1;31m#klasoru zip yapiyor\u001b[0m\u001b[1;33m\u001b[0m\u001b[1;33m\u001b[0m\u001b[1;33m\u001b[0m\u001b[0m\n\u001b[0;32m      3\u001b[0m \u001b[1;33m\u001b[0m\u001b[0m\n",
      "\u001b[1;32m~\\anaconda3\\lib\\shutil.py\u001b[0m in \u001b[0;36mmake_archive\u001b[1;34m(base_name, format, root_dir, base_dir, verbose, dry_run, owner, group, logger)\u001b[0m\n\u001b[0;32m   1025\u001b[0m         \u001b[0mbase_name\u001b[0m \u001b[1;33m=\u001b[0m \u001b[0mos\u001b[0m\u001b[1;33m.\u001b[0m\u001b[0mpath\u001b[0m\u001b[1;33m.\u001b[0m\u001b[0mabspath\u001b[0m\u001b[1;33m(\u001b[0m\u001b[0mbase_name\u001b[0m\u001b[1;33m)\u001b[0m\u001b[1;33m\u001b[0m\u001b[1;33m\u001b[0m\u001b[0m\n\u001b[0;32m   1026\u001b[0m         \u001b[1;32mif\u001b[0m \u001b[1;32mnot\u001b[0m \u001b[0mdry_run\u001b[0m\u001b[1;33m:\u001b[0m\u001b[1;33m\u001b[0m\u001b[1;33m\u001b[0m\u001b[0m\n\u001b[1;32m-> 1027\u001b[1;33m             \u001b[0mos\u001b[0m\u001b[1;33m.\u001b[0m\u001b[0mchdir\u001b[0m\u001b[1;33m(\u001b[0m\u001b[0mroot_dir\u001b[0m\u001b[1;33m)\u001b[0m\u001b[1;33m\u001b[0m\u001b[1;33m\u001b[0m\u001b[0m\n\u001b[0m\u001b[0;32m   1028\u001b[0m \u001b[1;33m\u001b[0m\u001b[0m\n\u001b[0;32m   1029\u001b[0m     \u001b[1;32mif\u001b[0m \u001b[0mbase_dir\u001b[0m \u001b[1;32mis\u001b[0m \u001b[1;32mNone\u001b[0m\u001b[1;33m:\u001b[0m\u001b[1;33m\u001b[0m\u001b[1;33m\u001b[0m\u001b[0m\n",
      "\u001b[1;31mOSError\u001b[0m: [WinError 123] The filename, directory name, or volume label syntax is incorrect: ''"
     ]
    }
   ],
   "source": [
    "shutil.make_archive(\"\", \"zip\", \"\")  # tirnak icine ziplecek klasorun adive adresini iki kere yaziyoruz\n",
    "                                    #klasoru zip yapiyor\n",
    "    "
   ]
  },
  {
   "cell_type": "code",
   "execution_count": null,
   "id": "7e2c7d08-fa15-4143-99b3-326addff59a1",
   "metadata": {},
   "outputs": [],
   "source": []
  },
  {
   "cell_type": "code",
   "execution_count": 4,
   "id": "e35cc069-f662-4bb6-9bb3-35fa15777e7e",
   "metadata": {},
   "outputs": [
    {
     "ename": "FileNotFoundError",
     "evalue": "[Errno 2] No such file or directory: 'first_file.txt'",
     "output_type": "error",
     "traceback": [
      "\u001b[1;31m---------------------------------------------------------------------------\u001b[0m",
      "\u001b[1;31mFileNotFoundError\u001b[0m                         Traceback (most recent call last)",
      "\u001b[1;32m<ipython-input-4-3d5badf7f711>\u001b[0m in \u001b[0;36m<module>\u001b[1;34m\u001b[0m\n\u001b[1;32m----> 1\u001b[1;33m \u001b[0mmy_file\u001b[0m \u001b[1;33m=\u001b[0m \u001b[0mopen\u001b[0m\u001b[1;33m(\u001b[0m\u001b[1;34m\"first_file.txt\"\u001b[0m\u001b[1;33m)\u001b[0m \u001b[1;31m# bu sözdizimi bir 'txt' dosyası açar\u001b[0m\u001b[1;33m\u001b[0m\u001b[1;33m\u001b[0m\u001b[0m\n\u001b[0m\u001b[0;32m      2\u001b[0m \u001b[1;33m\u001b[0m\u001b[0m\n\u001b[0;32m      3\u001b[0m \u001b[0mprint\u001b[0m\u001b[1;33m(\u001b[0m\u001b[0mtype\u001b[0m\u001b[1;33m(\u001b[0m\u001b[0mmy_file\u001b[0m\u001b[1;33m)\u001b[0m\u001b[1;33m)\u001b[0m\u001b[1;33m\u001b[0m\u001b[1;33m\u001b[0m\u001b[0m\n",
      "\u001b[1;31mFileNotFoundError\u001b[0m: [Errno 2] No such file or directory: 'first_file.txt'"
     ]
    }
   ],
   "source": [
    "my_file = open(\"first_file.txt\") # bu sözdizimi bir 'txt' dosyası açar \n",
    "\n",
    "print(type(my_file))"
   ]
  },
  {
   "cell_type": "code",
   "execution_count": null,
   "id": "f85406e1-e798-4748-94cb-1177c20466bd",
   "metadata": {},
   "outputs": [],
   "source": [
    "my_file = open(\"first_file.txt\", encoding=\"utf-8\") \n",
    "# 'utf8' kodlama biçimini bir öncekiyle aynı şekilde kullandık\n"
   ]
  },
  {
   "cell_type": "markdown",
   "id": "7ceda2b0-0428-46cc-8d00-65f18242e8db",
   "metadata": {},
   "source": [
    "*****READING*****"
   ]
  },
  {
   "cell_type": "markdown",
   "id": "9d40bdef-0cd7-48dc-88b8-45f5fc787e18",
   "metadata": {},
   "source": [
    "Orca is a kind of Dolphin.\n",
    "Blue Whale is the largest animal known on earth.\n",
    "Sharks are the sister group to the Rays (batoids).\n",
    "The Tuna Fish can weigh up to 260 kg.\n",
    "Squid and Octopus are in the same class."
   ]
  },
  {
   "cell_type": "code",
   "execution_count": 10,
   "id": "208d0bd6-9361-41f4-8b50-39b0d902e87e",
   "metadata": {},
   "outputs": [
    {
     "name": "stdout",
     "output_type": "stream",
     "text": [
      "Orca is a kind of Dolphin.\n",
      "Blue Whale is the largest animal known on earth.\n",
      "Sharks are the sister group to the Rays (batoids).\n",
      "The Tuna Fish can weigh up to 260 kg.\n",
      "Squid and Octopus are in the same class.\n"
     ]
    }
   ],
   "source": [
    "file = open(\"fishes.txt\", 'r')    \n",
    "\n",
    "print(file.read())   # tüm metin içeriğini görüntüler \n",
    "\n",
    "file.close()         # dosyayı kapattığınızdan emin olun"
   ]
  },
  {
   "cell_type": "code",
   "execution_count": 11,
   "id": "cbce0f5f-382f-489e-a95c-8e00f0e08f63",
   "metadata": {},
   "outputs": [
    {
     "data": {
      "text/plain": [
       "'Orca is a kind of Dolphin.\\nBlue Whale is the largest animal known on earth.\\nSharks are the sister group to the Rays (batoids).\\nThe Tuna Fish can weigh up to 260 kg.\\nSquid and Octopus are in the same class.'"
      ]
     },
     "execution_count": 11,
     "metadata": {},
     "output_type": "execute_result"
    }
   ],
   "source": [
    "file = open(\"fishes.txt\", 'r',encoding=\"utf-8\")  \n",
    "\n",
    "content = file.read()\n",
    "file.close()\n",
    "\n",
    "content"
   ]
  },
  {
   "cell_type": "code",
   "execution_count": 12,
   "id": "26b60398-1fd4-4ff2-b4df-7d74c894d36e",
   "metadata": {},
   "outputs": [
    {
     "name": "stdout",
     "output_type": "stream",
     "text": [
      "Orca is a kind of Dolphin.\n",
      "Blue W\n"
     ]
    }
   ],
   "source": [
    "file = open(\"fishes.txt\", 'r')    \n",
    "\n",
    "print(file.read(33))   \n",
    "\n",
    "file.close()\n"
   ]
  },
  {
   "cell_type": "code",
   "execution_count": 8,
   "id": "105c914a-68b3-457c-afe1-b3f0ff66eb5d",
   "metadata": {},
   "outputs": [
    {
     "data": {
      "text/plain": [
       "205"
      ]
     },
     "execution_count": 8,
     "metadata": {},
     "output_type": "execute_result"
    }
   ],
   "source": [
    "len(content)"
   ]
  },
  {
   "cell_type": "code",
   "execution_count": 7,
   "id": "4f15182a-44e0-4860-960d-b9516ecaab51",
   "metadata": {},
   "outputs": [
    {
     "name": "stdout",
     "output_type": "stream",
     "text": [
      "205\n",
      "Orca is a kind of Dolphin.\n",
      "Blue Wh\n"
     ]
    }
   ],
   "source": [
    "# dosya = open(\"fishes.txt\",\"r\", encoding=\"UTF-8\")\n",
    "# text = dosya.read()\n",
    "# print(len(text))\n",
    "# print(text[:34])"
   ]
  },
  {
   "cell_type": "code",
   "execution_count": 13,
   "id": "18f938c7-28bc-494c-9c4d-987528eb0c91",
   "metadata": {},
   "outputs": [
    {
     "name": "stdout",
     "output_type": "stream",
     "text": [
      "Orca is a kind of Dolphin.\n",
      "Blue W\n",
      "hale is the largest animal known \n"
     ]
    }
   ],
   "source": [
    "file = open(\"fishes.txt\", 'r') \n",
    "\n",
    "print(file.read(33))\n",
    "print(file.read(33)) # imlec kaldigi yerden 2. 33 luk karakteri okur"
   ]
  },
  {
   "cell_type": "code",
   "execution_count": 14,
   "id": "9288f0ab-fa59-459d-9245-c79913a886e6",
   "metadata": {},
   "outputs": [
    {
     "name": "stdout",
     "output_type": "stream",
     "text": [
      "Orca is a kind of Dolphin.\n",
      "Blue W\n",
      "hale is the largest animal known \n",
      "Orca is a kind of Dolphin.\n",
      "Blue W\n",
      "34\n"
     ]
    }
   ],
   "source": [
    "file = open(\"fishes.txt\", 'r') \n",
    "\n",
    "print(file.read(33))\n",
    "print(file.read(33))\n",
    "\n",
    "file.seek(0)\n",
    "\n",
    "print(file.read(33))\n",
    "print(file.tell())\n",
    "\n",
    "file.close()"
   ]
  },
  {
   "cell_type": "code",
   "execution_count": 15,
   "id": "d507623f-3363-4b3e-860a-84a59f9401a4",
   "metadata": {},
   "outputs": [
    {
     "name": "stdout",
     "output_type": "stream",
     "text": [
      "Orca is a kind of Dolphin.\n",
      "Blue W\n",
      "hale is the lar\n",
      "49\n",
      "Orca is a kind of Dolphin.\n",
      "Blue W\n",
      "34\n"
     ]
    }
   ],
   "source": [
    "file = open(\"fishes.txt\", 'r') \n",
    "\n",
    "print(file.read(33))\n",
    "print(file.read(15))\n",
    "print(file.tell())\n",
    "\n",
    "file.seek(0)\n",
    "\n",
    "print(file.read(33))\n",
    "print(file.tell())\n",
    "\n",
    "file.close()"
   ]
  },
  {
   "cell_type": "code",
   "execution_count": 16,
   "id": "f8a5518d-71e5-4a34-84f8-f3337efc9a15",
   "metadata": {},
   "outputs": [
    {
     "name": "stdout",
     "output_type": "stream",
     "text": [
      "I want to sing\n",
      "Like the birds sing,\n"
     ]
    }
   ],
   "source": [
    "rumi = open(\"rumi.txt\", \"r\", encoding=\"utf-8\")\n",
    "\n",
    "print(rumi.read(35))\n",
    "rumi.close()"
   ]
  },
  {
   "cell_type": "code",
   "execution_count": 17,
   "id": "eb17bcd3-c77c-48ae-ba5b-8efeffa9d133",
   "metadata": {},
   "outputs": [
    {
     "name": "stdout",
     "output_type": "stream",
     "text": [
      "I want to sing\n",
      "Like the birds sing,\n",
      "\n",
      "Not worrying\n"
     ]
    }
   ],
   "source": [
    "rumi = open(\"rumi.txt\", \"r\", encoding=\"utf-8\")\n",
    "\n",
    "print(rumi.read(35))\n",
    "print(rumi.read(13))\n",
    "rumi.close()"
   ]
  },
  {
   "cell_type": "code",
   "execution_count": 20,
   "id": "932a5273-fdd9-4f58-9921-df24a82c7915",
   "metadata": {},
   "outputs": [
    {
     "name": "stdout",
     "output_type": "stream",
     "text": [
      "I want to sing\n",
      "Like the birds sing,\n",
      "\n",
      "Not worrying\n",
      "50\n",
      "\n",
      "Like the birds sing,\n"
     ]
    }
   ],
   "source": [
    "rumi = open(\"rumi.txt\", \"r\", encoding=\"utf-8\")\n",
    "\n",
    "print(rumi.read(35))\n",
    "print(rumi.read(13))\n",
    "print(rumi.tell())\n",
    "\n",
    "rumi.seek(15)\n",
    "print(rumi.read(21))\n",
    "rumi.close()"
   ]
  },
  {
   "cell_type": "code",
   "execution_count": 22,
   "id": "59744a77-7c3f-4256-bc6b-4d4b4e47c6c0",
   "metadata": {},
   "outputs": [
    {
     "data": {
      "text/plain": [
       "'I want to sing\\nLike the birds sing,\\nNot worrying about\\nWho hears or\\nWhat they think.'"
      ]
     },
     "execution_count": 22,
     "metadata": {},
     "output_type": "execute_result"
    }
   ],
   "source": [
    "rumi = open(\"rumi.txt\", 'r',encoding=\"utf-8\")  \n",
    "\n",
    "content = rumi.read()\n",
    "rumi.close()\n",
    "\n",
    "content"
   ]
  },
  {
   "cell_type": "code",
   "execution_count": 39,
   "id": "9ca0945f-c465-4cf8-9e67-4679525da1f3",
   "metadata": {},
   "outputs": [
    {
     "name": "stdout",
     "output_type": "stream",
     "text": [
      "I want to sing\n",
      "\n",
      "16\n",
      "Like the birds sing,\n",
      "\n",
      "38\n",
      "Not worryi\n"
     ]
    }
   ],
   "source": [
    "rumi = open(\"rumi.txt\", \"r\", encoding=\"utf-8\")\n",
    "print(rumi.readline(50))  # readline a satir karakterinden fazla sayi yazilsa bile alt satira gecmez. satir sonunda kalir. \n",
    "                        # yazmasakta satir sonuna gider. Az karakter yazarsak o satirdaki sayi kadar karakter okur\n",
    "print(rumi.tell())\n",
    "print(rumi.readline())\n",
    "print(rumi.tell())\n",
    "print(rumi.readline(10))\n",
    "rumi.close()"
   ]
  },
  {
   "cell_type": "code",
   "execution_count": 24,
   "id": "1f820a5e-7444-4677-9b9d-9a221e06743a",
   "metadata": {},
   "outputs": [
    {
     "name": "stdout",
     "output_type": "stream",
     "text": [
      "Orca is a kind of Dolphin.\n",
      "Blue W\n",
      "\n",
      "hale is the largest anima\n",
      "\n",
      "Orca is a kind of Dolphin.\n",
      "Blue W\n",
      "\n",
      "34\n"
     ]
    }
   ],
   "source": [
    "sea = open(\"fishes.txt\", 'r')   \n",
    "\n",
    "print(sea.read(33))  # displays the first 33 chars of the text # metnin ilk 33 karakterini görüntüler \n",
    "print()\n",
    "print(sea.read(25))  # displays the next 25 chars of the text # sonraki 25 karakteri görüntüler metin içinde \n",
    "print()\n",
    "sea.seek(0)  # changes the stream (cursor) position to zero # sıfıra akışı (imleç) pozisyonunu değiştirir\n",
    "print(sea.read(33))  # displays the first 33 chars again #ilk 33 karakter tekrar görüntüler \n",
    "print()\n",
    "print(sea.tell())  # returns the current stream (cursor) position # geçerli akış (imleç) konumunu döndürür"
   ]
  },
  {
   "cell_type": "code",
   "execution_count": 26,
   "id": "95b90b7b-294d-4e13-849a-c8d22b2ea61a",
   "metadata": {},
   "outputs": [
    {
     "name": "stdout",
     "output_type": "stream",
     "text": [
      "Orca is a kind of Dolphin.\n",
      "Blue Whale is the largest animal known on earth.\n",
      "Sharks are the sister group to the Rays (batoids).\n",
      "The Tuna Fish can weigh up to 260 kg.\n",
      "Squid and Octopus are in the same class.\n"
     ]
    }
   ],
   "source": [
    "sea = open(\"fishes.txt\", 'r')   \n",
    "\n",
    "print(sea.read())\n",
    "sea.close()"
   ]
  },
  {
   "cell_type": "code",
   "execution_count": 23,
   "id": "fe8c48d3-e1f0-47f5-9cc0-3e82964635e1",
   "metadata": {},
   "outputs": [
    {
     "name": "stdout",
     "output_type": "stream",
     "text": [
      "Orca is a kind of Dolphin.\n",
      "\n",
      "Blue Whale is the largest animal known on earth.\n",
      "\n",
      "Sharks are the sister group to the Rays (batoids).\n",
      "\n"
     ]
    }
   ],
   "source": [
    "sea = open(\"fishes.txt\", 'r')   \n",
    "\n",
    "print(sea.readline())  # displays the first line of the text # metnin ilk satırını görüntüler \n",
    "print(sea.readline())  # displays the second line # ikinci satırı görüntüler \n",
    "print(sea.readline())  # each time it goes to the new line # yeni satıra her gittiğinde \n",
    "\n",
    "sea.close() # readline satir satir okur ****************"
   ]
  },
  {
   "cell_type": "code",
   "execution_count": 29,
   "id": "5c53a284-0904-4f8d-99b2-af55bb65e2da",
   "metadata": {},
   "outputs": [
    {
     "name": "stdout",
     "output_type": "stream",
     "text": [
      "Orca is a kin\n",
      "d of Dolphin.\n",
      "\n",
      "\n",
      "Blue Whale is\n"
     ]
    }
   ],
   "source": [
    "sea = open(\"fishes.txt\", 'r')   \n",
    "\n",
    "print(sea.readline(13))   #ilk 13 karakteri okur\n",
    "print(sea.readline(13))   # ikinci 13 karakteri okur\n",
    "print(sea.readline(13))   # ilk satirdaki kalan tek karakter \\n i okur ve enter vurur. \n",
    "                          #ayrica satir bittigi icin enter vurur, 2 satir bosluk olur\n",
    "print(sea.readline(13))  \n",
    "\n",
    "sea.close()"
   ]
  },
  {
   "cell_type": "markdown",
   "id": "974a34b5-e927-45bb-966b-47be100995b2",
   "metadata": {},
   "source": [
    "Gördüğünüz gibi .readline(13), satır boyunca 13 karakter okur ve satır bitene kadar her biri 13 karakter okumaya devam eder \n",
    "ve ancak ondan sonra bir sonraki satıra geçer. Bu örnekte, ilk satırın 27 karakterden oluştuğu göz önüne alındığında,\n",
    "print(sea.readline(13))sözdizimi tüm satırı toplam üç tekrarda okuyabilir. Çıktıda iki boş satır var. \n",
    "Bunlardan biri \\n, ilk satırın son karakterinden ( ) kaynaklanır ve diğeri, \n",
    ".readline()yöntemin her satır arasına koyduğu varsayılan boş satırdan kaynaklanır ."
   ]
  },
  {
   "cell_type": "code",
   "execution_count": 33,
   "id": "44f79034-0424-4472-99ca-9c7e6cd0b936",
   "metadata": {},
   "outputs": [
    {
     "name": "stdout",
     "output_type": "stream",
     "text": [
      "Orca is a kin\n",
      "d of Dolphin.\n",
      "\n",
      "Blue Whale is\n",
      " the largest \n"
     ]
    }
   ],
   "source": [
    "sea = open(\"fishes.txt\", 'r')   \n",
    "\n",
    "print(sea.readline(13))\n",
    "print(sea.readline(23)) # ilk satirdaki tum karakterleri okudugu icin tek enter vurdu\n",
    "print(sea.readline(13))\n",
    "print(sea.readline(13))\n",
    "sea.close()"
   ]
  },
  {
   "cell_type": "code",
   "execution_count": 34,
   "id": "8f58bc34-d39d-48da-9135-debc67fc0755",
   "metadata": {},
   "outputs": [
    {
     "name": "stdout",
     "output_type": "stream",
     "text": [
      "['Orca is a kind of Dolphin.\\n', 'Blue Whale is the largest animal known on earth.\\n', 'Sharks are the sister group to the Rays (batoids).\\n', 'The Tuna Fish can weigh up to 260 kg.\\n', 'Squid and Octopus are in the same class.']\n"
     ]
    }
   ],
   "source": [
    "sea = open(\"fishes.txt\", 'r')   \n",
    "\n",
    "print(sea.readlines()) #readlines olarak okutunca liste olarak veriyor.\n",
    "\n",
    "sea.close()"
   ]
  },
  {
   "cell_type": "code",
   "execution_count": 35,
   "id": "69191f72-4bb7-4af8-8598-9f6886e30d04",
   "metadata": {},
   "outputs": [
    {
     "data": {
      "text/plain": [
       "'Orca is a kind of Dolphin.\\nBlue Whale is the largest animal known on earth.\\nSharks are the sister group to the Rays (batoids).\\nThe Tuna Fish can weigh up to 260 kg.\\nSquid and Octopus are in the same class.'"
      ]
     },
     "execution_count": 35,
     "metadata": {},
     "output_type": "execute_result"
    }
   ],
   "source": [
    "file = open(\"fishes.txt\", 'r',encoding=\"utf-8\")  \n",
    "\n",
    "content = file.read() # read ise tirnak icinde string olarak verir\n",
    "file.close()\n",
    "\n",
    "content"
   ]
  },
  {
   "cell_type": "code",
   "execution_count": null,
   "id": "16a8aa5e-9c39-4655-bbf3-d9d4ce0c7b3d",
   "metadata": {},
   "outputs": [],
   "source": []
  },
  {
   "cell_type": "code",
   "execution_count": 36,
   "id": "4de1fae3-d63e-41c6-b237-acf4a659ecc5",
   "metadata": {},
   "outputs": [
    {
     "name": "stdout",
     "output_type": "stream",
     "text": [
      "Orca is a kind of Dolphin.\n",
      "\n",
      "['Blue Whale is the largest animal known on earth.\\n', 'Sharks are the sister group to the Rays (batoids).\\n', 'The Tuna Fish can weigh up to 260 kg.\\n', 'Squid and Octopus are in the same class.']\n"
     ]
    }
   ],
   "source": [
    "sea = open(\"fishes.txt\", 'r')   \n",
    "\n",
    "print(sea.readline())  # first line\n",
    "print(sea.readlines())  # the rest of the lines\n",
    "\n",
    "sea.close()"
   ]
  },
  {
   "cell_type": "code",
   "execution_count": 40,
   "id": "0d0e7067-e1f7-4ce7-94e4-1c1bd0970483",
   "metadata": {},
   "outputs": [
    {
     "name": "stdout",
     "output_type": "stream",
     "text": [
      "<class 'list'>\n"
     ]
    }
   ],
   "source": [
    "sea = open(\"fishes.txt\", 'r')   \n",
    "\n",
    "print(type(sea.readlines()))\n",
    "\n",
    "sea.close()"
   ]
  },
  {
   "cell_type": "code",
   "execution_count": 42,
   "id": "af0d1e84-32b1-4bd4-b996-8df65a54035f",
   "metadata": {},
   "outputs": [
    {
     "name": "stdout",
     "output_type": "stream",
     "text": [
      "Orca is a kind of Dolphin.\n",
      "\n",
      "Blue Whale is the largest animal known on earth.\n",
      "\n",
      "Sharks are the sister group to the Rays (batoids).\n",
      "\n",
      "The Tuna Fish can weigh up to 260 kg.\n",
      "\n",
      "Squid and Octopus are in the same class.\n"
     ]
    }
   ],
   "source": [
    "sea = open(\"fishes.txt\", 'r')   \n",
    "\n",
    "for line in sea:\n",
    "    print(line)\n",
    "\n",
    "sea.close()"
   ]
  },
  {
   "cell_type": "code",
   "execution_count": 43,
   "id": "06f4a43c-56fa-4c42-8c5c-5172c3fb598a",
   "metadata": {},
   "outputs": [
    {
     "name": "stdout",
     "output_type": "stream",
     "text": [
      "Orca is a kind of Dolphin.\n",
      "\n",
      "Blue Whale is the largest animal known on earth.\n",
      "\n",
      "Sharks are the sister group to the Rays (batoids).\n",
      "\n",
      "The Tuna Fish can weigh up to 260 kg.\n",
      "\n",
      "Squid and Octopus are in the same class.\n"
     ]
    }
   ],
   "source": [
    "sea = open(\"fishes.txt\", 'r')   \n",
    "\n",
    "for line in sea.readlines():\n",
    "    print(line)\n",
    "\n",
    "sea.close()"
   ]
  },
  {
   "cell_type": "code",
   "execution_count": 47,
   "id": "b62dd365-390b-4e7f-86d5-0130375d0791",
   "metadata": {},
   "outputs": [
    {
     "data": {
      "text/plain": [
       "'Orca is a kind of Dolphin.\\n'"
      ]
     },
     "execution_count": 47,
     "metadata": {},
     "output_type": "execute_result"
    }
   ],
   "source": [
    "with open(\"fishes.txt\", \"r\") as file:\n",
    "    fish = file.readline() \n",
    "fish    # ilk satiri string olarak verir"
   ]
  },
  {
   "cell_type": "code",
   "execution_count": 44,
   "id": "20ad6d6e-8386-4aaf-9d06-6259489e0068",
   "metadata": {},
   "outputs": [],
   "source": [
    "with open(\"fishes.txt\", \"r\") as file:\n",
    "    fish = file.readlines()  # needs indented code block # girintili kod bloğuna ihtiyaç duyar"
   ]
  },
  {
   "cell_type": "code",
   "execution_count": 45,
   "id": "e6ed61ba-5266-46ef-95e6-cd698fa681b9",
   "metadata": {},
   "outputs": [
    {
     "data": {
      "text/plain": [
       "['Orca is a kind of Dolphin.\\n',\n",
       " 'Blue Whale is the largest animal known on earth.\\n',\n",
       " 'Sharks are the sister group to the Rays (batoids).\\n',\n",
       " 'The Tuna Fish can weigh up to 260 kg.\\n',\n",
       " 'Squid and Octopus are in the same class.']"
      ]
     },
     "execution_count": 45,
     "metadata": {},
     "output_type": "execute_result"
    }
   ],
   "source": [
    "fish  # butun satirlari sting listesi olarak verir"
   ]
  },
  {
   "cell_type": "code",
   "execution_count": 49,
   "id": "fc068719-c01c-4d3e-bedd-eda72b221a1c",
   "metadata": {},
   "outputs": [
    {
     "name": "stdout",
     "output_type": "stream",
     "text": [
      "Orca is a kind of Dolphin.\n",
      "\n",
      "Blue Whale is the largest animal known on earth.\n",
      "\n",
      "Sharks are the sister group to the Rays (batoids).\n",
      "\n",
      "The Tuna Fish can weigh up to 260 kg.\n",
      "\n",
      "Squid and Octopus are in the same class.\n"
     ]
    }
   ],
   "source": [
    "with open(\"fishes.txt\", \"r\") as file:\n",
    "    for line in file :\n",
    "        print(line)\n",
    "file.close()"
   ]
  },
  {
   "cell_type": "markdown",
   "id": "ee9b2b01-0eeb-4ec1-840c-651a28f93b45",
   "metadata": {},
   "source": [
    "***WRITTING****"
   ]
  },
  {
   "cell_type": "code",
   "execution_count": null,
   "id": "b3d1002e-691a-46b1-9359-a68a9fc21b4b",
   "metadata": {},
   "outputs": [],
   "source": []
  },
  {
   "cell_type": "code",
   "execution_count": 50,
   "id": "542b49c3-d4cc-47ad-b76b-6b9cf50aaa7f",
   "metadata": {},
   "outputs": [
    {
     "name": "stdout",
     "output_type": "stream",
     "text": [
      "This is the first line of my text file\n"
     ]
    }
   ],
   "source": [
    "with open(\"dummy_file.txt\", 'w', encoding=\"utf-8\") as file:  \n",
    "# we create and open the file / yeni bir dosya actik\n",
    "\n",
    "    file.write('This is the first line of my text file')  \n",
    "    # writes str data into file \n",
    "\n",
    "with open(\"dummy_file.txt\", 'r', encoding=\"utf-8\") as file:\n",
    "    print(file.read())  # reads the content of the 'dummy_file'"
   ]
  },
  {
   "cell_type": "code",
   "execution_count": 52,
   "id": "a463542c-6675-48c4-bbc8-f6f172a341c3",
   "metadata": {},
   "outputs": [
    {
     "name": "stdout",
     "output_type": "stream",
     "text": [
      " Volume in drive C is Windows\n",
      " Volume Serial Number is 003B-06CB\n",
      "\n",
      " Directory of C:\\Users\\gbaha\\notebooks\n",
      "\n",
      "16.12.2021  20:11    <DIR>          .\n",
      "08.12.2021  21:21    <DIR>          ..\n",
      "16.12.2021  18:13    <DIR>          .ipynb_checkpoints\n",
      "16.11.2021  16:54            14.203 05KAS2021_Pyton_WS_2.ipynb\n",
      "10.12.2021  16:25            99.077 10_December_Python_Question_Solution.ipynb\n",
      "19.11.2021  19:30             6.225 19_kasim_ws.ipynb\n",
      "22.11.2021  20:57             7.118 Assignment.ipynb\n",
      "01.11.2021  19:54            10.902 Boolean.ipynb\n",
      "09.11.2021  17:50             7.560 Ders calisma 3.ipynb\n",
      "06.12.2021  20:51            31.644 Dictionary_lesson.ipynb\n",
      "16.12.2021  20:08                38 dummy_file.txt\n",
      "13.12.2021  20:42            48.081 Errors & Exceptions.ipynb\n",
      "12.11.2021  12:24             6.108 f format.ipynb\n",
      "16.12.2021  18:22               209 fishes.txt\n",
      "28.11.2021  21:01           107.374 Functions_in_python.ipynb\n",
      "07.12.2021  16:18            15.605 group_4.ipynb\n",
      "12.11.2021  12:18            17.879 If Elif Else.ipynb\n",
      "10.12.2021  17:38           162.688 ITF_10_9_STUDENT.pdf\n",
      "14.12.2021  16:12            15.913 ITF10-workshop-Student.ipynb\n",
      "02.12.2021  17:48             8.897 Joseph work 1.ipynb\n",
      "13.12.2021  19:55            24.220 Joseph work 2.ipynb\n",
      "13.12.2021  20:39             7.155 Joseph work3.ipynb\n",
      "07.12.2021  16:18            23.747 Lambda functions.ipynb\n",
      "15.11.2021  20:32             6.005 List_Comprehension.ipynb\n",
      "15.10.2021  18:39            12.095 Liste fonksiyonlari.ipynb\n",
      "05.11.2021  18:35             6.861 liste islemleri 2.ipynb\n",
      "12.11.2021  17:55             8.017 Liste islemleri.ipynb\n",
      "18.10.2021  19:55            33.957 Listeler.ipynb\n",
      "19.11.2021  16:55             9.089 Mentor ile Soru Cozumu.ipynb\n",
      "07.10.2021  19:41             9.005 Methods.ipynb\n",
      "06.12.2021  20:51            28.610 Modules.ipynb\n",
      "01.11.2021  18:20             6.118 Preclass.ipynb\n",
      "06.12.2021  19:27            47.862 Python plus Fuctions.ipynb\n",
      "17.11.2021  16:11            15.919 Python Workshop (16 Nov 21).ipynb\n",
      "02.11.2021  15:26            84.013 Python_3_session.ipynb\n",
      "16.12.2021  17:34            44.183 python_addct_exercise_3.ipynb\n",
      "16.12.2021  15:58         1.985.559 PYTHON_ADDICT (5).ipynb\n",
      "16.12.2021  15:44           138.720 python_addict_exercise_2.ipynb\n",
      "16.12.2021  15:46            92.378 python_addict_exercise1.ipynb\n",
      "31.10.2021  21:09             5.163 Python_ders_Calisma.ipynb\n",
      "29.10.2021  22:42            14.531 Python_lesson2.ipynb\n",
      "07.12.2021  16:18            11.605 Python_Workshop-3.12.2021.ipynb\n",
      "23.11.2021  16:54            17.599 Raife_Mentor.ipynb\n",
      "16.12.2021  18:45                88 rumi.txt\n",
      "13.12.2021  18:32             8.002 Serbest.ipynb\n",
      "19.11.2021  18:44            16.917 Set_lesson.ipynb\n",
      "07.11.2021  22:33           110.040 sets_Python_10_Session 2.ipynb\n",
      "07.11.2021  19:39            73.706 sets_Python_10_Session.ipynb\n",
      "14.12.2021  17:25             2.609 TW_10.ipynb\n",
      "19.11.2021  16:51               604 Untitled.ipynb\n",
      "16.12.2021  15:55               604 Untitled1.ipynb\n",
      "16.12.2021  18:15               977 Untitled2.ipynb\n",
      "19.11.2021  18:40            26.689 While For.ipynb\n",
      "21.11.2021  22:47           118.815 while_for_loops tekrar.ipynb\n",
      "16.12.2021  20:11            35.896 Working with files.ipynb\n",
      "28.11.2021  21:01            14.340 workshop_26_11.ipynb\n",
      "02.11.2021  18:13             7.506 workshop-3_python_student.ipynb\n",
      "07.12.2021  19:18            10.825 workshop-4(student).ipynb\n",
      "05.11.2021  16:29             7.811 WS_2_soru_cozumu.ipynb\n",
      "12.11.2021  17:09            13.269 ws_4_soru_cozumu_jpynb.ipynb\n",
      "              57 File(s)      3.640.630 bytes\n",
      "               3 Dir(s)  308.948.504.576 bytes free\n"
     ]
    }
   ],
   "source": [
    "ls"
   ]
  },
  {
   "cell_type": "code",
   "execution_count": 53,
   "id": "bb1c7cca-4339-4bca-9e9e-1b0eedcf1e3e",
   "metadata": {},
   "outputs": [
    {
     "name": "stdout",
     "output_type": "stream",
     "text": [
      "This is the new line for my dummy_file\n"
     ]
    }
   ],
   "source": [
    "with open(\"dummy_file.txt\", 'w', encoding=\"utf-8\") as file:\n",
    "    file.write('This is the new line for my dummy_file')  \n",
    "    # we write new str data into it \n",
    "\n",
    "with open(\"dummy_file.txt\", 'r', encoding=\"utf-8\") as file:\n",
    "    print(file.read())  # reads the content of the 'dummy_file'"
   ]
  },
  {
   "cell_type": "code",
   "execution_count": 54,
   "id": "c7bd3377-3c55-40bd-8d16-5ba9025f02ea",
   "metadata": {},
   "outputs": [
    {
     "name": "stdout",
     "output_type": "stream",
     "text": [
      "My first sentenceMy second sentence,My third sentence\n",
      "My fourth sentence My last sentence\n"
     ]
    }
   ],
   "source": [
    "with open(\"dummy_file.txt\", 'w', encoding=\"utf-8\") as file:\n",
    "    file.write('My first sentence')  # dosyayi daha kaydetmedidigi icin butun satirlari yazdirir\n",
    "    file.write('My second sentence,')\n",
    "    file.write('My third sentence\\n') # bu satiri yazdirinca alt satira gecer\n",
    "    file.write('My fourth sentence ')\n",
    "    file.write('My last sentence')\n",
    "\n",
    "with open(\"dummy_file.txt\", 'r', encoding=\"utf-8\") as file:\n",
    "    print(file.read()) # yazim modu 'w' oldugu halde dosyayi kaydetmedigi icin butun satirlari yazip kaydeder\n",
    "                        # tekrar yazmamiz gerekirse uzerine yazar"
   ]
  },
  {
   "cell_type": "code",
   "execution_count": 56,
   "id": "bf76ac49-a550-4303-96eb-41b7941b67df",
   "metadata": {},
   "outputs": [
    {
     "name": "stdout",
     "output_type": "stream",
     "text": [
      "Banana\n",
      "Orange\n",
      "Apple\n",
      "Strawberry\n",
      "Cherry\n",
      "\n",
      "['Banana\\n', 'Orange\\n', 'Apple\\n', 'Strawberry\\n', 'Cherry\\n']\n"
     ]
    }
   ],
   "source": [
    "fruits = ['Banana', 'Orange', 'Apple', 'Strawberry', 'Cherry']\n",
    "\n",
    "with open(\"fruits.txt\", 'w', encoding=\"utf-8\") as file:\n",
    "    for basket in fruits:\n",
    "        file.write(basket + '\\n')  # adds a newline character to each string\n",
    "   \n",
    "with open(\"fruits.txt\", 'r', encoding=\"utf-8\") as file:\n",
    "    print(file.read())  # alt alta cikti alir\n",
    "\n",
    "with open(\"fruits.txt\", 'r', encoding=\"utf-8\") as file:\n",
    "    print(file.readlines())  # liste halinde cikti alir"
   ]
  },
  {
   "cell_type": "code",
   "execution_count": 57,
   "id": "d2d5c893-2c95-4b7c-9a34-9028a2a526e9",
   "metadata": {},
   "outputs": [
    {
     "name": "stdout",
     "output_type": "stream",
     "text": [
      "Banana\n",
      "Orange\n",
      "Apple\n",
      "Strawberry\n",
      "Cherry\n",
      "\n",
      "['Banana\\n', 'Orange\\n', 'Apple\\n', 'Strawberry\\n', 'Cherry\\n']\n"
     ]
    }
   ],
   "source": [
    "fruits = ['Banana\\n', 'Orange\\n', 'Apple\\n', 'Strawberry\\n', 'Cherry\\n']\n",
    "\n",
    "with open(\"fruits2.txt\", 'w', encoding=\"utf-8\") as file2:\n",
    "    file2.writelines(fruits)  # takes an iterator for writing / liste alarak yazdirir\n",
    "   \n",
    "with open(\"fruits2.txt\", 'r', encoding=\"utf-8\") as file2:\n",
    "    print(file2.read())\n",
    "\n",
    "with open(\"fruits2.txt\", 'r', encoding=\"utf-8\") as file2:\n",
    "    print(file2.readlines())"
   ]
  },
  {
   "cell_type": "code",
   "execution_count": 59,
   "id": "786bad6f-ac2c-406b-8b45-1fca7ecfdc52",
   "metadata": {},
   "outputs": [],
   "source": [
    "with open(\"fruits2.txt\", 'a', encoding=\"utf-8\") as file2:\n",
    "    file2.writelines(fruits)  # 'a' devamina birkere daha fruits listesini yazar"
   ]
  },
  {
   "cell_type": "code",
   "execution_count": null,
   "id": "bf9ca155-f26c-4f51-acd5-d331310516e0",
   "metadata": {},
   "outputs": [],
   "source": []
  },
  {
   "cell_type": "code",
   "execution_count": 63,
   "id": "2d2e42c4-fb2b-498c-bc70-8d41cae92d75",
   "metadata": {},
   "outputs": [],
   "source": []
  },
  {
   "cell_type": "code",
   "execution_count": 60,
   "id": "af7cb792-0b9c-4037-8545-6b4032c99846",
   "metadata": {},
   "outputs": [
    {
     "name": "stdout",
     "output_type": "stream",
     "text": [
      "Banana\n",
      "Orange\n",
      "Apple\n",
      "Strawberry\n",
      "Cherry\n",
      "Banana\n",
      "Orange\n",
      "Apple\n",
      "Strawberry\n",
      "Cherry\n",
      "\n"
     ]
    }
   ],
   "source": [
    "with open(\"fruits2.txt\", 'r', encoding=\"utf-8\") as file2:\n",
    "    print(file2.read())"
   ]
  },
  {
   "cell_type": "code",
   "execution_count": null,
   "id": "959b7dd5-c162-4eec-8280-c37370950b8d",
   "metadata": {},
   "outputs": [],
   "source": []
  },
  {
   "cell_type": "code",
   "execution_count": 64,
   "id": "d4d26ff1-cd3a-4754-bd72-333b111252e9",
   "metadata": {},
   "outputs": [],
   "source": [
    "fruits = ['Banana\\n', 'Orange\\n', 'Apple\\n', 'Strawberry\\n', 'Cherry\\n']"
   ]
  },
  {
   "cell_type": "code",
   "execution_count": 66,
   "id": "3ed8bc4a-3a44-42d2-94ee-238652908ef8",
   "metadata": {},
   "outputs": [
    {
     "data": {
      "text/plain": [
       "['Banana\\n', 'Orange\\n', 'Apple\\n', 'Strawberry\\n', 'Cherry\\n', 'Lemon']"
      ]
     },
     "execution_count": 66,
     "metadata": {},
     "output_type": "execute_result"
    }
   ],
   "source": [
    "fruits3 = fruits + [\"Lemon\"]\n",
    "fruits3"
   ]
  },
  {
   "cell_type": "code",
   "execution_count": 67,
   "id": "52d934ce-a21a-47f9-9575-d4559eb2ba07",
   "metadata": {},
   "outputs": [],
   "source": [
    "with open(\"fruits2.txt\", 'a', encoding=\"utf-8\") as file2:\n",
    "    file2.writelines(fruits)"
   ]
  },
  {
   "cell_type": "code",
   "execution_count": 68,
   "id": "f1b32c69-e377-423b-995e-e913a4d97205",
   "metadata": {},
   "outputs": [
    {
     "name": "stdout",
     "output_type": "stream",
     "text": [
      "Banana\n",
      "Orange\n",
      "Apple\n",
      "Strawberry\n",
      "Cherry\n",
      "Banana\n",
      "Orange\n",
      "Apple\n",
      "Strawberry\n",
      "Cherry\n",
      "Banana\n",
      "Orange\n",
      "Apple\n",
      "Strawberry\n",
      "Cherry\n",
      "\n"
     ]
    }
   ],
   "source": [
    "with open(\"fruits2.txt\", 'r', encoding=\"utf-8\") as file2:\n",
    "    print(file2.read())"
   ]
  },
  {
   "cell_type": "code",
   "execution_count": null,
   "id": "cf6c80c5-19c1-46dc-8a32-60a74d9a99a4",
   "metadata": {},
   "outputs": [],
   "source": [
    "fruits = ['Banana\\n', 'Orange\\n', 'Apple\\n', 'Strawberry\\n', 'Cherry\\n']\n",
    "\n",
    "with open(\"fruits.txt\", 'w', encoding=\"utf-8\") as file:\n",
    "    file.writelines(fruits)  # creates a file containing the elements of the list\n",
    "\n",
    "with open(\"fruits.txt\", 'r', encoding=\"utf-8\") as file:\n",
    "    print(file.read())  # reads the content of the file\n",
    "\n",
    "with open(\"fruits.txt\", 'a', encoding=\"utf-8\") as file:\n",
    "    file.write('Melon\\n')  # adds \"Melon\" to the end of the existing file\n",
    "   \n",
    "with open(\"fruits.txt\", 'r', encoding=\"utf-8\") as file:\n",
    "    print(file.read())  # reads the last content of the file\n",
    "\n",
    "with open(\"fruits.txt\", 'r', encoding=\"utf-8\") as file:\n",
    "    print(file.readlines())"
   ]
  },
  {
   "cell_type": "markdown",
   "id": "75dde221-50d7-432c-93c7-872aa7abdbd4",
   "metadata": {},
   "source": [
    "CSV Dosyası Nedir?\n",
    "Tüm programlama dillerinde yaygın olarak kullanılan bir başka dosya türü de CSV dosyalarıdır. \n",
    "CSV , Virgülle Ayrılmış Değerler anlamına gelir . \n",
    "Basit yapısı ve kolay oluşturulması nedeniyle çeşitli içeriklere sahip veriler genellikle bu formatta saklanır."
   ]
  },
  {
   "cell_type": "code",
   "execution_count": null,
   "id": "379fb0e5-fcde-4146-a7c9-e8b44a7c13e7",
   "metadata": {},
   "outputs": [],
   "source": [
    "column 1,column 2,column 3\n",
    "first row 1,first row 2,first row 3\n",
    "second row 1,second row 2,second row 3\n",
    "third row 1,third row 2,third row 3\n",
    ".\n",
    ".\n",
    "."
   ]
  },
  {
   "cell_type": "code",
   "execution_count": null,
   "id": "a87b4be4-ae4e-4635-99cf-b8621793bc37",
   "metadata": {},
   "outputs": [],
   "source": [
    "no,fruit,amount\n",
    "1,Banana,4 lb\n",
    "2,Orange,5 lb\n",
    "3,Apple,2 lb\n",
    "4,Strawberry,6 lb\n",
    "5,Cherry,3 lb\n",
    "\n",
    "# CSV dosyamız 3 sütun ve 5 satırdan oluşmaktadır. uzantisi .csv olan bir tablodur"
   ]
  },
  {
   "cell_type": "code",
   "execution_count": 9,
   "id": "3f19a751-f865-430b-975e-57933ef82c49",
   "metadata": {},
   "outputs": [
    {
     "name": "stdout",
     "output_type": "stream",
     "text": [
      "no,fruit,amount\n",
      "1,Banana,4 lb\n",
      "2,Orange,5 lb\n",
      "3,Apple,2 lb\n",
      "4,Strawberry,6 lb\n",
      "5,Cherry,3 lb\n"
     ]
    }
   ],
   "source": [
    "with open(\"fruits.csv\", 'r', encoding=\"utf-8\") as file:\n",
    "    print(file.read())"
   ]
  },
  {
   "cell_type": "code",
   "execution_count": null,
   "id": "be545c3b-b761-4cb2-931f-33d053ea29e1",
   "metadata": {},
   "outputs": [],
   "source": [
    "import csv  # loads csv module\n",
    "\n",
    "with open(\"fruits.csv\", 'r', newline = '', encoding = 'utf-8') as file:\n",
    "    csv_rows = csv.reader(file)  # reader() function takes each\n",
    "                                 # row (lines) into a list\n",
    "    for row in csv_rows: \n",
    "        print(row)      "
   ]
  },
  {
   "cell_type": "code",
   "execution_count": null,
   "id": "ecbd512d-aff0-41ad-92de-54126c6156dc",
   "metadata": {},
   "outputs": [],
   "source": [
    "Gördüğünüz gibi, satırlar listtipte görüntülenir . \n",
    "Satırların her öğesi, içinde ayrı list dizeler olarak bulunur . \n",
    "Her birinde üç list dize vardır ."
   ]
  },
  {
   "cell_type": "code",
   "execution_count": null,
   "id": "b54136da-23e1-4f32-9297-22af1246c128",
   "metadata": {},
   "outputs": [],
   "source": [
    "import csv\n",
    "\n",
    "with open(\"fruits.csv\", 'r', newline = '', encoding = 'utf-8') as file:\n",
    "    csv_rows = csv.reader(file, delimiter= \",\")  # gives the same output as the previous one\n",
    "                                 \n",
    "    for row in csv_rows: \n",
    "        print(row)  \n",
    "        \n",
    "#delimiterParametrenin varsayılan değeri \",\". Böylece, virgülle ayrılmış her elemanı ayrı dizeler olarak görüntüleyebiliriz.         "
   ]
  },
  {
   "cell_type": "code",
   "execution_count": null,
   "id": "87f83d73-9d34-47ad-b8b4-88f45e07a620",
   "metadata": {},
   "outputs": [],
   "source": [
    "import csv \n",
    "\n",
    "with open(\"fruits.csv\", 'r', newline = '', encoding = 'utf-8') as file:\n",
    "    csv_rows = csv.reader(file, delimiter = ':')  # we specified a char \":\" that is not used\n",
    "                                                  # in the csv file as a value of delimiter\n",
    "    for row in csv_rows: \n",
    "        print(row)      \n",
    "        \n",
    "#Evet, başka bir listtür çıktı aldık . Bir öncekinden farklı olarak, her satır (liste) tek bir dize içerir.        "
   ]
  },
  {
   "cell_type": "code",
   "execution_count": 4,
   "id": "39952e30-808a-4182-8f40-f9e9bc7f4b6f",
   "metadata": {},
   "outputs": [
    {
     "name": "stdout",
     "output_type": "stream",
     "text": [
      "\n"
     ]
    }
   ],
   "source": [
    "istiklal = open(\"istiklal.txt\", 'r', encoding=\"utf-8\")\n",
    "\n",
    "print(istiklal.read())\n",
    "\n",
    "istiklal.close()"
   ]
  },
  {
   "cell_type": "code",
   "execution_count": 5,
   "id": "1c0af572-d845-40df-b3fe-23b0e6872702",
   "metadata": {},
   "outputs": [
    {
     "data": {
      "text/plain": [
       "['Korkma, sönmez bu şafaklarda yüzen al sancak;\\n',\n",
       " 'Sönmeden yurdumun üstünde tüten en son ocak.\\n',\n",
       " 'O benim milletimin yıldızıdır, parlayacak;\\n',\n",
       " 'O benimdir, o benim milletimindir ancak.\\n',\n",
       " 'Çatma, kurban olayım, çehreni ey nazlı hilal!\\n',\n",
       " 'Kahraman ırkıma bir gül! Ne bu şiddet, bu celal?\\n',\n",
       " 'Sana olmaz dökülen kanlarımız sonra helal...\\n',\n",
       " \"Hakkıdır, hakk'a tapan, milletimin istiklal!\\n\",\n",
       " 'Ben ezelden beridir hür yaşadım, hür yaşarım.\\n',\n",
       " 'Hangi çılgın bana zincir vuracakmış? Şaşarım!\\n',\n",
       " 'Kükremiş sel gibiyim, bendimi çiğner, aşarım.\\n',\n",
       " 'Yırtarım dağları, enginlere sığmam, taşarım.\\n',\n",
       " 'Garbın afakını sarmışsa çelik zırhlı duvar,\\n',\n",
       " 'Benim iman dolu göğsüm gibi serhaddim var.\\n',\n",
       " 'Ulusun, korkma! Nasıl böyle bir imanı boğar,\\n',\n",
       " \"'Medeniyet!' dediğin tek dişi kalmış canavar?\\n\",\n",
       " 'Arkadaş! Yurduma alçakları uğratma, sakın.\\n',\n",
       " 'Siper et gövdeni, dursun bu hayasızca akın.\\n',\n",
       " \"Doğacaktır sana va'dettigi günler hakk'ın...\\n\",\n",
       " 'Kim bilir, belki yarın, belki yarından da yakın.\\n',\n",
       " \"Bastığın yerleri 'toprak!' diyerek geçme, tanı:\\n\",\n",
       " 'Düşün altında binlerce kefensiz yatanı.\\n',\n",
       " 'Sen şehit oğlusun, incitme, yazıktır, atanı:\\n',\n",
       " 'Verme, dünyaları alsan da, bu cennet vatanı.\\n',\n",
       " 'Kim bu cennet vatanın uğruna olmaz ki feda?\\n',\n",
       " 'Şuheda fışkıracak toprağı sıksan, şuheda!\\n',\n",
       " 'Canı, cananı, bütün varımı alsın da hüda,\\n',\n",
       " 'Etmesin tek vatanımdan beni dünyada cüda.\\n',\n",
       " 'Ruhumun senden, ilahi, şudur ancak emeli:\\n',\n",
       " 'Değmesin mabedimin göğsüne namahrem eli.\\n',\n",
       " 'Bu ezanlar-ki şahadetleri dinin temeli,\\n',\n",
       " 'Ebedi yurdumun üstünde benim inlemeli.\\n']"
      ]
     },
     "execution_count": 5,
     "metadata": {},
     "output_type": "execute_result"
    }
   ],
   "source": [
    "with open(\"istiklal.txt\", \"r\", encoding=\"utf-8\") as file :\n",
    "    lines = file.readlines() # once readlines ile satirlari listeleriz\n",
    "lines"
   ]
  },
  {
   "cell_type": "code",
   "execution_count": 6,
   "id": "cf078592-e6dd-4ec6-ac9e-6700c8d6c792",
   "metadata": {},
   "outputs": [
    {
     "name": "stdout",
     "output_type": "stream",
     "text": [
      "Korkma, sönmez bu şafaklarda yüzen al sancak;\n",
      "Sönmeden yurdumun üstünde tüten en son ocak.\n",
      "O benim milletimin yıldızıdır, parlayacak;\n",
      "O benimdir, o benim milletimindir ancak.\n",
      "\n",
      "Çatma, kurban olayım, çehreni ey nazlı hilal!\n",
      "Kahraman ırkıma bir gül! Ne bu şiddet, bu celal?\n",
      "Sana olmaz dökülen kanlarımız sonra helal...\n",
      "Hakkıdır, hakk'a tapan, milletimin istiklal!\n",
      "\n",
      "Ben ezelden beridir hür yaşadım, hür yaşarım.\n",
      "Hangi çılgın bana zincir vuracakmış? Şaşarım!\n",
      "Kükremiş sel gibiyim, bendimi çiğner, aşarım.\n",
      "Yırtarım dağları, enginlere sığmam, taşarım.\n",
      "\n",
      "Garbın afakını sarmışsa çelik zırhlı duvar,\n",
      "Benim iman dolu göğsüm gibi serhaddim var.\n",
      "Ulusun, korkma! Nasıl böyle bir imanı boğar,\n",
      "'Medeniyet!' dediğin tek dişi kalmış canavar?\n",
      "\n",
      "Arkadaş! Yurduma alçakları uğratma, sakın.\n",
      "Siper et gövdeni, dursun bu hayasızca akın.\n",
      "Doğacaktır sana va'dettigi günler hakk'ın...\n",
      "Kim bilir, belki yarın, belki yarından da yakın.\n",
      "\n",
      "Bastığın yerleri 'toprak!' diyerek geçme, tanı:\n",
      "Düşün altında binlerce kefensiz yatanı.\n",
      "Sen şehit oğlusun, incitme, yazıktır, atanı:\n",
      "Verme, dünyaları alsan da, bu cennet vatanı.\n",
      "\n",
      "Kim bu cennet vatanın uğruna olmaz ki feda?\n",
      "Şuheda fışkıracak toprağı sıksan, şuheda!\n",
      "Canı, cananı, bütün varımı alsın da hüda,\n",
      "Etmesin tek vatanımdan beni dünyada cüda.\n",
      "\n",
      "Ruhumun senden, ilahi, şudur ancak emeli:\n",
      "Değmesin mabedimin göğsüne namahrem eli.\n",
      "Bu ezanlar-ki şahadetleri dinin temeli,\n",
      "Ebedi yurdumun üstünde benim inlemeli.\n",
      "\n",
      "\n"
     ]
    }
   ],
   "source": [
    "counter = 0\n",
    "\n",
    "with open(\"istiklal.txt\", 'w', encoding=\"utf-8\") as file:\n",
    "   \n",
    "    for i in lines :\n",
    "        counter += 1\n",
    "        if counter % 4 == 0 :\n",
    "            file.write(i + \"\\n\")\n",
    "        else :\n",
    "            file.write(i)\n",
    "            \n",
    "with open(\"istiklal.txt\", 'r', encoding = 'utf-8') as file:\n",
    "    print(file.read())"
   ]
  },
  {
   "cell_type": "code",
   "execution_count": 7,
   "id": "c2119ab1-f8ed-4276-9a83-436b5d335ef4",
   "metadata": {},
   "outputs": [
    {
     "data": {
      "text/plain": [
       "['Korkma, sÃ¶nmez bu ÅŸafaklarda yÃ¼zen al sancak;\\n',\n",
       " 'SÃ¶nmeden yurdumun Ã¼stÃ¼nde tÃ¼ten en son ocak.\\n',\n",
       " 'O benim milletimin yÄ±ldÄ±zÄ±dÄ±r, parlayacak;\\n',\n",
       " 'O benimdir, o benim milletimindir ancak.\\n',\n",
       " '\\n',\n",
       " 'Ã‡atma, kurban olayÄ±m, Ã§ehreni ey nazlÄ± hilal!\\n',\n",
       " 'Kahraman Ä±rkÄ±ma bir gÃ¼l! Ne bu ÅŸiddet, bu celal?\\n',\n",
       " 'Sana olmaz dÃ¶kÃ¼len kanlarÄ±mÄ±z sonra helal...\\n',\n",
       " \"HakkÄ±dÄ±r, hakk'a tapan, milletimin istiklal!\\n\",\n",
       " '\\n',\n",
       " 'Ben ezelden beridir hÃ¼r yaÅŸadÄ±m, hÃ¼r yaÅŸarÄ±m.\\n',\n",
       " 'Hangi Ã§Ä±lgÄ±n bana zincir vuracakmÄ±ÅŸ? ÅžaÅŸarÄ±m!\\n',\n",
       " 'KÃ¼kremiÅŸ sel gibiyim, bendimi Ã§iÄŸner, aÅŸarÄ±m.\\n',\n",
       " 'YÄ±rtarÄ±m daÄŸlarÄ±, enginlere sÄ±ÄŸmam, taÅŸarÄ±m.\\n',\n",
       " '\\n',\n",
       " 'GarbÄ±n afakÄ±nÄ± sarmÄ±ÅŸsa Ã§elik zÄ±rhlÄ± duvar,\\n',\n",
       " 'Benim iman dolu gÃ¶ÄŸsÃ¼m gibi serhaddim var.\\n',\n",
       " 'Ulusun, korkma! NasÄ±l bÃ¶yle bir imanÄ± boÄŸar,\\n',\n",
       " \"'Medeniyet!' dediÄŸin tek diÅŸi kalmÄ±ÅŸ canavar?\\n\",\n",
       " '\\n',\n",
       " 'ArkadaÅŸ! Yurduma alÃ§aklarÄ± uÄŸratma, sakÄ±n.\\n',\n",
       " 'Siper et gÃ¶vdeni, dursun bu hayasÄ±zca akÄ±n.\\n',\n",
       " \"DoÄŸacaktÄ±r sana va'dettigi gÃ¼nler hakk'Ä±n...\\n\",\n",
       " 'Kim bilir, belki yarÄ±n, belki yarÄ±ndan da yakÄ±n.\\n',\n",
       " '\\n',\n",
       " \"BastÄ±ÄŸÄ±n yerleri 'toprak!' diyerek geÃ§me, tanÄ±:\\n\",\n",
       " 'DÃ¼ÅŸÃ¼n altÄ±nda binlerce kefensiz yatanÄ±.\\n',\n",
       " 'Sen ÅŸehit oÄŸlusun, incitme, yazÄ±ktÄ±r, atanÄ±:\\n',\n",
       " 'Verme, dÃ¼nyalarÄ± alsan da, bu cennet vatanÄ±.\\n',\n",
       " '\\n',\n",
       " 'Kim bu cennet vatanÄ±n uÄŸruna olmaz ki feda?\\n',\n",
       " 'Åžuheda fÄ±ÅŸkÄ±racak topraÄŸÄ± sÄ±ksan, ÅŸuheda!\\n',\n",
       " 'CanÄ±, cananÄ±, bÃ¼tÃ¼n varÄ±mÄ± alsÄ±n da hÃ¼da,\\n',\n",
       " 'Etmesin tek vatanÄ±mdan beni dÃ¼nyada cÃ¼da.\\n',\n",
       " '\\n',\n",
       " 'Ruhumun senden, ilahi, ÅŸudur ancak emeli:\\n',\n",
       " 'DeÄŸmesin mabedimin gÃ¶ÄŸsÃ¼ne namahrem eli.\\n',\n",
       " 'Bu ezanlar-ki ÅŸahadetleri dinin temeli,\\n',\n",
       " 'Ebedi yurdumun Ã¼stÃ¼nde benim inlemeli.\\n',\n",
       " '\\n']"
      ]
     },
     "execution_count": 7,
     "metadata": {},
     "output_type": "execute_result"
    }
   ],
   "source": [
    "with open(\"istiklal.txt\") as f :\n",
    "    lines_new = f.readlines()\n",
    "lines_new"
   ]
  },
  {
   "cell_type": "code",
   "execution_count": 8,
   "id": "65a5b27d-c0b9-47f0-8159-f092bce56b2b",
   "metadata": {},
   "outputs": [
    {
     "name": "stdout",
     "output_type": "stream",
     "text": [
      "Korkma, sönmez bu şafaklarda yüzen al sancak;\n",
      "Sönmeden yurdumun üstünde tüten en son ocak.\n",
      "O benim milletimin yıldızıdır, parlayacak;\n",
      "O benimdir, o benim milletimindir ancak.\n",
      "\n",
      "Çatma, kurban olayım, çehreni ey nazlı hilal!\n",
      "Kahraman ırkıma bir gül! Ne bu şiddet, bu celal?\n",
      "Sana olmaz dökülen kanlarımız sonra helal...\n",
      "Hakkıdır, hakk'a tapan, milletimin istiklal!\n",
      "\n",
      "Ben ezelden beridir hür yaşadım, hür yaşarım.\n",
      "Hangi çılgın bana zincir vuracakmış? Şaşarım!\n",
      "Kükremiş sel gibiyim, bendimi çiğner, aşarım.\n",
      "Yırtarım dağları, enginlere sığmam, taşarım.\n",
      "\n",
      "Garbın afakını sarmışsa çelik zırhlı duvar,\n",
      "Benim iman dolu göğsüm gibi serhaddim var.\n",
      "Ulusun, korkma! Nasıl böyle bir imanı boğar,\n",
      "'Medeniyet!' dediğin tek dişi kalmış canavar?\n",
      "\n",
      "Arkadaş! Yurduma alçakları uğratma, sakın.\n",
      "Siper et gövdeni, dursun bu hayasızca akın.\n",
      "Doğacaktır sana va'dettigi günler hakk'ın...\n",
      "Kim bilir, belki yarın, belki yarından da yakın.\n",
      "\n",
      "Bastığın yerleri 'toprak!' diyerek geçme, tanı:\n",
      "Düşün altında binlerce kefensiz yatanı.\n",
      "Sen şehit oğlusun, incitme, yazıktır, atanı:\n",
      "Verme, dünyaları alsan da, bu cennet vatanı.\n",
      "\n",
      "Kim bu cennet vatanın uğruna olmaz ki feda?\n",
      "Şuheda fışkıracak toprağı sıksan, şuheda!\n",
      "Canı, cananı, bütün varımı alsın da hüda,\n",
      "Etmesin tek vatanımdan beni dünyada cüda.\n",
      "\n",
      "Ruhumun senden, ilahi, şudur ancak emeli:\n",
      "Değmesin mabedimin göğsüne namahrem eli.\n",
      "Bu ezanlar-ki şahadetleri dinin temeli,\n",
      "Ebedi yurdumun üstünde benim inlemeli.\n",
      "\n",
      "Korkma, sÃ¶nmez bu ÅŸafaklarda yÃ¼zen al sancak;\n",
      "SÃ¶nmeden yurdumun Ã¼stÃ¼nde tÃ¼ten en son ocak.\n",
      "O benim milletimin yÄ±ldÄ±zÄ±dÄ±r, parlayacak;\n",
      "O benimdir, o benim milletimindir ancak.\n",
      "Ã‡atma, kurban olayÄ±m, Ã§ehreni ey nazlÄ± hilal!\n",
      "Kahraman Ä±rkÄ±ma bir gÃ¼l! Ne bu ÅŸiddet, bu celal?\n",
      "Sana olmaz dÃ¶kÃ¼len kanlarÄ±mÄ±z sonra helal...\n",
      "HakkÄ±dÄ±r, hakk'a tapan, milletimin istiklal!\n",
      "Ben ezelden beridir hÃ¼r yaÅŸadÄ±m, hÃ¼r yaÅŸarÄ±m.\n",
      "Hangi Ã§Ä±lgÄ±n bana zincir vuracakmÄ±ÅŸ? ÅžaÅŸarÄ±m!\n",
      "KÃ¼kremiÅŸ sel gibiyim, bendimi Ã§iÄŸner, aÅŸarÄ±m.\n",
      "YÄ±rtarÄ±m daÄŸlarÄ±, enginlere sÄ±ÄŸmam, taÅŸarÄ±m.\n",
      "GarbÄ±n afakÄ±nÄ± sarmÄ±ÅŸsa Ã§elik zÄ±rhlÄ± duvar,\n",
      "Benim iman dolu gÃ¶ÄŸsÃ¼m gibi serhaddim var.\n",
      "Ulusun, korkma! NasÄ±l bÃ¶yle bir imanÄ± boÄŸar,\n",
      "'Medeniyet!' dediÄŸin tek diÅŸi kalmÄ±ÅŸ canavar?\n",
      "ArkadaÅŸ! Yurduma alÃ§aklarÄ± uÄŸratma, sakÄ±n.\n",
      "Siper et gÃ¶vdeni, dursun bu hayasÄ±zca akÄ±n.\n",
      "DoÄŸacaktÄ±r sana va'dettigi gÃ¼nler hakk'Ä±n...\n",
      "Kim bilir, belki yarÄ±n, belki yarÄ±ndan da yakÄ±n.\n",
      "BastÄ±ÄŸÄ±n yerleri 'toprak!' diyerek geÃ§me, tanÄ±:\n",
      "DÃ¼ÅŸÃ¼n altÄ±nda binlerce kefensiz yatanÄ±.\n",
      "Sen ÅŸehit oÄŸlusun, incitme, yazÄ±ktÄ±r, atanÄ±:\n",
      "Verme, dÃ¼nyalarÄ± alsan da, bu cennet vatanÄ±.\n",
      "Kim bu cennet vatanÄ±n uÄŸruna olmaz ki feda?\n",
      "Åžuheda fÄ±ÅŸkÄ±racak topraÄŸÄ± sÄ±ksan, ÅŸuheda!\n",
      "CanÄ±, cananÄ±, bÃ¼tÃ¼n varÄ±mÄ± alsÄ±n da hÃ¼da,\n",
      "Etmesin tek vatanÄ±mdan beni dÃ¼nyada cÃ¼da.\n",
      "Ruhumun senden, ilahi, ÅŸudur ancak emeli:\n",
      "DeÄŸmesin mabedimin gÃ¶ÄŸsÃ¼ne namahrem eli.\n",
      "Bu ezanlar-ki ÅŸahadetleri dinin temeli,\n",
      "Ebedi yurdumun Ã¼stÃ¼nde benim inlemeli.\n",
      "\n"
     ]
    }
   ],
   "source": [
    "with open(\"istiklal.txt\", \"a\", encoding=\"utf-8\") as f :\n",
    "    \n",
    "    for i in lines_new :\n",
    "        \n",
    "        if i == \"\\n\" :\n",
    "            pass\n",
    "        else :\n",
    "            f.write(i)\n",
    "            \n",
    "with open(\"istiklal.txt\", \"r\", encoding=\"utf-8\") as f :\n",
    "    print(f.read())        "
   ]
  },
  {
   "cell_type": "code",
   "execution_count": null,
   "id": "0058f70a-9dcb-470a-b073-47f373865af4",
   "metadata": {},
   "outputs": [],
   "source": []
  }
 ],
 "metadata": {
  "kernelspec": {
   "display_name": "Python 3",
   "language": "python",
   "name": "python3"
  },
  "language_info": {
   "codemirror_mode": {
    "name": "ipython",
    "version": 3
   },
   "file_extension": ".py",
   "mimetype": "text/x-python",
   "name": "python",
   "nbconvert_exporter": "python",
   "pygments_lexer": "ipython3",
   "version": "3.8.8"
  }
 },
 "nbformat": 4,
 "nbformat_minor": 5
}
