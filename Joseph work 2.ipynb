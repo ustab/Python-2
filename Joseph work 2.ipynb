{
 "cells": [
  {
   "cell_type": "code",
   "execution_count": 1,
   "id": "4cef2ce0-61cd-4507-ae53-8c6d950435d8",
   "metadata": {},
   "outputs": [],
   "source": [
    "command = [\"right 20\", \"right 30\", \"left 50\", \"up 10\", \"down 20\"]\n"
   ]
  },
  {
   "cell_type": "code",
   "execution_count": 2,
   "id": "0ada7cd1-5a5d-4b58-ab25-d8f69e23f183",
   "metadata": {},
   "outputs": [
    {
     "data": {
      "text/plain": [
       "['right 20', 'right 30', 'left 50', 'up 10', 'down 20']"
      ]
     },
     "execution_count": 2,
     "metadata": {},
     "output_type": "execute_result"
    }
   ],
   "source": [
    "command"
   ]
  },
  {
   "cell_type": "code",
   "execution_count": 3,
   "id": "d82b21df-0401-4905-8a31-e92f5320be2a",
   "metadata": {},
   "outputs": [
    {
     "name": "stdout",
     "output_type": "stream",
     "text": [
      "[0, -10]\n"
     ]
    }
   ],
   "source": [
    "command = [\"right 20\", \"right 30\", \"left 50\", \"up 10\", \"down 20\"]\n",
    "koordinat = [i.split() for i in command]\n",
    "x, y = 0, 0\n",
    "for z in koordinat :\n",
    "    if z[0] == \"right\" : \n",
    "        x += int(z[1])\n",
    "    elif z[0] == \"left\" :\n",
    "        x -= int(z[1])\n",
    "    elif z[0] == \"up\" :\n",
    "        y += int(z[1])\n",
    "    elif z[0] == \"down\" :\n",
    "        y -= int(z[1])   \n",
    "print([x, y])"
   ]
  },
  {
   "cell_type": "code",
   "execution_count": 4,
   "id": "ab660d22-db10-43a6-9b0d-93544bf6ad89",
   "metadata": {},
   "outputs": [
    {
     "name": "stdout",
     "output_type": "stream",
     "text": [
      "0 -10\n"
     ]
    }
   ],
   "source": [
    "x=0\n",
    "y=0\n",
    "komut=[]\n",
    "for i in command:\n",
    "    i=i.split()\n",
    "    komut.append(i)\n",
    "komut\n",
    "for j in komut:\n",
    "    if j[0]==\"right\":\n",
    "        x += int(j[1])\n",
    "    elif j[0]==\"left\":\n",
    "        x -= int(j[1])\n",
    "    elif j[0]==\"up\":\n",
    "        y += int(j[1])\n",
    "    else :\n",
    "        y -= int(j[1])\n",
    "print(x,y)"
   ]
  },
  {
   "cell_type": "code",
   "execution_count": 5,
   "id": "45a6ef0a-5f30-4621-883a-69ecdc8bfd9c",
   "metadata": {},
   "outputs": [
    {
     "name": "stdout",
     "output_type": "stream",
     "text": [
      "[0, -10]\n"
     ]
    }
   ],
   "source": [
    "command = [\"right 20\", \"right 30\", \"left 50\", \"up 10\", \"down 20\"]\n",
    "x = y = 0\n",
    "for i in range(len(command)) :   \n",
    "    if command[i].startswith(\"r\") : x = x + int(command[i].split()[1])\n",
    "    elif command[i].startswith(\"l\") : x = x - int(command[i].split()[1])    \n",
    "    elif command[i].startswith(\"u\") : y = y + int(command[i].split()[1])    \n",
    "    elif command[i].startswith(\"d\") : y = y - int(command[i].split()[1]) \n",
    "print([x, y])        \n",
    "        "
   ]
  },
  {
   "cell_type": "markdown",
   "id": "28bff3ff-7ad7-4ae2-9c00-d0e4a7dba02a",
   "metadata": {},
   "source": [
    "Walid paranthesis\n",
    "Given a string containing just the characters '(', ')', '{', '}', '[' and ']',\n",
    "determine if the input string is valid.\n",
    "An input string is valid if:\n",
    "Open brackets must be closed by the same type of brackets.\n",
    "Open brackets must be closed in the correct order.\n",
    "Note that an empty string is also considered valid.\n",
    "Example 1:\n",
    "Input: \"()\"\n",
    "Output: True\n",
    "Example 2:\n",
    "Input: \"()[]{}\"\n",
    "Output: True\n",
    "Example 3:\n",
    "Input: \"(]\"\n",
    "Output: False\n",
    "Example 4:\n",
    "Input: \"([)]\"\n",
    "Output: False\n",
    "Example 5:\n",
    "Input: \"{[]}\"\n",
    "Output: True\n"
   ]
  },
  {
   "cell_type": "code",
   "execution_count": 6,
   "id": "495ffe13-037d-4ffd-bba6-6dde7b2287b4",
   "metadata": {},
   "outputs": [],
   "source": [
    "x = \"[([{({})}]({}))\"\n"
   ]
  },
  {
   "cell_type": "code",
   "execution_count": 7,
   "id": "7d96c7d0-8816-469e-b736-46f314e82371",
   "metadata": {},
   "outputs": [
    {
     "data": {
      "text/plain": [
       "'ali+deli+veli'"
      ]
     },
     "execution_count": 7,
     "metadata": {},
     "output_type": "execute_result"
    }
   ],
   "source": [
    "\"ali-deli-veli\".replace(\"-\", \"+\")  # replace metodunda ilk eleman degistirilecek, \n",
    "                                 #  ikinci eleman da yerine konacak elemandir"
   ]
  },
  {
   "cell_type": "code",
   "execution_count": 8,
   "id": "7f5a406b-facc-4b64-8da6-360c91585216",
   "metadata": {},
   "outputs": [],
   "source": [
    "def isValid(s) :\n",
    "    while \"()\" in s or \"[]\" in s or \"{}\" in s :\n",
    "        s = s.replace(\"()\", \"\").replace(\"[]\", \"\").replace(\"{}\", \"\")\n",
    "    return s == \"\""
   ]
  },
  {
   "cell_type": "code",
   "execution_count": 9,
   "id": "12d2ebae-799d-4389-91b3-84cbd3c78b41",
   "metadata": {},
   "outputs": [
    {
     "data": {
      "text/plain": [
       "False"
      ]
     },
     "execution_count": 9,
     "metadata": {},
     "output_type": "execute_result"
    }
   ],
   "source": [
    "isValid(x)"
   ]
  },
  {
   "cell_type": "code",
   "execution_count": 10,
   "id": "188cc563-a5e4-49ab-864f-eadf392c8a7b",
   "metadata": {},
   "outputs": [
    {
     "data": {
      "text/plain": [
       "True"
      ]
     },
     "execution_count": 10,
     "metadata": {},
     "output_type": "execute_result"
    }
   ],
   "source": [
    "isValid(\"()[]{}\")"
   ]
  },
  {
   "cell_type": "markdown",
   "id": "80e8d70d-c78b-4ef2-a00d-a19090c53200",
   "metadata": {},
   "source": [
    "Building a Calculator using with lambda expression"
   ]
  },
  {
   "cell_type": "code",
   "execution_count": 11,
   "id": "75f09c80-6cf1-4e23-bd3c-62599ac6616d",
   "metadata": {},
   "outputs": [
    {
     "data": {
      "text/plain": [
       "9"
      ]
     },
     "execution_count": 11,
     "metadata": {},
     "output_type": "execute_result"
    }
   ],
   "source": [
    "(lambda x, y : x + y)(4, 5)"
   ]
  },
  {
   "cell_type": "code",
   "execution_count": 12,
   "id": "e97ffed4-ef86-463f-9116-a64bdf284c0d",
   "metadata": {},
   "outputs": [],
   "source": [
    "bir_dict = {\"ne_diyorum\" : \"sesimi duy\",\n",
    "          \"neden\" : [\"bilmiyorum\"]\n",
    "          }"
   ]
  },
  {
   "cell_type": "code",
   "execution_count": 13,
   "id": "21c30712-afd8-43af-8970-72ad73c39e7a",
   "metadata": {},
   "outputs": [
    {
     "data": {
      "text/plain": [
       "['bilmiyorum']"
      ]
     },
     "execution_count": 13,
     "metadata": {},
     "output_type": "execute_result"
    }
   ],
   "source": [
    "bir_dict[\"neden\"]"
   ]
  },
  {
   "cell_type": "code",
   "execution_count": 14,
   "id": "ae3b6a22-0828-429b-b954-c4ec801c3e7a",
   "metadata": {},
   "outputs": [],
   "source": [
    "calculator = {\"+\" : (lambda x, y : x + y),\n",
    "              \"-\" : (lambda x, y : x - y),\n",
    "              \"*\" : (lambda x, y : x * y),\n",
    "              \"/\" : (lambda x, y : x / y)}"
   ]
  },
  {
   "cell_type": "code",
   "execution_count": 15,
   "id": "73fd2db3-f6f4-4421-87cd-cab90b7a9572",
   "metadata": {},
   "outputs": [
    {
     "data": {
      "text/plain": [
       "<function __main__.<lambda>(x, y)>"
      ]
     },
     "execution_count": 15,
     "metadata": {},
     "output_type": "execute_result"
    }
   ],
   "source": [
    "calculator[\"+\"]"
   ]
  },
  {
   "cell_type": "code",
   "execution_count": 16,
   "id": "bececa0a-d32f-4fa8-8994-a26dc63fd9a1",
   "metadata": {},
   "outputs": [
    {
     "data": {
      "text/plain": [
       "9"
      ]
     },
     "execution_count": 16,
     "metadata": {},
     "output_type": "execute_result"
    }
   ],
   "source": [
    "calculator[\"+\"](4, 5)"
   ]
  },
  {
   "cell_type": "code",
   "execution_count": 17,
   "id": "1689b4fa-1064-4e61-9d28-123023f75179",
   "metadata": {},
   "outputs": [
    {
     "data": {
      "text/plain": [
       "20"
      ]
     },
     "execution_count": 17,
     "metadata": {},
     "output_type": "execute_result"
    }
   ],
   "source": [
    "calculator[\"*\"](4, 5)"
   ]
  },
  {
   "cell_type": "code",
   "execution_count": 18,
   "id": "fa786d72-87d4-4fbe-a4ab-097ced745a0c",
   "metadata": {},
   "outputs": [
    {
     "data": {
      "text/plain": [
       "4.0"
      ]
     },
     "execution_count": 18,
     "metadata": {},
     "output_type": "execute_result"
    }
   ],
   "source": [
    "calculator[\"/\"](20, 5)"
   ]
  },
  {
   "cell_type": "code",
   "execution_count": 19,
   "id": "a1ec0d49-1af6-4d37-8574-f4f390dd387d",
   "metadata": {},
   "outputs": [],
   "source": [
    "import random"
   ]
  },
  {
   "cell_type": "code",
   "execution_count": null,
   "id": "2940facb-fe3a-4be6-bd98-21c893d37082",
   "metadata": {},
   "outputs": [
    {
     "name": "stdout",
     "output_type": "stream",
     "text": [
      "Welcome to the PyPassword Generator!\n"
     ]
    }
   ],
   "source": [
    "import random\n",
    "letters = ['a', 'b', 'c', 'd', 'e', 'f', 'g', 'h', 'i', 'j', 'k', 'l', 'm', 'n', 'o', 'p', 'q', 'r', 's', 't', 'u', 'v', 'w', 'x', 'y', 'z', 'A', 'B', 'C', 'D', 'E', 'F', 'G', 'H', 'I', 'J', 'K', 'L', 'M', 'N', 'O', 'P', 'Q', 'R', 'S', 'T', 'U', 'V', 'W', 'X', 'Y', 'Z']\n",
    "numbers = ['0', '1', '2', '3', '4', '5', '6', '7', '8', '9']\n",
    "symbols = ['!', '#', '$', '%', '&', '(', ')', '*', '+']\n",
    "print(\"Welcome to the PyPassword Generator!\")\n",
    "nr_letters = int(input(\"How many letters would you like in your password?\\n\"))\n",
    "nr_symbols = int(input(f\"How many symbols would you like?\\n\"))\n",
    "nr_numbers = int(input(f\"How many numbers would you like?\\n\"))\n",
    "#Eazy Level\n",
    "# password = \"\"\n",
    "# for char in range(1, nr_letters + 1):\n",
    "#   password += random.choice(letters)\n",
    "# for char in range(1, nr_symbols + 1):\n",
    "#   password += random.choice(symbols)\n",
    "# for char in range(1, nr_numbers + 1):\n",
    "#   password += random.choice(numbers)\n",
    "# print(password)\n",
    "#Hard Level\n",
    "password_list = []\n",
    "for char in range(1, nr_letters + 1):\n",
    "    password_list.append(random.choice(letters))\n",
    "for char in range(1, nr_symbols + 1):\n",
    "    password_list += random.choice(symbols)\n",
    "for char in range(1, nr_numbers + 1):\n",
    "    password_list += random.choice(numbers)\n",
    "print(password_list)\n",
    "random.shuffle(password_list)\n",
    "print(password_list)\n",
    "password = \"\"\n",
    "for char in password_list:\n",
    "    password += char\n",
    "print(f\"Your password is: {password}\")"
   ]
  },
  {
   "cell_type": "code",
   "execution_count": null,
   "id": "cc212a17-7b6a-4ef9-a47f-1014ba796d60",
   "metadata": {},
   "outputs": [],
   "source": [
    "import random"
   ]
  },
  {
   "cell_type": "code",
   "execution_count": null,
   "id": "3134f812-c8b9-4548-9d0f-b8c43588340c",
   "metadata": {},
   "outputs": [],
   "source": [
    "random.randint( 10, 20)"
   ]
  },
  {
   "cell_type": "code",
   "execution_count": null,
   "id": "99c7cd02-8be7-4c92-84d2-3786a5f800d3",
   "metadata": {},
   "outputs": [],
   "source": [
    "chr(random.randint(65, 90))"
   ]
  },
  {
   "cell_type": "code",
   "execution_count": null,
   "id": "ca761f0a-d261-4d7e-a4af-f15a1f46fee9",
   "metadata": {},
   "outputs": [],
   "source": [
    "chr(random.randint(97, 122))"
   ]
  },
  {
   "cell_type": "code",
   "execution_count": null,
   "id": "74a2ca6e-1031-4e77-8a95-f39b6791039c",
   "metadata": {},
   "outputs": [],
   "source": [
    "chr(random.randint(48, 57))"
   ]
  },
  {
   "cell_type": "code",
   "execution_count": null,
   "id": "3e2274f6-d044-46dc-ada7-6489fbd5e6bc",
   "metadata": {},
   "outputs": [],
   "source": [
    "chr(random.randint(33, 47))"
   ]
  },
  {
   "cell_type": "code",
   "execution_count": null,
   "id": "1db5c600-2d3f-4371-82c9-1a21175036e9",
   "metadata": {},
   "outputs": [],
   "source": [
    "chr(random.randint(58, 64))"
   ]
  },
  {
   "cell_type": "code",
   "execution_count": null,
   "id": "75fc9e53-1b62-4743-970d-21a275e6a7c8",
   "metadata": {},
   "outputs": [],
   "source": [
    "uppers = [i for i in range (3)]\n",
    "uppers"
   ]
  },
  {
   "cell_type": "code",
   "execution_count": null,
   "id": "7b342623-28b9-4d33-9ee3-3d43319ebc42",
   "metadata": {},
   "outputs": [],
   "source": [
    "uppers = [chr(random.randint(65, 90)) for i in range (3)] \n",
    "uppers"
   ]
  },
  {
   "cell_type": "code",
   "execution_count": null,
   "id": "cbf2af77-d57a-4518-b127-c99e0c6c3084",
   "metadata": {},
   "outputs": [],
   "source": [
    "lowers = [chr(random.randint(97, 122)) for i in range (3)] \n",
    "lowers"
   ]
  },
  {
   "cell_type": "code",
   "execution_count": null,
   "id": "5d228f09-609a-4a9e-9da8-9ee68857b477",
   "metadata": {},
   "outputs": [],
   "source": [
    "numbers = [chr(random.randint(48, 57)) for i in range (3)]\n",
    "numbers"
   ]
  },
  {
   "cell_type": "code",
   "execution_count": null,
   "id": "a0d8e3ab-0196-44f5-adf7-1bad5fe98579",
   "metadata": {},
   "outputs": [],
   "source": [
    "chars = [chr(random.randint(33, 47)) + chr(random.randint(58, 64))]"
   ]
  },
  {
   "cell_type": "code",
   "execution_count": null,
   "id": "076b56c6-3bbb-4f43-aa84-ac7e82b31751",
   "metadata": {},
   "outputs": [],
   "source": [
    "psswrd = \"\".join(uppers) + \"\".join(lowers) + \"\".join(numbers) + \"\".join(chars)\n",
    "psswrd"
   ]
  },
  {
   "cell_type": "code",
   "execution_count": null,
   "id": "9e83c8cb-4c5e-4814-93a3-e36719808124",
   "metadata": {},
   "outputs": [],
   "source": []
  },
  {
   "cell_type": "code",
   "execution_count": null,
   "id": "741022bc-f995-4375-b827-b05fb3cd8d11",
   "metadata": {},
   "outputs": [],
   "source": [
    "import random\n",
    "\n",
    "ornek_list = list(ornek)"
   ]
  },
  {
   "cell_type": "code",
   "execution_count": null,
   "id": "73ebd395-4c3b-4eb6-a285-94d42521fb9c",
   "metadata": {},
   "outputs": [],
   "source": [
    "ornek = \"alivelideli\""
   ]
  },
  {
   "cell_type": "code",
   "execution_count": null,
   "id": "62e7be72-5e1e-4258-b976-61a72ad5d87b",
   "metadata": {},
   "outputs": [],
   "source": [
    "random.shuffle(ornek_list)"
   ]
  },
  {
   "cell_type": "code",
   "execution_count": null,
   "id": "f7624a64-f3ef-4804-9c99-9bbe11897e2a",
   "metadata": {},
   "outputs": [],
   "source": [
    "ornek_list"
   ]
  },
  {
   "cell_type": "code",
   "execution_count": null,
   "id": "58370753-25df-4dfa-b917-79002c0aa984",
   "metadata": {},
   "outputs": [],
   "source": [
    "\"\".join(ornek_list)"
   ]
  },
  {
   "cell_type": "code",
   "execution_count": null,
   "id": "5bbeb7a1-8e44-4035-804f-f835a73cf409",
   "metadata": {},
   "outputs": [],
   "source": [
    "def karistir(password) :\n",
    "    templist = list(password)\n",
    "    random.shuffle(templist)\n",
    "    return \"\".join(templist)\n"
   ]
  },
  {
   "cell_type": "code",
   "execution_count": null,
   "id": "cdddeefd-aad9-42db-8d63-d24af5d012cf",
   "metadata": {},
   "outputs": [],
   "source": [
    "psswrd = karistir(psswrd)\n",
    "psswrd"
   ]
  },
  {
   "cell_type": "code",
   "execution_count": null,
   "id": "040dae3b-c81b-4ef7-898b-b6b404e44412",
   "metadata": {},
   "outputs": [],
   "source": []
  },
  {
   "cell_type": "code",
   "execution_count": null,
   "id": "67455e3f-9765-4366-952f-54e6ef4f71a3",
   "metadata": {},
   "outputs": [],
   "source": [
    "from timeit import timeit"
   ]
  },
  {
   "cell_type": "code",
   "execution_count": null,
   "id": "eaffdcf2-d3b3-4192-88ff-1026fe9d080f",
   "metadata": {},
   "outputs": [],
   "source": [
    "def for_loop() :\n",
    "    result = [] \n",
    "    for i in range(1000000) :\n",
    "        result.append(i)\n",
    "    return result "
   ]
  },
  {
   "cell_type": "code",
   "execution_count": null,
   "id": "c117bbd5-498f-458e-b85a-ae3a24479ffe",
   "metadata": {},
   "outputs": [],
   "source": [
    "def list_comp() :\n",
    "    return [i for i in range(1000000)]"
   ]
  },
  {
   "cell_type": "code",
   "execution_count": null,
   "id": "c16856a2-5597-47e9-b6f4-53768362ab27",
   "metadata": {},
   "outputs": [],
   "source": [
    "size = 100\n",
    "\n",
    "time_for = timeit(for_loop, number = size)\n",
    "time_list_comp = timeit(list_comp, number = size)"
   ]
  },
  {
   "cell_type": "code",
   "execution_count": null,
   "id": "1e445b97-4799-4ac7-8b6e-d4ba38491ab9",
   "metadata": {},
   "outputs": [],
   "source": [
    "print(f\"List_Comp is {round(time_for/time_list_comp, 2)} times faster than for loops.\")"
   ]
  },
  {
   "cell_type": "code",
   "execution_count": null,
   "id": "0d74a8ba-a3a1-4f48-a951-87be5ce94d0d",
   "metadata": {},
   "outputs": [],
   "source": [
    "while True:\n",
    "    no_one = int(input(\"The first number please : \"))\n",
    "    no_two = int(input(\"The second number please : \"))\n",
    "    try:\n",
    "        division = no_one / no_two\n",
    "        print(\"The result of the division is : \", division)\n",
    "        break\n",
    "    except Exception as e:\n",
    "        print(\"Something went wrong...Try again.\")\n",
    "        print(\"Probably it is because of '{}' error\".format(e))\n",
    "        break"
   ]
  },
  {
   "cell_type": "code",
   "execution_count": null,
   "id": "8fdffcc2-227c-4104-b88b-d3a3b50ca9c5",
   "metadata": {},
   "outputs": [],
   "source": [
    "while True:\n",
    "    \n",
    "    try:\n",
    "        no_one = int(input(\"The first number please : \"))\n",
    "        no_two = int(input(\"The second number please : \"))\n",
    "        \n",
    "        division = no_one / no_two\n",
    "        print(\"The result of the division is : \", division)\n",
    "        break\n",
    "    except Exception as e:\n",
    "        print(\"Something went wrong...Try again.\")\n",
    "        print(\"Probably it is because of '{}' error\".format(e))\n",
    "        break\n",
    "        \n",
    "  # Associated value error verdirelim\n"
   ]
  },
  {
   "cell_type": "code",
   "execution_count": null,
   "id": "4bb383fd-2320-48e4-be31-306671623523",
   "metadata": {},
   "outputs": [],
   "source": [
    "try :\n",
    "    a = 10\n",
    "    b = 2\n",
    "    print(\"The result of division is :\", c)\n",
    "except Exception as e:\n",
    "    print(\"The error message is :\", e)"
   ]
  },
  {
   "cell_type": "code",
   "execution_count": null,
   "id": "cf7b99f3-9cf5-4d1e-b153-9ff1993cb88a",
   "metadata": {},
   "outputs": [],
   "source": [
    "try:\n",
    "    x = 2/0\n",
    "\n",
    "except ZeroDivisionError:\n",
    "    print('Attempt to divide by zero')\n",
    "except:\n",
    "    print('Something else went wrong')"
   ]
  },
  {
   "cell_type": "code",
   "execution_count": null,
   "id": "b08b5fb2-5c03-4e44-a51d-6be9184efc8f",
   "metadata": {},
   "outputs": [],
   "source": [
    "try:\n",
    "    x = 2/Bir\n",
    "\n",
    "except ZeroDivisionError:\n",
    "    print('Attempt to divide by zero')\n",
    "except:\n",
    "    print('Something else went wrong')"
   ]
  },
  {
   "cell_type": "code",
   "execution_count": null,
   "id": "168c4e15-bb83-4019-96dc-9da4911297b1",
   "metadata": {},
   "outputs": [],
   "source": [
    "try:\n",
    "    x\n",
    "\n",
    "except ZeroDivisionError:\n",
    "    print('Attempt to divide by zero')\n",
    "except:\n",
    "    print('Something else went wrong')"
   ]
  },
  {
   "cell_type": "code",
   "execution_count": null,
   "id": "a121bd14-4b2f-45b7-8568-1fc47150f533",
   "metadata": {},
   "outputs": [],
   "source": [
    "try:\n",
    "    x \n",
    "\n",
    "except ZeroDivisionError:\n",
    "    print('Attempt to divide by zero')\n",
    "except NameError:\n",
    "    print('Act in accordance with name error')    \n",
    "except:\n",
    "    print('Something else went wrong')"
   ]
  },
  {
   "cell_type": "code",
   "execution_count": null,
   "id": "5e21b289-45cc-4c24-819e-2e4467ab4894",
   "metadata": {},
   "outputs": [],
   "source": [
    "try:\n",
    "    int(\"on\") \n",
    "\n",
    "except ZeroDivisionError:\n",
    "    print('Attempt to divide by zero')\n",
    "except NameError:\n",
    "    print('Act in accordance with name error')    \n",
    "except:\n",
    "    print('Something else went wrong')"
   ]
  },
  {
   "cell_type": "code",
   "execution_count": null,
   "id": "bf669cad-7ccc-42fc-b78b-322b44235641",
   "metadata": {},
   "outputs": [],
   "source": [
    "try:\n",
    "    4 + \"4\"\n",
    "\n",
    "except ZeroDivisionError:\n",
    "    print('Attempt to divide by zero')\n",
    "except NameError:\n",
    "    print('Act in accordance with name error')\n",
    "except (ValueError, TypeError):\n",
    "    print('Act in accordance with Value error and type error ')     \n",
    "except:\n",
    "    print('Something else went wrong')"
   ]
  },
  {
   "cell_type": "code",
   "execution_count": null,
   "id": "0e3b01a5-c118-4e7b-b394-b2297ecafaff",
   "metadata": {},
   "outputs": [],
   "source": [
    "try:\n",
    "    4 / 0\n",
    "\n",
    "except ArithmeticError:\n",
    "    print('Attempt to divide by zero')\n",
    "except NameError:\n",
    "    print('Act in accordance with name error')\n",
    "except (ValueError, TypeError):\n",
    "    print('Act in accordance with Value error and type error ')     \n",
    "except:\n",
    "    print('Something else went wrong')"
   ]
  },
  {
   "cell_type": "code",
   "execution_count": null,
   "id": "0133d6f7-45b8-4e43-9e63-5da074a79b41",
   "metadata": {},
   "outputs": [],
   "source": [
    "fruits = [\"banana\", \"mango\", \"pear\", \"apple\", \"kiwi\", \"grape\"]\n",
    "while True:\n",
    "    try :\n",
    "        index = int(input(\"Enter a index number\")) \n",
    "        print(\"my farorite fruit is \" + fruits[index])\n",
    "        break      \n",
    "    except ValueError:\n",
    "        print(\"Please enter integer number\")\n",
    "    except IndexError :\n",
    "         print(\"Please enter a number in index range\")     \n",
    "    "
   ]
  },
  {
   "cell_type": "code",
   "execution_count": null,
   "id": "33f52fa3-2b9d-4196-be8b-122a5d088025",
   "metadata": {},
   "outputs": [],
   "source": [
    "fruits = [\"banana\", \"mango\", \"pear\", \"apple\", \"kiwi\", \"grape\"]\n",
    "Counter = 3\n",
    "while Counter > 0 :\n",
    "    try :\n",
    "        print(f\"You have {Counter} right.\")\n",
    "        index = int(input(\"Enter a index number\"))\n",
    "        print(\"Your farorite fruit is \" + fruits[index])\n",
    "    \n",
    "    except IndexError :\n",
    "        Counter -= 1\n",
    "        print(f\"Index error. You have {Counter} right left. Try again\")\n",
    "            \n",
    "    except ValueError:\n",
    "        Counter -= 1\n",
    "        print(f\"Value error. You have {Counter} right left. Try again\")\n",
    "            \n",
    "    else :\n",
    "        print(\"Congrats! You've entered valid input\")\n",
    "        break\n",
    "    \n",
    "    finally :\n",
    "        print(\"Our fruits are always fresh\")\n",
    "        "
   ]
  },
  {
   "cell_type": "code",
   "execution_count": null,
   "id": "2740de42-6f67-4c64-9f2c-f78a19fee3ee",
   "metadata": {},
   "outputs": [],
   "source": []
  },
  {
   "cell_type": "code",
   "execution_count": null,
   "id": "fcfdb7f2-9ae8-4752-83b4-5d8dbecfc9e2",
   "metadata": {},
   "outputs": [],
   "source": []
  }
 ],
 "metadata": {
  "kernelspec": {
   "display_name": "Python 3",
   "language": "python",
   "name": "python3"
  },
  "language_info": {
   "codemirror_mode": {
    "name": "ipython",
    "version": 3
   },
   "file_extension": ".py",
   "mimetype": "text/x-python",
   "name": "python",
   "nbconvert_exporter": "python",
   "pygments_lexer": "ipython3",
   "version": "3.8.8"
  }
 },
 "nbformat": 4,
 "nbformat_minor": 5
}
