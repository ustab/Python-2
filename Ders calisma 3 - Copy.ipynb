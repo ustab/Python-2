{
 "cells": [
  {
   "cell_type": "code",
   "execution_count": 3,
   "metadata": {
    "id": "aoDQIX7NIDb3"
   },
   "outputs": [
    {
     "name": "stdout",
     "output_type": "stream",
     "text": [
      "{'teknoloji', 'bilgisayar', 'insaat', 'gida', 'maden', 'sistem', 'otomotiv', 'ucak', 'makine', 'software', 'endüstri'}\n"
     ]
    }
   ],
   "source": [
    "# Dünyanin 5 süper gücü. Amerika, Almanya, Ingiltere, Cin ve Japonya.\n",
    "\n",
    "# Düsünelim ki bu ülkelerde cesitli mühendisler var ve \n",
    "\n",
    "# bazisinda olan mühendisler digerinde yok. Ama Elektrik elektronik Mühendisi hepsinde var.\n",
    "\n",
    "# Bu bes ülke bir anlasma imzaliyor ve sadece kendisinde mühendisligin bir türü\n",
    "\n",
    "# mevcut olan ülke diger ülkelere bu mühendislik ile ilgili egitim verecektir. \n",
    "\n",
    "# Mesela Almanya diger ülkelere Otomotiv Mühendisligi egitimi verecek iken\n",
    "\n",
    "# Amerika ise diger ülkelere Software engineer egitimi verecektir.\n",
    "\n",
    "# Ancak elek. Mühendisligi tüm ülkelerde oldugu icin bu mühendislik egitimi \n",
    "\n",
    "# icin bir egitim planlamasi yapilmayacaktir. \n",
    "\n",
    "# Ve egitim verecek olan mühendislerin tamamindan bir egitim takimi \n",
    "\n",
    "# olusturulacaktir. Ve bu takim icerisinde her bir mühendislik bransindan sadece \n",
    "\n",
    "# 1 tane ögretim görevlisi mühendis bulunacaktir.\n",
    "\n",
    "# Bu egitimi verecek olan mühendisin ise hangi ülkeden oldugu önemli degil\n",
    "\n",
    "# sadece 1 tane olmasi önemlidir. Yani mesela otomotiv mühendisligi verecek olan \n",
    "\n",
    "# mühendis, egitim takiminda tek olacaktir.\n",
    "\n",
    "#  Ülkelerin sahip oldugu mühendisler su sekildedir:\n",
    "\n",
    "alman = {\"otomotiv\", \"elektrik\", \"makine\", \"insaat\"} \n",
    "\n",
    "abd = {\"software\", \"elektrik\", \"bilgisayar\", \"sistem\"}        \n",
    "\n",
    "ing = {\"ucak\", \"elektrik\", \"endüstri\", \"gida\"}\n",
    "\n",
    "cin = {\"insaat\", \"elektrik\", \"endüstri\", \"software\"}\n",
    "\n",
    "japan = {\"insaat\", \"elektrik\", \"teknoloji\", \"maden\"}\n",
    "\n",
    "egitim_takimi = (alman | abd | ing | cin | japan) - (alman & abd & ing & cin & japan)\n",
    "\n",
    "print(egitim_takimi)\n",
    "\n",
    "\n",
    "## Egitim verecek olan mühendislerden olusacak takimi python kodu ile yazar misiniz ??"
   ]
  },
  {
   "cell_type": "code",
   "execution_count": 30,
   "metadata": {
    "id": "CjG5Vhg-IhGu"
   },
   "outputs": [
    {
     "name": "stdin",
     "output_type": "stream",
     "text": [
      "Lutfen para atiniz:  0.5\n"
     ]
    },
    {
     "name": "stdout",
     "output_type": "stream",
     "text": [
      "Merhaba hosgeldiniz. Guncel bakiyeniz : 0.5\n"
     ]
    },
    {
     "name": "stdin",
     "output_type": "stream",
     "text": [
      "Bakiyenizyetersiz, para eklemek istermisiniz? a\n"
     ]
    },
    {
     "name": "stdout",
     "output_type": "stream",
     "text": [
      "Üzgünüz buyrun para üstünüz: 0.5 Euro\n"
     ]
    }
   ],
   "source": [
    "para1 = float(input(\"Lutfen para atiniz: \"))\n",
    "\n",
    "print(\"Merhaba hosgeldiniz. Guncel bakiyeniz :\", para1)\n",
    "\n",
    "\n",
    "if para1 >= 1.50 :\n",
    "    soru = input(\"caymi istersiniz kahvemi?\").lower().strip()\n",
    "    \n",
    "    if soru.lower() == \"cay\" :\n",
    "        print(\"cayiniz hazirlaniyor, buyurun para ustunuz:\", para1 -1, \"Euro\")\n",
    "        \n",
    "    elif soru == \"kahve\" :\n",
    "        print(\"kahveniz hazirlaniyor, buyrun para ustunuz:\", para1 -1.50, \"Euro\")\n",
    "                \n",
    "    else :\n",
    "        print(\"Uzgunuz buyurun para ustunuz\", para1, \"Euro\")\n",
    "        \n",
    "\n",
    "        \n",
    "elif 1<= para1 < 1.50 :\n",
    "    soru = input(\"Bakiyeniz ile sadece cay alabilirsiniz. Cay istermisiniz?\").lower()\n",
    "    \n",
    "    if soru ==\"evet\" :\n",
    "        print(\"cayiniz hazirlaniyor, buyurun para ustunuz:\", para1 -1, \"Euro\")\n",
    "        \n",
    "    elif soru == \"hayir\" :\n",
    "        print(\"Tesekkur ederiz buyurun para ustunuz\", para1, \"Euro\")\n",
    "        \n",
    "    else :\n",
    "        print(\"Uzgunuz buyurun para ustunuz\", para1, \"Euro\")\n",
    "        \n",
    "        \n",
    "        \n",
    "        \n",
    "elif para1< 1 :\n",
    "    soru = input(\"Bakiyeniz yetersiz, para eklemek istermisiniz?\").lower()\n",
    "    \n",
    "    if soru == \"hayir\" :\n",
    "        print(\"Tesekkur ederiz buyurun para ustunuz\", para1, \"Euro\")\n",
    "        \n",
    "    elif soru == \"evet\" :\n",
    "        para2 =float(input(\"Lutfen para ilave ediniz:\"))\n",
    "        \n",
    "        if (para1 + para2) >= 1.50 :\n",
    "            soru = input(\"caymi istersiniz kahvemi?\").lower().strip()\n",
    "        \n",
    "            if soru == \"kahve\":\n",
    "                print(\"Kahveniz hazirlaniyor. Buyrun para üstünüz:\", para1 + para2 - 1.50, \"Euro\")\n",
    "        \n",
    "            elif soru.lower() == \"cay\" :\n",
    "                print(\"cayiniz hazirlaniyor, buyurun para ustunuz:\", para1 + para2 -1, \"Euro\")\n",
    "            \n",
    "            else:\n",
    "                print(\"Üzgünüz buyrun para üstünüz:\", para1 + para2, \"Euro\")\n",
    "                \n",
    "        elif (para1 + para2) < 1 :\n",
    "            print(\"Uzgunuz buyurun para ustunuz\", para1 + para2, \"Euro\")\n",
    "            \n",
    "        elif 1 <= (para1 + para2) < 1.5 :\n",
    "            soru = input(\"Bakiyeniz ile sadece cay alabilirsiniz. Cay istermisiniz?\").lower()\n",
    "            \n",
    "            if soru == \"hayir\" :\n",
    "                print(\"Tesekkur ederiz buyurun para ustunuz\", para1 + para2, \"Euro\")\n",
    "                \n",
    "            elif soru ==\"evet\" :\n",
    "                print(\"cayiniz hazirlaniyor, buyurun para ustunuz:\", para1 + para2 -1, \"Euro\")\n",
    "            \n",
    "            else:\n",
    "                print(\"Üzgünüz buyrun para üstünüz:\", para1 + para2, \"Euro\")\n",
    "                \n",
    "    else:\n",
    "        print(\"Üzgünüz buyrun para üstünüz:\", para1, \"Euro\")\n",
    "                \n",
    "            \n",
    "else:\n",
    "    print(\"Üzgünüz buyrun para üstünüz:\", para1 , \"Euro\")  \n",
    "        \n",
    "    "
   ]
  },
  {
   "cell_type": "code",
   "execution_count": null,
   "metadata": {
    "id": "aP2BCkWkIhQT"
   },
   "outputs": [],
   "source": []
  },
  {
   "cell_type": "code",
   "execution_count": null,
   "metadata": {
    "id": "zTvwxdThIhSS"
   },
   "outputs": [],
   "source": []
  },
  {
   "cell_type": "code",
   "execution_count": null,
   "metadata": {
    "id": "cYv_LPFTIhUb"
   },
   "outputs": [],
   "source": []
  }
 ],
 "metadata": {
  "colab": {
   "collapsed_sections": [],
   "name": "10.01.2021",
   "provenance": []
  },
  "kernelspec": {
   "display_name": "Python 3 (ipykernel)",
   "language": "python",
   "name": "python3"
  },
  "language_info": {
   "codemirror_mode": {
    "name": "ipython",
    "version": 3
   },
   "file_extension": ".py",
   "mimetype": "text/x-python",
   "name": "python",
   "nbconvert_exporter": "python",
   "pygments_lexer": "ipython3",
   "version": "3.9.7"
  }
 },
 "nbformat": 4,
 "nbformat_minor": 4
}
