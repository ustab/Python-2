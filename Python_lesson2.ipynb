{
 "cells": [
  {
   "cell_type": "code",
   "execution_count": 4,
   "id": "23af2b57-e9b1-40ba-8b84-7f2fb192db5f",
   "metadata": {
    "tags": []
   },
   "outputs": [
    {
     "name": "stdout",
     "output_type": "stream",
     "text": [
      "1605.7814764784307\n"
     ]
    }
   ],
   "source": [
    "money = 1000\n",
    "reach = money*1.07**7\n",
    "print(reach)"
   ]
  },
  {
   "cell_type": "code",
   "execution_count": 1,
   "id": "78179c0f-2854-429c-bb62-f073d68c97fa",
   "metadata": {},
   "outputs": [
    {
     "name": "stdout",
     "output_type": "stream",
     "text": [
      "the most frequent number is 3 and it was 4 times repeated\n"
     ]
    }
   ],
   "source": [
    "numbers = [1, 3, 7, 4, 3, 0, 3, 6, 3]\n",
    "most_common = max(numbers, key = numbers.count)\n",
    "counts_1 = numbers.count(most_common)\n",
    "output = \"the most frequent number is {} and it was {} times repeated\".format(most_common, counts_1)\n",
    "print(output)"
   ]
  },
  {
   "cell_type": "code",
   "execution_count": 2,
   "id": "332177bd-ecc4-4516-8bf9-8fb6b2eb1dc5",
   "metadata": {},
   "outputs": [
    {
     "name": "stdout",
     "output_type": "stream",
     "text": [
      "1\n"
     ]
    }
   ],
   "source": [
    "print(len([[12, 34, 56]]))"
   ]
  },
  {
   "cell_type": "code",
   "execution_count": 15,
   "id": "4c4b6ecb-f538-45b2-90ad-dfde7e0edacc",
   "metadata": {},
   "outputs": [
    {
     "name": "stdout",
     "output_type": "stream",
     "text": [
      "0\n"
     ]
    }
   ],
   "source": [
    "print(len([[]][0]))"
   ]
  },
  {
   "cell_type": "code",
   "execution_count": 22,
   "id": "342eaed4-b772-4b2d-8b8b-a19ece5bbd81",
   "metadata": {},
   "outputs": [
    {
     "name": "stdout",
     "output_type": "stream",
     "text": [
      "[1, 2, 3, 4, 5, 6, 7, 8, 9, 10]\n"
     ]
    }
   ],
   "source": [
    "my_list = list(range(1,11,))  # range kullanimi\n",
    "\n",
    "print(my_list)"
   ]
  },
  {
   "cell_type": "code",
   "execution_count": 5,
   "id": "d2dac6e2-dd94-4a1b-9e8d-b3f638e543eb",
   "metadata": {},
   "outputs": [
    {
     "name": "stdin",
     "output_type": "stream",
     "text": [
      "Enter a word:  deneme\n"
     ]
    },
    {
     "name": "stdout",
     "output_type": "stream",
     "text": [
      "True\n"
     ]
    }
   ],
   "source": [
    "left_hand = [\"q\", \"w\", \"e\", \"r\", \"t\", \"a\", \"s\", \"d\", \"f\", \"g\", \"z\", \"x\", \"c\", \"v\", \"b\"]\n",
    "\n",
    "right_hand = [\"y\", \"u\", \"i\", \"o\", \"p\", \"h\", \"j\", \"k\", \"l\", \"n\", \"m\"]\n",
    "\n",
    "\n",
    "word = set(input(\"Enter a word: \"))\n",
    "\n",
    "leftcheck = word.intersection(left_hand)\n",
    "\n",
    "rightcheck = word.intersection(right_hand)\n",
    "\n",
    "print(bool(leftcheck) and bool(rightcheck))"
   ]
  },
  {
   "cell_type": "code",
   "execution_count": 14,
   "id": "88718ef1-5e7c-44b1-8ffe-683d8e0f0cdf",
   "metadata": {},
   "outputs": [
    {
     "name": "stdout",
     "output_type": "stream",
     "text": [
      "3.1246, 5.125\n"
     ]
    }
   ],
   "source": [
    "string = \"{:.4f}, {:.3f}\" .format(3.12462135, 5.1248713354)    #float ta noktadan sonra kac basamak olmasini istiyorsak *********************************\n",
    "print(string)"
   ]
  },
  {
   "cell_type": "code",
   "execution_count": 3,
   "id": "96ebac80-49ee-4191-9b67-c9c75bec2eae",
   "metadata": {},
   "outputs": [
    {
     "name": "stdout",
     "output_type": "stream",
     "text": [
      "10.00000\n"
     ]
    }
   ],
   "source": [
    "c = 10\n",
    "d = float(c)\n",
    "print('%.5f'%d)  #float ta noktadan sonra kac basamak olmasini istiyorsak *********************************\n"
   ]
  },
  {
   "cell_type": "code",
   "execution_count": 15,
   "id": "857f0235-fb72-47b7-9742-47151d6e63eb",
   "metadata": {},
   "outputs": [
    {
     "name": "stdout",
     "output_type": "stream",
     "text": [
      "3.1246, 5.125\n"
     ]
    }
   ],
   "source": [
    "string = \"{:.4f}, {:.3f}\" .format(3.12462135, 5.1248713354)  #float ta noktadan sonra kac basamak olmasini istiyorsak *********************************\n",
    "print(string)"
   ]
  },
  {
   "cell_type": "code",
   "execution_count": 22,
   "id": "7a3d8086-1942-4223-89e4-a6066e40112d",
   "metadata": {},
   "outputs": [
    {
     "name": "stdout",
     "output_type": "stream",
     "text": [
      "hila, gul\n"
     ]
    }
   ],
   "source": [
    "string = \"{:.4}, {:.3}\" .format('hilal', 'gulizar')  #stringte kac hane almak istiyorsak\n",
    "print(string)"
   ]
  },
  {
   "cell_type": "code",
   "execution_count": 23,
   "id": "6087c254-3de2-451a-8e9a-1bce61c4c1a8",
   "metadata": {},
   "outputs": [
    {
     "name": "stdout",
     "output_type": "stream",
     "text": [
      "21235543.1246, 532563.125\n"
     ]
    }
   ],
   "source": [
    "string = \"{:.4f}, {:.3f}\" .format(21235543.12462135, 532563.1248713354)  #float ta noktadan sonra kac basamak olmasini istiyorsak *********************************\n",
    "print(string)"
   ]
  },
  {
   "cell_type": "code",
   "execution_count": 24,
   "id": "18dd4a73-1b57-4c04-92d5-6bddbe08fe2a",
   "metadata": {},
   "outputs": [
    {
     "name": "stdout",
     "output_type": "stream",
     "text": [
      "2\n"
     ]
    }
   ],
   "source": [
    "print(True + True)"
   ]
  },
  {
   "cell_type": "code",
   "execution_count": 25,
   "id": "2af70942-c689-4648-b72b-153bd6662501",
   "metadata": {},
   "outputs": [
    {
     "name": "stdout",
     "output_type": "stream",
     "text": [
      "1\n"
     ]
    }
   ],
   "source": [
    "print(True + False)"
   ]
  },
  {
   "cell_type": "code",
   "execution_count": 26,
   "id": "07e41fae-bca3-48f3-ab4c-f2928804a73d",
   "metadata": {},
   "outputs": [
    {
     "name": "stdout",
     "output_type": "stream",
     "text": [
      "0\n"
     ]
    }
   ],
   "source": [
    "print(False + False)"
   ]
  },
  {
   "cell_type": "code",
   "execution_count": 27,
   "id": "f7457373-8226-4ebf-86ec-aa822b4b7707",
   "metadata": {},
   "outputs": [
    {
     "ename": "TypeError",
     "evalue": "unsupported operand type(s) for +: 'NoneType' and 'bool'",
     "output_type": "error",
     "traceback": [
      "\u001b[1;31m---------------------------------------------------------------------------\u001b[0m",
      "\u001b[1;31mTypeError\u001b[0m                                 Traceback (most recent call last)",
      "\u001b[1;32m<ipython-input-27-1cfa9e4cbab9>\u001b[0m in \u001b[0;36m<module>\u001b[1;34m\u001b[0m\n\u001b[1;32m----> 1\u001b[1;33m \u001b[0mprint\u001b[0m\u001b[1;33m(\u001b[0m\u001b[1;32mNone\u001b[0m \u001b[1;33m+\u001b[0m \u001b[1;32mFalse\u001b[0m\u001b[1;33m)\u001b[0m\u001b[1;33m\u001b[0m\u001b[1;33m\u001b[0m\u001b[0m\n\u001b[0m",
      "\u001b[1;31mTypeError\u001b[0m: unsupported operand type(s) for +: 'NoneType' and 'bool'"
     ]
    }
   ],
   "source": [
    "print(None + False)"
   ]
  },
  {
   "cell_type": "code",
   "execution_count": 28,
   "id": "e90ed37a-e6ec-4399-8fb2-00f6cf207fb1",
   "metadata": {},
   "outputs": [
    {
     "ename": "TypeError",
     "evalue": "unsupported operand type(s) for +: 'NoneType' and 'NoneType'",
     "output_type": "error",
     "traceback": [
      "\u001b[1;31m---------------------------------------------------------------------------\u001b[0m",
      "\u001b[1;31mTypeError\u001b[0m                                 Traceback (most recent call last)",
      "\u001b[1;32m<ipython-input-28-6ddb98348c38>\u001b[0m in \u001b[0;36m<module>\u001b[1;34m\u001b[0m\n\u001b[1;32m----> 1\u001b[1;33m \u001b[0mprint\u001b[0m\u001b[1;33m(\u001b[0m\u001b[1;32mNone\u001b[0m \u001b[1;33m+\u001b[0m \u001b[1;32mNone\u001b[0m\u001b[1;33m)\u001b[0m\u001b[1;33m\u001b[0m\u001b[1;33m\u001b[0m\u001b[0m\n\u001b[0m",
      "\u001b[1;31mTypeError\u001b[0m: unsupported operand type(s) for +: 'NoneType' and 'NoneType'"
     ]
    }
   ],
   "source": [
    "print(None + None)"
   ]
  },
  {
   "cell_type": "code",
   "execution_count": 29,
   "id": "3f76e4f6-15a2-443f-8ad1-20ae1d36af44",
   "metadata": {},
   "outputs": [
    {
     "name": "stdout",
     "output_type": "stream",
     "text": [
      "None\n"
     ]
    }
   ],
   "source": [
    "print(None)"
   ]
  },
  {
   "cell_type": "code",
   "execution_count": 31,
   "id": "0dd3e913-c127-4ca7-8862-caa2b6fbe658",
   "metadata": {},
   "outputs": [
    {
     "name": "stdout",
     "output_type": "stream",
     "text": [
      "0\n"
     ]
    }
   ],
   "source": [
    "print((not True) + (not True))"
   ]
  },
  {
   "cell_type": "raw",
   "id": "4f3c7bdf-fa85-4587-8047-305479a87cb2",
   "metadata": {},
   "source": []
  },
  {
   "cell_type": "code",
   "execution_count": 32,
   "id": "451a0ae1-a47e-42a0-b59a-43be6f05caa7",
   "metadata": {},
   "outputs": [
    {
     "name": "stdout",
     "output_type": "stream",
     "text": [
      "()\n"
     ]
    }
   ],
   "source": [
    "print(() + () + ())"
   ]
  },
  {
   "cell_type": "code",
   "execution_count": 33,
   "id": "e5684b73-99f9-437e-bf20-87d7b9b960ed",
   "metadata": {},
   "outputs": [
    {
     "name": "stdout",
     "output_type": "stream",
     "text": [
      "(1, 2, 3, 4, 1, 2, 3, 4)\n"
     ]
    }
   ],
   "source": [
    "print((1,2,3,4) + (1,2,3,4)) #tuple tuple toplami****************"
   ]
  },
  {
   "cell_type": "code",
   "execution_count": 34,
   "id": "b060d565-1f4d-44e6-8214-a49589cd11a4",
   "metadata": {},
   "outputs": [
    {
     "name": "stdout",
     "output_type": "stream",
     "text": [
      "[1, 2, 3, 4, 1, 2, 3, 4]\n"
     ]
    }
   ],
   "source": [
    "print([1,2,3,4] + [1,2,3,4])  #liste liste toplami*********************"
   ]
  },
  {
   "cell_type": "code",
   "execution_count": 35,
   "id": "e0ab7dc9-5f1c-4e18-83d3-d6be97ba626e",
   "metadata": {},
   "outputs": [
    {
     "ename": "TypeError",
     "evalue": "can only concatenate list (not \"tuple\") to list",
     "output_type": "error",
     "traceback": [
      "\u001b[1;31m---------------------------------------------------------------------------\u001b[0m",
      "\u001b[1;31mTypeError\u001b[0m                                 Traceback (most recent call last)",
      "\u001b[1;32m<ipython-input-35-f01ff201f1f2>\u001b[0m in \u001b[0;36m<module>\u001b[1;34m\u001b[0m\n\u001b[1;32m----> 1\u001b[1;33m \u001b[0mprint\u001b[0m\u001b[1;33m(\u001b[0m\u001b[1;33m[\u001b[0m\u001b[1;36m1\u001b[0m\u001b[1;33m,\u001b[0m\u001b[1;36m2\u001b[0m\u001b[1;33m,\u001b[0m\u001b[1;36m3\u001b[0m\u001b[1;33m,\u001b[0m\u001b[1;36m4\u001b[0m\u001b[1;33m]\u001b[0m \u001b[1;33m+\u001b[0m \u001b[1;33m(\u001b[0m\u001b[1;36m1\u001b[0m\u001b[1;33m,\u001b[0m\u001b[1;36m2\u001b[0m\u001b[1;33m,\u001b[0m\u001b[1;36m3\u001b[0m\u001b[1;33m,\u001b[0m\u001b[1;36m4\u001b[0m\u001b[1;33m)\u001b[0m\u001b[1;33m)\u001b[0m\u001b[1;33m\u001b[0m\u001b[1;33m\u001b[0m\u001b[0m\n\u001b[0m",
      "\u001b[1;31mTypeError\u001b[0m: can only concatenate list (not \"tuple\") to list"
     ]
    }
   ],
   "source": [
    "print([1,2,3,4] + (1,2,3,4))  # liste ve tuple toplanmaz****************"
   ]
  },
  {
   "cell_type": "code",
   "execution_count": 36,
   "id": "a54f8083-172b-47ac-93ec-192ffcdc227b",
   "metadata": {},
   "outputs": [
    {
     "name": "stdout",
     "output_type": "stream",
     "text": [
      "[1, 2, 3, 4, 1, 2, 3, 4, 1, 2, 3, 4]\n"
     ]
    }
   ],
   "source": [
    "liste = list((1,2,3,4))                 # tuple listeye cevrilip listeyle toplanir\n",
    "print([1,2,3,4] + [1,2,3,4] + liste)"
   ]
  },
  {
   "cell_type": "code",
   "execution_count": 37,
   "id": "31582b83-a567-4b5f-879a-74874908cbde",
   "metadata": {},
   "outputs": [
    {
     "name": "stdout",
     "output_type": "stream",
     "text": [
      "[1, 2, 3, 4, 1, 2, 3, 4, 1, 2, 3, 4]\n"
     ]
    }
   ],
   "source": [
    "print([1,2,3,4] + [1,2,3,4] + list((1,2,3,4)))"
   ]
  },
  {
   "cell_type": "code",
   "execution_count": 38,
   "id": "7ff68c63-14d6-4f89-80a1-b33fefb31f0a",
   "metadata": {},
   "outputs": [
    {
     "name": "stdout",
     "output_type": "stream",
     "text": [
      "{'tarik': '1,2,3,4', 'auto': 'mercedes'}\n"
     ]
    }
   ],
   "source": [
    "a = {\"tarik\" : \"1,2,3,4\"}\n",
    "a.update({\"auto\" : \"mercedes\"})\n",
    "print(a)"
   ]
  },
  {
   "cell_type": "code",
   "execution_count": 39,
   "id": "50cd1acf-25ff-40e5-b0ac-c259e5d1d058",
   "metadata": {},
   "outputs": [
    {
     "name": "stdout",
     "output_type": "stream",
     "text": [
      "{'tarik': '1,2,3,4', 'araba': 'bmw'}\n"
     ]
    }
   ],
   "source": [
    "a = {\"tarik\" : \"1,2,3,4\"}\n",
    "a[\"araba\"] = \"bmw\"\n",
    "print(a)"
   ]
  },
  {
   "cell_type": "code",
   "execution_count": 40,
   "id": "b2235937-5617-46bd-9028-dc377a0e6961",
   "metadata": {},
   "outputs": [
    {
     "name": "stdout",
     "output_type": "stream",
     "text": [
      "[1, 'hilal', 3, 4]\n"
     ]
    }
   ],
   "source": [
    "liste = [1,2,3,4]  #1. elemanla yeni elemani degistirir\n",
    "liste[1] = \"hilal\"\n",
    "print(liste)"
   ]
  },
  {
   "cell_type": "code",
   "execution_count": 42,
   "id": "9ffb21cb-9309-49ab-a0bd-e2e34839bb50",
   "metadata": {},
   "outputs": [
    {
     "name": "stdout",
     "output_type": "stream",
     "text": [
      "[1, 'hilal', 2, 3, 4]\n"
     ]
    }
   ],
   "source": [
    "liste = [1,2,3,4]   # 1. elaman olarak yeni elemani ekler\n",
    "liste.insert(1, \"hilal\")\n",
    "print(liste)           "
   ]
  },
  {
   "cell_type": "code",
   "execution_count": 43,
   "id": "e20dafa8-c665-4216-8f81-dda859dbf215",
   "metadata": {},
   "outputs": [
    {
     "name": "stdout",
     "output_type": "stream",
     "text": [
      "[1, 2, 3, 4, 'hilal']\n"
     ]
    }
   ],
   "source": [
    "liste = [1,2,3,4]\n",
    "liste.insert(6, \"hilal\")\n",
    "print(liste)       "
   ]
  },
  {
   "cell_type": "code",
   "execution_count": null,
   "id": "f66da227-b82b-4d37-913a-fc27138b7e48",
   "metadata": {},
   "outputs": [],
   "source": []
  }
 ],
 "metadata": {
  "kernelspec": {
   "display_name": "Python 3",
   "language": "python",
   "name": "python3"
  },
  "language_info": {
   "codemirror_mode": {
    "name": "ipython",
    "version": 3
   },
   "file_extension": ".py",
   "mimetype": "text/x-python",
   "name": "python",
   "nbconvert_exporter": "python",
   "pygments_lexer": "ipython3",
   "version": "3.8.8"
  }
 },
 "nbformat": 4,
 "nbformat_minor": 5
}
