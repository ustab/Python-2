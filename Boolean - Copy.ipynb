{
 "cells": [
  {
   "cell_type": "code",
   "execution_count": 1,
   "id": "5afddbbb-0278-47a8-9038-113e7efaad11",
   "metadata": {},
   "outputs": [
    {
     "data": {
      "text/plain": [
       "False"
      ]
     },
     "execution_count": 1,
     "metadata": {},
     "output_type": "execute_result"
    }
   ],
   "source": [
    "bool(\"\")"
   ]
  },
  {
   "cell_type": "code",
   "execution_count": 2,
   "id": "934ad9df-a2bf-4e57-8715-3e437a36c38c",
   "metadata": {},
   "outputs": [
    {
     "data": {
      "text/plain": [
       "False"
      ]
     },
     "execution_count": 2,
     "metadata": {},
     "output_type": "execute_result"
    }
   ],
   "source": [
    "bool([])"
   ]
  },
  {
   "cell_type": "code",
   "execution_count": 3,
   "id": "b4f93d53-63b2-4e36-90fa-77f2a081043c",
   "metadata": {},
   "outputs": [
    {
     "data": {
      "text/plain": [
       "False"
      ]
     },
     "execution_count": 3,
     "metadata": {},
     "output_type": "execute_result"
    }
   ],
   "source": [
    "bool({})"
   ]
  },
  {
   "cell_type": "code",
   "execution_count": 4,
   "id": "94dc4255-6c14-4556-b43b-29ff9f2ab5d1",
   "metadata": {},
   "outputs": [
    {
     "data": {
      "text/plain": [
       "False"
      ]
     },
     "execution_count": 4,
     "metadata": {},
     "output_type": "execute_result"
    }
   ],
   "source": [
    "bool(0)"
   ]
  },
  {
   "cell_type": "code",
   "execution_count": 5,
   "id": "5cc31a54-fb9b-4a23-bb8a-f18bc2068a26",
   "metadata": {},
   "outputs": [
    {
     "data": {
      "text/plain": [
       "False"
      ]
     },
     "execution_count": 5,
     "metadata": {},
     "output_type": "execute_result"
    }
   ],
   "source": [
    "bool(0j)"
   ]
  },
  {
   "cell_type": "code",
   "execution_count": 6,
   "id": "d6d205be-378e-4c7c-92b6-6c865b9aa279",
   "metadata": {},
   "outputs": [
    {
     "name": "stdout",
     "output_type": "stream",
     "text": [
      "{}\n"
     ]
    }
   ],
   "source": [
    "print(False or {})"
   ]
  },
  {
   "cell_type": "code",
   "execution_count": 7,
   "id": "fa0af611-6ca7-49de-9333-0de46ecb9f57",
   "metadata": {},
   "outputs": [
    {
     "name": "stdout",
     "output_type": "stream",
     "text": [
      "(penalty regime: 0, 10, 20, ... %)\n"
     ]
    }
   ],
   "source": [
    "print(\"(penalty regime: 0, 10, 20, ... %)\" or [])"
   ]
  },
  {
   "cell_type": "code",
   "execution_count": 12,
   "id": "aa0cb815-778b-4aa8-98de-241212012138",
   "metadata": {},
   "outputs": [
    {
     "data": {
      "text/plain": [
       "True"
      ]
     },
     "execution_count": 12,
     "metadata": {},
     "output_type": "execute_result"
    }
   ],
   "source": [
    "kadayif = True\n",
    "# ic\n",
    "findik = True\n",
    "fistik = True\n",
    "ceviz = True\n",
    "# serbet\n",
    "su = True\n",
    "seker = True\n",
    "\n",
    "yumurta = True\n",
    "\n",
    "# icecek\n",
    "cay = True\n",
    "mesrubat = True\n",
    "limonata = True\n",
    "\n",
    "yedim = kadayif and (findik or fistik or ceviz) and (su and seker) and yumurta and (cay or mesrubay or limonata)\n",
    "yedim\n"
   ]
  },
  {
   "cell_type": "code",
   "execution_count": 14,
   "id": "ee228b74-5f1e-4fe0-910d-48d1caeeb4d7",
   "metadata": {},
   "outputs": [
    {
     "name": "stdout",
     "output_type": "stream",
     "text": [
      "Word           : Orange\n"
     ]
    }
   ],
   "source": [
    "fruit = 'Orange'\n",
    "print('Word           :', fruit)"
   ]
  },
  {
   "cell_type": "code",
   "execution_count": 17,
   "id": "a6431f7b-262f-4d9a-acc4-b4ebf55bc267",
   "metadata": {},
   "outputs": [
    {
     "data": {
      "text/plain": [
       "'ar'"
      ]
     },
     "execution_count": 17,
     "metadata": {},
     "output_type": "execute_result"
    }
   ],
   "source": [
    "okul = \"clarus\"\n",
    "okul[2:4]"
   ]
  },
  {
   "cell_type": "code",
   "execution_count": 18,
   "id": "160a8daa-678f-447b-a37a-ef13771d73de",
   "metadata": {},
   "outputs": [
    {
     "data": {
      "text/plain": [
       "'ran'"
      ]
     },
     "execution_count": 18,
     "metadata": {},
     "output_type": "execute_result"
    }
   ],
   "source": [
    "fruit = 'Orange'\n",
    "fruit[-5:-2]"
   ]
  },
  {
   "cell_type": "code",
   "execution_count": 20,
   "id": "1a62faea-8b0e-447d-be6b-6d0d93a916ac",
   "metadata": {},
   "outputs": [
    {
     "data": {
      "text/plain": [
       "'gna'"
      ]
     },
     "execution_count": 20,
     "metadata": {},
     "output_type": "execute_result"
    }
   ],
   "source": [
    "fruit = 'Orange'\n",
    "fruit[-2:-5:-1]"
   ]
  },
  {
   "cell_type": "code",
   "execution_count": 21,
   "id": "e3b5d73b-db47-42bc-a63b-b87957c392d0",
   "metadata": {},
   "outputs": [
    {
     "data": {
      "text/plain": [
       "'hoe'"
      ]
     },
     "execution_count": 21,
     "metadata": {},
     "output_type": "execute_result"
    }
   ],
   "source": [
    "kus = \"phoenix\"\n",
    "kus[1:4]"
   ]
  },
  {
   "cell_type": "code",
   "execution_count": 22,
   "id": "2f59f383-de0e-4477-98da-7617569489b8",
   "metadata": {},
   "outputs": [
    {
     "data": {
      "text/plain": [
       "'hoe'"
      ]
     },
     "execution_count": 22,
     "metadata": {},
     "output_type": "execute_result"
    }
   ],
   "source": [
    "kus = \"phoenix\"\n",
    "kus[-6:-3]"
   ]
  },
  {
   "cell_type": "code",
   "execution_count": 23,
   "id": "1c2de379-5abf-4652-acb5-434ea8651a40",
   "metadata": {},
   "outputs": [
    {
     "data": {
      "text/plain": [
       "'hoe'"
      ]
     },
     "execution_count": 23,
     "metadata": {},
     "output_type": "execute_result"
    }
   ],
   "source": [
    "kus = \"phoenix\"\n",
    "kus[1:-3]"
   ]
  },
  {
   "cell_type": "code",
   "execution_count": 25,
   "id": "909435fd-3391-4c3b-9c2f-5613ea690344",
   "metadata": {},
   "outputs": [
    {
     "data": {
      "text/plain": [
       "'hoe'"
      ]
     },
     "execution_count": 25,
     "metadata": {},
     "output_type": "execute_result"
    }
   ],
   "source": [
    "kus = \"phoenix\"\n",
    "kus[-6:4]"
   ]
  },
  {
   "cell_type": "code",
   "execution_count": 26,
   "id": "d7081952-18b0-4cf9-ab89-e2996ba45f2d",
   "metadata": {},
   "outputs": [
    {
     "data": {
      "text/plain": [
       "11"
      ]
     },
     "execution_count": 26,
     "metadata": {},
     "output_type": "execute_result"
    }
   ],
   "source": [
    "len(\"hipopotamus\")"
   ]
  },
  {
   "cell_type": "code",
   "execution_count": 27,
   "id": "ba4d529e-8ff2-4ea0-9b40-48c58f4f1f1b",
   "metadata": {},
   "outputs": [
    {
     "data": {
      "text/plain": [
       "'rusw'"
      ]
     },
     "execution_count": 27,
     "metadata": {},
     "output_type": "execute_result"
    }
   ],
   "source": [
    "isim = (\"clarusway okulu\")\n",
    "isim[3:7]"
   ]
  },
  {
   "cell_type": "code",
   "execution_count": 28,
   "id": "305ecf78-950a-4c0b-a17d-b235572f0f2b",
   "metadata": {},
   "outputs": [
    {
     "data": {
      "text/plain": [
       "' '"
      ]
     },
     "execution_count": 28,
     "metadata": {},
     "output_type": "execute_result"
    }
   ],
   "source": [
    "isim[9]"
   ]
  },
  {
   "cell_type": "code",
   "execution_count": 30,
   "id": "05304139-b3d8-4d7f-a8b6-f5123bc9ccf4",
   "metadata": {},
   "outputs": [
    {
     "data": {
      "text/plain": [
       "'cauwyouu'"
      ]
     },
     "execution_count": 30,
     "metadata": {},
     "output_type": "execute_result"
    }
   ],
   "source": [
    "isim[::2]"
   ]
  },
  {
   "cell_type": "code",
   "execution_count": 33,
   "id": "4256ca6e-313f-42b5-87ea-5d41c11e2ff4",
   "metadata": {},
   "outputs": [
    {
     "data": {
      "text/plain": [
       "'clarusway okulu'"
      ]
     },
     "execution_count": 33,
     "metadata": {},
     "output_type": "execute_result"
    }
   ],
   "source": [
    "isim[::]"
   ]
  },
  {
   "cell_type": "code",
   "execution_count": 34,
   "id": "874be2a3-a7f8-4752-a5c8-68b53d0c2688",
   "metadata": {},
   "outputs": [
    {
     "data": {
      "text/plain": [
       "'uluko yawsuralc'"
      ]
     },
     "execution_count": 34,
     "metadata": {},
     "output_type": "execute_result"
    }
   ],
   "source": [
    "isim[::-1]"
   ]
  },
  {
   "cell_type": "code",
   "execution_count": 35,
   "id": "c2e8be1c-cb37-42a1-8956-0302a1a5902f",
   "metadata": {},
   "outputs": [
    {
     "data": {
      "text/plain": [
       "'rusway '"
      ]
     },
     "execution_count": 35,
     "metadata": {},
     "output_type": "execute_result"
    }
   ],
   "source": [
    "isim[-12:10]"
   ]
  },
  {
   "cell_type": "code",
   "execution_count": 36,
   "id": "81aaba70-a4ae-4902-ad6b-6c3e18f74e31",
   "metadata": {},
   "outputs": [
    {
     "data": {
      "text/plain": [
       "''"
      ]
     },
     "execution_count": 36,
     "metadata": {},
     "output_type": "execute_result"
    }
   ],
   "source": [
    "isim[-12:-5:-1]"
   ]
  },
  {
   "cell_type": "code",
   "execution_count": 37,
   "id": "d127dccb-2d80-46b5-af83-ed3d9621fab5",
   "metadata": {},
   "outputs": [
    {
     "data": {
      "text/plain": [
       "'uko yaws'"
      ]
     },
     "execution_count": 37,
     "metadata": {},
     "output_type": "execute_result"
    }
   ],
   "source": [
    "isim[-3:-11:-1]"
   ]
  },
  {
   "cell_type": "code",
   "execution_count": 38,
   "id": "b0d651b1-9216-45fb-89c7-4a161df79db1",
   "metadata": {},
   "outputs": [
    {
     "data": {
      "text/plain": [
       "''"
      ]
     },
     "execution_count": 38,
     "metadata": {},
     "output_type": "execute_result"
    }
   ],
   "source": [
    "isim[12:6]"
   ]
  },
  {
   "cell_type": "code",
   "execution_count": 39,
   "id": "11ce7c9f-67eb-4dc9-b9a4-dbafba50fa2b",
   "metadata": {},
   "outputs": [
    {
     "data": {
      "text/plain": [
       "'uko ya'"
      ]
     },
     "execution_count": 39,
     "metadata": {},
     "output_type": "execute_result"
    }
   ],
   "source": [
    "isim[12:6:-1]"
   ]
  },
  {
   "cell_type": "code",
   "execution_count": null,
   "id": "209d03ed-c9c4-4717-8e6e-d302213f331b",
   "metadata": {},
   "outputs": [],
   "source": []
  },
  {
   "cell_type": "code",
   "execution_count": null,
   "id": "44d6b8a4-a5d7-40e3-a8a4-de2fc2a8d261",
   "metadata": {},
   "outputs": [],
   "source": []
  }
 ],
 "metadata": {
  "kernelspec": {
   "display_name": "Python 3",
   "language": "python",
   "name": "python3"
  },
  "language_info": {
   "codemirror_mode": {
    "name": "ipython",
    "version": 3
   },
   "file_extension": ".py",
   "mimetype": "text/x-python",
   "name": "python",
   "nbconvert_exporter": "python",
   "pygments_lexer": "ipython3",
   "version": "3.8.8"
  }
 },
 "nbformat": 4,
 "nbformat_minor": 5
}
