{
 "cells": [
  {
   "cell_type": "code",
   "execution_count": 1,
   "id": "67d2a640-15fb-412b-b638-28fa6f1d95b1",
   "metadata": {},
   "outputs": [
    {
     "name": "stdout",
     "output_type": "stream",
     "text": [
      "mean: 37.0\n",
      "median: 30.0\n",
      "mode: ModeResult(mode=array([33]), count=array([3]))\n"
     ]
    }
   ],
   "source": [
    "import numpy as np\n",
    "from scipy import stats\n",
    "\n",
    "salary = [102, 33, 26, 27, 30, 25, 33, 33, 24]\n",
    "\n",
    "mean_salary = np.mean(salary)\n",
    "print(\"mean:\", mean_salary)\n",
    "\n",
    "median_salary = np.median(salary)\n",
    "print(\"median:\", median_salary)\n",
    "\n",
    "mode_salary = stats.mode(salary)\n",
    "print(\"mode:\", mode_salary)\n"
   ]
  },
  {
   "cell_type": "code",
   "execution_count": 1,
   "id": "8cf62061-19d8-43eb-8fcf-231b9c3f2cdc",
   "metadata": {},
   "outputs": [
    {
     "name": "stdout",
     "output_type": "stream",
     "text": [
      "Range:  78\n",
      "Variance:  539.5555555555555\n",
      "Std:  23.22833518691246\n"
     ]
    }
   ],
   "source": [
    "import numpy as np\n",
    "\n",
    "salary = [102, 33, 26, 27, 30, 25, 33, 33, 24]\n",
    "\n",
    "print(\"Range: \", (np.max(salary)-np.min(salary)))\n",
    "\n",
    "print(\"Variance: \", (np.var(salary)))\n",
    "\n",
    "print(\"Std: \", (np.std(salary)))\n"
   ]
  },
  {
   "cell_type": "code",
   "execution_count": 2,
   "id": "e18d061c-2ba7-4638-8c39-deb5125f924e",
   "metadata": {},
   "outputs": [],
   "source": [
    "import numpy as np\n",
    "import matplotlib.pyplot as plt\n",
    "import seaborn as sns\n",
    "from scipy import stats"
   ]
  },
  {
   "cell_type": "code",
   "execution_count": 1,
   "id": "c4a35465-21ba-4973-a30e-bf30a39fe48f",
   "metadata": {},
   "outputs": [
    {
     "name": "stdout",
     "output_type": "stream",
     "text": [
      "covariance:  [[102.56666667  24.        ]\n",
      " [ 24.           6.8       ]]\n",
      "correlation:  [[1.         0.90876934]\n",
      " [0.90876934 1.        ]]\n"
     ]
    }
   ],
   "source": [
    "import numpy as np\n",
    "\n",
    "temp=[93,84,82,78,98,70]\n",
    "\n",
    "number_of_people=[13,10, 11, 8, 15, 9]\n",
    "\n",
    "print(\"covariance: \", np.cov(temp, number_of_people))\n",
    "\n",
    "print(\"correlation: \", np.corrcoef(temp, number_of_people))\n"
   ]
  },
  {
   "cell_type": "code",
   "execution_count": null,
   "id": "31421473-fea5-4a91-b836-920780605c10",
   "metadata": {},
   "outputs": [],
   "source": []
  }
 ],
 "metadata": {
  "kernelspec": {
   "display_name": "Python 3",
   "language": "python",
   "name": "python3"
  },
  "language_info": {
   "codemirror_mode": {
    "name": "ipython",
    "version": 3
   },
   "file_extension": ".py",
   "mimetype": "text/x-python",
   "name": "python",
   "nbconvert_exporter": "python",
   "pygments_lexer": "ipython3",
   "version": "3.8.8"
  }
 },
 "nbformat": 4,
 "nbformat_minor": 5
}
