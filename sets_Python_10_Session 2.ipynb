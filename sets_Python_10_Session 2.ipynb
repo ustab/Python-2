{
 "cells": [
  {
   "cell_type": "code",
   "execution_count": null,
   "metadata": {
    "id": "8Q2cRXIjCOGG"
   },
   "outputs": [],
   "source": []
  },
  {
   "cell_type": "code",
   "execution_count": null,
   "metadata": {
    "id": "U0LcA5j-_N5E"
   },
   "outputs": [],
   "source": [
    "##################   Pre Class        ######################"
   ]
  },
  {
   "cell_type": "code",
   "execution_count": null,
   "metadata": {
    "id": "IWMsYzWALJtF"
   },
   "outputs": [],
   "source": [
    "# ## Önemli bir hatirlatma ve Kolaylik:\n",
    "\n",
    "# Python da bir satiri yada birden cok satiri ayni anda iki tarafindan parantez yada\n",
    "\n",
    "# tirnak icerisine nasil aliriz??\n",
    "\n",
    "# Tüm satirlari seciyoruz ve sonra ne icerisine almak istiyorsak o tusa basiyoruz \n",
    "\n",
    "# mesela süslü parantez alt + 7  tusu ile cikiyor benim pc' m de.\n",
    "\n",
    "# tüm satirlari secip alt + 7 yapiyoruz\n",
    "\n",
    "# peki ikisini nasil ayni anda geri aliyoruz \n",
    "\n",
    "# control + z (colab de)\n",
    "\n",
    "\n",
    "                                        "
   ]
  },
  {
   "cell_type": "code",
   "execution_count": null,
   "metadata": {
    "id": "WsLDqYQCLJ_W"
   },
   "outputs": [],
   "source": []
  },
  {
   "cell_type": "code",
   "execution_count": null,
   "metadata": {
    "colab": {
     "base_uri": "https://localhost:8080/"
    },
    "id": "yEjFdckpCRM2",
    "outputId": "a435f253-d5db-472e-f7d4-dfd8557288e7"
   },
   "outputs": [
    {
     "name": "stdout",
     "output_type": "stream",
     "text": [
      "[1234]\n",
      "[]\n",
      "[True, []]\n",
      "()\n",
      "['123']\n",
      "[]\n"
     ]
    }
   ],
   "source": [
    "##  Check your self ??\n",
    "\n",
    "## Which of following creates a new list in a correct way?\n",
    "\n",
    "print([1234])  \n",
    "\n",
    "print(list())  ## \n",
    "\n",
    "print([True, []]) ## \n",
    "\n",
    "#print(list[123])  #**\n",
    "\n",
    "#print(list(123)) ###\n",
    "\n",
    "print(())  #----- \n",
    "\n",
    "print(list(['123']))  #---   \n",
    "\n",
    "print([])  ## bos  "
   ]
  },
  {
   "cell_type": "code",
   "execution_count": null,
   "metadata": {
    "id": "1-OpLlzsCUKA"
   },
   "outputs": [],
   "source": []
  },
  {
   "cell_type": "code",
   "execution_count": null,
   "metadata": {
    "id": "TrGIArtGCUML"
   },
   "outputs": [],
   "source": []
  },
  {
   "cell_type": "code",
   "execution_count": null,
   "metadata": {
    "id": "mLNhjFZ3CUN9"
   },
   "outputs": [],
   "source": [
    "# Set(Küme) yöntemlerini tanımlarıyla eşleştiriniz\n",
    "\n",
    "# intersection()                        ## Bir öğeyi silmemizi sağlar. \n",
    "\n",
    "# remove()                              ## ### İki kümenin kesişimini döndürür.\n",
    "                                \n",
    "# difference()                          ### İki kümenin birleşimini döndürür.\n",
    "\n",
    "# union()                               ### İki kümenin farkını alır.\n",
    "\n",
    "# add()                                 ##  Kümeye yeni bir öğe ekler.\n",
    "\n"
   ]
  },
  {
   "cell_type": "code",
   "execution_count": null,
   "metadata": {
    "id": "tlHnRJpnCUP6"
   },
   "outputs": [],
   "source": []
  },
  {
   "cell_type": "code",
   "execution_count": null,
   "metadata": {
    "id": "Zp9YlIztCURw"
   },
   "outputs": [],
   "source": []
  },
  {
   "cell_type": "code",
   "execution_count": null,
   "metadata": {
    "id": "rptmKHQLCUTy"
   },
   "outputs": [],
   "source": [
    "##############   Set  (Küme) ################"
   ]
  },
  {
   "cell_type": "code",
   "execution_count": null,
   "metadata": {
    "id": "Zi3xPlTFCUVa"
   },
   "outputs": [],
   "source": [
    "# Set sıralı düzende olmayan elemanların bir koleksiyonudur. Yani unordered dir\n",
    "\n",
    "# Kümeler matematikteki kümeler ile ayni mantikta calisir\n",
    "\n",
    "# Temel kullanımlar, üyelik testini  ve yinelenen girişleri ortadan kaldırmayı içerir.\n",
    "\n",
    "# Yani set lerde tekrara yer yoktur. Ve her bir eleman unique dir. (no repetition)\n",
    "\n",
    "# biz seti nasil tanimlarsak tanimlayalim  print ettigimizde python tekrar eden elemanlari\n",
    "\n",
    "# cikartir ve kendi istedigi sirada print eder.\n",
    "\n",
    "# dolayisi ile set lerde sort diye bir method söz konusu degildir.\n",
    "\n",
    "# sorted vardir liste yapar \n",
    "\n",
    "# Hicbir elemani index numarasina göre indexleyemez yada slicing yapamayiz. Cünkü\n",
    "\n",
    "# mesela su an 3. index numarasinda bulunan elemanimiz baska bir zaman calistirdigimizda \n",
    "\n",
    "# 13. index numarasinda bulunabilir. Ancak bir kernel da bir kez calistirdiktan sonra \n",
    "\n",
    "# calisma zamanini yenilemedigimiz sürece ayni sonucu verir\n",
    "\n",
    "kümemiz = [1,2,3,1,2,0,1,2,3]  # Bu set de 9 elemanimiz var. \n",
    "\n",
    "print(len(kümemiz))            # 1. ve 2. output larda kac elemanimiz olur??\n",
    "\n",
    "\n",
    "kümemiz = {1,2,3,1,2,0,1,2,3}\n",
    "\n",
    "print(len(kümemiz))"
   ]
  },
  {
   "cell_type": "code",
   "execution_count": null,
   "metadata": {
    "colab": {
     "base_uri": "https://localhost:8080/"
    },
    "id": "3JIwbHqipPjV",
    "outputId": "6003af4b-a995-4aa9-e73e-d29c394c8415"
   },
   "outputs": [
    {
     "name": "stdout",
     "output_type": "stream",
     "text": [
      "{100, 1, 34, 50}\n"
     ]
    }
   ],
   "source": [
    "setim = {1, 100, 50, 34}    ##  unordered\n",
    "\n",
    "print(set(sorted(setim)))       ###  hata verir "
   ]
  },
  {
   "cell_type": "code",
   "execution_count": null,
   "metadata": {
    "id": "zVMyrs7NpPpX"
   },
   "outputs": [],
   "source": []
  },
  {
   "cell_type": "code",
   "execution_count": null,
   "metadata": {
    "id": "sOdg8dGCpPue"
   },
   "outputs": [],
   "source": []
  },
  {
   "cell_type": "code",
   "execution_count": null,
   "metadata": {
    "id": "fMNQrjay52G9"
   },
   "outputs": [],
   "source": [
    "# Küme nesneleri aynı zamanda birleşim, kesişim, fark ve simetrik fark gibi \n",
    "# matematiksel işlemleri de destekler.\n",
    "\n",
    "# İçlerinde birden fazla veri tutabilirler, ancak yalnızca bir değeri vardır. \n",
    "\n",
    "# Hangi sırayla dahil edildiklerinin değil, yalnızca bazı şeylerin \n",
    "\n",
    "# birlikte gruplandırılmasının önemli olduğu durumlarda kullanılırlar."
   ]
  },
  {
   "cell_type": "code",
   "execution_count": null,
   "metadata": {
    "id": "Fev2BadG5-4g"
   },
   "outputs": [],
   "source": [
    "## Peki veri giris tarihlerimizin önemli oldugu ve bu tarih siralamasinin kesinlikle\n",
    "\n",
    "# degismemesi gereken mesela sirkete katilan personel tarihleri gibi veriler icin \n",
    "\n",
    "# hangi collection type i kullanmamiz gerekir ??"
   ]
  },
  {
   "cell_type": "code",
   "execution_count": null,
   "metadata": {
    "colab": {
     "base_uri": "https://localhost:8080/"
    },
    "id": "FHADSNIJA3Mv",
    "outputId": "d3ab0f5f-e5ae-4c5e-89dd-4c4c3edb5397"
   },
   "outputs": [
    {
     "name": "stdout",
     "output_type": "stream",
     "text": [
      "['a', 'b', 'c', 'd', 'e', 'f', 'g']\n",
      "<class 'list'>\n",
      "<class 'str'>\n"
     ]
    }
   ],
   "source": [
    "### Hatirlatma\n",
    "\n",
    "## split() func nasil kullanilir? \n",
    "\n",
    "string = \"a b c d e f g\".split()  ## split() func default' u space dir.\n",
    "\n",
    "print(string)                  ### sirasiyla outputlarimiz nelerdir ? \n",
    " \n",
    "print(type(string))\n",
    "\n",
    "print(type(string[0]))     #### outputlarimizda veri tiplerine dikkat    "
   ]
  },
  {
   "cell_type": "code",
   "execution_count": null,
   "metadata": {
    "colab": {
     "base_uri": "https://localhost:8080/"
    },
    "id": "pyKRt0Qg5_d7",
    "outputId": "4d9bcde2-2044-4089-f15e-288922baa5f6"
   },
   "outputs": [
    {
     "name": "stdout",
     "output_type": "stream",
     "text": [
      "['a', 'b', 'c', 'd', 'e', 'f', 'g']\n",
      "<class 'list'>\n",
      "<class 'str'>\n"
     ]
    }
   ],
   "source": [
    "string = \"a*b*c*d*e*f*g\".split(\"*\")   ### Attention: Burada sonuc ne olur?  \n",
    "                                    ## Error alir miyiz ??\n",
    "print(string)                  \n",
    " \n",
    "print(type(string))\n",
    "\n",
    "print(type(string[0])) "
   ]
  },
  {
   "cell_type": "code",
   "execution_count": null,
   "metadata": {
    "colab": {
     "base_uri": "https://localhost:8080/"
    },
    "id": "-vahHvjlCH5H",
    "outputId": "79639d2b-4525-401a-f201-c78848a6fa5f"
   },
   "outputs": [
    {
     "name": "stdout",
     "output_type": "stream",
     "text": [
      "a-\n"
     ]
    }
   ],
   "source": [
    "string = \"a-\"         #  iterable       immutable\n",
    "\n",
    "string = \"-\".join(string.split(\"-\"))                 ### bizce split func bu sekilde calisir mi ? \n",
    "                                 ##  output ??\n",
    "print(string)            "
   ]
  },
  {
   "cell_type": "code",
   "execution_count": null,
   "metadata": {
    "id": "HbXDJ1ZeBoSm"
   },
   "outputs": [],
   "source": [
    "### split() func calisma prensibini ögrendik.\n",
    "\n",
    "# Peki strip()  func'i hatirlayanimiz var mi ??\n",
    "\n"
   ]
  },
  {
   "cell_type": "code",
   "execution_count": null,
   "metadata": {
    "id": "mYV6fw_dDss9"
   },
   "outputs": [],
   "source": []
  },
  {
   "cell_type": "code",
   "execution_count": null,
   "metadata": {
    "colab": {
     "base_uri": "https://localhost:8080/"
    },
    "id": "6NftSennDtMP",
    "outputId": "645af9a7-8268-4309-802a-9521ca88fe20"
   },
   "outputs": [
    {
     "name": "stdout",
     "output_type": "stream",
     "text": [
      "a+b+c+d+e+f+g\n",
      " a+b+c+d+e+f+g \n"
     ]
    }
   ],
   "source": [
    "string = \" a+b+c+d+e+f+g                        \".strip()  ## iki adet output umuz var\n",
    "                                    # bizce fark nedir??\n",
    "print(string)\n",
    "\n",
    "print(\" a+b+c+d+e+f+g \")"
   ]
  },
  {
   "cell_type": "code",
   "execution_count": null,
   "metadata": {
    "colab": {
     "base_uri": "https://localhost:8080/"
    },
    "id": "h5NGu15dD-GR",
    "outputId": "6ca811fd-aa96-4d0c-8300-6f3ed804b603"
   },
   "outputs": [
    {
     "name": "stdout",
     "output_type": "stream",
     "text": [
      "\n"
     ]
    }
   ],
   "source": [
    "## ayni split() func gibi strip() func nin da default' u space dir.\n",
    "\n",
    "## peki biz sagdaki ve soldaki elemanlari traslama methodu ile nasil keseriz??\n",
    "\n",
    "## Burada output nedir? sagdan ve soldan sadece birer + mi keseriz ? yoksa tüm artilari mi?\n",
    "\n",
    "eskistring = \"++++++++abcdefg++++++++++++++++++++++++++++++++++\"\n",
    "\n",
    "yenistring = eskistring.strip(\"+abcdefg\")   ### Attention: +++ lar \"\" icerisinde kullaniyoruz\n",
    "\n",
    "print(yenistring)     "
   ]
  },
  {
   "cell_type": "code",
   "execution_count": null,
   "metadata": {
    "id": "PILKKIx2FDmA"
   },
   "outputs": [],
   "source": []
  },
  {
   "cell_type": "code",
   "execution_count": null,
   "metadata": {
    "id": "BSKjLB0tCRO-"
   },
   "outputs": [],
   "source": [
    "                  ######  Yeni bir set olusturma    ######"
   ]
  },
  {
   "cell_type": "code",
   "execution_count": null,
   "metadata": {
    "id": "oR89YaMGCRQz"
   },
   "outputs": [],
   "source": [
    "# Set olusturmanin iki yöntemi vardir\n",
    "\n",
    "# Süslü parantez {} veya set() func set oluşturmak için kullanılabilir . \n",
    "\n",
    "# Ancak boş bir set oluşturmanın tek yolu şudur: set()  func\n",
    "\n",
    "a = {}"
   ]
  },
  {
   "cell_type": "code",
   "execution_count": null,
   "metadata": {
    "colab": {
     "base_uri": "https://localhost:8080/"
    },
    "id": "ayvASLF0IQAO",
    "outputId": "8cada9d4-6954-4544-fe86-2a28e7517888"
   },
   "outputs": [
    {
     "name": "stdout",
     "output_type": "stream",
     "text": [
      "[] <class 'list'>\n"
     ]
    }
   ],
   "source": [
    "# Öncelikle Bos liste, bos tuple ve bos dict olusturmayi hatirlayalim\n",
    "\n",
    "a = []\n",
    "\n",
    "print(a, type(a))"
   ]
  },
  {
   "cell_type": "code",
   "execution_count": null,
   "metadata": {
    "colab": {
     "base_uri": "https://localhost:8080/"
    },
    "id": "bLb1UWbwIQCG",
    "outputId": "a6027e8a-0315-4e44-9962-a7c71c382a24"
   },
   "outputs": [
    {
     "name": "stdout",
     "output_type": "stream",
     "text": [
      "() <class 'tuple'>\n"
     ]
    }
   ],
   "source": [
    "b = ()\n",
    "\n",
    "print(b, type(b))"
   ]
  },
  {
   "cell_type": "code",
   "execution_count": null,
   "metadata": {
    "colab": {
     "base_uri": "https://localhost:8080/"
    },
    "id": "WZf9pRRlIQD-",
    "outputId": "ce843228-efba-414f-f3d1-85541a6960a8"
   },
   "outputs": [
    {
     "name": "stdout",
     "output_type": "stream",
     "text": [
      "{} <class 'dict'>\n"
     ]
    }
   ],
   "source": [
    "c = {}\n",
    "\n",
    "print(c, type(c))\n",
    "\n",
    "# Biz bos {} kullandigimizda bos set degil bos dict üretir.\n",
    "\n",
    "# Iste bu nedenle bizim bos bir set olusturmamizin tek yolu set() kullanmaktir\n",
    "\n",
    "# d = set()\n",
    "\n",
    "# print(d, type(d))"
   ]
  },
  {
   "cell_type": "code",
   "execution_count": null,
   "metadata": {
    "id": "s3OisOTPxeeT"
   },
   "outputs": [],
   "source": [
    "a = {\"ankara\" : \"baskent\"}\n",
    "\n",
    "a = 123    "
   ]
  },
  {
   "cell_type": "code",
   "execution_count": null,
   "metadata": {
    "id": "sPcOhFyU21mu"
   },
   "outputs": [],
   "source": [
    "d = {}\n",
    "\n",
    "print(d, type(d))   "
   ]
  },
  {
   "cell_type": "code",
   "execution_count": null,
   "metadata": {
    "colab": {
     "base_uri": "https://localhost:8080/"
    },
    "id": "QwXIrumt3W5q",
    "outputId": "6f6b1f0b-7fb4-4bc5-df0f-0887d0379240"
   },
   "outputs": [
    {
     "name": "stdout",
     "output_type": "stream",
     "text": [
      "<class 'set'>\n"
     ]
    }
   ],
   "source": [
    "## Peki biz  manuel olarak {} acsak ve araya bir bosluk koysak \n",
    "\n",
    "# 1: Veri tipi ne olur \n",
    "\n",
    "# 2: Setin uzunlugu ne olur ??           \n",
    "\n",
    "# d = {1} \n",
    "\n",
    "# d.remove(1)\n",
    "\n",
    "# print(d, type(d), len(d))   \n",
    "\n",
    "a = set()\n",
    "print(type(a))        "
   ]
  },
  {
   "cell_type": "code",
   "execution_count": null,
   "metadata": {
    "colab": {
     "base_uri": "https://localhost:8080/"
    },
    "id": "kc4Y661H4CyB",
    "outputId": "e40a8276-44e7-4f2e-cc3d-48f6dcdf87d6"
   },
   "outputs": [
    {
     "name": "stdout",
     "output_type": "stream",
     "text": [
      "{None} <class 'set'> 1\n"
     ]
    }
   ],
   "source": [
    "# Peki sizce None ile bos bir set olusturabilir miyiz ?\n",
    "\n",
    "# outputumuzun len' i ne kadardir ??\n",
    "\n",
    "d = {None}\n",
    "\n",
    "print(d, type(d), len(d)) "
   ]
  },
  {
   "cell_type": "code",
   "execution_count": null,
   "metadata": {
    "colab": {
     "base_uri": "https://localhost:8080/"
    },
    "id": "j74cGLN79LKK",
    "outputId": "28729ca0-9696-465a-cfd9-d7fb9a57711f"
   },
   "outputs": [
    {
     "name": "stdout",
     "output_type": "stream",
     "text": [
      "232\n"
     ]
    }
   ],
   "source": [
    "## Pekiiiiii\n",
    "\n",
    "# Hic merak ettik mi ??\n",
    "\n",
    "## Bos bir set ile tek elemanli bir set in kapladigi alanlar kac byte dir ???\n",
    "\n",
    "import sys\n",
    "\n",
    "c = set()\n",
    "\n",
    "print(sys.getsizeof(c))"
   ]
  },
  {
   "cell_type": "code",
   "execution_count": null,
   "metadata": {
    "colab": {
     "base_uri": "https://localhost:8080/"
    },
    "id": "mLxf85uQ7bWQ",
    "outputId": "9dbb97da-fb12-47cc-9383-1ec6f4ec9204"
   },
   "outputs": [
    {
     "name": "stdout",
     "output_type": "stream",
     "text": [
      "232\n"
     ]
    }
   ],
   "source": [
    "import sys\n",
    "\n",
    "d = {\"selamlar python ders tekrari grubu\", 12345}\n",
    "\n",
    "print(sys.getsizeof(d)) "
   ]
  },
  {
   "cell_type": "code",
   "execution_count": null,
   "metadata": {
    "colab": {
     "base_uri": "https://localhost:8080/"
    },
    "id": "IKmWitX5-CbN",
    "outputId": "229daa93-d2e2-482a-ea3b-29b182f86362"
   },
   "outputs": [
    {
     "name": "stdout",
     "output_type": "stream",
     "text": [
      "53\n",
      "56\n",
      "72\n",
      "232\n",
      "248\n",
      "32\n",
      "28\n"
     ]
    }
   ],
   "source": [
    "## Bizce asagidaki verilerin boyutlari  nasildir ??\n",
    "\n",
    "import sys\n",
    "\n",
    "a = \"\"\n",
    "b = ()\n",
    "c = []\n",
    "d = set()\n",
    "e = {}\n",
    "f = 3  + 5j\n",
    "g = 9\n",
    "print(sys.getsizeof(a))\n",
    "print(sys.getsizeof(b))\n",
    "print(sys.getsizeof(c))\n",
    "print(sys.getsizeof(d))   \n",
    "print(sys.getsizeof(e))\n",
    "print(sys.getsizeof(f))\n",
    "print(sys.getsizeof(g))"
   ]
  },
  {
   "cell_type": "code",
   "execution_count": null,
   "metadata": {
    "colab": {
     "base_uri": "https://localhost:8080/"
    },
    "id": "VbrzgpqMc6ap",
    "outputId": "5ae93170-eee1-44a8-fc74-09545fadc405"
   },
   "outputs": [
    {
     "name": "stdout",
     "output_type": "stream",
     "text": [
      "{1, '1'}\n",
      "2\n"
     ]
    },
    {
     "data": {
      "text/plain": [
       "True"
      ]
     },
     "execution_count": 106,
     "metadata": {},
     "output_type": "execute_result"
    }
   ],
   "source": [
    "## Asagidaki setimizin eleman sayisi output da kactir ??\n",
    "\n",
    "setimiz = {1, \"1\", 1.0}        \n",
    "\n",
    "print(setimiz)\n",
    "\n",
    "print(len(setimiz)) \n",
    "\n",
    "1 == 1.0            "
   ]
  },
  {
   "cell_type": "code",
   "execution_count": null,
   "metadata": {
    "colab": {
     "base_uri": "https://localhost:8080/",
     "height": 238
    },
    "id": "LOt2CETQdjNK",
    "outputId": "29d1646f-1c35-4f80-c921-bafa4ce7d9a4"
   },
   "outputs": [
    {
     "ename": "TypeError",
     "evalue": "ignored",
     "output_type": "error",
     "traceback": [
      "\u001b[0;31m---------------------------------------------------------------------------\u001b[0m",
      "\u001b[0;31mTypeError\u001b[0m                                 Traceback (most recent call last)",
      "\u001b[0;32m<ipython-input-110-335ba9858343>\u001b[0m in \u001b[0;36m<module>\u001b[0;34m()\u001b[0m\n\u001b[1;32m      3\u001b[0m \u001b[0mlistem\u001b[0m \u001b[0;34m=\u001b[0m \u001b[0;34m[\u001b[0m\u001b[0;36m1\u001b[0m\u001b[0;34m,\u001b[0m \u001b[0;36m2\u001b[0m\u001b[0;34m,\u001b[0m \u001b[0;36m3\u001b[0m\u001b[0;34m,\u001b[0m \u001b[0;36m4\u001b[0m\u001b[0;34m,\u001b[0m \u001b[0;36m5\u001b[0m\u001b[0;34m]\u001b[0m\u001b[0;34m\u001b[0m\u001b[0;34m\u001b[0m\u001b[0m\n\u001b[1;32m      4\u001b[0m \u001b[0;34m\u001b[0m\u001b[0m\n\u001b[0;32m----> 5\u001b[0;31m \u001b[0msetim1\u001b[0m \u001b[0;34m=\u001b[0m \u001b[0;34m{\u001b[0m\u001b[0mlistem\u001b[0m\u001b[0;34m}\u001b[0m\u001b[0;34m\u001b[0m\u001b[0;34m\u001b[0m\u001b[0m\n\u001b[0m\u001b[1;32m      6\u001b[0m \u001b[0;34m\u001b[0m\u001b[0m\n\u001b[1;32m      7\u001b[0m \u001b[0mprint\u001b[0m\u001b[0;34m(\u001b[0m\u001b[0msetim1\u001b[0m\u001b[0;34m)\u001b[0m\u001b[0;34m\u001b[0m\u001b[0;34m\u001b[0m\u001b[0m\n",
      "\u001b[0;31mTypeError\u001b[0m: unhashable type: 'list'"
     ]
    }
   ],
   "source": [
    "### buradaki 3 printimizin outputu ne olur ?\n",
    "\n",
    "listem = [1, 2, 3, 4, 5]\n",
    "\n",
    "setim1 = {listem}\n",
    "\n",
    "print(setim1)\n",
    "\n",
    "# print(set(listem))\n",
    "\n",
    "#--------------------------------\n",
    "\n",
    "# setim = {[1, 2, 3, 4, 5]}    ## set icerisinde manuel olarak liste yapabilir miyz ?\n",
    "\n",
    "# print(setim)\n",
    "\n",
    "# #--------------------------\n",
    "\n",
    "\n",
    "\n",
    "# set func calisma prensibi asagida:"
   ]
  },
  {
   "cell_type": "code",
   "execution_count": null,
   "metadata": {
    "colab": {
     "base_uri": "https://localhost:8080/"
    },
    "id": "22nvExYYi6Oe",
    "outputId": "1dd438cf-e1d6-4194-bdd3-12d0345745a2"
   },
   "outputs": [
    {
     "data": {
      "text/plain": [
       "['t', 'a', 'r', 'i', 'k']"
      ]
     },
     "execution_count": 111,
     "metadata": {},
     "output_type": "execute_result"
    }
   ],
   "source": [
    "# set func calisma prensibi: Diger collection type larin \n",
    "\n",
    "# list() yada tuple() func gibi calisir. yani icerisi ne iterable bir eleman alir\n",
    "\n",
    "# bu elemani da tek tek elemanlarina ayirir ve hepsini set e cevirir\n",
    "\n",
    "\n",
    "a = \"tarik\"\n",
    "\n",
    "list(a)"
   ]
  },
  {
   "cell_type": "code",
   "execution_count": null,
   "metadata": {
    "colab": {
     "base_uri": "https://localhost:8080/"
    },
    "id": "KHfSj3Zs4ujh",
    "outputId": "0dcd131f-e8a8-4079-b5e8-514ce21b644e"
   },
   "outputs": [
    {
     "name": "stdout",
     "output_type": "stream",
     "text": [
      "[1, 2, 3, 4, 5] <class 'list'>\n"
     ]
    }
   ],
   "source": [
    "# peki bu islemler tuple ve listelerde nasildi hatirlayalim.\n",
    "\n",
    "listem = [1, 2, 3, 4, 5]\n",
    "\n",
    "tuplem = ([1, 2, 3, 4, 5]) \n",
    "\n",
    "print(tuplem, type(tuplem)) # bu sekilde sonuc yine list aliriz.\n",
    "                            # tuple icerisindeki liste tek bir eleman.\n",
    "                            # o nedenle neyimiz eksik?? "
   ]
  },
  {
   "cell_type": "code",
   "execution_count": null,
   "metadata": {
    "colab": {
     "base_uri": "https://localhost:8080/"
    },
    "id": "mAE8QUpL48us",
    "outputId": "907cafd9-0b86-488f-bf13-b90dae00391d"
   },
   "outputs": [
    {
     "name": "stdout",
     "output_type": "stream",
     "text": [
      "1 2 [3, 4, 5, 6] 7\n"
     ]
    }
   ],
   "source": [
    "# bizce bu sekilde tuple yapabilir miyiz ??\n",
    "\n",
    "\n",
    "\n",
    "a, b, *c, d = 1, 2, 3, 4, 5, 6, 7         # unpacking tuple\n",
    "\n",
    "# tuplem = (listem,) \n",
    "\n",
    "print(a, b, c, d) \n"
   ]
  },
  {
   "cell_type": "code",
   "execution_count": null,
   "metadata": {
    "colab": {
     "base_uri": "https://localhost:8080/"
    },
    "id": "jDsO2Nap4AyE",
    "outputId": "e26b6a2f-eef1-4759-e8d6-bc96d8e5495c"
   },
   "outputs": [
    {
     "name": "stdout",
     "output_type": "stream",
     "text": [
      "set()\n"
     ]
    }
   ],
   "source": [
    "a = []                                                           \n",
    "\n",
    "b = set(a)  \n",
    "\n",
    "print(b)"
   ]
  },
  {
   "cell_type": "code",
   "execution_count": null,
   "metadata": {
    "colab": {
     "base_uri": "https://localhost:8080/"
    },
    "id": "w6t2329UjPHC",
    "outputId": "3fb93268-212c-4e84-814a-9012fb9e745f"
   },
   "outputs": [
    {
     "name": "stdout",
     "output_type": "stream",
     "text": [
      "{'science'}\n"
     ]
    }
   ],
   "source": [
    "## ilginc bir bilgi !!!  output ??\n",
    "\n",
    "dictim = {\"computer\" : \"science\"}\n",
    "\n",
    "print(set(dictim.values()))\n",
    "\n",
    "# print(type(set(dictim)))"
   ]
  },
  {
   "cell_type": "code",
   "execution_count": null,
   "metadata": {
    "colab": {
     "base_uri": "https://localhost:8080/"
    },
    "id": "g82IYt9HAu9M",
    "outputId": "b5d5c8fc-7579-4b55-d720-f755940b8fe0"
   },
   "outputs": [
    {
     "name": "stdout",
     "output_type": "stream",
     "text": [
      "{'123'}\n"
     ]
    }
   ],
   "source": [
    "a = []                              \n",
    "\n",
    "b = set(\"123\")       \n",
    "\n",
    "c = {  b }\n",
    "\n",
    "print(c)                                  "
   ]
  },
  {
   "cell_type": "code",
   "execution_count": null,
   "metadata": {
    "id": "TzFmnbfoAvCX"
   },
   "outputs": [],
   "source": []
  },
  {
   "cell_type": "code",
   "execution_count": null,
   "metadata": {
    "colab": {
     "base_uri": "https://localhost:8080/",
     "height": 238
    },
    "id": "mfBjClbPkCVK",
    "outputId": "8235b831-522f-4691-d49c-6a673f51e1bb"
   },
   "outputs": [
    {
     "ename": "TypeError",
     "evalue": "ignored",
     "output_type": "error",
     "traceback": [
      "\u001b[0;31m---------------------------------------------------------------------------\u001b[0m",
      "\u001b[0;31mTypeError\u001b[0m                                 Traceback (most recent call last)",
      "\u001b[0;32m<ipython-input-145-96f73b8af6eb>\u001b[0m in \u001b[0;36m<module>\u001b[0;34m()\u001b[0m\n\u001b[1;32m      1\u001b[0m \u001b[0;31m### peki set icerisinde set acabilir miyiz ??\u001b[0m\u001b[0;34m\u001b[0m\u001b[0;34m\u001b[0m\u001b[0;34m\u001b[0m\u001b[0m\n\u001b[1;32m      2\u001b[0m \u001b[0;34m\u001b[0m\u001b[0m\n\u001b[0;32m----> 3\u001b[0;31m \u001b[0msetim\u001b[0m \u001b[0;34m=\u001b[0m \u001b[0;34m{\u001b[0m\u001b[0;36m1\u001b[0m\u001b[0;34m,\u001b[0m\u001b[0;36m2\u001b[0m\u001b[0;34m,\u001b[0m\u001b[0;36m3\u001b[0m\u001b[0;34m,\u001b[0m \u001b[0;34m{\u001b[0m\u001b[0;34m\"eleman\"\u001b[0m\u001b[0;34m}\u001b[0m\u001b[0;34m}\u001b[0m\u001b[0;34m\u001b[0m\u001b[0;34m\u001b[0m\u001b[0m\n\u001b[0m\u001b[1;32m      4\u001b[0m \u001b[0;34m\u001b[0m\u001b[0m\n\u001b[1;32m      5\u001b[0m \u001b[0mprint\u001b[0m\u001b[0;34m(\u001b[0m\u001b[0msetim\u001b[0m\u001b[0;34m)\u001b[0m\u001b[0;34m\u001b[0m\u001b[0;34m\u001b[0m\u001b[0m\n",
      "\u001b[0;31mTypeError\u001b[0m: unhashable type: 'set'"
     ]
    }
   ],
   "source": [
    "### peki set icerisinde set acabilir miyiz ??    \n",
    "\n",
    "setim = {1,2,3, {\"eleman\"}}      \n",
    "\n",
    "print(setim)"
   ]
  },
  {
   "cell_type": "code",
   "execution_count": null,
   "metadata": {
    "colab": {
     "base_uri": "https://localhost:8080/"
    },
    "id": "KgG_hC7rkVWD",
    "outputId": "f36bb585-c8b9-4af8-b78f-d0c0f6ae82a2"
   },
   "outputs": [
    {
     "name": "stdout",
     "output_type": "stream",
     "text": [
      "{1, 2, 3}\n"
     ]
    }
   ],
   "source": [
    "## pekiiiiiiiii\n",
    "\n",
    "# bizim icerisinde set olan bir listemiz olsa \n",
    "\n",
    "# bizce bu listeyi set func ile set yapabilir miyiz ??\n",
    "\n",
    "liste = [1,2,3]      \n",
    "\n",
    "print(set(liste))"
   ]
  },
  {
   "cell_type": "code",
   "execution_count": null,
   "metadata": {
    "colab": {
     "base_uri": "https://localhost:8080/",
     "height": 238
    },
    "id": "scwZJ870lpFe",
    "outputId": "ce098f81-e86e-44df-dae1-ebcd60fb2880"
   },
   "outputs": [
    {
     "ename": "TypeError",
     "evalue": "ignored",
     "output_type": "error",
     "traceback": [
      "\u001b[0;31m---------------------------------------------------------------------------\u001b[0m",
      "\u001b[0;31mTypeError\u001b[0m                                 Traceback (most recent call last)",
      "\u001b[0;32m<ipython-input-148-182326fa3ee1>\u001b[0m in \u001b[0;36m<module>\u001b[0;34m()\u001b[0m\n\u001b[1;32m      1\u001b[0m \u001b[0;31m# Set icerisinde dict kullanabilir miyiz ??\u001b[0m\u001b[0;34m\u001b[0m\u001b[0;34m\u001b[0m\u001b[0;34m\u001b[0m\u001b[0m\n\u001b[1;32m      2\u001b[0m \u001b[0;34m\u001b[0m\u001b[0m\n\u001b[0;32m----> 3\u001b[0;31m \u001b[0msetim\u001b[0m \u001b[0;34m=\u001b[0m \u001b[0;34m{\u001b[0m\u001b[0;36m1\u001b[0m\u001b[0;34m,\u001b[0m \u001b[0;36m2\u001b[0m\u001b[0;34m,\u001b[0m \u001b[0;36m3\u001b[0m\u001b[0;34m,\u001b[0m \u001b[0;34m\"computer\"\u001b[0m\u001b[0;34m,\u001b[0m \u001b[0;34m{\u001b[0m\u001b[0;34m\"bilgisayar\"\u001b[0m \u001b[0;34m:\u001b[0m \u001b[0;34m\"bilimi\"\u001b[0m\u001b[0;34m}\u001b[0m \u001b[0;34m}\u001b[0m\u001b[0;34m\u001b[0m\u001b[0;34m\u001b[0m\u001b[0m\n\u001b[0m\u001b[1;32m      4\u001b[0m \u001b[0;34m\u001b[0m\u001b[0m\n\u001b[1;32m      5\u001b[0m \u001b[0mprint\u001b[0m\u001b[0;34m(\u001b[0m\u001b[0msetim\u001b[0m\u001b[0;34m)\u001b[0m\u001b[0;34m\u001b[0m\u001b[0;34m\u001b[0m\u001b[0m\n",
      "\u001b[0;31mTypeError\u001b[0m: unhashable type: 'dict'"
     ]
    }
   ],
   "source": [
    "# Set icerisinde dict kullanabilir miyiz ??\n",
    "\n",
    "setim = {1, 2, 3, \"computer\", {\"bilgisayar\" : \"bilimi\"} }\n",
    "\n",
    "print(setim)"
   ]
  },
  {
   "cell_type": "code",
   "execution_count": null,
   "metadata": {
    "id": "l_wl-2WyluyF"
   },
   "outputs": [],
   "source": []
  },
  {
   "cell_type": "code",
   "execution_count": null,
   "metadata": {
    "colab": {
     "base_uri": "https://localhost:8080/",
     "height": 220
    },
    "id": "S49ly-MEl5mc",
    "outputId": "43884f26-f753-422d-d756-b9e99946dea2"
   },
   "outputs": [
    {
     "ename": "TypeError",
     "evalue": "ignored",
     "output_type": "error",
     "traceback": [
      "\u001b[0;31m---------------------------------------------------------------------------\u001b[0m",
      "\u001b[0;31mTypeError\u001b[0m                                 Traceback (most recent call last)",
      "\u001b[0;32m<ipython-input-154-a447bd090e08>\u001b[0m in \u001b[0;36m<module>\u001b[0;34m()\u001b[0m\n\u001b[1;32m      3\u001b[0m \u001b[0;31m# setler icerisinde collection type lardan sadece tuple lar kullanilabilir\u001b[0m\u001b[0;34m\u001b[0m\u001b[0;34m\u001b[0m\u001b[0;34m\u001b[0m\u001b[0m\n\u001b[1;32m      4\u001b[0m \u001b[0;34m\u001b[0m\u001b[0m\n\u001b[0;32m----> 5\u001b[0;31m \u001b[0ma\u001b[0m \u001b[0;34m=\u001b[0m \u001b[0;34m{\u001b[0m\u001b[0;34m{\u001b[0m\u001b[0;34m}\u001b[0m \u001b[0;34m:\u001b[0m \u001b[0;34m{\u001b[0m\u001b[0;34m}\u001b[0m\u001b[0;34m}\u001b[0m\u001b[0;34m\u001b[0m\u001b[0;34m\u001b[0m\u001b[0m\n\u001b[0m\u001b[1;32m      6\u001b[0m \u001b[0mprint\u001b[0m\u001b[0;34m(\u001b[0m\u001b[0ma\u001b[0m\u001b[0;34m)\u001b[0m\u001b[0;34m\u001b[0m\u001b[0;34m\u001b[0m\u001b[0m\n",
      "\u001b[0;31mTypeError\u001b[0m: unhashable type: 'dict'"
     ]
    }
   ],
   "source": [
    "# Ortaya cikan sonuc :\n",
    "\n",
    "# setler icerisinde collection type lardan sadece tuple lar kullanilabilir \n",
    "\n",
    "a = {{} : {}}         \n",
    "print(a)              "
   ]
  },
  {
   "cell_type": "code",
   "execution_count": null,
   "metadata": {
    "id": "QGskztHu0C_V"
   },
   "outputs": [],
   "source": [
    "## Önemli bir husus:\n",
    "\n",
    "# Python da  matematikte oldugu gibi iki tane küme ic ice yapamiyoruz, hata aliyoruz.\n",
    "\n",
    "# peki iki tane ic ice kümeyi Python da nasil ifade edebiliriz ??\n",
    "\n",
    "akümesi= {1, 2, 3, 4}\n",
    "\n",
    "bkümesi = {3, 4}     ## Python da ancak bu sekilde yapabiliriz\n",
    "                     ## ve a kümesi b kümesini kapsar\n",
    "\n",
    "## Peki neden nested set yani ic ice set olmaz ve neden set lerde liste ve dict kullanilmaz.\n",
    "\n",
    "## Cünkü setler de her bir eleman unique dir. Yani her birinden sadece bir tane print edilir\n",
    "\n",
    "# Ama biz set icerisinde set, liste yada dict  yaptigimizda \n",
    "\n",
    "# bu unique lige zarar gelme ihitimalinden dolayi bunlari kullanamayiz.\n",
    "\n",
    "# yani biz akümesi= {1, 2, 3, 4, {3, 4}} olusturdugumuzda burada unique lige aykiri \n",
    "\n",
    "# bir durum söz konusu olacaktir. \n",
    "\n",
    "# Peki setler icerisinde Tuple lar neden kullanilir ??\n",
    "\n",
    "# Hatirlarsak biz bir degiskenin elemanlarinda eger () kullanmazsak Python otomatik olarak\n",
    "\n",
    "# bunu tuple olarak algiliyordu.\n",
    "\n",
    "# mesela  a = 1, 2, 3   bu bir tuple dir.\n",
    "\n",
    "# iste aslinda () olmasi ile olmamasi arasinda python acisindan pek bir fark \n",
    "\n",
    "# olmamasindan dolayi tuple lar setlerin unique ligine zarar vermez"
   ]
  },
  {
   "cell_type": "code",
   "execution_count": null,
   "metadata": {
    "colab": {
     "base_uri": "https://localhost:8080/",
     "height": 202
    },
    "id": "vPVTny7-7xyF",
    "outputId": "97c3da06-5642-41a9-d8f4-53f054d23afa"
   },
   "outputs": [
    {
     "ename": "TypeError",
     "evalue": "ignored",
     "output_type": "error",
     "traceback": [
      "\u001b[0;31m---------------------------------------------------------------------------\u001b[0m",
      "\u001b[0;31mTypeError\u001b[0m                                 Traceback (most recent call last)",
      "\u001b[0;32m<ipython-input-155-5e7d4215c485>\u001b[0m in \u001b[0;36m<module>\u001b[0;34m()\u001b[0m\n\u001b[0;32m----> 1\u001b[0;31m \u001b[0ma\u001b[0m \u001b[0;34m=\u001b[0m \u001b[0;34m{\u001b[0m\u001b[0;36m1\u001b[0m\u001b[0;34m,\u001b[0m \u001b[0;36m2\u001b[0m\u001b[0;34m,\u001b[0m \u001b[0;36m3\u001b[0m\u001b[0;34m,\u001b[0m \u001b[0;36m4\u001b[0m\u001b[0;34m,\u001b[0m \u001b[0;34m{\u001b[0m\u001b[0;36m6\u001b[0m\u001b[0;34m}\u001b[0m\u001b[0;34m}\u001b[0m\u001b[0;34m\u001b[0m\u001b[0;34m\u001b[0m\u001b[0m\n\u001b[0m\u001b[1;32m      2\u001b[0m \u001b[0;34m\u001b[0m\u001b[0m\n\u001b[1;32m      3\u001b[0m \u001b[0mprint\u001b[0m\u001b[0;34m(\u001b[0m\u001b[0ma\u001b[0m\u001b[0;34m)\u001b[0m\u001b[0;34m\u001b[0m\u001b[0;34m\u001b[0m\u001b[0m\n",
      "\u001b[0;31mTypeError\u001b[0m: unhashable type: 'set'"
     ]
    }
   ],
   "source": [
    "a = {1, 2, 3, 4, {6}}\n",
    "\n",
    "print(a)"
   ]
  },
  {
   "cell_type": "code",
   "execution_count": null,
   "metadata": {
    "id": "ihFZ-r0l7yDM"
   },
   "outputs": [],
   "source": []
  },
  {
   "cell_type": "code",
   "execution_count": null,
   "metadata": {
    "colab": {
     "base_uri": "https://localhost:8080/"
    },
    "id": "j-oT6VjO0DVP",
    "outputId": "ce420635-3795-4d63-fa8b-49925c972266"
   },
   "outputs": [
    {
     "name": "stdout",
     "output_type": "stream",
     "text": [
      "{1, 2, 3, (1, 2, 3)}\n",
      "{1, 2, 3}\n"
     ]
    }
   ],
   "source": [
    "# Ancak Aklimizda yanlis birsey kalmasin\n",
    "\n",
    "# set icerisinde tuple i print ettigimizde sonuc su sekilde olur  \n",
    "\n",
    "setim = {1, 2, 3, (1, 2, 3), (1, 2, 3) } \n",
    "\n",
    "setim2 = {1, 2, 3, 1, 2, 3}\n",
    "\n",
    "print(setim)\n",
    "\n",
    "print(setim2)  ##  yani 2. set de ayni elemanlar basilmaz \n",
    "                #  ama Tuple icindekiler print edilir"
   ]
  },
  {
   "cell_type": "code",
   "execution_count": null,
   "metadata": {
    "id": "hHyKihVVdjQc"
   },
   "outputs": [],
   "source": []
  },
  {
   "cell_type": "code",
   "execution_count": null,
   "metadata": {
    "colab": {
     "base_uri": "https://localhost:8080/"
    },
    "id": "R7YJmft4gm7W",
    "outputId": "9e482a34-286b-439e-d275-3aa53040eb92"
   },
   "outputs": [
    {
     "name": "stdout",
     "output_type": "stream",
     "text": [
      "{'red', 'orange', 'yellow', 'purple', 'darkblue'}\n"
     ]
    }
   ],
   "source": [
    "## setimiz icerisinde 8 eleman var. Output da kac adet olur ?? \n",
    "\n",
    "colorset = {'purple', 'orange', 'red', 'darkblue', 'yellow', 'red', \"orange\", \"darkblue\"}\n",
    "\n",
    "print(colorset)"
   ]
  },
  {
   "cell_type": "code",
   "execution_count": null,
   "metadata": {
    "colab": {
     "base_uri": "https://localhost:8080/"
    },
    "id": "2iwWFtaFiEMS",
    "outputId": "80a63ffe-5466-4df6-c2dc-3ae40cb69512"
   },
   "outputs": [
    {
     "name": "stdout",
     "output_type": "stream",
     "text": [
      "True\n"
     ]
    }
   ],
   "source": [
    "##  pekiii\n",
    "\n",
    "\n",
    "# iki degiskenimiz birbirine esit midir diye sorsak ?\n",
    "\n",
    "# ne output aliriz ??\n",
    "\n",
    "sayilarimiz = {1, 2, 3, 3, 2, 1, 1, 2, 3, 3, 2, 1, 1, 2, 3, 3, 2, 1, 1, 2, 3, 3, 2, 1}\n",
    "\n",
    "sayilarimiz2 = {1, 2, 3}\n",
    "\n",
    "print(sayilarimiz == sayilarimiz2)\n",
    "\n",
    "# print(sayilarimiz)\n",
    "\n",
    "# print(sayilarimiz2)"
   ]
  },
  {
   "cell_type": "code",
   "execution_count": null,
   "metadata": {
    "id": "Ph14AlvsiEVF"
   },
   "outputs": [],
   "source": []
  },
  {
   "cell_type": "code",
   "execution_count": null,
   "metadata": {
    "colab": {
     "base_uri": "https://localhost:8080/"
    },
    "id": "29gxjIdvIQKB",
    "outputId": "fc178cc4-00fd-45ee-fb6c-efe6a7d4eb56"
   },
   "outputs": [
    {
     "name": "stdout",
     "output_type": "stream",
     "text": [
      "{'c', 'e', 'f', 'b', 'a', 'd'}\n"
     ]
    }
   ],
   "source": [
    "# set veri tipini her print ettigimizde farkli ciktilar alabiliriz.\n",
    "# ancak bazi zamanlarda orijinali gibi de cikti alabiliriz\n",
    "\n",
    "setimiz = {\"a\", \"b\", \"c\", \"d\", \"e\", \"f\"}\n",
    "\n",
    "print(setimiz)"
   ]
  },
  {
   "cell_type": "code",
   "execution_count": null,
   "metadata": {
    "colab": {
     "base_uri": "https://localhost:8080/"
    },
    "id": "2LSCOqBCCRSe",
    "outputId": "881c001d-ef0c-4657-fb18-985bb8662c38"
   },
   "outputs": [
    {
     "name": "stdout",
     "output_type": "stream",
     "text": [
      "{'carnation', 'orchid', 'violet', 'rose'}\n",
      "['carnation', 'orchid', 'violet', 'rose']\n"
     ]
    }
   ],
   "source": [
    "a = ['rose', 'violet', 'carnation', 'rose', 'orchid', 'rose', 'orchid']\n",
    "b = set(a)\n",
    "c = list(b)       ####  listeyi önce sete ceviriyoruz daha sonra \n",
    "                                  ####   set i tekrar listeye ceviriyoruz. ama elemanlar yine eksik\n",
    "print(b) \n",
    "print(c)"
   ]
  },
  {
   "cell_type": "code",
   "execution_count": null,
   "metadata": {
    "colab": {
     "base_uri": "https://localhost:8080/"
    },
    "id": "GPdOd-GhLXni",
    "outputId": "ffcec12e-b813-43e5-e150-17c8e15b12b5"
   },
   "outputs": [
    {
     "name": "stdout",
     "output_type": "stream",
     "text": [
      "[1, 2, 3]\n"
     ]
    }
   ],
   "source": [
    "# burada ise dogrudan seti liste yapiyoruz.  output ???\n",
    "\n",
    "setim = {1, 2, 3, 1, 2, 3, 1, 2, 3}\n",
    "\n",
    "listem = list(setim)\n",
    "\n",
    "print(listem)  "
   ]
  },
  {
   "cell_type": "code",
   "execution_count": null,
   "metadata": {
    "colab": {
     "base_uri": "https://localhost:8080/"
    },
    "id": "zyR0UY_PLXqH",
    "outputId": "2656cbce-b550-4307-a3c7-4c9550d86d1e"
   },
   "outputs": [
    {
     "name": "stdout",
     "output_type": "stream",
     "text": [
      "{'p', 'k', 'y', 'l', 'b', 'r', 'a', 'i'} <class 'set'>\n"
     ]
    }
   ],
   "source": [
    "string = \"yapilabilirlik\"   ## burada output ne olur type ne olur??  \n",
    "\n",
    "setim = set(string)\n",
    "\n",
    "print(setim, type(setim))"
   ]
  },
  {
   "cell_type": "code",
   "execution_count": null,
   "metadata": {
    "colab": {
     "base_uri": "https://localhost:8080/"
    },
    "id": "h5AUXZ5BLXtj",
    "outputId": "b2d9d1da-4e41-4a07-b6d5-d271532c227d"
   },
   "outputs": [
    {
     "name": "stdout",
     "output_type": "stream",
     "text": [
      "{1} <class 'set'>\n"
     ]
    }
   ],
   "source": [
    "### tek elemanli set olur mu yoksa tuple gibi yanina , koymak zorunda miyiz ?\n",
    "\n",
    "setim = {1}\n",
    "\n",
    "print(setim, type(setim)) "
   ]
  },
  {
   "cell_type": "code",
   "execution_count": null,
   "metadata": {
    "colab": {
     "base_uri": "https://localhost:8080/"
    },
    "id": "oVEM5QNULXwO",
    "outputId": "2ac72978-f8bc-458a-dfd6-3595e02e6e98"
   },
   "outputs": [
    {
     "name": "stdout",
     "output_type": "stream",
     "text": [
      "{1} <class 'set'>\n"
     ]
    }
   ],
   "source": [
    "tuplem = (1,)         # tek elemanli bir tuple i set e cevirebilir miyiz?\n",
    "                      # yoksa virgülden dolayi hata verir mi ?\n",
    "setim = set(tuplem)\n",
    "\n",
    "print(setim, type(setim))  "
   ]
  },
  {
   "cell_type": "code",
   "execution_count": null,
   "metadata": {
    "colab": {
     "base_uri": "https://localhost:8080/",
     "height": 238
    },
    "id": "9-NI-IHZLXyw",
    "outputId": "9aceb96a-25ad-4481-d332-56dba2f46a67"
   },
   "outputs": [
    {
     "ename": "TypeError",
     "evalue": "ignored",
     "output_type": "error",
     "traceback": [
      "\u001b[0;31m---------------------------------------------------------------------------\u001b[0m",
      "\u001b[0;31mTypeError\u001b[0m                                 Traceback (most recent call last)",
      "\u001b[0;32m<ipython-input-172-5745104af2f5>\u001b[0m in \u001b[0;36m<module>\u001b[0;34m()\u001b[0m\n\u001b[1;32m      3\u001b[0m \u001b[0ma\u001b[0m \u001b[0;34m=\u001b[0m \u001b[0;36m123456789\u001b[0m\u001b[0;34m\u001b[0m\u001b[0;34m\u001b[0m\u001b[0m\n\u001b[1;32m      4\u001b[0m \u001b[0;34m\u001b[0m\u001b[0m\n\u001b[0;32m----> 5\u001b[0;31m \u001b[0msetim\u001b[0m \u001b[0;34m=\u001b[0m \u001b[0mset\u001b[0m\u001b[0;34m(\u001b[0m\u001b[0ma\u001b[0m\u001b[0;34m)\u001b[0m\u001b[0;34m\u001b[0m\u001b[0;34m\u001b[0m\u001b[0m\n\u001b[0m\u001b[1;32m      6\u001b[0m \u001b[0;34m\u001b[0m\u001b[0m\n\u001b[1;32m      7\u001b[0m \u001b[0mprint\u001b[0m\u001b[0;34m(\u001b[0m\u001b[0msetim\u001b[0m\u001b[0;34m,\u001b[0m \u001b[0mtype\u001b[0m\u001b[0;34m(\u001b[0m\u001b[0msetim\u001b[0m\u001b[0;34m)\u001b[0m\u001b[0;34m)\u001b[0m   \u001b[0;31m## output u okuyalim\u001b[0m\u001b[0;34m\u001b[0m\u001b[0;34m\u001b[0m\u001b[0m\n",
      "\u001b[0;31mTypeError\u001b[0m: 'int' object is not iterable"
     ]
    }
   ],
   "source": [
    "###  output nedir ?? \n",
    "\n",
    "a = 123456789 \n",
    "\n",
    "setim = set(a)\n",
    "\n",
    "print(setim, type(setim))   ## output u okuyalim"
   ]
  },
  {
   "cell_type": "code",
   "execution_count": null,
   "metadata": {
    "colab": {
     "base_uri": "https://localhost:8080/"
    },
    "id": "b5IpxbpVCRUi",
    "outputId": "9b9cc02e-8e91-4e48-917d-4f068f4e7775"
   },
   "outputs": [
    {
     "name": "stdout",
     "output_type": "stream",
     "text": [
      "{False} <class 'set'>\n"
     ]
    }
   ],
   "source": [
    "#  output nedir ?? \n",
    "\n",
    "a = False,  \n",
    "\n",
    "setim = set(a)\n",
    "\n",
    "print(setim, type(setim))   ## output u okuyalim"
   ]
  },
  {
   "cell_type": "code",
   "execution_count": null,
   "metadata": {
    "colab": {
     "base_uri": "https://localhost:8080/"
    },
    "id": "Gp-yst1VM8TI",
    "outputId": "1d5393c9-b8a4-4091-d202-93d2c381fcca"
   },
   "outputs": [
    {
     "name": "stdout",
     "output_type": "stream",
     "text": [
      "set() <class 'set'>\n"
     ]
    }
   ],
   "source": [
    "####   Attention:  Output nedir, error verir mi ?? \n",
    "\n",
    "a = \" \" and [] and () and {} and None and 0 and 0.0\n",
    "\n",
    "setim = set(a)\n",
    "\n",
    "print(setim, type(setim))      #### and calisma prensibi: \n",
    "                               # ilk Falsy yakalanir sonra set komutu sete cevrilir "
   ]
  },
  {
   "cell_type": "code",
   "execution_count": null,
   "metadata": {
    "colab": {
     "base_uri": "https://localhost:8080/"
    },
    "id": "mzFNaZQ4M8W6",
    "outputId": "b3a7b5c6-57c1-41fd-aaef-43537c99150e"
   },
   "outputs": [
    {
     "name": "stdout",
     "output_type": "stream",
     "text": [
      "{3, 14} <class 'set'>\n"
     ]
    }
   ],
   "source": [
    "##  sizce output nedir ??? \n",
    "\n",
    "abc = 3,14\n",
    "\n",
    "setim = set(abc)\n",
    "\n",
    "print(setim, type(setim))"
   ]
  },
  {
   "cell_type": "code",
   "execution_count": null,
   "metadata": {
    "colab": {
     "base_uri": "https://localhost:8080/"
    },
    "id": "WyUucwM9M8az",
    "outputId": "0c7e81c6-9f67-42fd-b180-7089bca9a625"
   },
   "outputs": [
    {
     "name": "stdout",
     "output_type": "stream",
     "text": [
      "{'c', 'b', 'a', 'd'} <class 'set'>\n",
      "{'c', 'b', 'a', 'd'} <class 'set'>\n"
     ]
    }
   ],
   "source": [
    "#  output ???\n",
    "\n",
    "sett = {\"d\", \"a\", \"b\", \"c\"}\n",
    "\n",
    "liste = [\"a\", \"d\", \"b\", \"c\", \"d\", \"b\", \"a\", \"c\", \"b\", \"c\", \"d\", \"a\", \"d\"]\n",
    "\n",
    "setim = set(liste)\n",
    "\n",
    "print(sett, type(sett))\n",
    "\n",
    "print(setim, type(setim))"
   ]
  },
  {
   "cell_type": "code",
   "execution_count": null,
   "metadata": {
    "id": "fz2_jDlWToFV"
   },
   "outputs": [],
   "source": [
    "##  Interview Question\n",
    "\n",
    "# Which one of the following is not the correct syntax for creating a set in Python?\n",
    "\n",
    "\n",
    "print(set([[1,2],[3,4],[4,5]]))    \n",
    "\n",
    "print(set([1,2,2,3,4,5]))\n",
    "\n",
    "print({1,2,3,4})\n",
    "\n",
    "print(set((1,2,3,4)))             ## Açıklama: Küme için verilen iterable argüman \n",
    "                                  ## doğru şekilde kullanılmalıdır."
   ]
  },
  {
   "cell_type": "code",
   "execution_count": null,
   "metadata": {
    "id": "nr1qLklCrHzi"
   },
   "outputs": [],
   "source": [
    "### sizce set func ile ayni anda birden cok elemani set e cevirebilir miyiz ??\n",
    "\n",
    "a = set('9876 9876', \"1234\")\n",
    "\n",
    "print(a) "
   ]
  },
  {
   "cell_type": "code",
   "execution_count": null,
   "metadata": {
    "id": "JZjIgbwjra1q"
   },
   "outputs": [],
   "source": [
    "##  peki bu islemi list ve tuple func yapabilir mi ?\n",
    "\n",
    "a = list(\"a\", \"b\")\n",
    "\n",
    "print(a)"
   ]
  },
  {
   "cell_type": "code",
   "execution_count": null,
   "metadata": {
    "id": "L7fa3JyWr-lf"
   },
   "outputs": [],
   "source": [
    "# asagidaki func lar da sadece tek eleman alirlar \n",
    "\n",
    "#bool(\"a\", \"b\")\n",
    "\n",
    "#type(\"A\", \"b\")\n",
    "\n",
    "#str(6, 5)\n",
    "\n",
    "# int(5.5, 6.6)\n",
    "\n",
    "# float(5, 5)"
   ]
  },
  {
   "cell_type": "code",
   "execution_count": null,
   "metadata": {
    "id": "-JAaKEFfToJ-"
   },
   "outputs": [],
   "source": [
    "##############            Main Operations with Sets         ################"
   ]
  },
  {
   "cell_type": "code",
   "execution_count": null,
   "metadata": {
    "id": "siTbIDpLToL7"
   },
   "outputs": [],
   "source": [
    "# Liste tuple ve dict gibi collection type larda eleman ekleyip cikarabiliyorduk\n",
    "\n",
    "# Set lerde de öğe eklememize ve öğe çıkarmamıza izin veren birkaç yöntem vardır. \n",
    "\n",
    "# Diger coll type lardan farkli olarak set lerde yani kümelerde \n",
    "\n",
    "# kümenin kesişimi, birleşimi ve farki yöntemlerine sahibiz:\n"
   ]
  },
  {
   "cell_type": "code",
   "execution_count": null,
   "metadata": {
    "id": "48KpgDVJToOX"
   },
   "outputs": [],
   "source": [
    "### Setlerde Main Operations yöntemleri sunlardir\n",
    "\n",
    "\n",
    "# .add() : Sete yeni bir öğe ekler.\n",
    "\n",
    "# .remove() : Bir öğeyi silmemizi sağlar.\n",
    "\n",
    "# .intersection() : İki kümenin kesişimini return eder.\n",
    "\n",
    "# .union() : İki kümenin birleşimini döndürür.\n",
    "\n",
    "# .difference() : İki kümenin farkını döndürür.\n",
    "\n",
    "## Bunlara ilave olarak pop() da setlerde kullanilabilir \n"
   ]
  },
  {
   "cell_type": "code",
   "execution_count": null,
   "metadata": {
    "id": "c45ul-YBToSN"
   },
   "outputs": [],
   "source": [
    "##########         .add()      #######################"
   ]
  },
  {
   "cell_type": "code",
   "execution_count": null,
   "metadata": {
    "id": "KfQlaadUToUJ"
   },
   "outputs": [],
   "source": [
    "a = set('abcabcabcabcabc')\n",
    "\n",
    "a.add(\"d\")          ##### Attention: print(a.add) demiyoruz\n",
    "\n",
    "print(a)            ### a üzerinde bir operation yaptik sonra tekrar döndük a' nin orijinalini print ettik\n",
    "\n",
    "                    ##  sonuc olarak operation yapilmis halini aldik. \n",
    "\n",
    "                    # Buradan cikan sonuc nedir ??\n",
    "\n",
    "                    ## set' ler mutable dir. yani degistirilebilir"
   ]
  },
  {
   "cell_type": "code",
   "execution_count": null,
   "metadata": {
    "id": "khNFsnPEM8cv"
   },
   "outputs": [],
   "source": [
    "# listedeki .append methodunu hatirlayalim \n",
    "\n",
    "liste = [\"a\", \"b\", \"c\"]\n",
    "\n",
    "liste.append(\"d\")\n",
    "\n",
    "print(liste)           ## ayni setler gibi. listelerde mutable "
   ]
  },
  {
   "cell_type": "code",
   "execution_count": null,
   "metadata": {
    "id": "15eWwsnjM8el"
   },
   "outputs": [],
   "source": [
    "## output umuz nedir?       ###  Attention !!!\n",
    "\n",
    "sayi = set('123412341234')\n",
    "\n",
    "sayi.append('5')          \n",
    "\n",
    "print(sayi)"
   ]
  },
  {
   "cell_type": "code",
   "execution_count": null,
   "metadata": {
    "id": "ncqy07jt--md"
   },
   "outputs": [],
   "source": []
  },
  {
   "cell_type": "code",
   "execution_count": null,
   "metadata": {
    "id": "cHzOaHuiM8gl"
   },
   "outputs": [],
   "source": [
    "# listede direkt assign methodu vardi. sizce set de de calisir mi ?\n",
    "\n",
    "liste = [\"a\", \"b\", \"c\"]\n",
    "\n",
    "liste[2] = 55\n",
    "\n",
    "print(liste)"
   ]
  },
  {
   "cell_type": "code",
   "execution_count": null,
   "metadata": {
    "id": "nn_OmOfgnafW"
   },
   "outputs": [],
   "source": [
    "sayi = set('123412341234')\n",
    "\n",
    "sayi[3] = 5          \n",
    "\n",
    "print(sayi)   ##  output u okuyalim"
   ]
  },
  {
   "cell_type": "code",
   "execution_count": null,
   "metadata": {
    "id": "V-oDL2XCnaho"
   },
   "outputs": [],
   "source": [
    "# listede insert vardi sizce burada calisir mi?\n",
    "\n",
    "liste = [\"a\", \"b\", \"c\"]\n",
    "\n",
    "liste.insert(3, \"merhabaworld\")\n",
    "\n",
    "print(liste)"
   ]
  },
  {
   "cell_type": "code",
   "execution_count": null,
   "metadata": {
    "id": "D-wEzg7Xnajr"
   },
   "outputs": [],
   "source": [
    "sayi = set('123412341234')\n",
    "\n",
    "sayi.insert(3, \"merhabaworld\")          \n",
    "\n",
    "print(sayi) "
   ]
  },
  {
   "cell_type": "code",
   "execution_count": null,
   "metadata": {
    "id": "UpLgkyLrnal5"
   },
   "outputs": [],
   "source": [
    " ### önemli bir nokta !!!!!\n",
    "\n",
    " ##  sizce setlere ayni komut da birden cok eleman ekleyebilir miyiz?\n",
    "\n",
    " ## yoksa her seferinde tek tek yazmak zorunda miyiz?\n",
    "\n",
    "a = set('abcabcabcabcabc')\n",
    "\n",
    "a.add(\"d\", \"e\")          \n",
    "\n",
    "print(a)   "
   ]
  },
  {
   "cell_type": "code",
   "execution_count": null,
   "metadata": {
    "id": "Xt2k0TfMnanm"
   },
   "outputs": [],
   "source": [
    "a = set('abcabcabcabcabc')\n",
    "\n",
    "a.add(\"d\")         \n",
    "\n",
    "a.add(\"e\")  \n",
    "\n",
    "a.add(\"f\")  \n",
    "\n",
    "a.add(\"g\")  \n",
    "\n",
    "print(a)    ## Dikkat a üzerinde 4 operation yaptik. Ama basa dönüp originali print ettik(mutable) "
   ]
  },
  {
   "cell_type": "code",
   "execution_count": null,
   "metadata": {
    "id": "2k0EcWrRM8id"
   },
   "outputs": [],
   "source": []
  },
  {
   "cell_type": "code",
   "execution_count": null,
   "metadata": {
    "id": "WEXGVh7eM8kV"
   },
   "outputs": [],
   "source": [
    "################    .remove()     ####################"
   ]
  },
  {
   "cell_type": "code",
   "execution_count": null,
   "metadata": {
    "id": "i4NYhauhomRq"
   },
   "outputs": [],
   "source": [
    "##  remove' a baslamadan önce bir soru soralim kendimize ??\n",
    "\n",
    "# BIZCE burada output nedir ??\n",
    "\n",
    "a = set('9876       9876         9876')\n",
    "\n",
    "print(a)  "
   ]
  },
  {
   "cell_type": "code",
   "execution_count": null,
   "metadata": {
    "id": "yBWXDnsht6bJ"
   },
   "outputs": [],
   "source": [
    "bizimsetimiz = set('98765')                \n",
    "\n",
    "bizimsetimiz.remove(\"5\")       \n",
    "\n",
    "print(bizimsetimiz)   "
   ]
  },
  {
   "cell_type": "code",
   "execution_count": null,
   "metadata": {
    "id": "anY0JsTRomTn"
   },
   "outputs": [],
   "source": [
    "##   Bu kod icerisindeki hatamizi bulalim ???\n",
    "\n",
    "bizimsetimiz = set('98765')                \n",
    "\n",
    "bizimsetimiz.remove(5)       \n",
    "\n",
    "print(bizimsetimiz)                        "
   ]
  },
  {
   "cell_type": "code",
   "execution_count": null,
   "metadata": {
    "id": "woKaSxlgomXu"
   },
   "outputs": [],
   "source": [
    "## Bizce bu kod calisir mi ??\n",
    "\n",
    "bizimsetimiz = set('98765')                \n",
    "\n",
    "bizimsetimiz.remove(\"98\")    # =>>> string icerisinde 9 ve 8      \n",
    "\n",
    "print(bizimsetimiz)"
   ]
  },
  {
   "cell_type": "code",
   "execution_count": null,
   "metadata": {
    "id": "I2PIcRFdomZe"
   },
   "outputs": [],
   "source": [
    "# kisa bir hatirlatma yapalim\n",
    "\n",
    "# listelerde remove pop ve clear nasildi\n",
    "\n",
    "liste = [1, 2]\n",
    "\n",
    "liste.clear()\n",
    "\n",
    "print(liste)        ## clear ile tüm listeyi sileriz"
   ]
  },
  {
   "cell_type": "code",
   "execution_count": null,
   "metadata": {
    "id": "dHZExfGkDYK8"
   },
   "outputs": [],
   "source": [
    "# Attention: clear() func. icerisine deger almaz\n",
    "\n",
    "liste = [1, 2]\n",
    "\n",
    "liste.clear(0)  ## clear ile sifirinci elemani silmek istersek hata verir\n",
    "\n",
    "print(liste)    ## output u okuyalim"
   ]
  },
  {
   "cell_type": "code",
   "execution_count": null,
   "metadata": {
    "id": "fB-8Go_VDYND"
   },
   "outputs": [],
   "source": [
    "# buraya Dikkat!!! Ic ice 3 liste yaptik\n",
    "\n",
    "\n",
    "liste = [[1, [1, 2 ,3]], 2]\n",
    "\n",
    "liste.clear()  \n",
    "\n",
    "print(liste)  # Yani clear func.  linux deki rm - rf komutu gibi calisir ve\n",
    "\n",
    "              # recursive silme yapar. "
   ]
  },
  {
   "cell_type": "code",
   "execution_count": null,
   "metadata": {
    "id": "3WbkJ9owDYOy"
   },
   "outputs": [],
   "source": [
    "## Attention: remove komutunda silmek istedigimiz elemanin index numarasini\n",
    "\n",
    "# yazarsak error aliriz. bizzat kendisi yazilir\n",
    "\n",
    "liste = [\"ben\", \"sen\", \"o\"]\n",
    "\n",
    "liste.remove(\"ben\")\n",
    "\n",
    "print(liste)"
   ]
  },
  {
   "cell_type": "code",
   "execution_count": null,
   "metadata": {
    "id": "A6zYQk1vDYRF"
   },
   "outputs": [],
   "source": [
    "# pop komutu da clear gibi calisir. icine deger almaz. son elemani siler\n",
    "\n",
    "liste = [\"ben\", \"sen\", \"o\"]\n",
    "\n",
    "liste.pop()\n",
    "\n",
    "print(liste)"
   ]
  },
  {
   "cell_type": "code",
   "execution_count": null,
   "metadata": {
    "id": "Tx9tfW_aDYSx"
   },
   "outputs": [],
   "source": [
    "#\n",
    "#\n",
    "#\n",
    "#\n",
    "#\n",
    "# 2. session\n",
    "#\n",
    "#\n",
    "#\n",
    "#\n"
   ]
  },
  {
   "cell_type": "code",
   "execution_count": 4,
   "metadata": {
    "id": "Tx9tfW_aDYSx"
   },
   "outputs": [
    {
     "name": "stdout",
     "output_type": "stream",
     "text": [
      "[1, 2]\n"
     ]
    }
   ],
   "source": [
    "## Attention:  clear methodu ile veri tipimizin icindeki degerleri sileriz\n",
    "\n",
    "# del methodu ise tüm degisken dahil toptan siler\n",
    "\n",
    "myset = [\"ali\", \"Izmir\", 1, 2]\n",
    "\n",
    "del myset[0:2]\n",
    "\n",
    "print(myset)"
   ]
  },
  {
   "cell_type": "code",
   "execution_count": 5,
   "metadata": {
    "id": "mzBbelDnJMhV"
   },
   "outputs": [
    {
     "ename": "NameError",
     "evalue": "name 'myset' is not defined",
     "output_type": "error",
     "traceback": [
      "\u001b[1;31m---------------------------------------------------------------------------\u001b[0m",
      "\u001b[1;31mNameError\u001b[0m                                 Traceback (most recent call last)",
      "\u001b[1;32m<ipython-input-5-4ddbbb86e202>\u001b[0m in \u001b[0;36m<module>\u001b[1;34m\u001b[0m\n\u001b[0;32m      3\u001b[0m \u001b[1;32mdel\u001b[0m\u001b[1;33m(\u001b[0m\u001b[0mmyset\u001b[0m\u001b[1;33m)\u001b[0m\u001b[1;33m\u001b[0m\u001b[1;33m\u001b[0m\u001b[0m\n\u001b[0;32m      4\u001b[0m \u001b[1;33m\u001b[0m\u001b[0m\n\u001b[1;32m----> 5\u001b[1;33m \u001b[0mprint\u001b[0m\u001b[1;33m(\u001b[0m\u001b[0mmyset\u001b[0m\u001b[1;33m)\u001b[0m\u001b[1;33m\u001b[0m\u001b[1;33m\u001b[0m\u001b[0m\n\u001b[0m",
      "\u001b[1;31mNameError\u001b[0m: name 'myset' is not defined"
     ]
    }
   ],
   "source": [
    "myset = [\"ali\", \"Izmir\", 1, 2]\n",
    "\n",
    "del(myset)\n",
    "\n",
    "print(myset)"
   ]
  },
  {
   "cell_type": "code",
   "execution_count": 6,
   "metadata": {
    "id": "mzBbelDnJMhV"
   },
   "outputs": [
    {
     "name": "stdout",
     "output_type": "stream",
     "text": [
      "{'klavye', 'maus'}\n"
     ]
    }
   ],
   "source": [
    "### Önemli bir bilgi:\n",
    "\n",
    "# setlerde eleman silmenin bir diger methodu da discard dir.\n",
    "\n",
    "setimiz = {\"computer\", \"maus\", \"klavye\"}\n",
    "\n",
    "setimiz.discard(\"computer\")\n",
    "\n",
    "print(setimiz)"
   ]
  },
  {
   "cell_type": "code",
   "execution_count": null,
   "metadata": {
    "id": "Df_Cr9c5JM1T"
   },
   "outputs": [],
   "source": [
    "##  Attention:  \n",
    "\n",
    "## eger discard() methodu icine index numarasi yazarsak hata vermez\n",
    "# yine eski seti döndürür\n",
    "\n",
    "setimiz = {\"computer\", \"maus\", \"klavye\"}\n",
    "\n",
    "setimiz.discard(0)\n",
    "\n",
    "print(setimiz)"
   ]
  },
  {
   "cell_type": "code",
   "execution_count": null,
   "metadata": {
    "id": "dyUFInOgBPrw"
   },
   "outputs": [],
   "source": []
  },
  {
   "cell_type": "code",
   "execution_count": null,
   "metadata": {
    "id": "IYoixfi9ombZ"
   },
   "outputs": [],
   "source": [
    "################          intersection() : Kesisim    ##############"
   ]
  },
  {
   "cell_type": "code",
   "execution_count": null,
   "metadata": {
    "id": "YTNhx60-udZa"
   },
   "outputs": [],
   "source": [
    "# Iki kümenin kesisimini almak icin iki farkli yöntemimiz vardir.  \n",
    "\n",
    "# 1. Yöntem:::    a & b kullanimi\n",
    "\n",
    "# 2. Yöntem:::    .intersection()  methodu kullanmaktir"
   ]
  },
  {
   "cell_type": "code",
   "execution_count": 8,
   "metadata": {
    "id": "XD-isjUEuddI"
   },
   "outputs": [
    {
     "name": "stdout",
     "output_type": "stream",
     "text": [
      "{'o', 't', 'a'}\n"
     ]
    }
   ],
   "source": [
    "# 1. yöntem:\n",
    "\n",
    "a = set('tokat')\n",
    "b = set('yozgat')\n",
    "\n",
    "print(a & b)"
   ]
  },
  {
   "cell_type": "code",
   "execution_count": 7,
   "metadata": {
    "id": "EBl8bEBaN1h6"
   },
   "outputs": [
    {
     "name": "stdout",
     "output_type": "stream",
     "text": [
      "{'o', 't', 'a'}\n"
     ]
    }
   ],
   "source": [
    "## Peki 1. Yöntemin kendi icerisinde de ikinci bir yöntem olusabilir mi?\n",
    "\n",
    "a = set('tokat')\n",
    "b = set('yozgat')\n",
    "\n",
    "kesisim = a & b\n",
    "\n",
    "print(kesisim)"
   ]
  },
  {
   "cell_type": "code",
   "execution_count": null,
   "metadata": {
    "id": "HiE2Mw3mudgz"
   },
   "outputs": [],
   "source": [
    "## ikinci yöntem::\n",
    "\n",
    "a = set('tokat')\n",
    "b = set('yozgat')\n",
    "\n",
    "print(a.intersection(b))   "
   ]
  },
  {
   "cell_type": "code",
   "execution_count": 9,
   "metadata": {
    "id": "5jsufA1vudi6"
   },
   "outputs": [
    {
     "name": "stdout",
     "output_type": "stream",
     "text": [
      "{'o', 't', 'a'}\n"
     ]
    }
   ],
   "source": [
    "## 2. Yöntemin kendi icerisinde de ikinci bir yöntem:\n",
    "\n",
    "a = set('tokat')\n",
    "b = set('yozgat')\n",
    "\n",
    "bizimkesisim = a.intersection(b)     \n",
    "\n",
    "print(bizimkesisim)"
   ]
  },
  {
   "cell_type": "code",
   "execution_count": null,
   "metadata": {
    "id": "q9PfMDivD_MT"
   },
   "outputs": [],
   "source": [
    "## peki a ve b nin yerini degistirirsek ne ile karsilasiriz ?\n",
    "\n",
    "# mesela output tersten mi yazdirilir ?? yada error mu aliriz ??\n",
    "\n",
    "\n",
    "a = set('tokat')\n",
    "b = set('yozgat')\n",
    "\n",
    "bizimkesisim = b.intersection(a)     \n",
    "\n",
    "print(bizimkesisim)"
   ]
  },
  {
   "cell_type": "code",
   "execution_count": 11,
   "metadata": {
    "id": "Ni0_u0iREjnr"
   },
   "outputs": [
    {
     "name": "stdout",
     "output_type": "stream",
     "text": [
      "set()\n"
     ]
    }
   ],
   "source": [
    "### Ilginc bir bilgi:\n",
    "\n",
    "### Bizce bu hücredeki, alt hücredeki ve iki alt hücredeki \n",
    "\n",
    "#   kodlari calistirdigimizda ne ile karsilasiriz??\n",
    "\n",
    "a = {\"12345\"}\n",
    "b = {\"1234\"}\n",
    "\n",
    "bizimkesisim = b.intersection(a)     \n",
    "\n",
    "print(bizimkesisim)"
   ]
  },
  {
   "cell_type": "code",
   "execution_count": 10,
   "metadata": {
    "id": "wqoi5D45EjqF"
   },
   "outputs": [
    {
     "name": "stdout",
     "output_type": "stream",
     "text": [
      "set()\n"
     ]
    }
   ],
   "source": [
    "a = {12345}\n",
    "b = {1234}\n",
    "\n",
    "bizimkesisim = b.intersection(a)     \n",
    "\n",
    "print(bizimkesisim)"
   ]
  },
  {
   "cell_type": "code",
   "execution_count": 12,
   "metadata": {
    "id": "TCSUWzkQG4Gg"
   },
   "outputs": [
    {
     "name": "stdout",
     "output_type": "stream",
     "text": [
      "{'3', '1', '4', '2'}\n"
     ]
    }
   ],
   "source": [
    "a = {\"1\", \"2\", \"3\", \"4\",\"5\"}\n",
    "b = {\"1\", \"2\", \"3\", \"4\"}\n",
    "\n",
    "bizimkesisim = b.intersection(a)     \n",
    "\n",
    "print(bizimkesisim)"
   ]
  },
  {
   "cell_type": "code",
   "execution_count": 14,
   "metadata": {
    "id": "nnR15rRxG4Iu"
   },
   "outputs": [
    {
     "name": "stdout",
     "output_type": "stream",
     "text": [
      "{'3', '1', '4', '2', '5'}\n",
      "{'3', '6', '1', '2', '4', '5'}\n"
     ]
    }
   ],
   "source": [
    "a = {\"1\", \"2\", \"3\", \"4\",\"5\"}\n",
    "b = a.union(\"6\")\n",
    "print(a)\n",
    "print(b)"
   ]
  },
  {
   "cell_type": "code",
   "execution_count": 16,
   "metadata": {
    "id": "nnR15rRxG4Iu"
   },
   "outputs": [
    {
     "name": "stdout",
     "output_type": "stream",
     "text": [
      "{'3', '6', '1', '2', '7', '4', '5'}\n"
     ]
    }
   ],
   "source": [
    "a = {\"1\", \"2\", \"3\", \"4\",\"5\"}\n",
    "a = a.union(\"6\", \"7\")\n",
    "print(a)\n"
   ]
  },
  {
   "cell_type": "code",
   "execution_count": 17,
   "metadata": {
    "id": "nnR15rRxG4Iu"
   },
   "outputs": [
    {
     "name": "stdout",
     "output_type": "stream",
     "text": [
      "{'3', '1', '4', '2', '6', '5'}\n",
      "None\n"
     ]
    }
   ],
   "source": [
    "a = {\"1\", \"2\", \"3\", \"4\",\"5\"}\n",
    "b = a.add(\"6\")\n",
    "print(a)\n",
    "print(b)"
   ]
  },
  {
   "cell_type": "code",
   "execution_count": 21,
   "metadata": {
    "id": "nnR15rRxG4Iu"
   },
   "outputs": [
    {
     "name": "stdout",
     "output_type": "stream",
     "text": [
      "{1.0, 2.0, 3.0, 4.0, 5.0}\n"
     ]
    }
   ],
   "source": [
    "## Bizce output nedir ??\n",
    "\n",
    "a = {1.0, 2.0, 3.0, 4.0, 5.0}    #elemani az olan kumenin formatinda sonuc verir***************************\n",
    "b = {1, 2, 3, 4, 5, 6}\n",
    "\n",
    "bizimkesisim = b.intersection(a)     \n",
    "\n",
    "print(bizimkesisim)"
   ]
  },
  {
   "cell_type": "code",
   "execution_count": 13,
   "metadata": {
    "id": "nnR15rRxG4Iu"
   },
   "outputs": [
    {
     "name": "stdout",
     "output_type": "stream",
     "text": [
      "{1, 2, 3, 4}\n"
     ]
    }
   ],
   "source": []
  },
  {
   "cell_type": "code",
   "execution_count": 20,
   "metadata": {
    "id": "S4dfJs8vHszs"
   },
   "outputs": [
    {
     "name": "stdout",
     "output_type": "stream",
     "text": [
      "{False, True}\n",
      "{False, True, None}\n",
      "{False, True}\n"
     ]
    }
   ],
   "source": [
    "\n",
    "## Set icerisinde bool() func calisir mi???   ##  Bizce output nedir ???\n",
    "\n",
    "a = {bool(1), bool(2), bool(None), bool(\"Osman bey\")}                \n",
    "b = {True, False, None}                   \n",
    "\n",
    "bizimkesisim = b.intersection(a)     \n",
    "print(a)\n",
    "print(b)\n",
    "print(bizimkesisim)"
   ]
  },
  {
   "cell_type": "code",
   "execution_count": 23,
   "metadata": {
    "id": "ndYCvKmUHs3Y"
   },
   "outputs": [
    {
     "name": "stdout",
     "output_type": "stream",
     "text": [
      "{False, True}\n",
      "{False}\n",
      "{False}\n"
     ]
    }
   ],
   "source": [
    "\n",
    "## Set icerisinde and or ve not calisir mi???   ##  Bizce output nedir ???\n",
    "\n",
    "a = {bool(1), bool(2), bool(None), bool(\"Osman bey\")}                \n",
    "b = {True and False and not None}     # ==>> dikkat aralarda and or not var               \n",
    "\n",
    "bizimkesisim = b.intersection(a)     \n",
    "\n",
    "print(a)\n",
    "print(b)\n",
    "print(bizimkesisim)"
   ]
  },
  {
   "cell_type": "code",
   "execution_count": 24,
   "metadata": {
    "id": "fOwa-V2JHs6M"
   },
   "outputs": [
    {
     "name": "stdout",
     "output_type": "stream",
     "text": [
      "1\n"
     ]
    }
   ],
   "source": [
    "### bu set imizin eleman sayisi kactir ??\n",
    "\n",
    "b = {True and False and not None}\n",
    "\n",
    "print(len(b))"
   ]
  },
  {
   "cell_type": "code",
   "execution_count": null,
   "metadata": {
    "id": "HSt9McC6J_rI"
   },
   "outputs": [],
   "source": []
  },
  {
   "cell_type": "code",
   "execution_count": null,
   "metadata": {
    "id": "q2F_FQwnKAMB"
   },
   "outputs": [],
   "source": [
    "#### önemli bir bilgi:\n",
    "\n",
    "# Python da ikiden daha cok kümenin kesimini bulma sansimiz var midir?\n"
   ]
  },
  {
   "cell_type": "code",
   "execution_count": null,
   "metadata": {
    "id": "ukBRfgLUMuYx"
   },
   "outputs": [],
   "source": []
  },
  {
   "cell_type": "code",
   "execution_count": null,
   "metadata": {
    "id": "9YEnl3G9MunF"
   },
   "outputs": [],
   "source": []
  },
  {
   "cell_type": "code",
   "execution_count": 25,
   "metadata": {
    "id": "h0rIOldiNZgA"
   },
   "outputs": [
    {
     "name": "stdout",
     "output_type": "stream",
     "text": [
      "{'a', 't'}\n"
     ]
    }
   ],
   "source": [
    "a = set('tokat')        \n",
    "b = set('yozgat')\n",
    "c = set('atlanta')\n",
    "d = set('atlanticocean')\n",
    "e = set('atlasokyanusu')\n",
    "\n",
    "print(a & b & c & d & e) "
   ]
  },
  {
   "cell_type": "code",
   "execution_count": 28,
   "metadata": {
    "id": "mlDOgdRiLCWB"
   },
   "outputs": [
    {
     "name": "stdout",
     "output_type": "stream",
     "text": [
      "{'a', 't'}\n"
     ]
    }
   ],
   "source": [
    "## Dikkat burada kesisim almanin ikinci yöntemini kullaniyoruz:\n",
    "\n",
    "a = set('tokat')\n",
    "b = set('yozgat')\n",
    "c = set('atlanta')\n",
    "d = set('atlanticocean')\n",
    "e = set('atlasokyanusu')\n",
    "\n",
    "sizinkesisim = b.intersection(a, c, d, e)     \n",
    "\n",
    "print(sizinkesisim)"
   ]
  },
  {
   "cell_type": "code",
   "execution_count": 27,
   "metadata": {
    "id": "e8w9Sdz3PBKm"
   },
   "outputs": [
    {
     "name": "stdout",
     "output_type": "stream",
     "text": [
      "{'a', 't'}\n"
     ]
    }
   ],
   "source": [
    "a = set('tokat')\n",
    "b = set('yozgat')\n",
    "c = set('atlanta')\n",
    "d = set('atlanticocean')\n",
    "e = set('atlasokyanusu')\n",
    "\n",
    "sizinkesisim = b.intersection(a).intersection(c).intersection(d).intersection(d).intersection(e)  # bu da calisiyor   \n",
    "\n",
    "print(sizinkesisim)"
   ]
  },
  {
   "cell_type": "code",
   "execution_count": 29,
   "metadata": {
    "id": "e8w9Sdz3PBKm"
   },
   "outputs": [
    {
     "name": "stdout",
     "output_type": "stream",
     "text": [
      "{'1', 'r', 'c', 'h', 'o', 't', '0'}\n",
      " \n",
      "<class 'set'>\n"
     ]
    }
   ],
   "source": [
    "## Peki !!!\n",
    "\n",
    "# Olusturdugumuz Kesisimin type' i nedir??\n",
    "\n",
    "a = set('cohort10')\n",
    "b = set('01trohoc')\n",
    "     \n",
    "print(a & b, type(a & b), sep = \"\\n \\n\")"
   ]
  },
  {
   "cell_type": "code",
   "execution_count": 30,
   "metadata": {
    "id": "z_ScyXtyPBM9"
   },
   "outputs": [
    {
     "name": "stdout",
     "output_type": "stream",
     "text": [
      "set()\n"
     ]
    }
   ],
   "source": [
    "# complex lerde kesisim\n",
    "\n",
    "benimkümem = {3 + 3j}     # Output ???\n",
    "seninkümen = {3 + 5j}\n",
    "\n",
    "print(benimkümem & seninkümen)"
   ]
  },
  {
   "cell_type": "code",
   "execution_count": 31,
   "metadata": {
    "id": "awQ-fap4PBOu"
   },
   "outputs": [
    {
     "name": "stdout",
     "output_type": "stream",
     "text": [
      "set()\n"
     ]
    }
   ],
   "source": [
    "# output umuz nedir ??\n",
    "\n",
    "set1 = {True and False and True}\n",
    "\n",
    "set2 = {True or False or True}\n",
    "\n",
    "print(set1 & set2)"
   ]
  },
  {
   "cell_type": "code",
   "execution_count": null,
   "metadata": {
    "id": "1N-WpaThPBQg"
   },
   "outputs": [],
   "source": [
    "# ----------------------------------------------------------------------"
   ]
  },
  {
   "cell_type": "code",
   "execution_count": null,
   "metadata": {
    "id": "J5bpaDjnLCdo"
   },
   "outputs": [],
   "source": [
    "################        difference        ###############"
   ]
  },
  {
   "cell_type": "code",
   "execution_count": 32,
   "metadata": {
    "id": "PoYmmG9hLCgJ"
   },
   "outputs": [
    {
     "name": "stdout",
     "output_type": "stream",
     "text": [
      "{'sen', 'o'}\n",
      "{'sen', 'o'}\n"
     ]
    }
   ],
   "source": [
    "# iki farkli kullanimi vardir \n",
    "\n",
    "# 1: \n",
    "\n",
    "set1 = {\"ben\", \"sen\", \"o\", \"biz\"}\n",
    "\n",
    "set2 = {\"ben\", \"biz\", \"siz\", \"onlar\"}\n",
    "\n",
    "fark = set1 - set2 \n",
    "\n",
    "print(fark)\n",
    "\n",
    "print(set1 - set2)"
   ]
  },
  {
   "cell_type": "code",
   "execution_count": 33,
   "metadata": {
    "id": "IdIKAcx0KAOU"
   },
   "outputs": [
    {
     "name": "stdout",
     "output_type": "stream",
     "text": [
      "{'sen', 'o'}\n",
      "{'sen', 'o'}\n"
     ]
    }
   ],
   "source": [
    "## ikinci method:\n",
    "\n",
    "set1 = {\"ben\", \"sen\", \"o\", \"biz\"}\n",
    "\n",
    "set2 = {\"ben\", \"biz\", \"siz\", \"onlar\"}\n",
    "\n",
    "fark = set1.difference(set2) \n",
    "\n",
    "print(fark)\n",
    "\n",
    "print(set1.difference(set2))     "
   ]
  },
  {
   "cell_type": "code",
   "execution_count": null,
   "metadata": {
    "id": "9nLd2LX6Ejrs"
   },
   "outputs": [],
   "source": [
    "#######  Attention :::::\n",
    "\n",
    "# iki küme kesisimi alirken a & b  ile b & a  ayni seylerdir. Ancak\n",
    "\n",
    "# fark alirken (set1 - set2) ile (set2 - set1) ayni seyler degildir.\n",
    "\n",
    "# Söyle düsünelim::::\n",
    "\n",
    "set1 = {\"ben\", \"sen\", \"o\", \"biz\"}\n",
    "\n",
    "set2 = {\"ben\", \"biz\", \"siz\", \"onlar\"}\n",
    "\n",
    "# set1 de olup set2 de olmayanlar =>> \"sen\" ve \"o\"\n",
    "\n",
    "# set2 de olup set1 de olmayanlar ise  =>>  \"siz\", \"onlar\"\n",
    "\n",
    "print(set1 - set2)\n",
    "\n",
    "print(set2 - set1)"
   ]
  },
  {
   "cell_type": "code",
   "execution_count": 34,
   "metadata": {
    "id": "t-nViSC_Ejt7"
   },
   "outputs": [
    {
     "name": "stdout",
     "output_type": "stream",
     "text": [
      "{'biz', 'ben', 'siz', 'onlar'}\n"
     ]
    }
   ],
   "source": [
    "## Dikkat!\n",
    "\n",
    "# outputumuz nedir ??\n",
    "\n",
    "set1 = {\"ben\", \"sen\", \"o\", \"biz\"}\n",
    "\n",
    "set2 = {\"ben\", \"biz\", \"siz\", \"onlar\"}\n",
    "\n",
    "print(set1 and set2)"
   ]
  },
  {
   "cell_type": "code",
   "execution_count": 35,
   "metadata": {
    "id": "dlp_OG5IEjve"
   },
   "outputs": [
    {
     "name": "stdout",
     "output_type": "stream",
     "text": [
      "{'kasim', 'ekim'}\n"
     ]
    }
   ],
   "source": [
    "### Peki diyelim ki elimizde birbirleri ile kesisimi yani\n",
    "\n",
    "# ortak elemani olan toplam 4 adet küme olsun.\n",
    "\n",
    "## bizce bu dört kümeden birinin diger üc kümeden farkini bulabilir miyiz ??\n",
    "\n",
    "set1 = {\"ben\", \"sen\", \"o\", \"biz\"}\n",
    "\n",
    "set2 = {\"ben\", \"biz\", \"siz\", \"onlar\"}\n",
    "\n",
    "set3 = {\"ben\", 1, 2, 3}\n",
    "\n",
    "set4 = {\"ben\", \"ekim\", \"kasim\"}\n",
    "\n",
    "print(set4 - (set1 | set2 | set3))   ## vvvvv "
   ]
  },
  {
   "cell_type": "code",
   "execution_count": 37,
   "metadata": {
    "id": "2wfKOY1xW2ns"
   },
   "outputs": [
    {
     "ename": "AttributeError",
     "evalue": "'set' object has no attribute 'differance'",
     "output_type": "error",
     "traceback": [
      "\u001b[1;31m---------------------------------------------------------------------------\u001b[0m",
      "\u001b[1;31mAttributeError\u001b[0m                            Traceback (most recent call last)",
      "\u001b[1;32m<ipython-input-37-3c1b36cc6ade>\u001b[0m in \u001b[0;36m<module>\u001b[1;34m\u001b[0m\n\u001b[0;32m      7\u001b[0m \u001b[0mset4\u001b[0m \u001b[1;33m=\u001b[0m \u001b[1;33m{\u001b[0m\u001b[1;34m\"ben\"\u001b[0m\u001b[1;33m,\u001b[0m \u001b[1;34m\"ekim\"\u001b[0m\u001b[1;33m,\u001b[0m \u001b[1;34m\"kasim\"\u001b[0m\u001b[1;33m}\u001b[0m\u001b[1;33m\u001b[0m\u001b[1;33m\u001b[0m\u001b[0m\n\u001b[0;32m      8\u001b[0m \u001b[1;33m\u001b[0m\u001b[0m\n\u001b[1;32m----> 9\u001b[1;33m \u001b[0mprint\u001b[0m\u001b[1;33m(\u001b[0m\u001b[0mset4\u001b[0m\u001b[1;33m.\u001b[0m\u001b[0mdifferance\u001b[0m\u001b[1;33m(\u001b[0m\u001b[0mset1\u001b[0m\u001b[1;33m)\u001b[0m\u001b[1;33m.\u001b[0m\u001b[0mdifferance\u001b[0m\u001b[1;33m(\u001b[0m\u001b[0mset2\u001b[0m\u001b[1;33m)\u001b[0m\u001b[1;33m.\u001b[0m\u001b[0mdifferance\u001b[0m\u001b[1;33m(\u001b[0m\u001b[0mset3\u001b[0m\u001b[1;33m)\u001b[0m\u001b[1;33m)\u001b[0m\u001b[1;33m\u001b[0m\u001b[1;33m\u001b[0m\u001b[0m\n\u001b[0m",
      "\u001b[1;31mAttributeError\u001b[0m: 'set' object has no attribute 'differance'"
     ]
    }
   ],
   "source": [
    "set1 = {\"ben\", \"sen\", \"o\", \"biz\"}\n",
    "\n",
    "set2 = {\"ben\", \"biz\", \"siz\", \"onlar\"}\n",
    "\n",
    "set3 = {\"ben\", 1, 2, 3}\n",
    "\n",
    "set4 = {\"ben\", \"ekim\", \"kasim\"}\n",
    "\n",
    "print(set4.differance(set1).differance(set2).differance(set3))"
   ]
  },
  {
   "cell_type": "code",
   "execution_count": null,
   "metadata": {
    "id": "2wfKOY1xW2ns"
   },
   "outputs": [],
   "source": [
    "# kümeler icerisinde - islemi yapabiliyoruz ancak\n",
    "\n",
    "# matematikteki + islemi kümeler arasinda islem yapmiyor.\n",
    "\n",
    "# o nedenle birlesim icin böyle bir formül kurduk. \n",
    "\n",
    "# Aklimiza gelen baska yöntem var midir ??"
   ]
  },
  {
   "cell_type": "code",
   "execution_count": 38,
   "metadata": {
    "id": "CRaRQGEIW2pi"
   },
   "outputs": [
    {
     "name": "stdout",
     "output_type": "stream",
     "text": [
      "{'biz'}\n"
     ]
    }
   ],
   "source": [
    "# son olarak:\n",
    "\n",
    "#  set1 ve set2 de olup set3 ve set4 de olmayan elemanlari bulalim\n",
    "\n",
    "set1 = {\"ben\", \"sen\", \"o\", \"biz\"}\n",
    "\n",
    "set2 = {\"ben\", \"biz\", \"siz\", \"onlar\"}\n",
    "\n",
    "set3 = {\"ben\", 1, 2, 3}\n",
    "\n",
    "set4 = {\"ben\", \"ekim\", \"kasim\"}\n",
    "\n",
    "print((set1 & set2) - (set3 & set4))  "
   ]
  },
  {
   "cell_type": "code",
   "execution_count": null,
   "metadata": {
    "id": "y9L5O0JZW2re"
   },
   "outputs": [],
   "source": []
  },
  {
   "cell_type": "code",
   "execution_count": null,
   "metadata": {
    "id": "GTWh7tAOegy7"
   },
   "outputs": [],
   "source": [
    "# ------------------------------------------------------------"
   ]
  },
  {
   "cell_type": "code",
   "execution_count": null,
   "metadata": {
    "id": "c3Mem6_Weg09"
   },
   "outputs": [],
   "source": [
    "############           union  (birlesim)       ##############"
   ]
  },
  {
   "cell_type": "code",
   "execution_count": 39,
   "metadata": {
    "id": "vRJA5QPBeg3E"
   },
   "outputs": [
    {
     "name": "stdout",
     "output_type": "stream",
     "text": [
      "{'sen', 'biz', 'siz', 'onlar', 'ben', 'o'}\n"
     ]
    }
   ],
   "source": [
    "# iki veya daha fazla kümenin birlesimini almak icin elimizde yine \n",
    "\n",
    "# 2 farkli yöntem vardir:\n",
    "\n",
    "# 1. Yöntem:\n",
    "\n",
    "set1 = {\"ben\", \"sen\", \"o\", \"biz\"}  ## output?? \n",
    "\n",
    "set2 = {\"ben\", \"biz\", \"siz\", \"onlar\"}\n",
    "\n",
    "print(set1 | set2)"
   ]
  },
  {
   "cell_type": "code",
   "execution_count": 40,
   "metadata": {
    "id": "1_hjV0xYe3UR"
   },
   "outputs": [
    {
     "name": "stdout",
     "output_type": "stream",
     "text": [
      "{'sen', 'biz', 'siz', 'onlar', 'ben', 'o'}\n",
      "{'sen', 'biz', 'siz', 'onlar', 'ben', 'o'}\n"
     ]
    }
   ],
   "source": [
    "# ikinci yöntem:\n",
    "\n",
    "set1 = {\"ben\", \"sen\", \"o\", \"biz\"}\n",
    "\n",
    "set2 = {\"ben\", \"biz\", \"siz\", \"onlar\"}\n",
    "\n",
    "print(set1.union(set2))\n",
    "\n",
    "print(set2.union(set1))\n",
    "\n",
    "# Dikkat!!:  set1 ve set2 nin yerinin \n",
    "\n",
    "# degismesi kesisim ve birlesimde sonucu degistirmez"
   ]
  },
  {
   "cell_type": "code",
   "execution_count": 43,
   "metadata": {
    "id": "6suD0U8QgrfM"
   },
   "outputs": [
    {
     "name": "stdout",
     "output_type": "stream",
     "text": [
      "{'sen', 'izmir', 'ankara', 'siz', 'onlar', 'malatya', 'o'}\n"
     ]
    }
   ],
   "source": [
    "# Söyle bir sorumuz olsun:\n",
    "\n",
    "# üc tane kümemiz var. biz bu 3 kümenin sadece kendilerine ait olan \n",
    "\n",
    "# elemanlarini bir araya getirmek ve toplamak istiyoruz. yani kesisimlerini bu yeni\n",
    "\n",
    "# küme icerisine almak istemiyoruz \n",
    "\n",
    "set1 = {\"ben\", \"sen\", \"o\", \"biz\"}          ### Bana yazdirabilir misiniz ??\n",
    "\n",
    "set2 = {\"ben\", \"biz\", \"siz\", \"onlar\"}                   ## vvvvvv\n",
    "\n",
    "set3 = {\"ben\", \"ankara\", \"malatya\", \"izmir\"}\n",
    "\n",
    "new = ((set1 | set2 |set3) - ((set1 & set2) | (set1 & set3) | (set2 & set3)))\n",
    "\n",
    "print(new)\n"
   ]
  },
  {
   "cell_type": "code",
   "execution_count": null,
   "metadata": {
    "id": "ctHysb6GFQov"
   },
   "outputs": [],
   "source": []
  },
  {
   "cell_type": "code",
   "execution_count": null,
   "metadata": {
    "id": "oH9ZzzfUFQr_"
   },
   "outputs": [],
   "source": []
  },
  {
   "cell_type": "code",
   "execution_count": null,
   "metadata": {
    "id": "7W9pYS5RFQtZ"
   },
   "outputs": [],
   "source": []
  },
  {
   "cell_type": "code",
   "execution_count": 44,
   "metadata": {
    "id": "Ob3AmDntFQwN"
   },
   "outputs": [
    {
     "name": "stdout",
     "output_type": "stream",
     "text": [
      "{'sen', 'izmir', 'ankara', 'biz', 'siz', 'onlar', 'malatya', 'o'}\n"
     ]
    }
   ],
   "source": [
    "yeni_kümemiz = (set1 | set2 | set3) - (set1 & set2 & set3)\n",
    "\n",
    "print(yeni_kümemiz)    ##  outputu inceleyelim"
   ]
  },
  {
   "cell_type": "code",
   "execution_count": 45,
   "metadata": {
    "id": "8r7du7WHKSc1"
   },
   "outputs": [
    {
     "name": "stdout",
     "output_type": "stream",
     "text": [
      "{'b', 'c', 7, 8, 9, 'a'}\n"
     ]
    }
   ],
   "source": [
    "### önemli bir bilgi:\n",
    "\n",
    "#  iki kümeyi birlestirmenin baska bir yöntemi daha vardir:\n",
    "\n",
    "#   update() methodu:\n",
    "\n",
    "küme = {9, 8, 7}\n",
    "\n",
    "küme1 = {\"a\", \"b\", \"c\"}\n",
    "\n",
    "küme.update(küme1)\n",
    "\n",
    "print(küme)"
   ]
  },
  {
   "cell_type": "code",
   "execution_count": 46,
   "metadata": {
    "id": "_kGqKLmlKShR"
   },
   "outputs": [
    {
     "name": "stdout",
     "output_type": "stream",
     "text": [
      "None\n"
     ]
    }
   ],
   "source": [
    "# ayni islemi degiskene assign ederek de yapabilir miyiz ?    hayir*****************************\n",
    "\n",
    "# sizce output nedir?\n",
    "\n",
    "küme = {9, 8, 7}\n",
    "\n",
    "küme1 = {\"a\", \"b\", \"c\"}\n",
    "\n",
    "kümeupdate = küme.update(küme1)\n",
    "\n",
    "print(kümeupdate)"
   ]
  },
  {
   "cell_type": "code",
   "execution_count": 47,
   "metadata": {
    "id": "Bzo4RPatKSmO"
   },
   "outputs": [
    {
     "ename": "AttributeError",
     "evalue": "'list' object has no attribute 'update'",
     "output_type": "error",
     "traceback": [
      "\u001b[1;31m---------------------------------------------------------------------------\u001b[0m",
      "\u001b[1;31mAttributeError\u001b[0m                            Traceback (most recent call last)",
      "\u001b[1;32m<ipython-input-47-4cb9b4dcbcb0>\u001b[0m in \u001b[0;36m<module>\u001b[1;34m\u001b[0m\n\u001b[0;32m      5\u001b[0m \u001b[0mliste1\u001b[0m \u001b[1;33m=\u001b[0m \u001b[1;33m[\u001b[0m\u001b[1;34m\"a\"\u001b[0m\u001b[1;33m,\u001b[0m \u001b[1;34m\"b\"\u001b[0m\u001b[1;33m,\u001b[0m \u001b[1;34m\"c\"\u001b[0m\u001b[1;33m]\u001b[0m\u001b[1;33m\u001b[0m\u001b[1;33m\u001b[0m\u001b[0m\n\u001b[0;32m      6\u001b[0m \u001b[1;33m\u001b[0m\u001b[0m\n\u001b[1;32m----> 7\u001b[1;33m \u001b[0mliste\u001b[0m\u001b[1;33m.\u001b[0m\u001b[0mupdate\u001b[0m\u001b[1;33m(\u001b[0m\u001b[0mliste1\u001b[0m\u001b[1;33m)\u001b[0m\u001b[1;33m\u001b[0m\u001b[1;33m\u001b[0m\u001b[0m\n\u001b[0m\u001b[0;32m      8\u001b[0m \u001b[1;33m\u001b[0m\u001b[0m\n\u001b[0;32m      9\u001b[0m \u001b[0mprint\u001b[0m\u001b[1;33m(\u001b[0m\u001b[0mliste\u001b[0m\u001b[1;33m)\u001b[0m\u001b[1;33m\u001b[0m\u001b[1;33m\u001b[0m\u001b[0m\n",
      "\u001b[1;31mAttributeError\u001b[0m: 'list' object has no attribute 'update'"
     ]
    }
   ],
   "source": [
    "### listelerde ve tuple' lar da update() calistirabilir miyiz??\n",
    "\n",
    "liste= [9, 8, 7]\n",
    "\n",
    "liste1 = [\"a\", \"b\", \"c\"]\n",
    "\n",
    "liste.update(liste1)\n",
    "\n",
    "print(liste)"
   ]
  },
  {
   "cell_type": "code",
   "execution_count": 48,
   "metadata": {
    "id": "oeZlR55CKSpv"
   },
   "outputs": [
    {
     "name": "stdout",
     "output_type": "stream",
     "text": [
      "{'van': 'sehir', 'kayseri': 'il'}\n"
     ]
    }
   ],
   "source": [
    "### peki dictionary lerde  update var midir ???\n",
    "\n",
    "dict1 =  {\"van\" : \"sehir\"} \n",
    "\n",
    "dict2 = {\"kayseri\" : \"il\"}\n",
    "\n",
    "dict1.update(dict2)\n",
    "\n",
    "print(dict1)        "
   ]
  },
  {
   "cell_type": "code",
   "execution_count": null,
   "metadata": {
    "id": "wvqOhJVnLmyt"
   },
   "outputs": [],
   "source": []
  },
  {
   "cell_type": "code",
   "execution_count": 49,
   "metadata": {
    "id": "DfEgCi_Oe3WV"
   },
   "outputs": [
    {
     "name": "stdout",
     "output_type": "stream",
     "text": [
      "True\n",
      "False\n"
     ]
    }
   ],
   "source": [
    "## in ve not in komutlarini yine setlerde de kullanabiliyoruz\n",
    "\n",
    "set3 = {\"ben\", \"ankara\", \"malatya\", \"izmir\"}\n",
    "\n",
    "print(\"malatya\" in set3)\n",
    "\n",
    "print(\"gaziantep\" in set3)"
   ]
  },
  {
   "cell_type": "code",
   "execution_count": 50,
   "metadata": {
    "id": "D8a5Sw02e3YW"
   },
   "outputs": [
    {
     "name": "stdout",
     "output_type": "stream",
     "text": [
      "False\n",
      "True\n"
     ]
    }
   ],
   "source": [
    "# tersini kuralim:\n",
    "\n",
    "set3 = {\"ben\", \"ankara\", \"malatya\", \"izmir\"}\n",
    "\n",
    "print(\"malatya\" not in set3)\n",
    "\n",
    "print(\"gaziantep\" not in set3)"
   ]
  },
  {
   "cell_type": "code",
   "execution_count": 51,
   "metadata": {
    "id": "WEOLQk8ee3af"
   },
   "outputs": [
    {
     "name": "stdout",
     "output_type": "stream",
     "text": [
      "False\n"
     ]
    }
   ],
   "source": [
    "### Attention:  in ile not in'i  ==  ile karistirmayalim\n",
    "\n",
    "# eger \n",
    "\n",
    "set3 = {\"ben\", \"ankara\", \"malatya\", \"izmir\"}\n",
    "\n",
    "print(\"malatya\" == set3)    # bu sekilde yaparsak sonuc False olur.\n",
    "\n",
    "                            # cünkü \"malatya\" sadece set3 icerisinde bir tane elemandir\n",
    "                            # yani set3 e esit degildir"
   ]
  },
  {
   "cell_type": "code",
   "execution_count": 53,
   "metadata": {
    "id": "QtXg46lqe3b6"
   },
   "outputs": [
    {
     "name": "stdout",
     "output_type": "stream",
     "text": [
      "{'il'}\n"
     ]
    }
   ],
   "source": [
    "## gecen dersimizde dict ' i set e cevirmeyi görmüstük\n",
    "\n",
    "## tekrar edelim \n",
    "\n",
    "mydict = {\"il\" : \"kahramanmaras\"}\n",
    "\n",
    "print(set(mydict))\n",
    "\n",
    "# dict sete cevrildiginde, sadece key ler alinir. Ama üzerinde oynama yapabiliriz"
   ]
  },
  {
   "cell_type": "code",
   "execution_count": 54,
   "metadata": {
    "id": "8Pz59wdmeg4k"
   },
   "outputs": [
    {
     "ename": "ValueError",
     "evalue": "dictionary update sequence element #0 has length 3; 2 is required",
     "output_type": "error",
     "traceback": [
      "\u001b[1;31m---------------------------------------------------------------------------\u001b[0m",
      "\u001b[1;31mValueError\u001b[0m                                Traceback (most recent call last)",
      "\u001b[1;32m<ipython-input-54-3124ead74b88>\u001b[0m in \u001b[0;36m<module>\u001b[1;34m\u001b[0m\n\u001b[0;32m      6\u001b[0m \u001b[1;33m\u001b[0m\u001b[0m\n\u001b[0;32m      7\u001b[0m \u001b[1;33m\u001b[0m\u001b[0m\n\u001b[1;32m----> 8\u001b[1;33m \u001b[0mprint\u001b[0m\u001b[1;33m(\u001b[0m\u001b[0mdict\u001b[0m\u001b[1;33m(\u001b[0m\u001b[0mset3\u001b[0m\u001b[1;33m)\u001b[0m\u001b[1;33m)\u001b[0m\u001b[1;33m\u001b[0m\u001b[1;33m\u001b[0m\u001b[0m\n\u001b[0m",
      "\u001b[1;31mValueError\u001b[0m: dictionary update sequence element #0 has length 3; 2 is required"
     ]
    }
   ],
   "source": [
    "# peki tersini deneyelim.\n",
    "\n",
    "# set'ten dict yapma            ####  what is the output ??\n",
    "\n",
    "set3 = {\"ben\", \"ankara\", \"malatya\", \"izmir\"}\n",
    "\n",
    "\n",
    "print(dict(set3))  "
   ]
  },
  {
   "cell_type": "code",
   "execution_count": 55,
   "metadata": {
    "id": "1WXpwKFdudkq"
   },
   "outputs": [
    {
     "name": "stdout",
     "output_type": "stream",
     "text": [
      "{'set3': {'ben', 'malatya', 'izmir', 'ankara'}}\n"
     ]
    }
   ],
   "source": [
    "#####  pekiiiiiii ? \n",
    "\n",
    "# söyle birsey yapsak ne ile karsilasiriz ??\n",
    "\n",
    "set3 = {\"ben\", \"ankara\", \"malatya\", \"izmir\"}\n",
    "\n",
    "set2 = {\"ben\", \"ankara\", \"malatya\", \"izmir\"}\n",
    "\n",
    "print(dict(set3 = set2))  "
   ]
  },
  {
   "cell_type": "code",
   "execution_count": 56,
   "metadata": {
    "id": "xILWoqBWudmt"
   },
   "outputs": [
    {
     "ename": "TypeError",
     "evalue": "unhashable type: 'set'",
     "output_type": "error",
     "traceback": [
      "\u001b[1;31m---------------------------------------------------------------------------\u001b[0m",
      "\u001b[1;31mTypeError\u001b[0m                                 Traceback (most recent call last)",
      "\u001b[1;32m<ipython-input-56-67e5b5435045>\u001b[0m in \u001b[0;36m<module>\u001b[1;34m\u001b[0m\n\u001b[0;32m      5\u001b[0m \u001b[0mset2\u001b[0m \u001b[1;33m=\u001b[0m \u001b[1;33m{\u001b[0m\u001b[1;34m\"ben\"\u001b[0m\u001b[1;33m,\u001b[0m \u001b[1;34m\"ankara\"\u001b[0m\u001b[1;33m,\u001b[0m \u001b[1;34m\"malatya\"\u001b[0m\u001b[1;33m,\u001b[0m \u001b[1;34m\"izmir\"\u001b[0m\u001b[1;33m}\u001b[0m\u001b[1;33m\u001b[0m\u001b[1;33m\u001b[0m\u001b[0m\n\u001b[0;32m      6\u001b[0m \u001b[1;33m\u001b[0m\u001b[0m\n\u001b[1;32m----> 7\u001b[1;33m \u001b[0mdictionary\u001b[0m \u001b[1;33m=\u001b[0m \u001b[1;33m{\u001b[0m\u001b[0mset3\u001b[0m \u001b[1;33m:\u001b[0m \u001b[0mset2\u001b[0m\u001b[1;33m}\u001b[0m\u001b[1;33m\u001b[0m\u001b[1;33m\u001b[0m\u001b[0m\n\u001b[0m\u001b[0;32m      8\u001b[0m \u001b[1;33m\u001b[0m\u001b[0m\n\u001b[0;32m      9\u001b[0m \u001b[0mprint\u001b[0m\u001b[1;33m(\u001b[0m\u001b[0mdictionary\u001b[0m\u001b[1;33m)\u001b[0m\u001b[1;33m\u001b[0m\u001b[1;33m\u001b[0m\u001b[0m\n",
      "\u001b[1;31mTypeError\u001b[0m: unhashable type: 'set'"
     ]
    }
   ],
   "source": [
    "#  bu kod calisir mi ??\n",
    "\n",
    "set3 = {\"ben\", \"ankara\", \"malatya\", \"izmir\"}\n",
    "\n",
    "set2 = {\"ben\", \"ankara\", \"malatya\", \"izmir\"}\n",
    "\n",
    "dictionary = {set3 : set2}\n",
    "\n",
    "print(dictionary)  "
   ]
  },
  {
   "cell_type": "code",
   "execution_count": 57,
   "metadata": {
    "id": "ydtvhRO_omfE"
   },
   "outputs": [
    {
     "name": "stdout",
     "output_type": "stream",
     "text": [
      "{('ben', 'ankara', 'malatya', 'izmir'): ('ben', 'ankara', 'malatya', 'izmir')}\n",
      "{'set3': ('ben', 'ankara', 'malatya', 'izmir')}\n"
     ]
    }
   ],
   "source": [
    "#  pekiiiiii \n",
    "\n",
    "# elimizdeki veriler tuple olsaydi söyle bir dict olusturabilirmiydik ??\n",
    "\n",
    "set3 = (\"ben\", \"ankara\", \"malatya\", \"izmir\")\n",
    "\n",
    "set2 = (\"ben\", \"ankara\", \"malatya\", \"izmir\")\n",
    "\n",
    "dictionary = {set3 : set2}\n",
    "\n",
    "print(dictionary)         ####  iki print var iki output nasil olur ??? \n",
    "\n",
    "print(dict(set3 = set2))"
   ]
  },
  {
   "cell_type": "code",
   "execution_count": 58,
   "metadata": {
    "id": "k6ZWZuZxM8mT"
   },
   "outputs": [
    {
     "name": "stdout",
     "output_type": "stream",
     "text": [
      "['elma', 'armut', 'kiraz', 'karpuz', 'Üzüm', 'portakal', 'armut']\n"
     ]
    }
   ],
   "source": [
    "## extend methodu: (türkce anlami genisletmek)\n",
    "## extend methodunu listede kullanabilir miyiz??     evet\n",
    "\n",
    "meyveler = [\"elma\", \"armut\", \"kiraz\", \"karpuz\", \"Üzüm\"]\n",
    "meyveler2 = [\"portakal\", \"armut\"]\n",
    "meyveler.extend(meyveler2)\n",
    " \n",
    "print(meyveler)\n"
   ]
  },
  {
   "cell_type": "code",
   "execution_count": 60,
   "metadata": {
    "id": "A-dB8BLgM8n2"
   },
   "outputs": [
    {
     "name": "stdout",
     "output_type": "stream",
     "text": [
      "['elma', 'armut', 'kiraz', 'karpuz', 'Üzüm', 'a', 'n', 'a', 'n', 'a', 's']\n"
     ]
    }
   ],
   "source": [
    "eyveler = [\"emlma\", \"armut\", \"kiraz\", \"karpuz\", \"Üzüm\"]\n",
    "\n",
    "meyveler.extend(\"ananas\")   # ananasi elemanlarina ayirip ekler\n",
    " \n",
    "print(meyveler)"
   ]
  },
  {
   "cell_type": "code",
   "execution_count": 62,
   "metadata": {
    "id": "A-dB8BLgM8n2"
   },
   "outputs": [
    {
     "ename": "NameError",
     "evalue": "name 'm' is not defined",
     "output_type": "error",
     "traceback": [
      "\u001b[1;31m---------------------------------------------------------------------------\u001b[0m",
      "\u001b[1;31mNameError\u001b[0m                                 Traceback (most recent call last)",
      "\u001b[1;32m<ipython-input-62-16aea6a16f84>\u001b[0m in \u001b[0;36m<module>\u001b[1;34m\u001b[0m\n\u001b[0;32m      1\u001b[0m \u001b[0mmeyveler\u001b[0m \u001b[1;33m=\u001b[0m \u001b[1;33m[\u001b[0m\u001b[1;34m\"elma\"\u001b[0m\u001b[1;33m,\u001b[0m \u001b[1;34m\"armut\"\u001b[0m\u001b[1;33m,\u001b[0m \u001b[1;34m\"kiraz\"\u001b[0m\u001b[1;33m,\u001b[0m \u001b[1;34m\"karpuz\"\u001b[0m\u001b[1;33m,\u001b[0m \u001b[1;34m\"Üzüm\"\u001b[0m\u001b[1;33m]\u001b[0m\u001b[1;33m\u001b[0m\u001b[1;33m\u001b[0m\u001b[0m\n\u001b[1;32m----> 2\u001b[1;33m \u001b[0mm\u001b[0m\u001b[1;33m\u001b[0m\u001b[1;33m\u001b[0m\u001b[0m\n\u001b[0m\u001b[0;32m      3\u001b[0m \u001b[0mmeyveler\u001b[0m\u001b[1;33m.\u001b[0m\u001b[0mextend\u001b[0m\u001b[1;33m(\u001b[0m\u001b[1;33m(\u001b[0m\u001b[1;34m\"ananas\"\u001b[0m\u001b[1;33m,\u001b[0m\u001b[1;33m)\u001b[0m\u001b[1;33m)\u001b[0m  \u001b[1;31m# tuple eklesek liteye cevirip ekler\u001b[0m\u001b[1;33m\u001b[0m\u001b[1;33m\u001b[0m\u001b[0m\n\u001b[0;32m      4\u001b[0m \u001b[1;33m\u001b[0m\u001b[0m\n\u001b[0;32m      5\u001b[0m \u001b[0mprint\u001b[0m\u001b[1;33m(\u001b[0m\u001b[0mmeyveler\u001b[0m\u001b[1;33m)\u001b[0m\u001b[1;33m\u001b[0m\u001b[1;33m\u001b[0m\u001b[0m\n",
      "\u001b[1;31mNameError\u001b[0m: name 'm' is not defined"
     ]
    }
   ],
   "source": [
    "meyveler = [\"elma\", \"armut\", \"kiraz\", \"karpuz\", \"Üzüm\"]\n",
    "m\n",
    "meyveler.extend((\"ananas\",))  # tuple eklesek liteye cevirip ekler\n",
    " \n",
    "print(meyveler)"
   ]
  },
  {
   "cell_type": "code",
   "execution_count": 59,
   "metadata": {
    "id": "A-dB8BLgM8n2"
   },
   "outputs": [],
   "source": [
    "## extend methodunu setlerde kullanabilir miyiz??     Hayir"
   ]
  },
  {
   "cell_type": "code",
   "execution_count": 63,
   "metadata": {
    "id": "A-dB8BLgM8n2"
   },
   "outputs": [
    {
     "name": "stdout",
     "output_type": "stream",
     "text": [
      "{'kiraz', 'Üzüm', 'karpuz', 'elma', 'armut', 'portakal'}\n"
     ]
    }
   ],
   "source": [
    "meyveler = {\"elma\",\"armut\",\"kiraz\",\"karpuz\",\"Üzüm\"}\n",
    "meyveler2 = {\"portakal\",\"armut\"}\n",
    "meyveler.update(meyveler2)   # set lerde update kullanilir. extend calismaz\n",
    " \n",
    "print(meyveler)"
   ]
  },
  {
   "cell_type": "code",
   "execution_count": 67,
   "metadata": {
    "id": "elHUIKOquOii"
   },
   "outputs": [
    {
     "ename": "AttributeError",
     "evalue": "'tuple' object has no attribute 'extend'",
     "output_type": "error",
     "traceback": [
      "\u001b[1;31m---------------------------------------------------------------------------\u001b[0m",
      "\u001b[1;31mAttributeError\u001b[0m                            Traceback (most recent call last)",
      "\u001b[1;32m<ipython-input-67-6a0d1134409b>\u001b[0m in \u001b[0;36m<module>\u001b[1;34m\u001b[0m\n\u001b[0;32m      3\u001b[0m \u001b[0mmeyveler\u001b[0m \u001b[1;33m=\u001b[0m \u001b[1;33m(\u001b[0m\u001b[1;34m\"elma\"\u001b[0m\u001b[1;33m,\u001b[0m\u001b[1;34m\"armut\"\u001b[0m\u001b[1;33m,\u001b[0m\u001b[1;34m\"kiraz\"\u001b[0m\u001b[1;33m,\u001b[0m\u001b[1;34m\"karpuz\"\u001b[0m\u001b[1;33m,\u001b[0m\u001b[1;34m\"Üzüm\"\u001b[0m\u001b[1;33m)\u001b[0m\u001b[1;33m\u001b[0m\u001b[1;33m\u001b[0m\u001b[0m\n\u001b[0;32m      4\u001b[0m \u001b[0mmeyveler2\u001b[0m \u001b[1;33m=\u001b[0m \u001b[1;33m(\u001b[0m\u001b[1;34m\"portakal\"\u001b[0m\u001b[1;33m,\u001b[0m\u001b[1;34m\"armut\"\u001b[0m\u001b[1;33m)\u001b[0m\u001b[1;33m\u001b[0m\u001b[1;33m\u001b[0m\u001b[0m\n\u001b[1;32m----> 5\u001b[1;33m \u001b[0mmeyveler\u001b[0m\u001b[1;33m.\u001b[0m\u001b[0mextend\u001b[0m\u001b[1;33m(\u001b[0m\u001b[0mmeyveler2\u001b[0m\u001b[1;33m)\u001b[0m\u001b[1;33m\u001b[0m\u001b[1;33m\u001b[0m\u001b[0m\n\u001b[0m\u001b[0;32m      6\u001b[0m \u001b[1;33m\u001b[0m\u001b[0m\n\u001b[0;32m      7\u001b[0m \u001b[0mprint\u001b[0m\u001b[1;33m(\u001b[0m\u001b[0mmeyveler\u001b[0m\u001b[1;33m)\u001b[0m\u001b[1;33m\u001b[0m\u001b[1;33m\u001b[0m\u001b[0m\n",
      "\u001b[1;31mAttributeError\u001b[0m: 'tuple' object has no attribute 'extend'"
     ]
    }
   ],
   "source": [
    "##  Tuple larda kullanabilir miyiz ???\n",
    "\n",
    "meyveler = (\"elma\",\"armut\",\"kiraz\",\"karpuz\",\"Üzüm\")\n",
    "meyveler2 = (\"portakal\",\"armut\")\n",
    "meyveler.extend(meyveler2)\n",
    " \n",
    "print(meyveler)"
   ]
  },
  {
   "cell_type": "code",
   "execution_count": 71,
   "metadata": {
    "id": "4KapZukIuOkq"
   },
   "outputs": [
    {
     "name": "stdout",
     "output_type": "stream",
     "text": [
      "{'elma': 'armut', 'portakal': 'üzüm'}\n"
     ]
    }
   ],
   "source": [
    "### dict te kullanilabilir mi ??\n",
    "\n",
    "meyveler = {\"elma\" : \"armut\"}\n",
    "meyveler2 = {\"portakal\" : \"üzüm\"}\n",
    "meyveler.update(meyveler2.items())   # update items() olarak dict bilesir\n",
    " \n",
    "print(meyveler)"
   ]
  },
  {
   "cell_type": "code",
   "execution_count": 72,
   "metadata": {
    "id": "dDbHGR21ua0u"
   },
   "outputs": [
    {
     "name": "stdout",
     "output_type": "stream",
     "text": [
      "{1, 2, 3, 4, 5}\n"
     ]
    }
   ],
   "source": [
    "## copy methodu:  copy edilen verinin sig bir kopyasini döndürür\n",
    "\n",
    "set1 = {1, 2, 3, 4, 5}\n",
    "\n",
    "set2 = set1.copy()\n",
    "\n",
    "print(set2)"
   ]
  },
  {
   "cell_type": "code",
   "execution_count": 73,
   "metadata": {
    "id": "4EuN1cHpyufe"
   },
   "outputs": [
    {
     "name": "stdout",
     "output_type": "stream",
     "text": [
      "{1, 2, 3, 4, 5}\n"
     ]
    }
   ],
   "source": [
    "# aslinda bu islem assign etmenin aynisidir.\n",
    "# copy methodunu kullanmadan normalde biz söyle yapiyoruz\n",
    "\n",
    "set1 = {1, 2, 3, 4, 5}\n",
    "\n",
    "set2 = set1\n",
    "\n",
    "print(set2)     "
   ]
  },
  {
   "cell_type": "code",
   "execution_count": null,
   "metadata": {
    "id": "T5ll20JIzCyj"
   },
   "outputs": [],
   "source": []
  },
  {
   "cell_type": "code",
   "execution_count": 74,
   "metadata": {
    "id": "peBVfKfNua22"
   },
   "outputs": [
    {
     "ename": "AttributeError",
     "evalue": "'tuple' object has no attribute 'copy'",
     "output_type": "error",
     "traceback": [
      "\u001b[1;31m---------------------------------------------------------------------------\u001b[0m",
      "\u001b[1;31mAttributeError\u001b[0m                            Traceback (most recent call last)",
      "\u001b[1;32m<ipython-input-74-046783d45366>\u001b[0m in \u001b[0;36m<module>\u001b[1;34m\u001b[0m\n\u001b[0;32m      3\u001b[0m \u001b[0mset1\u001b[0m \u001b[1;33m=\u001b[0m \u001b[1;33m(\u001b[0m\u001b[1;36m1\u001b[0m\u001b[1;33m,\u001b[0m \u001b[1;36m2\u001b[0m\u001b[1;33m,\u001b[0m \u001b[1;36m3\u001b[0m\u001b[1;33m,\u001b[0m \u001b[1;36m4\u001b[0m\u001b[1;33m,\u001b[0m \u001b[1;36m5\u001b[0m\u001b[1;33m)\u001b[0m\u001b[1;33m\u001b[0m\u001b[1;33m\u001b[0m\u001b[0m\n\u001b[0;32m      4\u001b[0m \u001b[1;33m\u001b[0m\u001b[0m\n\u001b[1;32m----> 5\u001b[1;33m \u001b[0mset2\u001b[0m \u001b[1;33m=\u001b[0m \u001b[0mset1\u001b[0m\u001b[1;33m.\u001b[0m\u001b[0mcopy\u001b[0m\u001b[1;33m(\u001b[0m\u001b[1;33m)\u001b[0m\u001b[1;33m\u001b[0m\u001b[1;33m\u001b[0m\u001b[0m\n\u001b[0m\u001b[0;32m      6\u001b[0m \u001b[1;33m\u001b[0m\u001b[0m\n\u001b[0;32m      7\u001b[0m \u001b[0mprint\u001b[0m\u001b[1;33m(\u001b[0m\u001b[0mset2\u001b[0m\u001b[1;33m)\u001b[0m\u001b[1;33m\u001b[0m\u001b[1;33m\u001b[0m\u001b[0m\n",
      "\u001b[1;31mAttributeError\u001b[0m: 'tuple' object has no attribute 'copy'"
     ]
    }
   ],
   "source": [
    "### Attention:  Tuple' lar da copy olur mu ???\n",
    "\n",
    "set1 = (1, 2, 3, 4, 5)\n",
    "\n",
    "set2 = set1.copy()\n",
    "\n",
    "print(set2) "
   ]
  },
  {
   "cell_type": "code",
   "execution_count": 75,
   "metadata": {
    "id": "0m8oq-_Jua6i"
   },
   "outputs": [
    {
     "name": "stdout",
     "output_type": "stream",
     "text": [
      "[1, 2, 3, 4, 5]\n"
     ]
    }
   ],
   "source": [
    "## listelerde copy()\n",
    "\n",
    "set1 = [1, 2, 3, 4, 5]\n",
    "\n",
    "set2 = set1.copy()\n",
    "\n",
    "print(set2)"
   ]
  },
  {
   "cell_type": "code",
   "execution_count": 78,
   "metadata": {
    "id": "v0umMJ45zN2c"
   },
   "outputs": [
    {
     "name": "stdout",
     "output_type": "stream",
     "text": [
      "[[1, 2, 3, 4, 5]]\n"
     ]
    }
   ],
   "source": [
    "## listelerde copy() methodu append ile combine edilebilir\n",
    "\n",
    "set1 = [1, 2, 3, 4, 5]\n",
    "\n",
    "set2 = []\n",
    "\n",
    "set2.append(set1.copy())\n",
    "\n",
    "print(set2)"
   ]
  },
  {
   "cell_type": "code",
   "execution_count": 79,
   "metadata": {
    "id": "ZdK9DClZ8peg"
   },
   "outputs": [
    {
     "name": "stdout",
     "output_type": "stream",
     "text": [
      "[{'Istanbul': 'Sariyer'}, 'ankara', 1, 2, 3]\n"
     ]
    }
   ],
   "source": [
    "## Hatta bir dictionary i insert methodu ve copy methodu ile liste icine atalim\n",
    "\n",
    "mydict = {\"Istanbul\" : \"Sariyer\"}\n",
    "\n",
    "myliste = [\"ankara\", 1, 2, 3]\n",
    "\n",
    "myliste.insert(0, mydict.copy())\n",
    "\n",
    "print(myliste)"
   ]
  },
  {
   "cell_type": "code",
   "execution_count": 80,
   "metadata": {
    "id": "RTmVewuYua8o"
   },
   "outputs": [
    {
     "name": "stdout",
     "output_type": "stream",
     "text": [
      "{'elma': 'armut'}\n"
     ]
    }
   ],
   "source": [
    "### dict' ler de copy()\n",
    "\n",
    "meyveler = {\"elma\" : \"armut\"}\n",
    "\n",
    "new = meyveler.copy()\n",
    " \n",
    "print(new)"
   ]
  },
  {
   "cell_type": "code",
   "execution_count": 81,
   "metadata": {
    "id": "w8q_snUpua-P"
   },
   "outputs": [
    {
     "name": "stdout",
     "output_type": "stream",
     "text": [
      "[5, 4, 3, 2, 1]\n"
     ]
    }
   ],
   "source": [
    "### collection type lari tersten nasil yazdiririz?? \n",
    "\n",
    "## Bu bildigimiz 1. yöntem\n",
    "\n",
    "liste = [1, 2, 3, 4, 5]\n",
    "\n",
    "liste.sort(reverse = True)\n",
    "\n",
    "print(liste)"
   ]
  },
  {
   "cell_type": "code",
   "execution_count": 82,
   "metadata": {
    "id": "AwfwsnAhuOol"
   },
   "outputs": [
    {
     "name": "stdout",
     "output_type": "stream",
     "text": [
      "[5, 4, 3, 2, 1]\n"
     ]
    }
   ],
   "source": [
    "## 2. yöntemimiz reverse methodu:\n",
    "\n",
    "liste = [1, 2, 3, 4, 5]\n",
    "\n",
    "liste.reverse()\n",
    "\n",
    "print(liste)"
   ]
  },
  {
   "cell_type": "code",
   "execution_count": 83,
   "metadata": {
    "id": "_R7pFv1hwSqU"
   },
   "outputs": [
    {
     "name": "stdout",
     "output_type": "stream",
     "text": [
      "[5, 4, 3, 2, 1]\n"
     ]
    }
   ],
   "source": [
    "\n",
    "liste = [1, 2, 3, 4, 5]\n",
    "\n",
    "print(liste[::-1])   # liste degismedi sadece print degisik cikti"
   ]
  },
  {
   "cell_type": "code",
   "execution_count": 84,
   "metadata": {
    "id": "_R7pFv1hwSqU"
   },
   "outputs": [
    {
     "ename": "AttributeError",
     "evalue": "'tuple' object has no attribute 'reverse'",
     "output_type": "error",
     "traceback": [
      "\u001b[1;31m---------------------------------------------------------------------------\u001b[0m",
      "\u001b[1;31mAttributeError\u001b[0m                            Traceback (most recent call last)",
      "\u001b[1;32m<ipython-input-84-31b389574c04>\u001b[0m in \u001b[0;36m<module>\u001b[1;34m\u001b[0m\n\u001b[0;32m      3\u001b[0m \u001b[0mliste\u001b[0m \u001b[1;33m=\u001b[0m \u001b[1;33m(\u001b[0m\u001b[1;36m1\u001b[0m\u001b[1;33m,\u001b[0m \u001b[1;36m2\u001b[0m\u001b[1;33m,\u001b[0m \u001b[1;36m3\u001b[0m\u001b[1;33m,\u001b[0m \u001b[1;36m4\u001b[0m\u001b[1;33m,\u001b[0m \u001b[1;36m5\u001b[0m\u001b[1;33m)\u001b[0m\u001b[1;33m\u001b[0m\u001b[1;33m\u001b[0m\u001b[0m\n\u001b[0;32m      4\u001b[0m \u001b[1;33m\u001b[0m\u001b[0m\n\u001b[1;32m----> 5\u001b[1;33m \u001b[0mliste\u001b[0m\u001b[1;33m.\u001b[0m\u001b[0mreverse\u001b[0m\u001b[1;33m(\u001b[0m\u001b[1;33m)\u001b[0m\u001b[1;33m\u001b[0m\u001b[1;33m\u001b[0m\u001b[0m\n\u001b[0m\u001b[0;32m      6\u001b[0m \u001b[1;33m\u001b[0m\u001b[0m\n\u001b[0;32m      7\u001b[0m \u001b[0mprint\u001b[0m\u001b[1;33m(\u001b[0m\u001b[0mliste\u001b[0m\u001b[1;33m)\u001b[0m\u001b[1;33m\u001b[0m\u001b[1;33m\u001b[0m\u001b[0m\n",
      "\u001b[1;31mAttributeError\u001b[0m: 'tuple' object has no attribute 'reverse'"
     ]
    }
   ],
   "source": [
    "## reverse tuple' lar da calisir mi?  hayir\n",
    "liste = (1, 2, 3, 4, 5)\n",
    "\n",
    "liste.reverse()\n",
    "\n",
    "print(liste)"
   ]
  },
  {
   "cell_type": "code",
   "execution_count": 85,
   "metadata": {
    "id": "tKDEW0pmwSsN"
   },
   "outputs": [
    {
     "ename": "AttributeError",
     "evalue": "'set' object has no attribute 'reverse'",
     "output_type": "error",
     "traceback": [
      "\u001b[1;31m---------------------------------------------------------------------------\u001b[0m",
      "\u001b[1;31mAttributeError\u001b[0m                            Traceback (most recent call last)",
      "\u001b[1;32m<ipython-input-85-53869a87d07f>\u001b[0m in \u001b[0;36m<module>\u001b[1;34m\u001b[0m\n\u001b[0;32m      3\u001b[0m \u001b[0mliste\u001b[0m \u001b[1;33m=\u001b[0m \u001b[1;33m{\u001b[0m\u001b[1;36m1\u001b[0m\u001b[1;33m,\u001b[0m \u001b[1;36m2\u001b[0m\u001b[1;33m,\u001b[0m \u001b[1;36m3\u001b[0m\u001b[1;33m,\u001b[0m \u001b[1;36m4\u001b[0m\u001b[1;33m,\u001b[0m \u001b[1;36m5\u001b[0m\u001b[1;33m}\u001b[0m\u001b[1;33m\u001b[0m\u001b[1;33m\u001b[0m\u001b[0m\n\u001b[0;32m      4\u001b[0m \u001b[1;33m\u001b[0m\u001b[0m\n\u001b[1;32m----> 5\u001b[1;33m \u001b[0mliste\u001b[0m\u001b[1;33m.\u001b[0m\u001b[0mreverse\u001b[0m\u001b[1;33m(\u001b[0m\u001b[1;33m)\u001b[0m\u001b[1;33m\u001b[0m\u001b[1;33m\u001b[0m\u001b[0m\n\u001b[0m\u001b[0;32m      6\u001b[0m \u001b[1;33m\u001b[0m\u001b[0m\n\u001b[0;32m      7\u001b[0m \u001b[0mprint\u001b[0m\u001b[1;33m(\u001b[0m\u001b[0mliste\u001b[0m\u001b[1;33m)\u001b[0m\u001b[1;33m\u001b[0m\u001b[1;33m\u001b[0m\u001b[0m\n",
      "\u001b[1;31mAttributeError\u001b[0m: 'set' object has no attribute 'reverse'"
     ]
    }
   ],
   "source": [
    "## setler de reverse ????\n",
    "\n",
    "liste = {1, 2, 3, 4, 5} \n",
    "\n",
    "liste.reverse()\n",
    "\n",
    "print(liste)  "
   ]
  },
  {
   "cell_type": "code",
   "execution_count": null,
   "metadata": {
    "id": "eZTzsuwbwSwf"
   },
   "outputs": [],
   "source": [
    "### dictler de reverse hayir\n",
    "\n",
    "meyveler = {\"armut\" : \"kiraz\", \"karpuz\" : \"Üzüm\"}\n",
    "\n",
    "meyveler.reverse()\n",
    " \n",
    "print(meyveler)           "
   ]
  },
  {
   "cell_type": "code",
   "execution_count": null,
   "metadata": {
    "id": "hmeOg0w4wSyk"
   },
   "outputs": [],
   "source": []
  },
  {
   "cell_type": "code",
   "execution_count": null,
   "metadata": {
    "id": "PZcVBUCVwS0l"
   },
   "outputs": [],
   "source": [
    "### Peki mülakat ta sohbet arasinda söyle bir soru ciksa ne yapariz??\n",
    "\n",
    "string = \"Istanbul\"\n",
    "\n",
    "# Lütfen bu stringi tersten yazdiralim          vvvvv   "
   ]
  },
  {
   "cell_type": "code",
   "execution_count": 87,
   "metadata": {
    "id": "m-X-iwWSwS2Y"
   },
   "outputs": [
    {
     "name": "stdout",
     "output_type": "stream",
     "text": [
      "lubnatsI\n"
     ]
    }
   ],
   "source": [
    "string = \"Istanbul\"\n",
    "print(string[::-1])"
   ]
  },
  {
   "cell_type": "code",
   "execution_count": null,
   "metadata": {
    "id": "aGujbY3DyKIx"
   },
   "outputs": [],
   "source": []
  },
  {
   "cell_type": "code",
   "execution_count": null,
   "metadata": {
    "id": "5id6hnp-yKOn"
   },
   "outputs": [],
   "source": []
  },
  {
   "cell_type": "code",
   "execution_count": 86,
   "metadata": {
    "id": "hjkKDJDiyKQt"
   },
   "outputs": [
    {
     "name": "stdout",
     "output_type": "stream",
     "text": [
      "kirat\n"
     ]
    }
   ],
   "source": [
    "string = \"tarik\"\n",
    "\n",
    "print(string[::-1])"
   ]
  },
  {
   "cell_type": "code",
   "execution_count": null,
   "metadata": {
    "id": "sL8Hjd8qyKSv"
   },
   "outputs": [],
   "source": [
    "#############         KAHOOT            ################"
   ]
  },
  {
   "cell_type": "code",
   "execution_count": null,
   "metadata": {
    "id": "3Qsrft0P9m_J"
   },
   "outputs": [],
   "source": []
  },
  {
   "cell_type": "code",
   "execution_count": null,
   "metadata": {
    "id": "MswWcAkj-eDm"
   },
   "outputs": [],
   "source": [
    "myset = {1, 2, 3, 4, 5}\n",
    "\n",
    "new = myset[2]\n",
    "\n",
    "print(new) "
   ]
  },
  {
   "cell_type": "code",
   "execution_count": null,
   "metadata": {
    "id": "1sJSizF4-eGx"
   },
   "outputs": [],
   "source": []
  },
  {
   "cell_type": "code",
   "execution_count": null,
   "metadata": {
    "id": "OOM9bzoQ-eJo"
   },
   "outputs": [],
   "source": []
  },
  {
   "cell_type": "code",
   "execution_count": null,
   "metadata": {
    "id": "wfJUVZ0N-eLn"
   },
   "outputs": [],
   "source": []
  },
  {
   "cell_type": "code",
   "execution_count": null,
   "metadata": {
    "id": "NzdDpc8O-eOd"
   },
   "outputs": [],
   "source": []
  },
  {
   "cell_type": "code",
   "execution_count": null,
   "metadata": {
    "id": "01wKyx3M-ePo"
   },
   "outputs": [],
   "source": []
  }
 ],
 "metadata": {
  "colab": {
   "collapsed_sections": [],
   "name": "sets_Python 10_Session.ipynb",
   "provenance": []
  },
  "kernelspec": {
   "display_name": "Python 3",
   "language": "python",
   "name": "python3"
  },
  "language_info": {
   "codemirror_mode": {
    "name": "ipython",
    "version": 3
   },
   "file_extension": ".py",
   "mimetype": "text/x-python",
   "name": "python",
   "nbconvert_exporter": "python",
   "pygments_lexer": "ipython3",
   "version": "3.8.8"
  }
 },
 "nbformat": 4,
 "nbformat_minor": 4
}
