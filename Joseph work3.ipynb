{
 "cells": [
  {
   "cell_type": "code",
   "execution_count": 1,
   "id": "de87a930-ef70-4310-9c0f-9264f146b8ae",
   "metadata": {},
   "outputs": [],
   "source": [
    "word = {1 : \"1\", 2 : \"2\"}"
   ]
  },
  {
   "cell_type": "code",
   "execution_count": 2,
   "id": "c8fab630-d454-45a6-b278-a1e5a9b58a10",
   "metadata": {},
   "outputs": [
    {
     "data": {
      "text/plain": [
       "dict_keys([1, 2])"
      ]
     },
     "execution_count": 2,
     "metadata": {},
     "output_type": "execute_result"
    }
   ],
   "source": [
    "keys = word.keys()\n",
    "keys"
   ]
  },
  {
   "cell_type": "code",
   "execution_count": 3,
   "id": "11865672-c726-4808-b65d-bb0ee29abb6a",
   "metadata": {},
   "outputs": [],
   "source": [
    "word_1 = {}"
   ]
  },
  {
   "cell_type": "code",
   "execution_count": 5,
   "id": "82d337f1-0421-4f00-9afa-788277c5d96d",
   "metadata": {},
   "outputs": [],
   "source": [
    "word_1[3] = 1"
   ]
  },
  {
   "cell_type": "code",
   "execution_count": 6,
   "id": "a23fd8b9-5140-44ec-8057-c04a819fd91c",
   "metadata": {},
   "outputs": [
    {
     "data": {
      "text/plain": [
       "{3: 1}"
      ]
     },
     "execution_count": 6,
     "metadata": {},
     "output_type": "execute_result"
    }
   ],
   "source": [
    "word_1"
   ]
  },
  {
   "cell_type": "code",
   "execution_count": 7,
   "id": "816bec82-bd3e-48db-b4ec-c035434c5a64",
   "metadata": {},
   "outputs": [
    {
     "data": {
      "text/plain": [
       "{3: 1, 'ali': 'deli'}"
      ]
     },
     "execution_count": 7,
     "metadata": {},
     "output_type": "execute_result"
    }
   ],
   "source": [
    "word_1[\"ali\"] = \"deli\"\n",
    "word_1"
   ]
  },
  {
   "cell_type": "code",
   "execution_count": 10,
   "id": "de915228-22d9-42ee-8d5b-df40c3f41f2d",
   "metadata": {},
   "outputs": [
    {
     "data": {
      "text/plain": [
       "{'p': 1}"
      ]
     },
     "execution_count": 10,
     "metadata": {},
     "output_type": "execute_result"
    }
   ],
   "source": [
    "word_2 = {}\n",
    "word_2[\"p\"] = 1\n",
    "word_2"
   ]
  },
  {
   "cell_type": "code",
   "execution_count": 17,
   "id": "f4dbc3cf-d502-4f8a-9086-bbdd22ae16d5",
   "metadata": {},
   "outputs": [],
   "source": [
    "word_2[\"i\"] = 1\n",
    "word_2[\"3\"] = 1"
   ]
  },
  {
   "cell_type": "code",
   "execution_count": 18,
   "id": "1cd90960-6aaa-471a-bf46-8506c83db483",
   "metadata": {},
   "outputs": [
    {
     "data": {
      "text/plain": [
       "{'p': 1, '1': 1, '3': 1, 'i': 1}"
      ]
     },
     "execution_count": 18,
     "metadata": {},
     "output_type": "execute_result"
    }
   ],
   "source": [
    "word_2"
   ]
  },
  {
   "cell_type": "code",
   "execution_count": 19,
   "id": "48c189ee-161e-4027-b870-4e8e75f2a841",
   "metadata": {},
   "outputs": [
    {
     "data": {
      "text/plain": [
       "{'p': 1, '1': 1, '3': 1, 'i': 2}"
      ]
     },
     "execution_count": 19,
     "metadata": {},
     "output_type": "execute_result"
    }
   ],
   "source": [
    "word_2[\"i\"] = word_2[\"i\"] + 1\n",
    "word_2"
   ]
  },
  {
   "cell_type": "code",
   "execution_count": 20,
   "id": "43573b0a-2340-4807-a734-cb7193f8e884",
   "metadata": {},
   "outputs": [],
   "source": [
    "string = \"bugun huzunluyum. Ayrilik yakin. 2. session sonra...\""
   ]
  },
  {
   "cell_type": "code",
   "execution_count": 22,
   "id": "ac9f1691-824f-4151-9bca-7f73d408087f",
   "metadata": {},
   "outputs": [
    {
     "name": "stdout",
     "output_type": "stream",
     "text": [
      "{'b': 1, 'u': 6, 'g': 1, 'n': 5, ' ': 6, 'h': 1, 'z': 1, 'l': 2, 'y': 3, 'm': 1, '.': 6, 'A': 1, 'r': 2, 'i': 4, 'k': 2, 'a': 2, '2': 1, 's': 4, 'e': 1, 'o': 2}\n"
     ]
    },
    {
     "data": {
      "text/plain": [
       "{'b': 1,\n",
       " 'u': 6,\n",
       " 'g': 1,\n",
       " 'n': 5,\n",
       " ' ': 6,\n",
       " 'h': 1,\n",
       " 'z': 1,\n",
       " 'l': 2,\n",
       " 'y': 3,\n",
       " 'm': 1,\n",
       " '.': 6,\n",
       " 'A': 1,\n",
       " 'r': 2,\n",
       " 'i': 4,\n",
       " 'k': 2,\n",
       " 'a': 2,\n",
       " '2': 1,\n",
       " 's': 4,\n",
       " 'e': 1,\n",
       " 'o': 2}"
      ]
     },
     "execution_count": 22,
     "metadata": {},
     "output_type": "execute_result"
    }
   ],
   "source": [
    "string = \"bugun huzunluyum. Ayrilik yakin. 2. session sonra...\"\n",
    "word_dict = {}\n",
    "\n",
    "for n in string :\n",
    "    if n in word_dict :\n",
    "        word_dict[n] += 1\n",
    "    \n",
    "    else :\n",
    "        word_dict[n] = 1\n",
    "print(word_dict)\n",
    "word_dict"
   ]
  },
  {
   "cell_type": "code",
   "execution_count": 24,
   "id": "1571af39-4f2a-48c5-8d6d-e178a35d78d8",
   "metadata": {},
   "outputs": [],
   "source": [
    "tipler = [\"int\", \"str\", \"bool\", \"list\", \"tuple\", \"dict\", \"set\"]\n",
    "veri = [\"a\", \"b\", True, (False, 1), {\"1\" : 2}, [1,2], \n",
    "        {\"2\" : \"two\"}, {2, \"3\"}, \"c\", 23, 0]\n",
    "toplam = {}.fromkeys(tipler, 0)  \n",
    "\n",
    "# fromkeys metodu ile dictionary yapabiliriz ********************************\n",
    "\n"
   ]
  },
  {
   "cell_type": "code",
   "execution_count": 26,
   "id": "186f07ff-3afb-4f7e-af8b-7cfbe98f526c",
   "metadata": {},
   "outputs": [
    {
     "data": {
      "text/plain": [
       "{'int': 0, 'str': 0, 'bool': 0, 'list': 0, 'tuple': 0, 'dict': 0, 'set': 0}"
      ]
     },
     "execution_count": 26,
     "metadata": {},
     "output_type": "execute_result"
    }
   ],
   "source": [
    "toplam = {}.fromkeys(tipler, 0)\n",
    "toplam"
   ]
  },
  {
   "cell_type": "code",
   "execution_count": 28,
   "id": "969a972b-fec8-4e90-a0be-522ea0e8ee98",
   "metadata": {},
   "outputs": [
    {
     "data": {
      "text/plain": [
       "{'int': 4, 'str': 6, 'bool': 2, 'list': 2, 'tuple': 2, 'dict': 4, 'set': 2}"
      ]
     },
     "execution_count": 28,
     "metadata": {},
     "output_type": "execute_result"
    }
   ],
   "source": [
    "for i in range(len(veri)) :\n",
    "    if type(veri[i]) == int : toplam[\"int\"] += 1\n",
    "    elif type(veri[i]) == str : toplam[\"str\"] += 1  \n",
    "    elif type(veri[i]) == bool : toplam[\"bool\"] += 1\n",
    "    elif type(veri[i]) == list : toplam[\"list\"] += 1\n",
    "    elif type(veri[i]) == tuple : toplam[\"tuple\"] += 1\n",
    "    elif type(veri[i]) == dict : toplam[\"dict\"] += 1\n",
    "    elif type(veri[i]) == set : toplam[\"set\"] += 1\n",
    "\n",
    "toplam"
   ]
  },
  {
   "cell_type": "code",
   "execution_count": null,
   "id": "8c3465f6-bb96-478c-bc24-9ee926ecfd84",
   "metadata": {},
   "outputs": [],
   "source": []
  }
 ],
 "metadata": {
  "kernelspec": {
   "display_name": "Python 3",
   "language": "python",
   "name": "python3"
  },
  "language_info": {
   "codemirror_mode": {
    "name": "ipython",
    "version": 3
   },
   "file_extension": ".py",
   "mimetype": "text/x-python",
   "name": "python",
   "nbconvert_exporter": "python",
   "pygments_lexer": "ipython3",
   "version": "3.8.8"
  }
 },
 "nbformat": 4,
 "nbformat_minor": 5
}
