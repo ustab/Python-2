{
 "cells": [
  {
   "cell_type": "code",
   "execution_count": 4,
   "id": "22345772-eb3a-4dd1-8ab9-7339d575c1f6",
   "metadata": {},
   "outputs": [
    {
     "data": {
      "text/plain": [
       "True"
      ]
     },
     "execution_count": 4,
     "metadata": {},
     "output_type": "execute_result"
    }
   ],
   "source": [
    "x = [-2, 9, 7, -4, 0]\n",
    "all(x)"
   ]
  },
  {
   "cell_type": "code",
   "execution_count": 26,
   "id": "304ee170-5d21-467b-a636-a49c2ba7b8fd",
   "metadata": {},
   "outputs": [
    {
     "data": {
      "text/plain": [
       "False"
      ]
     },
     "execution_count": 26,
     "metadata": {},
     "output_type": "execute_result"
    }
   ],
   "source": [
    "y = [None, False, 0]\n",
    "any(y)"
   ]
  },
  {
   "cell_type": "code",
   "execution_count": 10,
   "id": "9be7437a-10c7-451f-83c3-00e2786bc865",
   "metadata": {},
   "outputs": [
    {
     "data": {
      "text/plain": [
       "[1, 2, 3, 4, 5, 6]"
      ]
     },
     "execution_count": 10,
     "metadata": {},
     "output_type": "execute_result"
    }
   ],
   "source": [
    "x = [1, 2, 3, 4]\n",
    "y = [5, 6]\n",
    "x += y      # bu yontemle iki listeyi birlestirir\n",
    "x"
   ]
  },
  {
   "cell_type": "code",
   "execution_count": 11,
   "id": "978e20a2-5b45-4a3b-8d20-6cb4700a6e19",
   "metadata": {},
   "outputs": [
    {
     "data": {
      "text/plain": [
       "[1, 2, 3, 4, 5, 6, [5, 6]]"
      ]
     },
     "execution_count": 11,
     "metadata": {},
     "output_type": "execute_result"
    }
   ],
   "source": [
    "x.append(y)   # append yontemi ile x listesinin icine y liste olarak konur\n",
    "x"
   ]
  },
  {
   "cell_type": "code",
   "execution_count": 12,
   "id": "c68caa2a-c7a2-46da-b775-9721553ca4fb",
   "metadata": {},
   "outputs": [
    {
     "data": {
      "text/plain": [
       "[1, 2, 3, 4, 5, 6, [5, 6], 1, 2, 3, 4, 5, 6, [5, 6]]"
      ]
     },
     "execution_count": 12,
     "metadata": {},
     "output_type": "execute_result"
    }
   ],
   "source": [
    "x *= 2  # lsteyi bir integer ile carparsak sayi kadar listeyi tekrar eder\n",
    "x"
   ]
  },
  {
   "cell_type": "code",
   "execution_count": 16,
   "id": "e526e9dc-03c1-41f6-8321-5ed1cf861d99",
   "metadata": {},
   "outputs": [
    {
     "data": {
      "text/plain": [
       "True"
      ]
     },
     "execution_count": 16,
     "metadata": {},
     "output_type": "execute_result"
    }
   ],
   "source": [
    "a = \"many\"\n",
    "b = \"many\"\n",
    "a == b"
   ]
  },
  {
   "cell_type": "code",
   "execution_count": 17,
   "id": "76394055-6a28-4010-bb82-5960dd41445a",
   "metadata": {},
   "outputs": [
    {
     "data": {
      "text/plain": [
       "True"
      ]
     },
     "execution_count": 17,
     "metadata": {},
     "output_type": "execute_result"
    }
   ],
   "source": [
    "a is b"
   ]
  },
  {
   "cell_type": "code",
   "execution_count": 15,
   "id": "a1be16f4-a836-403f-88da-63b886129334",
   "metadata": {},
   "outputs": [
    {
     "name": "stdout",
     "output_type": "stream",
     "text": [
      "1791795593328\n",
      "1791795593328\n"
     ]
    }
   ],
   "source": [
    "print(id(a))\n",
    "print(id(b))"
   ]
  },
  {
   "cell_type": "code",
   "execution_count": 20,
   "id": "c38af5a2-6e64-4703-b37d-7d1f1dad713a",
   "metadata": {},
   "outputs": [
    {
     "data": {
      "text/plain": [
       "5"
      ]
     },
     "execution_count": 20,
     "metadata": {},
     "output_type": "execute_result"
    }
   ],
   "source": [
    "'gaattcc'.index('c')   # find ve index komutu ile aranilan elemanin index sira numarasi bulunur. ilk buldugu sirayi soyler"
   ]
  },
  {
   "cell_type": "code",
   "execution_count": 21,
   "id": "ce37d671-a9d0-411e-b97c-fe0eada664e0",
   "metadata": {},
   "outputs": [
    {
     "data": {
      "text/plain": [
       "5"
      ]
     },
     "execution_count": 21,
     "metadata": {},
     "output_type": "execute_result"
    }
   ],
   "source": [
    "'gaattcc'.find('c')"
   ]
  },
  {
   "cell_type": "code",
   "execution_count": 22,
   "id": "13dffd63-d646-4d5e-a5d2-96e2cf9e75de",
   "metadata": {},
   "outputs": [
    {
     "name": "stdout",
     "output_type": "stream",
     "text": [
      "14\n",
      "8\n"
     ]
    }
   ],
   "source": [
    "x = 7\n",
    "print(eval('x+7'))\n",
    "print(eval('x+(x%2)'))   # eval fonksiyonu ile string icindeki matematik islamlaeri yapabilririz ******************************************************************"
   ]
  },
  {
   "cell_type": "code",
   "execution_count": 25,
   "id": "0b78c304-32c5-4a3b-b15d-5f8aff989fcd",
   "metadata": {},
   "outputs": [
    {
     "data": {
      "text/plain": [
       "{1: 'bir', 2: 'iki', 3: 'uc', 4: 'dort'}"
      ]
     },
     "execution_count": 25,
     "metadata": {},
     "output_type": "execute_result"
    }
   ],
   "source": [
    "a = [1, 2, 3, 4, 5, 6]\n",
    "b = ['bir', 'iki', 'uc', 'dort']   # zip fonksiyonu ile iki liste yada tuple i birlestirip dictionary yapabiliriz.\n",
    "dict(zip(a,b))                     # elaman sayilarini esit miktarda alir. Fazla elemani olanlar kalir"
   ]
  },
  {
   "cell_type": "code",
   "execution_count": 4,
   "id": "88462b32-fc80-40aa-80d4-97a2eb38d7a0",
   "metadata": {},
   "outputs": [
    {
     "name": "stdout",
     "output_type": "stream",
     "text": [
      "[('Apples', 5, 1.5), ('Oranges', 3, 2.25), ('Bananas', 4, 0.89)]\n"
     ]
    }
   ],
   "source": [
    "fruits = ['Apples', 'Oranges', 'Bananas'] \n",
    "quantities = [5, 3, 4] \n",
    "prices = [1.50, 2.25, 0.89] \n",
    " \n",
    "groceries = zip(fruits, quantities, prices) \n",
    "print(list(groceries))"
   ]
  },
  {
   "cell_type": "code",
   "execution_count": 5,
   "id": "9364a95d-694a-4bdc-b09b-ef6cac31183a",
   "metadata": {},
   "outputs": [
    {
     "name": "stdout",
     "output_type": "stream",
     "text": [
      "[(2019, 'Freshman'), (2020, 'Sophomore'), (2021, 'Junior'), (2022, 'Senior')]\n"
     ]
    }
   ],
   "source": [
    "college_years = ['Freshman', 'Sophomore', 'Junior', 'Senior']  # enumerate ile kume elemanlarina numara atariz, istedigimiz sayidan itibaren\n",
    "print(list(enumerate(college_years, 2019)))"
   ]
  },
  {
   "cell_type": "code",
   "execution_count": null,
   "id": "df696604-40f8-43b1-b0b3-4dda93fa8cc4",
   "metadata": {},
   "outputs": [],
   "source": []
  }
 ],
 "metadata": {
  "kernelspec": {
   "display_name": "Python 3",
   "language": "python",
   "name": "python3"
  },
  "language_info": {
   "codemirror_mode": {
    "name": "ipython",
    "version": 3
   },
   "file_extension": ".py",
   "mimetype": "text/x-python",
   "name": "python",
   "nbconvert_exporter": "python",
   "pygments_lexer": "ipython3",
   "version": "3.8.8"
  }
 },
 "nbformat": 4,
 "nbformat_minor": 5
}
