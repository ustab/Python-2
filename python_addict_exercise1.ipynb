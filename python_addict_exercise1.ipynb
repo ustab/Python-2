{
 "cells": [
  {
   "cell_type": "markdown",
   "metadata": {},
   "source": [
    "<img src=\"https://docs.google.com/uc?id=14xeXxFrVRjvOoUYWn_GuyE-v84wVzrqr\" class=\"img-fluid\" alt=\"CLRWY\" width=\"400\" height=\"200\">"
   ]
  },
  {
   "cell_type": "code",
   "execution_count": 20,
   "metadata": {},
   "outputs": [
    {
     "name": "stdout",
     "output_type": "stream",
     "text": [
      "Enter 1st number:  15\n",
      "Enter 2nd number:  20\n",
      "LCM is 60\n"
     ]
    }
   ],
   "source": [
    "# Write a Python program to get the least common multiple (LCM) of two positive integers.\n",
    "\n",
    "num1 = int(input(\"Enter 1st number: \"))\n",
    "num2 = int(input(\"Enter 2nd number: \"))\n",
    "i = 1\n",
    "while(i <= num1 and i <= num2):\n",
    "  if(num1 % i == 0 and num2 % i == 0):\n",
    "    gcm = i\n",
    "  i = i + 1\n",
    "lcm = num1 * num2 // gcm\n",
    "print(\"LCM is\", lcm)"
   ]
  },
  {
   "cell_type": "code",
   "execution_count": 21,
   "metadata": {},
   "outputs": [
    {
     "name": "stdout",
     "output_type": "stream",
     "text": [
      "Enter 1st number:  15\n",
      "Enter 2nd number:  20\n",
      "GCD is 5\n"
     ]
    }
   ],
   "source": [
    "# Write a Python program to compute the greatest common divisor (GCD) of two positive integers.\n",
    "\n",
    "num1 = int(input(\"Enter 1st number: \"))\n",
    "num2 = int(input(\"Enter 2nd number: \"))\n",
    "i = 1\n",
    "while(i <= num1 and i <= num2):\n",
    "  if(num1 % i == 0 and num2 % i == 0):\n",
    "    gcd = i\n",
    "  i = i + 1\n",
    "print(\"GCD is\", gcd)"
   ]
  },
  {
   "cell_type": "code",
   "execution_count": 38,
   "metadata": {},
   "outputs": [
    {
     "name": "stdout",
     "output_type": "stream",
     "text": [
      "Emma appeared 2 times.\n"
     ]
    }
   ],
   "source": [
    "# Write a program to find how many times substring \"Emma\" appears in the given string.\n",
    "\n",
    "str_x = 'Emma is good developer. Emma is a writer'\n",
    "repetition = str_x.count('Emma')\n",
    "print(f\"Emma appeared {repetition} times.\")"
   ]
  },
  {
   "cell_type": "code",
   "execution_count": 39,
   "metadata": {},
   "outputs": [
    {
     "name": "stdout",
     "output_type": "stream",
     "text": [
      "6 3 5 7\n",
      "0 0 0 0\n"
     ]
    }
   ],
   "source": [
    "# Write a program to extract each digit from an integer in the reverse order.\n",
    "\n",
    "given_number = 7536\n",
    "digits = []\n",
    "\n",
    "while given_number > 0:\n",
    "    digits.append(given_number % 10)\n",
    "    given_number = (given_number - given_number % 10) // 10\n",
    "    \n",
    "print(*digits)\n",
    "\n",
    "print(given_number % 10, given_number %100 - given_number % 1 // 10, given_number % 1000 - given_number % 100 // 100, given_number % 10000 - given_number % 1000 // 1000)\n"
   ]
  },
  {
   "cell_type": "code",
   "execution_count": 1,
   "metadata": {},
   "outputs": [
    {
     "name": "stdout",
     "output_type": "stream",
     "text": [
      "Please enter a number :  5\n",
      "615\n"
     ]
    }
   ],
   "source": [
    "# Write a Python program that accepts an integer (n) and computes the value of n+nn+nnn. \n",
    "# Sample value of n is : 5\n",
    "# Expected Result : 615\n",
    "\n",
    "given_num = input(\"Please enter a number : \")\n",
    "result = int(given_num) + int(given_num * 2)+ int(given_num * 3)\n",
    "print(result)"
   ]
  },
  {
   "cell_type": "code",
   "execution_count": 37,
   "metadata": {},
   "outputs": [
    {
     "name": "stdout",
     "output_type": "stream",
     "text": [
      "Michele is name My\n",
      "Michele is name My "
     ]
    }
   ],
   "source": [
    "# Write a program (using functions!) that asks the user for a long string containing multiple words. \n",
    "# Print back to the user the same string, \n",
    "# except with the words in backwards order. For example, say I type the string:\n",
    "\n",
    "name = 'My name is Michele'\n",
    "name = name.split()\n",
    "print(*name[::-1])\n",
    "\n",
    "name = 'My name is Michele'\n",
    "list = name.split()\n",
    "n = len(list) - 1\n",
    "while n >= 0:\n",
    "    print(list[n], end = ' ')\n",
    "    n -= 1\n"
   ]
  },
  {
   "cell_type": "code",
   "execution_count": 11,
   "metadata": {},
   "outputs": [
    {
     "name": "stdout",
     "output_type": "stream",
     "text": [
      "Please enter a number:  1\n",
      "Please enter a number:  2\n",
      "Please enter a number:  3\n",
      "Sum:  6\n"
     ]
    }
   ],
   "source": [
    "# Write a Python program to sum of three given integers. However, if two values are equal sum will be zero.\n",
    "\n",
    "x = int(input(\"Please enter a number: \"))\n",
    "y = int(input(\"Please enter a number: \"))\n",
    "z = int(input(\"Please enter a number: \"))\n",
    "\n",
    "if x == y or x == z or y == z:\n",
    "    print(\"Sum: \", 0)\n",
    "else:\n",
    "    print(\"Sum: \", x + y + z)"
   ]
  },
  {
   "cell_type": "code",
   "execution_count": null,
   "metadata": {},
   "outputs": [],
   "source": [
    "# Write a Python program to sum of two given integers. However, if the sum is between 15 to 20 it will return\n",
    "\n",
    "x = int(input(\"Please enter a number: \"))\n",
    "y = int(input(\"Please enter a number: \"))\n",
    "sum = x + y\n",
    "\n",
    "if 15<sum<20:\n",
    "    print(\"x + y: \", sum)\n",
    "else:\n",
    "    print(\"---\")\n",
    "    \n",
    "while True:\n",
    "    num = list(map(int, input(\"\").split()))\n",
    "    if 15 < sum(num) < 20:\n",
    "        print(sum(num))\n",
    "        break\n",
    "    else:\n",
    "        print(\"Please enter difference numbers: \")"
   ]
  },
  {
   "cell_type": "code",
   "execution_count": 19,
   "metadata": {},
   "outputs": [
    {
     "name": "stdout",
     "output_type": "stream",
     "text": [
      "Please enter a number:  6\n",
      "Please enter a number:  -1\n",
      "True\n"
     ]
    }
   ],
   "source": [
    "# Write a Python program that will return true if the two given integer values are equal or their sum or difference is 5\n",
    "\n",
    "x = int(input(\"Please enter a number: \"))\n",
    "y = int(input(\"Please enter a number: \"))\n",
    "\n",
    "if x == y or x + y == 5 or x - y == 5:\n",
    "    print(x == y or x + y == 5 or x - y == 5)\n",
    "else:\n",
    "    print(\"False\")"
   ]
  },
  {
   "cell_type": "code",
   "execution_count": 1,
   "metadata": {},
   "outputs": [
    {
     "name": "stdout",
     "output_type": "stream",
     "text": [
      "Please enter one lenght of sides of triangle :  3\n",
      "Please enter one lenght of sides of triangle :  4\n",
      "Please enter one lenght of sides of triangle :  7\n",
      "You cannot create a triangle with the lengths you entered!\n"
     ]
    }
   ],
   "source": [
    "# Python exercise : If the entered side lengths do not form a triangle,\n",
    "# write the code that determines the type of triangle according to the three side information entered by the user. \n",
    "# In absolute value, the difference of two sides is taken, if the difference is greater than the other side, the entered values ​​do not form a triangle.\n",
    "# This is done for all sides.\n",
    "\n",
    "a = int(input(\"Please enter one lenght of sides of triangle : \"))\n",
    "b = int(input(\"Please enter one lenght of sides of triangle : \"))\n",
    "c = int(input(\"Please enter one lenght of sides of triangle : \"))\n",
    "\n",
    "if a < b+c and b < a+c and c < a + b:\n",
    "    if a > abs(b - c) and b > abs(a - c) and c > abs(a - b):\n",
    "        if a == b == c :\n",
    "            print(\"Equilateral Triangle\")\n",
    "        elif a == b or a == c or b == c:\n",
    "            print(\"Isosceles Triangle\")\n",
    "        else:\n",
    "            print(\"Scalene Triangle\")\n",
    "else:\n",
    "    print(\"You cannot create a triangle with the lengths you entered!\")\n"
   ]
  },
  {
   "cell_type": "code",
   "execution_count": 6,
   "metadata": {},
   "outputs": [
    {
     "name": "stdout",
     "output_type": "stream",
     "text": [
      "Please enter a string :  jsonofab\n",
      "You entered a string with an even length of string, so we give the middle douple characters instead of the middle three characters.\n",
      "If you still want to the middle three characters, enter a string of odd length, otherwise we will give you the middle double character.\n",
      "Now please enter another one string again :  jsonofab\n",
      "no\n"
     ]
    }
   ],
   "source": [
    "# Write a program to create a new string made of the middle three characters of an input string.\n",
    "\n",
    "str_1 = input(\"Please enter a string : \")\n",
    "x = len(str_1)\n",
    "if x % 2 == 1:\n",
    "    print(str_1[len(str_1) // 2 - 1:len(str_1) // 2 + 2])\n",
    "else:\n",
    "    print(\"You entered a string with an even length of string, so we give the middle douple characters instead of the middle three characters.\")\n",
    "    print(\"If you still want to the middle three characters, enter a string of odd length, otherwise we will give you the middle double character.\")\n",
    "    str_2 = input(\"Now please enter another one string again : \")\n",
    "    if len(str_2) % 2 != 1:\n",
    "        print(str_2[len(str_2) // 2 - 1:len(str_2) // 2 + 1])\n",
    "    else:\n",
    "        print(str_2[len(str_2) // 2 - 1:len(str_2) // 2 + 2])\n",
    "\n"
   ]
  },
  {
   "cell_type": "code",
   "execution_count": 9,
   "metadata": {},
   "outputs": [
    {
     "name": "stdout",
     "output_type": "stream",
     "text": [
      "sentence 4567*-sdfgd dfg*-+346df\n",
      "Sdfgd Dfgdf\n",
      "Please enter your name and surname:  4*-+dfg5+- fgh567h-*r\n",
      "Dfg Fghhr\n"
     ]
    }
   ],
   "source": [
    "# You are asked to ensure that the first and last names of people begin with a capital letter in their passports.\n",
    "# For example, alison heck should be capitalised correctly as Alison Heck.\n",
    "# Note: in a word only the first character is capitalized. Example 12abc when capitalized remains 12abc.\n",
    "\n",
    "sn = input(\"sentence\")\n",
    "new_sn = \"\"\n",
    "\n",
    "for i in sn :\n",
    "    if i.isalpha() or i == \" \" :\n",
    "        new_sn += i\n",
    "        \n",
    "capitalize_s = \" \".join([j.capitalize() for j in new_sn.split()])\n",
    "print(capitalize_s) \n",
    "\n",
    "name_pas = input(\"Please enter your name and surname: \")\n",
    "sil = \"123456789,+-*/.<>|\\?[{]}~`!@#$%^&*_=-\"\n",
    "cevir = str.maketrans('','',sil)\n",
    "son_str = name_pas.translate(cevir)\n",
    "print(son_str.title())"
   ]
  },
  {
   "cell_type": "code",
   "execution_count": 11,
   "metadata": {},
   "outputs": [
    {
     "name": "stdout",
     "output_type": "stream",
     "text": [
      "Please enter integer number :  45\n",
      "Please enter integer number :  45\n",
      "90\n"
     ]
    }
   ],
   "source": [
    "# If the two objects received from the user are of an integer type, write a Python program to sum the two objects\n",
    "\n",
    "x = input(\"Please enter integer number : \")\n",
    "y = input(\"Please enter integer number : \")\n",
    "\n",
    "if x.isnumeric() and y.isnumeric():\n",
    "    print(int(x) + int(y))\n",
    "else:\n",
    "    print(\"You have entered wrong number.\")"
   ]
  },
  {
   "cell_type": "code",
   "execution_count": 33,
   "metadata": {},
   "outputs": [
    {
     "name": "stdout",
     "output_type": "stream",
     "text": [
      "2510\n"
     ]
    }
   ],
   "source": [
    "# Write python code that clears all characters except integers in the given variable \"str1\" ​​and outputs only integers.\n",
    "\n",
    "given_str = \"I am 25 years and 10 months old\"\n",
    "exp_out = \"\"\n",
    "for i in given_str:\n",
    "    if i in \"0123456789\":\n",
    "        exp_out += i\n",
    "print(exp_out)"
   ]
  },
  {
   "cell_type": "code",
   "execution_count": 45,
   "metadata": {},
   "outputs": [
    {
     "name": "stdout",
     "output_type": "stream",
     "text": [
      "*****\n",
      "****\n",
      "***\n",
      "**\n",
      "*\n",
      "*****\n",
      "****\n",
      "***\n",
      "**\n",
      "*\n"
     ]
    }
   ],
   "source": [
    "# Print downward Half-Pyramid Pattern with Star (asterisk)\n",
    "\n",
    "x = \"*\"\n",
    "print(f\"{x*5}\\n{x*4}\\n{x*3}\\n{x*2}\\n{x}\")\n",
    "\n",
    "for i in range(5,0,-1):\n",
    "    print(i * \"*\")"
   ]
  },
  {
   "cell_type": "code",
   "execution_count": 61,
   "metadata": {},
   "outputs": [
    {
     "name": "stdout",
     "output_type": "stream",
     "text": [
      "Please enter the numbers of rows:  5\n",
      "1\n",
      "1 2\n",
      "1 2 3\n",
      "1 2 3 4\n",
      "1 2 3 4 5\n",
      "1 \n",
      "1 2 \n",
      "1 2 3 \n",
      "1 2 3 4 \n",
      "1 2 3 4 5 \n"
     ]
    }
   ],
   "source": [
    "# Let's solve questions on creating different pyramid shapes today\n",
    "# Program to print half pyramid a using numbers.(User enter the numbers of rows)\n",
    "\n",
    "row_num = int(input(\"Please enter the numbers of rows: \"))\n",
    "for i in range(1,row_num+1):\n",
    "    print(*list(range(1, i+1)))\n",
    "\n",
    "for i in range(1,row_num+1):\n",
    "    for j in range(1, i+1):\n",
    "        print(j, end = \" \")\n",
    "    print()                    # ???"
   ]
  },
  {
   "cell_type": "code",
   "execution_count": 6,
   "metadata": {},
   "outputs": [
    {
     "name": "stdout",
     "output_type": "stream",
     "text": [
      "Please enter the numbers of rows:  7\n",
      "            *\n",
      "          * *\n",
      "        * * *\n",
      "      * * * *\n",
      "    * * * * *\n",
      "  * * * * * *\n",
      "* * * * * * *\n",
      "            *\n",
      "          * *\n",
      "        * * *\n",
      "      * * * *\n",
      "    * * * * *\n",
      "  * * * * * *\n",
      "* * * * * * *\n"
     ]
    }
   ],
   "source": [
    "# Program to print 180 degree rotation pyramid a using numbers.(User enter the numbers of rows)\n",
    "\n",
    "row_num = int(input(\"Please enter the numbers of rows: \"))\n",
    "x = \"*\"\n",
    "for i in range(1, row_num + 1):\n",
    "    print(*((row_num - i) * ' ' ) + i * x)\n",
    "\n",
    "for i in range(1, row_num + 1):\n",
    "    print(*(x * i).rjust(row_num))"
   ]
  },
  {
   "cell_type": "code",
   "execution_count": 7,
   "metadata": {},
   "outputs": [
    {
     "name": "stdout",
     "output_type": "stream",
     "text": [
      "Please enter the numbers of rows:  5\n",
      "     1\n",
      "    1 2\n",
      "   1 2 3\n",
      "  1 2 3 4\n",
      " 1 2 3 4 5\n"
     ]
    }
   ],
   "source": [
    "# write a code and find pyramid and dont forget to take input from user for the pyramid rows\n",
    "\n",
    "row_num = int(input(\"Please enter the numbers of rows: \"))\n",
    "for i in range(1, row_num + 1):\n",
    "    print(\" \" * (row_num - i), *range(1, i + 1))"
   ]
  },
  {
   "cell_type": "code",
   "execution_count": 3,
   "metadata": {},
   "outputs": [
    {
     "name": "stdout",
     "output_type": "stream",
     "text": [
      "Please enter a string:  restart\n",
      "resta$t\n"
     ]
    }
   ],
   "source": [
    "# Write a Python program to get a string from a given string where all occurrences of its first char have been changed to '$', except the first char itself. \n",
    "# Sample String : 'restart'\n",
    "# Expected Result : 'resta$t'\n",
    "    \n",
    "x = input(\"Please enter a string: \")\n",
    "x1 = x[0]\n",
    "x2 = x.replace(x[0],'$')[1::]\n",
    "print(x1, x2, sep = '')\n",
    "\n",
    "text = \"restart\"\n",
    "new_text = text[0]\n",
    "\n",
    "for i in range(1, len(text)):\n",
    "    if text[i] == text[0]:\n",
    "        new_text += \"$\"\n",
    "    else:\n",
    "        new_text += text[i]"
   ]
  },
  {
   "cell_type": "code",
   "execution_count": 4,
   "metadata": {},
   "outputs": [
    {
     "name": "stdout",
     "output_type": "stream",
     "text": [
      "Please enter your name,age,address separating them with a comma:  John,32,NY\n",
      "John\n",
      "32\n",
      "NY\n",
      "\n"
     ]
    }
   ],
   "source": [
    "# Write a Python program to display your details like name, age, address in three different lines.\n",
    "\n",
    "details = input(\"Please enter your name,age,address separating them with a comma: \").split(\",\")\n",
    "print(\"{0[0]}\\n{0[1]}\\n{0[2]}\\n\".format(details))"
   ]
  },
  {
   "cell_type": "code",
   "execution_count": 12,
   "metadata": {},
   "outputs": [
    {
     "name": "stdout",
     "output_type": "stream",
     "text": [
      "Please enter a string:  ABCDCDC\n",
      "Please enter a substring:  CDC\n",
      "2\n",
      "\n",
      "2\n"
     ]
    }
   ],
   "source": [
    "# You have to print the number of times that the substring occurs in the given string. \n",
    "# String traversal will take place from left to right, not from right to left.\n",
    "# NOTE: String letters are case-sensitive.\n",
    "\n",
    "str = input(\"Please enter a string: \")\n",
    "sub_str = input(\"Please enter a substring: \")\n",
    "print(sum(1 for i in range(len(str)) if str.startswith(sub_str, i)))\n",
    "print()\n",
    "data = \"ababa\"\n",
    "print(sum(1 for i in range(len(data)) if data.startswith(\"aba\", i)))"
   ]
  },
  {
   "cell_type": "code",
   "execution_count": 13,
   "metadata": {},
   "outputs": [
    {
     "name": "stdout",
     "output_type": "stream",
     "text": [
      "['W', '!ItSCoOW', 'W']\n",
      "2\n"
     ]
    }
   ],
   "source": [
    "s = 'WoW!ItSCoOWoWW'\n",
    "print(s.split('oW'))\n",
    "count = len(s.split('oW')) - 1 # output 2\n",
    "print(count)"
   ]
  },
  {
   "cell_type": "code",
   "execution_count": 55,
   "metadata": {},
   "outputs": [
    {
     "name": "stdout",
     "output_type": "stream",
     "text": [
      "EmirImranrhan\n"
     ]
    }
   ],
   "source": [
    "# Python Exercise 9: Given two strings, s1 and s2. Write a program to create a new string s3 by appending s2 in the middle of s1.\n",
    "\n",
    "s1 = 'Emirhan'\n",
    "s2 = 'Imran'\n",
    "if len(s1) % 2 == 0:\n",
    "    s3 = s1[:len(s1) // 2] + s2 + s1[len(s1) // 2:]\n",
    "else:\n",
    "    s3 = s1[:len(s1) // 2 + 1] + s2 + s1[len(s1) // 2:]\n",
    "print(s3)"
   ]
  },
  {
   "cell_type": "code",
   "execution_count": 57,
   "metadata": {},
   "outputs": [
    {
     "name": "stdout",
     "output_type": "stream",
     "text": [
      "miranmrtelEHIANUZ\n"
     ]
    }
   ],
   "source": [
    "# Python Exercise 10 :Given string contains a combination of the lower and upper case letters.\n",
    "# Write a program to arrange the characters of a string so that all lowercase letters should come first.\n",
    "\n",
    "str1 = \"EmirHanImrANtUZel\"\n",
    "str1_lower = ''\n",
    "str1_upper = ''\n",
    "for i in str1:\n",
    "    if i.islower():\n",
    "        str1_lower += i\n",
    "    else:\n",
    "        str1_upper += i\n",
    "print(str1_lower + str1_upper)"
   ]
  },
  {
   "cell_type": "code",
   "execution_count": 60,
   "metadata": {},
   "outputs": [
    {
     "name": "stdout",
     "output_type": "stream",
     "text": [
      "Please enter a string:  asfr4t3\n",
      "ast3\n"
     ]
    }
   ],
   "source": [
    "# Write a Python program to get a string made of the first 2 and the last 2 chars from a given a string. \n",
    "# If the string length is less than 2, return instead of the empty string.\n",
    "# Sample String : 'w3resource'\n",
    "# Expected Result : 'w3ce'\n",
    "# Sample String : 'w3'\n",
    "# Expected Result : 'w3w3'\n",
    "# Sample String : ' w'\n",
    "# Expected Result : Empty String\n",
    "\n",
    "str_1 = input(\"Please enter a string: \")\n",
    "if len(str_1) >= 2:\n",
    "    print(str_1[:2] + str_1[-2:])\n",
    "else:\n",
    "    print(\"Empty String\")\n"
   ]
  },
  {
   "cell_type": "code",
   "execution_count": 137,
   "metadata": {},
   "outputs": [
    {
     "name": "stdout",
     "output_type": "stream",
     "text": [
      "How many scores will you enter? 5\n",
      "Please enter the scores of the competitors by separating a whitespace:  65 45 85 98 78\n",
      "85\n"
     ]
    }
   ],
   "source": [
    "# Given the participants' score sheet for your University Sports Day, you are required to find the runner-up score. \n",
    "# You are given scores. Store them in a list and find the score of the runner-up.\n",
    "# Input Format\n",
    "# The first line contains . The second line contains an array of integers each separated by a space.\n",
    "# 5\n",
    "# 2 3 6 6 5\n",
    "\n",
    "score_num = input(\"How many scores will you enter?\")\n",
    "score = list(map(int, input(\"Please enter the scores of the competitors by separating a whitespace: \").split()))\n",
    "print(sorted(set(score))[-2])"
   ]
  },
  {
   "cell_type": "code",
   "execution_count": 79,
   "metadata": {},
   "outputs": [
    {
     "name": "stdout",
     "output_type": "stream",
     "text": [
      "Twinkle, twinkle, little star,\n",
      "\tHow I wonder what you are!\n",
      "\t\tUp above the world so high, \n",
      "\t\tLike a diamond in the sky,\n",
      "Twinkle, twinkle, little star, \n",
      "\tHow I wonder what you are\n"
     ]
    }
   ],
   "source": [
    "# Write a Python program to print the following string in a specific format.\n",
    "\n",
    "string = \"Twinkle, twinkle, little star, How I wonder what you are! \\\n",
    "Up above the world so high, Like a diamond in the sky. \\\n",
    "Twinkle, twinkle, little star, How I wonder what you are\"\n",
    "\n",
    "print(f\"{string[:30]}\\n\\t{string[31:57]}\\n\\t\\t{string[58:86]}\\n\\t\\t{string[86:111]},\\n{string[113:144]}\\n\\t{string[144:]}\")"
   ]
  },
  {
   "cell_type": "code",
   "execution_count": 46,
   "metadata": {},
   "outputs": [
    {
     "name": "stdout",
     "output_type": "stream",
     "text": [
      "The examination will start from: 11 / 12 / 2014\n",
      "The examination will start from: 11 / 12 / 2014\n"
     ]
    }
   ],
   "source": [
    "# Write a Python program to display the examination schedule. (extract the date from exam_st_date). \n",
    "# exam_st_date = (11, 12, 2014)\n",
    "# Sample Output : The examination will start from : 11 / 12 / 2014\n",
    "\n",
    "exam_st_date = (11, 12, 2014)\n",
    "print(\"The examination will start from: %d / %d / %d\" % (exam_st_date))\n",
    "\n",
    "exam_st_date = (11, 12, 2014)\n",
    "print('The examination will start from: {0[0]} / {0[1]} / {0[2]}'.format(exam_st_date))"
   ]
  },
  {
   "cell_type": "code",
   "execution_count": 26,
   "metadata": {},
   "outputs": [
    {
     "name": "stdout",
     "output_type": "stream",
     "text": [
      "Please enter a number:  6\n",
      "6 is a perfect number.\n",
      "\n",
      "Please enter your number  6\n",
      "This is a perfect number\n"
     ]
    }
   ],
   "source": [
    "# Try to find out if a number you get from the user is perfect.\n",
    "# A number is called a \"perfect number\" if the sum of its divisors is equal to itself. \n",
    "# For example, 6 is a perfect number. (1 + 2 + 3 = 6) \n",
    "\n",
    "num = int(input(\"Please enter a number: \"))\n",
    "x = sum(i for i in range(1, num) if num % i == 0)\n",
    "if x == num:\n",
    "    print(f\"{num} is a perfect number.\")\n",
    "else:\n",
    "    print(f\"{num} is not a perfect number.\")\n",
    "print()\n",
    "num = int(input(\"Please enter your number \"))\n",
    "C=[i for i in range(1,num) if num%i==0]\n",
    "print((num == sum(C))*(\"This is a perfect number\") + (num != sum(C))*(\"This is not a perfect number\")) #???"
   ]
  },
  {
   "cell_type": "code",
   "execution_count": 14,
   "metadata": {},
   "outputs": [
    {
     "name": "stdout",
     "output_type": "stream",
     "text": [
      "Give me a word to detect if it is a palindrome:  adana'da\n",
      "True\n",
      "Please enter a word:  adana'da\n",
      "That's a palindrome\n"
     ]
    }
   ],
   "source": [
    "###### Write a program to check if a sentence is a palindrome or not. \n",
    "# You can ignore white spaces and other characters to consider sentences as palindrome.\n",
    "\n",
    "my_sentence = input(\"Give me a word to detect if it is a palindrome: \")\n",
    "my_sentence = ''.join(i for i in my_sentence if i.isalnum())\n",
    "my_sentence = my_sentence.lower()\n",
    "print(my_sentence == my_sentence[::-1])\n",
    "\n",
    "word_palindrom = input(\"Please enter a word: \")\n",
    "new_word = ''.join(i for i in word_palindrom if i.isalnum())\n",
    "\n",
    "if new_word.lower() == new_word[::-1].lower():\n",
    "    print(\"That's a palindrome\")\n",
    "else:\n",
    "    print(\"Sorry this isn't a palindrome\")"
   ]
  },
  {
   "cell_type": "code",
   "execution_count": 98,
   "metadata": {},
   "outputs": [
    {
     "name": "stdout",
     "output_type": "stream",
     "text": [
      "Enter a number:  1634\n",
      "1634 is an Armstrong number\n"
     ]
    }
   ],
   "source": [
    "# Exercise-16:\n",
    "# A number from the user will be set to be \"Armstrong.\n",
    "# For example, if a number has 4 digits and is equal to the 4th (3rd power for 3-digit numbers) of each of its surroundings, \n",
    "# this number is called the \"Armstrong\" number.\n",
    "\n",
    "num = input(\"Enter a number: \")\n",
    "len_num = len(num)\n",
    "sum = 0\n",
    "remaining_number = int(num)\n",
    "while remaining_number > 0:\n",
    "    each_digit = remaining_number % 10\n",
    "    sum += each_digit ** len_num\n",
    "    remaining_number //= 10\n",
    "if int(num) == sum:\n",
    "    print(num,\"is an Armstrong number\")\n",
    "else:\n",
    "    print(num,\"is not an Armstrong number\")"
   ]
  },
  {
   "cell_type": "code",
   "execution_count": 11,
   "metadata": {},
   "outputs": [
    {
     "name": "stdout",
     "output_type": "stream",
     "text": [
      "153\n",
      "370\n",
      "371\n",
      "407\n",
      "1634\n",
      "\n",
      "153\n",
      "370\n",
      "371\n",
      "407\n",
      "1634\n",
      "\n",
      " 100 5000\n"
     ]
    },
    {
     "ename": "TypeError",
     "evalue": "'int' object is not callable",
     "output_type": "error",
     "traceback": [
      "\u001b[0;31m---------------------------------------------------------------------------\u001b[0m",
      "\u001b[0;31mTypeError\u001b[0m                                 Traceback (most recent call last)",
      "\u001b[0;32m<ipython-input-11-8dd60fa98885>\u001b[0m in \u001b[0;36m<module>\u001b[0;34m\u001b[0m\n\u001b[1;32m     26\u001b[0m \u001b[0mfirst_num\u001b[0m\u001b[0;34m,\u001b[0m \u001b[0msecond_num\u001b[0m \u001b[0;34m=\u001b[0m \u001b[0mlist\u001b[0m\u001b[0;34m(\u001b[0m\u001b[0mmap\u001b[0m\u001b[0;34m(\u001b[0m\u001b[0mint\u001b[0m\u001b[0;34m,\u001b[0m \u001b[0minput\u001b[0m\u001b[0;34m(\u001b[0m\u001b[0;34m\"\"\u001b[0m\u001b[0;34m)\u001b[0m\u001b[0;34m.\u001b[0m\u001b[0msplit\u001b[0m\u001b[0;34m(\u001b[0m\u001b[0;34m)\u001b[0m\u001b[0;34m)\u001b[0m\u001b[0;34m)\u001b[0m\u001b[0;34m\u001b[0m\u001b[0;34m\u001b[0m\u001b[0m\n\u001b[1;32m     27\u001b[0m \u001b[0;32mfor\u001b[0m \u001b[0mi\u001b[0m \u001b[0;32min\u001b[0m \u001b[0mrange\u001b[0m\u001b[0;34m(\u001b[0m\u001b[0mfirst_num\u001b[0m\u001b[0;34m,\u001b[0m \u001b[0msecond_num\u001b[0m\u001b[0;34m+\u001b[0m\u001b[0;36m1\u001b[0m\u001b[0;34m)\u001b[0m \u001b[0;34m:\u001b[0m\u001b[0;34m\u001b[0m\u001b[0;34m\u001b[0m\u001b[0m\n\u001b[0;32m---> 28\u001b[0;31m     \u001b[0;32mif\u001b[0m \u001b[0msum\u001b[0m\u001b[0;34m(\u001b[0m\u001b[0;34m[\u001b[0m\u001b[0mint\u001b[0m\u001b[0;34m(\u001b[0m\u001b[0mj\u001b[0m\u001b[0;34m)\u001b[0m \u001b[0;34m**\u001b[0m \u001b[0mlen\u001b[0m\u001b[0;34m(\u001b[0m\u001b[0mstr\u001b[0m\u001b[0;34m(\u001b[0m\u001b[0mi\u001b[0m\u001b[0;34m)\u001b[0m\u001b[0;34m)\u001b[0m \u001b[0;32mfor\u001b[0m \u001b[0mj\u001b[0m \u001b[0;32min\u001b[0m \u001b[0mstr\u001b[0m\u001b[0;34m(\u001b[0m\u001b[0mi\u001b[0m\u001b[0;34m)\u001b[0m\u001b[0;34m]\u001b[0m\u001b[0;34m)\u001b[0m \u001b[0;34m==\u001b[0m \u001b[0mi\u001b[0m \u001b[0;34m:\u001b[0m\u001b[0;34m\u001b[0m\u001b[0;34m\u001b[0m\u001b[0m\n\u001b[0m\u001b[1;32m     29\u001b[0m         \u001b[0mprint\u001b[0m\u001b[0;34m(\u001b[0m\u001b[0mi\u001b[0m\u001b[0;34m)\u001b[0m\u001b[0;34m\u001b[0m\u001b[0;34m\u001b[0m\u001b[0m\n",
      "\u001b[0;31mTypeError\u001b[0m: 'int' object is not callable"
     ]
    }
   ],
   "source": [
    "# Write a program to find all the Armstrong numbers present in between two intervals in Python. For example, Armstrong numbers between 100 and 2000\n",
    "\n",
    "lower = 100\n",
    "upper = 2000\n",
    "for num in range(lower, upper + 1):\n",
    "    order = len(str(num))\n",
    "    sum = 0\n",
    "    temp = num\n",
    "    while temp > 0:\n",
    "        digit = temp % 10\n",
    "        sum += digit ** order\n",
    "        temp //= 10\n",
    "    if num == sum:\n",
    "        print(num)\n",
    "print()\n",
    "low_limit = 100\n",
    "up_limit = 2000\n",
    "for num in range(low_limit, up_limit + 1):\n",
    "    order = len(str(num))\n",
    "    sum = 0\n",
    "    for i in str(num):\n",
    "        sum += int(i) ** order\n",
    "    if num == sum:\n",
    "        print(num)\n",
    "print()        \n",
    "first_num, second_num = list(map(int, input(\"\").split()))\n",
    "for i in range(first_num, second_num+1) :\n",
    "    if sum([int(j) ** len(str(i)) for j in str(i)]) == i :\n",
    "        print(i)"
   ]
  },
  {
   "cell_type": "code",
   "execution_count": 11,
   "metadata": {},
   "outputs": [
    {
     "name": "stdout",
     "output_type": "stream",
     "text": [
      " 1 x  1 =   1| 2 x  1 =   2| 3 x  1 =   3| 4 x  1 =   4| 5 x  1 =   5| 6 x  1 =   6| 7 x  1 =   7| 8 x  1 =   8| 9 x  1 =   9|10 x  1 =  10|\n",
      " 1 x  2 =   2| 2 x  2 =   4| 3 x  2 =   6| 4 x  2 =   8| 5 x  2 =  10| 6 x  2 =  12| 7 x  2 =  14| 8 x  2 =  16| 9 x  2 =  18|10 x  2 =  20|\n",
      " 1 x  3 =   3| 2 x  3 =   6| 3 x  3 =   9| 4 x  3 =  12| 5 x  3 =  15| 6 x  3 =  18| 7 x  3 =  21| 8 x  3 =  24| 9 x  3 =  27|10 x  3 =  30|\n",
      " 1 x  4 =   4| 2 x  4 =   8| 3 x  4 =  12| 4 x  4 =  16| 5 x  4 =  20| 6 x  4 =  24| 7 x  4 =  28| 8 x  4 =  32| 9 x  4 =  36|10 x  4 =  40|\n",
      " 1 x  5 =   5| 2 x  5 =  10| 3 x  5 =  15| 4 x  5 =  20| 5 x  5 =  25| 6 x  5 =  30| 7 x  5 =  35| 8 x  5 =  40| 9 x  5 =  45|10 x  5 =  50|\n",
      " 1 x  6 =   6| 2 x  6 =  12| 3 x  6 =  18| 4 x  6 =  24| 5 x  6 =  30| 6 x  6 =  36| 7 x  6 =  42| 8 x  6 =  48| 9 x  6 =  54|10 x  6 =  60|\n",
      " 1 x  7 =   7| 2 x  7 =  14| 3 x  7 =  21| 4 x  7 =  28| 5 x  7 =  35| 6 x  7 =  42| 7 x  7 =  49| 8 x  7 =  56| 9 x  7 =  63|10 x  7 =  70|\n",
      " 1 x  8 =   8| 2 x  8 =  16| 3 x  8 =  24| 4 x  8 =  32| 5 x  8 =  40| 6 x  8 =  48| 7 x  8 =  56| 8 x  8 =  64| 9 x  8 =  72|10 x  8 =  80|\n",
      " 1 x  9 =   9| 2 x  9 =  18| 3 x  9 =  27| 4 x  9 =  36| 5 x  9 =  45| 6 x  9 =  54| 7 x  9 =  63| 8 x  9 =  72| 9 x  9 =  81|10 x  9 =  90|\n",
      " 1 x 10 =  10| 2 x 10 =  20| 3 x 10 =  30| 4 x 10 =  40| 5 x 10 =  50| 6 x 10 =  60| 7 x 10 =  70| 8 x 10 =  80| 9 x 10 =  90|10 x 10 = 100|\n",
      "\n",
      " 1 x  1 =   1 | 2 x  1 =   2 | 3 x  1 =   3 | 4 x  1 =   4 | 5 x  1 =   5 | 6 x  1 =   6 | 7 x  1 =   7 | 8 x  1 =   8 | 9 x  1 =   9 |10 x  1 =  10 |\n",
      " 1 x  2 =   2 | 2 x  2 =   4 | 3 x  2 =   6 | 4 x  2 =   8 | 5 x  2 =  10 | 6 x  2 =  12 | 7 x  2 =  14 | 8 x  2 =  16 | 9 x  2 =  18 |10 x  2 =  20 |\n",
      " 1 x  3 =   3 | 2 x  3 =   6 | 3 x  3 =   9 | 4 x  3 =  12 | 5 x  3 =  15 | 6 x  3 =  18 | 7 x  3 =  21 | 8 x  3 =  24 | 9 x  3 =  27 |10 x  3 =  30 |\n",
      " 1 x  4 =   4 | 2 x  4 =   8 | 3 x  4 =  12 | 4 x  4 =  16 | 5 x  4 =  20 | 6 x  4 =  24 | 7 x  4 =  28 | 8 x  4 =  32 | 9 x  4 =  36 |10 x  4 =  40 |\n",
      " 1 x  5 =   5 | 2 x  5 =  10 | 3 x  5 =  15 | 4 x  5 =  20 | 5 x  5 =  25 | 6 x  5 =  30 | 7 x  5 =  35 | 8 x  5 =  40 | 9 x  5 =  45 |10 x  5 =  50 |\n",
      " 1 x  6 =   6 | 2 x  6 =  12 | 3 x  6 =  18 | 4 x  6 =  24 | 5 x  6 =  30 | 6 x  6 =  36 | 7 x  6 =  42 | 8 x  6 =  48 | 9 x  6 =  54 |10 x  6 =  60 |\n",
      " 1 x  7 =   7 | 2 x  7 =  14 | 3 x  7 =  21 | 4 x  7 =  28 | 5 x  7 =  35 | 6 x  7 =  42 | 7 x  7 =  49 | 8 x  7 =  56 | 9 x  7 =  63 |10 x  7 =  70 |\n",
      " 1 x  8 =   8 | 2 x  8 =  16 | 3 x  8 =  24 | 4 x  8 =  32 | 5 x  8 =  40 | 6 x  8 =  48 | 7 x  8 =  56 | 8 x  8 =  64 | 9 x  8 =  72 |10 x  8 =  80 |\n",
      " 1 x  9 =   9 | 2 x  9 =  18 | 3 x  9 =  27 | 4 x  9 =  36 | 5 x  9 =  45 | 6 x  9 =  54 | 7 x  9 =  63 | 8 x  9 =  72 | 9 x  9 =  81 |10 x  9 =  90 |\n",
      " 1 x 10 =  10 | 2 x 10 =  20 | 3 x 10 =  30 | 4 x 10 =  40 | 5 x 10 =  50 | 6 x 10 =  60 | 7 x 10 =  70 | 8 x 10 =  80 | 9 x 10 =  90 |10 x 10 = 100 |\n",
      "\n",
      " 1 x  1 =   1 | 1 x  2 =   2 | 1 x  3 =   3 | 1 x  4 =   4 | 1 x  5 =   5 | 1 x  6 =   6 | 1 x  7 =   7 | 1 x  8 =   8 | 1 x  9 =   9 | 1 x 10 =  10 |\n",
      " 2 x  1 =   2 | 2 x  2 =   4 | 2 x  3 =   6 | 2 x  4 =   8 | 2 x  5 =  10 | 2 x  6 =  12 | 2 x  7 =  14 | 2 x  8 =  16 | 2 x  9 =  18 | 2 x 10 =  20 |\n",
      " 3 x  1 =   3 | 3 x  2 =   6 | 3 x  3 =   9 | 3 x  4 =  12 | 3 x  5 =  15 | 3 x  6 =  18 | 3 x  7 =  21 | 3 x  8 =  24 | 3 x  9 =  27 | 3 x 10 =  30 |\n",
      " 4 x  1 =   4 | 4 x  2 =   8 | 4 x  3 =  12 | 4 x  4 =  16 | 4 x  5 =  20 | 4 x  6 =  24 | 4 x  7 =  28 | 4 x  8 =  32 | 4 x  9 =  36 | 4 x 10 =  40 |\n",
      " 5 x  1 =   5 | 5 x  2 =  10 | 5 x  3 =  15 | 5 x  4 =  20 | 5 x  5 =  25 | 5 x  6 =  30 | 5 x  7 =  35 | 5 x  8 =  40 | 5 x  9 =  45 | 5 x 10 =  50 |\n",
      " 6 x  1 =   6 | 6 x  2 =  12 | 6 x  3 =  18 | 6 x  4 =  24 | 6 x  5 =  30 | 6 x  6 =  36 | 6 x  7 =  42 | 6 x  8 =  48 | 6 x  9 =  54 | 6 x 10 =  60 |\n",
      " 7 x  1 =   7 | 7 x  2 =  14 | 7 x  3 =  21 | 7 x  4 =  28 | 7 x  5 =  35 | 7 x  6 =  42 | 7 x  7 =  49 | 7 x  8 =  56 | 7 x  9 =  63 | 7 x 10 =  70 |\n",
      " 8 x  1 =   8 | 8 x  2 =  16 | 8 x  3 =  24 | 8 x  4 =  32 | 8 x  5 =  40 | 8 x  6 =  48 | 8 x  7 =  56 | 8 x  8 =  64 | 8 x  9 =  72 | 8 x 10 =  80 |\n",
      " 9 x  1 =   9 | 9 x  2 =  18 | 9 x  3 =  27 | 9 x  4 =  36 | 9 x  5 =  45 | 9 x  6 =  54 | 9 x  7 =  63 | 9 x  8 =  72 | 9 x  9 =  81 | 9 x 10 =  90 |\n",
      "10 x  1 =  10 |10 x  2 =  20 |10 x  3 =  30 |10 x  4 =  40 |10 x  5 =  50 |10 x  6 =  60 |10 x  7 =  70 |10 x  8 =  80 |10 x  9 =  90 |10 x 10 = 100 |\n",
      "\n",
      "  1 x 1 = 1  |  2 x 1 = 2  |  3 x 1 = 3  |  4 x 1 = 4  |  5 x 1 = 5  |  6 x 1 = 6  |  7 x 1 = 7  |  8 x 1 = 8  |  9 x 1 = 9  | 10 x 1 = 10 |\n",
      "  1 x 2 = 2  |  2 x 2 = 4  |  3 x 2 = 6  |  4 x 2 = 8  |  5 x 2 = 10 |  6 x 2 = 12 |  7 x 2 = 14 |  8 x 2 = 16 |  9 x 2 = 18 | 10 x 2 = 20 |\n",
      "  1 x 3 = 3  |  2 x 3 = 6  |  3 x 3 = 9  |  4 x 3 = 12 |  5 x 3 = 15 |  6 x 3 = 18 |  7 x 3 = 21 |  8 x 3 = 24 |  9 x 3 = 27 | 10 x 3 = 30 |\n",
      "  1 x 4 = 4  |  2 x 4 = 8  |  3 x 4 = 12 |  4 x 4 = 16 |  5 x 4 = 20 |  6 x 4 = 24 |  7 x 4 = 28 |  8 x 4 = 32 |  9 x 4 = 36 | 10 x 4 = 40 |\n",
      "  1 x 5 = 5  |  2 x 5 = 10 |  3 x 5 = 15 |  4 x 5 = 20 |  5 x 5 = 25 |  6 x 5 = 30 |  7 x 5 = 35 |  8 x 5 = 40 |  9 x 5 = 45 | 10 x 5 = 50 |\n",
      "  1 x 6 = 6  |  2 x 6 = 12 |  3 x 6 = 18 |  4 x 6 = 24 |  5 x 6 = 30 |  6 x 6 = 36 |  7 x 6 = 42 |  8 x 6 = 48 |  9 x 6 = 54 | 10 x 6 = 60 |\n",
      "  1 x 7 = 7  |  2 x 7 = 14 |  3 x 7 = 21 |  4 x 7 = 28 |  5 x 7 = 35 |  6 x 7 = 42 |  7 x 7 = 49 |  8 x 7 = 56 |  9 x 7 = 63 | 10 x 7 = 70 |\n",
      "  1 x 8 = 8  |  2 x 8 = 16 |  3 x 8 = 24 |  4 x 8 = 32 |  5 x 8 = 40 |  6 x 8 = 48 |  7 x 8 = 56 |  8 x 8 = 64 |  9 x 8 = 72 | 10 x 8 = 80 |\n",
      "  1 x 9 = 9  |  2 x 9 = 18 |  3 x 9 = 27 |  4 x 9 = 36 |  5 x 9 = 45 |  6 x 9 = 54 |  7 x 9 = 63 |  8 x 9 = 72 |  9 x 9 = 81 | 10 x 9 = 90 |\n",
      " 1 x 10 = 10 | 2 x 10 = 20 | 3 x 10 = 30 | 4 x 10 = 40 | 5 x 10 = 50 | 6 x 10 = 60 | 7 x 10 = 70 | 8 x 10 = 80 | 9 x 10 = 90 |10 x 10 = 100|\n",
      "\n",
      "Please enter a chart lenght:  10\n",
      "     1     2     3     4     5     6     7     8     9    10\n",
      "+ ------------------------------------------------------------\n",
      " 1|    1     2     3     4     5     6     7     8     9    10 \n",
      " 2|    2     4     6     8    10    12    14    16    18    20 \n",
      " 3|    3     6     9    12    15    18    21    24    27    30 \n",
      " 4|    4     8    12    16    20    24    28    32    36    40 \n",
      " 5|    5    10    15    20    25    30    35    40    45    50 \n",
      " 6|    6    12    18    24    30    36    42    48    54    60 \n",
      " 7|    7    14    21    28    35    42    49    56    63    70 \n",
      " 8|    8    16    24    32    40    48    56    64    72    80 \n",
      " 9|    9    18    27    36    45    54    63    72    81    90 \n",
      "10|   10    20    30    40    50    60    70    80    90   100 \n"
     ]
    }
   ],
   "source": [
    "# Try to print a multiplication table with numbers from 1 to 10.\n",
    "\n",
    "j = 1\n",
    "while j <= 10 :\n",
    "    for i in range(1,11) :\n",
    "        if len(str(i))==1 and len(str(j))==1 and len(str(i*j))==1:\n",
    "            print(\" {} x  {} =   {}\".format(i,j,i*j), end = \"|\")\n",
    "        elif len(str(i))==1 and len(str(j))==1 and len(str(i*j))==2:\n",
    "            print(\" {} x  {} =  {}\".format(i,j,i*j), end = \"|\")\n",
    "        elif len(str(i))==2 and len(str(j))==1 and len(str(i*j))==2:\n",
    "            print(\"{} x  {} =  {}\".format(i,j,i*j), end = \"|\")\n",
    "        elif len(str(i))==1 and len(str(j))==2 and len(str(i*j))==2:\n",
    "            print(\" {} x {} =  {}\".format(i,j,i*j), end = \"|\")\n",
    "        elif len(str(i))==2 and len(str(j))==2 and len(str(i*j))==3:\n",
    "            print(\"{} x {} = {}\".format(i,j,i*j), end = \"|\")\n",
    "        else:\n",
    "            print(\" {} x {} ={}\".format(i,j,i*j), end = \"|\")\n",
    "    j += 1\n",
    "    print()\n",
    "print()\n",
    "\n",
    "for i in range(1,11):\n",
    "    for j in range(1,11):\n",
    "        print(format(j,\"2d\"),\"x\",format(i,\"2d\"),\"=\",format(i*j,\"3d\"),\"|\", end=\"\")\n",
    "    print()\n",
    "print()    \n",
    "for i in range(1,11):\n",
    "    for j in range(1,11):\n",
    "        print(\"{:>2} x {:>2} = {:>3} |\".format(i, j, i*j), end = \"\")\n",
    "    print()    \n",
    "print()\n",
    "for j in range(1,11):\n",
    "    for i in range(1,11):\n",
    "        print(\"\".join(f\"{i} x {j} = {i*j}\").center(13), end = \"|\")  # .center()\n",
    "    print()\n",
    "print()\n",
    "n = int(input(\"Please enter a chart lenght: \"))\n",
    "for i in range(1, n+1):\n",
    "    print(format(i, \"6d\"), end = \"\")\n",
    "print()\n",
    "print(\"+\",\"-\"*n*6)\n",
    "for i in range(1, n + 1):\n",
    "    print(format(i,\"2d\")+\"|\", end = \"\")\n",
    "    for j in range(1, n + 1):\n",
    "        print(format(i * j,\"5d\"), end = \" \")\n",
    "    print()"
   ]
  },
  {
   "cell_type": "code",
   "execution_count": 62,
   "metadata": {},
   "outputs": [
    {
     "name": "stdout",
     "output_type": "stream",
     "text": [
      "\n",
      "1\n",
      "2\n",
      "Fizz\n",
      "4\n",
      "Buzz\n",
      "Fizz\n",
      "7\n",
      "8\n",
      "Fizz\n",
      "Buzz\n",
      "11\n",
      "Fizz\n",
      "13\n",
      "14\n",
      "FizzBuzz\n",
      "16\n",
      "17\n",
      "Fizz\n",
      "19\n",
      "Buzz\n",
      "Fizz\n",
      "22\n",
      "23\n",
      "Fizz\n",
      "Buzz\n",
      "26\n",
      "Fizz\n",
      "28\n",
      "29\n",
      "FizzBuzz\n",
      "31\n",
      "32\n",
      "Fizz\n",
      "34\n",
      "Buzz\n",
      "Fizz\n",
      "37\n",
      "38\n",
      "Fizz\n",
      "Buzz\n",
      "41\n",
      "Fizz\n",
      "43\n",
      "44\n",
      "FizzBuzz\n",
      "46\n",
      "47\n",
      "Fizz\n",
      "49\n",
      "Buzz\n"
     ]
    }
   ],
   "source": [
    "# Write a Python program which iterates the integers from 1 to 50. For multiples of three print \"Fizz\" instead of the number and for the multiples of five print \"Buzz\".\n",
    "# For numbers which are multiples of both three and five print \"FizzBuzz\".\n",
    "# Sample Output :\n",
    "# 1\n",
    "# 2\n",
    "# fizz\n",
    "# 4\n",
    "# buzz\n",
    "# .\n",
    "# .\n",
    "# .\n",
    "\n",
    "# n = 50\n",
    "# for i in range(1,n+1):\n",
    "#     if not i % 15:\n",
    "#         print(\"FizzBuzz\")\n",
    "#     elif not i % 5:\n",
    "#         print(\"Buzz\")\n",
    "#     elif not i % 3:\n",
    "#         print(\"Fizz\")\n",
    "#     else:\n",
    "#         print(i)\n",
    "print()\n",
    "n = 50\n",
    "for i in range(1,n+1):\n",
    "    if i % 3 == 0 and i % 5 == 0:\n",
    "        print(\"FizzBuzz\")\n",
    "    elif i % 3 == 0:\n",
    "        print(\"Fizz\")\n",
    "    elif i % 5 == 0:\n",
    "        print(\"Buzz\")\n",
    "    else:\n",
    "        print(i)"
   ]
  },
  {
   "cell_type": "code",
   "execution_count": 41,
   "metadata": {},
   "outputs": [
    {
     "name": "stdout",
     "output_type": "stream",
     "text": [
      "Please enter a number and when you want to exit, press q to quit:  5\n",
      "Please enter a number and when you want to exit, press q to quit:  6\n",
      "Please enter a number and when you want to exit, press q to quit:  9\n",
      "Please enter a number and when you want to exit, press q to quit:  q\n",
      "Sum of all elements in given list:  20\n"
     ]
    }
   ],
   "source": [
    "# In each while loop, take a number from the user and add the numbers entered by the user to a variable named \"sum\".\n",
    "# When the user presses the \"q\" key, terminate the loop and print the \"sum variable\" to the screen\n",
    "\n",
    "list_num = []\n",
    "sum = 0\n",
    "while True:\n",
    "    num = input(\"Please enter a number and when you want to exit, press q to quit: \")\n",
    "    if num.lower() == 'q':\n",
    "        break\n",
    "    else:\n",
    "        list_num.append(int(num))\n",
    "\n",
    "for i in range(0, len(list_num)):\n",
    "    sum = sum + list_num[i]\n",
    "print(\"Sum of all elements in given list: \", sum)"
   ]
  },
  {
   "cell_type": "code",
   "execution_count": 46,
   "metadata": {},
   "outputs": [
    {
     "name": "stdout",
     "output_type": "stream",
     "text": [
      "Please enter a number and when you want to exit, press q to quit:  5\n",
      "Please enter a number and when you want to exit, press q to quit:  5\n",
      "Please enter a number and when you want to exit, press q to quit:  12\n",
      "Please enter a number and when you want to exit, press q to quit:  q\n"
     ]
    },
    {
     "ename": "TypeError",
     "evalue": "'int' object is not callable",
     "output_type": "error",
     "traceback": [
      "\u001b[0;31m---------------------------------------------------------------------------\u001b[0m",
      "\u001b[0;31mTypeError\u001b[0m                                 Traceback (most recent call last)",
      "\u001b[0;32m<ipython-input-46-b2d8eb61a679>\u001b[0m in \u001b[0;36m<module>\u001b[0;34m\u001b[0m\n\u001b[1;32m      7\u001b[0m         \u001b[0mlist_num\u001b[0m\u001b[0;34m.\u001b[0m\u001b[0mappend\u001b[0m\u001b[0;34m(\u001b[0m\u001b[0mint\u001b[0m\u001b[0;34m(\u001b[0m\u001b[0mnum\u001b[0m\u001b[0;34m)\u001b[0m\u001b[0;34m)\u001b[0m\u001b[0;34m\u001b[0m\u001b[0;34m\u001b[0m\u001b[0m\n\u001b[1;32m      8\u001b[0m \u001b[0;34m\u001b[0m\u001b[0m\n\u001b[0;32m----> 9\u001b[0;31m \u001b[0mprint\u001b[0m\u001b[0;34m(\u001b[0m\u001b[0;34m\"Sum of all elements in given list: \"\u001b[0m\u001b[0;34m,\u001b[0m \u001b[0msum\u001b[0m\u001b[0;34m(\u001b[0m\u001b[0mlist_num\u001b[0m\u001b[0;34m)\u001b[0m\u001b[0;34m)\u001b[0m\u001b[0;34m\u001b[0m\u001b[0;34m\u001b[0m\u001b[0m\n\u001b[0m",
      "\u001b[0;31mTypeError\u001b[0m: 'int' object is not callable"
     ]
    }
   ],
   "source": [
    "list_num = []\n",
    "while True:\n",
    "    num = input(\"Please enter a number and when you want to exit, press q to quit: \")\n",
    "    if num.lower() == 'q':\n",
    "        break\n",
    "    else:\n",
    "        list_num.append(int(num))\n",
    "        \n",
    "print(\"Sum of all elements in given list: \", sum(list_num))"
   ]
  },
  {
   "cell_type": "code",
   "execution_count": 73,
   "metadata": {},
   "outputs": [
    {
     "name": "stdout",
     "output_type": "stream",
     "text": [
      "8 12 14 32 38 40\n",
      "8 12 14 32 38 40\n"
     ]
    }
   ],
   "source": [
    "# A jumbled list is given whose elements are consecutive numbers. Write python code that \n",
    "# outputs even numbers of missing numbers that are between the smallest element and the largest element of the list, but not shown in the list.\n",
    "# Input\n",
    "# liste = [48, 10, 11, 21, 36, 5, 6, 52, 28, 29, 53, 54, 45, 19, 20, 47, 55, 39, 41, 7, 9, 17, 26, 27, 42, 22, 37, 51, 46, 18, 44, 30, 34, 13, 15, 35, 33, 16, 50, 24]\n",
    "# Expected Output:\n",
    "# 8 12 14 32 38 40 \n",
    "\n",
    "liste = [48, 10, 11, 21, 36, 5, 6, 52, 28, 29, 53, 54, 45, 19, 20, 47, 55, 39, 41, 7, 9, 17, 26, 27, 42, 22, 37, 51, 46, 18, 44, 30, 34, 13, 15, 35, 33, 16, 50, 24]\n",
    "print(*(i for i in range(min(liste),max(liste) + 1) if i % 2 == 0 and i not in liste))\n",
    "print(*sorted(i for i in (set(range(min(liste),max(liste) + 1)) - set(liste)) if i % 2 == 0))"
   ]
  },
  {
   "cell_type": "code",
   "execution_count": 10,
   "metadata": {},
   "outputs": [
    {
     "name": "stdout",
     "output_type": "stream",
     "text": [
      "Please enter a string:  Clarusway\n",
      "{0: 'C', 1: 'l', 2: 'a', 3: 'r', 4: 'u', 5: 's', 6: 'w', 7: 'a', 8: 'y'} \n",
      "\n",
      "Please enter a string:  Clarusway\n",
      "{0: 'C', 1: 'l', 2: 'a', 3: 'r', 4: 'u', 5: 's', 6: 'w', 7: 'a', 8: 'y'}\n"
     ]
    }
   ],
   "source": [
    "# Write a Python dictionary function that takes a string from the user and matches each character in the string with the index number.\n",
    "# For Example:\n",
    "# İnput:'clarusway'\n",
    "# output: {0: 'c', 1: 'l', 2: 'a', 3: 'r', 4: 'u', 5: 's', 6: 'w', 7: 'a', 8: 'y'}\n",
    "\n",
    "str_1 = input(\"Please enter a string: \")\n",
    "dict_1 = {}\n",
    "for i in range(0, len(str_1)):\n",
    "    dict_1[i] = str_1[i]\n",
    "print(dict_1, \"\\n\")\n",
    "\n",
    "str_1 = input(\"Please enter a string: \")\n",
    "print(dict(enumerate(str_1)))"
   ]
  },
  {
   "cell_type": "code",
   "execution_count": 9,
   "metadata": {},
   "outputs": [
    {
     "name": "stdout",
     "output_type": "stream",
     "text": [
      "Please enter a number:  8\n",
      "Sum of cubes smaller than the specified number:  784\n",
      "\n",
      "Please enter a number:  8\n",
      "784\n"
     ]
    }
   ],
   "source": [
    "# Write a Python function that takes a positive integer and returns the sum of the cube of all the positive integers smaller than the specified number.\n",
    "\n",
    "n = int(input(\"Please enter a number: \"))\n",
    "n -= 1\n",
    "total = 0\n",
    "while n > 0:\n",
    "    total += n * n * n\n",
    "    n -= 1\n",
    "print(\"Sum of cubes smaller than the specified number: \", total)\n",
    "print()\n",
    "n = int(input(\"Please enter a number: \"))\n",
    "print(sum(i**3 for i in range(n)))"
   ]
  },
  {
   "cell_type": "code",
   "execution_count": 53,
   "metadata": {},
   "outputs": [
    {
     "name": "stdout",
     "output_type": "stream",
     "text": [
      "[1, 2, 4, 5, 6, 7, 8, 9]\n",
      "[1, 2, 4, 5, 7, 8, 9]\n",
      "[1, 2, 4, 5, 7, 8]\n",
      "[1, 2, 5, 7, 8]\n",
      "[1, 2, 5, 7]\n",
      "[1, 2, 7]\n",
      "[1, 7]\n",
      "[1]\n",
      "[]\n",
      "\n",
      "[1, 2, 4, 5, 6, 7, 8, 9]\n",
      "[1, 2, 4, 5, 7, 8, 9]\n",
      "[1, 2, 4, 5, 7, 8]\n",
      "[1, 2, 5, 7, 8]\n",
      "[1, 2, 5, 7]\n",
      "[1, 2, 7]\n",
      "[1, 7]\n",
      "[1]\n",
      "[]\n",
      "\n",
      "[1, 2, 4, 5, 6, 7, 8, 9]\n",
      "[1, 2, 4, 5, 7, 8, 9]\n",
      "[1, 2, 4, 5, 7, 8]\n",
      "[1, 2, 5, 7, 8]\n",
      "[1, 2, 5, 7]\n",
      "[1, 2, 7]\n",
      "[1, 7]\n",
      "[1]\n",
      "[]\n",
      "\n",
      "Please write a number:  9\n",
      "[1, 2, 4, 5, 6, 7, 8, 9]\n",
      "[1, 2, 4, 5, 7, 8, 9]\n",
      "[1, 2, 4, 5, 7, 8]\n",
      "[1, 2, 5, 7, 8]\n",
      "[1, 2, 5, 7]\n",
      "[1, 2, 7]\n",
      "[1, 7]\n",
      "[1]\n",
      "[]\n"
     ]
    }
   ],
   "source": [
    "# Write a Python program to remove and print every third number from a list of numbers until the list becomes empty.\n",
    "# For Example :\n",
    "# liste = [1 ,2 ,3 ,4 ,5 ,6 ,7 ,8 ,9]\n",
    "# Expected Output:\n",
    "# [1, 2, 4, 5, 6, 7, 8, 9]\n",
    "# [1, 2, 4, 5, 7, 8, 9]\n",
    "# [1, 2, 4, 5, 7, 8]\n",
    "# [1, 2, 5, 7, 8]\n",
    "# [1, 2, 5, 7]\n",
    "# [1, 2, 7]\n",
    "# [1, 7]\n",
    "# [1]\n",
    "# []\n",
    "\n",
    "list_1 = [1 ,2 ,3 ,4 ,5 ,6 ,7 ,8 ,9]\n",
    "x = 8\n",
    "for i in range(1, len(list_1) + 1):\n",
    "    if len(list_1) >= 6:\n",
    "        list_1.pop(i * 2 % len(list_1))\n",
    "        print(list_1) \n",
    "    elif 6 > len(list_1) > 2:\n",
    "        x = x / 2\n",
    "        list_1.pop(int(x))\n",
    "        print(list_1)\n",
    "    else:\n",
    "        list_1.pop()\n",
    "        print(list_1)\n",
    "        \n",
    "print()        \n",
    "list_1 = [1 ,2 ,3 ,4 ,5 ,6 ,7 ,8 ,9]\n",
    "range_list = len(list_1)\n",
    "x = 0\n",
    "for i in range(0, len(list_1)):\n",
    "        x = (2 + x) % range_list\n",
    "        list_1.pop(x)\n",
    "        print(list_1)\n",
    "        range_list -= 1\n",
    "print()  \n",
    "liste = [1 ,2 ,3 ,4 ,5 ,6 ,7 ,8 ,9]\n",
    "indeks = 0\n",
    "uzunluk = len(liste)\n",
    "while len(liste) > 0 :\n",
    "    indeks = (2 + indeks) % uzunluk\n",
    "    liste.pop(indeks)\n",
    "    print(liste)\n",
    "    uzunluk -= 1\n",
    "print()    \n",
    "counter = int(input(\"Please write a number: \"))\n",
    "list_1 = list(range(1, counter + 1))\n",
    "while len(list_1) > 0:\n",
    "    list_1.append(list_1.pop(0))\n",
    "    list_1.append(list_1.pop(0))\n",
    "    list_1 = list_1[1:]    \n",
    "    print(sorted(list_1))"
   ]
  },
  {
   "cell_type": "code",
   "execution_count": 8,
   "metadata": {},
   "outputs": [
    {
     "name": "stdout",
     "output_type": "stream",
     "text": [
      "Please enter characters containing the following '(', ')', '{', '}', '[' and ']': {[]}\n",
      "True \n",
      "\n",
      "True\n"
     ]
    }
   ],
   "source": [
    "# Python Exercise -25 :\n",
    "# Given a string s containing just the characters '(', ')', '{', '}', '[' and ']'', determine if the input string is valid.\n",
    "# An input string is valid if:\n",
    "# Open brackets must be closed by the same type of brackets.\n",
    "# Open brackets must be closed in the correct order.\n",
    "# Example 1:\n",
    "# Input: s = \"()\"\n",
    "# Output: true\n",
    "# Example 2:\n",
    "# Input: s = \"()[]{}\"\n",
    "# Output: true\n",
    "# Example 3:\n",
    "# Input: s = \"(]\"\n",
    "# Output: false\n",
    "# Example 4:\n",
    "# Input: s = \"([)]\"\n",
    "# Output: false\n",
    "# Example 5:Example 5:\n",
    "# Example 5:\n",
    "# Input: s = \"{[]}\"\n",
    "# Output: true\n",
    "\n",
    "s = input(\"Please enter characters containing the following '(', ')', '{', '}', '[' and ']':\")\n",
    "for i in s:\n",
    "    if i in {'(', ')', '{', '}', '[', ']'}:\n",
    "        brackets = []\n",
    "        for i in s:\n",
    "            if i in ['(', '{', '[']:\n",
    "                brackets.append(i)\n",
    "            elif i == ')' and len(brackets) != 0 and brackets[-1] == '(':\n",
    "                brackets.pop()\n",
    "            elif i == '}' and len(brackets) != 0 and brackets[-1] == '{':\n",
    "                brackets.pop()\n",
    "            elif i == ']' and len(brackets) != 0 and brackets[-1] == '[':\n",
    "                brackets.pop()\n",
    "    else:\n",
    "        print(\"You entered the wrong character, please enter the correct character.\")\n",
    "print(brackets == [], \"\\n\")\n",
    "\n",
    "s = \"{[]}\"\n",
    "while \"()\" in s or \"[]\" in s or \"{}\" in s :\n",
    "    s = s.replace(\"()\", \"\").replace(\"[]\", \"\").replace(\"{}\", \"\")\n",
    "print(s == \"\")"
   ]
  },
  {
   "cell_type": "code",
   "execution_count": 85,
   "metadata": {},
   "outputs": [
    {
     "name": "stdout",
     "output_type": "stream",
     "text": [
      "Please enter characters containing the following '(', ')', '{', '}', '[' and ']':  \n",
      "True\n"
     ]
    }
   ],
   "source": [
    "opening = \"{[(\"\n",
    "closing = \"}])\"\n",
    "brackets = {')': '(', '}': '{', ']': '['}\n",
    "s = input(\"Please enter characters containing the following '(', ')', '{', '}', '[' and ']': \")\n",
    "for i in s:\n",
    "    if i in {'(', ')', '{', '}', '[', ']'} and s != \"\":\n",
    "        stack = []\n",
    "        for char in s:\n",
    "            if char in opening:\n",
    "                stack.append(char)\n",
    "            elif char in closing:\n",
    "                if len(stack) == 0:\n",
    "                    print(False)\n",
    "                elif stack[-1] == brackets[char]:\n",
    "                    stack.pop()\n",
    "    else:\n",
    "        print(\"You entered the wrong character, please enter the correct character.\")\n",
    "print(len(stack) == 0)"
   ]
  },
  {
   "cell_type": "code",
   "execution_count": null,
   "metadata": {},
   "outputs": [],
   "source": [
    "# Write a program to shift every element of a list to circularly right. E.g.-\n",
    "# INPUT : 1 2 3 4 5\n",
    "# OUTPUT : 5 1 2 3 4\n"
   ]
  },
  {
   "cell_type": "code",
   "execution_count": null,
   "metadata": {},
   "outputs": [],
   "source": [
    "# Given a list, right rotate the list by n position.\n",
    "# Examples :\n",
    "# Input : n = 2 \n",
    "#          List_1 = [1, 2, 3, 4, 5, 6]\n",
    "# Output : List_1 = [5, 6, 1, 2, 3, 4]\n",
    "# We get output list after right rotating \n",
    "# (clockwise) given list by 2.\n",
    "\n",
    "# Input :  n = 3\n",
    "#          List_1 = [3, 0, 1, 4, 2, 3]\n",
    "# Output : List_1 = [4, 2, 3, 3, 0, 1]\n"
   ]
  },
  {
   "cell_type": "code",
   "execution_count": null,
   "metadata": {},
   "outputs": [],
   "source": [
    "# Write a program that takes your full name as input and displays the abbreviations of the first and middle names except the last name which is displayed as it is.\n",
    "# For example, if your name is Robert Brett Roser, then the output should be R.B.Roser.\n"
   ]
  },
  {
   "cell_type": "code",
   "execution_count": null,
   "metadata": {},
   "outputs": [],
   "source": [
    "# Write a program that takes a maximum two-digit (1-99) number from the user and finds the pronunciation of that number.\n",
    "# For example:\n",
    "# İnput:97\n",
    "# Output:Doksan Yedi\n"
   ]
  },
  {
   "cell_type": "code",
   "execution_count": null,
   "metadata": {},
   "outputs": [],
   "source": [
    "# @Raife-Mentor’s question revised.:thinking_face:\n",
    "# İNPUT: Robert Brett Roser\n",
    "# OUTPUT:R***** B**** ROSER\n"
   ]
  },
  {
   "cell_type": "code",
   "execution_count": null,
   "metadata": {},
   "outputs": [],
   "source": [
    "# Create an ATM program in the menus; There are withdrawal, deposit, balance inquiry and exit menus,\n",
    "# then tell the user to deposit $ 1000 in their account, deposit $ 500 and learn the current balance exit the transaction\n"
   ]
  },
  {
   "cell_type": "code",
   "execution_count": null,
   "metadata": {},
   "outputs": [],
   "source": [
    "# Write a program that prints the numbers from 1 to 100 that form a pythagorean triangle. For exam:3 4 5\n"
   ]
  },
  {
   "cell_type": "code",
   "execution_count": null,
   "metadata": {},
   "outputs": [],
   "source": [
    "# Write a Python program to remove the characters which have odd index values of a given string.\n"
   ]
  },
  {
   "cell_type": "code",
   "execution_count": null,
   "metadata": {},
   "outputs": [],
   "source": [
    "# Write a Python function that takes a sequence of numbers and determines whether all the numbers are different from each other.\n"
   ]
  },
  {
   "cell_type": "code",
   "execution_count": null,
   "metadata": {},
   "outputs": [],
   "source": [
    "# Write a program to check if a given string is a Palindrome.\n",
    "# A palindrome reads same from front and back e.g.- aba, ccaacc, mom, etc.\n",
    "# INPUT:  aba\n",
    "# OUTPUT: True\n",
    "# (Please don't use for, if,while)\n"
   ]
  },
  {
   "cell_type": "code",
   "execution_count": 5,
   "metadata": {},
   "outputs": [
    {
     "name": "stdout",
     "output_type": "stream",
     "text": [
      "Please enter a string:  qA2\n",
      "True\n",
      "True\n",
      "True\n",
      "True\n",
      "True \n",
      "\n",
      " Qa2\n",
      "True\n",
      "True\n",
      "True\n",
      "True\n",
      "True\n"
     ]
    }
   ],
   "source": [
    "# You are given a string .\n",
    "# Your task is to find out if the string  contains: alphanumeric characters, alphabetical characters, digits, lowercase and uppercase characters.\n",
    "# Input Format\n",
    "# A single line containing a string .\n",
    "# Output Format\n",
    "# In the first line, print True if  has any alphanumeric characters. Otherwise, print False.\n",
    "# In the second line, print True if  has any alphabetical characters. Otherwise, print False.\n",
    "# In the third line, print True if  has any digits. Otherwise, print False.\n",
    "# In the fourth line, print True if  has any lowercase characters. Otherwise, print False.\n",
    "# In the fifth line, print True if  has any uppercase characters. Otherwise, print False.\n",
    "\n",
    "s = input(\"Please enter a string: \")\n",
    "\n",
    "print(any(str_1.isalnum() for str_1 in s))     # The any() function returns True if any item in an iterable are true, otherwise it returns False.If the iterable object is empty, the any() function will return False.\n",
    "print(any(str_1.isalpha() for str_1 in s))     # mytuple = (0, 1, False) x = any(mytuple) print(x) => True\n",
    "print(any(str_1.isdigit() for str_1 in s))\n",
    "print(any(str_1.isupper() for str_1 in s))\n",
    "print(any(str_1.islower() for str_1 in s), \"\\n\")\n",
    "\n",
    "s = input()\n",
    "a1, a2, a3, a4, a5 = False, False, False, False, False\n",
    "  \n",
    "for i in s:\n",
    "    a1 = True if i.isalnum() == True else a1\n",
    "    a2 = True if i.isalpha() == True else a2\n",
    "    a3 = True if i.isdigit() == True else a3\n",
    "    a4 = True if i.islower() == True else a4\n",
    "    a5 = True if i.isupper() == True else a5\n",
    "    \n",
    "print(a1,a2,a3,a4,a5,sep=\"\\n\")      "
   ]
  },
  {
   "cell_type": "code",
   "execution_count": null,
   "metadata": {},
   "outputs": [],
   "source": [
    "# You are given three integers  i, j and k representing the dimensions of a cuboid along with an integer n. Print a list of all possible coordinates given by  (i, j, k) on a 3D grid where the sum i + j + k of  is not equal to  n .\n",
    "# Sample Input 0\n",
    "# 1\n",
    "# 1\n",
    "# 1\n",
    "# 2\n",
    "# Sample Output 0\n",
    "# [[0, 0, 0], [0, 0, 1], [0, 1, 0], [1, 0, 0], [1, 1, 1]]\n",
    "# Print an array of the elements that do not sum to 2 .\n",
    "# Sample Input 1\n",
    "# 2\n",
    "# 2\n",
    "# 2\n",
    "# 2\n",
    "# Sample Output 1\n",
    "# [[0, 0, 0], [0, 0, 1], [0, 1, 0], [0, 1, 2], [0, 2, 1], [0, 2, 2], [1, 0, 0], [1, 0, 2], [1, 1, 1], [1, 1, 2], [1, 2, 0], [1, 2, 1], [1, 2, 2], [2, 0, 1], [2, 0, 2], [2, 1, 0], [2, 1, 1], [2, 1, 2], [2, 2, 0], [2, 2, 1], [2, 2, 2]]\n"
   ]
  },
  {
   "cell_type": "code",
   "execution_count": null,
   "metadata": {},
   "outputs": [],
   "source": [
    "# Write a Python program to get the difference between the two lists.\n"
   ]
  },
  {
   "cell_type": "code",
   "execution_count": null,
   "metadata": {},
   "outputs": [],
   "source": [
    "# A number is said to be Harshad if it's exactly divisible by the sum of its digits. Create a code that determines whether a number is a Harshad or not.\n",
    "# INPUT:75 ➞ OUTPUT:False\n",
    "# 7 + 5 = 12\n",
    "# 75 is not exactly divisible by 12\n",
    "# INPUT:171 ➞ OUTPUT:True\n",
    "# 1 + 7 + 1 = 9\n",
    "# 9 exactly divides 171\n"
   ]
  },
  {
   "cell_type": "code",
   "execution_count": null,
   "metadata": {},
   "outputs": [],
   "source": [
    "# 38  Write a Python program to create a merged list of tuples from the two lists given.\n",
    "# For Example:\n",
    "# İnput:\n",
    "# list1=[195, 488, 142, 626, 180]\n",
    "# list2=[\"New York\", \"Alabama\", \"Hawaii\", \"Vermont\", \"West Virginia\"]\n",
    "# Output:\n",
    "# list3=[(195, 'New York'), (488, 'Alabama'), (142, 'Hawaii'), (626, 'Vermont'), (180, 'West Virginia')]\n"
   ]
  },
  {
   "cell_type": "code",
   "execution_count": 25,
   "metadata": {},
   "outputs": [
    {
     "name": "stdout",
     "output_type": "stream",
     "text": [
      "Please enter a number: 3\n",
      "Loves me, Loves me not, LOVES ME\n"
     ]
    }
   ],
   "source": [
    "# \"Loves me, loves me not\" is a traditional game in which a person plucks off all the petals of a flower one by one,\n",
    "# saying the phrase \"Loves me\" and \"Loves me not\" when determining whether the one that they love, loves them back.\n",
    "# Given a number of petals, return a string which repeats the phrases \"Loves me\" and \"Loves me not\" for every alternating petal,\n",
    "# and return the last phrase in all caps. Remember to put a comma and space between phrases.\n",
    "# INPUT : 3 ➞ \"Loves me, Loves me not, LOVES ME\"\n",
    "\n",
    "# INPUT : 6 ➞ \"Loves me, Loves me not, Loves me, Loves me not, Loves me, LOVES ME NOT\"\n",
    "\n",
    "# INPUT : 1 ➞ \"LOVES ME\"\n",
    "\n",
    "counter = int(input(\"Please enter a number:\" ))\n",
    "str_1, str_2 = \"Loves me\", \"Loves me not\"\n",
    "list_1 = []\n",
    "if counter != 0:\n",
    "    list_1.append(str_1)\n",
    "    for i in range(1, counter + 1):\n",
    "        if i % 2 != 0:\n",
    "            if list_1[-1] != str_1:\n",
    "                list_1.append(str_1)\n",
    "        elif i % 2 == 0:\n",
    "            list_1.append(str_2)\n",
    "    list_1[-1] = list_1[-1].upper()        \n",
    "    print(\", \".join(list_1))        \n",
    "else:\n",
    "    list_1 = []\n",
    "    print(list_1)"
   ]
  },
  {
   "cell_type": "code",
   "execution_count": 16,
   "metadata": {},
   "outputs": [
    {
     "name": "stdout",
     "output_type": "stream",
     "text": [
      "Please enter array of integer, sperating with space:  3 4 5\n",
      "Please enter array of integer, sperating with space:  6 7 5\n",
      "True\n"
     ]
    }
   ],
   "source": [
    "# Given 2 arrays of ints, a and b, return True if they have the same first element or they have the same last element. Both arrays will be length 1 or more.\n",
    "# (Without using for, if, while)\n",
    "# [1, 2, 3], [7, 3] → True\n",
    "# [1, 2, 3], [7, 3, 2] → False\n",
    "# [1, 2, 3], [1, 3] → True\n",
    "\n",
    "list_1 = list(map(int, input(\"Please enter array of integer, sperating with space: \").split()))\n",
    "list_2 = list(map(int, input(\"Please enter array of integer, sperating with space: \").split()))\n",
    "print(list_1[0] == list_2[0] or list_1[-1] == list_2[-1])"
   ]
  },
  {
   "cell_type": "code",
   "execution_count": 3,
   "metadata": {},
   "outputs": [
    {
     "data": {
      "text/plain": [
       "[['eat', 'tea', 'ate'], ['tan', 'nat'], ['bat']]"
      ]
     },
     "execution_count": 3,
     "metadata": {},
     "output_type": "execute_result"
    }
   ],
   "source": [
    "# Group Anagrams\n",
    "# Title:\n",
    "# Given an array of strings, you can combine words with different letters. \n",
    "# Alphabetic words refer to strings with the same letters but arranged differently.\n",
    "# Given an array of strings, group anagrams together.\n",
    "# Example:\n",
    "# Input: [\"eat\", \"tea\", \"tan\", \"ate\", \"nat\", \"bat\"],\n",
    "# Output:\n",
    "# [\n",
    "#   [\"ate\",\"eat\",\"tea\"],\n",
    "#   [\"nat\",\"tan\"],\n",
    "#   [\"bat\"]\n",
    "# ]\n",
    "# Explain:\n",
    "# All inputs are lowercase.\n",
    "# Do not consider the order of the answer output.\n",
    "# Note:\n",
    "# All inputs will be in lowercase.\n",
    "# The order of your output does not matter.\n",
    "\n",
    "list_1 = [\"eat\", \"tea\", \"tan\", \"ate\", \"nat\", \"bat\"] \n",
    "result = {}\n",
    "for i in list_1:\n",
    "    x = \"\".join(sorted(i))\n",
    "    if x in result:\n",
    "        result[x].append(i)\n",
    "    else:\n",
    "        result[x] = [i]\n",
    "list(result.values())"
   ]
  },
  {
   "cell_type": "code",
   "execution_count": 2,
   "metadata": {},
   "outputs": [
    {
     "name": "stdout",
     "output_type": "stream",
     "text": [
      "[['eat', 'tea', 'ate'], ['tan', 'nat'], ['bat']]\n"
     ]
    }
   ],
   "source": [
    "list_1 = [\"eat\", \"tea\", \"tan\", \"ate\", \"nat\", \"bat\"] \n",
    "new_li = []\n",
    "for i in list_1:\n",
    "    tree = False\n",
    "    for j in new_li:\n",
    "        if sorted(i) == sorted(j[0]):\n",
    "            j.append(i)\n",
    "            tree = True\n",
    "    if not tree:\n",
    "        new_li.append([i])\n",
    "print(new_li)"
   ]
  },
  {
   "cell_type": "code",
   "execution_count": null,
   "metadata": {},
   "outputs": [],
   "source": [
    "# Write a Python program to calculate the hypotenuse of a right angled triangle\n"
   ]
  },
  {
   "cell_type": "code",
   "execution_count": null,
   "metadata": {},
   "outputs": [],
   "source": [
    "# Write a Python program to test whether all numbers of a list is greater than a certain number.\n"
   ]
  },
  {
   "cell_type": "code",
   "execution_count": null,
   "metadata": {},
   "outputs": [],
   "source": [
    "# Python Program to Find the Factorial of a Number\n",
    "# The factorial of a number is the product of all the integers from 1 to that number.\n",
    "# For example, the factorial of 6 is 1*2*3*4*5*6 = 720. Factorial is not defined for negative numbers, and the factorial of zero is one, 0! = 1.\n"
   ]
  },
  {
   "cell_type": "code",
   "execution_count": 131,
   "metadata": {},
   "outputs": [
    {
     "name": "stdout",
     "output_type": "stream",
     "text": [
      "Please enter a string:  Ynf\n",
      "Please enter a string:  PYnative\n",
      "False\n"
     ]
    }
   ],
   "source": [
    "# Write a program to check if two strings are balanced. For example, strings s1 and s2 are balanced if all the characters in the s1 are present in s2. The character's position doesn't matter.\n",
    "# s1 = \"Yn\"\n",
    "# s2 = \"PYnative\"\n",
    "# output = True\n",
    "\n",
    "s1, s2 = input(\"Please enter a string: \"), input(\"Please enter a string: \")\n",
    "print(set(s1).issubset(s2))"
   ]
  },
  {
   "cell_type": "code",
   "execution_count": null,
   "metadata": {},
   "outputs": [],
   "source": [
    "# Mark and Jane are very happy after having their first child. Their son loves toys, so Mark wants to buy some. \n",
    "# There are a number of different toys lying in front of him, tagged with their prices. Mark has only a certain amount to spend, and he wants to maximize the number of toys he buys with this money.\n",
    "# Given a list of toy prices and an amount to spend, determine the maximum number of gifts he can buy.\n",
    "# Note Each toy can be purchased only once.\n",
    "# Example\n",
    "# The budget is  units of currency. He can buy items that cost  for , or  for  units. The maximum is  items.\n",
    "# Function Description\n",
    "# Complete the function maximumToys in the editor below.\n",
    "# maximumToys has the following parameter(s):\n",
    "# int prices[n]: the toy prices\n",
    "# int k: Mark's budget\n",
    "# Returns\n",
    "# int: the maximum number of toys\n",
    "# Input Format\n",
    "# The first line contains two integers,  and , the number of priced toys and the amount Mark has to spend.\n",
    "# The next line contains  space-separated integers \n",
    "# A toy can't be bought multiple times.\n",
    "# Sample Input\n",
    "# 7 50\n",
    "# 1 12 5 111 200 1000 10\n",
    "# Sample Output\n",
    "# 4\n",
    "# Explanation\n",
    "# He can buy only  toys at most. These toys have the following prices: .\n"
   ]
  },
  {
   "cell_type": "code",
   "execution_count": null,
   "metadata": {},
   "outputs": [],
   "source": [
    "# Write Python codes that calculate the digits of pascal's triangle as many as the number of digits received from the user.\n",
    "# İnput:6\n",
    "# Output:\n",
    "# [1]\n",
    "# [1, 1]\n",
    "# [1, 2, 1]\n",
    "# [1, 3, 3, 1]\n",
    "# [1, 4, 6, 4, 1]\n",
    "# [1, 5, 10, 10, 5, 1]\n"
   ]
  },
  {
   "cell_type": "code",
   "execution_count": 141,
   "metadata": {},
   "outputs": [
    {
     "name": "stdout",
     "output_type": "stream",
     "text": [
      "[10, 9, 8, 7, 6, 5, 4, 3, 2, 1] \n",
      "\n",
      "[10, 9, 8, 7, 6, 5, 4, 3, 2, 1]\n"
     ]
    }
   ],
   "source": [
    "# Create a list which consists of int numbers from 1 to 10 using range() function. Sort the numbers of the list in descending order and print the result.\n",
    "# Hint Input Outputmy_list = [4, 5, 2, 1]\n",
    "# my_list.sort()\n",
    "# print(my_list)\n",
    "# [1, 2, 4, 5]\n",
    "\n",
    "list_1 = list(range(10, 0, -1))\n",
    "print(list_1, \"\\n\")\n",
    "list_1 = list(range(1, 11))\n",
    "list_1.sort(reverse=True)\n",
    "print(list_1)"
   ]
  },
  {
   "cell_type": "code",
   "execution_count": 163,
   "metadata": {},
   "outputs": [
    {
     "name": "stdout",
     "output_type": "stream",
     "text": [
      "Please enter a number:  10\n",
      "2 3 5 7 \n",
      "\n",
      "Please enter a number:  10\n",
      "2,3,5,7\n"
     ]
    }
   ],
   "source": [
    "# Write a code to find prime number.\n",
    "num = int(input(\"Please enter a number: \"))\n",
    "prime = [2]\n",
    "for i in range(3, num + 1):\n",
    "    for j in range(2, i):\n",
    "        if i % j == 0:\n",
    "            break\n",
    "    else:\n",
    "        prime += [i]\n",
    "print(*prime, \"\\n\")\n",
    "\n",
    "num = int(input(\"Please enter a number: \"))\n",
    "prime = [2]\n",
    "for i in range(3, num + 1):\n",
    "    for j in range(2, i):\n",
    "        if i % j == 0:\n",
    "            break\n",
    "    else:\n",
    "        prime += [i]\n",
    "        \n",
    "print(\",\".join([str(k) for k in prime]))"
   ]
  },
  {
   "cell_type": "code",
   "execution_count": null,
   "metadata": {},
   "outputs": [],
   "source": [
    "# Write the python code that prints the numbers with the start value, end value and increment amount entered from the keyboard.\n"
   ]
  },
  {
   "cell_type": "code",
   "execution_count": 182,
   "metadata": {},
   "outputs": [
    {
     "name": "stdout",
     "output_type": "stream",
     "text": [
      " 1 2 1 2 1 3 2\n",
      "2 \n",
      "\n",
      "There are 3 different colors of socks and there are 4 pairs of these colors\n"
     ]
    }
   ],
   "source": [
    "# There is a large pile of socks that must be paired by color. Given an array of integers representing the color of each sock,\n",
    "# determine how many pairs of socks with matching colors there are.\n",
    "# n = 7\n",
    "# ar = [1, 2, 1 ,2 , 1, 3, 2]\n",
    "# There is one pair of color 1 and one pair of color 2. There are three odd socks left, one of each color. The number of pairs is 2.\n",
    "\n",
    "socks = list(map(int, input(\"\").split()))\n",
    "socks_dict = {}\n",
    "for i in sorted(set(socks)) :\n",
    "    socks_dict[i] = socks.count(i)\n",
    "pairs = 0\n",
    "for j in socks_dict.values() :\n",
    "    pairs += j // 2\n",
    "print(pairs, \"\\n\")\n",
    "\n",
    "sock_list = [1, 2, 1 ,2 , 1, 3, 2, 2, 3]\n",
    "sock_pair = {}\n",
    "counter = 0\n",
    "for i in set(sock_list):\n",
    "    counter +=1\n",
    "    sock_pair[i] = sock_list.count(i) // 2\n",
    "print(f\"There are {counter} different colors of socks and there are {sum(sock_pair.values())} pairs of these colors\")"
   ]
  },
  {
   "cell_type": "code",
   "execution_count": 183,
   "metadata": {},
   "outputs": [
    {
     "data": {
      "text/plain": [
       "'clrsWy'"
      ]
     },
     "execution_count": 183,
     "metadata": {},
     "output_type": "execute_result"
    }
   ],
   "source": [
    "# Write a code to remove vowels in strings\n",
    "def disemvowel(string_):\n",
    "    vowels = ['a', 'e', 'i', 'o', 'u', 'A', 'E', 'I', 'O', 'U']\n",
    "    for i in string_:\n",
    "        if i in vowels:\n",
    "            string_ = string_.replace(i, \"\")\n",
    "        elif ValueError:\n",
    "            continue\n",
    "    return string_\n",
    "disemvowel(\"clArUsWay\")"
   ]
  },
  {
   "cell_type": "code",
   "execution_count": null,
   "metadata": {},
   "outputs": [],
   "source": [
    "# Write a program that shows which letter is used how many times in the text received from the user.\n"
   ]
  },
  {
   "cell_type": "code",
   "execution_count": 198,
   "metadata": {},
   "outputs": [
    {
     "name": "stdout",
     "output_type": "stream",
     "text": [
      "Please enter a number:  10000\n",
      "37 307 317 337 347 367 397 3037 3067 3137 3167 3187 3217 3257 3307 3347 3407 3457 3467 3517 3527 3547 3557 3607 3617 3637 3677 3697 3727 3767 3797 3847 3877 3907 3917 3947 3967\n"
     ]
    }
   ],
   "source": [
    "# How many of the first 10,000 prime numbers start with 3 and end with 7?\n",
    "\n",
    "num = int(input(\"Please enter a number: \"))\n",
    "prime = []\n",
    "for i in range(2, num + 1):\n",
    "    for j in range(2, i):\n",
    "        if i % j == 0:\n",
    "            break\n",
    "    else:\n",
    "        if str(i)[0] == \"3\" and str(i)[-1] == \"7\": \n",
    "            prime += [i]\n",
    "print(*prime)"
   ]
  },
  {
   "cell_type": "code",
   "execution_count": null,
   "metadata": {},
   "outputs": [],
   "source": [
    "# How many of the 3-digit numbers are equal to the sum of the cubes of their digits?"
   ]
  },
  {
   "cell_type": "code",
   "execution_count": null,
   "metadata": {},
   "outputs": [],
   "source": [
    "# The Fibonacci sequence of numbers is a sequence of numbers whose first two terms are 1 and each subsequent term is the sum of the two preceding terms. Print the first 100 Fibonacci numbers to the screen.\n"
   ]
  },
  {
   "cell_type": "code",
   "execution_count": null,
   "metadata": {},
   "outputs": [],
   "source": [
    "# Write down the first Fibonacci number with 100 digits and what Fibonacci number it is.\n"
   ]
  },
  {
   "cell_type": "code",
   "execution_count": null,
   "metadata": {},
   "outputs": [],
   "source": [
    "55"
   ]
  },
  {
   "cell_type": "code",
   "execution_count": null,
   "metadata": {},
   "outputs": [],
   "source": [
    "# Given a string s, return the longest palindromic substring in s.\n",
    "# Example 1:\n",
    "# Input: s = \"babad\"\n",
    "# Output: \"bab\"\n",
    "# Note: \"aba\" is also a valid answer.\n",
    "# Example 2:\n",
    "# Input: s = \"cbbd\"\n",
    "# Output: \"bb\"\n",
    "# Example 3:\n",
    "# Input: s = \"a\"\n",
    "# Output: \"a\"\n",
    "# Example 4:\n",
    "# Input: s = \"ac\"\n",
    "# Output: \"a\"\n"
   ]
  },
  {
   "cell_type": "code",
   "execution_count": null,
   "metadata": {},
   "outputs": [],
   "source": [
    "# Given a string s consisting of some words separated by some number of spaces, return the length of the last word in the string.\n",
    "# A word is a maximal substring consisting of non-space characters only.\n",
    "# Example 1:\n",
    "# Input: s = \"Hello World\"\n",
    "# Output: 5\n",
    "# Explanation: The last word is \"World\" with length 5.\n",
    "# Example 2:\n",
    "# Input: s = \"   fly me   to   the moon  \"\n",
    "# Output: 4\n",
    "# Explanation: The last word is \"moon\" with length 4.\n",
    "# Example 3:\n",
    "# Input: s = \"luffy is still joyboy\"\n",
    "# Output: 6\n",
    "# Explanation: The last word is \"joyboy\" with length 6.\n"
   ]
  },
  {
   "cell_type": "code",
   "execution_count": null,
   "metadata": {},
   "outputs": [],
   "source": [
    "# You are given two non-empty linked lists representing two non-negative integers. The digits are stored in reverse order, and each of their nodes contains a single digit. Add the two numbers and return the sum as a linked list.\n",
    "# You may assume the two numbers do not contain any leading zero, except the number 0 itself.\n",
    "# Example 1:\n",
    "# Input: l1 = [2,4,3], l2 = [5,6,4]\n",
    "# Output: [7,0,8]\n",
    "# Explanation: 342 + 465 = 807.\n",
    "# Example 2:\n",
    "# Input: l1 = [0], l2 = [0]\n",
    "# Output: [0]\n",
    "# Example 3:\n",
    "# Input: l1 = [9,9,9,9,9,9,9], l2 = [9,9,9,9]\n",
    "# Output: [8,9,9,9,0,0,0,1]\n"
   ]
  },
  {
   "cell_type": "code",
   "execution_count": null,
   "metadata": {},
   "outputs": [],
   "source": [
    "# Write a program that square every digit of a number and concatenate them.\n",
    "# For example, if we run 9119 through the function, 811181 will come out, because 92 is 81 and 12 is 1.\n"
   ]
  },
  {
   "cell_type": "code",
   "execution_count": null,
   "metadata": {},
   "outputs": [],
   "source": [
    "# Write a program that  given a string and replace every letter with its position in the alphabet.\n",
    "# If anything in the text isn't a letter, ignore it and don't return it.\n",
    "# \"a\" = 1, \"b\" = 2, etc.\n",
    "# Example alphabet_position(\"The sunset sets at twelve o' clock.\") Should return \"20 8 5 19 21 14 19 5 20 19 5 20 19 1 20 20 23 5 12 22 5 15 3 12 15 3 11\"\n",
    "#  (NOTE:as a string)\n"
   ]
  },
  {
   "cell_type": "code",
   "execution_count": null,
   "metadata": {},
   "outputs": [],
   "source": [
    "# Given a string s, return True if s is a good string, or False otherwise.\n",
    "# A string s is good if all the characters that appear in s have the same number of occurrences (i.e., the same frequency).\n",
    "# Example 1:\n",
    "# Input: s = \"abacbc\"\n",
    "# Output: True\n",
    "# Explanation: The characters that appear in s are 'a', 'b', and 'c'. All characters occur 2 times in s.\n",
    "# Example 2:\n",
    "# Input: s = \"aaabb\"\n",
    "# Output: False\n",
    "# Explanation: The characters that appear in s are 'a' and 'b'.\n",
    "# 'a' occurs 3 times while 'b' occurs 2 times, which is not the same number of times.\n"
   ]
  },
  {
   "cell_type": "code",
   "execution_count": null,
   "metadata": {},
   "outputs": [],
   "source": [
    "# A square triple (a,b,c) is a triple where a, b, and c are integers and a2 + b2 = c2.\n",
    "# Given an integer n, return the number of square triples such that 1 <= a, b, c <= n.\n",
    "# Example 1:\n",
    "# Input: n = 5\n",
    "# Output: 2\n",
    "# Explanation: The square triples are (3,4,5) and (4,3,5).\n",
    "# Example 2:\n",
    "# Input: n = 10\n",
    "# Output: 4\n",
    "# Explanation: The square triples are (3,4,5), (4,3,5), (6,8,10), and (8,6,10).\n"
   ]
  },
  {
   "cell_type": "code",
   "execution_count": null,
   "metadata": {},
   "outputs": [],
   "source": [
    "# Lets make a username and password to login an account.\n",
    "# Firstly define the username and password then take inputs for this two argument from user.\n",
    "# Design python program 3 possibilities that first one is True user name and password, \n",
    "# second is wrong username input and third is wrong password input. Then finish with try again output\n"
   ]
  },
  {
   "cell_type": "code",
   "execution_count": null,
   "metadata": {},
   "outputs": [],
   "source": [
    "# In a small town the population is p0 = 1000 at the beginning of a year. The population regularly increases by 2 percent per year and moreover 50 new inhabitants per year come to live in the town. \n",
    "# How many years does the town need to see its population greater or equal to p = 1200 inhabitants?\n"
   ]
  },
  {
   "cell_type": "code",
   "execution_count": null,
   "metadata": {},
   "outputs": [],
   "source": [
    "# Write a function that takes in a string of one or more words, and returns the same string, but with all five or more letter words reversed .\n",
    "# Strings passed in will consist of only letters and spaces.\n",
    "# Spaces will be included only when more than one word is present.\n",
    "# Examples:\n",
    "# spinWords(\"Hey fellow warriors\") => \"Hey wollef sroirraw\" \n",
    "# spinWords(\"This is a test\") => \"This is a test\" \n",
    "# spinWords(\"This is another test\") => \"This is rehtona test\"\n"
   ]
  },
  {
   "cell_type": "code",
   "execution_count": null,
   "metadata": {},
   "outputs": [],
   "source": [
    "# A pangram is a sentence that contains every single letter of the alphabet at least once. For example, the sentence \n",
    "# \"The quick brown fox jumps over the lazy dog\" is a pangram, because it uses the letters A-Z at least once (case is irrelevant).\n",
    "# Given a string, detect whether or not it is a pangram. Return True if it is, False if not. Ignore numbers and punctuation.\n"
   ]
  },
  {
   "cell_type": "code",
   "execution_count": null,
   "metadata": {},
   "outputs": [],
   "source": [
    "# Don't use any module or library for question solution\n",
    "# Given an integer n, return True if it is a power of two. Otherwise, return False.\n",
    "# An integer n is a power of two, if there exists an integer x such that n == 2x.\n",
    "# Example 1:\n",
    "# Input: n = 1\n",
    "# Output: true\n",
    "# Explanation: 2**0 = 1\n",
    "# Example 2:\n",
    "# Input: n = 16\n",
    "# Output: True\n",
    "# Explanation: 2**4 = 16\n",
    "# Example 3:\n",
    "# Input: n = 3\n",
    "# Output: False\n",
    "# Example 4:\n",
    "# Input: n = 4\n",
    "# Output: True\n",
    "# Example 5:\n",
    "# Input: n = 5\n",
    "# Output: False\n"
   ]
  },
  {
   "cell_type": "code",
   "execution_count": null,
   "metadata": {},
   "outputs": [],
   "source": [
    "# Your task is to construct a building which will be a pile of n cubes. The cube at the bottom will have a volume of n^3, the cube above will have volume of (n-1)^3 and so on until the top which will have a volume of 1^3.\n",
    "# You are given the total volume m of the building. Being given m can you find the number n of cubes you will have to build?\n",
    "# The parameter of the function findNb (find_nb, find-nb, findNb, ...) will be an integer m and you have to return the integer n such as n^3 + (n-1)^3 + ... + 1^3 = m if such a n exists or -1 if there is no such n.\n",
    "# Examples:\n",
    "# findNb(1071225) --> 45\n",
    "# findNb(91716553919377) --> -1\n"
   ]
  },
  {
   "cell_type": "code",
   "execution_count": null,
   "metadata": {},
   "outputs": [],
   "source": [
    "# You are keeping score for a baseball game with strange rules. The game consists of several rounds, where the scores of past rounds may affect future rounds' scores.\n",
    "# At the beginning of the game, you start with an empty record. You are given a list of strings ops, where ops[i] is the i th operation you must apply to the record and is one of the following:\n",
    "# An integer x - Record a new score of x.\n",
    "# \"+\" - Record a new score that is the sum of the previous two scores. It is guaranteed there will always be two previous scores.\n",
    "# \"D\" - Record a new score that is double the previous score. It is guaranteed there will always be a previous score.\n",
    "# \"C\" - Invalidate the previous score, removing it from the record. It is guaranteed there will always be a previous score.\n",
    "# Return the sum of all the scores on the record.\n",
    "# Example :\n",
    "# Input: ops = [\"5\",\"-2\",\"4\",\"C\",\"D\",\"9\",\"+\",\"+\"]\n",
    "# Output: 27\n",
    "# Explanation:\n",
    "# \"5\" - Add 5 to the record, record is now [5].\n",
    "# \"-2\" - Add -2 to the record, record is now [5, -2].\n",
    "# \"4\" - Add 4 to the record, record is now [5, -2, 4].\n",
    "# \"C\" - Invalidate and remove the previous score, record is now [5, -2].\n",
    "# \"D\" - Add 2 * -2 = -4 to the record, record is now [5, -2, -4].\n",
    "# \"9\" - Add 9 to the record, record is now [5, -2, -4, 9].\n",
    "# \"+\" - Add -4 + 9 = 5 to the record, record is now [5, -2, -4, 9, 5].\n",
    "# \"+\" - Add 9 + 5 = 14 to the record, record is now [5, -2, -4, 9, 5, 14].\n",
    "# The total sum is 5 + -2 + -4 + 9 + 5 + 14 = 27.\n"
   ]
  },
  {
   "cell_type": "code",
   "execution_count": null,
   "metadata": {},
   "outputs": [],
   "source": [
    "# Given a string s, find the first non-repeating character in it and return its index. If it does not exist, return -1.\n",
    "# Example 1:\n",
    "# Input: s = \"leetcode\"\n",
    "# Output: 0\n",
    "# Example 2:\n",
    "# Input: s = \"loveleetcode\"\n",
    "# Output: 2\n",
    "# Example 3:\n",
    "# Input: s = \"aabb\"\n",
    "# Output: -1\n"
   ]
  },
  {
   "cell_type": "code",
   "execution_count": null,
   "metadata": {},
   "outputs": [],
   "source": [
    "# Alice has n candies, where the ith candy is of type candyType[i]. Alice noticed that she started to gain weight, so she visited a doctor.\n",
    "# The doctor advised Alice to only eat n / 2 of the candies she has (n is always even). Alice likes her candies very much, and she wants to eat the maximum number of different types of candies while still following the doctor's advice.\n",
    "# Given the integer array candyType of length n, return the maximum number of different types of candies she can eat if she only eats n / 2 of them.\n",
    "# Example 1:\n",
    "# Input: candyType = [1,1,2,2,3,3]\n",
    "# Output: 3\n",
    "# Explanation: Alice can only eat 6 / 2 = 3 candies. Since there are only 3 types, she can eat one of each type.\n",
    "# Example 2:\n",
    "# Input: candyType = [1,1,2,3]\n",
    "# Output: 2\n",
    "# Explanation: Alice can only eat 4 / 2 = 2 candies. Whether she eats types [1,2], [1,3], or [2,3], she still can only eat 2 different types.\n",
    "# Example 3:\n",
    "# Input: candyType = [6,6,6,6]\n",
    "# Output: 1\n",
    "# Explanation: Alice can only eat 4 / 2 = 2 candies. Even though she can eat 2 candies, she only has 1 type.\n"
   ]
  },
  {
   "cell_type": "code",
   "execution_count": null,
   "metadata": {},
   "outputs": [],
   "source": [
    "# Complete the solution so that the function will break up camel casing, using a space between words.\n",
    "# Example\n",
    "# \"camelCasing\"     =>  \"camel Casing\"\n",
    "# \"identifier\"      =>  \"identifier\"\n",
    "# \"\"                =>  \"\"\n",
    "# \"breakCamelCase\"  => \"break Camel Case\"\n"
   ]
  },
  {
   "cell_type": "code",
   "execution_count": null,
   "metadata": {},
   "outputs": [],
   "source": [
    "# The squirrels in Palo Alto spend most of the day playing. In particular, they play if the temperature is between 60 and 90 (inclusive). Unless it is summer, then the upper limit is 100 instead of 90. \n",
    "# Given an int temperature and a boolean is_summer, return True if the squirrels play and False otherwise.\n",
    "# (70, False) → True\n",
    "# (95, False) → False\n",
    "# (95, True) → True\n"
   ]
  },
  {
   "cell_type": "code",
   "execution_count": 40,
   "metadata": {},
   "outputs": [],
   "source": [
    "# We define a harmonious array as an array where the difference between its maximum value and its minimum value is exactly 1.\n",
    "# Given an integer array nums, return the length of its longest harmonious subsequence among all its possible subsequences.\n",
    "# A subsequence of array is a sequence that can be derived from the array by deleting some or no elements without changing the order of the remaining elements.\n",
    "# Example 1:\n",
    "# Input: nums = [1,3,2,2,5,2,3,7]\n",
    "# Output: 5\n",
    "# Explanation: The longest harmonious subsequence is [3,2,2,2,3].\n",
    "# Example 2:\n",
    "# Input: nums = [1,2,3,4]\n",
    "# Output: 2\n",
    "# Example 3:\n",
    "# Input: nums = [1,1,1,1]\n",
    "# Output: 0\n",
    "\n",
    "nums = [1,3,2,2,5,2,3,7]\n",
    "result = 0\n",
    "counts = {}\n",
    "for i in nums:\n",
    "    if i in counts:\n",
    "        counts[i] += 1\n",
    "    else:\n",
    "        counts[i] = 1\n",
    "    plus = i + 1\n",
    "    minus = i - 1\n",
    "    if minus in counts:\n",
    "        result = max(result, counts[i] + counts[minus])\n",
    "    if plus in counts:\n",
    "        result = max(result, counts[i] + counts[plus])\n",
    "print(result)"
   ]
  },
  {
   "cell_type": "code",
   "execution_count": 103,
   "metadata": {},
   "outputs": [
    {
     "name": "stdout",
     "output_type": "stream",
     "text": [
      "The 2nd customer is the richest with a wealth of 10.\n"
     ]
    }
   ],
   "source": [
    "# You are given an m x n integer grid accounts where accounts[i][j] is the amount of money the i​​​​​​​​​​​th customer has in the j​​​​​​​​​​​th bank.\n",
    "# Return the wealth that the richest customer has.\n",
    "# A customer's wealth is the amount of money they have in all their bank accounts. The richest customer is the customer that has the maximum wealth.\n",
    "# Example 1:\n",
    "# Input: accounts = [[1,2,3],[3,2,1]]\n",
    "# Output: 6\n",
    "# Explanation:\n",
    "# 1st customer has wealth = 1 + 2 + 3 = 6\n",
    "# 2nd customer has wealth = 3 + 2 + 1 = 6\n",
    "# Both customers are considered the richest with a wealth of 6 each, so return 6.\n",
    "# Example 2:\n",
    "# Input: accounts = [[1,5],[7,3],[3,5]]\n",
    "# Output: 10\n",
    "# Explanation: \n",
    "# 1st customer has wealth = 6\n",
    "# 2nd customer has wealth = 10 \n",
    "# 3rd customer has wealth = 8\n",
    "# The 2nd customer is the richest with a wealth of 10.\n",
    "\n",
    "accounts = [[1,5],[7,3],[3,5]]\n",
    "richest = []\n",
    "order_dict = {1 : '1st', 2 : '2nd', 3 : '3rd'}\n",
    "for i in accounts:\n",
    "    richest.append(sum(i))\n",
    "if len(set(richest)) == 1:\n",
    "    print(\"All customers are richest with a wealth of {} each\".format(richest[0]))\n",
    "else:\n",
    "    print(f\"The {order_dict[int(richest.index(max(richest)) + 1)]} customer is the richest with a wealth of {max(richest)}.\")\n"
   ]
  },
  {
   "cell_type": "code",
   "execution_count": null,
   "metadata": {},
   "outputs": [],
   "source": []
  }
 ],
 "metadata": {
  "kernelspec": {
   "display_name": "Python 3",
   "language": "python",
   "name": "python3"
  },
  "language_info": {
   "codemirror_mode": {
    "name": "ipython",
    "version": 3
   },
   "file_extension": ".py",
   "mimetype": "text/x-python",
   "name": "python",
   "nbconvert_exporter": "python",
   "pygments_lexer": "ipython3",
   "version": "3.8.8"
  }
 },
 "nbformat": 4,
 "nbformat_minor": 4
}
