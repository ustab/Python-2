{
 "cells": [
  {
   "cell_type": "code",
   "execution_count": null,
   "id": "e0fce7c4-8d1e-4d05-9ad1-72408057ec2f",
   "metadata": {},
   "outputs": [],
   "source": []
  },
  {
   "cell_type": "code",
   "execution_count": null,
   "id": "f0f420fa-07d6-431a-b85b-3c67e77260de",
   "metadata": {},
   "outputs": [],
   "source": []
  },
  {
   "cell_type": "code",
   "execution_count": 6,
   "id": "02120ff5-6199-412c-8700-f8c50f13a4c7",
   "metadata": {},
   "outputs": [
    {
     "name": "stdin",
     "output_type": "stream",
     "text": [
      "Please enter first number:  2\n",
      "Please enter second number:  3\n",
      "Please enter third number:  4\n"
     ]
    },
    {
     "name": "stdout",
     "output_type": "stream",
     "text": [
      "the reult is: 24 \n"
     ]
    }
   ],
   "source": [
    "num1 = int(input(\"Please enter first number: \"))\n",
    "\n",
    "num2 = int(input(\"Please enter second number: \"))\n",
    "\n",
    "num3 = int(input(\"Please enter third number: \"))\n",
    "\n",
    "result = num1 * num2 * num3\n",
    "print (\"the reult is: {} \".format(result))\n",
    "\n",
    "\n"
   ]
  },
  {
   "cell_type": "code",
   "execution_count": 7,
   "id": "f3e1c586-38da-4e47-9a2c-258df2e35aeb",
   "metadata": {},
   "outputs": [
    {
     "name": "stdin",
     "output_type": "stream",
     "text": [
      "Enter your height in m:  1.72\n",
      "Enter your weight in kg:  85\n"
     ]
    },
    {
     "name": "stdout",
     "output_type": "stream",
     "text": [
      "28.73174689021093\n"
     ]
    }
   ],
   "source": [
    "height = float(input(\"Enter your height in m: \"))\n",
    "weight = int(input(\"Enter your weight in kg: \"))\n",
    "BMI = weight / (height**2)\n",
    "print(BMI)"
   ]
  },
  {
   "cell_type": "code",
   "execution_count": 14,
   "id": "a63e54d4-7bfe-4cd0-a7e2-e5279f2d71fc",
   "metadata": {},
   "outputs": [
    {
     "name": "stdout",
     "output_type": "stream",
     "text": [
      "You bought 18 items and you have 2.0 $ left\n"
     ]
    }
   ],
   "source": [
    "total_amount = 200\n",
    "each_cost = 11\n",
    "number_of_items = 200 // 11\n",
    "amount_left = float(200 % 11)\n",
    "print(\"You bought {} items and you have {} $ left\".format(number_of_items, amount_left))\n"
   ]
  },
  {
   "cell_type": "code",
   "execution_count": 15,
   "id": "d5e22ef5-3eeb-4090-a209-eb35b70792ea",
   "metadata": {},
   "outputs": [
    {
     "name": "stdin",
     "output_type": "stream",
     "text": [
      "enter a number 3\n",
      "enter a number 5\n"
     ]
    },
    {
     "name": "stdout",
     "output_type": "stream",
     "text": [
      "3 5\n",
      "5 3\n"
     ]
    }
   ],
   "source": [
    "a = int(input(\"enter a number\"))\n",
    "b = int(input(\"enter a number\"))\n",
    "\n",
    "print(a,b)\n",
    "\n",
    "a,b = b,a\n",
    "print(a,b)"
   ]
  },
  {
   "cell_type": "code",
   "execution_count": 1,
   "id": "0400c5a0-5090-418a-80e9-b42ef5771541",
   "metadata": {},
   "outputs": [
    {
     "name": "stdout",
     "output_type": "stream",
     "text": [
      "20\n"
     ]
    }
   ],
   "source": [
    "result = f\"{4 * 5}\"  # f format kume icinde islemi yapabilir\n",
    "\n",
    "print(result)"
   ]
  },
  {
   "cell_type": "code",
   "execution_count": 3,
   "id": "2e9a5dad-980b-4e5f-bb03-18e0d91076f7",
   "metadata": {},
   "outputs": [
    {
     "name": "stdout",
     "output_type": "stream",
     "text": [
      "[4 * 5]\n"
     ]
    }
   ],
   "source": [
    "result = f\"[4 * 5]\"  # f format liste icinde islemi yapamaz\n",
    "\n",
    "print(result)"
   ]
  },
  {
   "cell_type": "code",
   "execution_count": 4,
   "id": "9d3f8f77-ed81-4f2e-8faa-8f7d35f372de",
   "metadata": {},
   "outputs": [
    {
     "name": "stdout",
     "output_type": "stream",
     "text": [
      "(4 * 5)\n"
     ]
    }
   ],
   "source": [
    "result = f\"(4 * 5)\"   # f format tuple icinde islemi yapamaz\n",
    "\n",
    "print(result)"
   ]
  },
  {
   "cell_type": "code",
   "execution_count": 5,
   "id": "187343b3-ab9f-4f59-8f56-6e1a8720a1eb",
   "metadata": {},
   "outputs": [
    {
     "name": "stdout",
     "output_type": "stream",
     "text": [
      "20\n"
     ]
    }
   ],
   "source": [
    "result = 4 * 5\n",
    "print(result)"
   ]
  },
  {
   "cell_type": "code",
   "execution_count": 6,
   "id": "fe412413-bb83-498a-8959-e2b880b827e5",
   "metadata": {},
   "outputs": [
    {
     "name": "stdout",
     "output_type": "stream",
     "text": [
      "Hi Joseph. You are one of the teachers in the Data Science section.\n"
     ]
    }
   ],
   "source": [
    "name = \"Joseph\"\n",
    "job = \"teachers\"\n",
    "domain = \"Data Science\"\n",
    "message = (\n",
    "     f\"Hi {name}. \"\n",
    "     f\"You are one of the {job} \"\n",
    "     f\"in the {domain} section.\"\n",
    ")\n",
    "print(message)"
   ]
  },
  {
   "cell_type": "code",
   "execution_count": 7,
   "id": "bca918da-7184-4df5-817b-7bfa79f0d965",
   "metadata": {},
   "outputs": [
    {
     "name": "stdout",
     "output_type": "stream",
     "text": [
      "Hi Joseph. You are one of the teachers in the Data Science section.\n"
     ]
    }
   ],
   "source": [
    "name = \"Joseph\"\n",
    "job = \"teachers\"\n",
    "domain = \"Data Science\"\n",
    "message = f\"Hi {name}. \" \\\n",
    "     f\"You are one of the {job} \" \\\n",
    "     f\"in the {domain} section.\"\n",
    "\n",
    "print(message)"
   ]
  },
  {
   "cell_type": "code",
   "execution_count": null,
   "id": "869e901a-6d19-4e86-bc37-f2ed9849ce45",
   "metadata": {},
   "outputs": [],
   "source": []
  }
 ],
 "metadata": {
  "kernelspec": {
   "display_name": "Python 3",
   "language": "python",
   "name": "python3"
  },
  "language_info": {
   "codemirror_mode": {
    "name": "ipython",
    "version": 3
   },
   "file_extension": ".py",
   "mimetype": "text/x-python",
   "name": "python",
   "nbconvert_exporter": "python",
   "pygments_lexer": "ipython3",
   "version": "3.8.8"
  }
 },
 "nbformat": 4,
 "nbformat_minor": 5
}
