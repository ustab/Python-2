{
 "cells": [
  {
   "cell_type": "code",
   "execution_count": 1,
   "id": "4c6f4d36-b77d-46b9-a32c-74967431e037",
   "metadata": {},
   "outputs": [
    {
     "name": "stdin",
     "output_type": "stream",
     "text": [
      "Enter Celcius degree:  36\n"
     ]
    },
    {
     "name": "stdout",
     "output_type": "stream",
     "text": [
      "Fahrenheit_degree : 96.8\n"
     ]
    }
   ],
   "source": [
    "Celcius_degree = float(input(\"Enter Celcius degree: \"))\n",
    "Fahrenheit_degree = Celcius_degree * 9 / 5 + 32\n",
    "print(\"Fahrenheit_degree :\", Fahrenheit_degree)\n"
   ]
  },
  {
   "cell_type": "code",
   "execution_count": 2,
   "id": "9506838f-2db0-4616-929c-41eb90cd153f",
   "metadata": {},
   "outputs": [
    {
     "name": "stdin",
     "output_type": "stream",
     "text": [
      "Enter kilometer: 100\n"
     ]
    },
    {
     "name": "stdout",
     "output_type": "stream",
     "text": [
      "Mile: 62.13711922373339\n"
     ]
    }
   ],
   "source": [
    "kilometer = int(input(\"Enter kilometer:\"))\n",
    "mile = kilometer / 1.609344\n",
    "print(\"Mile:\", mile)"
   ]
  },
  {
   "cell_type": "code",
   "execution_count": 3,
   "id": "fcf66a05-9f4b-4dca-a5cb-cebe408f1cf4",
   "metadata": {},
   "outputs": [
    {
     "name": "stdin",
     "output_type": "stream",
     "text": [
      "Are you a cigarette addict older than 75 years old? yes or no : no\n",
      "Do you have a severe chronic disease? yes or no : no\n",
      "Is your immune system too weak? yes or no : no\n"
     ]
    },
    {
     "name": "stdout",
     "output_type": "stream",
     "text": [
      "Your Covid-19 risk is: no\n"
     ]
    }
   ],
   "source": [
    "age = input(\"Are you a cigarette addict older than 75 years old? yes or no :\")\n",
    "chronic = input(\"Do you have a severe chronic disease? yes or no :\")\n",
    "immune = input(\"Is your immune system too weak? yes or no :\")\n",
    "yes = True\n",
    "no = False\n",
    "risk = age or chronic or immune\n",
    "print(\"Your Covid-19 risk is: \" + risk)"
   ]
  },
  {
   "cell_type": "code",
   "execution_count": 4,
   "id": "86b7895a-3160-4d7b-8719-f5b05537cbea",
   "metadata": {},
   "outputs": [
    {
     "name": "stdin",
     "output_type": "stream",
     "text": [
      "Please enter first number:  2\n",
      "Please enter second number:  3\n",
      "Please enter third number:  4\n"
     ]
    },
    {
     "name": "stdout",
     "output_type": "stream",
     "text": [
      "the reult is: 24 \n"
     ]
    }
   ],
   "source": [
    "num1 = int(input(\"Please enter first number: \"))\n",
    "\n",
    "num2 = int(input(\"Please enter second number: \"))\n",
    "\n",
    "num3 = int(input(\"Please enter third number: \"))\n",
    "\n",
    "result = num1 * num2 * num3\n",
    "print (\"the reult is: {} \".format(result))\n"
   ]
  },
  {
   "cell_type": "code",
   "execution_count": 5,
   "id": "f9be0569-fcd3-47b6-be51-8a9bc0526adf",
   "metadata": {},
   "outputs": [
    {
     "name": "stdout",
     "output_type": "stream",
     "text": [
      "1605.7814764784307\n"
     ]
    }
   ],
   "source": [
    "money = 1000\n",
    "reach = money*1.07**7\n",
    "print(reach)"
   ]
  },
  {
   "cell_type": "code",
   "execution_count": 7,
   "id": "a77db4b2-028e-44ea-82d7-f94ee711b1a8",
   "metadata": {},
   "outputs": [
    {
     "name": "stdout",
     "output_type": "stream",
     "text": [
      "Clarusway, Clarusway, Clarusway, \n",
      "\tClarusway, Clarusway, Clarusway, \n",
      "\t\tClarusway, Clarusway, Clarusway\n"
     ]
    }
   ],
   "source": [
    "text = \"Clarusway, ...............\"\n",
    "text = \"Clarusway, Clarusway, Clarusway, \\n\\tClarusway, Clarusway, Clarusway, \\n\\t\\tClarusway, Clarusway, Clarusway\"\n",
    "print(text)"
   ]
  },
  {
   "cell_type": "markdown",
   "id": "d08f88bd-9505-4d34-b312-301c53652196",
   "metadata": {},
   "source": [
    "\n",
    "\n",
    "\n",
    "\n",
    "\n",
    "************Armstrong number **************\n"
   ]
  },
  {
   "cell_type": "code",
   "execution_count": 1,
   "id": "053a293f-2952-4182-a8cf-0d7c1b92b13a",
   "metadata": {},
   "outputs": [
    {
     "name": "stdin",
     "output_type": "stream",
     "text": [
      "Enter a positive integer number :  4679307774\n"
     ]
    },
    {
     "name": "stdout",
     "output_type": "stream",
     "text": [
      "4679307774  is an Armstrong number\n"
     ]
    }
   ],
   "source": [
    "while True :   # Armstrong sayisi girene kadar surekli sayi istemesi icin while dongusu ile basladik\n",
    "    number = input(\"Enter a positive integer number : \")\n",
    "    digits = len(number)\n",
    "    summ = 0\n",
    "    \n",
    "    if  not number.isdigit() :\n",
    "        print(number, \" is invalid entry. Enter valid input. \")\n",
    "        \n",
    "    elif int(number) >= 0 :\n",
    "        for i in range(digits) :\n",
    "            summ = summ + int(number[i]) ** digits\n",
    "            \n",
    "        if summ == int(number) :\n",
    "            print(number, \" is an Armstrong number\")\n",
    "            break \n",
    "        \n",
    "        else :\n",
    "            print(number, \" is not an Armstrong number\")\n",
    "            break\n",
    "        "
   ]
  },
  {
   "cell_type": "code",
   "execution_count": null,
   "id": "97491a9a-f9a3-408e-9171-2a654d432fe0",
   "metadata": {},
   "outputs": [],
   "source": []
  },
  {
   "cell_type": "markdown",
   "id": "04df9bd7-30e0-452c-8ac4-5437510e53d5",
   "metadata": {},
   "source": [
    "**************Prime Numbers****************"
   ]
  },
  {
   "cell_type": "code",
   "execution_count": 6,
   "id": "a2435c0a-e902-4c13-a630-fdcb5a1e29a3",
   "metadata": {},
   "outputs": [
    {
     "name": "stdin",
     "output_type": "stream",
     "text": [
      "Enter a positive number to check if it is a prime number :  11\n"
     ]
    },
    {
     "name": "stdout",
     "output_type": "stream",
     "text": [
      "11  is a prime number\n"
     ]
    }
   ],
   "source": [
    "n = int(input(\"Enter a positive number to check if it is a prime number : \"))\n",
    "\n",
    "counter = 0\n",
    "\n",
    "for i in range(1, n+1) :\n",
    "    if n % i == 0 :\n",
    "        counter += 1\n",
    "        \n",
    "if (n == 0) or (n == 1) or (counter >= 3) :\n",
    "    print(n, \" is a not prime number\")\n",
    "    \n",
    "else :\n",
    "    print(n, \" is a prime number\")\n"
   ]
  },
  {
   "cell_type": "code",
   "execution_count": null,
   "id": "193c0c1a-860a-4005-90f9-b6276e06aeb4",
   "metadata": {},
   "outputs": [],
   "source": []
  }
 ],
 "metadata": {
  "kernelspec": {
   "display_name": "Python 3",
   "language": "python",
   "name": "python3"
  },
  "language_info": {
   "codemirror_mode": {
    "name": "ipython",
    "version": 3
   },
   "file_extension": ".py",
   "mimetype": "text/x-python",
   "name": "python",
   "nbconvert_exporter": "python",
   "pygments_lexer": "ipython3",
   "version": "3.8.8"
  }
 },
 "nbformat": 4,
 "nbformat_minor": 5
}
