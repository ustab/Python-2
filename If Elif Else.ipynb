{
 "cells": [
  {
   "cell_type": "code",
   "execution_count": 1,
   "id": "e671c58c-6671-4c36-a8de-836cbda05a11",
   "metadata": {},
   "outputs": [
    {
     "name": "stdout",
     "output_type": "stream",
     "text": [
      "No such audience, stay at your home!\n"
     ]
    }
   ],
   "source": [
    "audience = \"baby\"\n",
    "\n",
    "if audience == \"kid\":\n",
    "    print(\"it is free to go to cinema\")\n",
    "elif audience == \"teen\":\n",
    "    print(\"discounted price!\")\n",
    "elif audience == \"adult\":\n",
    "    print(\"normal price\")\n",
    "else:\n",
    "    print(\"No such audience, stay at your home!\")"
   ]
  },
  {
   "cell_type": "code",
   "execution_count": 2,
   "id": "84b61fdf-8aac-449a-8806-0848cf076033",
   "metadata": {},
   "outputs": [
    {
     "name": "stdout",
     "output_type": "stream",
     "text": [
      "discounted price!\n"
     ]
    }
   ],
   "source": [
    "audience_group = 'kid', 'teen', 'adult'\n",
    "\n",
    "audience = \"teen\"\n",
    "\n",
    "if audience in audience_group:\n",
    "    if audience == \"kid\":\n",
    "        print(\"it is free to go to cinema\")\n",
    "    elif audience == \"teen\":\n",
    "        print(\"discounted price!\")\n",
    "    else: # audience == \"adult\":\n",
    "        print(\"normal price\")\n",
    "else:\n",
    "    print(\"No such audience, stay at your home!\")"
   ]
  },
  {
   "cell_type": "code",
   "execution_count": 3,
   "id": "7e899359-3aaa-4b22-b05d-1fb3f98770a2",
   "metadata": {},
   "outputs": [
    {
     "name": "stdout",
     "output_type": "stream",
     "text": [
      "0\n",
      "1\n",
      "2\n",
      "3\n",
      "4\n",
      "5\n",
      "now, number is bigger or equal to 6\n"
     ]
    }
   ],
   "source": [
    "number = 0\n",
    "\n",
    "while number < 6:\n",
    "    print(number)\n",
    "    number += 1\n",
    "print('now, number is bigger or equal to 6')"
   ]
  },
  {
   "cell_type": "code",
   "execution_count": 4,
   "id": "f9cecdbe-1e4e-4ad7-906f-04eb4444a570",
   "metadata": {},
   "outputs": [
    {
     "name": "stdout",
     "output_type": "stream",
     "text": [
      "square of 0 is : 0\n",
      "square of 1 is : 1\n",
      "square of 2 is : 4\n",
      "square of 3 is : 9\n",
      "square of 4 is : 16\n"
     ]
    }
   ],
   "source": [
    "my_list=[\"a\", \"b\", \"c\", \"d\", \"e\"]\n",
    "\n",
    "a = 0\n",
    "\n",
    "while a < len(my_list):\n",
    "    print('square of {} is : {}'.format(a, a**2))\n",
    "    a+=1"
   ]
  },
  {
   "cell_type": "code",
   "execution_count": 5,
   "id": "a6389828-d397-4c51-9bd2-5b8d20ac1cd4",
   "metadata": {},
   "outputs": [
    {
     "name": "stdout",
     "output_type": "stream",
     "text": [
      "Let's play the guessing game!\n"
     ]
    },
    {
     "name": "stdin",
     "output_type": "stream",
     "text": [
      "What number am I thinking of?   44\n"
     ]
    },
    {
     "name": "stdout",
     "output_type": "stream",
     "text": [
      "Are you a MINDREADER!!!\n"
     ]
    }
   ],
   "source": [
    "answer = 44\n",
    "\n",
    "question = 'What number am I thinking of?  '\n",
    "print (\"Let's play the guessing game!\")\n",
    "\n",
    "while True:\n",
    "    guess = int(input(question))\n",
    "\n",
    "    if guess < answer:\n",
    "        print('Little higher')\n",
    "    elif guess > answer:\n",
    "        print('Little lower')\n",
    "    else:  # guess == answer\n",
    "        print('Are you a MINDREADER!!!')\n",
    "        break"
   ]
  },
  {
   "cell_type": "code",
   "execution_count": 6,
   "id": "bcde7ad5-0460-49b5-8987-b531f36ed6c8",
   "metadata": {},
   "outputs": [
    {
     "ename": "SyntaxError",
     "evalue": "invalid syntax (<ipython-input-6-f3ee05bdf74b>, line 2)",
     "output_type": "error",
     "traceback": [
      "\u001b[1;36m  File \u001b[1;32m\"<ipython-input-6-f3ee05bdf74b>\"\u001b[1;36m, line \u001b[1;32m2\u001b[0m\n\u001b[1;33m    count1 = len(....)\u001b[0m\n\u001b[1;37m                     ^\u001b[0m\n\u001b[1;31mSyntaxError\u001b[0m\u001b[1;31m:\u001b[0m invalid syntax\n"
     ]
    }
   ],
   "source": [
    "flowers = ['Rose', 'Orchid', 'Tulip']\n",
    "count1 = len(....)\n",
    "count2 = ...\n",
    "\n",
    "while count...>0 :\n",
    "    print(flowers[....])\n",
    "    count... -= ...\n",
    "    count... += ..."
   ]
  },
  {
   "cell_type": "code",
   "execution_count": 7,
   "id": "e29da0bd-b786-46a1-8fe9-b63b19256d1e",
   "metadata": {},
   "outputs": [],
   "source": [
    "sayilar = [1,2,3,4,5]"
   ]
  },
  {
   "cell_type": "code",
   "execution_count": 8,
   "id": "a48a62eb-1ea6-45c2-b7f5-f2fabcc16743",
   "metadata": {},
   "outputs": [
    {
     "data": {
      "text/plain": [
       "False"
      ]
     },
     "execution_count": 8,
     "metadata": {},
     "output_type": "execute_result"
    }
   ],
   "source": [
    "a = 3\n",
    "b = 0\n",
    "b > a"
   ]
  },
  {
   "cell_type": "code",
   "execution_count": 9,
   "id": "efa7e60c-a8f7-485e-a468-4695d88968e9",
   "metadata": {},
   "outputs": [
    {
     "name": "stdout",
     "output_type": "stream",
     "text": [
      "hello\n",
      "print me all cases\n"
     ]
    }
   ],
   "source": [
    "if \"0\":\n",
    "    print(\"hello\")\n",
    "print(\"print me all cases\")    "
   ]
  },
  {
   "cell_type": "code",
   "execution_count": 13,
   "id": "eb7d9280-a42a-41d2-8277-55d21595c946",
   "metadata": {},
   "outputs": [
    {
     "name": "stdout",
     "output_type": "stream",
     "text": [
      "print me all cases\n"
     ]
    }
   ],
   "source": [
    "if \"0\" and '': # if sonucu True olursa conditional'i calistirir    \n",
    "    print(\"hello\") \n",
    "print(\"print me all cases\")"
   ]
  },
  {
   "cell_type": "code",
   "execution_count": 14,
   "id": "726176d2-022f-42e5-9eb7-5c277929e989",
   "metadata": {},
   "outputs": [
    {
     "name": "stdout",
     "output_type": "stream",
     "text": [
      "print me all cases\n"
     ]
    }
   ],
   "source": [
    "if 0 or \"False\" and []:     \n",
    "    print(\"hello\") \n",
    "print(\"print me all cases\")"
   ]
  },
  {
   "cell_type": "code",
   "execution_count": 15,
   "id": "698a7739-ec3b-422d-b605-ef8c9d780663",
   "metadata": {},
   "outputs": [],
   "source": [
    "if 0:\n",
    "    print(\"clarusway\")"
   ]
  },
  {
   "cell_type": "code",
   "execution_count": 16,
   "id": "6c5b2366-d5f3-4b06-a270-10cc20ded128",
   "metadata": {},
   "outputs": [
    {
     "name": "stdout",
     "output_type": "stream",
     "text": [
      "clarusway\n"
     ]
    }
   ],
   "source": [
    "if 1:\n",
    "    print(\"clarusway\")"
   ]
  },
  {
   "cell_type": "code",
   "execution_count": 17,
   "id": "2644b65b-30cc-47a5-8c7a-5e1c87258481",
   "metadata": {},
   "outputs": [
    {
     "name": "stdout",
     "output_type": "stream",
     "text": [
      "Bon Appetit\n"
     ]
    }
   ],
   "source": [
    "mince = True\n",
    "bread = True\n",
    "lettuce = True\n",
    "onion = True\n",
    "grocer = True\n",
    "hamburger = grocer and mince and bread and (onion or lettuce)\n",
    "if hamburger:    \n",
    "    print(\"Bon Appetit\")"
   ]
  },
  {
   "cell_type": "code",
   "execution_count": 18,
   "id": "96e5dd2e-4037-46c9-9af6-93229ce581c6",
   "metadata": {},
   "outputs": [
    {
     "data": {
      "text/plain": [
       "False"
      ]
     },
     "execution_count": 18,
     "metadata": {},
     "output_type": "execute_result"
    }
   ],
   "source": [
    "\"Ali\" == \"ali\""
   ]
  },
  {
   "cell_type": "code",
   "execution_count": 19,
   "id": "1d943f57-3bd5-4ea6-b6ea-09ce2c0c2648",
   "metadata": {},
   "outputs": [
    {
     "data": {
      "text/plain": [
       "True"
      ]
     },
     "execution_count": 19,
     "metadata": {},
     "output_type": "execute_result"
    }
   ],
   "source": [
    "\"ali\" == \"ali\""
   ]
  },
  {
   "cell_type": "code",
   "execution_count": 20,
   "id": "41e04e96-1dc9-4caa-a944-e3e930c78845",
   "metadata": {},
   "outputs": [
    {
     "data": {
      "text/plain": [
       "True"
      ]
     },
     "execution_count": 20,
     "metadata": {},
     "output_type": "execute_result"
    }
   ],
   "source": [
    "\"Ali\" != \"ali\""
   ]
  },
  {
   "cell_type": "code",
   "execution_count": 21,
   "id": "c0c762b0-00da-43b8-bc6b-5b7fc41590fb",
   "metadata": {},
   "outputs": [
    {
     "name": "stdout",
     "output_type": "stream",
     "text": [
      "We are the same!\n"
     ]
    }
   ],
   "source": [
    "set1 = set(\"TWELVE PLUS ONE\")\n",
    "set2 = set(\"ELEVEN PLUS TWO\")\n",
    "if set1 == set2 :\n",
    "    print(\"We are the same!\")"
   ]
  },
  {
   "cell_type": "code",
   "execution_count": 24,
   "id": "98d08fc7-c850-427f-b507-1dad34481c0e",
   "metadata": {},
   "outputs": [
    {
     "name": "stdin",
     "output_type": "stream",
     "text": [
      "Enter Yes or No : tes\n"
     ]
    },
    {
     "name": "stdout",
     "output_type": "stream",
     "text": [
      "You entered False\n"
     ]
    }
   ],
   "source": [
    "convert = input(\"Enter Yes or No :\").title().strip() == \"Yes\"\n",
    "print(\"You entered\" , convert)"
   ]
  },
  {
   "cell_type": "code",
   "execution_count": 25,
   "id": "f1575b65-258b-41c0-8f56-989c7ccaa98c",
   "metadata": {},
   "outputs": [
    {
     "name": "stdin",
     "output_type": "stream",
     "text": [
      "Enter a number:  2\n"
     ]
    },
    {
     "name": "stdout",
     "output_type": "stream",
     "text": [
      "number is even\n"
     ]
    }
   ],
   "source": [
    "num = int(input(\"Enter a number: \"))\n",
    "if (num % 2) == 0 :\n",
    "    print(\"number is even\".format(num))\n",
    "else :\n",
    "    print(\"number is odd\".format(num))\n"
   ]
  },
  {
   "cell_type": "code",
   "execution_count": 26,
   "id": "069b64a9-272c-4548-9cdc-359052e38a3e",
   "metadata": {},
   "outputs": [
    {
     "name": "stdin",
     "output_type": "stream",
     "text": [
      "Enter positive or negative number: 3\n"
     ]
    },
    {
     "name": "stdout",
     "output_type": "stream",
     "text": [
      "You entered positive number\n"
     ]
    }
   ],
   "source": [
    "number = float(input(\"Enter positive or negative number:\"))\n",
    "if number > 0 :\n",
    "    print(\"You entered positive number\")\n",
    "else :\n",
    "    print(\"You entered negative number\")"
   ]
  },
  {
   "cell_type": "code",
   "execution_count": 27,
   "id": "9496184a-da02-4c43-a822-5d90da1540ae",
   "metadata": {},
   "outputs": [
    {
     "name": "stdin",
     "output_type": "stream",
     "text": [
      "Enter number 1: 1\n",
      "Enter number 2: 3\n"
     ]
    },
    {
     "name": "stdout",
     "output_type": "stream",
     "text": [
      "The large number is 3.0\n"
     ]
    }
   ],
   "source": [
    "num1 = float(input(\"Enter number 1:\"))\n",
    "num2 = float(input(\"Enter number 2:\"))\n",
    "if num1 > num2 :\n",
    "    print(\"The large number is\", num1)\n",
    "else :\n",
    "    print(\"The large number is\", num2)\n"
   ]
  },
  {
   "cell_type": "code",
   "execution_count": 28,
   "id": "23eaf64a-6412-4ba8-8370-008030f18cd4",
   "metadata": {},
   "outputs": [
    {
     "name": "stdout",
     "output_type": "stream",
     "text": [
      "1\n",
      "2\n",
      "3\n",
      "4\n",
      "5\n"
     ]
    }
   ],
   "source": [
    "for i in [1, 2, 3, 4, 5] :\n",
    "    print(i)"
   ]
  },
  {
   "cell_type": "code",
   "execution_count": 29,
   "id": "e8c91501-b1d1-4725-b44b-edeee8dddc90",
   "metadata": {},
   "outputs": [
    {
     "name": "stdout",
     "output_type": "stream",
     "text": [
      "spring\n",
      "summer\n",
      "autumn\n",
      "winter\n"
     ]
    }
   ],
   "source": [
    "seasons = ['spring', 'summer', 'autumn', 'winter']\n",
    "\n",
    "for season in seasons :\n",
    "    print(season)"
   ]
  },
  {
   "cell_type": "code",
   "execution_count": null,
   "id": "89c9c8f4-b536-40d7-b393-a8d2b66d60b6",
   "metadata": {},
   "outputs": [],
   "source": [
    "for i in {'n1' : 'one', 'n2' : 'two'} : print(i)"
   ]
  },
  {
   "cell_type": "code",
   "execution_count": 30,
   "id": "4c3eee46-9c59-4796-8fd1-a9ef6c9c1de0",
   "metadata": {},
   "outputs": [
    {
     "name": "stdout",
     "output_type": "stream",
     "text": [
      "1\n",
      "4\n",
      "9\n",
      "16\n"
     ]
    }
   ],
   "source": [
    "iterable = [1, 2, 3, 4]\n",
    "for i in iterable :\n",
    "    print(i**2)"
   ]
  },
  {
   "cell_type": "code",
   "execution_count": 31,
   "id": "86832cf1-6133-4c50-a836-71df151792ed",
   "metadata": {},
   "outputs": [
    {
     "name": "stdin",
     "output_type": "stream",
     "text": [
      "How many times should I say 'I love you' 2\n"
     ]
    },
    {
     "name": "stdout",
     "output_type": "stream",
     "text": [
      "I love you\n",
      "I love you\n"
     ]
    }
   ],
   "source": [
    "times = int(input(\"How many times should I say 'I love you'\"))  #range ile girilen sayida tekrar yapilabilir\n",
    "\n",
    "for i in range(times):\n",
    "    print('I love you')"
   ]
  },
  {
   "cell_type": "code",
   "execution_count": 32,
   "id": "59ea8b39-bd6c-4098-9a4b-7082c48afb50",
   "metadata": {},
   "outputs": [
    {
     "name": "stdout",
     "output_type": "stream",
     "text": [
      "Yes\n"
     ]
    }
   ],
   "source": [
    "bool_value = True\n",
    "\n",
    "if bool_value :\n",
    "    print(\"Yes\")\n",
    "else :\n",
    "    print(\"No\")\n",
    "    "
   ]
  },
  {
   "cell_type": "code",
   "execution_count": 43,
   "id": "5c322c19-4bda-4bca-96af-606f2d7b95d7",
   "metadata": {},
   "outputs": [
    {
     "name": "stdin",
     "output_type": "stream",
     "text": [
      "Enter number 1: 6\n",
      "Enter number 2: 9\n",
      "Enter number 3: 7\n"
     ]
    },
    {
     "name": "stdout",
     "output_type": "stream",
     "text": [
      "The large number is 9.0\n"
     ]
    }
   ],
   "source": [
    "num1 = float(input(\"Enter number 1:\"))\n",
    "num2 = float(input(\"Enter number 2:\"))\n",
    "num3 = float(input(\"Enter number 3:\"))\n",
    "if (num1 > num2) and (num1 > num3) :\n",
    "    largest = num1\n",
    "\n",
    "elif (num2 > num1) and (num2 > num3) :     \n",
    "    largest = num2\n",
    "    \n",
    "else :\n",
    "    largest = num3\n",
    "    \n",
    "print(\"The large number is\", largest)"
   ]
  },
  {
   "cell_type": "code",
   "execution_count": 42,
   "id": "9440b74f-e8d3-48d3-9c43-9b3d231480d1",
   "metadata": {},
   "outputs": [
    {
     "name": "stdin",
     "output_type": "stream",
     "text": [
      "Enter your score : 95\n"
     ]
    },
    {
     "name": "stdout",
     "output_type": "stream",
     "text": [
      "Your degree is : A+\n"
     ]
    }
   ],
   "source": [
    "score = int(input(\"Enter your score :\"))\n",
    "\n",
    "if score > 90 :\n",
    "    if score >= 95 :\n",
    "        letter = \"A+\"\n",
    "    else :\n",
    "        letter = \"A\"\n",
    "\n",
    "elif score >= 80 :\n",
    "    if score >= 85 :\n",
    "        letter = \"B+\"\n",
    "    else :\n",
    "        letter = \"B\"\n",
    "\n",
    "else :\n",
    "    letter = \"B-\"\n",
    "    \n",
    "print(\"Your degree is :\", letter)\n",
    "    \n",
    "\n",
    "    "
   ]
  },
  {
   "cell_type": "code",
   "execution_count": 3,
   "id": "ce1df1c7-7277-4769-bd37-c62636db3379",
   "metadata": {},
   "outputs": [
    {
     "name": "stdout",
     "output_type": "stream",
     "text": [
      "you guaranteed the job\n"
     ]
    }
   ],
   "source": [
    "course = 'clarusway'\n",
    "\n",
    "if course == \"clarusway\":\n",
    "    print(\"you guaranteed the job\")\n",
    "else:\n",
    "    print(\"think about it again\")\n",
    "    "
   ]
  },
  {
   "cell_type": "code",
   "execution_count": 5,
   "id": "44ffe064-f1f3-4bde-9eda-28f5fdaf9a45",
   "metadata": {},
   "outputs": [
    {
     "name": "stdout",
     "output_type": "stream",
     "text": [
      "Number is bigger than 3\n"
     ]
    }
   ],
   "source": [
    "number = 5\n",
    "if number <= 3:    \n",
    "    print(\"Number is smaller than or equal to 3\") \n",
    "else:  # Optional clause (you can only have one else)\n",
    "    print(\"Number is bigger than 3\")\n"
   ]
  },
  {
   "cell_type": "code",
   "execution_count": 1,
   "id": "d358278f-de91-4294-9800-6423422240cb",
   "metadata": {},
   "outputs": [
    {
     "name": "stdout",
     "output_type": "stream",
     "text": [
      "is x equal to y?                 : False\n",
      "is x not equal to y?             : True\n",
      "is x less than y?                : True\n",
      "is x greater than y?             : False\n",
      "is x less than or equal to y?    : True\n",
      "is x greater than or equal to y? : False\n"
     ]
    }
   ],
   "source": [
    "x = 6\n",
    "y = 9\n",
    "print (\"is x equal to y?                 :\" , x == y)\n",
    "print (\"is x not equal to y?             :\" , x != y)\n",
    "print (\"is x less than y?                :\" , x < y)\n",
    "print (\"is x greater than y?             :\" , x > y)\n",
    "print (\"is x less than or equal to y?    :\" , x <= y)\n",
    "print (\"is x greater than or equal to y? :\" , x >= y)"
   ]
  }
 ],
 "metadata": {
  "kernelspec": {
   "display_name": "Python 3",
   "language": "python",
   "name": "python3"
  },
  "language_info": {
   "codemirror_mode": {
    "name": "ipython",
    "version": 3
   },
   "file_extension": ".py",
   "mimetype": "text/x-python",
   "name": "python",
   "nbconvert_exporter": "python",
   "pygments_lexer": "ipython3",
   "version": "3.8.8"
  }
 },
 "nbformat": 4,
 "nbformat_minor": 5
}
