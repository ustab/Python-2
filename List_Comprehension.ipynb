{
 "cells": [
  {
   "cell_type": "markdown",
   "id": "895c9f30-f383-4b21-9659-b1583f0b969f",
   "metadata": {},
   "source": [
    "List_Comprehension"
   ]
  },
  {
   "cell_type": "markdown",
   "id": "76a62613-90a3-40d1-8a2c-78cf941e6ee5",
   "metadata": {},
   "source": [
    "List_Comprehension'larin temel yapisi:\n",
    " \n",
    "    [expression for item in iterable]\n",
    "  \n",
    "    for item in iterable:\n",
    "        expression\n",
    " \n",
    " listenin disina cikmadan for dongusu kullanabiliyoruz. "
   ]
  },
  {
   "cell_type": "code",
   "execution_count": 3,
   "id": "9ce7c8a7-e34f-43d1-82e4-af97a8e9786a",
   "metadata": {},
   "outputs": [
    {
     "data": {
      "text/plain": [
       "[0, 1, 2, 3, 4]"
      ]
     },
     "execution_count": 3,
     "metadata": {},
     "output_type": "execute_result"
    }
   ],
   "source": [
    "sayilar = []\n",
    "\n",
    "for i in range(5) :\n",
    "    sayilar.append(i)\n",
    "sayilar"
   ]
  },
  {
   "cell_type": "code",
   "execution_count": 4,
   "id": "597883fd-2eb9-422a-9a8a-c57c34fb070a",
   "metadata": {},
   "outputs": [
    {
     "data": {
      "text/plain": [
       "[0, 1, 2, 3, 4]"
      ]
     },
     "execution_count": 4,
     "metadata": {},
     "output_type": "execute_result"
    }
   ],
   "source": [
    "[i for i in range(5)]  # apped komutu kullanmadan liste icinde islem yapiyor"
   ]
  },
  {
   "cell_type": "code",
   "execution_count": 5,
   "id": "360d0217-631d-46b9-b6c6-7899498b372d",
   "metadata": {},
   "outputs": [
    {
     "data": {
      "text/plain": [
       "[1, 4, 9, 16, 25]"
      ]
     },
     "execution_count": 5,
     "metadata": {},
     "output_type": "execute_result"
    }
   ],
   "source": [
    "[i**2 for i in range(1, 6)]   # . , ; : kullanmiyoruz dikkat edelim!"
   ]
  },
  {
   "cell_type": "code",
   "execution_count": 6,
   "id": "0ebc5e62-94f1-45eb-b9fb-83ab819e710f",
   "metadata": {},
   "outputs": [
    {
     "data": {
      "text/plain": [
       "[[0], [1], [2], [3], [4]]"
      ]
     },
     "execution_count": 6,
     "metadata": {},
     "output_type": "execute_result"
    }
   ],
   "source": [
    "[[i] for i in range(5)]"
   ]
  },
  {
   "cell_type": "code",
   "execution_count": 7,
   "id": "da2db26c-df82-4809-a0e6-063a2cc1a704",
   "metadata": {},
   "outputs": [
    {
     "data": {
      "text/plain": [
       "[1, 9, 25]"
      ]
     },
     "execution_count": 7,
     "metadata": {},
     "output_type": "execute_result"
    }
   ],
   "source": [
    "my_list = [1, 2, 3, 4, 5, 6]\n",
    "new_list = []\n",
    "\n",
    "for i in my_list :\n",
    "    if i % 2 :\n",
    "        new_list.append(i ** 2)\n",
    "new_list"
   ]
  },
  {
   "cell_type": "markdown",
   "id": "116f91ce-3d8e-481d-aeec-8dff6f2ddea4",
   "metadata": {},
   "source": [
    "ternary if condition yapisi\n",
    "\n",
    "    excute-body if condition else execute-body2\n",
    "    "
   ]
  },
  {
   "cell_type": "code",
   "execution_count": 12,
   "id": "45a7f5db-b287-4a15-84cb-92c78803ae9a",
   "metadata": {},
   "outputs": [
    {
     "data": {
      "text/plain": [
       "[1, 9, 25]"
      ]
     },
     "execution_count": 12,
     "metadata": {},
     "output_type": "execute_result"
    }
   ],
   "source": [
    "[ i ** 2 for i in range(1, 7) if i % 2 ]  # ben yaptim ****************************************************"
   ]
  },
  {
   "cell_type": "code",
   "execution_count": 11,
   "id": "60cfc5f3-96bd-4d47-8970-f6e3a2b44767",
   "metadata": {},
   "outputs": [
    {
     "data": {
      "text/plain": [
       "0"
      ]
     },
     "execution_count": 11,
     "metadata": {},
     "output_type": "execute_result"
    }
   ],
   "source": [
    "condition = False  # condition True ise solunu False ise  sagini calistirir\n",
    "1 if condition else 0"
   ]
  },
  {
   "cell_type": "code",
   "execution_count": 13,
   "id": "37f83090-de70-4cd3-856f-07170e2ebd2d",
   "metadata": {},
   "outputs": [
    {
     "data": {
      "text/plain": [
       "{1, 9, 25}"
      ]
     },
     "execution_count": 13,
     "metadata": {},
     "output_type": "execute_result"
    }
   ],
   "source": [
    "{ i ** 2 for i in range(1, 7) if i % 2 }  # ayni formul set icinde calisiyor"
   ]
  },
  {
   "cell_type": "code",
   "execution_count": 16,
   "id": "4eb2df04-6adb-49b6-835e-3c6471b0e968",
   "metadata": {},
   "outputs": [
    {
     "name": "stdout",
     "output_type": "stream",
     "text": [
      "1 9 25\n"
     ]
    }
   ],
   "source": [
    "print(*( i ** 2 for i in range(1, 7) if i % 2 ))  # print icinde asterixle acik yazdirabiliyoruz"
   ]
  },
  {
   "cell_type": "code",
   "execution_count": 17,
   "id": "4a354689-155a-43a6-a7e5-4e1e7d362bf5",
   "metadata": {},
   "outputs": [
    {
     "ename": "SyntaxError",
     "evalue": "invalid syntax (<ipython-input-17-fd018dddef9a>, line 1)",
     "output_type": "error",
     "traceback": [
      "\u001b[1;36m  File \u001b[1;32m\"<ipython-input-17-fd018dddef9a>\"\u001b[1;36m, line \u001b[1;32m1\u001b[0m\n\u001b[1;33m    (i ** 2 for i in range(1, 7) if i % 2, )\u001b[0m\n\u001b[1;37m                                         ^\u001b[0m\n\u001b[1;31mSyntaxError\u001b[0m\u001b[1;31m:\u001b[0m invalid syntax\n"
     ]
    }
   ],
   "source": [
    "(i ** 2 for i in range(1, 7) if i % 2, )     # tuple icinde calismiyor"
   ]
  },
  {
   "cell_type": "code",
   "execution_count": null,
   "id": "5a62d469-f260-4ede-b649-5eba919be2ef",
   "metadata": {},
   "outputs": [],
   "source": []
  }
 ],
 "metadata": {
  "kernelspec": {
   "display_name": "Python 3",
   "language": "python",
   "name": "python3"
  },
  "language_info": {
   "codemirror_mode": {
    "name": "ipython",
    "version": 3
   },
   "file_extension": ".py",
   "mimetype": "text/x-python",
   "name": "python",
   "nbconvert_exporter": "python",
   "pygments_lexer": "ipython3",
   "version": "3.8.8"
  }
 },
 "nbformat": 4,
 "nbformat_minor": 5
}
