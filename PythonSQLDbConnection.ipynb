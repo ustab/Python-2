{
 "cells": [
  {
   "cell_type": "markdown",
   "id": "4b783365",
   "metadata": {},
   "source": [
    "## PYHTON DB API"
   ]
  },
  {
   "cell_type": "markdown",
   "id": "908ccf37",
   "metadata": {},
   "source": [
    "### PYODBC"
   ]
  },
  {
   "cell_type": "code",
   "execution_count": null,
   "id": "52605b24",
   "metadata": {},
   "outputs": [],
   "source": [
    "# !pip install pyodbc"
   ]
  },
  {
   "cell_type": "code",
   "execution_count": 1,
   "id": "15cba287",
   "metadata": {},
   "outputs": [],
   "source": [
    "import pyodbc"
   ]
  },
  {
   "cell_type": "markdown",
   "id": "19b02006",
   "metadata": {},
   "source": [
    "## SQL Server Authentication"
   ]
  },
  {
   "cell_type": "code",
   "execution_count": 2,
   "id": "e6ff1975",
   "metadata": {},
   "outputs": [],
   "source": [
    "def create_server_connection(driver, server, database, user, password):\n",
    "    conn = None\n",
    "    try: \n",
    "        conn = pyodbc.connect(DRIVER = driver, SERVER= server, DATABASE = database, UID= user, PWD= password)\n",
    "        print(\"Successfull\")\n",
    "    except Error as err:\n",
    "        print(f\"Error:'{err}'\")\n",
    "    return conn"
   ]
  },
  {
   "cell_type": "code",
   "execution_count": null,
   "id": "68c8cbb1",
   "metadata": {},
   "outputs": [],
   "source": [
    "# driver = '{ODBC Driver 17 for SQL Server}'\n",
    "# server = 'localhost'\n",
    "# database = 'master'\n",
    "# user = 'sa'\n",
    "# password = '----'\n",
    "# conn = create_server_connection(driver, server, database, user, password)\n"
   ]
  },
  {
   "cell_type": "code",
   "execution_count": 3,
   "id": "e7363569",
   "metadata": {},
   "outputs": [
    {
     "data": {
      "text/plain": [
       "['SQL Server',\n",
       " 'SQL Server Native Client 11.0',\n",
       " 'SQL Server Native Client RDA 11.0',\n",
       " 'ODBC Driver 17 for SQL Server',\n",
       " 'Microsoft Access Driver (*.mdb, *.accdb)',\n",
       " 'Microsoft Excel Driver (*.xls, *.xlsx, *.xlsm, *.xlsb)',\n",
       " 'Microsoft Access Text Driver (*.txt, *.csv)']"
      ]
     },
     "execution_count": 3,
     "metadata": {},
     "output_type": "execute_result"
    }
   ],
   "source": [
    "pyodbc.drivers()"
   ]
  },
  {
   "cell_type": "markdown",
   "id": "4d2146bc",
   "metadata": {},
   "source": [
    "## Windows Authentication"
   ]
  },
  {
   "cell_type": "code",
   "execution_count": 4,
   "id": "5b0b6995",
   "metadata": {},
   "outputs": [],
   "source": [
    "conn_string = \"driver={ODBC Driver 17 for SQL Server}; server=localhost; database=master; TRUSTED_CONNECTION=yes;\""
   ]
  },
  {
   "cell_type": "code",
   "execution_count": 5,
   "id": "8c6ade82",
   "metadata": {},
   "outputs": [],
   "source": [
    "conn = pyodbc.connect(conn_string);"
   ]
  },
  {
   "cell_type": "markdown",
   "id": "8564f075",
   "metadata": {},
   "source": [
    "## Cursor process"
   ]
  },
  {
   "cell_type": "code",
   "execution_count": 6,
   "id": "6ca9349a",
   "metadata": {},
   "outputs": [],
   "source": [
    "crs = conn.cursor()"
   ]
  },
  {
   "cell_type": "code",
   "execution_count": 47,
   "id": "6049dd44",
   "metadata": {},
   "outputs": [],
   "source": [
    "conn.autocommit = True\n",
    "\n",
    "# Bu komut commit işleminin otomatik / sürekli yapılmasını sağlıyor\n",
    "\n",
    "# sorgunun geçerli olabilmesi için sürekli conn.commit() yapmanın önüne geçildi.\n"
   ]
  },
  {
   "cell_type": "code",
   "execution_count": 8,
   "id": "8eebe778",
   "metadata": {},
   "outputs": [],
   "source": [
    "conn.commit()"
   ]
  },
  {
   "cell_type": "markdown",
   "id": "c6b2006e",
   "metadata": {},
   "source": [
    "## Create Database"
   ]
  },
  {
   "cell_type": "code",
   "execution_count": 10,
   "id": "caabe55e",
   "metadata": {},
   "outputs": [],
   "source": [
    "def create_database(conn, create_database_query): #parametreler: connection nesnesi ve query nesnesi\n",
    "    crs = conn.cursor() #bir cursor nesnesi oluşturuyoruz. bunu query sonucundaki değerleri yakalamak için kullanacağız.\n",
    "    try:\n",
    "        crs.execute(create_database_query)#query'yi çalıştır sonucu yakala. queryleri excecute ile çalıştırıyoruz\n",
    "        print(\"Database is Created Successfuly\")\n",
    "    except Error as err:\n",
    "            print(f\"Error:'{err}'\")"
   ]
  },
  {
   "cell_type": "code",
   "execution_count": 14,
   "id": "fa53d425",
   "metadata": {},
   "outputs": [],
   "source": [
    "create_database_query = 'CREATE DATABASE TestC'"
   ]
  },
  {
   "cell_type": "code",
   "execution_count": 15,
   "id": "2f732cb0",
   "metadata": {},
   "outputs": [
    {
     "name": "stdout",
     "output_type": "stream",
     "text": [
      "Database is Created Successfuly\n"
     ]
    }
   ],
   "source": [
    "create_database(conn, create_database_query)"
   ]
  },
  {
   "cell_type": "code",
   "execution_count": 16,
   "id": "f94f339a",
   "metadata": {},
   "outputs": [],
   "source": [
    "query = 'USE TestC'"
   ]
  },
  {
   "cell_type": "code",
   "execution_count": 17,
   "id": "3308f1e0",
   "metadata": {},
   "outputs": [
    {
     "data": {
      "text/plain": [
       "<pyodbc.Cursor at 0x24506fb93b0>"
      ]
     },
     "execution_count": 17,
     "metadata": {},
     "output_type": "execute_result"
    }
   ],
   "source": [
    "crs.execute(query)"
   ]
  },
  {
   "cell_type": "markdown",
   "id": "32b053ea-53c8-4205-8889-8f5685be4140",
   "metadata": {},
   "source": [
    "Aslında her defasında execute metodunun içine aşağıdaki gibi bildiğimiz SQL query si yazıyoruz. o da onu çalıştırıyor."
   ]
  },
  {
   "cell_type": "code",
   "execution_count": 18,
   "id": "baddbd61",
   "metadata": {},
   "outputs": [],
   "source": [
    "def execute_query(conn, query):\n",
    "    crs = conn.cursor()\n",
    "    try:\n",
    "        crs.execute(query)\n",
    "        conn.commit()\n",
    "        print(\"Query Succeessful!\")\n",
    "    except Error as err:\n",
    "        print(f\"Error:'{err}'\")"
   ]
  },
  {
   "cell_type": "code",
   "execution_count": 19,
   "id": "869cd5c7",
   "metadata": {},
   "outputs": [
    {
     "name": "stdout",
     "output_type": "stream",
     "text": [
      "Query Succeessful!\n"
     ]
    }
   ],
   "source": [
    "execute_query(conn, query)"
   ]
  },
  {
   "cell_type": "markdown",
   "id": "ed2a1e1e-631b-47a8-ba06-a988134c8528",
   "metadata": {},
   "source": [
    "## Create Table"
   ]
  },
  {
   "cell_type": "code",
   "execution_count": 20,
   "id": "3c5c9dc0",
   "metadata": {},
   "outputs": [],
   "source": [
    "query = 'CREATE TABLE TestTable (\\\n",
    "           ID INT IDENTITY (1,1) NOT NULL, \\\n",
    "           FirstName VARCHAR(255) NOT NULL,\\\n",
    "           LastName VARCHAR(255) NOT NULL,\\\n",
    "           PRIMARY KEY(ID))'"
   ]
  },
  {
   "cell_type": "code",
   "execution_count": 21,
   "id": "cfd09c00",
   "metadata": {},
   "outputs": [
    {
     "name": "stdout",
     "output_type": "stream",
     "text": [
      "Query Succeessful!\n"
     ]
    }
   ],
   "source": [
    "execute_query(conn, query)"
   ]
  },
  {
   "cell_type": "markdown",
   "id": "bd7a183a",
   "metadata": {},
   "source": [
    "## Insert"
   ]
  },
  {
   "cell_type": "code",
   "execution_count": 22,
   "id": "e0bd203a",
   "metadata": {},
   "outputs": [
    {
     "data": {
      "text/plain": [
       "<pyodbc.Cursor at 0x24506fb93b0>"
      ]
     },
     "execution_count": 22,
     "metadata": {},
     "output_type": "execute_result"
    }
   ],
   "source": [
    "crs.execute(\"INSERT TestTable (FirstName, LastName) VALUES ('Bob', 'Marley')\")"
   ]
  },
  {
   "cell_type": "code",
   "execution_count": 23,
   "id": "e7dfd4c2",
   "metadata": {},
   "outputs": [
    {
     "data": {
      "text/plain": [
       "<pyodbc.Cursor at 0x24506fb93b0>"
      ]
     },
     "execution_count": 23,
     "metadata": {},
     "output_type": "execute_result"
    }
   ],
   "source": [
    "crs.execute(\"INSERT TestTable (FirstName, LastName) VALUES (?,?)\", 'Bruce', 'Lee')"
   ]
  },
  {
   "cell_type": "code",
   "execution_count": 50,
   "id": "3d291400-c475-4e51-b667-2565fb41f542",
   "metadata": {},
   "outputs": [
    {
     "data": {
      "text/plain": [
       "<pyodbc.Cursor at 0x24506fb93b0>"
      ]
     },
     "execution_count": 50,
     "metadata": {},
     "output_type": "execute_result"
    }
   ],
   "source": [
    "crs.execute(\"INSERT TestTable (FirstName, LastName) VALUES (?,?)\",'Tom', 'Hanks')\n",
    "crs.execute(\"INSERT TestTable (FirstName, LastName) VALUES (?,?)\",'Bart', 'Simpson')"
   ]
  },
  {
   "cell_type": "code",
   "execution_count": 24,
   "id": "e376e9b3",
   "metadata": {
    "scrolled": true
   },
   "outputs": [
    {
     "data": {
      "text/plain": [
       "<pyodbc.Cursor at 0x24506fb93b0>"
      ]
     },
     "execution_count": 24,
     "metadata": {},
     "output_type": "execute_result"
    }
   ],
   "source": [
    "crs.execute(\"INSERT TestTable (FirstName, LastName) VALUES (?,?)\",'Tom', 'Cat')\n",
    "crs.execute(\"INSERT TestTable (FirstName, LastName) VALUES (?,?)\",'Jerry', 'Mouse')\n",
    "crs.execute(\"INSERT TestTable (FirstName, LastName) VALUES (?,?)\",'Owen', 'William')\n",
    "crs.execute(\"INSERT TestTable (FirstName, LastName) VALUES (?,?)\",'Stefan', 'Müller')"
   ]
  },
  {
   "cell_type": "markdown",
   "id": "55ff8ed6-7508-41a7-8947-882d0c6177e0",
   "metadata": {},
   "source": [
    "## Delete"
   ]
  },
  {
   "cell_type": "code",
   "execution_count": 51,
   "id": "0ecf72a4-863d-4567-9779-0b16a0a51365",
   "metadata": {},
   "outputs": [
    {
     "data": {
      "text/plain": [
       "<pyodbc.Cursor at 0x24506fb93b0>"
      ]
     },
     "execution_count": 51,
     "metadata": {},
     "output_type": "execute_result"
    }
   ],
   "source": [
    "crs.execute(\"DELETE FROM TestTable WHERE FirstName = 'Jerry'\")"
   ]
  },
  {
   "cell_type": "code",
   "execution_count": 52,
   "id": "1a7f9a63-99f4-4348-a107-5e4fc8ad8664",
   "metadata": {},
   "outputs": [
    {
     "data": {
      "text/plain": [
       "<pyodbc.Cursor at 0x24506fb93b0>"
      ]
     },
     "execution_count": 52,
     "metadata": {},
     "output_type": "execute_result"
    }
   ],
   "source": [
    "crs.execute(\"DELETE FROM TestTable WHERE FirstName = ?\" ,'Stefan')"
   ]
  },
  {
   "cell_type": "markdown",
   "id": "9be9f1ed-324b-449e-84cb-677b91262f5e",
   "metadata": {},
   "source": [
    "## Rowcount"
   ]
  },
  {
   "cell_type": "code",
   "execution_count": 26,
   "id": "5b5c3d85",
   "metadata": {},
   "outputs": [
    {
     "data": {
      "text/plain": [
       "1"
      ]
     },
     "execution_count": 26,
     "metadata": {},
     "output_type": "execute_result"
    }
   ],
   "source": [
    "crs.rowcount"
   ]
  },
  {
   "cell_type": "markdown",
   "id": "a121b80b-f6a3-4062-851a-7ae146736490",
   "metadata": {},
   "source": [
    "## Read data"
   ]
  },
  {
   "cell_type": "markdown",
   "id": "40d8f3e0-b730-49f4-b5e1-e61bc18ef3a5",
   "metadata": {},
   "source": [
    "**cursor.fetchall()**\n",
    "bir sorgu sonucunun tüm satırlarını getirir. Tüm satırları bir tuple listesi olarak döndürür. Alınacak kayıt yoksa boş bir liste döndürülür.\n",
    "\n",
    "**cursor.fetchmany(size)**\n",
    "size değişkeni tarafından belirtilen satır sayısını döndürür. Tekrar tekrar çağrıldığında, bu yöntem bir sorgu sonucunun sonraki satır kümesini getirir ve bir tuple listesi döndürür.\n",
    "\n",
    "**cursor.fetchone()**\n",
    "tek bir kayıt döndürür. satır yoksa None döndürür. Başlangıçta ilk satırı, sonra her çalıştırıldığında bir sonraki satırı getiriyor."
   ]
  },
  {
   "cell_type": "markdown",
   "id": "f69f9757",
   "metadata": {},
   "source": [
    "## Fetchone"
   ]
  },
  {
   "cell_type": "code",
   "execution_count": 54,
   "id": "993cb079",
   "metadata": {},
   "outputs": [
    {
     "data": {
      "text/plain": [
       "('Bob', 'Marley')"
      ]
     },
     "execution_count": 54,
     "metadata": {},
     "output_type": "execute_result"
    }
   ],
   "source": [
    "crs.execute('SELECT FirstName, LastName FROM TestTable')\n",
    "row = crs.fetchone() # Her seferinde ayni tabloyu yeniden getirdiginden tablodaki ilk kaydi getirir\n",
    "row"
   ]
  },
  {
   "cell_type": "code",
   "execution_count": 55,
   "id": "f09a2055",
   "metadata": {},
   "outputs": [
    {
     "data": {
      "text/plain": [
       "('Bruce', 'Lee')"
      ]
     },
     "execution_count": 55,
     "metadata": {},
     "output_type": "execute_result"
    }
   ],
   "source": [
    "row = crs.fetchone() # tablodaki ilk kaydi getirir. Tekrar calisirsa siradaki satiri getirir\n",
    "row"
   ]
  },
  {
   "cell_type": "code",
   "execution_count": 56,
   "id": "4c293f89-565b-40fe-8922-21111a1f0b2d",
   "metadata": {},
   "outputs": [
    {
     "data": {
      "text/plain": [
       "('Tom', 'Cat')"
      ]
     },
     "execution_count": 56,
     "metadata": {},
     "output_type": "execute_result"
    }
   ],
   "source": [
    "row = crs.fetchone() # tablodaki ilk kaydi getirir. Tekrar calisirsa siradaki satiri getirir\n",
    "row"
   ]
  },
  {
   "cell_type": "code",
   "execution_count": 57,
   "id": "342c8ef9-9538-41c4-b49b-df8f1da1f60d",
   "metadata": {},
   "outputs": [
    {
     "data": {
      "text/plain": [
       "('Owen', 'William')"
      ]
     },
     "execution_count": 57,
     "metadata": {},
     "output_type": "execute_result"
    }
   ],
   "source": [
    "row = crs.fetchone() # tablodaki ilk kaydi getirir. Tekrar calisirsa siradaki satiri getirir\n",
    "row"
   ]
  },
  {
   "cell_type": "markdown",
   "id": "fbd6302b",
   "metadata": {},
   "source": [
    "## Fetchmany"
   ]
  },
  {
   "cell_type": "code",
   "execution_count": 58,
   "id": "02a07db3",
   "metadata": {},
   "outputs": [
    {
     "data": {
      "text/plain": [
       "[('Bob', 'Marley'), ('Bruce', 'Lee'), ('Tom', 'Cat')]"
      ]
     },
     "execution_count": 58,
     "metadata": {},
     "output_type": "execute_result"
    }
   ],
   "source": [
    "crs.execute('SELECT FirstName, LastName FROM TestTable')\n",
    "rows = crs.fetchmany(3)\n",
    "rows"
   ]
  },
  {
   "cell_type": "markdown",
   "id": "ca712a99",
   "metadata": {},
   "source": [
    "## FetchAll"
   ]
  },
  {
   "cell_type": "code",
   "execution_count": 60,
   "id": "26680f60",
   "metadata": {},
   "outputs": [
    {
     "data": {
      "text/plain": [
       "[('Bob', 'Marley'),\n",
       " ('Bruce', 'Lee'),\n",
       " ('Tom', 'Cat'),\n",
       " ('Owen', 'William'),\n",
       " ('Tom', 'Hanks'),\n",
       " ('Bart', 'Simpson')]"
      ]
     },
     "execution_count": 60,
     "metadata": {},
     "output_type": "execute_result"
    }
   ],
   "source": [
    "crs.execute('SELECT FirstName, LastName FROM TestTable')\n",
    "rows = crs.fetchall()\n",
    "rows"
   ]
  },
  {
   "cell_type": "code",
   "execution_count": 63,
   "id": "f3ab3b56-f086-47de-bf41-09cdfd5d1fac",
   "metadata": {},
   "outputs": [
    {
     "data": {
      "text/plain": [
       "list"
      ]
     },
     "execution_count": 63,
     "metadata": {},
     "output_type": "execute_result"
    }
   ],
   "source": [
    "type(rows)"
   ]
  },
  {
   "cell_type": "code",
   "execution_count": 62,
   "id": "be0016f9-cf7b-41c9-a269-a516db23cf83",
   "metadata": {},
   "outputs": [
    {
     "data": {
      "text/plain": [
       "[(1, 'Bob', 'Marley'),\n",
       " (2, 'Bruce', 'Lee'),\n",
       " (3, 'Tom', 'Cat'),\n",
       " (5, 'Owen', 'William'),\n",
       " (7, 'Tom', 'Hanks'),\n",
       " (8, 'Bart', 'Simpson')]"
      ]
     },
     "execution_count": 62,
     "metadata": {},
     "output_type": "execute_result"
    }
   ],
   "source": [
    "crs.execute(\"\"\"SELECT ID, FirstName, LastName \n",
    "                FROM TestTable\"\"\")\n",
    "rows = crs.fetchall()\n",
    "rows"
   ]
  },
  {
   "cell_type": "code",
   "execution_count": 64,
   "id": "8a3fbe5b-d66a-411b-b911-d6a832410b25",
   "metadata": {},
   "outputs": [
    {
     "name": "stdout",
     "output_type": "stream",
     "text": [
      "1 Bob Marley\n",
      "2 Bruce Lee\n",
      "3 Tom Cat\n",
      "5 Owen William\n",
      "7 Tom Hanks\n",
      "8 Bart Simpson\n"
     ]
    }
   ],
   "source": [
    "for row in rows:\n",
    "    print(row.ID, row.FirstName, row.LastName)"
   ]
  },
  {
   "cell_type": "code",
   "execution_count": 66,
   "id": "08be30c3-d548-48b1-a652-e628ebe28f39",
   "metadata": {},
   "outputs": [
    {
     "data": {
      "text/plain": [
       "[(5, 'Owen', 'William')]"
      ]
     },
     "execution_count": 66,
     "metadata": {},
     "output_type": "execute_result"
    }
   ],
   "source": [
    "crs.execute(\"\"\"SELECT ID, FirstName, LastName \n",
    "               FROM TestTable\n",
    "               WHERE FirstName = 'Owen' and LastName = 'William'\"\"\")\n",
    "rows = crs.fetchall()\n",
    "rows"
   ]
  },
  {
   "cell_type": "code",
   "execution_count": 67,
   "id": "d4f230aa-c6ae-4330-86c6-b6728eec21b7",
   "metadata": {},
   "outputs": [
    {
     "data": {
      "text/plain": [
       "[(5, 'Owen', 'William')]"
      ]
     },
     "execution_count": 67,
     "metadata": {},
     "output_type": "execute_result"
    }
   ],
   "source": [
    "# alternatif kullanım. WHERE satırına dikkat!\n",
    "\n",
    "crs.execute(\"\"\"SELECT ID, FirstName, LastName \n",
    "               FROM TestTable\n",
    "               WHERE FirstName = ? and LastName = ?\"\"\", ['Owen', 'William'])\n",
    "rows = crs.fetchall()\n",
    "rows"
   ]
  },
  {
   "cell_type": "markdown",
   "id": "f1e255bc-4d18-45ff-9a79-49804c091597",
   "metadata": {},
   "source": [
    "## Fetchval()"
   ]
  },
  {
   "cell_type": "markdown",
   "id": "5960b27b-5d38-495b-91cb-cde77f6bb73d",
   "metadata": {},
   "source": [
    "SQL ifadeleri bir sonuç kümesi döndürürse, **ilk satırın ilk sütununu almak için** cursor nesnesinin **fetchval()** metodunu kullanırız. Sorgu boş bir sonuç kümesine sahipse, metod None değerini döndürür."
   ]
  },
  {
   "cell_type": "code",
   "execution_count": 68,
   "id": "cf4e7363-29a2-43c8-83c8-c8d3d8ae3a91",
   "metadata": {},
   "outputs": [
    {
     "data": {
      "text/plain": [
       "8"
      ]
     },
     "execution_count": 68,
     "metadata": {},
     "output_type": "execute_result"
    }
   ],
   "source": [
    "crs.execute(\"SELECT MAX(ID) FROM TestTable\").fetchval()"
   ]
  },
  {
   "cell_type": "code",
   "execution_count": 69,
   "id": "b760a6bc-3cfa-43a9-ba77-74a2fa4770ed",
   "metadata": {},
   "outputs": [
    {
     "data": {
      "text/plain": [
       "'Bob'"
      ]
     },
     "execution_count": 69,
     "metadata": {},
     "output_type": "execute_result"
    }
   ],
   "source": [
    "crs.execute(\"SELECT FirstName FROM TestTable\").fetchval()"
   ]
  },
  {
   "cell_type": "markdown",
   "id": "12d1c12c",
   "metadata": {
    "tags": []
   },
   "source": [
    "# Pandas Methods\n",
    "## Create DataFrame"
   ]
  },
  {
   "cell_type": "code",
   "execution_count": 74,
   "id": "5e4a9cb7",
   "metadata": {},
   "outputs": [],
   "source": [
    "import pandas as pd\n"
   ]
  },
  {
   "cell_type": "code",
   "execution_count": 75,
   "id": "65a99307-8139-4fe1-a1af-cff904ea0138",
   "metadata": {},
   "outputs": [],
   "source": [
    "def read_query (conn, query): #connection nesnesi yukarıda tanımlanmıştı.\n",
    "    crs = conn. cursor()\n",
    "    results = None\n",
    "    crs.execute(query)\n",
    "    results = crs.fetchall()\n",
    "    return results"
   ]
  },
  {
   "cell_type": "code",
   "execution_count": 78,
   "id": "dd98ca8c-408d-42da-bc09-d1e4e7390e6b",
   "metadata": {},
   "outputs": [],
   "source": [
    "query = \"\"\"SELECT ID, FirstName, LastName \n",
    "               FROM TestTable\"\"\""
   ]
  },
  {
   "cell_type": "code",
   "execution_count": 79,
   "id": "7772267c-2366-4dba-bb0f-44b5ee46fbcc",
   "metadata": {},
   "outputs": [],
   "source": [
    "result = read_query (conn, query)"
   ]
  },
  {
   "cell_type": "code",
   "execution_count": 80,
   "id": "4516e570",
   "metadata": {},
   "outputs": [
    {
     "data": {
      "text/plain": [
       "<pyodbc.Cursor at 0x24506fb93b0>"
      ]
     },
     "execution_count": 80,
     "metadata": {},
     "output_type": "execute_result"
    }
   ],
   "source": [
    "result2 = crs.execute('SELECT * FROM TestTable')\n",
    "result2"
   ]
  },
  {
   "cell_type": "code",
   "execution_count": 81,
   "id": "e7dea5dc",
   "metadata": {},
   "outputs": [
    {
     "data": {
      "text/plain": [
       "[(1, 'Bob', 'Marley'),\n",
       " (2, 'Bruce', 'Lee'),\n",
       " (3, 'Tom', 'Cat'),\n",
       " (5, 'Owen', 'William'),\n",
       " (7, 'Tom', 'Hanks'),\n",
       " (8, 'Bart', 'Simpson')]"
      ]
     },
     "execution_count": 81,
     "metadata": {},
     "output_type": "execute_result"
    }
   ],
   "source": [
    "crs.execute('SELECT * FROM TestTable')\n",
    "result = crs.fetchall()\n",
    "result"
   ]
  },
  {
   "cell_type": "code",
   "execution_count": 82,
   "id": "9e5df36a",
   "metadata": {},
   "outputs": [],
   "source": [
    "df = pd.DataFrame(result)"
   ]
  },
  {
   "cell_type": "code",
   "execution_count": 83,
   "id": "294917ee",
   "metadata": {},
   "outputs": [
    {
     "data": {
      "text/html": [
       "<div>\n",
       "<style scoped>\n",
       "    .dataframe tbody tr th:only-of-type {\n",
       "        vertical-align: middle;\n",
       "    }\n",
       "\n",
       "    .dataframe tbody tr th {\n",
       "        vertical-align: top;\n",
       "    }\n",
       "\n",
       "    .dataframe thead th {\n",
       "        text-align: right;\n",
       "    }\n",
       "</style>\n",
       "<table border=\"1\" class=\"dataframe\">\n",
       "  <thead>\n",
       "    <tr style=\"text-align: right;\">\n",
       "      <th></th>\n",
       "      <th>0</th>\n",
       "    </tr>\n",
       "  </thead>\n",
       "  <tbody>\n",
       "    <tr>\n",
       "      <th>0</th>\n",
       "      <td>[1, Bob, Marley]</td>\n",
       "    </tr>\n",
       "    <tr>\n",
       "      <th>1</th>\n",
       "      <td>[2, Bruce, Lee]</td>\n",
       "    </tr>\n",
       "    <tr>\n",
       "      <th>2</th>\n",
       "      <td>[3, Tom, Cat]</td>\n",
       "    </tr>\n",
       "    <tr>\n",
       "      <th>3</th>\n",
       "      <td>[5, Owen, William]</td>\n",
       "    </tr>\n",
       "    <tr>\n",
       "      <th>4</th>\n",
       "      <td>[7, Tom, Hanks]</td>\n",
       "    </tr>\n",
       "    <tr>\n",
       "      <th>5</th>\n",
       "      <td>[8, Bart, Simpson]</td>\n",
       "    </tr>\n",
       "  </tbody>\n",
       "</table>\n",
       "</div>"
      ],
      "text/plain": [
       "                    0\n",
       "0    [1, Bob, Marley]\n",
       "1     [2, Bruce, Lee]\n",
       "2       [3, Tom, Cat]\n",
       "3  [5, Owen, William]\n",
       "4     [7, Tom, Hanks]\n",
       "5  [8, Bart, Simpson]"
      ]
     },
     "execution_count": 83,
     "metadata": {},
     "output_type": "execute_result"
    }
   ],
   "source": [
    "df"
   ]
  },
  {
   "cell_type": "code",
   "execution_count": 84,
   "id": "fe3923d0",
   "metadata": {},
   "outputs": [],
   "source": [
    "a = []\n",
    "\n",
    "for result in result:\n",
    "    result = list(result)\n",
    "    a.append(result)"
   ]
  },
  {
   "cell_type": "code",
   "execution_count": 85,
   "id": "e2919c82",
   "metadata": {},
   "outputs": [
    {
     "data": {
      "text/plain": [
       "[[1, 'Bob', 'Marley'],\n",
       " [2, 'Bruce', 'Lee'],\n",
       " [3, 'Tom', 'Cat'],\n",
       " [5, 'Owen', 'William'],\n",
       " [7, 'Tom', 'Hanks'],\n",
       " [8, 'Bart', 'Simpson']]"
      ]
     },
     "execution_count": 85,
     "metadata": {},
     "output_type": "execute_result"
    }
   ],
   "source": [
    "a"
   ]
  },
  {
   "cell_type": "code",
   "execution_count": 86,
   "id": "4a7cecb8",
   "metadata": {},
   "outputs": [
    {
     "data": {
      "text/html": [
       "<div>\n",
       "<style scoped>\n",
       "    .dataframe tbody tr th:only-of-type {\n",
       "        vertical-align: middle;\n",
       "    }\n",
       "\n",
       "    .dataframe tbody tr th {\n",
       "        vertical-align: top;\n",
       "    }\n",
       "\n",
       "    .dataframe thead th {\n",
       "        text-align: right;\n",
       "    }\n",
       "</style>\n",
       "<table border=\"1\" class=\"dataframe\">\n",
       "  <thead>\n",
       "    <tr style=\"text-align: right;\">\n",
       "      <th></th>\n",
       "      <th>ID</th>\n",
       "      <th>FirstName</th>\n",
       "      <th>LastName</th>\n",
       "    </tr>\n",
       "  </thead>\n",
       "  <tbody>\n",
       "    <tr>\n",
       "      <th>0</th>\n",
       "      <td>1</td>\n",
       "      <td>Bob</td>\n",
       "      <td>Marley</td>\n",
       "    </tr>\n",
       "    <tr>\n",
       "      <th>1</th>\n",
       "      <td>2</td>\n",
       "      <td>Bruce</td>\n",
       "      <td>Lee</td>\n",
       "    </tr>\n",
       "    <tr>\n",
       "      <th>2</th>\n",
       "      <td>3</td>\n",
       "      <td>Tom</td>\n",
       "      <td>Cat</td>\n",
       "    </tr>\n",
       "    <tr>\n",
       "      <th>3</th>\n",
       "      <td>5</td>\n",
       "      <td>Owen</td>\n",
       "      <td>William</td>\n",
       "    </tr>\n",
       "    <tr>\n",
       "      <th>4</th>\n",
       "      <td>7</td>\n",
       "      <td>Tom</td>\n",
       "      <td>Hanks</td>\n",
       "    </tr>\n",
       "    <tr>\n",
       "      <th>5</th>\n",
       "      <td>8</td>\n",
       "      <td>Bart</td>\n",
       "      <td>Simpson</td>\n",
       "    </tr>\n",
       "  </tbody>\n",
       "</table>\n",
       "</div>"
      ],
      "text/plain": [
       "   ID FirstName LastName\n",
       "0   1       Bob   Marley\n",
       "1   2     Bruce      Lee\n",
       "2   3       Tom      Cat\n",
       "3   5      Owen  William\n",
       "4   7       Tom    Hanks\n",
       "5   8      Bart  Simpson"
      ]
     },
     "execution_count": 86,
     "metadata": {},
     "output_type": "execute_result"
    }
   ],
   "source": [
    "columns = ['ID','FirstName', 'LastName']\n",
    "df = pd.DataFrame(a, columns = columns)\n",
    "df"
   ]
  },
  {
   "cell_type": "code",
   "execution_count": 87,
   "id": "dc08547b",
   "metadata": {},
   "outputs": [
    {
     "name": "stdout",
     "output_type": "stream",
     "text": [
      "Query Succeessful!\n"
     ]
    }
   ],
   "source": [
    "query = 'USE SampleRetail'\n",
    "execute_query(conn, query)"
   ]
  },
  {
   "cell_type": "code",
   "execution_count": 88,
   "id": "3bc841f0",
   "metadata": {},
   "outputs": [
    {
     "data": {
      "text/html": [
       "<div>\n",
       "<style scoped>\n",
       "    .dataframe tbody tr th:only-of-type {\n",
       "        vertical-align: middle;\n",
       "    }\n",
       "\n",
       "    .dataframe tbody tr th {\n",
       "        vertical-align: top;\n",
       "    }\n",
       "\n",
       "    .dataframe thead th {\n",
       "        text-align: right;\n",
       "    }\n",
       "</style>\n",
       "<table border=\"1\" class=\"dataframe\">\n",
       "  <thead>\n",
       "    <tr style=\"text-align: right;\">\n",
       "      <th></th>\n",
       "      <th>product_id</th>\n",
       "      <th>product_name</th>\n",
       "      <th>brand_id</th>\n",
       "      <th>category_id</th>\n",
       "      <th>model_year</th>\n",
       "      <th>list_price</th>\n",
       "    </tr>\n",
       "  </thead>\n",
       "  <tbody>\n",
       "    <tr>\n",
       "      <th>0</th>\n",
       "      <td>1</td>\n",
       "      <td>DENAQ - AC Adapter for TOSHIBA SATELLITE 1700 ...</td>\n",
       "      <td>23</td>\n",
       "      <td>4</td>\n",
       "      <td>2021</td>\n",
       "      <td>23.99</td>\n",
       "    </tr>\n",
       "    <tr>\n",
       "      <th>1</th>\n",
       "      <td>2</td>\n",
       "      <td>NS-SP1800BL 5.1-Channel Home Theater System (B...</td>\n",
       "      <td>5</td>\n",
       "      <td>5</td>\n",
       "      <td>2021</td>\n",
       "      <td>136.99</td>\n",
       "    </tr>\n",
       "    <tr>\n",
       "      <th>2</th>\n",
       "      <td>3</td>\n",
       "      <td>Acoustimass 6 Series V Home Theater Speaker Sy...</td>\n",
       "      <td>24</td>\n",
       "      <td>5</td>\n",
       "      <td>2021</td>\n",
       "      <td>599.00</td>\n",
       "    </tr>\n",
       "    <tr>\n",
       "      <th>3</th>\n",
       "      <td>4</td>\n",
       "      <td>Corsair Vengeance LPX 16GB (2x8GB) DDR4 DRAM 3...</td>\n",
       "      <td>6</td>\n",
       "      <td>4</td>\n",
       "      <td>2021</td>\n",
       "      <td>151.99</td>\n",
       "    </tr>\n",
       "    <tr>\n",
       "      <th>4</th>\n",
       "      <td>5</td>\n",
       "      <td>Details About Samsung Gear Iconx 2018 Edition ...</td>\n",
       "      <td>1</td>\n",
       "      <td>14</td>\n",
       "      <td>2021</td>\n",
       "      <td>199.99</td>\n",
       "    </tr>\n",
       "    <tr>\n",
       "      <th>5</th>\n",
       "      <td>6</td>\n",
       "      <td>2TB Red 5400 rpm SATA III 3.5 Internal NAS HDD</td>\n",
       "      <td>12</td>\n",
       "      <td>4</td>\n",
       "      <td>2021</td>\n",
       "      <td>89.95</td>\n",
       "    </tr>\n",
       "    <tr>\n",
       "      <th>6</th>\n",
       "      <td>7</td>\n",
       "      <td>Details About Alpine 480w 6.5 2way Typee Coaxi...</td>\n",
       "      <td>35</td>\n",
       "      <td>5</td>\n",
       "      <td>2021</td>\n",
       "      <td>59.99</td>\n",
       "    </tr>\n",
       "    <tr>\n",
       "      <th>7</th>\n",
       "      <td>8</td>\n",
       "      <td>Kenwood KFC-1653MRW 6.5 2-way Marine Speakers ...</td>\n",
       "      <td>31</td>\n",
       "      <td>5</td>\n",
       "      <td>2021</td>\n",
       "      <td>99.99</td>\n",
       "    </tr>\n",
       "  </tbody>\n",
       "</table>\n",
       "</div>"
      ],
      "text/plain": [
       "   product_id                                       product_name  brand_id  \\\n",
       "0           1  DENAQ - AC Adapter for TOSHIBA SATELLITE 1700 ...        23   \n",
       "1           2  NS-SP1800BL 5.1-Channel Home Theater System (B...         5   \n",
       "2           3  Acoustimass 6 Series V Home Theater Speaker Sy...        24   \n",
       "3           4  Corsair Vengeance LPX 16GB (2x8GB) DDR4 DRAM 3...         6   \n",
       "4           5  Details About Samsung Gear Iconx 2018 Edition ...         1   \n",
       "5           6     2TB Red 5400 rpm SATA III 3.5 Internal NAS HDD        12   \n",
       "6           7  Details About Alpine 480w 6.5 2way Typee Coaxi...        35   \n",
       "7           8  Kenwood KFC-1653MRW 6.5 2-way Marine Speakers ...        31   \n",
       "\n",
       "   category_id  model_year  list_price  \n",
       "0            4        2021       23.99  \n",
       "1            5        2021      136.99  \n",
       "2            5        2021      599.00  \n",
       "3            4        2021      151.99  \n",
       "4           14        2021      199.99  \n",
       "5            4        2021       89.95  \n",
       "6            5        2021       59.99  \n",
       "7            5        2021       99.99  "
      ]
     },
     "execution_count": 88,
     "metadata": {},
     "output_type": "execute_result"
    }
   ],
   "source": [
    "df_prod = pd.read_sql(\"SELECT * FROM product.product\", con =conn)\n",
    "df_prod.head(8)"
   ]
  },
  {
   "cell_type": "code",
   "execution_count": 89,
   "id": "fba752f3-f9f8-4040-af99-a5c226e2fa60",
   "metadata": {},
   "outputs": [
    {
     "name": "stdout",
     "output_type": "stream",
     "text": [
      "Query Succeessful!\n"
     ]
    }
   ],
   "source": [
    "query = 'USE BikeStores'\n",
    "execute_query(conn,query)"
   ]
  },
  {
   "cell_type": "code",
   "execution_count": 90,
   "id": "66135894-92b7-40eb-ae44-7bad1e23a9be",
   "metadata": {},
   "outputs": [
    {
     "data": {
      "text/plain": [
       "[(1, 'Electra'),\n",
       " (2, 'Haro'),\n",
       " (3, 'Heller'),\n",
       " (4, 'Pure Cycles'),\n",
       " (5, 'Ritchey'),\n",
       " (6, 'Strider'),\n",
       " (7, 'Sun Bicycles'),\n",
       " (8, 'Surly'),\n",
       " (9, 'Trek')]"
      ]
     },
     "execution_count": 90,
     "metadata": {},
     "output_type": "execute_result"
    }
   ],
   "source": [
    "crs.execute(\"SELECT * FROM production.brands\").fetchall()"
   ]
  },
  {
   "cell_type": "code",
   "execution_count": 91,
   "id": "c7ac2b43-7cd9-4d7c-8e6b-5b1a7275b9b2",
   "metadata": {},
   "outputs": [
    {
     "data": {
      "text/html": [
       "<div>\n",
       "<style scoped>\n",
       "    .dataframe tbody tr th:only-of-type {\n",
       "        vertical-align: middle;\n",
       "    }\n",
       "\n",
       "    .dataframe tbody tr th {\n",
       "        vertical-align: top;\n",
       "    }\n",
       "\n",
       "    .dataframe thead th {\n",
       "        text-align: right;\n",
       "    }\n",
       "</style>\n",
       "<table border=\"1\" class=\"dataframe\">\n",
       "  <thead>\n",
       "    <tr style=\"text-align: right;\">\n",
       "      <th></th>\n",
       "      <th>brand_id</th>\n",
       "      <th>brand_name</th>\n",
       "    </tr>\n",
       "  </thead>\n",
       "  <tbody>\n",
       "    <tr>\n",
       "      <th>0</th>\n",
       "      <td>1</td>\n",
       "      <td>Electra</td>\n",
       "    </tr>\n",
       "    <tr>\n",
       "      <th>1</th>\n",
       "      <td>2</td>\n",
       "      <td>Haro</td>\n",
       "    </tr>\n",
       "    <tr>\n",
       "      <th>2</th>\n",
       "      <td>3</td>\n",
       "      <td>Heller</td>\n",
       "    </tr>\n",
       "    <tr>\n",
       "      <th>3</th>\n",
       "      <td>4</td>\n",
       "      <td>Pure Cycles</td>\n",
       "    </tr>\n",
       "    <tr>\n",
       "      <th>4</th>\n",
       "      <td>5</td>\n",
       "      <td>Ritchey</td>\n",
       "    </tr>\n",
       "    <tr>\n",
       "      <th>5</th>\n",
       "      <td>6</td>\n",
       "      <td>Strider</td>\n",
       "    </tr>\n",
       "    <tr>\n",
       "      <th>6</th>\n",
       "      <td>7</td>\n",
       "      <td>Sun Bicycles</td>\n",
       "    </tr>\n",
       "    <tr>\n",
       "      <th>7</th>\n",
       "      <td>8</td>\n",
       "      <td>Surly</td>\n",
       "    </tr>\n",
       "    <tr>\n",
       "      <th>8</th>\n",
       "      <td>9</td>\n",
       "      <td>Trek</td>\n",
       "    </tr>\n",
       "  </tbody>\n",
       "</table>\n",
       "</div>"
      ],
      "text/plain": [
       "   brand_id    brand_name\n",
       "0         1       Electra\n",
       "1         2          Haro\n",
       "2         3        Heller\n",
       "3         4   Pure Cycles\n",
       "4         5       Ritchey\n",
       "5         6       Strider\n",
       "6         7  Sun Bicycles\n",
       "7         8         Surly\n",
       "8         9          Trek"
      ]
     },
     "execution_count": 91,
     "metadata": {},
     "output_type": "execute_result"
    }
   ],
   "source": [
    "pd.read_sql(\"SELECT * FROM production.brands\", con = conn)"
   ]
  },
  {
   "cell_type": "code",
   "execution_count": 92,
   "id": "06ae1d82-741d-47e3-9f35-d1ff3a682b3a",
   "metadata": {},
   "outputs": [
    {
     "data": {
      "text/html": [
       "<div>\n",
       "<style scoped>\n",
       "    .dataframe tbody tr th:only-of-type {\n",
       "        vertical-align: middle;\n",
       "    }\n",
       "\n",
       "    .dataframe tbody tr th {\n",
       "        vertical-align: top;\n",
       "    }\n",
       "\n",
       "    .dataframe thead th {\n",
       "        text-align: right;\n",
       "    }\n",
       "</style>\n",
       "<table border=\"1\" class=\"dataframe\">\n",
       "  <thead>\n",
       "    <tr style=\"text-align: right;\">\n",
       "      <th></th>\n",
       "      <th>product_id</th>\n",
       "      <th>product_name</th>\n",
       "      <th>brand_id</th>\n",
       "      <th>category_id</th>\n",
       "      <th>model_year</th>\n",
       "      <th>list_price</th>\n",
       "    </tr>\n",
       "  </thead>\n",
       "  <tbody>\n",
       "    <tr>\n",
       "      <th>0</th>\n",
       "      <td>1</td>\n",
       "      <td>Trek 820 - 2016</td>\n",
       "      <td>9</td>\n",
       "      <td>6</td>\n",
       "      <td>2016</td>\n",
       "      <td>379.99</td>\n",
       "    </tr>\n",
       "    <tr>\n",
       "      <th>1</th>\n",
       "      <td>2</td>\n",
       "      <td>Ritchey Timberwolf Frameset - 2016</td>\n",
       "      <td>5</td>\n",
       "      <td>6</td>\n",
       "      <td>2016</td>\n",
       "      <td>749.99</td>\n",
       "    </tr>\n",
       "    <tr>\n",
       "      <th>2</th>\n",
       "      <td>3</td>\n",
       "      <td>Surly Wednesday Frameset - 2016</td>\n",
       "      <td>8</td>\n",
       "      <td>6</td>\n",
       "      <td>2016</td>\n",
       "      <td>999.99</td>\n",
       "    </tr>\n",
       "    <tr>\n",
       "      <th>3</th>\n",
       "      <td>4</td>\n",
       "      <td>Trek Fuel EX 8 29 - 2016</td>\n",
       "      <td>9</td>\n",
       "      <td>6</td>\n",
       "      <td>2016</td>\n",
       "      <td>2899.99</td>\n",
       "    </tr>\n",
       "    <tr>\n",
       "      <th>4</th>\n",
       "      <td>5</td>\n",
       "      <td>Heller Shagamaw Frame - 2016</td>\n",
       "      <td>3</td>\n",
       "      <td>6</td>\n",
       "      <td>2016</td>\n",
       "      <td>1320.99</td>\n",
       "    </tr>\n",
       "    <tr>\n",
       "      <th>5</th>\n",
       "      <td>6</td>\n",
       "      <td>Surly Ice Cream Truck Frameset - 2016</td>\n",
       "      <td>8</td>\n",
       "      <td>6</td>\n",
       "      <td>2016</td>\n",
       "      <td>469.99</td>\n",
       "    </tr>\n",
       "    <tr>\n",
       "      <th>6</th>\n",
       "      <td>7</td>\n",
       "      <td>Trek Slash 8 27.5 - 2016</td>\n",
       "      <td>9</td>\n",
       "      <td>6</td>\n",
       "      <td>2016</td>\n",
       "      <td>3999.99</td>\n",
       "    </tr>\n",
       "    <tr>\n",
       "      <th>7</th>\n",
       "      <td>8</td>\n",
       "      <td>Trek Remedy 29 Carbon Frameset - 2016</td>\n",
       "      <td>9</td>\n",
       "      <td>6</td>\n",
       "      <td>2016</td>\n",
       "      <td>1799.99</td>\n",
       "    </tr>\n",
       "    <tr>\n",
       "      <th>8</th>\n",
       "      <td>9</td>\n",
       "      <td>Trek Conduit+ - 2016</td>\n",
       "      <td>9</td>\n",
       "      <td>5</td>\n",
       "      <td>2016</td>\n",
       "      <td>2999.99</td>\n",
       "    </tr>\n",
       "    <tr>\n",
       "      <th>9</th>\n",
       "      <td>10</td>\n",
       "      <td>Surly Straggler - 2016</td>\n",
       "      <td>8</td>\n",
       "      <td>4</td>\n",
       "      <td>2016</td>\n",
       "      <td>1549.00</td>\n",
       "    </tr>\n",
       "  </tbody>\n",
       "</table>\n",
       "</div>"
      ],
      "text/plain": [
       "   product_id                           product_name  brand_id  category_id  \\\n",
       "0           1                        Trek 820 - 2016         9            6   \n",
       "1           2     Ritchey Timberwolf Frameset - 2016         5            6   \n",
       "2           3        Surly Wednesday Frameset - 2016         8            6   \n",
       "3           4               Trek Fuel EX 8 29 - 2016         9            6   \n",
       "4           5           Heller Shagamaw Frame - 2016         3            6   \n",
       "5           6  Surly Ice Cream Truck Frameset - 2016         8            6   \n",
       "6           7               Trek Slash 8 27.5 - 2016         9            6   \n",
       "7           8  Trek Remedy 29 Carbon Frameset - 2016         9            6   \n",
       "8           9                   Trek Conduit+ - 2016         9            5   \n",
       "9          10                 Surly Straggler - 2016         8            4   \n",
       "\n",
       "   model_year  list_price  \n",
       "0        2016      379.99  \n",
       "1        2016      749.99  \n",
       "2        2016      999.99  \n",
       "3        2016     2899.99  \n",
       "4        2016     1320.99  \n",
       "5        2016      469.99  \n",
       "6        2016     3999.99  \n",
       "7        2016     1799.99  \n",
       "8        2016     2999.99  \n",
       "9        2016     1549.00  "
      ]
     },
     "execution_count": 92,
     "metadata": {},
     "output_type": "execute_result"
    }
   ],
   "source": [
    "df_prod = pd.read_sql(\"SELECT * FROM production.products\", con = conn)\n",
    "df_prod.head(10)"
   ]
  },
  {
   "cell_type": "markdown",
   "id": "ab60e0a6-6889-4d60-99e5-531012e301ea",
   "metadata": {},
   "source": [
    "## DF to Databese"
   ]
  },
  {
   "cell_type": "code",
   "execution_count": 93,
   "id": "2bd7795d-30b7-478e-a2a8-024800c5565a",
   "metadata": {},
   "outputs": [],
   "source": [
    "import sqlalchemy\n",
    "import urllib"
   ]
  },
  {
   "cell_type": "code",
   "execution_count": null,
   "id": "319e13fd-b517-4df6-949c-97fb25f202cd",
   "metadata": {},
   "outputs": [],
   "source": [
    "# driver = '{ODBC Driver 17 for SQL Server}'\n",
    "# server = 'localhost' #şu anda server her birimizin kendi makinesi\n",
    "# database = 'Test_1'#yeni bir db oluşturacağız\n",
    "# user = 'sa' \n",
    "# password = '---'"
   ]
  },
  {
   "cell_type": "code",
   "execution_count": 95,
   "id": "7774cc39-786d-4a47-809f-aed6c77165d1",
   "metadata": {},
   "outputs": [],
   "source": [
    "# crs.execute('USE Test_1')"
   ]
  },
  {
   "cell_type": "code",
   "execution_count": 96,
   "id": "5070d364-f15b-43d4-827a-e0e55c2d8e49",
   "metadata": {},
   "outputs": [
    {
     "ename": "NameError",
     "evalue": "name 'driver' is not defined",
     "output_type": "error",
     "traceback": [
      "\u001b[1;31m---------------------------------------------------------------------------\u001b[0m",
      "\u001b[1;31mNameError\u001b[0m                                 Traceback (most recent call last)",
      "\u001b[1;32m~\\AppData\\Local\\Temp/ipykernel_3200/2561850961.py\u001b[0m in \u001b[0;36m<module>\u001b[1;34m\u001b[0m\n\u001b[1;32m----> 1\u001b[1;33m \u001b[0mparams\u001b[0m \u001b[1;33m=\u001b[0m \u001b[1;34m'DRIVER='\u001b[0m\u001b[1;33m+\u001b[0m\u001b[0mdriver\u001b[0m \u001b[1;33m+\u001b[0m \u001b[1;34m';SERVER='\u001b[0m \u001b[1;33m+\u001b[0m \u001b[0mserver\u001b[0m \u001b[1;33m+\u001b[0m\u001b[1;34m';PORT=1433;DATABASE='\u001b[0m\u001b[1;33m+\u001b[0m \u001b[0mdatabase\u001b[0m \u001b[1;33m+\u001b[0m \u001b[1;34m';UID='\u001b[0m \u001b[1;33m+\u001b[0m \u001b[0muser\u001b[0m \u001b[1;33m+\u001b[0m \u001b[1;34m';PWD='\u001b[0m \u001b[1;33m+\u001b[0m \u001b[0mpassword\u001b[0m\u001b[1;33m\u001b[0m\u001b[1;33m\u001b[0m\u001b[0m\n\u001b[0m",
      "\u001b[1;31mNameError\u001b[0m: name 'driver' is not defined"
     ]
    }
   ],
   "source": [
    "params = 'DRIVER='+driver + ';SERVER=' + server +';PORT=1433;DATABASE='+ database + ';UID=' + user + ';PWD=' + password "
   ]
  },
  {
   "cell_type": "code",
   "execution_count": null,
   "id": "6f03fede-96b3-43d4-bd8a-c25d417d247c",
   "metadata": {},
   "outputs": [],
   "source": [
    "db_params = urllib.parse.quote_plus (params)\n",
    "engine = sqlalchemy.create_engine(\"mssql+pyodbc:///?odbc_connect={}\".format(db_params))"
   ]
  },
  {
   "cell_type": "code",
   "execution_count": null,
   "id": "383019f5-5f8d-42ae-8502-3e53e1e84639",
   "metadata": {},
   "outputs": [],
   "source": [
    "df_prod = pd.read_sql(\"SELECT * FROM production.products where product_id <10\", con = conn)\n",
    "df_prod.head(10)"
   ]
  },
  {
   "cell_type": "code",
   "execution_count": null,
   "id": "faf5f232-77ae-4a9c-aa73-a2d6efe0d643",
   "metadata": {},
   "outputs": [],
   "source": [
    "df_prod.to_sql(\"products_bikes\", engine, index = False, if_exists = \"append\", schema = \"dbo\")"
   ]
  },
  {
   "cell_type": "code",
   "execution_count": null,
   "id": "fedc0e30-41ff-4565-9c04-92b8be4fb245",
   "metadata": {},
   "outputs": [],
   "source": []
  },
  {
   "cell_type": "code",
   "execution_count": null,
   "id": "c8d9215b-167d-4030-bd03-746f11557f8d",
   "metadata": {},
   "outputs": [],
   "source": []
  }
 ],
 "metadata": {
  "kernelspec": {
   "display_name": "Python 3 (ipykernel)",
   "language": "python",
   "name": "python3"
  },
  "language_info": {
   "codemirror_mode": {
    "name": "ipython",
    "version": 3
   },
   "file_extension": ".py",
   "mimetype": "text/x-python",
   "name": "python",
   "nbconvert_exporter": "python",
   "pygments_lexer": "ipython3",
   "version": "3.9.7"
  }
 },
 "nbformat": 4,
 "nbformat_minor": 5
}
