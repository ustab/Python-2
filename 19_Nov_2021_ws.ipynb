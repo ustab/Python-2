{
 "cells": [
  {
   "cell_type": "code",
   "execution_count": 2,
   "metadata": {
    "colab": {
     "base_uri": "https://localhost:8080/"
    },
    "id": "mI5ZVEc-e6wc",
    "outputId": "fb68fb87-e9c6-45e9-bfd9-a836cf33f491"
   },
   "outputs": [
    {
     "name": "stdout",
     "output_type": "stream",
     "text": [
      "pp\n",
      "rr\n",
      "qq\n"
     ]
    }
   ],
   "source": [
    "for x in set('pqr'):\n",
    "  print(x*2)"
   ]
  },
  {
   "cell_type": "code",
   "execution_count": 3,
   "metadata": {
    "colab": {
     "base_uri": "https://localhost:8080/"
    },
    "id": "beCTZE4MfZis",
    "outputId": "f3d287cf-ddf7-4fed-df34-e615e7aff6d3"
   },
   "outputs": [
    {
     "data": {
      "text/plain": [
       "40"
      ]
     },
     "execution_count": 3,
     "metadata": {},
     "output_type": "execute_result"
    }
   ],
   "source": [
    "d = {\"john\":40, \"peter\":45}\n",
    "d[\"john\"]"
   ]
  },
  {
   "cell_type": "code",
   "execution_count": 5,
   "metadata": {
    "colab": {
     "base_uri": "https://localhost:8080/"
    },
    "id": "xS8dsyGMfkj9",
    "outputId": "832cf1c8-cc7f-4022-b5f3-e91ab599a978"
   },
   "outputs": [
    {
     "name": "stdout",
     "output_type": "stream",
     "text": [
      "dict_keys(['john', 'peter'])\n"
     ]
    }
   ],
   "source": [
    "d = {\"john\":40, \"peter\":45}\n",
    "\n",
    "\n",
    "print(d.keys())"
   ]
  },
  {
   "cell_type": "code",
   "execution_count": 6,
   "metadata": {
    "colab": {
     "base_uri": "https://localhost:8080/"
    },
    "id": "pshOalcMf2TV",
    "outputId": "88a798f3-80eb-4652-abf5-ae8e6f1e9c37"
   },
   "outputs": [
    {
     "name": "stdout",
     "output_type": "stream",
     "text": [
      "{'a': 1, 'b': [2, 3, 4]}\n"
     ]
    }
   ],
   "source": [
    "a={}\n",
    "a['a']=1\n",
    "a['b']=[2,3,4]\n",
    "\n",
    "print(a)"
   ]
  },
  {
   "cell_type": "code",
   "execution_count": 8,
   "metadata": {
    "colab": {
     "base_uri": "https://localhost:8080/"
    },
    "id": "JonPg3a7gDj9",
    "outputId": "9a10e44a-940f-46ff-e4bd-1c2e02aa56d8"
   },
   "outputs": [
    {
     "name": "stdout",
     "output_type": "stream",
     "text": [
      "{'a', 'b', 'c'}\n",
      "{'san', 'a', 'b', 'c'}\n",
      "{'p', 'a', 'c', 'q', 'b', 'san'}\n"
     ]
    }
   ],
   "source": [
    "z=set('abc')\n",
    "print(z)\n",
    "z.add('san')\n",
    "print(z)\n",
    "z.update(set(['p', 'q']))\n",
    "\n",
    "\n",
    "print(z)"
   ]
  },
  {
   "cell_type": "code",
   "execution_count": 9,
   "metadata": {
    "colab": {
     "base_uri": "https://localhost:8080/"
    },
    "id": "d_CGip-ngaQ1",
    "outputId": "4dbd14be-e6ab-412b-beb8-3d3e958578a8"
   },
   "outputs": [
    {
     "name": "stdout",
     "output_type": "stream",
     "text": [
      "[(2019, 'Freshman'), (2020, 'Sophomore'), (2021, 'Junior'), (2022, 'Senior')]\n"
     ]
    }
   ],
   "source": [
    "college_years = ['Freshman', 'Sophomore', 'Junior', 'Senior']\n",
    "print(list(enumerate(college_years, 2019)))"
   ]
  },
  {
   "cell_type": "code",
   "execution_count": 16,
   "metadata": {
    "colab": {
     "base_uri": "https://localhost:8080/"
    },
    "id": "SG3YfTuAgpVF",
    "outputId": "a99b3b1b-6140-4d89-ce5d-caa7fe6a5fab"
   },
   "outputs": [
    {
     "name": "stdout",
     "output_type": "stream",
     "text": [
      "pls enter a number: 23\n",
      "23 its a prime number\n",
      "[1, 23]\n"
     ]
    }
   ],
   "source": [
    "pnumber = int(input(\"pls enter a number: \"))\n",
    "counter = 0\n",
    "cnt=[]\n",
    "for i in range(1, pnumber+1):\n",
    "  if pnumber %i == 0:\n",
    "    cnt.append(i)\n",
    "    counter +=1\n",
    "if counter<=2:\n",
    "  print(pnumber, \"its a prime number\")\n",
    "else:\n",
    "  print(pnumber, \"its not a prime number\")\n",
    "\n",
    "print(cnt)"
   ]
  },
  {
   "cell_type": "code",
   "execution_count": 18,
   "metadata": {
    "colab": {
     "base_uri": "https://localhost:8080/"
    },
    "id": "tQJQ7vrTi4JR",
    "outputId": "7f20a498-f9a3-41cc-a304-26519713d52e"
   },
   "outputs": [
    {
     "name": "stdout",
     "output_type": "stream",
     "text": [
      "enter value5\n",
      "enter value24\n",
      "29\n"
     ]
    }
   ],
   "source": [
    "x = input(\"enter value\")\n",
    "y = input(\"enter value\")\n",
    "\n",
    "if x.isnumeric() and y.isnumeric():\n",
    "  print(int(x)+int(y))\n",
    "else:\n",
    "  print(\"wrong enter\")"
   ]
  },
  {
   "cell_type": "code",
   "execution_count": 19,
   "metadata": {
    "colab": {
     "base_uri": "https://localhost:8080/"
    },
    "id": "ZFFKsiK1jxqh",
    "outputId": "32bca5e6-f8ba-45dc-c64e-30a2ccd655c0"
   },
   "outputs": [
    {
     "name": "stdout",
     "output_type": "stream",
     "text": [
      "enter s.thingankara\n",
      "ank$r$\n"
     ]
    }
   ],
   "source": [
    "text = input(\"enter s.thing\")\n",
    "\n",
    "print(text[0]+ text[1:].replace(text[0],\"$\"))\n"
   ]
  },
  {
   "cell_type": "code",
   "execution_count": 20,
   "metadata": {
    "colab": {
     "base_uri": "https://localhost:8080/"
    },
    "id": "c4Fjxn3nk2Zq",
    "outputId": "640cecf2-6801-4209-a67f-b1d2d293fbe7"
   },
   "outputs": [
    {
     "name": "stdout",
     "output_type": "stream",
     "text": [
      "['ate', 'bat', 'eat', 'nat', 'tan', 'tea']\n"
     ]
    }
   ],
   "source": [
    "a= [\"eat\", \"tea\", \"tan\", \"ate\", \"nat\", \"bat\"]\n",
    "\n",
    "print(sorted(a))\n",
    "for i in len(a):\n",
    "  "
   ]
  },
  {
   "cell_type": "code",
   "execution_count": null,
   "metadata": {
    "id": "D7BWXSqplrdo"
   },
   "outputs": [],
   "source": []
  }
 ],
 "metadata": {
  "colab": {
   "name": "Untitled17.ipynb",
   "provenance": []
  },
  "kernelspec": {
   "display_name": "Python 3",
   "language": "python",
   "name": "python3"
  },
  "language_info": {
   "codemirror_mode": {
    "name": "ipython",
    "version": 3
   },
   "file_extension": ".py",
   "mimetype": "text/x-python",
   "name": "python",
   "nbconvert_exporter": "python",
   "pygments_lexer": "ipython3",
   "version": "3.8.8"
  }
 },
 "nbformat": 4,
 "nbformat_minor": 4
}
