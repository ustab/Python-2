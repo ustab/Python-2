{
 "cells": [
  {
   "cell_type": "code",
   "execution_count": 1,
   "id": "b39ed4a8-82a8-4d15-b5e7-47066928c253",
   "metadata": {},
   "outputs": [
    {
     "ename": "SyntaxError",
     "evalue": "invalid syntax (<ipython-input-1-72599dd9e8cc>, line 1)",
     "output_type": "error",
     "traceback": [
      "\u001b[1;36m  File \u001b[1;32m\"<ipython-input-1-72599dd9e8cc>\"\u001b[1;36m, line \u001b[1;32m1\u001b[0m\n\u001b[1;33m    sonuc = (sonuc = sonuc) * 2\u001b[0m\n\u001b[1;37m                   ^\u001b[0m\n\u001b[1;31mSyntaxError\u001b[0m\u001b[1;31m:\u001b[0m invalid syntax\n"
     ]
    }
   ],
   "source": [
    "sonuc = (sonuc = sonuc) * 2\n",
    "sonuc "
   ]
  },
  {
   "cell_type": "code",
   "execution_count": 3,
   "id": "ad604e29-12d4-43d5-b8b4-18503c6ab976",
   "metadata": {},
   "outputs": [
    {
     "data": {
      "text/plain": [
       "'121121'"
      ]
     },
     "execution_count": 3,
     "metadata": {},
     "output_type": "execute_result"
    }
   ],
   "source": [
    "sonuc = str((5 + 6) ** 2) + \"121\"\n",
    "sonuc"
   ]
  },
  {
   "cell_type": "code",
   "execution_count": 4,
   "id": "abf4ae5f-a27c-432c-b6b3-17fe935f5177",
   "metadata": {},
   "outputs": [
    {
     "name": "stdout",
     "output_type": "stream",
     "text": [
      "c l a r u s w a y\n"
     ]
    }
   ],
   "source": [
    "print(* \"clarusway\")"
   ]
  },
  {
   "cell_type": "code",
   "execution_count": 6,
   "id": "f3802678-850b-4a11-805b-ab3c5a792656",
   "metadata": {},
   "outputs": [
    {
     "name": "stdout",
     "output_type": "stream",
     "text": [
      "I   a m   a n g r y . . .\n"
     ]
    }
   ],
   "source": [
    "string_1 = 'I am angry...'\n",
    "print(* string_1)"
   ]
  },
  {
   "cell_type": "code",
   "execution_count": 7,
   "id": "dfab0bfa-d6c3-4da7-ab33-6bdf6c38db3d",
   "metadata": {},
   "outputs": [
    {
     "ename": "TypeError",
     "evalue": "unsupported operand type(s) for +: 'int' and 'str'",
     "output_type": "error",
     "traceback": [
      "\u001b[1;31m---------------------------------------------------------------------------\u001b[0m",
      "\u001b[1;31mTypeError\u001b[0m                                 Traceback (most recent call last)",
      "\u001b[1;32m<ipython-input-7-b780703cc5f9>\u001b[0m in \u001b[0;36m<module>\u001b[1;34m\u001b[0m\n\u001b[1;32m----> 1\u001b[1;33m \u001b[1;36m1\u001b[0m \u001b[1;33m+\u001b[0m \u001b[1;34m\"1\"\u001b[0m\u001b[1;33m\u001b[0m\u001b[1;33m\u001b[0m\u001b[0m\n\u001b[0m",
      "\u001b[1;31mTypeError\u001b[0m: unsupported operand type(s) for +: 'int' and 'str'"
     ]
    }
   ],
   "source": [
    "1 + \"1\""
   ]
  },
  {
   "cell_type": "code",
   "execution_count": 8,
   "id": "96385564-f9d5-415f-a461-aeb9e80cadeb",
   "metadata": {},
   "outputs": [
    {
     "data": {
      "text/plain": [
       "'metodlar'"
      ]
     },
     "execution_count": 8,
     "metadata": {},
     "output_type": "execute_result"
    }
   ],
   "source": [
    "\"metodlar\".format()"
   ]
  },
  {
   "cell_type": "code",
   "execution_count": 12,
   "id": "4fe9d878-1920-46b2-a64b-ed2b83ee2503",
   "metadata": {},
   "outputs": [
    {
     "data": {
      "text/plain": [
       "\"Ben sabah 05:00 de uyandim. okul'a gittim. Gelirken de 2 kg elma aldim.\""
      ]
     },
     "execution_count": 12,
     "metadata": {},
     "output_type": "execute_result"
    }
   ],
   "source": [
    "Saat = \"05:00\"\n",
    "yer = \"okul\"\n",
    "miktar = 2\n",
    "\"Ben sabah {} de uyandim. {}'a gittim. Gelirken de {} kg elma aldim.\".format(Saat, yer, 2)"
   ]
  },
  {
   "cell_type": "code",
   "execution_count": 13,
   "id": "beec1b26-c347-40b5-b47d-18382e46eabc",
   "metadata": {},
   "outputs": [
    {
     "data": {
      "text/plain": [
       "\"Ben sabah 5:00 de uyandim. okul'a gittim. Gelirken de 2 kg elma aldim.\""
      ]
     },
     "execution_count": 13,
     "metadata": {},
     "output_type": "execute_result"
    }
   ],
   "source": [
    "Saat = \"05:00\"\n",
    "yer = \"okul\"\n",
    "miktar = 2\n",
    "\"Ben sabah {} de uyandim. {}'a gittim. Gelirken de {} kg elma aldim.\".format(\"5:00\", \"okul\", 2)"
   ]
  },
  {
   "cell_type": "code",
   "execution_count": 14,
   "id": "47053938-f0b6-4b4b-adb1-7972900e16d0",
   "metadata": {},
   "outputs": [
    {
     "data": {
      "text/plain": [
       "\"Ben sabah 05:00 de uyandim. okul'a gittim. Gelirken de 2 kg elma aldim.\""
      ]
     },
     "execution_count": 14,
     "metadata": {},
     "output_type": "execute_result"
    }
   ],
   "source": [
    "\"Ben sabah {Saat} de uyandim. {yer}'a gittim. Gelirken de {miktar} kg elma aldim.\".format(yer = \"okul\", Saat = \"05:00\", miktar = 2)"
   ]
  },
  {
   "cell_type": "code",
   "execution_count": 15,
   "id": "7fef4c6a-4fb2-4038-b963-62d2cd67dc13",
   "metadata": {},
   "outputs": [
    {
     "data": {
      "text/plain": [
       "\"Ben sabah 5:00 de uyandim. okul'a gittim. Gelirken de 2 kg elma aldim.\""
      ]
     },
     "execution_count": 15,
     "metadata": {},
     "output_type": "execute_result"
    }
   ],
   "source": [
    "\"Ben sabah {1} de uyandim. {0}'a gittim. Gelirken de {2} kg elma aldim.\".format(\"okul\", \"5:00\",  2)"
   ]
  },
  {
   "cell_type": "code",
   "execution_count": 17,
   "id": "1780adc4-0832-4164-8808-f32559d64338",
   "metadata": {},
   "outputs": [
    {
     "name": "stdout",
     "output_type": "stream",
     "text": [
      "generosity wins in all circumstances\n"
     ]
    }
   ],
   "source": [
    "phrase = '{2} {3} {1} {0}'.format('circumstances', 'in all', 'generosity', 'wins')\n",
    "print(phrase)"
   ]
  },
  {
   "cell_type": "code",
   "execution_count": 21,
   "id": "0cff13c3-905a-4bd9-8294-75d2808521fa",
   "metadata": {},
   "outputs": [
    {
     "name": "stdout",
     "output_type": "stream",
     "text": [
      "1111\n"
     ]
    }
   ],
   "source": [
    "text = f\"{str(11) + '11'}\"\n",
    "print(text) "
   ]
  },
  {
   "cell_type": "code",
   "execution_count": 22,
   "id": "4533d4d3-6ed8-4070-8ed0-321fd2dc1359",
   "metadata": {},
   "outputs": [
    {
     "name": "stdout",
     "output_type": "stream",
     "text": [
      "ali veli deli\n"
     ]
    }
   ],
   "source": [
    "text = f\"ali veli {'seli'.replace('s', 'd')}\"\n",
    "print(text)\n"
   ]
  },
  {
   "cell_type": "code",
   "execution_count": 28,
   "id": "8347a7fc-6c81-49f6-836e-8d3bca2fd9b6",
   "metadata": {},
   "outputs": [
    {
     "name": "stdout",
     "output_type": "stream",
     "text": [
      "My name is Mariam\n"
     ]
    }
   ],
   "source": [
    "name = \"MARIAM\"\n",
    "output = f\"My name is {name.capitalize()}\"\n",
    "print(output)"
   ]
  },
  {
   "cell_type": "code",
   "execution_count": 29,
   "id": "b215c85b-ca8c-407b-a443-a354822c63a1",
   "metadata": {},
   "outputs": [
    {
     "data": {
      "text/plain": [
       "\"Ben sabah 5:00 de uyandim. okul'a gittim. Gelirken de 2 kg elma aldim.\""
      ]
     },
     "execution_count": 29,
     "metadata": {},
     "output_type": "execute_result"
    }
   ],
   "source": [
    "\"Ben sabah {1} de uyandim. {0}'a gittim. Gelirken de {2} kg elma aldim.\".format(\\\n",
    "    \"okul\", \"5:00\",  2)"
   ]
  },
  {
   "cell_type": "code",
   "execution_count": 31,
   "id": "8a1d07ad-efdd-4070-ba69-d681621909ce",
   "metadata": {},
   "outputs": [
    {
     "data": {
      "text/plain": [
       "\"Ben sabah 5:00 de uyandim. okul'a gittim. Gelirken de 2 kg elma aldim.\""
      ]
     },
     "execution_count": 31,
     "metadata": {},
     "output_type": "execute_result"
    }
   ],
   "source": [
    "\"Ben sabah {1} de uyandim. {0}'a gittim. Gelirken \\\n",
    "de {2} kg elma aldim.\".format(\\\n",
    "                              \"okul\", \"5:00\",  2)"
   ]
  },
  {
   "cell_type": "code",
   "execution_count": 34,
   "id": "cffe8921-0635-4d53-8deb-152b292fdd31",
   "metadata": {},
   "outputs": [
    {
     "name": "stdout",
     "output_type": "stream",
     "text": [
      "Susan is a young lady at CLRWY IT university\n"
     ]
    }
   ],
   "source": [
    "name = \"Susan\"\n",
    "age = \"young\"\n",
    "gender = \"lady\"\n",
    "school = \"CLRWY IT university\"\n",
    "output = (\n",
    "    f\"{name} is a {age}\"\n",
    "    f\" {gender} at {school}\"\n",
    ")\n",
    "    \n",
    "print(output)"
   ]
  },
  {
   "cell_type": "code",
   "execution_count": null,
   "id": "5e7d689b-4042-4d64-9858-f0ef506667f2",
   "metadata": {},
   "outputs": [],
   "source": []
  }
 ],
 "metadata": {
  "kernelspec": {
   "display_name": "Python 3",
   "language": "python",
   "name": "python3"
  },
  "language_info": {
   "codemirror_mode": {
    "name": "ipython",
    "version": 3
   },
   "file_extension": ".py",
   "mimetype": "text/x-python",
   "name": "python",
   "nbconvert_exporter": "python",
   "pygments_lexer": "ipython3",
   "version": "3.8.8"
  }
 },
 "nbformat": 4,
 "nbformat_minor": 5
}
