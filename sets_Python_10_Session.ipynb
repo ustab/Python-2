{
 "cells": [
  {
   "cell_type": "code",
   "execution_count": null,
   "metadata": {
    "id": "8Q2cRXIjCOGG"
   },
   "outputs": [],
   "source": []
  },
  {
   "cell_type": "code",
   "execution_count": 1,
   "metadata": {
    "id": "U0LcA5j-_N5E"
   },
   "outputs": [],
   "source": [
    "##################   Pre Class        ######################"
   ]
  },
  {
   "cell_type": "code",
   "execution_count": 2,
   "metadata": {
    "id": "IWMsYzWALJtF"
   },
   "outputs": [],
   "source": [
    "### Önemli bir hatirlatma ve Kolaylik:\n",
    "\n",
    "# Python da bir satiri yada birden cok satiri ayni anda iki tarafindan parantez yada\n",
    "\n",
    "# tirnak icerisine nasil aliriz??\n",
    "\n",
    "# (Tüm satirlari seciyoruz ve sonra ne icerisine almak istiyorsak o tusa basiyoruz) \n",
    "\n",
    "# mesela süslü parantez alt + 7  tusu ile cikiyor benim pc' m de.\n",
    "\n",
    "# tüm satirlari secip alt + 7 yapiyoruz\n",
    "\n",
    "# peki ikisini nasil ayni anda geri aliyoruz\n",
    "    "
   ]
  },
  {
   "cell_type": "code",
   "execution_count": null,
   "metadata": {},
   "outputs": [],
   "source": []
  },
  {
   "cell_type": "code",
   "execution_count": null,
   "metadata": {
    "id": "WsLDqYQCLJ_W"
   },
   "outputs": [],
   "source": []
  },
  {
   "cell_type": "code",
   "execution_count": 3,
   "metadata": {
    "id": "yEjFdckpCRM2"
   },
   "outputs": [
    {
     "name": "stdout",
     "output_type": "stream",
     "text": [
      "[123]\n",
      "[]\n",
      "[True, []]\n",
      "[]\n"
     ]
    }
   ],
   "source": [
    "##  Check your self ??\n",
    "\n",
    "## Which of following creates a new list in a correct way?\n",
    "\n",
    "print([123])  # bu\n",
    "\n",
    "print(list())  # bu\n",
    "\n",
    "print([True, []])  # bu \n",
    "\n",
    "# print(list[123])\n",
    "\n",
    "# print(list(123))\n",
    "\n",
    "# print(())\n",
    "\n",
    "# print(list['123'])\n",
    "\n",
    "print([])  # bu"
   ]
  },
  {
   "cell_type": "code",
   "execution_count": null,
   "metadata": {
    "id": "1-OpLlzsCUKA"
   },
   "outputs": [],
   "source": []
  },
  {
   "cell_type": "code",
   "execution_count": null,
   "metadata": {
    "id": "TrGIArtGCUML"
   },
   "outputs": [],
   "source": []
  },
  {
   "cell_type": "code",
   "execution_count": 4,
   "metadata": {
    "id": "mLNhjFZ3CUN9"
   },
   "outputs": [],
   "source": [
    "# Set(Küme) yöntemlerini tanımlarıyla eşleştiriniz\n",
    "\n",
    "# intersection()                        ## Bir öğeyi silmemizi sağlar. \n",
    "\n",
    "# remove()                              ## ### İki kümenin kesişimini döndürür.\n",
    "                                \n",
    "# difference()                          ### İki kümenin birleşimini döndürür.\n",
    "\n",
    "# union()                               ### İki kümenin farkını alır.\n",
    "\n",
    "# add()                                 ##  Kümeye yeni bir öğe ekler.\n",
    "\n"
   ]
  },
  {
   "cell_type": "code",
   "execution_count": null,
   "metadata": {
    "id": "tlHnRJpnCUP6"
   },
   "outputs": [],
   "source": []
  },
  {
   "cell_type": "code",
   "execution_count": null,
   "metadata": {
    "id": "Zp9YlIztCURw"
   },
   "outputs": [],
   "source": []
  },
  {
   "cell_type": "code",
   "execution_count": 5,
   "metadata": {
    "id": "rptmKHQLCUTy"
   },
   "outputs": [],
   "source": [
    "##############   Set  (Küme) ################"
   ]
  },
  {
   "cell_type": "code",
   "execution_count": 6,
   "metadata": {
    "id": "Zi3xPlTFCUVa"
   },
   "outputs": [],
   "source": [
    "# Set sıralı düzende olmayan elemanların bir koleksiyonudur. Yani unordered dir\n",
    "\n",
    "# Kümeler matematikteki kümeler ile ayni mantikta calisir\n",
    "\n",
    "# Temel kullanımlar, üyelik testini ve yinelenen girişleri ortadan kaldırmayı içerir.\n",
    "\n",
    "# Yani set lerde tekrara yer yoktur. Ve her bir eleman unique dir. (no repetition)\n",
    "\n",
    "# biz seti nasil tanimlarsak tanimlayalim  print ettigimizde python tekrar eden elemanlari\n",
    "\n",
    "# cikartir ve kendi istedigi sirada print eder.\n",
    "\n",
    "# dolayisi ile set lerde sort diye bir method söz konusu degildir.\n",
    "\n",
    "# sorted vardir liste yapar\n",
    "\n",
    "# Hicbir elemani index numarasina göre indexleyemez yada slicing yapamayiz. Cünkü\n",
    "\n",
    "# mesela su an 3. index numarasinda bulunan elemanimiz baska bir zaman calistirdigimizda \n",
    "\n",
    "# 13. index numarasinda bulunabilir. Ancak bir kernel da bir kez calistirdiktan sonra \n",
    "\n",
    "# calisma zamanini yenilemedigimiz sürece ayni sonucu verir\n",
    "\n",
    "# kümemiz = [1,2,3,1,2,0,1,2,3]  # Bu set de 9 elemanimiz var. \n",
    "\n",
    "# print(len(kümemiz))            # 1. ve 2. output larda kac elemanimiz olur??\n",
    "\n",
    "\n",
    "#kümemiz = {1,2,3,1,2,0,1,2,3}\n",
    "\n",
    "#print(sorted(kümemiz))"
   ]
  },
  {
   "cell_type": "code",
   "execution_count": 7,
   "metadata": {
    "id": "fMNQrjay52G9"
   },
   "outputs": [
    {
     "name": "stdout",
     "output_type": "stream",
     "text": [
      "[0, 1, 12, 13, 15, 20, 42, 63, 100]\n"
     ]
    }
   ],
   "source": [
    "kümemiz = {1,20,13,100,12,0,15,42,63}\n",
    "\n",
    "print(sorted(kümemiz))  # sorted metodu ile set yada tuple lsteye cevrilip siralanir. sort() fonksiyonundan farklidir."
   ]
  },
  {
   "cell_type": "code",
   "execution_count": 8,
   "metadata": {
    "id": "fMNQrjay52G9"
   },
   "outputs": [
    {
     "name": "stdout",
     "output_type": "stream",
     "text": [
      "['b', 'e', 'e', 'e', 'm', 'r', 'y']\n"
     ]
    }
   ],
   "source": [
    "setim =\"emrebey\"\n",
    "print(sorted(setim))"
   ]
  },
  {
   "cell_type": "code",
   "execution_count": 9,
   "metadata": {
    "id": "fMNQrjay52G9"
   },
   "outputs": [
    {
     "name": "stdout",
     "output_type": "stream",
     "text": [
      "{'m', 'r', 'e', 'b', 'y'}\n"
     ]
    }
   ],
   "source": [
    "setim =\"emrebey\"\n",
    "print(set(sorted(setim)))"
   ]
  },
  {
   "cell_type": "code",
   "execution_count": 10,
   "metadata": {
    "id": "fMNQrjay52G9"
   },
   "outputs": [],
   "source": [
    "# Küme nesneleri aynı zamanda birleşim, kesişim, fark ve simetrik fark gibi \n",
    "# matematiksel işlemleri de destekler.\n",
    "\n",
    "# İçlerinde birden fazla veri tutabilirler, ancak yalnızca bir değeri vardır. \n",
    "\n",
    "# Hangi sırayla dahil edildiklerinin değil, yalnızca bazı şeylerin \n",
    "\n",
    "# birlikte gruplandırılmasının önemli olduğu durumlarda kullanılırlar."
   ]
  },
  {
   "cell_type": "code",
   "execution_count": 11,
   "metadata": {
    "id": "Fev2BadG5-4g"
   },
   "outputs": [],
   "source": [
    "## Peki veri giris tarihlerimizin önemli oldugu ve bu tarih siralamasinin kesinlikle\n",
    "\n",
    "# degismemesi gereken mesela sirkete katilan personel tarihleri gibi veriler icin \n",
    "\n",
    "# hangi collection type i kullanmamiz gerekir ??"
   ]
  },
  {
   "cell_type": "code",
   "execution_count": 12,
   "metadata": {
    "id": "FHADSNIJA3Mv"
   },
   "outputs": [
    {
     "name": "stdout",
     "output_type": "stream",
     "text": [
      "['a', 'b', 'c', 'd', 'e', 'f', 'g']\n",
      "<class 'list'>\n",
      "<class 'str'>\n"
     ]
    }
   ],
   "source": [
    "### Hatirlatma\n",
    "\n",
    "## split() func nasil kullanilir? \n",
    "\n",
    "string = \"a b c d e f g\".split()  ## split() func default' u space dir.\n",
    "\n",
    "print(string)                  ### sirasiyla outputlarimiz nelerdir ? \n",
    " \n",
    "print(type(string))\n",
    "\n",
    "print(type(string[0]))     #### outputlarimizda veri tiplerine dikkat    "
   ]
  },
  {
   "cell_type": "code",
   "execution_count": 13,
   "metadata": {
    "id": "pyKRt0Qg5_d7"
   },
   "outputs": [
    {
     "name": "stdout",
     "output_type": "stream",
     "text": [
      "['a', 'b', 'c', 'd', 'e', 'f', 'g']\n",
      "<class 'list'>\n",
      "<class 'str'>\n"
     ]
    }
   ],
   "source": [
    "string = \"a*b*c*d*e*f*g\".split(\"*\")   ### Attention: Burada sonuc ne olur?  \n",
    "                                    ## Error alir miyiz ??\n",
    "print(string)                  \n",
    " \n",
    "print(type(string))\n",
    "\n",
    "print(type(string[0])) "
   ]
  },
  {
   "cell_type": "code",
   "execution_count": 14,
   "metadata": {
    "id": "-vahHvjlCH5H"
   },
   "outputs": [
    {
     "name": "stdout",
     "output_type": "stream",
     "text": [
      "a+b+c+d+e+f+g\n",
      "['a', 'b', 'c', 'd', 'e', 'f', 'g']\n"
     ]
    }
   ],
   "source": [
    "string = \"a+b+c+d+e+f+g\"\n",
    "\n",
    "string.split(\"+\")   ### bizce split func bu sekilde calisir mi ? \n",
    "                    ##  output ??\n",
    "\n",
    "string2 = string.split(\"+\")\n",
    "\n",
    "print(string)\n",
    "print(string2)\n"
   ]
  },
  {
   "cell_type": "code",
   "execution_count": 15,
   "metadata": {
    "id": "HbXDJ1ZeBoSm"
   },
   "outputs": [],
   "source": [
    "### split() func calisma prensibini ögrendik.\n",
    "\n",
    "# Peki strip()  func'i hatirlayanimiz var mi ??\n",
    "\n"
   ]
  },
  {
   "cell_type": "code",
   "execution_count": null,
   "metadata": {
    "id": "mYV6fw_dDss9"
   },
   "outputs": [],
   "source": []
  },
  {
   "cell_type": "code",
   "execution_count": 16,
   "metadata": {
    "id": "6NftSennDtMP"
   },
   "outputs": [
    {
     "name": "stdout",
     "output_type": "stream",
     "text": [
      "a+b+c+d+e+f+g\n",
      " a+b+c+d+e+f+g \n"
     ]
    }
   ],
   "source": [
    "string = \" a+b+c+d+e+f+g \".strip()  ## iki adet output umuz var\n",
    "                                    # bizce fark nedir??\n",
    "print(string)                        # strip ile bastaki ve sondaki bosluklari siler\n",
    "\n",
    "print(\" a+b+c+d+e+f+g \")"
   ]
  },
  {
   "cell_type": "code",
   "execution_count": 17,
   "metadata": {
    "id": "h5NGu15dD-GR"
   },
   "outputs": [
    {
     "name": "stdout",
     "output_type": "stream",
     "text": [
      " a b c d e f g \n"
     ]
    }
   ],
   "source": [
    "## ayni split() func gibi strip() func nin da default' u space dir.\n",
    "\n",
    "## peki biz sagdaki ve soldaki elemanlari traslama methodu ile nasil keseriz??\n",
    "\n",
    "## Burada output nedir? sagdan ve soldan sadece birer + mi keseriz ? yoksa tüm artilari mi?\n",
    "\n",
    "eskistring = \"c+++++++++ a b c d e f g +++++++++c\"\n",
    "\n",
    "yenistring = eskistring.strip(\"c+\")   ### Attention: +++ lar \"\" icerisinde kullaniyoruz  strip fonksiyonu icine atanan brimleri bastan ve sondan siler\n",
    "\n",
    "print(yenistring)"
   ]
  },
  {
   "cell_type": "code",
   "execution_count": null,
   "metadata": {
    "id": "PILKKIx2FDmA"
   },
   "outputs": [],
   "source": []
  },
  {
   "cell_type": "code",
   "execution_count": 18,
   "metadata": {
    "id": "BSKjLB0tCRO-"
   },
   "outputs": [],
   "source": [
    "                  ######  Yeni bir set olusturma    ######"
   ]
  },
  {
   "cell_type": "code",
   "execution_count": 19,
   "metadata": {
    "id": "oR89YaMGCRQz"
   },
   "outputs": [],
   "source": [
    "# Set olusturmanin iki yöntemi vardir\n",
    "\n",
    "# Süslü parantez '{1,2,3}' veya set() func set oluşturmak için kullanılabilir . \n",
    "\n",
    "# Ancak boş bir set oluşturmanın tek yolu şudur: set()  func"
   ]
  },
  {
   "cell_type": "code",
   "execution_count": 20,
   "metadata": {
    "id": "ayvASLF0IQAO"
   },
   "outputs": [
    {
     "name": "stdout",
     "output_type": "stream",
     "text": [
      "[] <class 'list'>\n"
     ]
    }
   ],
   "source": [
    "# Öncelikle Bos liste, bos tuple ve bos dict olusturmayi hatirlayalim\n",
    "\n",
    "a = []\n",
    "\n",
    "print(a, type(a))"
   ]
  },
  {
   "cell_type": "code",
   "execution_count": 21,
   "metadata": {
    "id": "bLb1UWbwIQCG"
   },
   "outputs": [
    {
     "name": "stdout",
     "output_type": "stream",
     "text": [
      "() <class 'tuple'>\n"
     ]
    }
   ],
   "source": [
    "b = ()\n",
    "\n",
    "print(b, type(b))"
   ]
  },
  {
   "cell_type": "code",
   "execution_count": 22,
   "metadata": {
    "id": "WZf9pRRlIQD-"
   },
   "outputs": [
    {
     "name": "stdout",
     "output_type": "stream",
     "text": [
      "{} <class 'dict'>\n"
     ]
    }
   ],
   "source": [
    "c = {}\n",
    "\n",
    "print(c, type(c))\n",
    "\n",
    "# Biz bos {} kullandigimizda bos set degil bos dict üretir.\n",
    "\n",
    "# Iste bu nedenle bizim bos bir set olusturmamizin tek yolu set() kullanmaktir\n",
    "\n",
    "# d = set()\n",
    "\n",
    "# print(d, type(d))"
   ]
  },
  {
   "cell_type": "code",
   "execution_count": 23,
   "metadata": {
    "id": "sPcOhFyU21mu"
   },
   "outputs": [
    {
     "name": "stdout",
     "output_type": "stream",
     "text": [
      "{} <class 'dict'>\n"
     ]
    }
   ],
   "source": [
    "d = {}\n",
    "\n",
    "print(d, type(d))   "
   ]
  },
  {
   "cell_type": "code",
   "execution_count": 24,
   "metadata": {
    "id": "QwXIrumt3W5q"
   },
   "outputs": [
    {
     "name": "stdout",
     "output_type": "stream",
     "text": [
      "{} <class 'dict'> 0\n"
     ]
    }
   ],
   "source": [
    "## Peki biz  manuel olarak {} acsak ve araya bir bosluk koysak \n",
    "\n",
    "# 1: Veri tipi ne olur \n",
    "\n",
    "# 2: Setin uzunlugu ne olur ??\n",
    "\n",
    "d = { }\n",
    "\n",
    "print(d, type(d), len(d))   "
   ]
  },
  {
   "cell_type": "code",
   "execution_count": 25,
   "metadata": {
    "id": "kc4Y661H4CyB"
   },
   "outputs": [
    {
     "name": "stdout",
     "output_type": "stream",
     "text": [
      "{None} <class 'set'> 1\n"
     ]
    }
   ],
   "source": [
    "# Peki sizce None ile bos bir set olusturabilir miyiz ?\n",
    "\n",
    "# outputumuzun len' i ne kadardir ??\n",
    "\n",
    "d = {None}\n",
    "\n",
    "print(d, type(d), len(d)) "
   ]
  },
  {
   "cell_type": "code",
   "execution_count": 26,
   "metadata": {
    "id": "j74cGLN79LKK"
   },
   "outputs": [
    {
     "name": "stdout",
     "output_type": "stream",
     "text": [
      "216\n"
     ]
    }
   ],
   "source": [
    "## Pekiiiiii\n",
    "\n",
    "# Hic merak ettik mi ??\n",
    "\n",
    "## Bos bir set ile tek elemanli bir set in kapladigi alanlar kac byte dir ???\n",
    "\n",
    "import sys\n",
    "\n",
    "c = set()\n",
    "\n",
    "print(sys.getsizeof(c))"
   ]
  },
  {
   "cell_type": "code",
   "execution_count": 27,
   "metadata": {
    "id": "mLxf85uQ7bWQ"
   },
   "outputs": [
    {
     "name": "stdout",
     "output_type": "stream",
     "text": [
      "216\n"
     ]
    }
   ],
   "source": [
    "import sys\n",
    "\n",
    "d = {\"selamlar python ders tekrari grubu\", 12345}\n",
    "\n",
    "print(sys.getsizeof(d))"
   ]
  },
  {
   "cell_type": "code",
   "execution_count": 28,
   "metadata": {
    "id": "IKmWitX5-CbN"
   },
   "outputs": [
    {
     "name": "stdout",
     "output_type": "stream",
     "text": [
      "51\n",
      "40\n",
      "56\n",
      "216\n",
      "64\n",
      "32\n",
      "28\n",
      "16\n"
     ]
    }
   ],
   "source": [
    "## Bizce asagidaki verilerin boyutlari  nasildir ??\n",
    "\n",
    "import sys\n",
    "\n",
    "a = \"\"\n",
    "b = ()\n",
    "c = []\n",
    "d = set()\n",
    "e = {}\n",
    "f = 3  + 5j\n",
    "g = True\n",
    "i = None\n",
    "\n",
    "print(sys.getsizeof(a))\n",
    "print(sys.getsizeof(b))\n",
    "print(sys.getsizeof(c))\n",
    "print(sys.getsizeof(d))\n",
    "print(sys.getsizeof(e))\n",
    "print(sys.getsizeof(f))\n",
    "print(sys.getsizeof(g))\n",
    "print(sys.getsizeof(i))"
   ]
  },
  {
   "cell_type": "code",
   "execution_count": 29,
   "metadata": {
    "id": "VbrzgpqMc6ap"
   },
   "outputs": [
    {
     "name": "stdout",
     "output_type": "stream",
     "text": [
      "{1, '1'}\n",
      "2\n"
     ]
    }
   ],
   "source": [
    "## Asagidaki setimizin eleman sayisi output da kactir ??\n",
    "\n",
    "setimiz = {1, \"1\", 1.0}  # set icinde itteger ve float ayni kabul edilir\n",
    "\n",
    "print(setimiz)\n",
    "\n",
    "print(len(setimiz)) "
   ]
  },
  {
   "cell_type": "code",
   "execution_count": 30,
   "metadata": {
    "id": "LOt2CETQdjNK"
   },
   "outputs": [
    {
     "name": "stdout",
     "output_type": "stream",
     "text": [
      "{1, 2, 3, 4, 5}\n",
      "emrebey\n",
      "emrebey\n"
     ]
    }
   ],
   "source": [
    "### buradaki 3 printimizin outputu ne olur ?\n",
    "\n",
    "listem = [1, 2, 3, 4, 5]\n",
    "\n",
    "print(set(listem))\n",
    "\n",
    "#--------------------------------\n",
    "\n",
    "#setim = {[1, 2, 3, 4, 5]}    ## set icerisinde manuel olarak liste yapabilir miyz ? set icinde liste olmaz ama tuple olur\n",
    "\n",
    "print(setim)\n",
    "\n",
    "#--------------------------\n",
    "#setim = {(1, 2, 3, 4, 5)}    ## set icerisinde manuel olarak tuple yapabilir miyz ? set icinde liste olmaz ama tuple olur\n",
    "\n",
    "print(setim)\n",
    "\n",
    "#setim1 = {listem}\n",
    "\n",
    "#print(setim1)\n",
    "\n",
    "# set func calisma prensibi asagida:"
   ]
  },
  {
   "cell_type": "code",
   "execution_count": 31,
   "metadata": {
    "id": "22nvExYYi6Oe"
   },
   "outputs": [],
   "source": [
    "# set func calisma prensibi: Diger collection type larin \n",
    "\n",
    "# list() yada tuple() func gibi calisir. yani icerisi ne iterable bir eleman alir\n",
    "\n",
    "# bu elemani da tek tek elemanlarina ayirir ve hepsini set e cevirir"
   ]
  },
  {
   "cell_type": "code",
   "execution_count": 32,
   "metadata": {
    "id": "KHfSj3Zs4ujh"
   },
   "outputs": [
    {
     "name": "stdout",
     "output_type": "stream",
     "text": [
      "[1, 2, 3, 4, 5] <class 'list'>\n"
     ]
    }
   ],
   "source": [
    "# peki bu islemler tuple ve listelerde nasildi hatirlayalim.\n",
    "\n",
    "listem = [1, 2, 3, 4, 5]\n",
    "\n",
    "tuplem = ([1, 2, 3, 4, 5]) \n",
    "\n",
    "print(tuplem, type(tuplem)) # bu sekilde sonuc yine list aliriz.\n",
    "                            # tuple icerisindeki liste tek bir eleman.\n",
    "                            # o nedenle neyimiz eksik?? "
   ]
  },
  {
   "cell_type": "code",
   "execution_count": 33,
   "metadata": {
    "id": "mAE8QUpL48us"
   },
   "outputs": [
    {
     "name": "stdout",
     "output_type": "stream",
     "text": [
      "([1, 2, 3, 4, 5],) <class 'tuple'>\n",
      "(1, 2, 3, 4, 5) <class 'tuple'>\n"
     ]
    }
   ],
   "source": [
    "# bizce bu sekilde tuple yapabilir miyiz ??\n",
    "\n",
    "listem = [1, 2, 3, 4, 5]\n",
    "\n",
    "tuplem = (listem,)\n",
    "tuplem2 = tuple(listem)\n",
    "\n",
    "print(tuplem, type(tuplem))\n",
    "print(tuplem2, type(tuplem2))"
   ]
  },
  {
   "cell_type": "code",
   "execution_count": 34,
   "metadata": {
    "id": "w6t2329UjPHC"
   },
   "outputs": [
    {
     "name": "stdout",
     "output_type": "stream",
     "text": [
      "1 <class 'int'>\n"
     ]
    }
   ],
   "source": [
    "a, b, c = (1, 2, 3)  # unpacking tuple ile birkac degiskene tuple ibindekileri birebir esletiririz\n",
    "print(a, type(a))"
   ]
  },
  {
   "cell_type": "code",
   "execution_count": 35,
   "metadata": {
    "id": "w6t2329UjPHC"
   },
   "outputs": [
    {
     "name": "stdout",
     "output_type": "stream",
     "text": [
      "1 <class 'int'>\n",
      "2 <class 'int'>\n",
      "[3, 4, 5, 6, 7, 8] <class 'list'>\n",
      "9 <class 'int'>\n"
     ]
    }
   ],
   "source": [
    "a, b, *c, d = (1, 2, 3, 4, 5, 6, 7, 8, 9)  #degiskenler ve tuple elemamlari esit degilse * koydugumuz degiskene geri kalanlar liste olark eslesir.\n",
    "print(a, type(a))\n",
    "print(b, type(b))\n",
    "print(c, type(c))\n",
    "print(d, type(d))"
   ]
  },
  {
   "cell_type": "code",
   "execution_count": 36,
   "metadata": {
    "id": "w6t2329UjPHC"
   },
   "outputs": [
    {
     "name": "stdout",
     "output_type": "stream",
     "text": [
      "{'computer'}\n",
      "<class 'set'>\n"
     ]
    }
   ],
   "source": [
    "## ilginc bir bilgi !!!  output ??\n",
    "\n",
    "dictim = {\"computer\" : \"science\"}\n",
    "\n",
    "print(set(dictim))\n",
    "\n",
    "print(type(set(dictim)))"
   ]
  },
  {
   "cell_type": "code",
   "execution_count": 37,
   "metadata": {
    "id": "mfBjClbPkCVK"
   },
   "outputs": [
    {
     "name": "stdout",
     "output_type": "stream",
     "text": [
      "{('computer', 'science')}\n",
      "<class 'set'>\n"
     ]
    }
   ],
   "source": [
    "dictim = {\"computer\" : \"science\"}\n",
    "\n",
    "print(set(dictim.items()))\n",
    "\n",
    "print(type(set(dictim)))"
   ]
  },
  {
   "cell_type": "code",
   "execution_count": 38,
   "metadata": {
    "id": "mfBjClbPkCVK"
   },
   "outputs": [
    {
     "ename": "TypeError",
     "evalue": "unhashable type: 'set'",
     "output_type": "error",
     "traceback": [
      "\u001b[1;31m---------------------------------------------------------------------------\u001b[0m",
      "\u001b[1;31mTypeError\u001b[0m                                 Traceback (most recent call last)",
      "\u001b[1;32m<ipython-input-38-49ade6f08380>\u001b[0m in \u001b[0;36m<module>\u001b[1;34m\u001b[0m\n\u001b[0;32m      1\u001b[0m \u001b[1;31m### peki set icerisinde set acabilir miyiz ??\u001b[0m\u001b[1;33m\u001b[0m\u001b[1;33m\u001b[0m\u001b[1;33m\u001b[0m\u001b[0m\n\u001b[0;32m      2\u001b[0m \u001b[1;33m\u001b[0m\u001b[0m\n\u001b[1;32m----> 3\u001b[1;33m \u001b[0msetim\u001b[0m \u001b[1;33m=\u001b[0m \u001b[1;33m{\u001b[0m\u001b[1;36m1\u001b[0m\u001b[1;33m,\u001b[0m\u001b[1;36m2\u001b[0m\u001b[1;33m,\u001b[0m\u001b[1;36m3\u001b[0m\u001b[1;33m,\u001b[0m \u001b[1;33m{\u001b[0m\u001b[1;34m\"eleman\"\u001b[0m\u001b[1;33m}\u001b[0m\u001b[1;33m}\u001b[0m\u001b[1;33m\u001b[0m\u001b[1;33m\u001b[0m\u001b[0m\n\u001b[0m\u001b[0;32m      4\u001b[0m \u001b[1;33m\u001b[0m\u001b[0m\n\u001b[0;32m      5\u001b[0m \u001b[0mprint\u001b[0m\u001b[1;33m(\u001b[0m\u001b[0msetim\u001b[0m\u001b[1;33m)\u001b[0m\u001b[1;33m\u001b[0m\u001b[1;33m\u001b[0m\u001b[0m\n",
      "\u001b[1;31mTypeError\u001b[0m: unhashable type: 'set'"
     ]
    }
   ],
   "source": [
    "### peki set icerisinde set acabilir miyiz ??\n",
    "\n",
    "setim = {1,2,3, {\"eleman\"}}\n",
    "\n",
    "print(setim)"
   ]
  },
  {
   "cell_type": "code",
   "execution_count": null,
   "metadata": {
    "id": "mfBjClbPkCVK"
   },
   "outputs": [],
   "source": [
    "dictim = {\"computer\" : \"science\"}\n",
    "\n",
    "print(set(dictim.values()))\n",
    "\n",
    "print(type(set(dictim)))"
   ]
  },
  {
   "cell_type": "code",
   "execution_count": null,
   "metadata": {
    "id": "KgG_hC7rkVWD"
   },
   "outputs": [],
   "source": [
    "## pekiiiiiiiii\n",
    "\n",
    "# bizim icerisinde set olan bir listemiz olsa \n",
    "\n",
    "# bizce bu listeyi set func ile set yapabilir miyiz ??\n",
    "\n",
    "liste = [1,2,3, {\"eleman\"}]      \n",
    "\n",
    "print(set(liste))"
   ]
  },
  {
   "cell_type": "code",
   "execution_count": null,
   "metadata": {
    "id": "scwZJ870lpFe"
   },
   "outputs": [],
   "source": [
    "# Set icerisinde dict kullanabilir miyiz ??\n",
    "\n",
    "setim = {1, 2, 3, \"computer\", {\"bilgisayar\" : \"bilimi\"} }\n",
    "\n",
    "print(setim)"
   ]
  },
  {
   "cell_type": "code",
   "execution_count": null,
   "metadata": {
    "id": "l_wl-2WyluyF"
   },
   "outputs": [],
   "source": []
  },
  {
   "cell_type": "code",
   "execution_count": null,
   "metadata": {
    "id": "S49ly-MEl5mc"
   },
   "outputs": [],
   "source": [
    "# Ortaya cikan sonuc :\n",
    "\n",
    "# setler icerisinde collection type lardan sadece tuple lar kullanilabilir"
   ]
  },
  {
   "cell_type": "code",
   "execution_count": null,
   "metadata": {
    "id": "QGskztHu0C_V"
   },
   "outputs": [],
   "source": [
    "## Önemli bir husus:\n",
    "\n",
    "# Python da  matematikte oldugu gibi iki tane küme ic ice yapamiyoruz, hata aliyoruz.\n",
    "\n",
    "# peki iki tane ic ice kümeyi Python da nasil ifade edebiliriz ??\n",
    "\n",
    "akümesi= {1, 2, 3, 4}\n",
    "\n",
    "bkümesi = {3, 4}     ## Python da ancak bu sekilde yapabiliriz\n",
    "                     ## ve a kümesi b kümesini kapsar\n",
    "\n",
    "## Peki neden nested set yani ic ice set olmaz ve neden set lerde liste ve dict kullanilmaz.\n",
    "\n",
    "## Cünkü setler de her bir eleman unique dir. Yani her birinden sadece bir tane print edilir\n",
    "\n",
    "# Ama biz set icerisinde set, liste yada dict  yaptigimizda \n",
    "\n",
    "# bu unique lige zarar gelme ihitimalinden dolayi bunlari kullanamayiz.\n",
    "\n",
    "# yani biz akümesi= {1, 2, 3, 4, {3, 4}} olusturdugumuzda burada unique lige aykiri \n",
    "\n",
    "# bir durum söz konusu olacaktir. \n",
    "\n",
    "# Peki setler icerisinde Tuple lar neden kullanilir ??\n",
    "\n",
    "# Hatirlarsak biz bir degiskenin elemanlarinda eger () kullanmazsak Python otomatik olarak\n",
    "\n",
    "# bunu tuple olarak algiliyordu.\n",
    "\n",
    "# mesela  a = 1, 2, 3   bu bir tuple dir.\n",
    "\n",
    "# iste aslinda () olmasi ile olmamasi arasinda python acisindan pek bir fark \n",
    "\n",
    "# olmamasindan dolayi tuple lar setlerin unique ligine zarar vermez"
   ]
  },
  {
   "cell_type": "code",
   "execution_count": null,
   "metadata": {
    "id": "j-oT6VjO0DVP"
   },
   "outputs": [],
   "source": [
    "# Ancak Aklimizda yanlis birsey kalmasin\n",
    "\n",
    "# set icerisinde tuple i print ettigimizde sonuc su sekilde olur  \n",
    "\n",
    "setim = {1, 2, 3, (1, 2, 3) } \n",
    "\n",
    "setim2 = {1, 2, 3, 1, 2, 3}\n",
    "\n",
    "print(setim)\n",
    "\n",
    "print(setim2)  ##  yani 2. set de ayni elemanlar basilmaz \n",
    "                #  ama Tuple icindekiler print edilir"
   ]
  },
  {
   "cell_type": "code",
   "execution_count": null,
   "metadata": {
    "id": "hHyKihVVdjQc"
   },
   "outputs": [],
   "source": []
  },
  {
   "cell_type": "code",
   "execution_count": null,
   "metadata": {
    "id": "R7YJmft4gm7W"
   },
   "outputs": [],
   "source": [
    "## setimiz icerisinde 8 eleman var. Output da kac adet olur ?? \n",
    "\n",
    "colorset = {'purple', 'orange', 'red', 'darkblue', 'yellow', 'red', \"orange\", \"darkblue\"}\n",
    "\n",
    "print(colorset)"
   ]
  },
  {
   "cell_type": "code",
   "execution_count": null,
   "metadata": {
    "id": "2iwWFtaFiEMS"
   },
   "outputs": [],
   "source": [
    "##  pekiii\n",
    "\n",
    "\n",
    "# iki degiskenimiz birbirine esit midir diye sorsak ?\n",
    "\n",
    "# ne output aliriz ??\n",
    "\n",
    "sayilarimiz = {1, 2, 3, 3, 2, 1, 1, 2, 3, 3, 2, 1, 1, 2, 3, 3, 2, 1, 1, 2, 3, 3, 2, 1}\n",
    "\n",
    "sayilarimiz2 = {1, 2, 3}\n",
    "\n",
    "print(sayilarimiz == sayilarimiz2)\n",
    "\n",
    "# print(sayilarimiz)\n",
    "\n",
    "# print(sayilarimiz2)"
   ]
  },
  {
   "cell_type": "code",
   "execution_count": null,
   "metadata": {
    "id": "Ph14AlvsiEVF"
   },
   "outputs": [],
   "source": []
  },
  {
   "cell_type": "code",
   "execution_count": null,
   "metadata": {
    "id": "29gxjIdvIQKB"
   },
   "outputs": [],
   "source": [
    "# set veri tipini her print ettigimizde farkli ciktilar alabiliriz.\n",
    "# ancak bazi zamanlarda orijinali gibi de cikti alabiliriz\n",
    "\n",
    "setimiz = {\"a\", \"b\", \"c\", \"d\", \"e\", \"f\"}\n",
    "\n",
    "print(setimiz)"
   ]
  },
  {
   "cell_type": "code",
   "execution_count": null,
   "metadata": {
    "id": "2LSCOqBCCRSe"
   },
   "outputs": [],
   "source": [
    "a = ['rose', 'violet', 'carnation', 'rose', 'orchid', 'rose', 'orchid']\n",
    "b = set(a)\n",
    "c = list(b)       ####  listeyi önce sete ceviriyoruz daha sonra \n",
    "                                  ####   set i tekrar listeye ceviriyoruz. ama elemanlar yine eksik\n",
    "print(a) \n",
    "print(b)\n",
    "print(c)"
   ]
  },
  {
   "cell_type": "code",
   "execution_count": null,
   "metadata": {
    "id": "GPdOd-GhLXni"
   },
   "outputs": [],
   "source": [
    "# burada ise dogrudan seti liste yapiyoruz.  output ???\n",
    "\n",
    "setim = {1, 2, 3, 1, 2, 3, 1, 2, 3}\n",
    "\n",
    "listem = list(setim)\n",
    "\n",
    "print(listem)  "
   ]
  },
  {
   "cell_type": "code",
   "execution_count": null,
   "metadata": {
    "id": "zyR0UY_PLXqH"
   },
   "outputs": [],
   "source": [
    "string = \"yapilabilirlik\"   ## burada output ne olur type ne olur??\n",
    "\n",
    "setim = set(string)\n",
    "\n",
    "print(setim, type(setim))"
   ]
  },
  {
   "cell_type": "code",
   "execution_count": null,
   "metadata": {
    "id": "h5AUXZ5BLXtj"
   },
   "outputs": [],
   "source": [
    "### tek elemanli set olur mu yoksa tuple gibi yanina , koymak zorunda miyiz ?\n",
    "\n",
    "setim = {1}\n",
    "\n",
    "print(setim, type(setim))"
   ]
  },
  {
   "cell_type": "code",
   "execution_count": null,
   "metadata": {
    "id": "oVEM5QNULXwO"
   },
   "outputs": [],
   "source": [
    "tuplem = (1,)         # tek elemanli bir tuple i set e cevirebilir miyiz?\n",
    "                      # yoksa virgülden dolayi hata verir mi ?\n",
    "setim = set(tuplem)\n",
    "\n",
    "print(setim, type(setim))"
   ]
  },
  {
   "cell_type": "code",
   "execution_count": null,
   "metadata": {
    "id": "9-NI-IHZLXyw"
   },
   "outputs": [],
   "source": [
    "###  output nedir ?? \n",
    "\n",
    "a = 123456789\n",
    "\n",
    "setim = set(a)\n",
    "\n",
    "print(setim, type(setim))   ## output u okuyalim"
   ]
  },
  {
   "cell_type": "code",
   "execution_count": null,
   "metadata": {
    "id": "b5IpxbpVCRUi"
   },
   "outputs": [],
   "source": [
    "#  output nedir ??\n",
    "\n",
    "a = True and False\n",
    "\n",
    "setim = set(a)\n",
    "\n",
    "print(setim, type(setim))   ## output u okuyalim : False yazisini bolemez set olmaz"
   ]
  },
  {
   "cell_type": "code",
   "execution_count": null,
   "metadata": {
    "id": "Gp-yst1VM8TI"
   },
   "outputs": [],
   "source": [
    "#  output nedir ??\n",
    "\n",
    "a = True and False,  # virgul koyinca booleani tuple olarak gorup set yapar\n",
    "\n",
    "setim = set(a)\n",
    "\n",
    "print(setim, type(setim))   ## output u okuyalim"
   ]
  },
  {
   "cell_type": "code",
   "execution_count": null,
   "metadata": {
    "id": "Gp-yst1VM8TI"
   },
   "outputs": [],
   "source": [
    "####   Attention:  Output nedir, error verir mi ??\n",
    "\n",
    "a = \" \" and [] and () and {} and None and 0 and 0.0\n",
    "\n",
    "setim = set(a)\n",
    "\n",
    "print(setim, type(setim))      #### and calisma prensibi: \n",
    "                               # ilk Falsy yakalanir sonra set komutu sete cevrilir "
   ]
  },
  {
   "cell_type": "code",
   "execution_count": null,
   "metadata": {
    "id": "mzFNaZQ4M8W6"
   },
   "outputs": [],
   "source": [
    "##  sizce output nedir ??? \n",
    "\n",
    "abc = 3,14   # 2 elemanli tuple\n",
    "\n",
    "setim = set(abc)\n",
    "\n",
    "print(setim, type(setim))"
   ]
  },
  {
   "cell_type": "code",
   "execution_count": null,
   "metadata": {
    "id": "WyUucwM9M8az"
   },
   "outputs": [],
   "source": [
    "#  output ???\n",
    "\n",
    "sett = {\"d\", \"a\", \"b\", \"c\"}\n",
    "\n",
    "liste = [\"a\", \"d\", \"b\", \"c\", \"d\", \"b\", \"a\", \"c\", \"b\", \"c\", \"d\", \"a\", \"d\"]\n",
    "\n",
    "setim = set(liste)\n",
    "\n",
    "print(sett, type(sett))\n",
    "\n",
    "print(setim, type(setim))"
   ]
  },
  {
   "cell_type": "code",
   "execution_count": null,
   "metadata": {
    "id": "fz2_jDlWToFV"
   },
   "outputs": [],
   "source": [
    "##  Interview Question\n",
    "\n",
    "# Which one of the following is not the correct syntax for creating a set in Python?\n",
    "\n",
    "\n",
    "# print(set([[1,2],[3,4],[4,5]]))    \n",
    "\n",
    "print(set([1,2,2,3,4,5]))\n",
    "\n",
    "print({1,2,3,4})\n",
    "\n",
    "print(set((1,2,3,4)))             ## Açıklama: Küme için verilen iterable argüman doğru şekilde kullanılmalıdır."
   ]
  },
  {
   "cell_type": "code",
   "execution_count": null,
   "metadata": {
    "id": "nr1qLklCrHzi"
   },
   "outputs": [],
   "source": [
    "### sizce set func ile ayni anda birden cok elemani set e cevirebilir miyiz ??\n",
    "\n",
    "a = set('9876 9876', \"1234\")   # hayir. \n",
    "\n",
    "print(a) "
   ]
  },
  {
   "cell_type": "code",
   "execution_count": null,
   "metadata": {
    "id": "JZjIgbwjra1q"
   },
   "outputs": [],
   "source": [
    "##  peki list ve tuple func yapabilir mi ?  hayir\n",
    " \n",
    "a = list(\"a\", \"b\")\n",
    "\n",
    "print(a)"
   ]
  },
  {
   "cell_type": "code",
   "execution_count": null,
   "metadata": {
    "id": "L7fa3JyWr-lf"
   },
   "outputs": [],
   "source": [
    "# asagidaki func lar da sadece tek eleman alirlar \n",
    "\n",
    "#bool(\"a\", \"b\")\n",
    "\n",
    "#type(\"A\", \"b\")\n",
    "\n",
    "#str(6, 5)\n",
    "\n",
    "# int(5.5, 6.6)\n",
    "\n",
    "# float(5, 5)"
   ]
  },
  {
   "cell_type": "code",
   "execution_count": null,
   "metadata": {
    "id": "-JAaKEFfToJ-"
   },
   "outputs": [],
   "source": [
    "a = \"tarik\"\n",
    "print = list(a, a) "
   ]
  },
  {
   "cell_type": "code",
   "execution_count": null,
   "metadata": {
    "id": "-JAaKEFfToJ-"
   },
   "outputs": [],
   "source": [
    "##############            Main Operations with Sets         ################"
   ]
  },
  {
   "cell_type": "code",
   "execution_count": null,
   "metadata": {
    "id": "siTbIDpLToL7"
   },
   "outputs": [],
   "source": [
    "# Liste tuple ve dict gibi collection type larda eleman ekleyip cikarabiliyorduk\n",
    "\n",
    "# Set lerde de öğe eklememize ve öğe çıkarmamıza izin veren birkaç yöntem vardır. \n",
    "\n",
    "# Diger coll type lardan farkli olarak set lerde yani kümelerde \n",
    "\n",
    "# kümenin kesişimi, birleşimi ve farki yöntemlerine sahibiz:\n"
   ]
  },
  {
   "cell_type": "code",
   "execution_count": null,
   "metadata": {
    "id": "48KpgDVJToOX"
   },
   "outputs": [],
   "source": [
    "### Setlerde Main Operations yöntemleri sunlardir\n",
    "\n",
    "\n",
    "# .add() : Sete yeni bir öğe ekler.\n",
    "\n",
    "# .remove() : Bir öğeyi silmemizi sağlar.\n",
    "\n",
    "# .intersection() : İki kümenin kesişimini return eder. &\n",
    "\n",
    "# .union() : İki kümenin birleşimini döndürür. |\n",
    "\n",
    "# .difference() : İki kümenin farkını döndürür. a-b"
   ]
  },
  {
   "cell_type": "code",
   "execution_count": null,
   "metadata": {
    "id": "c45ul-YBToSN"
   },
   "outputs": [],
   "source": [
    "##########         .add()      #######################"
   ]
  },
  {
   "cell_type": "code",
   "execution_count": 39,
   "metadata": {
    "id": "KfQlaadUToUJ"
   },
   "outputs": [
    {
     "name": "stdout",
     "output_type": "stream",
     "text": [
      "{'a', 'c', 'b', 'd'}\n"
     ]
    }
   ],
   "source": [
    "a = set('abcabcabcabcabc')\n",
    "\n",
    "a.add(\"d\")          ##### Attention: print(a.add) demiyoruz\n",
    "\n",
    "print(a)            ### a üzerinde bir operation yaptik sonra tekrar döndük a' nin orijinalini print ettik\n",
    "\n",
    "                    ##  sonuc olarak operation yapilmis halini aldik. \n",
    "\n",
    "                    # Buradan cikan sonuc nedir ??\n",
    "\n",
    "                    ## set' ler mutable dir. yani degistirilebilir"
   ]
  },
  {
   "cell_type": "code",
   "execution_count": 40,
   "metadata": {
    "id": "khNFsnPEM8cv"
   },
   "outputs": [
    {
     "name": "stdout",
     "output_type": "stream",
     "text": [
      "None\n"
     ]
    }
   ],
   "source": [
    "a = set('abcabcabcabcabc')  #  add foksiyonu tek basina kullaniliyor\n",
    "print(a.add('d'))"
   ]
  },
  {
   "cell_type": "code",
   "execution_count": 41,
   "metadata": {
    "id": "khNFsnPEM8cv"
   },
   "outputs": [
    {
     "name": "stdout",
     "output_type": "stream",
     "text": [
      "None\n"
     ]
    }
   ],
   "source": [
    "a = set('abcabcabcabcabc')\n",
    "b = a.add('d')        # add foksiyonu tek basina kullaniliyor\n",
    "print(b)"
   ]
  },
  {
   "cell_type": "code",
   "execution_count": 43,
   "metadata": {
    "id": "khNFsnPEM8cv"
   },
   "outputs": [
    {
     "name": "stdout",
     "output_type": "stream",
     "text": [
      "['a', 'b', 'c', 'd']\n"
     ]
    }
   ],
   "source": [
    "# listedeki .append methodunu hatirlayalim \n",
    "\n",
    "liste = [\"a\", \"b\", \"c\"]\n",
    "\n",
    "liste.append(\"d\")\n",
    "\n",
    "print(liste)           ## ayni setler gibi. listelerde mutable "
   ]
  },
  {
   "cell_type": "code",
   "execution_count": 47,
   "metadata": {
    "id": "15eWwsnjM8el"
   },
   "outputs": [
    {
     "ename": "AttributeError",
     "evalue": "'set' object has no attribute 'append'",
     "output_type": "error",
     "traceback": [
      "\u001b[1;31m---------------------------------------------------------------------------\u001b[0m",
      "\u001b[1;31mAttributeError\u001b[0m                            Traceback (most recent call last)",
      "\u001b[1;32m<ipython-input-47-b7f9de11a56a>\u001b[0m in \u001b[0;36m<module>\u001b[1;34m\u001b[0m\n\u001b[0;32m      3\u001b[0m \u001b[0msayi\u001b[0m \u001b[1;33m=\u001b[0m \u001b[0mset\u001b[0m\u001b[1;33m(\u001b[0m\u001b[1;34m'123412341234'\u001b[0m\u001b[1;33m)\u001b[0m  \u001b[1;31m# sette append foksiyonu calismaz\u001b[0m\u001b[1;33m\u001b[0m\u001b[1;33m\u001b[0m\u001b[0m\n\u001b[0;32m      4\u001b[0m \u001b[1;33m\u001b[0m\u001b[0m\n\u001b[1;32m----> 5\u001b[1;33m \u001b[0msayi\u001b[0m\u001b[1;33m.\u001b[0m\u001b[0mappend\u001b[0m\u001b[1;33m(\u001b[0m\u001b[1;34m'5'\u001b[0m\u001b[1;33m)\u001b[0m\u001b[1;33m\u001b[0m\u001b[1;33m\u001b[0m\u001b[0m\n\u001b[0m\u001b[0;32m      6\u001b[0m \u001b[1;33m\u001b[0m\u001b[0m\n\u001b[0;32m      7\u001b[0m \u001b[0mprint\u001b[0m\u001b[1;33m(\u001b[0m\u001b[0msayi\u001b[0m\u001b[1;33m)\u001b[0m\u001b[1;33m\u001b[0m\u001b[1;33m\u001b[0m\u001b[0m\n",
      "\u001b[1;31mAttributeError\u001b[0m: 'set' object has no attribute 'append'"
     ]
    }
   ],
   "source": [
    "## output umuz nedir?       ###  Attention !!!\n",
    "\n",
    "sayi = set('123412341234')  # sette append foksiyonu calismaz\n",
    "\n",
    "sayi.append('5')          \n",
    "\n",
    "print(sayi)"
   ]
  },
  {
   "cell_type": "code",
   "execution_count": null,
   "metadata": {
    "id": "ncqy07jt--md"
   },
   "outputs": [],
   "source": []
  },
  {
   "cell_type": "code",
   "execution_count": 44,
   "metadata": {
    "id": "cHzOaHuiM8gl"
   },
   "outputs": [
    {
     "name": "stdout",
     "output_type": "stream",
     "text": [
      "['a', 'b', 55]\n"
     ]
    }
   ],
   "source": [
    "# listede direkt assign methodu vardi. sizce set de de calisir mi ?\n",
    "\n",
    "liste = [\"a\", \"b\", \"c\"]   # assign yerine atama. istenilen elemani yenisiyle degistirir\n",
    "\n",
    "liste[2] = 55\n",
    "\n",
    "print(liste)"
   ]
  },
  {
   "cell_type": "code",
   "execution_count": 46,
   "metadata": {
    "id": "nn_OmOfgnafW"
   },
   "outputs": [
    {
     "ename": "SyntaxError",
     "evalue": "cannot assign to function call (<ipython-input-46-05acdbf01d12>, line 3)",
     "output_type": "error",
     "traceback": [
      "\u001b[1;36m  File \u001b[1;32m\"<ipython-input-46-05acdbf01d12>\"\u001b[1;36m, line \u001b[1;32m3\u001b[0m\n\u001b[1;33m    sayi(3) = 5\u001b[0m\n\u001b[1;37m    ^\u001b[0m\n\u001b[1;31mSyntaxError\u001b[0m\u001b[1;31m:\u001b[0m cannot assign to function call\n"
     ]
    }
   ],
   "source": [
    "sayi = set('123412341234')\n",
    "\n",
    "sayi[3] = 5          \n",
    "\n",
    "print(sayi)   ##  output u okuyalim"
   ]
  },
  {
   "cell_type": "code",
   "execution_count": 48,
   "metadata": {
    "id": "V-oDL2XCnaho"
   },
   "outputs": [
    {
     "name": "stdout",
     "output_type": "stream",
     "text": [
      "['a', 'b', 'c', 'merhabaworld']\n"
     ]
    }
   ],
   "source": [
    "# listede insert vardi sizce burada calisir mi?\n",
    "\n",
    "liste = [\"a\", \"b\", \"c\"]        # insert ile istenilen araya eleman ekleriz\n",
    "\n",
    "liste.insert(3, \"merhabaworld\")\n",
    "\n",
    "print(liste)"
   ]
  },
  {
   "cell_type": "code",
   "execution_count": 49,
   "metadata": {
    "id": "D-wEzg7Xnajr"
   },
   "outputs": [
    {
     "ename": "AttributeError",
     "evalue": "'set' object has no attribute 'insert'",
     "output_type": "error",
     "traceback": [
      "\u001b[1;31m---------------------------------------------------------------------------\u001b[0m",
      "\u001b[1;31mAttributeError\u001b[0m                            Traceback (most recent call last)",
      "\u001b[1;32m<ipython-input-49-e5ac8fcf2542>\u001b[0m in \u001b[0;36m<module>\u001b[1;34m\u001b[0m\n\u001b[0;32m      1\u001b[0m \u001b[0msayi\u001b[0m \u001b[1;33m=\u001b[0m \u001b[0mset\u001b[0m\u001b[1;33m(\u001b[0m\u001b[1;34m'123412341234'\u001b[0m\u001b[1;33m)\u001b[0m\u001b[1;33m\u001b[0m\u001b[1;33m\u001b[0m\u001b[0m\n\u001b[0;32m      2\u001b[0m \u001b[1;33m\u001b[0m\u001b[0m\n\u001b[1;32m----> 3\u001b[1;33m \u001b[0msayi\u001b[0m\u001b[1;33m.\u001b[0m\u001b[0minsert\u001b[0m\u001b[1;33m(\u001b[0m\u001b[1;36m3\u001b[0m\u001b[1;33m,\u001b[0m \u001b[1;34m\"merhabaworld\"\u001b[0m\u001b[1;33m)\u001b[0m\u001b[1;33m\u001b[0m\u001b[1;33m\u001b[0m\u001b[0m\n\u001b[0m\u001b[0;32m      4\u001b[0m \u001b[1;33m\u001b[0m\u001b[0m\n\u001b[0;32m      5\u001b[0m \u001b[0mprint\u001b[0m\u001b[1;33m(\u001b[0m\u001b[0msayi\u001b[0m\u001b[1;33m)\u001b[0m\u001b[1;33m\u001b[0m\u001b[1;33m\u001b[0m\u001b[0m\n",
      "\u001b[1;31mAttributeError\u001b[0m: 'set' object has no attribute 'insert'"
     ]
    }
   ],
   "source": [
    "sayi = set('123412341234')\n",
    "\n",
    "sayi.insert(3, \"merhabaworld\")  # sette insert calismaz        \n",
    "\n",
    "print(sayi) "
   ]
  },
  {
   "cell_type": "code",
   "execution_count": 53,
   "metadata": {
    "id": "UpLgkyLrnal5"
   },
   "outputs": [
    {
     "name": "stdout",
     "output_type": "stream",
     "text": [
      "['apple', 'tarik', 'a', 'b', 'c']\n"
     ]
    }
   ],
   "source": [
    "liste = [\"apple\", \"banana\", \"cherry\", \"a\", \"b\", \"c\"]   # listeden 2 ve 3. elemani alir trik elemanini ekler\n",
    "liste[1:3] = [\"tarik\"]\n",
    "print(liste)"
   ]
  },
  {
   "cell_type": "code",
   "execution_count": 54,
   "metadata": {
    "id": "UpLgkyLrnal5"
   },
   "outputs": [
    {
     "ename": "TypeError",
     "evalue": "add() takes exactly one argument (2 given)",
     "output_type": "error",
     "traceback": [
      "\u001b[1;31m---------------------------------------------------------------------------\u001b[0m",
      "\u001b[1;31mTypeError\u001b[0m                                 Traceback (most recent call last)",
      "\u001b[1;32m<ipython-input-54-b26a5ca78bf1>\u001b[0m in \u001b[0;36m<module>\u001b[1;34m\u001b[0m\n\u001b[0;32m      7\u001b[0m \u001b[0ma\u001b[0m \u001b[1;33m=\u001b[0m \u001b[0mset\u001b[0m\u001b[1;33m(\u001b[0m\u001b[1;34m'abcabcabcabcabc'\u001b[0m\u001b[1;33m)\u001b[0m\u001b[1;33m\u001b[0m\u001b[1;33m\u001b[0m\u001b[0m\n\u001b[0;32m      8\u001b[0m \u001b[1;33m\u001b[0m\u001b[0m\n\u001b[1;32m----> 9\u001b[1;33m \u001b[0ma\u001b[0m\u001b[1;33m.\u001b[0m\u001b[0madd\u001b[0m\u001b[1;33m(\u001b[0m\u001b[1;34m\"d\"\u001b[0m\u001b[1;33m,\u001b[0m \u001b[1;34m\"e\"\u001b[0m\u001b[1;33m)\u001b[0m\u001b[1;33m\u001b[0m\u001b[1;33m\u001b[0m\u001b[0m\n\u001b[0m\u001b[0;32m     10\u001b[0m \u001b[1;33m\u001b[0m\u001b[0m\n\u001b[0;32m     11\u001b[0m \u001b[0mprint\u001b[0m\u001b[1;33m(\u001b[0m\u001b[0ma\u001b[0m\u001b[1;33m)\u001b[0m\u001b[1;33m\u001b[0m\u001b[1;33m\u001b[0m\u001b[0m\n",
      "\u001b[1;31mTypeError\u001b[0m: add() takes exactly one argument (2 given)"
     ]
    }
   ],
   "source": [
    " ### önemli bir nokta !!!!!\n",
    "\n",
    " ##  sizce setlere ayni komut da birden cok eleman ekleyebilir miyiz?\n",
    "\n",
    " ## yoksa her seferinde tek tek yazmak zorunda miyiz?\n",
    "\n",
    "a = set('abcabcabcabcabc')\n",
    "\n",
    "a.add(\"d\", \"e\")          \n",
    "\n",
    "print(a)   "
   ]
  },
  {
   "cell_type": "code",
   "execution_count": 55,
   "metadata": {
    "id": "Xt2k0TfMnanm"
   },
   "outputs": [
    {
     "name": "stdout",
     "output_type": "stream",
     "text": [
      "{'f', 'e', 'a', 'd', 'g', 'b', 'c'}\n"
     ]
    }
   ],
   "source": [
    "a = set('abcabcabcabcabc')\n",
    "\n",
    "a.add(\"d\")         \n",
    "\n",
    "a.add(\"e\")  \n",
    "\n",
    "a.add(\"f\")  \n",
    "\n",
    "a.add(\"g\")   \n",
    "\n",
    "print(a)      ## Dikkat a üzerinde 4 operation yaptik. Ama basa dönüp originali print ettik(mutable) "
   ]
  },
  {
   "cell_type": "code",
   "execution_count": null,
   "metadata": {
    "id": "2k0EcWrRM8id"
   },
   "outputs": [],
   "source": []
  },
  {
   "cell_type": "code",
   "execution_count": null,
   "metadata": {
    "id": "WEXGVh7eM8kV"
   },
   "outputs": [],
   "source": [
    "################    .remove()     ####################"
   ]
  },
  {
   "cell_type": "code",
   "execution_count": 56,
   "metadata": {
    "id": "i4NYhauhomRq"
   },
   "outputs": [
    {
     "name": "stdout",
     "output_type": "stream",
     "text": [
      "{'8', '9', '6', '7', ' '}\n"
     ]
    }
   ],
   "source": [
    "##  remove' a baslamadan önce bir soru soralim kendimize ??\n",
    "\n",
    "# BIZCE burada output nedir ??\n",
    "\n",
    "a = set('9876       9876         9876')\n",
    "\n",
    "print(a)  "
   ]
  },
  {
   "cell_type": "code",
   "execution_count": 57,
   "metadata": {
    "id": "yBWXDnsht6bJ"
   },
   "outputs": [
    {
     "name": "stdout",
     "output_type": "stream",
     "text": [
      "{'8', '9', '6', '7'}\n"
     ]
    }
   ],
   "source": [
    "bizimsetimiz = set('98765')                \n",
    "\n",
    "bizimsetimiz.remove(\"5\")       \n",
    "\n",
    "print(bizimsetimiz)   "
   ]
  },
  {
   "cell_type": "code",
   "execution_count": 58,
   "metadata": {
    "id": "anY0JsTRomTn"
   },
   "outputs": [
    {
     "ename": "KeyError",
     "evalue": "5",
     "output_type": "error",
     "traceback": [
      "\u001b[1;31m---------------------------------------------------------------------------\u001b[0m",
      "\u001b[1;31mKeyError\u001b[0m                                  Traceback (most recent call last)",
      "\u001b[1;32m<ipython-input-58-b34f72881989>\u001b[0m in \u001b[0;36m<module>\u001b[1;34m\u001b[0m\n\u001b[0;32m      3\u001b[0m \u001b[0mbizimsetimiz\u001b[0m \u001b[1;33m=\u001b[0m \u001b[0mset\u001b[0m\u001b[1;33m(\u001b[0m\u001b[1;34m'98765'\u001b[0m\u001b[1;33m)\u001b[0m\u001b[1;33m\u001b[0m\u001b[1;33m\u001b[0m\u001b[0m\n\u001b[0;32m      4\u001b[0m \u001b[1;33m\u001b[0m\u001b[0m\n\u001b[1;32m----> 5\u001b[1;33m \u001b[0mbizimsetimiz\u001b[0m\u001b[1;33m.\u001b[0m\u001b[0mremove\u001b[0m\u001b[1;33m(\u001b[0m\u001b[1;36m5\u001b[0m\u001b[1;33m)\u001b[0m\u001b[1;33m\u001b[0m\u001b[1;33m\u001b[0m\u001b[0m\n\u001b[0m\u001b[0;32m      6\u001b[0m \u001b[1;33m\u001b[0m\u001b[0m\n\u001b[0;32m      7\u001b[0m \u001b[0mprint\u001b[0m\u001b[1;33m(\u001b[0m\u001b[0mbizimsetimiz\u001b[0m\u001b[1;33m)\u001b[0m\u001b[1;33m\u001b[0m\u001b[1;33m\u001b[0m\u001b[0m\n",
      "\u001b[1;31mKeyError\u001b[0m: 5"
     ]
    }
   ],
   "source": [
    "##   Bu kod da icerisindeki hatamizi bulalim ???\n",
    "\n",
    "bizimsetimiz = set('98765')                \n",
    "\n",
    "bizimsetimiz.remove(5)      # set elemanlari string integer cikarilamaz\n",
    "\n",
    "print(bizimsetimiz)                        "
   ]
  },
  {
   "cell_type": "code",
   "execution_count": 60,
   "metadata": {
    "id": "woKaSxlgomXu"
   },
   "outputs": [
    {
     "ename": "TypeError",
     "evalue": "remove() takes exactly one argument (2 given)",
     "output_type": "error",
     "traceback": [
      "\u001b[1;31m---------------------------------------------------------------------------\u001b[0m",
      "\u001b[1;31mTypeError\u001b[0m                                 Traceback (most recent call last)",
      "\u001b[1;32m<ipython-input-60-010061a5d362>\u001b[0m in \u001b[0;36m<module>\u001b[1;34m\u001b[0m\n\u001b[0;32m      3\u001b[0m \u001b[0mbizimsetimiz\u001b[0m \u001b[1;33m=\u001b[0m \u001b[0mset\u001b[0m\u001b[1;33m(\u001b[0m\u001b[1;34m'98765'\u001b[0m\u001b[1;33m)\u001b[0m\u001b[1;33m\u001b[0m\u001b[1;33m\u001b[0m\u001b[0m\n\u001b[0;32m      4\u001b[0m \u001b[1;33m\u001b[0m\u001b[0m\n\u001b[1;32m----> 5\u001b[1;33m \u001b[0mbizimsetimiz\u001b[0m\u001b[1;33m.\u001b[0m\u001b[0mremove\u001b[0m\u001b[1;33m(\u001b[0m\u001b[1;34m\"9\"\u001b[0m\u001b[1;33m,\u001b[0m\u001b[1;34m\"8\"\u001b[0m\u001b[1;33m)\u001b[0m    \u001b[1;31m# =>>> string icerisinde 9 ve 8\u001b[0m\u001b[1;33m\u001b[0m\u001b[1;33m\u001b[0m\u001b[0m\n\u001b[0m\u001b[0;32m      6\u001b[0m \u001b[1;33m\u001b[0m\u001b[0m\n\u001b[0;32m      7\u001b[0m \u001b[0mprint\u001b[0m\u001b[1;33m(\u001b[0m\u001b[0mbizimsetimiz\u001b[0m\u001b[1;33m)\u001b[0m\u001b[1;33m\u001b[0m\u001b[1;33m\u001b[0m\u001b[0m\n",
      "\u001b[1;31mTypeError\u001b[0m: remove() takes exactly one argument (2 given)"
     ]
    }
   ],
   "source": [
    "## Bizce bu kod calisir mi ??\n",
    "\n",
    "bizimsetimiz = set('98765')                \n",
    "\n",
    "bizimsetimiz.remove(\"98\")    # =>>> string icerisinde 9 ve 8      \n",
    "\n",
    "print(bizimsetimiz)"
   ]
  },
  {
   "cell_type": "code",
   "execution_count": 61,
   "metadata": {
    "colab": {
     "base_uri": "https://localhost:8080/"
    },
    "id": "I2PIcRFdomZe",
    "outputId": "ac139f2a-a7da-4160-a664-189a0c27586a"
   },
   "outputs": [
    {
     "name": "stdout",
     "output_type": "stream",
     "text": [
      "[]\n"
     ]
    }
   ],
   "source": [
    "# kisa bir hatirlatma yapalim\n",
    "\n",
    "# listelerde remove pop ve clear nasildi\n",
    "\n",
    "liste = [1, 2]\n",
    "\n",
    "liste.clear()\n",
    "\n",
    "print(liste)        ## clear ile tüm listeyi sileriz tuple de clear metodu yok\n"
   ]
  },
  {
   "cell_type": "code",
   "execution_count": 62,
   "metadata": {
    "id": "dHZExfGkDYK8"
   },
   "outputs": [
    {
     "ename": "TypeError",
     "evalue": "clear() takes no arguments (1 given)",
     "output_type": "error",
     "traceback": [
      "\u001b[1;31m---------------------------------------------------------------------------\u001b[0m",
      "\u001b[1;31mTypeError\u001b[0m                                 Traceback (most recent call last)",
      "\u001b[1;32m<ipython-input-62-b31226a6ef38>\u001b[0m in \u001b[0;36m<module>\u001b[1;34m\u001b[0m\n\u001b[0;32m      3\u001b[0m \u001b[0mliste\u001b[0m \u001b[1;33m=\u001b[0m \u001b[1;33m[\u001b[0m\u001b[1;36m1\u001b[0m\u001b[1;33m,\u001b[0m \u001b[1;36m2\u001b[0m\u001b[1;33m]\u001b[0m\u001b[1;33m\u001b[0m\u001b[1;33m\u001b[0m\u001b[0m\n\u001b[0;32m      4\u001b[0m \u001b[1;33m\u001b[0m\u001b[0m\n\u001b[1;32m----> 5\u001b[1;33m \u001b[0mliste\u001b[0m\u001b[1;33m.\u001b[0m\u001b[0mclear\u001b[0m\u001b[1;33m(\u001b[0m\u001b[1;36m0\u001b[0m\u001b[1;33m)\u001b[0m  \u001b[1;31m## clear ile sifirinci elemani silmek istersek hata verir\u001b[0m\u001b[1;33m\u001b[0m\u001b[1;33m\u001b[0m\u001b[0m\n\u001b[0m\u001b[0;32m      6\u001b[0m \u001b[1;33m\u001b[0m\u001b[0m\n\u001b[0;32m      7\u001b[0m \u001b[0mprint\u001b[0m\u001b[1;33m(\u001b[0m\u001b[0mliste\u001b[0m\u001b[1;33m)\u001b[0m    \u001b[1;31m## output u okuyalim\u001b[0m\u001b[1;33m\u001b[0m\u001b[1;33m\u001b[0m\u001b[0m\n",
      "\u001b[1;31mTypeError\u001b[0m: clear() takes no arguments (1 given)"
     ]
    }
   ],
   "source": [
    "# Attention: clear() func. icerisine deger almaz\n",
    "\n",
    "liste = [1, 2]\n",
    "\n",
    "liste.clear(1)  ## clear ile sifirinci elemani silmek istersek hata verir\n",
    "\n",
    "print(liste)    ## output u okuyalim"
   ]
  },
  {
   "cell_type": "code",
   "execution_count": 63,
   "metadata": {
    "id": "fB-8Go_VDYND"
   },
   "outputs": [
    {
     "name": "stdout",
     "output_type": "stream",
     "text": [
      "[]\n"
     ]
    }
   ],
   "source": [
    "# buraya Dikkat!!! Ic ice 3 liste yaptik\n",
    "\n",
    "# Yani clear func.  linux deki rm - rf komutu gibi calisir ve\n",
    "\n",
    "# recursive silme yapar. \n",
    "\n",
    "liste = [[1, [1, 2 ,3]], 2]\n",
    "\n",
    "liste.clear()  \n",
    "\n",
    "print(liste) "
   ]
  },
  {
   "cell_type": "code",
   "execution_count": null,
   "metadata": {
    "id": "3WbkJ9owDYOy"
   },
   "outputs": [],
   "source": [
    "## Attention: remove komutunda silmek istedigimiz elemanin index numarasini\n",
    "\n",
    "# yazarsak error aliriz. bizzat kendisi yazilir\n",
    "\n",
    "liste = [\"ben\", \"sen\", \"o\"]\n",
    "\n",
    "liste.remove(\"ben\")\n",
    "\n",
    "print(liste)"
   ]
  },
  {
   "cell_type": "code",
   "execution_count": 64,
   "metadata": {
    "id": "A6zYQk1vDYRF"
   },
   "outputs": [
    {
     "name": "stdout",
     "output_type": "stream",
     "text": [
      "['ben', 'sen']\n"
     ]
    }
   ],
   "source": [
    "# pop komutu da clear gibi calisir. icine deger almaz. son elemani siler\n",
    "\n",
    "liste = [\"ben\", \"sen\", \"o\"]\n",
    "\n",
    "liste.pop()    # pop foksiyonu ile index numarasi girmezsek sondakini siler\n",
    "\n",
    "print(liste)"
   ]
  },
  {
   "cell_type": "code",
   "execution_count": 65,
   "metadata": {
    "id": "Tx9tfW_aDYSx"
   },
   "outputs": [
    {
     "name": "stdout",
     "output_type": "stream",
     "text": [
      "['ben', 'o']\n"
     ]
    }
   ],
   "source": [
    "liste = [\"ben\", \"sen\", \"o\"]\n",
    "\n",
    "liste.pop(1)    # pop foksiyonu ile index numarasi girmezsek sondakini siler\n",
    "\n",
    "print(liste)"
   ]
  },
  {
   "cell_type": "code",
   "execution_count": null,
   "metadata": {
    "id": "IYoixfi9ombZ"
   },
   "outputs": [],
   "source": [
    "#\n",
    "#\n",
    "#\n",
    "#\n",
    "#\n",
    "# bundan sonrasi 2. sessionda\n",
    "\n",
    "\n",
    "\n",
    "\n",
    "\n",
    "\n",
    "\n",
    "\n",
    "\n",
    "\n",
    "\n"
   ]
  },
  {
   "cell_type": "code",
   "execution_count": null,
   "metadata": {
    "id": "IYoixfi9ombZ"
   },
   "outputs": [],
   "source": [
    "################          intersection() : Kesisim    ##############"
   ]
  },
  {
   "cell_type": "code",
   "execution_count": null,
   "metadata": {
    "id": "YTNhx60-udZa"
   },
   "outputs": [],
   "source": [
    "# Iki kümenin kesisimini almak icin iki farkli yöntemimiz vardir.  \n",
    "\n",
    "# 1. Yöntem:::    a & b kullanimi\n",
    "\n",
    "# 2. Yöntem:::    .intersection()  methodu kullanmaktir"
   ]
  },
  {
   "cell_type": "code",
   "execution_count": null,
   "metadata": {
    "id": "XD-isjUEuddI"
   },
   "outputs": [],
   "source": [
    "# 1. yöntem:\n",
    "\n",
    "a = set('tokat')\n",
    "b = set('yozgat')\n",
    "\n",
    "print(a & b)"
   ]
  },
  {
   "cell_type": "code",
   "execution_count": null,
   "metadata": {
    "id": "EBl8bEBaN1h6"
   },
   "outputs": [],
   "source": [
    "## Peki 1. Yöntemin kendi icerisinde de ikinci bir yöntem olusabilir mi?\n",
    "\n",
    "a = set('tokat')\n",
    "b = set('yozgat')\n",
    "\n",
    "sadecekesisim = a & b\n",
    "\n",
    "print(sadecekesisim)"
   ]
  },
  {
   "cell_type": "code",
   "execution_count": null,
   "metadata": {
    "id": "HiE2Mw3mudgz"
   },
   "outputs": [],
   "source": [
    "## ikinci yöntem::\n",
    "\n",
    "a = set('tokat')\n",
    "b = set('yozgat')\n",
    "\n",
    "print(a.intersection(b))   "
   ]
  },
  {
   "cell_type": "code",
   "execution_count": null,
   "metadata": {
    "id": "5jsufA1vudi6"
   },
   "outputs": [],
   "source": [
    "## 2. Yöntemin kendi icerisinde de ikinci bir yöntem:\n",
    "\n",
    "a = set('tokat')\n",
    "b = set('yozgat')\n",
    "\n",
    "bizimkesisim = a.intersection(b)     \n",
    "\n",
    "print(bizimkesisim)"
   ]
  },
  {
   "cell_type": "code",
   "execution_count": null,
   "metadata": {
    "id": "q9PfMDivD_MT"
   },
   "outputs": [],
   "source": [
    "## peki a ve b nin yerini degistirirsek ne ile karsilasiriz ?\n",
    "\n",
    "# mesela output tersten mi yazdirilir ?? yada error mu aliriz ??\n",
    "\n",
    "\n",
    "a = set('tokat')\n",
    "b = set('yozgat')\n",
    "\n",
    "bizimkesisim = b.intersection(a)     \n",
    "\n",
    "print(bizimkesisim)"
   ]
  },
  {
   "cell_type": "code",
   "execution_count": null,
   "metadata": {
    "id": "Ni0_u0iREjnr"
   },
   "outputs": [],
   "source": [
    "### Ilginc bir bilgi:\n",
    "\n",
    "### Bizce bu hücredeki, alt hücredeki ve iki alt hücredeki \n",
    "\n",
    "#   kodlari calistirdigimizda ne ile karsilasiriz??\n",
    "\n",
    "a = {\"12345\"}\n",
    "b = {\"1234\"}\n",
    "\n",
    "bizimkesisim = b.intersection(a)     \n",
    "\n",
    "print(bizimkesisim)"
   ]
  },
  {
   "cell_type": "code",
   "execution_count": null,
   "metadata": {
    "id": "wqoi5D45EjqF"
   },
   "outputs": [],
   "source": [
    "a = {12345}\n",
    "b = {1234}\n",
    "\n",
    "bizimkesisim = b.intersection(a)     \n",
    "\n",
    "print(bizimkesisim)"
   ]
  },
  {
   "cell_type": "code",
   "execution_count": null,
   "metadata": {
    "id": "TCSUWzkQG4Gg"
   },
   "outputs": [],
   "source": [
    "a = {\"1\", \"2\", \"3\", \"4\",\"5\"}\n",
    "b = {\"1\", \"2\", \"3\", \"4\"}\n",
    "\n",
    "bizimkesisim = b.intersection(a)     \n",
    "\n",
    "print(bizimkesisim)"
   ]
  },
  {
   "cell_type": "code",
   "execution_count": null,
   "metadata": {
    "id": "nnR15rRxG4Iu"
   },
   "outputs": [],
   "source": [
    "### Ilginc bir bilgi daha bizi bekliyor:\n",
    "\n",
    "## Bizce output nedir ??\n",
    "\n",
    "a = {1.0, 2.0, 3.0, 4.0, 5.0}\n",
    "b = {1, 2, 3, 4}\n",
    "\n",
    "bizimkesisim = b.intersection(a)     \n",
    "\n",
    "print(bizimkesisim)"
   ]
  },
  {
   "cell_type": "code",
   "execution_count": null,
   "metadata": {
    "id": "S4dfJs8vHszs"
   },
   "outputs": [],
   "source": [
    "### Cok ilginc bir bilgi bizi bekliyor: \n",
    "\n",
    "## Set icerisinde bool() func calisir mi???   ##  Bizce output nedir ???\n",
    "\n",
    "a = {bool(1), bool(2), bool(None), bool(\"Osman bey\")}                \n",
    "b = {True, False, None}                   \n",
    "\n",
    "bizimkesisim = b.intersection(a)     \n",
    "\n",
    "print(bizimkesisim)"
   ]
  },
  {
   "cell_type": "code",
   "execution_count": null,
   "metadata": {
    "id": "ndYCvKmUHs3Y"
   },
   "outputs": [],
   "source": [
    "### Cok ilginc bir bilgi daha bizi bekliyor: \n",
    "\n",
    "## Set icerisinde and or ve not calisir mi???   ##  Bizce output nedir ???\n",
    "\n",
    "a = {bool(1), bool(2), bool(None), bool(\"Osman bey\")}                \n",
    "b = {True and False and not None}                                # ==>> dikkat aralarda and or not var               \n",
    "\n",
    "bizimkesisim = b.intersection(a)     \n",
    "\n",
    "print(bizimkesisim)"
   ]
  },
  {
   "cell_type": "code",
   "execution_count": null,
   "metadata": {
    "id": "fOwa-V2JHs6M"
   },
   "outputs": [],
   "source": [
    "### peki hic merak ettik mi bu set imizin eleman sayisi kactir ??\n",
    "\n",
    "b = {True and False and not None}\n",
    "\n",
    "print(len(b))"
   ]
  },
  {
   "cell_type": "code",
   "execution_count": null,
   "metadata": {
    "id": "HSt9McC6J_rI"
   },
   "outputs": [],
   "source": []
  },
  {
   "cell_type": "code",
   "execution_count": null,
   "metadata": {
    "id": "q2F_FQwnKAMB"
   },
   "outputs": [],
   "source": [
    "#### Cok önemli bir bilgi daha:\n",
    "\n",
    "## Cohort 10 olarak Bizce \n",
    "\n",
    "# Python da ikiden daha cok kümenin kesimini bulma sansimiz var midir?\n",
    "\n",
    "# Yok ise neden yoktur var ise nasil gerceklesir ?? \n"
   ]
  },
  {
   "cell_type": "code",
   "execution_count": null,
   "metadata": {
    "id": "ukBRfgLUMuYx"
   },
   "outputs": [],
   "source": []
  },
  {
   "cell_type": "code",
   "execution_count": null,
   "metadata": {
    "id": "9YEnl3G9MunF"
   },
   "outputs": [],
   "source": []
  },
  {
   "cell_type": "code",
   "execution_count": null,
   "metadata": {
    "id": "h0rIOldiNZgA"
   },
   "outputs": [],
   "source": [
    "a = set('tokat')        ### Dikkat Burada kesisim almanin iki yönteminden ilk yöntemi kullaniyoruz\n",
    "b = set('yozgat')\n",
    "c = set('atlanta')\n",
    "d = set('atlanticocean')\n",
    "e = set('atlasokyanusu')\n",
    "\n",
    "print(a & b & c & d & e) "
   ]
  },
  {
   "cell_type": "code",
   "execution_count": null,
   "metadata": {
    "id": "mlDOgdRiLCWB"
   },
   "outputs": [],
   "source": [
    "## Dikkat burada kesisim almanin ikinci yöntemini kullaniyoruz:\n",
    "\n",
    "a = set('tokat')\n",
    "b = set('yozgat')\n",
    "c = set('atlanta')\n",
    "d = set('atlanticocean')\n",
    "e = set('atlasokyanusu')\n",
    "\n",
    "sizinkesisim = b.intersection(a, b, c, d, e)     \n",
    "\n",
    "print(sizinkesisim)"
   ]
  },
  {
   "cell_type": "code",
   "execution_count": null,
   "metadata": {
    "id": "e8w9Sdz3PBKm"
   },
   "outputs": [],
   "source": [
    "## Peki !!!\n",
    "\n",
    "# Olusturdugumuz Kesisimin type' ini hic merak ettik mi ??\n",
    "\n",
    "a = set('cohort10')\n",
    "b = set('01trohoc')\n",
    "     \n",
    "print(a & b, type(a & b), sep = \"\\n \\n\")"
   ]
  },
  {
   "cell_type": "code",
   "execution_count": null,
   "metadata": {
    "id": "z_ScyXtyPBM9"
   },
   "outputs": [],
   "source": [
    "# Mühendis arkadaslar icin de bir alistirma yapalim: \n",
    "\n",
    "benimkümem = {3 + 3j}     # Output ???\n",
    "seninkümen = {3 + 5j}\n",
    "\n",
    "print(benimkümem & seninkümen)"
   ]
  },
  {
   "cell_type": "code",
   "execution_count": null,
   "metadata": {
    "id": "awQ-fap4PBOu"
   },
   "outputs": [],
   "source": [
    "# output umuz nedir ??\n",
    "\n",
    "set1 = {True and False and True}\n",
    "\n",
    "set2 = {True or False or True}\n",
    "\n",
    "print(set1 & set2)"
   ]
  },
  {
   "cell_type": "code",
   "execution_count": null,
   "metadata": {
    "id": "1N-WpaThPBQg"
   },
   "outputs": [],
   "source": [
    "# ----------------------------------------------------------------------"
   ]
  },
  {
   "cell_type": "code",
   "execution_count": null,
   "metadata": {
    "id": "J5bpaDjnLCdo"
   },
   "outputs": [],
   "source": [
    "################        difference        ###############"
   ]
  },
  {
   "cell_type": "code",
   "execution_count": null,
   "metadata": {
    "id": "PoYmmG9hLCgJ"
   },
   "outputs": [],
   "source": [
    "# iki farkli kullanimi vardir\n",
    "\n",
    "# 1: \n",
    "\n",
    "set1 = {\"ben\", \"sen\", \"o\", \"biz\"}\n",
    "\n",
    "set2 = {\"ben\", \"biz\", \"siz\", \"onlar\"}\n",
    "\n",
    "fark = set1 - set2 \n",
    "\n",
    "print(fark)\n",
    "\n",
    "print(set1 - set2)"
   ]
  },
  {
   "cell_type": "code",
   "execution_count": null,
   "metadata": {
    "id": "IdIKAcx0KAOU"
   },
   "outputs": [],
   "source": [
    "## ikinci method:\n",
    "\n",
    "set1 = {\"ben\", \"sen\", \"o\", \"biz\"}\n",
    "\n",
    "set2 = {\"ben\", \"biz\", \"siz\", \"onlar\"}\n",
    "\n",
    "fark = set1.difference(set2) \n",
    "\n",
    "print(fark)\n",
    "\n",
    "print(set1.difference(set2))     "
   ]
  },
  {
   "cell_type": "code",
   "execution_count": null,
   "metadata": {
    "id": "9nLd2LX6Ejrs"
   },
   "outputs": [],
   "source": [
    "#######  Attention :::::\n",
    "\n",
    "# iki küme kesisimi alirken a & b  ile b & a  ayni seylerdir. Ancak\n",
    "\n",
    "# fark alirken (set1 - set2) ile (set2 - set1) ayni seyler degildir.\n",
    "\n",
    "# Söyle düsünelim::::\n",
    "\n",
    "set1 = {\"ben\", \"sen\", \"o\", \"biz\"}\n",
    "\n",
    "set2 = {\"ben\", \"biz\", \"siz\", \"onlar\"}\n",
    "\n",
    "# set1 de olup set2 de olmayanlar =>> \"sen\" ve \"o\"\n",
    "\n",
    "# set2 de olup set1 de olmayanlar ise  =>>  \"siz\", \"onlar\"\n",
    "\n",
    "print(set1 - set2)\n",
    "\n",
    "print(set2 - set1)"
   ]
  },
  {
   "cell_type": "code",
   "execution_count": null,
   "metadata": {
    "id": "t-nViSC_Ejt7"
   },
   "outputs": [],
   "source": [
    "# outputumuz nedir ??\n",
    "\n",
    "set1 = {\"ben\", \"sen\", \"o\", \"biz\"}\n",
    "\n",
    "set2 = {\"ben\", \"biz\", \"siz\", \"onlar\"}\n",
    "\n",
    "print(set1 and set2)"
   ]
  },
  {
   "cell_type": "code",
   "execution_count": null,
   "metadata": {
    "id": "dlp_OG5IEjve"
   },
   "outputs": [],
   "source": [
    "### Peki diyelim ki elimizde birbirleri ile kesisimi yani\n",
    "\n",
    "# ortak elemani olan toplam 4 adet küme olsun.\n",
    "\n",
    "## bizce bu dört kümeden birinin diger üc kümeden farkini bulabilir miyiz ??\n",
    "\n",
    "set1 = {\"ben\", \"sen\", \"o\", \"biz\"}\n",
    "\n",
    "set2 = {\"ben\", \"biz\", \"siz\", \"onlar\"}\n",
    "\n",
    "set3 = {\"ben\", 1, 2, 3}\n",
    "\n",
    "set4 = {\"ben\", \"ekim\", \"kasim\"}\n",
    "\n",
    "print(set4 - (set1 | set2 | set3))   ## vvvvv "
   ]
  },
  {
   "cell_type": "code",
   "execution_count": null,
   "metadata": {
    "id": "2wfKOY1xW2ns"
   },
   "outputs": [],
   "source": [
    "# kümeler icerisine - islemi yapabiliyoruz ancak\n",
    "\n",
    "# matematikteki + islemi kümeler arasinda islem yapmiyor.\n",
    "\n",
    "# o nedenle birlesim icin böyle bir formül kurduk. \n",
    "\n",
    "# Aklimiza gelen baska yöntem var midir ??"
   ]
  },
  {
   "cell_type": "code",
   "execution_count": null,
   "metadata": {
    "id": "CRaRQGEIW2pi"
   },
   "outputs": [],
   "source": [
    "# son olarak:\n",
    "\n",
    "#  set1 ve set2 de olup set3 ve set4 de olmayan elemanlari bulalim\n",
    "\n",
    "set1 = {\"ben\", \"sen\", \"o\", \"biz\"}\n",
    "\n",
    "set2 = {\"ben\", \"biz\", \"siz\", \"onlar\"}\n",
    "\n",
    "set3 = {\"ben\", 1, 2, 3}\n",
    "\n",
    "set4 = {\"ben\", \"ekim\", \"kasim\"}\n",
    "\n",
    "print((set1 & set2) - (set3 & set4)) "
   ]
  },
  {
   "cell_type": "code",
   "execution_count": null,
   "metadata": {
    "id": "y9L5O0JZW2re"
   },
   "outputs": [],
   "source": []
  },
  {
   "cell_type": "code",
   "execution_count": null,
   "metadata": {
    "id": "GTWh7tAOegy7"
   },
   "outputs": [],
   "source": [
    "# ------------------------------------------------------------"
   ]
  },
  {
   "cell_type": "code",
   "execution_count": null,
   "metadata": {
    "id": "c3Mem6_Weg09"
   },
   "outputs": [],
   "source": [
    "############           union  (birlesim)       ##############"
   ]
  },
  {
   "cell_type": "code",
   "execution_count": null,
   "metadata": {
    "id": "vRJA5QPBeg3E"
   },
   "outputs": [],
   "source": [
    "# iki veya daha fazla kümenin birlesimini almak icin elimizde yine \n",
    "\n",
    "# 2 farkli yöntem vardir:\n",
    "\n",
    "# 1. Yöntem:\n",
    "\n",
    "set1 = {\"ben\", \"sen\", \"o\", \"biz\"}  ## output?? \n",
    "\n",
    "set2 = {\"ben\", \"biz\", \"siz\", \"onlar\"}\n",
    "\n",
    "print(set1 | set2)"
   ]
  },
  {
   "cell_type": "code",
   "execution_count": null,
   "metadata": {
    "id": "1_hjV0xYe3UR"
   },
   "outputs": [],
   "source": [
    "# ikinci yöntem:\n",
    "\n",
    "set1 = {\"ben\", \"sen\", \"o\", \"biz\"}\n",
    "\n",
    "set2 = {\"ben\", \"biz\", \"siz\", \"onlar\"}\n",
    "\n",
    "print(set1.union(set2))\n",
    "\n",
    "print(set2.union(set1))\n",
    "\n",
    "# Dikkat!!: iki küme farki alirken set1 ve set2 nin yerinin degismesi \n",
    "\n",
    "# sonucu degistiriyordu. Ancak kesisim ve birlesimde sonuc degismez"
   ]
  },
  {
   "cell_type": "code",
   "execution_count": null,
   "metadata": {
    "id": "6suD0U8QgrfM"
   },
   "outputs": [],
   "source": [
    "# Söyle bir sorumuz olsun:\n",
    "\n",
    "# üc tane kümemiz var. biz bu 3 kümenin sadece kendilerine ait olan \n",
    "\n",
    "# elemanlarini bir araya getirmek ve toplamak istiyoruz. yani kesisimlerini bu yeni\n",
    "\n",
    "# küme icerisine almak istemiyoruz \n",
    "\n",
    "set1 = {\"ben\", \"sen\", \"o\", \"biz\"}\n",
    "\n",
    "set2 = {\"ben\", \"biz\", \"siz\", \"onlar\"}\n",
    "\n",
    "set3 = {\"ben\", \"ankara\", \"malatya\", \"izmir\"}\n",
    "\n",
    "yeni_kümemiz = (set1 | set2 | set3) - (set1 & set2 & set3)\n",
    "\n",
    "print(yeni_kümemiz)    ##  outputu inceleyelim"
   ]
  },
  {
   "cell_type": "code",
   "execution_count": null,
   "metadata": {
    "id": "DfEgCi_Oe3WV"
   },
   "outputs": [],
   "source": [
    "## in ve not in komutlarini yine setlerde de kullanabiliyoruz\n",
    "\n",
    "set3 = {\"ben\", \"ankara\", \"malatya\", \"izmir\"}\n",
    "\n",
    "print(\"malatya\" in set3)\n",
    "\n",
    "print(\"gaziantep\" in set3)"
   ]
  },
  {
   "cell_type": "code",
   "execution_count": null,
   "metadata": {
    "id": "D8a5Sw02e3YW"
   },
   "outputs": [],
   "source": [
    "# tersini kuralim:\n",
    "\n",
    "set3 = {\"ben\", \"ankara\", \"malatya\", \"izmir\"}\n",
    "\n",
    "print(\"malatya\" not in set3)\n",
    "\n",
    "print(\"gaziantep\" not in set3)"
   ]
  },
  {
   "cell_type": "code",
   "execution_count": null,
   "metadata": {
    "id": "WEOLQk8ee3af"
   },
   "outputs": [],
   "source": [
    "### Attention:  in ile not in'i  ==  ile karistirmayalim\n",
    "\n",
    "# eger \n",
    "\n",
    "set3 = {\"ben\", \"ankara\", \"malatya\", \"izmir\"}\n",
    "\n",
    "print(\"malatya\" == set3)    # bu sekilde yaparsak sonuc False olur.\n",
    "\n",
    "                            # cünkü \"malatya\" sadece set3 icerisinde bir tane elemandir\n",
    "                            # yani set3 e esit degildir"
   ]
  },
  {
   "cell_type": "code",
   "execution_count": null,
   "metadata": {
    "colab": {
     "base_uri": "https://localhost:8080/"
    },
    "id": "QtXg46lqe3b6",
    "outputId": "41893de8-8808-4e3b-8487-babb018d70fd"
   },
   "outputs": [],
   "source": [
    "## son olarak dict i set e cevirmeye bakalim:\n",
    "\n",
    "liste = {\"il\" : \"kahramanmaras\"}\n",
    "\n",
    "print(set(liste))\n",
    "\n",
    "# dict sete cevrildiginde, sadece key ler alinir. "
   ]
  },
  {
   "cell_type": "code",
   "execution_count": null,
   "metadata": {
    "id": "8Pz59wdmeg4k"
   },
   "outputs": [],
   "source": [
    "# peki tersini deneyelim.\n",
    "\n",
    "# set'ten dict yapma            ####  what is the output ??\n",
    "\n",
    "# set3 = {\"ben\", \"ankara\", \"malatya\", \"izmir\"}\n",
    "\n",
    "# set3 = {\"ben\", \"ankara\", \"malatya\", \"izmir\"}\n",
    "\n",
    "# print(dict(set3))  "
   ]
  },
  {
   "cell_type": "code",
   "execution_count": null,
   "metadata": {
    "id": "1WXpwKFdudkq"
   },
   "outputs": [],
   "source": [
    "#####  pekiiiiiii ? \n",
    "\n",
    "# söyle birsey yapsak ne ile karsilasiriz ??\n",
    "\n",
    "set3 = {\"ben\", \"ankara\", \"malatya\", \"izmir\"}\n",
    "\n",
    "set2 = {\"ben\", \"ankara\", \"malatya\", \"izmir\"}\n",
    "\n",
    "print(dict(set3 = set2))  "
   ]
  },
  {
   "cell_type": "code",
   "execution_count": null,
   "metadata": {
    "id": "xILWoqBWudmt"
   },
   "outputs": [],
   "source": [
    "#  bu kod calisir mi ??\n",
    "\n",
    "set3 = {\"ben\", \"ankara\", \"malatya\", \"izmir\"}\n",
    "\n",
    "set2 = {\"ben\", \"ankara\", \"malatya\", \"izmir\"}\n",
    "\n",
    "dictionary = {set3 : set2}\n",
    "\n",
    "print(dictionary)  "
   ]
  },
  {
   "cell_type": "code",
   "execution_count": null,
   "metadata": {
    "id": "ydtvhRO_omfE"
   },
   "outputs": [],
   "source": [
    "#  pekiiiiii \n",
    "\n",
    "# elimizdeki veriler tuple olsaydi söyle bir dict olusturabilirmiydik ??\n",
    "\n",
    "set3 = (\"ben\", \"ankara\", \"malatya\", \"izmir\")\n",
    "\n",
    "set2 = (\"ben\", \"ankara\", \"malatya\", \"izmir\")\n",
    "\n",
    "dictionary = {set3 : set2}\n",
    "\n",
    "print(dictionary)         ####  iki print var iki output nasil olur ??? \n",
    "\n",
    "print(dict(set3 = set2))"
   ]
  },
  {
   "cell_type": "code",
   "execution_count": null,
   "metadata": {
    "id": "k6ZWZuZxM8mT"
   },
   "outputs": [],
   "source": []
  },
  {
   "cell_type": "code",
   "execution_count": null,
   "metadata": {
    "id": "A-dB8BLgM8n2"
   },
   "outputs": [],
   "source": []
  }
 ],
 "metadata": {
  "colab": {
   "collapsed_sections": [],
   "name": "sets_Python 10_Session.ipynb",
   "provenance": []
  },
  "kernelspec": {
   "display_name": "Python 3",
   "language": "python",
   "name": "python3"
  },
  "language_info": {
   "codemirror_mode": {
    "name": "ipython",
    "version": 3
   },
   "file_extension": ".py",
   "mimetype": "text/x-python",
   "name": "python",
   "nbconvert_exporter": "python",
   "pygments_lexer": "ipython3",
   "version": "3.8.8"
  }
 },
 "nbformat": 4,
 "nbformat_minor": 4
}
