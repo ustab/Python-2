{
 "cells": [
  {
   "cell_type": "markdown",
   "metadata": {
    "id": "UO4WBUc0Wtse"
   },
   "source": [
    "                                Exercise-1\n",
    "\n",
    "Convert a Number to Base-2\n",
    "Create a function that returns a base-2 (binary) representation of a base-10 (decimal) string number. To convert is simple: ((2) means base-2 and (10) means base-10) 010101001(2) = 1 + 8 + 32 + 128.\n",
    "\n",
    "Going from right to left, the value of the most right bit is 1, now from that every bit to the left will be x2 the value, value of an 8 bit binary numbers are (256, 128, 64, 32, 16, 8, 4, 2, 1).\n",
    "\n",
    "Examples\n",
    "\n",
    "binary(1) ➞ \"1\"\n",
    "\n",
    "// 1 * 1 = 1\n",
    "\n",
    "binary(5) ➞ \"101\"\n",
    "\n",
    "// 1 * 1 + 1 * 4 = 5\n",
    "\n",
    "binary(10) ➞ \"1010\"\n",
    "\n",
    "// 1 * 2 + 1 * 8 = 10\n",
    "\n",
    "Note (Don't use bin() function)"
   ]
  },
  {
   "cell_type": "code",
   "execution_count": 1,
   "metadata": {
    "id": "2Ao5oWrUWpVY"
   },
   "outputs": [
    {
     "data": {
      "text/plain": [
       "'1010'"
      ]
     },
     "execution_count": 1,
     "metadata": {},
     "output_type": "execute_result"
    }
   ],
   "source": [
    "def binary(num) :\n",
    "    bin = \"\"    \n",
    "    while num != 0 :\n",
    "        bin += str(num % 2)\n",
    "        num = num // 2\n",
    "    return bin[::-1]\n",
    "\n",
    "  \n",
    "binary(10)        \n",
    "      "
   ]
  },
  {
   "cell_type": "code",
   "execution_count": 2,
   "metadata": {},
   "outputs": [
    {
     "data": {
      "text/plain": [
       "'0b101'"
      ]
     },
     "execution_count": 2,
     "metadata": {},
     "output_type": "execute_result"
    }
   ],
   "source": [
    "bin(5)  # bin() fonksiyonu ile sayiyi direk binary 2 lik sisteme ceviririz."
   ]
  },
  {
   "cell_type": "markdown",
   "metadata": {
    "id": "0nPBCPa6WxKP"
   },
   "source": [
    "                              Exercise-2 \n",
    "Check if One Array can be Nested in Another\n",
    "\n",
    "Create a function that returns true if the first array can be nested inside the second.\n",
    "\n",
    "arr1 can be nested inside arr2 if:\n",
    "\n",
    "arr1's min is greater than arr2's min.\n",
    "\n",
    "arr1's max is less than arr2's max.\n",
    "\n",
    "Examples\n",
    "\n",
    "canNest([1, 2, 3, 4], [0, 6]) ➞ True\n",
    "\n",
    "canNest([3, 1], [4, 0]) ➞ True\n",
    "\n",
    "canNest([9, 9, 8], [8, 9]) ➞ False\n",
    "\n",
    "canNest([1, 2, 3, 4], [2, 3]) ➞ False\n",
    "\n",
    "[ ]\n"
   ]
  },
  {
   "cell_type": "code",
   "execution_count": 3,
   "metadata": {
    "id": "vSpMNTCpW3QQ"
   },
   "outputs": [
    {
     "data": {
      "text/plain": [
       "True"
      ]
     },
     "execution_count": 3,
     "metadata": {},
     "output_type": "execute_result"
    }
   ],
   "source": [
    "def canNest(arry1, arry2) :\n",
    "    return min(arry1) > min(arry2) and max(arry1) < max(arry2)\n",
    "\n",
    "canNest([3, 4], [2, 7])"
   ]
  },
  {
   "cell_type": "markdown",
   "metadata": {
    "id": "f9mSIheVW3kw"
   },
   "source": [
    "                                    Exercise-3\n",
    "Move Capital Letters to the Front\n",
    "\n",
    "Create a function that moves all capital letters to the front of a word.\n",
    "\n",
    "Examples\n",
    "\n",
    "cap_to_front(\"hApPy\") ➞ \"APhpy\"\n",
    "\n",
    "cap_to_front(\"moveMENT\") ➞ \"MENTmove\"\n",
    "\n",
    "cap_to_front(\"shOrtCAKE\") ➞ \"OCAKEshrt\""
   ]
  },
  {
   "cell_type": "code",
   "execution_count": 4,
   "metadata": {
    "id": "m9ehWO0HW7f7"
   },
   "outputs": [
    {
     "data": {
      "text/plain": [
       "'APhpy'"
      ]
     },
     "execution_count": 4,
     "metadata": {},
     "output_type": "execute_result"
    }
   ],
   "source": [
    "def cap_to_front(text) :\n",
    "    new_text = \"\"\n",
    "    for i in text :\n",
    "        if i.isupper() :\n",
    "            new_text += i\n",
    "            text = text.replace(i,\"\")\n",
    "    return new_text + text\n",
    "\n",
    "cap_to_front(\"hApPy\")"
   ]
  },
  {
   "cell_type": "code",
   "execution_count": 5,
   "metadata": {},
   "outputs": [
    {
     "data": {
      "text/plain": [
       "'MENTmove'"
      ]
     },
     "execution_count": 5,
     "metadata": {},
     "output_type": "execute_result"
    }
   ],
   "source": [
    "text = \"moveMENT\"\n",
    "\"\".join([i for i in text if i.isupper()] + [j for j in text if j.islower()])"
   ]
  },
  {
   "cell_type": "code",
   "execution_count": null,
   "metadata": {},
   "outputs": [],
   "source": []
  },
  {
   "cell_type": "markdown",
   "metadata": {
    "id": "VIH8NS-1W7wl"
   },
   "source": [
    "                                  Exercise-4\n",
    "The Reverser!\n",
    "\n",
    "The \"Reverser\" takes a string as input and returns that string in reverse order, with the opposite case.\n",
    "\n",
    "Examples\n",
    "\n",
    "reverse(\"Hello World\") ➞ \"DLROw OLLEh\"\n",
    "\n",
    "reverse(\"ReVeRsE\") ➞ \"eSrEvEr\"\n",
    "\n",
    "reverse(\"Radar\") ➞ \"RADAr\"\n",
    "\n",
    "Notes\n",
    "\n",
    "There will be no punctuation in any of the test cases."
   ]
  },
  {
   "cell_type": "code",
   "execution_count": 6,
   "metadata": {
    "id": "Iuvqb85DXAbe"
   },
   "outputs": [
    {
     "data": {
      "text/plain": [
       "'DLROW OLLEH'"
      ]
     },
     "execution_count": 6,
     "metadata": {},
     "output_type": "execute_result"
    }
   ],
   "source": [
    "def reverse(text) :\n",
    "    return \"\".join([i.upper() if i.islower else i.lower() for i in text[::-1]])\n",
    "\n",
    "\n",
    "reverse(\"Hello World\")    "
   ]
  },
  {
   "cell_type": "code",
   "execution_count": 7,
   "metadata": {},
   "outputs": [
    {
     "data": {
      "text/plain": [
       "'RaDaR'"
      ]
     },
     "execution_count": 7,
     "metadata": {},
     "output_type": "execute_result"
    }
   ],
   "source": [
    "def reverse(text) :\n",
    "    return text[::-1].swapcase()  #swapcase() fonksiyonu buyuk harfleri kucuk, kucuk harfleri buyuk yapar\n",
    "\n",
    "reverse(\"rAdAr\")"
   ]
  },
  {
   "cell_type": "code",
   "execution_count": 8,
   "metadata": {},
   "outputs": [
    {
     "data": {
      "text/plain": [
       "['odd', 'odd', 'odd', 'even', 'odd', 'odd', 'odd']"
      ]
     },
     "execution_count": 8,
     "metadata": {},
     "output_type": "execute_result"
    }
   ],
   "source": [
    "[\"odd\" if i % 2 == 1 else \"even\" for i in [3, 13, 11, 2, 1, 9, 5]]"
   ]
  },
  {
   "cell_type": "markdown",
   "metadata": {
    "id": "bgeGq8lBXAxu"
   },
   "source": [
    "                                    Exercise-5\n",
    "Create a function that retrieves every number that is strictly larger than every number that follows it.\n",
    "Examples\n",
    "\n",
    "[3, 13, 11, 2, 1, 9, 5] ➞ [13, 11, 9, 5]\n",
    "\n",
    "13 is larger than all numbers to its right, etc.\n",
    "\n",
    "[5, 5, 5, 5, 5, 5] ➞ [5]\n",
    "\n",
    "Must be strictly larger.\n",
    "\n",
    "Always include the last number.\n",
    "\n",
    "[5, 9, 8, 7] ➞ [9, 8, 7]\n",
    "\n",
    "Notes\n",
    "\n",
    "The last number in an array is trivially strictly larger than all numbers that follow it (no numbers follow it)."
   ]
  },
  {
   "cell_type": "code",
   "execution_count": 9,
   "metadata": {
    "id": "LEaGU0DcXBul"
   },
   "outputs": [
    {
     "data": {
      "text/plain": [
       "[13, 11, 9, 5]"
      ]
     },
     "execution_count": 9,
     "metadata": {},
     "output_type": "execute_result"
    }
   ],
   "source": [
    "arry = [3, 13, 11, 2, 1, 9, 5] \n",
    "n_arry = []\n",
    "\n",
    "for i in range (0, len(arry)-1) :\n",
    "    if all([arry[i] > j for j in arry[i+1:]]) == True :\n",
    "        n_arry.append(arry[i])\n",
    "    \n",
    "n_arry + [arry[-1]]"
   ]
  },
  {
   "cell_type": "code",
   "execution_count": null,
   "metadata": {},
   "outputs": [],
   "source": []
  },
  {
   "cell_type": "markdown",
   "metadata": {
    "id": "ydJC7lTMXCH1"
   },
   "source": [
    "                                    Exercise - 6\n",
    "C * ns * r * d Str * ngs\n",
    "\n",
    "Someone has attempted to censor my strings by replacing every vowel with a *, l*k* th*s. Luckily, I've been able to find the vowels that were removed.\n",
    "\n",
    "Given a censored string and a string of the censored vowels, return the original uncensored string.\n",
    "\n",
    "Example\n",
    "\n",
    "uncensor(\"Wh * r * d * d my v * w * ls g * ?\", \"eeioeo\") ➞ \"Where did my vowels go?\"\n",
    "\n",
    "uncensor(\"abcd\", \"\") ➞ \"abcd\"\n",
    "\n",
    "uncensor(\"* PP * RC * S * \", \"UEAE\") ➞ \"UPPERCASE\"\n",
    "\n",
    "Notes\n",
    "\n",
    "The vowels are given in the correct order.\n",
    "\n",
    "The number of vowels will match the number of * characters in the censored string."
   ]
  },
  {
   "cell_type": "code",
   "execution_count": 10,
   "metadata": {
    "id": "MoUpvXSEXFmL"
   },
   "outputs": [
    {
     "data": {
      "text/plain": [
       "'Where did my vowels go ?'"
      ]
     },
     "execution_count": 10,
     "metadata": {},
     "output_type": "execute_result"
    }
   ],
   "source": [
    "def uncensor(string, vowel) :\n",
    "    index = 0\n",
    "    n_str = \"\"\n",
    "    for i in string :\n",
    "        if i == \"*\" :\n",
    "            n_str += vowel[index]\n",
    "            index += 1\n",
    "        else :\n",
    "            n_str += i\n",
    "    return n_str\n",
    "\n",
    "\n",
    "uncensor(\"Wh*r* d*d my v*w*ls g* ?\", \"eeioeo\")   "
   ]
  },
  {
   "cell_type": "markdown",
   "metadata": {
    "id": "5HeJI99aXF2r"
   },
   "source": [
    "                                    Exercise -7\n",
    "                                    \n",
    "There is a string, s , of lowercase English letters that is repeated infinitely many times. Given an integer, n , find and print the number of letter a's in the first n letters of the infinite string.\n",
    "\n",
    "Example\n",
    "s = \"abcac\"\n",
    "\n",
    "n = 10\n",
    "\n",
    "The substring we consider is \"abcacabcac\", the first 10 characters of the infinite string. There are 4  occurrences of a in the substring."
   ]
  },
  {
   "cell_type": "code",
   "execution_count": 11,
   "metadata": {
    "id": "M7_acFlkXPLe"
   },
   "outputs": [
    {
     "data": {
      "text/plain": [
       "42"
      ]
     },
     "execution_count": 11,
     "metadata": {},
     "output_type": "execute_result"
    }
   ],
   "source": [
    "def repeadstring(s, n) :\n",
    "    return (s * (n // len(s)) + s[0:(n % len(s))]).count(\"a\")\n",
    "\n",
    "repeadstring(\"abcabc\", 125)"
   ]
  },
  {
   "cell_type": "code",
   "execution_count": 12,
   "metadata": {},
   "outputs": [
    {
     "data": {
      "text/plain": [
       "42"
      ]
     },
     "execution_count": 12,
     "metadata": {},
     "output_type": "execute_result"
    }
   ],
   "source": [
    "def repeatedString(s, n):\n",
    "    c = s.count('a')\n",
    "    div=n//len(s)\n",
    "    if n%len(s)==0:\n",
    "        c= c*div\n",
    "    else:\n",
    "        m = n%len(s)\n",
    "        c= c*div+s[:m].count('a')\n",
    "    return c\n",
    "\n",
    "repeadstring(\"abcabc\", 125)"
   ]
  },
  {
   "cell_type": "markdown",
   "metadata": {
    "id": "G6s3c68YXPdV"
   },
   "source": [
    "                                Exercise -8\n",
    "Nearest Vowel\n",
    "\n",
    "Given a letter, created a function which returns the nearest vowel to the letter. If two vowels are equidistant to the given letter, return the earlier vowel.\n",
    "\n",
    "Examples\n",
    "\n",
    "nearestVowel(\"b\") ➞ \"a\"\n",
    "\n",
    "nearestVowel(\"s\") ➞ \"u\"\n",
    "\n",
    "nearestVowel(\"c\") ➞ \"a\"\n",
    "\n",
    "nearestVowel(\"i\") ➞ \"i\"\n",
    "\n",
    "Notes\n",
    "\n",
    "All letters will be given in lowercase.\n",
    "\n",
    "There will be no alphabet wrapping involved, meaning the closest vowel to \"z\" should return \"u\", not \"a\"."
   ]
  },
  {
   "cell_type": "code",
   "execution_count": 13,
   "metadata": {},
   "outputs": [
    {
     "data": {
      "text/plain": [
       "'u'"
      ]
     },
     "execution_count": 13,
     "metadata": {},
     "output_type": "execute_result"
    }
   ],
   "source": [
    "def near(letter):\n",
    "    return sorted(\"aeiou\", key=lambda x: abs(ord(letter) - ord(x)))[0]\n",
    "near(\"z\")"
   ]
  },
  {
   "cell_type": "code",
   "execution_count": 14,
   "metadata": {},
   "outputs": [
    {
     "data": {
      "text/plain": [
       "'u'"
      ]
     },
     "execution_count": 14,
     "metadata": {},
     "output_type": "execute_result"
    }
   ],
   "source": [
    "vowel = \"aeiou\"\n",
    "string = \"t\"\n",
    "order = []\n",
    "\n",
    "for i in vowel :\n",
    "    order += [abs(ord(i) - ord(string))]\n",
    "\n",
    "vowel[order.index(min(order))]"
   ]
  },
  {
   "cell_type": "code",
   "execution_count": 15,
   "metadata": {},
   "outputs": [
    {
     "data": {
      "text/plain": [
       "'u'"
      ]
     },
     "execution_count": 15,
     "metadata": {},
     "output_type": "execute_result"
    }
   ],
   "source": [
    "def nearestVowel(string) :\n",
    "    vowel = \"aeiou\"\n",
    "    order =[abs(ord(i) - ord(string)) for i in vowel]\n",
    "    return vowel[order.index(min(order))]\n",
    "\n",
    "nearestVowel(\"z\")"
   ]
  },
  {
   "cell_type": "code",
   "execution_count": null,
   "metadata": {},
   "outputs": [],
   "source": []
  }
 ],
 "metadata": {
  "colab": {
   "name": "workshop-26.11.ipynb",
   "provenance": []
  },
  "kernelspec": {
   "display_name": "Python 3",
   "language": "python",
   "name": "python3"
  },
  "language_info": {
   "codemirror_mode": {
    "name": "ipython",
    "version": 3
   },
   "file_extension": ".py",
   "mimetype": "text/x-python",
   "name": "python",
   "nbconvert_exporter": "python",
   "pygments_lexer": "ipython3",
   "version": "3.8.8"
  }
 },
 "nbformat": 4,
 "nbformat_minor": 4
}
