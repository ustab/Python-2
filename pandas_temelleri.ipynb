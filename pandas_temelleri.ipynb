{
 "cells": [
  {
   "cell_type": "markdown",
   "metadata": {
    "colab_type": "text",
    "id": "FaLBrGoru1Lz",
    "slideshow": {
     "slide_type": "skip"
    }
   },
   "source": [
    "# PANDAS KÜTÜPHANESİNİN TEMELLERİ"
   ]
  },
  {
   "cell_type": "markdown",
   "metadata": {
    "colab_type": "text",
    "id": "mPTi7Yi5vg_p"
   },
   "source": [
    "# 1. pandas Kütüphanesinin İşlevleri"
   ]
  },
  {
   "cell_type": "markdown",
   "metadata": {
    "colab_type": "text",
    "id": "ol2g8ZGntp97",
    "slideshow": {
     "slide_type": "slide"
    }
   },
   "source": [
    "__pandas__, yüksek başarımlı veri analizi için kullanılan açık kaynak bir Python kütüphanesidir. Python dilinde gerçekleştirilen çoğu istatistiksel analiz ve karar verme (decision making) uygulamalarının referans noktasını oluşturmaktadır. Wes McKinney tarafından 2008 yılında tasarlanmış ve geliştirilmiştir. Sien Chang adlı meslektaşı ile 2012 yılında çalışmaya başlayarak, pandas kütüphanesine yeni özellikler getirmeye devam etmiştir. \n",
    "\n",
    "pandas, veri işleme, veri çıkarımı (data extraction) ve veri düzenleme (data manipulation) gibi ihtiyaçları en basit yoldan çözümlemeyi hedefleyen bir kütüphanedir. pandas kütüphanesi de, NumPy kütüphanesinden temellendirilerek oluşturulmuştur. "
   ]
  },
  {
   "cell_type": "markdown",
   "metadata": {
    "colab_type": "text",
    "id": "VZXyCtOptp99",
    "slideshow": {
     "slide_type": "slide"
    }
   },
   "source": [
    "![alt text](https://i.hizliresim.com/WwK8l4.png)"
   ]
  },
  {
   "cell_type": "markdown",
   "metadata": {
    "colab_type": "text",
    "id": "UUlyxiOJtp9-",
    "slideshow": {
     "slide_type": "slide"
    }
   },
   "source": [
    "pandas kütüphanesini yüklemek için:"
   ]
  },
  {
   "cell_type": "code",
   "execution_count": 1,
   "metadata": {
    "colab": {},
    "colab_type": "code",
    "id": "ArOo2_iztp9_",
    "slideshow": {
     "slide_type": "slide"
    }
   },
   "outputs": [],
   "source": [
    "import pandas as pd\n",
    "import numpy as np"
   ]
  },
  {
   "cell_type": "markdown",
   "metadata": {
    "colab_type": "text",
    "id": "kIPg0_mivyZO"
   },
   "source": [
    "pandas kütüphanesi genellikle veri bilimciler tarafından **pd** olarak kısaltılır."
   ]
  },
  {
   "cell_type": "markdown",
   "metadata": {
    "colab_type": "text",
    "id": "V3SNWhOQtp-I"
   },
   "source": [
    "# 2. Seriler"
   ]
  },
  {
   "cell_type": "markdown",
   "metadata": {
    "colab_type": "text",
    "id": "TaVJe8gYtp-J"
   },
   "source": [
    "pandas kütüphanesinin kullandığı tek boyutlu veri yapısı serilerdir. İki diziden oluşur (array). İlki, indeks dizisidir. İkincisi, bu indekslere karşılık gelen değerleri oluşturan dizidir. "
   ]
  },
  {
   "cell_type": "code",
   "execution_count": 2,
   "metadata": {
    "colab": {
     "base_uri": "https://localhost:8080/",
     "height": 102
    },
    "colab_type": "code",
    "executionInfo": {
     "elapsed": 4410,
     "status": "ok",
     "timestamp": 1587217412299,
     "user": {
      "displayName": "Can Iban",
      "photoUrl": "",
      "userId": "03730186920594796885"
     },
     "user_tz": -180
    },
    "id": "LKCKMZjbtp-K",
    "outputId": "b6ce1bd9-ea7f-4c02-ef8c-81e1ccc997ea"
   },
   "outputs": [
    {
     "data": {
      "text/plain": [
       "0    12\n",
       "1    -4\n",
       "2     7\n",
       "3     9\n",
       "dtype: int64"
      ]
     },
     "execution_count": 2,
     "metadata": {},
     "output_type": "execute_result"
    }
   ],
   "source": [
    "s = pd.Series([12, - 4, 7 , 9])\n",
    "s"
   ]
  },
  {
   "cell_type": "markdown",
   "metadata": {
    "colab_type": "text",
    "id": "Cone9V9ntp-Q"
   },
   "source": [
    "Serilerde indeks dizisi belirlenmezse, otomatik olarak ilk indeks sıfırdır. Ancak, serimizin indeksini belirlememiz mümkündür:"
   ]
  },
  {
   "cell_type": "code",
   "execution_count": 3,
   "metadata": {
    "colab": {
     "base_uri": "https://localhost:8080/",
     "height": 102
    },
    "colab_type": "code",
    "executionInfo": {
     "elapsed": 4386,
     "status": "ok",
     "timestamp": 1587217412301,
     "user": {
      "displayName": "Can Iban",
      "photoUrl": "",
      "userId": "03730186920594796885"
     },
     "user_tz": -180
    },
    "id": "K7a616Igtp-R",
    "outputId": "b23e41f0-c20b-47f9-9d2a-4206d897399a"
   },
   "outputs": [
    {
     "data": {
      "text/plain": [
       "a    12\n",
       "b    -4\n",
       "c     7\n",
       "d     9\n",
       "dtype: int64"
      ]
     },
     "execution_count": 3,
     "metadata": {},
     "output_type": "execute_result"
    }
   ],
   "source": [
    "s = pd.Series([12, - 4, 7 , 9], index = ['a', 'b', 'c', 'd'])\n",
    "s"
   ]
  },
  {
   "cell_type": "code",
   "execution_count": 4,
   "metadata": {
    "colab": {
     "base_uri": "https://localhost:8080/",
     "height": 34
    },
    "colab_type": "code",
    "executionInfo": {
     "elapsed": 4357,
     "status": "ok",
     "timestamp": 1587217412303,
     "user": {
      "displayName": "Can Iban",
      "photoUrl": "",
      "userId": "03730186920594796885"
     },
     "user_tz": -180
    },
    "id": "yKZIhUS9tp-W",
    "outputId": "1a2f5fa1-3b6c-4502-f06e-68aa3f8207fb"
   },
   "outputs": [
    {
     "data": {
      "text/plain": [
       "array([12, -4,  7,  9], dtype=int64)"
      ]
     },
     "execution_count": 4,
     "metadata": {},
     "output_type": "execute_result"
    }
   ],
   "source": [
    "s.values # .values yöntemi ile serideki değerleri görmemiz mümkündür."
   ]
  },
  {
   "cell_type": "code",
   "execution_count": 5,
   "metadata": {
    "colab": {
     "base_uri": "https://localhost:8080/",
     "height": 34
    },
    "colab_type": "code",
    "executionInfo": {
     "elapsed": 4336,
     "status": "ok",
     "timestamp": 1587217412305,
     "user": {
      "displayName": "Can Iban",
      "photoUrl": "",
      "userId": "03730186920594796885"
     },
     "user_tz": -180
    },
    "id": "5uEJs0y_tp-b",
    "outputId": "af1c4ab6-6557-4d54-f564-2538d4d89038"
   },
   "outputs": [
    {
     "data": {
      "text/plain": [
       "Index(['a', 'b', 'c', 'd'], dtype='object')"
      ]
     },
     "execution_count": 5,
     "metadata": {},
     "output_type": "execute_result"
    }
   ],
   "source": [
    "s.index # .index yöntemi ile serideki indeksleri görmemiz mümkündür"
   ]
  },
  {
   "cell_type": "code",
   "execution_count": 6,
   "metadata": {
    "colab": {
     "base_uri": "https://localhost:8080/",
     "height": 34
    },
    "colab_type": "code",
    "executionInfo": {
     "elapsed": 4314,
     "status": "ok",
     "timestamp": 1587217412306,
     "user": {
      "displayName": "Can Iban",
      "photoUrl": "",
      "userId": "03730186920594796885"
     },
     "user_tz": -180
    },
    "id": "KW71kWImtp-i",
    "outputId": "2d9cf980-3f78-490d-e50e-65a14a26f581"
   },
   "outputs": [
    {
     "data": {
      "text/plain": [
       "7"
      ]
     },
     "execution_count": 6,
     "metadata": {},
     "output_type": "execute_result"
    }
   ],
   "source": [
    "s[2] # Serideki bir değerin indeks olarak sırasını girdiğimizde, değeri elde etmemiz mümkündür."
   ]
  },
  {
   "cell_type": "code",
   "execution_count": 7,
   "metadata": {
    "colab": {
     "base_uri": "https://localhost:8080/",
     "height": 34
    },
    "colab_type": "code",
    "executionInfo": {
     "elapsed": 4292,
     "status": "ok",
     "timestamp": 1587217412307,
     "user": {
      "displayName": "Can Iban",
      "photoUrl": "",
      "userId": "03730186920594796885"
     },
     "user_tz": -180
    },
    "id": "jaGBGhs8tp-o",
    "outputId": "a3ebe97e-10b7-47ab-b971-b7cf30877703"
   },
   "outputs": [
    {
     "data": {
      "text/plain": [
       "-4"
      ]
     },
     "execution_count": 7,
     "metadata": {},
     "output_type": "execute_result"
    }
   ],
   "source": [
    "s['b'] # Serideki bir değere karşılık gelen indeksi kullanarak da değeri elde edebiliriz. "
   ]
  },
  {
   "cell_type": "code",
   "execution_count": 8,
   "metadata": {
    "colab": {
     "base_uri": "https://localhost:8080/",
     "height": 68
    },
    "colab_type": "code",
    "executionInfo": {
     "elapsed": 4271,
     "status": "ok",
     "timestamp": 1587217412309,
     "user": {
      "displayName": "Can Iban",
      "photoUrl": "",
      "userId": "03730186920594796885"
     },
     "user_tz": -180
    },
    "id": "xV8Ucnbotp-t",
    "outputId": "94f8dbc6-2858-4450-ae4c-306b1c797523"
   },
   "outputs": [
    {
     "data": {
      "text/plain": [
       "a    12\n",
       "b    -4\n",
       "dtype: int64"
      ]
     },
     "execution_count": 8,
     "metadata": {},
     "output_type": "execute_result"
    }
   ],
   "source": [
    "s[0:2] # Serinin belirli bir aralıktaki değerlerini de ekrana verebiliriz."
   ]
  },
  {
   "cell_type": "code",
   "execution_count": 9,
   "metadata": {
    "colab": {
     "base_uri": "https://localhost:8080/",
     "height": 102
    },
    "colab_type": "code",
    "executionInfo": {
     "elapsed": 4249,
     "status": "ok",
     "timestamp": 1587217412310,
     "user": {
      "displayName": "Can Iban",
      "photoUrl": "",
      "userId": "03730186920594796885"
     },
     "user_tz": -180
    },
    "id": "fTKXnOootp-0",
    "outputId": "e11249ac-56ff-48cd-c021-4f5b30a679a1"
   },
   "outputs": [
    {
     "data": {
      "text/plain": [
       "a    12\n",
       "b     0\n",
       "c     7\n",
       "d     9\n",
       "dtype: int64"
      ]
     },
     "execution_count": 9,
     "metadata": {},
     "output_type": "execute_result"
    }
   ],
   "source": [
    "s[1] = 0 # Serinin herhangi bir değerine yeni değer de atanabilir.\n",
    "s"
   ]
  },
  {
   "cell_type": "markdown",
   "metadata": {
    "colab_type": "text",
    "id": "X_RvdSGetp-5"
   },
   "source": [
    "Yapılan değişiklikler, yeni bir kopya oluşturmaz. Orijinali değiştirir. Örneğin;"
   ]
  },
  {
   "cell_type": "code",
   "execution_count": 10,
   "metadata": {
    "colab": {
     "base_uri": "https://localhost:8080/",
     "height": 102
    },
    "colab_type": "code",
    "executionInfo": {
     "elapsed": 4227,
     "status": "ok",
     "timestamp": 1587217412311,
     "user": {
      "displayName": "Can Iban",
      "photoUrl": "",
      "userId": "03730186920594796885"
     },
     "user_tz": -180
    },
    "id": "F0Y07fAdtp-5",
    "outputId": "2237365d-a47b-4b4e-d7a0-6a6d252346d9"
   },
   "outputs": [
    {
     "data": {
      "text/plain": [
       "a    12\n",
       "b     0\n",
       "c     7\n",
       "d     9\n",
       "dtype: int64"
      ]
     },
     "execution_count": 10,
     "metadata": {},
     "output_type": "execute_result"
    }
   ],
   "source": [
    "s"
   ]
  },
  {
   "cell_type": "code",
   "execution_count": 11,
   "metadata": {
    "colab": {},
    "colab_type": "code",
    "id": "v0VWhrCatp_A"
   },
   "outputs": [],
   "source": [
    "s['b'] = 1"
   ]
  },
  {
   "cell_type": "code",
   "execution_count": 12,
   "metadata": {
    "colab": {
     "base_uri": "https://localhost:8080/",
     "height": 102
    },
    "colab_type": "code",
    "executionInfo": {
     "elapsed": 4200,
     "status": "ok",
     "timestamp": 1587217412313,
     "user": {
      "displayName": "Can Iban",
      "photoUrl": "",
      "userId": "03730186920594796885"
     },
     "user_tz": -180
    },
    "id": "217mMTjCtp_E",
    "outputId": "382f26ad-a156-423e-ab91-b7bf0ad7ca22"
   },
   "outputs": [
    {
     "data": {
      "text/plain": [
       "a    12\n",
       "b     1\n",
       "c     7\n",
       "d     9\n",
       "dtype: int64"
      ]
     },
     "execution_count": 12,
     "metadata": {},
     "output_type": "execute_result"
    }
   ],
   "source": [
    "s"
   ]
  },
  {
   "cell_type": "code",
   "execution_count": 13,
   "metadata": {
    "colab": {
     "base_uri": "https://localhost:8080/",
     "height": 85
    },
    "colab_type": "code",
    "executionInfo": {
     "elapsed": 4175,
     "status": "ok",
     "timestamp": 1587217412314,
     "user": {
      "displayName": "Can Iban",
      "photoUrl": "",
      "userId": "03730186920594796885"
     },
     "user_tz": -180
    },
    "id": "aAa66G3ftp_J",
    "outputId": "566c9f7b-f8b9-4d39-ab16-1e5fca86c88b"
   },
   "outputs": [
    {
     "data": {
      "text/plain": [
       "a    12\n",
       "c     7\n",
       "d     9\n",
       "dtype: int64"
      ]
     },
     "execution_count": 13,
     "metadata": {},
     "output_type": "execute_result"
    }
   ],
   "source": [
    "s[s>2] # Filtreleme işlemleri NumPy kütüphanesinde olduğu gibi kullanılabilmektedir."
   ]
  },
  {
   "cell_type": "code",
   "execution_count": 14,
   "metadata": {
    "colab": {
     "base_uri": "https://localhost:8080/",
     "height": 102
    },
    "colab_type": "code",
    "executionInfo": {
     "elapsed": 4149,
     "status": "ok",
     "timestamp": 1587217412315,
     "user": {
      "displayName": "Can Iban",
      "photoUrl": "",
      "userId": "03730186920594796885"
     },
     "user_tz": -180
    },
    "id": "NYJolOu-tp_M",
    "outputId": "b8c66be1-8540-479b-a0de-15824fa25ebd"
   },
   "outputs": [
    {
     "data": {
      "text/plain": [
       "a    6.0\n",
       "b    0.5\n",
       "c    3.5\n",
       "d    4.5\n",
       "dtype: float64"
      ]
     },
     "execution_count": 14,
     "metadata": {},
     "output_type": "execute_result"
    }
   ],
   "source": [
    "s/2 # Matematiksel Operatörler NumPy kütüphanesinde olduğu gibi kullanılabilmektedir. "
   ]
  },
  {
   "cell_type": "code",
   "execution_count": 15,
   "metadata": {
    "colab": {
     "base_uri": "https://localhost:8080/",
     "height": 102
    },
    "colab_type": "code",
    "executionInfo": {
     "elapsed": 4127,
     "status": "ok",
     "timestamp": 1587217412316,
     "user": {
      "displayName": "Can Iban",
      "photoUrl": "",
      "userId": "03730186920594796885"
     },
     "user_tz": -180
    },
    "id": "rfoOsJEFtp_Q",
    "outputId": "44df2eab-3d6d-4e3a-f0ad-d3d07353b6f2"
   },
   "outputs": [
    {
     "data": {
      "text/plain": [
       "a    2.484907\n",
       "b    0.000000\n",
       "c    1.945910\n",
       "d    2.197225\n",
       "dtype: float64"
      ]
     },
     "execution_count": 15,
     "metadata": {},
     "output_type": "execute_result"
    }
   ],
   "source": [
    "np.log(s) # NumPy kütüphanesinde diziler üzerinde kullandığımız tüm matematiksel ve trigonometrik operatörler, pandas Serileri için de kullanılır."
   ]
  },
  {
   "cell_type": "markdown",
   "metadata": {
    "colab_type": "text",
    "id": "o1jun_0utp_V"
   },
   "source": [
    "### Duplikasyon "
   ]
  },
  {
   "cell_type": "code",
   "execution_count": 16,
   "metadata": {
    "colab": {},
    "colab_type": "code",
    "id": "SkZfQkn3tp_W"
   },
   "outputs": [],
   "source": [
    "serd = pd.Series([1,0,2,1,2,3])"
   ]
  },
  {
   "cell_type": "code",
   "execution_count": 17,
   "metadata": {
    "colab": {
     "base_uri": "https://localhost:8080/",
     "height": 34
    },
    "colab_type": "code",
    "executionInfo": {
     "elapsed": 4098,
     "status": "ok",
     "timestamp": 1587217412317,
     "user": {
      "displayName": "Can Iban",
      "photoUrl": "",
      "userId": "03730186920594796885"
     },
     "user_tz": -180
    },
    "id": "VGxlwgQCtp_b",
    "outputId": "0d0e86c0-fd43-4e5a-eb14-190a20ee69ca"
   },
   "outputs": [
    {
     "data": {
      "text/plain": [
       "array([1, 0, 2, 3], dtype=int64)"
      ]
     },
     "execution_count": 17,
     "metadata": {},
     "output_type": "execute_result"
    }
   ],
   "source": [
    "serd.unique() # duplikasyonu ayıklar ve tekil değerleri verir."
   ]
  },
  {
   "cell_type": "code",
   "execution_count": 18,
   "metadata": {
    "colab": {
     "base_uri": "https://localhost:8080/",
     "height": 102
    },
    "colab_type": "code",
    "executionInfo": {
     "elapsed": 4071,
     "status": "ok",
     "timestamp": 1587217412318,
     "user": {
      "displayName": "Can Iban",
      "photoUrl": "",
      "userId": "03730186920594796885"
     },
     "user_tz": -180
    },
    "id": "3cHtTwRHtp_g",
    "outputId": "8a27213e-5492-49b4-aef3-23800b71c462"
   },
   "outputs": [
    {
     "data": {
      "text/plain": [
       "1    2\n",
       "2    2\n",
       "0    1\n",
       "3    1\n",
       "dtype: int64"
      ]
     },
     "execution_count": 18,
     "metadata": {},
     "output_type": "execute_result"
    }
   ],
   "source": [
    "serd.value_counts()  # seride, hangi değerden kaç tane bulunduğunu hesaplar."
   ]
  },
  {
   "cell_type": "markdown",
   "metadata": {
    "colab_type": "text",
    "id": "m0pt91A6tp_m"
   },
   "source": [
    "### Null değerler"
   ]
  },
  {
   "cell_type": "code",
   "execution_count": 19,
   "metadata": {
    "colab": {},
    "colab_type": "code",
    "id": "prSgblhitp_n"
   },
   "outputs": [],
   "source": [
    "s2 = pd.Series([5, -3, np.NaN, 14])"
   ]
  },
  {
   "cell_type": "code",
   "execution_count": 20,
   "metadata": {
    "colab": {
     "base_uri": "https://localhost:8080/",
     "height": 102
    },
    "colab_type": "code",
    "executionInfo": {
     "elapsed": 4039,
     "status": "ok",
     "timestamp": 1587217412321,
     "user": {
      "displayName": "Can Iban",
      "photoUrl": "",
      "userId": "03730186920594796885"
     },
     "user_tz": -180
    },
    "id": "H4wehoULtp_r",
    "outputId": "c752dd6d-10f1-4308-a03c-2acecf3b4bbb"
   },
   "outputs": [
    {
     "data": {
      "text/plain": [
       "0    False\n",
       "1    False\n",
       "2     True\n",
       "3    False\n",
       "dtype: bool"
      ]
     },
     "execution_count": 20,
     "metadata": {},
     "output_type": "execute_result"
    }
   ],
   "source": [
    "s2.isnull()   # Null değer var mı?"
   ]
  },
  {
   "cell_type": "code",
   "execution_count": 21,
   "metadata": {
    "colab": {
     "base_uri": "https://localhost:8080/",
     "height": 102
    },
    "colab_type": "code",
    "executionInfo": {
     "elapsed": 4017,
     "status": "ok",
     "timestamp": 1587217412322,
     "user": {
      "displayName": "Can Iban",
      "photoUrl": "",
      "userId": "03730186920594796885"
     },
     "user_tz": -180
    },
    "id": "FS-iY1hHtp_x",
    "outputId": "c286d6a8-c51f-4415-9e43-c5022970676b"
   },
   "outputs": [
    {
     "data": {
      "text/plain": [
       "0     True\n",
       "1     True\n",
       "2    False\n",
       "3     True\n",
       "dtype: bool"
      ]
     },
     "execution_count": 21,
     "metadata": {},
     "output_type": "execute_result"
    }
   ],
   "source": [
    "s2.notnull()   # Null olmayan değer var mı?"
   ]
  },
  {
   "cell_type": "code",
   "execution_count": 22,
   "metadata": {
    "colab": {
     "base_uri": "https://localhost:8080/",
     "height": 85
    },
    "colab_type": "code",
    "executionInfo": {
     "elapsed": 3995,
     "status": "ok",
     "timestamp": 1587217412323,
     "user": {
      "displayName": "Can Iban",
      "photoUrl": "",
      "userId": "03730186920594796885"
     },
     "user_tz": -180
    },
    "id": "_V1inTdTtp_9",
    "outputId": "aa4e5dc2-fbde-4594-ae32-47d50b713a4a"
   },
   "outputs": [
    {
     "data": {
      "text/plain": [
       "0     5.0\n",
       "1    -3.0\n",
       "3    14.0\n",
       "dtype: float64"
      ]
     },
     "execution_count": 22,
     "metadata": {},
     "output_type": "execute_result"
    }
   ],
   "source": [
    "s2[s2.notnull()]   # null olmayan değerleri filtrele."
   ]
  },
  {
   "cell_type": "markdown",
   "metadata": {
    "colab_type": "text",
    "id": "1npF1ZL6tqAI"
   },
   "source": [
    "# 3. Sözlükler (Dictionaries) "
   ]
  },
  {
   "cell_type": "markdown",
   "metadata": {
    "colab_type": "text",
    "id": "hpWvQnD8nDyO"
   },
   "source": [
    "Listeleri hatırlayalım."
   ]
  },
  {
   "cell_type": "code",
   "execution_count": 23,
   "metadata": {
    "colab": {},
    "colab_type": "code",
    "id": "zmUpumubnnQB"
   },
   "outputs": [],
   "source": [
    "nufus = [15.5, 5.6, 4.3]\n",
    "sehir = [\"istanbul\", \"ankara\", \"izmir\"]\n"
   ]
  },
  {
   "cell_type": "markdown",
   "metadata": {
    "colab_type": "text",
    "id": "h82SXfi4oKrS"
   },
   "source": [
    "sehir listesinde verilen sehirlerimizin il nufuslarının nufus listesinde verildiğini görebiliyoruz. Peki bu iki listeyi kullanarak İzmir'in nufusunu sorgulamak istesek, nasıl bir yol izlememiz gerekir?\n"
   ]
  },
  {
   "cell_type": "code",
   "execution_count": 24,
   "metadata": {
    "colab": {
     "base_uri": "https://localhost:8080/",
     "height": 34
    },
    "colab_type": "code",
    "executionInfo": {
     "elapsed": 3970,
     "status": "ok",
     "timestamp": 1587217412325,
     "user": {
      "displayName": "Can Iban",
      "photoUrl": "",
      "userId": "03730186920594796885"
     },
     "user_tz": -180
    },
    "id": "RIK6GpWkoUX-",
    "outputId": "4df6978e-05f9-42e5-8b62-7b54b3f600ca"
   },
   "outputs": [
    {
     "name": "stdout",
     "output_type": "stream",
     "text": [
      "2\n"
     ]
    }
   ],
   "source": [
    "index_izmir = sehir.index(\"izmir\")\n",
    "print(index_izmir)"
   ]
  },
  {
   "cell_type": "code",
   "execution_count": 25,
   "metadata": {
    "colab": {
     "base_uri": "https://localhost:8080/",
     "height": 34
    },
    "colab_type": "code",
    "executionInfo": {
     "elapsed": 3948,
     "status": "ok",
     "timestamp": 1587217412326,
     "user": {
      "displayName": "Can Iban",
      "photoUrl": "",
      "userId": "03730186920594796885"
     },
     "user_tz": -180
    },
    "id": "rL6r2pmdoqZA",
    "outputId": "758c7a88-3501-484b-a476-e6875c025d33"
   },
   "outputs": [
    {
     "data": {
      "text/plain": [
       "4.3"
      ]
     },
     "execution_count": 25,
     "metadata": {},
     "output_type": "execute_result"
    }
   ],
   "source": [
    "nufus[index_izmir]"
   ]
  },
  {
   "cell_type": "markdown",
   "metadata": {
    "colab_type": "text",
    "id": "P-LEipeOoxaQ"
   },
   "source": [
    "Peki bu yolu izlemek, elverişli midir? Büyük veri setlerinde böyle bir çalışma yapmak mümkün mü? Cevap olumsuz olduğu için sözlük kavramından bahsetmek gerekmektedir. Sözlük (dictionary), süslü parantez içine yazılan `{  } ` ve içinde bir verinin bir veya daha fazla veriyle ilişkilendirildiği veri tipidir. Üsteki sehir ve nufus listelerindeki verileri tek bir sözlük içerisinde göstermek istersek;"
   ]
  },
  {
   "cell_type": "code",
   "execution_count": 26,
   "metadata": {
    "colab": {
     "base_uri": "https://localhost:8080/",
     "height": 34
    },
    "colab_type": "code",
    "executionInfo": {
     "elapsed": 3927,
     "status": "ok",
     "timestamp": 1587217412327,
     "user": {
      "displayName": "Can Iban",
      "photoUrl": "",
      "userId": "03730186920594796885"
     },
     "user_tz": -180
    },
    "id": "0Zt1x-kfpxK6",
    "outputId": "d821f5b5-5cdd-4a9a-bf73-f26515b6a859"
   },
   "outputs": [
    {
     "name": "stdout",
     "output_type": "stream",
     "text": [
      "4.3\n"
     ]
    }
   ],
   "source": [
    "uc_buyuk_kent = {\"istanbul\" : 15.5, \"ankara\" : 5.6, \"izmir\" : 4.3 }\n",
    "# Herhangi bir indeks sorgulaması yapmadan, İzmir'in nüfusunu ekrana verelim.\n",
    "print(uc_buyuk_kent[\"izmir\"])"
   ]
  },
  {
   "cell_type": "markdown",
   "metadata": {
    "colab_type": "text",
    "id": "NvE9ksNgqaPF"
   },
   "source": [
    "Başka örneklerle devam edelim. Sözlükler hem seri hem de veri çerçevesi (DataFrame) veri yapısında olabilir. Önce sözlük serilerinden başlayalım."
   ]
  },
  {
   "cell_type": "markdown",
   "metadata": {
    "colab_type": "text",
    "id": "HAwtyjzJqiwT"
   },
   "source": [
    "## 3.1 Sözlük Biçiminde Seriler"
   ]
  },
  {
   "cell_type": "code",
   "execution_count": 27,
   "metadata": {
    "colab": {},
    "colab_type": "code",
    "id": "MVHuB1JstqAJ"
   },
   "outputs": [],
   "source": [
    "sozlugum = { 'kirmizi' : 2000, 'mavi' : 1000, 'sari' : 5000, 'turuncu' : 1000}"
   ]
  },
  {
   "cell_type": "code",
   "execution_count": 28,
   "metadata": {
    "colab": {
     "base_uri": "https://localhost:8080/",
     "height": 119
    },
    "colab_type": "code",
    "executionInfo": {
     "elapsed": 3901,
     "status": "ok",
     "timestamp": 1587217412329,
     "user": {
      "displayName": "Can Iban",
      "photoUrl": "",
      "userId": "03730186920594796885"
     },
     "user_tz": -180
    },
    "id": "avTI-T9ftqAR",
    "outputId": "aa8e70fb-9734-4f41-ac90-3ded7dac25fd"
   },
   "outputs": [
    {
     "name": "stdout",
     "output_type": "stream",
     "text": [
      "kirmizi    2000\n",
      "mavi       1000\n",
      "sari       5000\n",
      "turuncu    1000\n",
      "dtype: int64\n",
      "<class 'pandas.core.series.Series'>\n"
     ]
    }
   ],
   "source": [
    "serim = pd.Series(sozlugum)\n",
    "print(serim)\n",
    "print(type(serim))"
   ]
  },
  {
   "cell_type": "code",
   "execution_count": 29,
   "metadata": {
    "colab": {
     "base_uri": "https://localhost:8080/",
     "height": 136
    },
    "colab_type": "code",
    "executionInfo": {
     "elapsed": 3881,
     "status": "ok",
     "timestamp": 1587217412331,
     "user": {
      "displayName": "Can Iban",
      "photoUrl": "",
      "userId": "03730186920594796885"
     },
     "user_tz": -180
    },
    "id": "n0NryzIutqAV",
    "outputId": "3a3d78fe-dc0e-4429-89b8-c51ff913140e"
   },
   "outputs": [
    {
     "name": "stdout",
     "output_type": "stream",
     "text": [
      "kirmizi    2000.0\n",
      "sari       5000.0\n",
      "turuncu    1000.0\n",
      "mavi       1000.0\n",
      "yesil         NaN\n",
      "dtype: float64\n",
      "<class 'pandas.core.series.Series'>\n"
     ]
    }
   ],
   "source": [
    "# indeks oluşturalım\n",
    "\n",
    "renkler = ['kirmizi', 'sari', 'turuncu', 'mavi', 'yesil']\n",
    "serim = pd.Series(sozlugum, index = renkler)\n",
    "print(serim)\n",
    "print(type(serim))"
   ]
  },
  {
   "cell_type": "markdown",
   "metadata": {
    "colab_type": "text",
    "id": "iINu9Tt0rdqM"
   },
   "source": [
    "Oluşturduğumuz indekste, yesil indeksi için sözlükte bir değer olmadığı için NaN karşılığını göreceğiz."
   ]
  },
  {
   "cell_type": "markdown",
   "metadata": {
    "colab_type": "text",
    "id": "LpKtmGYgtqAd"
   },
   "source": [
    "# 4. Veri Çerçevesi (Data Frame)"
   ]
  },
  {
   "cell_type": "markdown",
   "metadata": {
    "colab_type": "text",
    "id": "HZoOolnjtqAf"
   },
   "source": [
    "Tablo veri yapısıdır. Excel sayfalarına benzer. Sıralı sütunlardan oluşur. Farklı tiplerdeki veri değerlerini (nümerik, string, Boolean vb.) içebilir. Serilerden farkı, iki indeksli olmasıdır. Bunlardan birisi sütun isimleri olan `columns`, diğeri de satır isimleri olan `index`'tir."
   ]
  },
  {
   "cell_type": "code",
   "execution_count": 30,
   "metadata": {
    "colab": {
     "base_uri": "https://localhost:8080/",
     "height": 204
    },
    "colab_type": "code",
    "executionInfo": {
     "elapsed": 3836,
     "status": "ok",
     "timestamp": 1587217412332,
     "user": {
      "displayName": "Can Iban",
      "photoUrl": "",
      "userId": "03730186920594796885"
     },
     "user_tz": -180
    },
    "id": "DXkgL8z2tqAg",
    "outputId": "c2594de3-3ec1-4bf1-d87f-f76694b5c429"
   },
   "outputs": [
    {
     "data": {
      "text/html": [
       "<div>\n",
       "<style scoped>\n",
       "    .dataframe tbody tr th:only-of-type {\n",
       "        vertical-align: middle;\n",
       "    }\n",
       "\n",
       "    .dataframe tbody tr th {\n",
       "        vertical-align: top;\n",
       "    }\n",
       "\n",
       "    .dataframe thead th {\n",
       "        text-align: right;\n",
       "    }\n",
       "</style>\n",
       "<table border=\"1\" class=\"dataframe\">\n",
       "  <thead>\n",
       "    <tr style=\"text-align: right;\">\n",
       "      <th></th>\n",
       "      <th>renk</th>\n",
       "      <th>nesne</th>\n",
       "      <th>fiyat</th>\n",
       "    </tr>\n",
       "  </thead>\n",
       "  <tbody>\n",
       "    <tr>\n",
       "      <th>0</th>\n",
       "      <td>mavi</td>\n",
       "      <td>top</td>\n",
       "      <td>7.2</td>\n",
       "    </tr>\n",
       "    <tr>\n",
       "      <th>1</th>\n",
       "      <td>yesil</td>\n",
       "      <td>kalem</td>\n",
       "      <td>1.0</td>\n",
       "    </tr>\n",
       "    <tr>\n",
       "      <th>2</th>\n",
       "      <td>sari</td>\n",
       "      <td>silgi</td>\n",
       "      <td>0.6</td>\n",
       "    </tr>\n",
       "    <tr>\n",
       "      <th>3</th>\n",
       "      <td>kirmizi</td>\n",
       "      <td>kagit</td>\n",
       "      <td>0.9</td>\n",
       "    </tr>\n",
       "    <tr>\n",
       "      <th>4</th>\n",
       "      <td>beyaz</td>\n",
       "      <td>karton</td>\n",
       "      <td>1.7</td>\n",
       "    </tr>\n",
       "  </tbody>\n",
       "</table>\n",
       "</div>"
      ],
      "text/plain": [
       "      renk   nesne  fiyat\n",
       "0     mavi     top    7.2\n",
       "1    yesil   kalem    1.0\n",
       "2     sari   silgi    0.6\n",
       "3  kirmizi   kagit    0.9\n",
       "4    beyaz  karton    1.7"
      ]
     },
     "execution_count": 30,
     "metadata": {},
     "output_type": "execute_result"
    }
   ],
   "source": [
    "# Veri çerçevesi oluşturma. \n",
    "data = { 'renk' : ['mavi', 'yesil', 'sari', 'kirmizi', 'beyaz'],\n",
    "       'nesne' : ['top', 'kalem', 'silgi', 'kagit', 'karton'],\n",
    "       'fiyat': [7.2, 1.0, 0.6, 0.9, 1.7]}\n",
    "\n",
    "df = pd.DataFrame(data)\n",
    "df"
   ]
  },
  {
   "cell_type": "code",
   "execution_count": 31,
   "metadata": {
    "colab": {
     "base_uri": "https://localhost:8080/",
     "height": 204
    },
    "colab_type": "code",
    "executionInfo": {
     "elapsed": 3808,
     "status": "ok",
     "timestamp": 1587217412333,
     "user": {
      "displayName": "Can Iban",
      "photoUrl": "",
      "userId": "03730186920594796885"
     },
     "user_tz": -180
    },
    "id": "cwO7JArrtqAk",
    "outputId": "993985c0-beed-44bd-c354-aab695d26311"
   },
   "outputs": [
    {
     "data": {
      "text/html": [
       "<div>\n",
       "<style scoped>\n",
       "    .dataframe tbody tr th:only-of-type {\n",
       "        vertical-align: middle;\n",
       "    }\n",
       "\n",
       "    .dataframe tbody tr th {\n",
       "        vertical-align: top;\n",
       "    }\n",
       "\n",
       "    .dataframe thead th {\n",
       "        text-align: right;\n",
       "    }\n",
       "</style>\n",
       "<table border=\"1\" class=\"dataframe\">\n",
       "  <thead>\n",
       "    <tr style=\"text-align: right;\">\n",
       "      <th></th>\n",
       "      <th>nesne</th>\n",
       "      <th>fiyat</th>\n",
       "    </tr>\n",
       "  </thead>\n",
       "  <tbody>\n",
       "    <tr>\n",
       "      <th>0</th>\n",
       "      <td>top</td>\n",
       "      <td>7.2</td>\n",
       "    </tr>\n",
       "    <tr>\n",
       "      <th>1</th>\n",
       "      <td>kalem</td>\n",
       "      <td>1.0</td>\n",
       "    </tr>\n",
       "    <tr>\n",
       "      <th>2</th>\n",
       "      <td>silgi</td>\n",
       "      <td>0.6</td>\n",
       "    </tr>\n",
       "    <tr>\n",
       "      <th>3</th>\n",
       "      <td>kagit</td>\n",
       "      <td>0.9</td>\n",
       "    </tr>\n",
       "    <tr>\n",
       "      <th>4</th>\n",
       "      <td>karton</td>\n",
       "      <td>1.7</td>\n",
       "    </tr>\n",
       "  </tbody>\n",
       "</table>\n",
       "</div>"
      ],
      "text/plain": [
       "    nesne  fiyat\n",
       "0     top    7.2\n",
       "1   kalem    1.0\n",
       "2   silgi    0.6\n",
       "3   kagit    0.9\n",
       "4  karton    1.7"
      ]
     },
     "execution_count": 31,
     "metadata": {},
     "output_type": "execute_result"
    }
   ],
   "source": [
    "df2 = pd.DataFrame(data, columns =  ['nesne', 'fiyat'])  # İstediğimiz sütunu seçelim\n",
    "df2"
   ]
  },
  {
   "cell_type": "code",
   "execution_count": 32,
   "metadata": {
    "colab": {
     "base_uri": "https://localhost:8080/",
     "height": 204
    },
    "colab_type": "code",
    "executionInfo": {
     "elapsed": 3789,
     "status": "ok",
     "timestamp": 1587217412334,
     "user": {
      "displayName": "Can Iban",
      "photoUrl": "",
      "userId": "03730186920594796885"
     },
     "user_tz": -180
    },
    "id": "ZzJ16MtftqAo",
    "outputId": "26a747d5-8315-41e1-ab3a-7e59dae3e530"
   },
   "outputs": [
    {
     "data": {
      "text/html": [
       "<div>\n",
       "<style scoped>\n",
       "    .dataframe tbody tr th:only-of-type {\n",
       "        vertical-align: middle;\n",
       "    }\n",
       "\n",
       "    .dataframe tbody tr th {\n",
       "        vertical-align: top;\n",
       "    }\n",
       "\n",
       "    .dataframe thead th {\n",
       "        text-align: right;\n",
       "    }\n",
       "</style>\n",
       "<table border=\"1\" class=\"dataframe\">\n",
       "  <thead>\n",
       "    <tr style=\"text-align: right;\">\n",
       "      <th></th>\n",
       "      <th>renk</th>\n",
       "      <th>nesne</th>\n",
       "      <th>fiyat</th>\n",
       "    </tr>\n",
       "  </thead>\n",
       "  <tbody>\n",
       "    <tr>\n",
       "      <th>bir</th>\n",
       "      <td>mavi</td>\n",
       "      <td>top</td>\n",
       "      <td>7.2</td>\n",
       "    </tr>\n",
       "    <tr>\n",
       "      <th>iki</th>\n",
       "      <td>yesil</td>\n",
       "      <td>kalem</td>\n",
       "      <td>1.0</td>\n",
       "    </tr>\n",
       "    <tr>\n",
       "      <th>uc</th>\n",
       "      <td>sari</td>\n",
       "      <td>silgi</td>\n",
       "      <td>0.6</td>\n",
       "    </tr>\n",
       "    <tr>\n",
       "      <th>dort</th>\n",
       "      <td>kirmizi</td>\n",
       "      <td>kagit</td>\n",
       "      <td>0.9</td>\n",
       "    </tr>\n",
       "    <tr>\n",
       "      <th>bes</th>\n",
       "      <td>beyaz</td>\n",
       "      <td>karton</td>\n",
       "      <td>1.7</td>\n",
       "    </tr>\n",
       "  </tbody>\n",
       "</table>\n",
       "</div>"
      ],
      "text/plain": [
       "         renk   nesne  fiyat\n",
       "bir      mavi     top    7.2\n",
       "iki     yesil   kalem    1.0\n",
       "uc       sari   silgi    0.6\n",
       "dort  kirmizi   kagit    0.9\n",
       "bes     beyaz  karton    1.7"
      ]
     },
     "execution_count": 32,
     "metadata": {},
     "output_type": "execute_result"
    }
   ],
   "source": [
    "# Kendimiz indeks oluşturalım:\n",
    "\n",
    "df2 = pd.DataFrame(data, index = ['bir', 'iki', 'uc', 'dort', 'bes'])\n",
    "df2 "
   ]
  },
  {
   "cell_type": "code",
   "execution_count": 33,
   "metadata": {
    "colab": {
     "base_uri": "https://localhost:8080/",
     "height": 34
    },
    "colab_type": "code",
    "executionInfo": {
     "elapsed": 3756,
     "status": "ok",
     "timestamp": 1587217412335,
     "user": {
      "displayName": "Can Iban",
      "photoUrl": "",
      "userId": "03730186920594796885"
     },
     "user_tz": -180
    },
    "id": "-i2qEi0vtqAr",
    "outputId": "04387ad7-c0c1-4660-fd63-80d6dff9e3ba"
   },
   "outputs": [
    {
     "data": {
      "text/plain": [
       "Index(['renk', 'nesne', 'fiyat'], dtype='object')"
      ]
     },
     "execution_count": 33,
     "metadata": {},
     "output_type": "execute_result"
    }
   ],
   "source": [
    "df2.columns    #  sütunların isimlerini ekrana verelim"
   ]
  },
  {
   "cell_type": "code",
   "execution_count": 34,
   "metadata": {
    "colab": {
     "base_uri": "https://localhost:8080/",
     "height": 34
    },
    "colab_type": "code",
    "executionInfo": {
     "elapsed": 3731,
     "status": "ok",
     "timestamp": 1587217412337,
     "user": {
      "displayName": "Can Iban",
      "photoUrl": "",
      "userId": "03730186920594796885"
     },
     "user_tz": -180
    },
    "id": "EBHQy30FtqAw",
    "outputId": "7cb5980f-8bf5-43f3-81fc-141f2a44c0d2"
   },
   "outputs": [
    {
     "data": {
      "text/plain": [
       "Index(['bir', 'iki', 'uc', 'dort', 'bes'], dtype='object')"
      ]
     },
     "execution_count": 34,
     "metadata": {},
     "output_type": "execute_result"
    }
   ],
   "source": [
    "df2.index    # indeks isimlerini ekrana verelim."
   ]
  },
  {
   "cell_type": "code",
   "execution_count": 35,
   "metadata": {
    "colab": {
     "base_uri": "https://localhost:8080/",
     "height": 102
    },
    "colab_type": "code",
    "executionInfo": {
     "elapsed": 3710,
     "status": "ok",
     "timestamp": 1587217412339,
     "user": {
      "displayName": "Can Iban",
      "photoUrl": "",
      "userId": "03730186920594796885"
     },
     "user_tz": -180
    },
    "id": "fiPJ6m6OtqA0",
    "outputId": "81ea8201-9757-4b58-f382-3d3fc797d205"
   },
   "outputs": [
    {
     "data": {
      "text/plain": [
       "array([['mavi', 'top', 7.2],\n",
       "       ['yesil', 'kalem', 1.0],\n",
       "       ['sari', 'silgi', 0.6],\n",
       "       ['kirmizi', 'kagit', 0.9],\n",
       "       ['beyaz', 'karton', 1.7]], dtype=object)"
      ]
     },
     "execution_count": 35,
     "metadata": {},
     "output_type": "execute_result"
    }
   ],
   "source": [
    "df2.values   #  tüm değerleri dizi halinde ekrana verelim. "
   ]
  },
  {
   "cell_type": "code",
   "execution_count": 36,
   "metadata": {
    "colab": {
     "base_uri": "https://localhost:8080/",
     "height": 119
    },
    "colab_type": "code",
    "executionInfo": {
     "elapsed": 3688,
     "status": "ok",
     "timestamp": 1587217412340,
     "user": {
      "displayName": "Can Iban",
      "photoUrl": "",
      "userId": "03730186920594796885"
     },
     "user_tz": -180
    },
    "id": "FKJBXUubtqA5",
    "outputId": "3bae78d2-f555-467e-fa5c-2c4e598cd1d3"
   },
   "outputs": [
    {
     "data": {
      "text/plain": [
       "bir     7.2\n",
       "iki     1.0\n",
       "uc      0.6\n",
       "dort    0.9\n",
       "bes     1.7\n",
       "Name: fiyat, dtype: float64"
      ]
     },
     "execution_count": 36,
     "metadata": {},
     "output_type": "execute_result"
    }
   ],
   "source": [
    "df2['fiyat']   # istediğimiz sütunu filtreleyelim"
   ]
  },
  {
   "cell_type": "code",
   "execution_count": 37,
   "metadata": {
    "colab": {
     "base_uri": "https://localhost:8080/",
     "height": 85
    },
    "colab_type": "code",
    "executionInfo": {
     "elapsed": 3658,
     "status": "ok",
     "timestamp": 1587217412341,
     "user": {
      "displayName": "Can Iban",
      "photoUrl": "",
      "userId": "03730186920594796885"
     },
     "user_tz": -180
    },
    "id": "qgIvaVidtqA9",
    "outputId": "fd066b34-fbfb-44fe-fee3-bbaa96f7eb67"
   },
   "outputs": [
    {
     "data": {
      "text/plain": [
       "renk      sari\n",
       "nesne    silgi\n",
       "fiyat      0.6\n",
       "Name: uc, dtype: object"
      ]
     },
     "execution_count": 37,
     "metadata": {},
     "output_type": "execute_result"
    }
   ],
   "source": [
    "df2.iloc[2]    # istediğimiz satırı ekrana verelim"
   ]
  },
  {
   "cell_type": "markdown",
   "metadata": {
    "colab_type": "text",
    "id": "Ujo_1E-cu3Uu"
   },
   "source": [
    "Satır seçimi için `.iloc[]` ve `.loc[]` yöntemleri uygulanır. iloc içine satırın indeks numarası, loc içine de satırın ismi string olarak girilir."
   ]
  },
  {
   "cell_type": "code",
   "execution_count": 38,
   "metadata": {
    "colab": {
     "base_uri": "https://localhost:8080/",
     "height": 111
    },
    "colab_type": "code",
    "executionInfo": {
     "elapsed": 3632,
     "status": "ok",
     "timestamp": 1587217412342,
     "user": {
      "displayName": "Can Iban",
      "photoUrl": "",
      "userId": "03730186920594796885"
     },
     "user_tz": -180
    },
    "id": "9xlvoWH4tqBB",
    "outputId": "e58229bc-fdc0-455e-8566-25f7e849bde0"
   },
   "outputs": [
    {
     "data": {
      "text/html": [
       "<div>\n",
       "<style scoped>\n",
       "    .dataframe tbody tr th:only-of-type {\n",
       "        vertical-align: middle;\n",
       "    }\n",
       "\n",
       "    .dataframe tbody tr th {\n",
       "        vertical-align: top;\n",
       "    }\n",
       "\n",
       "    .dataframe thead th {\n",
       "        text-align: right;\n",
       "    }\n",
       "</style>\n",
       "<table border=\"1\" class=\"dataframe\">\n",
       "  <thead>\n",
       "    <tr style=\"text-align: right;\">\n",
       "      <th></th>\n",
       "      <th>renk</th>\n",
       "      <th>nesne</th>\n",
       "      <th>fiyat</th>\n",
       "    </tr>\n",
       "  </thead>\n",
       "  <tbody>\n",
       "    <tr>\n",
       "      <th>uc</th>\n",
       "      <td>sari</td>\n",
       "      <td>silgi</td>\n",
       "      <td>0.6</td>\n",
       "    </tr>\n",
       "    <tr>\n",
       "      <th>bes</th>\n",
       "      <td>beyaz</td>\n",
       "      <td>karton</td>\n",
       "      <td>1.7</td>\n",
       "    </tr>\n",
       "  </tbody>\n",
       "</table>\n",
       "</div>"
      ],
      "text/plain": [
       "      renk   nesne  fiyat\n",
       "uc    sari   silgi    0.6\n",
       "bes  beyaz  karton    1.7"
      ]
     },
     "execution_count": 38,
     "metadata": {},
     "output_type": "execute_result"
    }
   ],
   "source": [
    "df2.iloc[[2,4]]  # istediğimiz birden fazla sayıdaki satırı ekrana verelim"
   ]
  },
  {
   "cell_type": "code",
   "execution_count": 39,
   "metadata": {
    "colab": {
     "base_uri": "https://localhost:8080/",
     "height": 80
    },
    "colab_type": "code",
    "executionInfo": {
     "elapsed": 3603,
     "status": "ok",
     "timestamp": 1587217412343,
     "user": {
      "displayName": "Can Iban",
      "photoUrl": "",
      "userId": "03730186920594796885"
     },
     "user_tz": -180
    },
    "id": "67vnZw2UtqBF",
    "outputId": "369bc760-e66f-45bf-e342-aa042505f517"
   },
   "outputs": [
    {
     "data": {
      "text/html": [
       "<div>\n",
       "<style scoped>\n",
       "    .dataframe tbody tr th:only-of-type {\n",
       "        vertical-align: middle;\n",
       "    }\n",
       "\n",
       "    .dataframe tbody tr th {\n",
       "        vertical-align: top;\n",
       "    }\n",
       "\n",
       "    .dataframe thead th {\n",
       "        text-align: right;\n",
       "    }\n",
       "</style>\n",
       "<table border=\"1\" class=\"dataframe\">\n",
       "  <thead>\n",
       "    <tr style=\"text-align: right;\">\n",
       "      <th></th>\n",
       "      <th>renk</th>\n",
       "      <th>nesne</th>\n",
       "      <th>fiyat</th>\n",
       "    </tr>\n",
       "  </thead>\n",
       "  <tbody>\n",
       "    <tr>\n",
       "      <th>bir</th>\n",
       "      <td>mavi</td>\n",
       "      <td>top</td>\n",
       "      <td>7.2</td>\n",
       "    </tr>\n",
       "  </tbody>\n",
       "</table>\n",
       "</div>"
      ],
      "text/plain": [
       "     renk nesne  fiyat\n",
       "bir  mavi   top    7.2"
      ]
     },
     "execution_count": 39,
     "metadata": {},
     "output_type": "execute_result"
    }
   ],
   "source": [
    "df2[0:1]   # dilim belirleyerek ekrana verelim."
   ]
  },
  {
   "cell_type": "code",
   "execution_count": 40,
   "metadata": {
    "colab": {
     "base_uri": "https://localhost:8080/",
     "height": 34
    },
    "colab_type": "code",
    "executionInfo": {
     "elapsed": 3574,
     "status": "ok",
     "timestamp": 1587217412344,
     "user": {
      "displayName": "Can Iban",
      "photoUrl": "",
      "userId": "03730186920594796885"
     },
     "user_tz": -180
    },
    "id": "UCiLjQTptqBI",
    "outputId": "149e9bc5-f438-45e5-eb74-4cd2d5c6f14c"
   },
   "outputs": [
    {
     "data": {
      "text/plain": [
       "'kagit'"
      ]
     },
     "execution_count": 40,
     "metadata": {},
     "output_type": "execute_result"
    }
   ],
   "source": [
    "df2['nesne'][3]   # istediğimiz sütundaki, istediğimiz satırı ekrana verelim."
   ]
  },
  {
   "cell_type": "markdown",
   "metadata": {
    "colab_type": "text",
    "id": "aGMIXIZPwHOv"
   },
   "source": [
    "Hem sütunları hem satırları ekrana vermek istediğimizde önce satırı, sonra sütunu gireriz."
   ]
  },
  {
   "cell_type": "code",
   "execution_count": 41,
   "metadata": {
    "colab": {
     "base_uri": "https://localhost:8080/",
     "height": 235
    },
    "colab_type": "code",
    "executionInfo": {
     "elapsed": 3553,
     "status": "ok",
     "timestamp": 1587217412345,
     "user": {
      "displayName": "Can Iban",
      "photoUrl": "",
      "userId": "03730186920594796885"
     },
     "user_tz": -180
    },
    "id": "7szYDQnutqBQ",
    "outputId": "412239b0-9900-4f39-aa83-90bf12981537"
   },
   "outputs": [
    {
     "data": {
      "text/html": [
       "<div>\n",
       "<style scoped>\n",
       "    .dataframe tbody tr th:only-of-type {\n",
       "        vertical-align: middle;\n",
       "    }\n",
       "\n",
       "    .dataframe tbody tr th {\n",
       "        vertical-align: top;\n",
       "    }\n",
       "\n",
       "    .dataframe thead th {\n",
       "        text-align: right;\n",
       "    }\n",
       "</style>\n",
       "<table border=\"1\" class=\"dataframe\">\n",
       "  <thead>\n",
       "    <tr style=\"text-align: right;\">\n",
       "      <th>ÖZELLİK</th>\n",
       "      <th>renk</th>\n",
       "      <th>nesne</th>\n",
       "      <th>fiyat</th>\n",
       "    </tr>\n",
       "    <tr>\n",
       "      <th>SIRA NO</th>\n",
       "      <th></th>\n",
       "      <th></th>\n",
       "      <th></th>\n",
       "    </tr>\n",
       "  </thead>\n",
       "  <tbody>\n",
       "    <tr>\n",
       "      <th>bir</th>\n",
       "      <td>mavi</td>\n",
       "      <td>top</td>\n",
       "      <td>7.2</td>\n",
       "    </tr>\n",
       "    <tr>\n",
       "      <th>iki</th>\n",
       "      <td>yesil</td>\n",
       "      <td>kalem</td>\n",
       "      <td>1.0</td>\n",
       "    </tr>\n",
       "    <tr>\n",
       "      <th>uc</th>\n",
       "      <td>sari</td>\n",
       "      <td>silgi</td>\n",
       "      <td>0.6</td>\n",
       "    </tr>\n",
       "    <tr>\n",
       "      <th>dort</th>\n",
       "      <td>kirmizi</td>\n",
       "      <td>kagit</td>\n",
       "      <td>0.9</td>\n",
       "    </tr>\n",
       "    <tr>\n",
       "      <th>bes</th>\n",
       "      <td>beyaz</td>\n",
       "      <td>karton</td>\n",
       "      <td>1.7</td>\n",
       "    </tr>\n",
       "  </tbody>\n",
       "</table>\n",
       "</div>"
      ],
      "text/plain": [
       "ÖZELLİK     renk   nesne  fiyat\n",
       "SIRA NO                        \n",
       "bir         mavi     top    7.2\n",
       "iki        yesil   kalem    1.0\n",
       "uc          sari   silgi    0.6\n",
       "dort     kirmizi   kagit    0.9\n",
       "bes        beyaz  karton    1.7"
      ]
     },
     "execution_count": 41,
     "metadata": {},
     "output_type": "execute_result"
    }
   ],
   "source": [
    "df2.index.name = 'SIRA NO'   # İndeksler için ortak bir isim belirleyelim. \n",
    "df2.columns.name = 'ÖZELLİK'   # Sütunlar için ortak bir isim belirleyelim. \n",
    "df2"
   ]
  },
  {
   "cell_type": "code",
   "execution_count": 42,
   "metadata": {
    "colab": {
     "base_uri": "https://localhost:8080/",
     "height": 235
    },
    "colab_type": "code",
    "executionInfo": {
     "elapsed": 3521,
     "status": "ok",
     "timestamp": 1587217412346,
     "user": {
      "displayName": "Can Iban",
      "photoUrl": "",
      "userId": "03730186920594796885"
     },
     "user_tz": -180
    },
    "id": "pzc6e6ootqBU",
    "outputId": "907730d0-9a1e-4453-9448-8e6c0693d5aa"
   },
   "outputs": [
    {
     "data": {
      "text/html": [
       "<div>\n",
       "<style scoped>\n",
       "    .dataframe tbody tr th:only-of-type {\n",
       "        vertical-align: middle;\n",
       "    }\n",
       "\n",
       "    .dataframe tbody tr th {\n",
       "        vertical-align: top;\n",
       "    }\n",
       "\n",
       "    .dataframe thead th {\n",
       "        text-align: right;\n",
       "    }\n",
       "</style>\n",
       "<table border=\"1\" class=\"dataframe\">\n",
       "  <thead>\n",
       "    <tr style=\"text-align: right;\">\n",
       "      <th>ÖZELLİK</th>\n",
       "      <th>renk</th>\n",
       "      <th>nesne</th>\n",
       "      <th>fiyat</th>\n",
       "      <th>satış yeri</th>\n",
       "    </tr>\n",
       "    <tr>\n",
       "      <th>SIRA NO</th>\n",
       "      <th></th>\n",
       "      <th></th>\n",
       "      <th></th>\n",
       "      <th></th>\n",
       "    </tr>\n",
       "  </thead>\n",
       "  <tbody>\n",
       "    <tr>\n",
       "      <th>bir</th>\n",
       "      <td>mavi</td>\n",
       "      <td>top</td>\n",
       "      <td>7.2</td>\n",
       "      <td>Migros</td>\n",
       "    </tr>\n",
       "    <tr>\n",
       "      <th>iki</th>\n",
       "      <td>yesil</td>\n",
       "      <td>kalem</td>\n",
       "      <td>1.0</td>\n",
       "      <td>Migros</td>\n",
       "    </tr>\n",
       "    <tr>\n",
       "      <th>uc</th>\n",
       "      <td>sari</td>\n",
       "      <td>silgi</td>\n",
       "      <td>0.6</td>\n",
       "      <td>Migros</td>\n",
       "    </tr>\n",
       "    <tr>\n",
       "      <th>dort</th>\n",
       "      <td>kirmizi</td>\n",
       "      <td>kagit</td>\n",
       "      <td>0.9</td>\n",
       "      <td>Migros</td>\n",
       "    </tr>\n",
       "    <tr>\n",
       "      <th>bes</th>\n",
       "      <td>beyaz</td>\n",
       "      <td>karton</td>\n",
       "      <td>1.7</td>\n",
       "      <td>Migros</td>\n",
       "    </tr>\n",
       "  </tbody>\n",
       "</table>\n",
       "</div>"
      ],
      "text/plain": [
       "ÖZELLİK     renk   nesne  fiyat satış yeri\n",
       "SIRA NO                                   \n",
       "bir         mavi     top    7.2     Migros\n",
       "iki        yesil   kalem    1.0     Migros\n",
       "uc          sari   silgi    0.6     Migros\n",
       "dort     kirmizi   kagit    0.9     Migros\n",
       "bes        beyaz  karton    1.7     Migros"
      ]
     },
     "execution_count": 42,
     "metadata": {},
     "output_type": "execute_result"
    }
   ],
   "source": [
    "df2['satış yeri'] = 'Migros'   #Tüm satırları Migros stringine sahip yeni bir sütun ekleyelim. Bu sütunun adı 'satış yeri' olsun.\n",
    "df2"
   ]
  },
  {
   "cell_type": "code",
   "execution_count": 43,
   "metadata": {
    "colab": {
     "base_uri": "https://localhost:8080/",
     "height": 235
    },
    "colab_type": "code",
    "executionInfo": {
     "elapsed": 3486,
     "status": "ok",
     "timestamp": 1587217412347,
     "user": {
      "displayName": "Can Iban",
      "photoUrl": "",
      "userId": "03730186920594796885"
     },
     "user_tz": -180
    },
    "id": "mwMjt0T3tqBX",
    "outputId": "8722f9e3-33b5-4d66-914c-27884c8e484e"
   },
   "outputs": [
    {
     "data": {
      "text/html": [
       "<div>\n",
       "<style scoped>\n",
       "    .dataframe tbody tr th:only-of-type {\n",
       "        vertical-align: middle;\n",
       "    }\n",
       "\n",
       "    .dataframe tbody tr th {\n",
       "        vertical-align: top;\n",
       "    }\n",
       "\n",
       "    .dataframe thead th {\n",
       "        text-align: right;\n",
       "    }\n",
       "</style>\n",
       "<table border=\"1\" class=\"dataframe\">\n",
       "  <thead>\n",
       "    <tr style=\"text-align: right;\">\n",
       "      <th>ÖZELLİK</th>\n",
       "      <th>renk</th>\n",
       "      <th>nesne</th>\n",
       "      <th>fiyat</th>\n",
       "      <th>satış yeri</th>\n",
       "    </tr>\n",
       "    <tr>\n",
       "      <th>SIRA NO</th>\n",
       "      <th></th>\n",
       "      <th></th>\n",
       "      <th></th>\n",
       "      <th></th>\n",
       "    </tr>\n",
       "  </thead>\n",
       "  <tbody>\n",
       "    <tr>\n",
       "      <th>bir</th>\n",
       "      <td>mavi</td>\n",
       "      <td>top</td>\n",
       "      <td>7.2</td>\n",
       "      <td>Migros</td>\n",
       "    </tr>\n",
       "    <tr>\n",
       "      <th>iki</th>\n",
       "      <td>yesil</td>\n",
       "      <td>kalem</td>\n",
       "      <td>1.0</td>\n",
       "      <td>Carrefour</td>\n",
       "    </tr>\n",
       "    <tr>\n",
       "      <th>uc</th>\n",
       "      <td>sari</td>\n",
       "      <td>silgi</td>\n",
       "      <td>0.6</td>\n",
       "      <td>BİM</td>\n",
       "    </tr>\n",
       "    <tr>\n",
       "      <th>dort</th>\n",
       "      <td>kirmizi</td>\n",
       "      <td>kagit</td>\n",
       "      <td>0.9</td>\n",
       "      <td>A101</td>\n",
       "    </tr>\n",
       "    <tr>\n",
       "      <th>bes</th>\n",
       "      <td>beyaz</td>\n",
       "      <td>karton</td>\n",
       "      <td>1.7</td>\n",
       "      <td>Pehlivanoğlu</td>\n",
       "    </tr>\n",
       "  </tbody>\n",
       "</table>\n",
       "</div>"
      ],
      "text/plain": [
       "ÖZELLİK     renk   nesne  fiyat    satış yeri\n",
       "SIRA NO                                      \n",
       "bir         mavi     top    7.2        Migros\n",
       "iki        yesil   kalem    1.0     Carrefour\n",
       "uc          sari   silgi    0.6           BİM\n",
       "dort     kirmizi   kagit    0.9          A101\n",
       "bes        beyaz  karton    1.7  Pehlivanoğlu"
      ]
     },
     "execution_count": 43,
     "metadata": {},
     "output_type": "execute_result"
    }
   ],
   "source": [
    "df2['satış yeri'] = ['Migros', 'Carrefour', 'BİM', 'A101', 'Pehlivanoğlu']  # Her ürün farklı marketlerde satılsın. \n",
    "df2"
   ]
  },
  {
   "cell_type": "code",
   "execution_count": 44,
   "metadata": {
    "colab": {
     "base_uri": "https://localhost:8080/",
     "height": 320
    },
    "colab_type": "code",
    "executionInfo": {
     "elapsed": 3459,
     "status": "ok",
     "timestamp": 1587217412348,
     "user": {
      "displayName": "Can Iban",
      "photoUrl": "",
      "userId": "03730186920594796885"
     },
     "user_tz": -180
    },
    "id": "ZJEWxhCztqBb",
    "outputId": "1ecf1888-deee-4e21-c6f3-60ef2dd4db38"
   },
   "outputs": [
    {
     "name": "stderr",
     "output_type": "stream",
     "text": [
      "C:\\Users\\LENOVO\\AppData\\Local\\Temp/ipykernel_908/3222995872.py:1: SettingWithCopyWarning: \n",
      "A value is trying to be set on a copy of a slice from a DataFrame\n",
      "\n",
      "See the caveats in the documentation: https://pandas.pydata.org/pandas-docs/stable/user_guide/indexing.html#returning-a-view-versus-a-copy\n",
      "  df2['satış yeri']['bes'] = 'Kipa'   # Beşinci sıradaki beyaz karton, Pehlivanoğlu yerine Kipa'da satılsın. Değiştirelim.\n"
     ]
    },
    {
     "data": {
      "text/html": [
       "<div>\n",
       "<style scoped>\n",
       "    .dataframe tbody tr th:only-of-type {\n",
       "        vertical-align: middle;\n",
       "    }\n",
       "\n",
       "    .dataframe tbody tr th {\n",
       "        vertical-align: top;\n",
       "    }\n",
       "\n",
       "    .dataframe thead th {\n",
       "        text-align: right;\n",
       "    }\n",
       "</style>\n",
       "<table border=\"1\" class=\"dataframe\">\n",
       "  <thead>\n",
       "    <tr style=\"text-align: right;\">\n",
       "      <th>ÖZELLİK</th>\n",
       "      <th>renk</th>\n",
       "      <th>nesne</th>\n",
       "      <th>fiyat</th>\n",
       "      <th>satış yeri</th>\n",
       "    </tr>\n",
       "    <tr>\n",
       "      <th>SIRA NO</th>\n",
       "      <th></th>\n",
       "      <th></th>\n",
       "      <th></th>\n",
       "      <th></th>\n",
       "    </tr>\n",
       "  </thead>\n",
       "  <tbody>\n",
       "    <tr>\n",
       "      <th>bir</th>\n",
       "      <td>mavi</td>\n",
       "      <td>top</td>\n",
       "      <td>7.2</td>\n",
       "      <td>Migros</td>\n",
       "    </tr>\n",
       "    <tr>\n",
       "      <th>iki</th>\n",
       "      <td>yesil</td>\n",
       "      <td>kalem</td>\n",
       "      <td>1.0</td>\n",
       "      <td>Carrefour</td>\n",
       "    </tr>\n",
       "    <tr>\n",
       "      <th>uc</th>\n",
       "      <td>sari</td>\n",
       "      <td>silgi</td>\n",
       "      <td>0.6</td>\n",
       "      <td>BİM</td>\n",
       "    </tr>\n",
       "    <tr>\n",
       "      <th>dort</th>\n",
       "      <td>kirmizi</td>\n",
       "      <td>kagit</td>\n",
       "      <td>0.9</td>\n",
       "      <td>A101</td>\n",
       "    </tr>\n",
       "    <tr>\n",
       "      <th>bes</th>\n",
       "      <td>beyaz</td>\n",
       "      <td>karton</td>\n",
       "      <td>1.7</td>\n",
       "      <td>Kipa</td>\n",
       "    </tr>\n",
       "  </tbody>\n",
       "</table>\n",
       "</div>"
      ],
      "text/plain": [
       "ÖZELLİK     renk   nesne  fiyat satış yeri\n",
       "SIRA NO                                   \n",
       "bir         mavi     top    7.2     Migros\n",
       "iki        yesil   kalem    1.0  Carrefour\n",
       "uc          sari   silgi    0.6        BİM\n",
       "dort     kirmizi   kagit    0.9       A101\n",
       "bes        beyaz  karton    1.7       Kipa"
      ]
     },
     "execution_count": 44,
     "metadata": {},
     "output_type": "execute_result"
    }
   ],
   "source": [
    "df2['satış yeri']['bes'] = 'Kipa'   # Beşinci sıradaki beyaz karton, Pehlivanoğlu yerine Kipa'da satılsın. Değiştirelim.\n",
    "df2"
   ]
  },
  {
   "cell_type": "code",
   "execution_count": 45,
   "metadata": {
    "colab": {
     "base_uri": "https://localhost:8080/",
     "height": 235
    },
    "colab_type": "code",
    "executionInfo": {
     "elapsed": 3433,
     "status": "ok",
     "timestamp": 1587217412350,
     "user": {
      "displayName": "Can Iban",
      "photoUrl": "",
      "userId": "03730186920594796885"
     },
     "user_tz": -180
    },
    "id": "x4Z-rU-DtqBg",
    "outputId": "52b01786-e95d-4f36-c931-d4f93dffd228",
    "scrolled": true
   },
   "outputs": [
    {
     "data": {
      "text/html": [
       "<div>\n",
       "<style scoped>\n",
       "    .dataframe tbody tr th:only-of-type {\n",
       "        vertical-align: middle;\n",
       "    }\n",
       "\n",
       "    .dataframe tbody tr th {\n",
       "        vertical-align: top;\n",
       "    }\n",
       "\n",
       "    .dataframe thead th {\n",
       "        text-align: right;\n",
       "    }\n",
       "</style>\n",
       "<table border=\"1\" class=\"dataframe\">\n",
       "  <thead>\n",
       "    <tr style=\"text-align: right;\">\n",
       "      <th>ÖZELLİK</th>\n",
       "      <th>renk</th>\n",
       "      <th>nesne</th>\n",
       "      <th>fiyat</th>\n",
       "    </tr>\n",
       "    <tr>\n",
       "      <th>SIRA NO</th>\n",
       "      <th></th>\n",
       "      <th></th>\n",
       "      <th></th>\n",
       "    </tr>\n",
       "  </thead>\n",
       "  <tbody>\n",
       "    <tr>\n",
       "      <th>bir</th>\n",
       "      <td>mavi</td>\n",
       "      <td>top</td>\n",
       "      <td>7.2</td>\n",
       "    </tr>\n",
       "    <tr>\n",
       "      <th>iki</th>\n",
       "      <td>yesil</td>\n",
       "      <td>kalem</td>\n",
       "      <td>1.0</td>\n",
       "    </tr>\n",
       "    <tr>\n",
       "      <th>uc</th>\n",
       "      <td>sari</td>\n",
       "      <td>silgi</td>\n",
       "      <td>0.6</td>\n",
       "    </tr>\n",
       "    <tr>\n",
       "      <th>dort</th>\n",
       "      <td>kirmizi</td>\n",
       "      <td>kagit</td>\n",
       "      <td>0.9</td>\n",
       "    </tr>\n",
       "    <tr>\n",
       "      <th>bes</th>\n",
       "      <td>beyaz</td>\n",
       "      <td>karton</td>\n",
       "      <td>1.7</td>\n",
       "    </tr>\n",
       "  </tbody>\n",
       "</table>\n",
       "</div>"
      ],
      "text/plain": [
       "ÖZELLİK     renk   nesne  fiyat\n",
       "SIRA NO                        \n",
       "bir         mavi     top    7.2\n",
       "iki        yesil   kalem    1.0\n",
       "uc          sari   silgi    0.6\n",
       "dort     kirmizi   kagit    0.9\n",
       "bes        beyaz  karton    1.7"
      ]
     },
     "execution_count": 45,
     "metadata": {},
     "output_type": "execute_result"
    }
   ],
   "source": [
    "del df2['satış yeri']  # satış yeri sütunu işimize yaramıyor. Silelim.\n",
    "df2"
   ]
  },
  {
   "cell_type": "markdown",
   "metadata": {
    "colab_type": "text",
    "id": "UGbgQ7YktqBk"
   },
   "source": [
    "Fiyatı 1.2'den küçük olan verileri filtreleyelim. "
   ]
  },
  {
   "cell_type": "code",
   "execution_count": 46,
   "metadata": {
    "colab": {
     "base_uri": "https://localhost:8080/",
     "height": 173
    },
    "colab_type": "code",
    "executionInfo": {
     "elapsed": 3411,
     "status": "ok",
     "timestamp": 1587217412351,
     "user": {
      "displayName": "Can Iban",
      "photoUrl": "",
      "userId": "03730186920594796885"
     },
     "user_tz": -180
    },
    "id": "ZLYXlSfctqBk",
    "outputId": "b6dbe190-e42d-40c8-e963-2375b75f1c8a"
   },
   "outputs": [
    {
     "data": {
      "text/html": [
       "<div>\n",
       "<style scoped>\n",
       "    .dataframe tbody tr th:only-of-type {\n",
       "        vertical-align: middle;\n",
       "    }\n",
       "\n",
       "    .dataframe tbody tr th {\n",
       "        vertical-align: top;\n",
       "    }\n",
       "\n",
       "    .dataframe thead th {\n",
       "        text-align: right;\n",
       "    }\n",
       "</style>\n",
       "<table border=\"1\" class=\"dataframe\">\n",
       "  <thead>\n",
       "    <tr style=\"text-align: right;\">\n",
       "      <th>ÖZELLİK</th>\n",
       "      <th>renk</th>\n",
       "      <th>nesne</th>\n",
       "      <th>fiyat</th>\n",
       "    </tr>\n",
       "    <tr>\n",
       "      <th>SIRA NO</th>\n",
       "      <th></th>\n",
       "      <th></th>\n",
       "      <th></th>\n",
       "    </tr>\n",
       "  </thead>\n",
       "  <tbody>\n",
       "    <tr>\n",
       "      <th>iki</th>\n",
       "      <td>yesil</td>\n",
       "      <td>kalem</td>\n",
       "      <td>1.0</td>\n",
       "    </tr>\n",
       "    <tr>\n",
       "      <th>uc</th>\n",
       "      <td>sari</td>\n",
       "      <td>silgi</td>\n",
       "      <td>0.6</td>\n",
       "    </tr>\n",
       "    <tr>\n",
       "      <th>dort</th>\n",
       "      <td>kirmizi</td>\n",
       "      <td>kagit</td>\n",
       "      <td>0.9</td>\n",
       "    </tr>\n",
       "  </tbody>\n",
       "</table>\n",
       "</div>"
      ],
      "text/plain": [
       "ÖZELLİK     renk  nesne  fiyat\n",
       "SIRA NO                       \n",
       "iki        yesil  kalem    1.0\n",
       "uc          sari  silgi    0.6\n",
       "dort     kirmizi  kagit    0.9"
      ]
     },
     "execution_count": 46,
     "metadata": {},
     "output_type": "execute_result"
    }
   ],
   "source": [
    "df2[df2[\"fiyat\"] < 1.2]   "
   ]
  },
  {
   "cell_type": "markdown",
   "metadata": {
    "colab_type": "text",
    "id": "3gD7DdNqtqBo"
   },
   "source": [
    "## 4.1 İç İçe Geçmiş Sözlükler (Nested Dictionaries)"
   ]
  },
  {
   "cell_type": "code",
   "execution_count": 47,
   "metadata": {
    "colab": {
     "base_uri": "https://localhost:8080/",
     "height": 142
    },
    "colab_type": "code",
    "executionInfo": {
     "elapsed": 3386,
     "status": "ok",
     "timestamp": 1587217412352,
     "user": {
      "displayName": "Can Iban",
      "photoUrl": "",
      "userId": "03730186920594796885"
     },
     "user_tz": -180
    },
    "id": "oASqV_rktqBp",
    "outputId": "e52a3927-4b5e-438f-cd12-53419d9c9ef9"
   },
   "outputs": [
    {
     "data": {
      "text/html": [
       "<div>\n",
       "<style scoped>\n",
       "    .dataframe tbody tr th:only-of-type {\n",
       "        vertical-align: middle;\n",
       "    }\n",
       "\n",
       "    .dataframe tbody tr th {\n",
       "        vertical-align: top;\n",
       "    }\n",
       "\n",
       "    .dataframe thead th {\n",
       "        text-align: right;\n",
       "    }\n",
       "</style>\n",
       "<table border=\"1\" class=\"dataframe\">\n",
       "  <thead>\n",
       "    <tr style=\"text-align: right;\">\n",
       "      <th></th>\n",
       "      <th>opel</th>\n",
       "      <th>mazda</th>\n",
       "      <th>fiat</th>\n",
       "    </tr>\n",
       "  </thead>\n",
       "  <tbody>\n",
       "    <tr>\n",
       "      <th>2012 model</th>\n",
       "      <td>98000.0</td>\n",
       "      <td>87000</td>\n",
       "      <td>67000</td>\n",
       "    </tr>\n",
       "    <tr>\n",
       "      <th>2013 model</th>\n",
       "      <td>101000.0</td>\n",
       "      <td>94000</td>\n",
       "      <td>71000</td>\n",
       "    </tr>\n",
       "    <tr>\n",
       "      <th>2011 model</th>\n",
       "      <td>NaN</td>\n",
       "      <td>84000</td>\n",
       "      <td>62000</td>\n",
       "    </tr>\n",
       "  </tbody>\n",
       "</table>\n",
       "</div>"
      ],
      "text/plain": [
       "                opel  mazda   fiat\n",
       "2012 model   98000.0  87000  67000\n",
       "2013 model  101000.0  94000  71000\n",
       "2011 model       NaN  84000  62000"
      ]
     },
     "execution_count": 47,
     "metadata": {},
     "output_type": "execute_result"
    }
   ],
   "source": [
    "araba_fiyat = {'opel' : {'2012 model': 98000, '2013 model': 101000},\n",
    "              'mazda' : {'2011 model': 84000, '2012 model': 87000, '2013 model': 94000},\n",
    "              'fiat' : {'2011 model': 62000, '2012 model': 67000, '2013 model': 71000}}\n",
    "araba_df = pd.DataFrame(araba_fiyat)\n",
    "araba_df"
   ]
  },
  {
   "cell_type": "markdown",
   "metadata": {
    "colab_type": "text",
    "id": "Oa0Z4dgYtqBs"
   },
   "source": [
    "Transpozunu alalım (Satır ve sütunları yer değiştirelim)"
   ]
  },
  {
   "cell_type": "code",
   "execution_count": 48,
   "metadata": {
    "colab": {
     "base_uri": "https://localhost:8080/",
     "height": 142
    },
    "colab_type": "code",
    "executionInfo": {
     "elapsed": 3353,
     "status": "ok",
     "timestamp": 1587217412353,
     "user": {
      "displayName": "Can Iban",
      "photoUrl": "",
      "userId": "03730186920594796885"
     },
     "user_tz": -180
    },
    "id": "wvckQP1stqBt",
    "outputId": "c08765a7-91e5-4968-a8cd-bf4a3e2de212"
   },
   "outputs": [
    {
     "data": {
      "text/html": [
       "<div>\n",
       "<style scoped>\n",
       "    .dataframe tbody tr th:only-of-type {\n",
       "        vertical-align: middle;\n",
       "    }\n",
       "\n",
       "    .dataframe tbody tr th {\n",
       "        vertical-align: top;\n",
       "    }\n",
       "\n",
       "    .dataframe thead th {\n",
       "        text-align: right;\n",
       "    }\n",
       "</style>\n",
       "<table border=\"1\" class=\"dataframe\">\n",
       "  <thead>\n",
       "    <tr style=\"text-align: right;\">\n",
       "      <th></th>\n",
       "      <th>2012 model</th>\n",
       "      <th>2013 model</th>\n",
       "      <th>2011 model</th>\n",
       "    </tr>\n",
       "  </thead>\n",
       "  <tbody>\n",
       "    <tr>\n",
       "      <th>opel</th>\n",
       "      <td>98000.0</td>\n",
       "      <td>101000.0</td>\n",
       "      <td>NaN</td>\n",
       "    </tr>\n",
       "    <tr>\n",
       "      <th>mazda</th>\n",
       "      <td>87000.0</td>\n",
       "      <td>94000.0</td>\n",
       "      <td>84000.0</td>\n",
       "    </tr>\n",
       "    <tr>\n",
       "      <th>fiat</th>\n",
       "      <td>67000.0</td>\n",
       "      <td>71000.0</td>\n",
       "      <td>62000.0</td>\n",
       "    </tr>\n",
       "  </tbody>\n",
       "</table>\n",
       "</div>"
      ],
      "text/plain": [
       "       2012 model  2013 model  2011 model\n",
       "opel      98000.0    101000.0         NaN\n",
       "mazda     87000.0     94000.0     84000.0\n",
       "fiat      67000.0     71000.0     62000.0"
      ]
     },
     "execution_count": 48,
     "metadata": {},
     "output_type": "execute_result"
    }
   ],
   "source": [
    "araba_df.T"
   ]
  },
  {
   "cell_type": "markdown",
   "metadata": {
    "colab_type": "text",
    "id": "148zD9qJtqBz"
   },
   "source": [
    "## 4.2 Düşürme İşlemleri (Dropping)"
   ]
  },
  {
   "cell_type": "code",
   "execution_count": 49,
   "metadata": {
    "colab": {},
    "colab_type": "code",
    "id": "_2FejF0LtqB0"
   },
   "outputs": [
    {
     "data": {
      "text/plain": [
       "kirmizi    0.0\n",
       "mavi       1.0\n",
       "sari       2.0\n",
       "beyaz      3.0\n",
       "dtype: float64"
      ]
     },
     "execution_count": 49,
     "metadata": {},
     "output_type": "execute_result"
    }
   ],
   "source": [
    "seri = pd.Series(np.arange(4.), index = ['kirmizi', 'mavi', 'sari', 'beyaz'])    \n",
    "seri"
   ]
  },
  {
   "cell_type": "code",
   "execution_count": 50,
   "metadata": {
    "colab": {
     "base_uri": "https://localhost:8080/",
     "height": 85
    },
    "colab_type": "code",
    "executionInfo": {
     "elapsed": 3320,
     "status": "ok",
     "timestamp": 1587217412355,
     "user": {
      "displayName": "Can Iban",
      "photoUrl": "",
      "userId": "03730186920594796885"
     },
     "user_tz": -180
    },
    "id": "52_NZtTqtqB4",
    "outputId": "3f86de99-3545-463e-d379-fc425a81cd50"
   },
   "outputs": [
    {
     "data": {
      "text/plain": [
       "kirmizi    0.0\n",
       "mavi       1.0\n",
       "beyaz      3.0\n",
       "dtype: float64"
      ]
     },
     "execution_count": 50,
     "metadata": {},
     "output_type": "execute_result"
    }
   ],
   "source": [
    "seri.drop('sari')  # Tek satır düşürme işlemi\n"
   ]
  },
  {
   "cell_type": "code",
   "execution_count": 51,
   "metadata": {
    "colab": {
     "base_uri": "https://localhost:8080/",
     "height": 68
    },
    "colab_type": "code",
    "executionInfo": {
     "elapsed": 3299,
     "status": "ok",
     "timestamp": 1587217412356,
     "user": {
      "displayName": "Can Iban",
      "photoUrl": "",
      "userId": "03730186920594796885"
     },
     "user_tz": -180
    },
    "id": "Kq2H1iLKtqB8",
    "outputId": "157addd4-78a5-427c-d7ef-7263cb3847cb"
   },
   "outputs": [
    {
     "data": {
      "text/plain": [
       "kirmizi    0.0\n",
       "sari       2.0\n",
       "dtype: float64"
      ]
     },
     "execution_count": 51,
     "metadata": {},
     "output_type": "execute_result"
    }
   ],
   "source": [
    "seri.drop(['mavi', 'beyaz'])  # Çoklu satır düşürme işlemi"
   ]
  },
  {
   "cell_type": "code",
   "execution_count": 52,
   "metadata": {
    "colab": {
     "base_uri": "https://localhost:8080/",
     "height": 173
    },
    "colab_type": "code",
    "executionInfo": {
     "elapsed": 3272,
     "status": "ok",
     "timestamp": 1587217412357,
     "user": {
      "displayName": "Can Iban",
      "photoUrl": "",
      "userId": "03730186920594796885"
     },
     "user_tz": -180
    },
    "id": "d9524EBatqCE",
    "outputId": "ab941fbd-6515-4c95-ed2b-25a16b58c8d3"
   },
   "outputs": [
    {
     "data": {
      "text/html": [
       "<div>\n",
       "<style scoped>\n",
       "    .dataframe tbody tr th:only-of-type {\n",
       "        vertical-align: middle;\n",
       "    }\n",
       "\n",
       "    .dataframe tbody tr th {\n",
       "        vertical-align: top;\n",
       "    }\n",
       "\n",
       "    .dataframe thead th {\n",
       "        text-align: right;\n",
       "    }\n",
       "</style>\n",
       "<table border=\"1\" class=\"dataframe\">\n",
       "  <thead>\n",
       "    <tr style=\"text-align: right;\">\n",
       "      <th></th>\n",
       "      <th>top</th>\n",
       "      <th>kalem</th>\n",
       "      <th>silgi</th>\n",
       "      <th>kagit</th>\n",
       "    </tr>\n",
       "  </thead>\n",
       "  <tbody>\n",
       "    <tr>\n",
       "      <th>kirmizi</th>\n",
       "      <td>0</td>\n",
       "      <td>1</td>\n",
       "      <td>2</td>\n",
       "      <td>3</td>\n",
       "    </tr>\n",
       "    <tr>\n",
       "      <th>mavi</th>\n",
       "      <td>4</td>\n",
       "      <td>5</td>\n",
       "      <td>6</td>\n",
       "      <td>7</td>\n",
       "    </tr>\n",
       "    <tr>\n",
       "      <th>sari</th>\n",
       "      <td>8</td>\n",
       "      <td>9</td>\n",
       "      <td>10</td>\n",
       "      <td>11</td>\n",
       "    </tr>\n",
       "    <tr>\n",
       "      <th>beyaz</th>\n",
       "      <td>12</td>\n",
       "      <td>13</td>\n",
       "      <td>14</td>\n",
       "      <td>15</td>\n",
       "    </tr>\n",
       "  </tbody>\n",
       "</table>\n",
       "</div>"
      ],
      "text/plain": [
       "         top  kalem  silgi  kagit\n",
       "kirmizi    0      1      2      3\n",
       "mavi       4      5      6      7\n",
       "sari       8      9     10     11\n",
       "beyaz     12     13     14     15"
      ]
     },
     "execution_count": 52,
     "metadata": {},
     "output_type": "execute_result"
    }
   ],
   "source": [
    "cerceve = pd.DataFrame(np.arange(16).reshape(4,4), index = ['kirmizi', 'mavi', 'sari', 'beyaz'],\n",
    "                       columns = ['top', 'kalem', 'silgi', 'kagit'])\n",
    "cerceve"
   ]
  },
  {
   "cell_type": "code",
   "execution_count": 53,
   "metadata": {
    "colab": {
     "base_uri": "https://localhost:8080/",
     "height": 111
    },
    "colab_type": "code",
    "executionInfo": {
     "elapsed": 3249,
     "status": "ok",
     "timestamp": 1587217412358,
     "user": {
      "displayName": "Can Iban",
      "photoUrl": "",
      "userId": "03730186920594796885"
     },
     "user_tz": -180
    },
    "id": "S8GWGJ9GtqCL",
    "outputId": "1ff4656a-011e-4127-b296-7706e5fd187b"
   },
   "outputs": [
    {
     "data": {
      "text/html": [
       "<div>\n",
       "<style scoped>\n",
       "    .dataframe tbody tr th:only-of-type {\n",
       "        vertical-align: middle;\n",
       "    }\n",
       "\n",
       "    .dataframe tbody tr th {\n",
       "        vertical-align: top;\n",
       "    }\n",
       "\n",
       "    .dataframe thead th {\n",
       "        text-align: right;\n",
       "    }\n",
       "</style>\n",
       "<table border=\"1\" class=\"dataframe\">\n",
       "  <thead>\n",
       "    <tr style=\"text-align: right;\">\n",
       "      <th></th>\n",
       "      <th>top</th>\n",
       "      <th>kalem</th>\n",
       "      <th>silgi</th>\n",
       "      <th>kagit</th>\n",
       "    </tr>\n",
       "  </thead>\n",
       "  <tbody>\n",
       "    <tr>\n",
       "      <th>kirmizi</th>\n",
       "      <td>0</td>\n",
       "      <td>1</td>\n",
       "      <td>2</td>\n",
       "      <td>3</td>\n",
       "    </tr>\n",
       "    <tr>\n",
       "      <th>beyaz</th>\n",
       "      <td>12</td>\n",
       "      <td>13</td>\n",
       "      <td>14</td>\n",
       "      <td>15</td>\n",
       "    </tr>\n",
       "  </tbody>\n",
       "</table>\n",
       "</div>"
      ],
      "text/plain": [
       "         top  kalem  silgi  kagit\n",
       "kirmizi    0      1      2      3\n",
       "beyaz     12     13     14     15"
      ]
     },
     "execution_count": 53,
     "metadata": {},
     "output_type": "execute_result"
    }
   ],
   "source": [
    "cerceve.drop(['mavi', 'sari'])  # Satır (indeks) silme işlemi"
   ]
  },
  {
   "cell_type": "code",
   "execution_count": 54,
   "metadata": {
    "colab": {
     "base_uri": "https://localhost:8080/",
     "height": 173
    },
    "colab_type": "code",
    "executionInfo": {
     "elapsed": 3228,
     "status": "ok",
     "timestamp": 1587217412359,
     "user": {
      "displayName": "Can Iban",
      "photoUrl": "",
      "userId": "03730186920594796885"
     },
     "user_tz": -180
    },
    "id": "04Oo0X1VtqCR",
    "outputId": "0e6e6add-2e1f-4510-9245-2ff11dc3b8b1"
   },
   "outputs": [
    {
     "data": {
      "text/html": [
       "<div>\n",
       "<style scoped>\n",
       "    .dataframe tbody tr th:only-of-type {\n",
       "        vertical-align: middle;\n",
       "    }\n",
       "\n",
       "    .dataframe tbody tr th {\n",
       "        vertical-align: top;\n",
       "    }\n",
       "\n",
       "    .dataframe thead th {\n",
       "        text-align: right;\n",
       "    }\n",
       "</style>\n",
       "<table border=\"1\" class=\"dataframe\">\n",
       "  <thead>\n",
       "    <tr style=\"text-align: right;\">\n",
       "      <th></th>\n",
       "      <th>top</th>\n",
       "      <th>kagit</th>\n",
       "    </tr>\n",
       "  </thead>\n",
       "  <tbody>\n",
       "    <tr>\n",
       "      <th>kirmizi</th>\n",
       "      <td>0</td>\n",
       "      <td>3</td>\n",
       "    </tr>\n",
       "    <tr>\n",
       "      <th>mavi</th>\n",
       "      <td>4</td>\n",
       "      <td>7</td>\n",
       "    </tr>\n",
       "    <tr>\n",
       "      <th>sari</th>\n",
       "      <td>8</td>\n",
       "      <td>11</td>\n",
       "    </tr>\n",
       "    <tr>\n",
       "      <th>beyaz</th>\n",
       "      <td>12</td>\n",
       "      <td>15</td>\n",
       "    </tr>\n",
       "  </tbody>\n",
       "</table>\n",
       "</div>"
      ],
      "text/plain": [
       "         top  kagit\n",
       "kirmizi    0      3\n",
       "mavi       4      7\n",
       "sari       8     11\n",
       "beyaz     12     15"
      ]
     },
     "execution_count": 54,
     "metadata": {},
     "output_type": "execute_result"
    }
   ],
   "source": [
    "cerceve.drop(['kalem', 'silgi'], axis = 1)  # Sütun silmek için axis = 1 eklemeliyiz. "
   ]
  }
 ],
 "metadata": {
  "colab": {
   "collapsed_sections": [],
   "name": "unite 07 pandas temelleri.ipynb",
   "provenance": []
  },
  "kernelspec": {
   "display_name": "Python 3",
   "language": "python",
   "name": "python3"
  },
  "language_info": {
   "codemirror_mode": {
    "name": "ipython",
    "version": 3
   },
   "file_extension": ".py",
   "mimetype": "text/x-python",
   "name": "python",
   "nbconvert_exporter": "python",
   "pygments_lexer": "ipython3",
   "version": "3.8.8"
  }
 },
 "nbformat": 4,
 "nbformat_minor": 4
}
