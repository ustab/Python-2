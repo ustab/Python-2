{
 "cells": [
  {
   "cell_type": "code",
   "execution_count": 2,
   "id": "d464918c-c20d-47c3-beb1-ec5f5e2a1d7a",
   "metadata": {},
   "outputs": [
    {
     "data": {
      "text/plain": [
       "list"
      ]
     },
     "execution_count": 2,
     "metadata": {},
     "output_type": "execute_result"
    }
   ],
   "source": [
    "numbers = [1, 3, 7, 4, 3, 0, 3, 6, 3]\n",
    "list"
   ]
  },
  {
   "cell_type": "code",
   "execution_count": 1,
   "id": "83a48c00-491a-49f5-aeb8-45e7534cc635",
   "metadata": {},
   "outputs": [
    {
     "name": "stdout",
     "output_type": "stream",
     "text": [
      "clarusway\n"
     ]
    }
   ],
   "source": [
    "text = \"clarusway\"\n",
    "text.replace(\"c\", \"C\")\n",
    "print(text)\n"
   ]
  },
  {
   "cell_type": "code",
   "execution_count": 5,
   "id": "0f4b2d57-11aa-4644-898b-89219e14a45f",
   "metadata": {},
   "outputs": [
    {
     "name": "stdout",
     "output_type": "stream",
     "text": [
      "Clarusway\n"
     ]
    }
   ],
   "source": [
    "text = \"clarusway\"\n",
    "text =  text.replace(\"c\" , \"C\")\n",
    "print(text)"
   ]
  },
  {
   "cell_type": "code",
   "execution_count": 8,
   "id": "d0a8bdea-f99d-4712-83ab-4afb87dd721c",
   "metadata": {},
   "outputs": [
    {
     "name": "stdout",
     "output_type": "stream",
     "text": [
      "The Better The Family, The Better The Society\n"
     ]
    }
   ],
   "source": [
    "text = 'the better the family, the better the society'\n",
    "text = text.title()\n",
    "print(text)"
   ]
  },
  {
   "cell_type": "code",
   "execution_count": 9,
   "id": "769de4d0-7aab-4e53-9fa0-cdcc3e85e793",
   "metadata": {},
   "outputs": [
    {
     "name": "stdout",
     "output_type": "stream",
     "text": [
      "Sodome and Gomore\n"
     ]
    }
   ],
   "source": [
    "text = 'S0d0me and G0m0re'\n",
    "text = text.replace(\"0\" , \"o\")\n",
    "print(text)"
   ]
  },
  {
   "cell_type": "code",
   "execution_count": 10,
   "id": "7211c7d7-297b-40f1-9ea6-7651da1e09f6",
   "metadata": {},
   "outputs": [
    {
     "name": "stdout",
     "output_type": "stream",
     "text": [
      "\tali veli deli\t\n"
     ]
    }
   ],
   "source": [
    "print(\"\\tali veli deli\\t\")"
   ]
  },
  {
   "cell_type": "code",
   "execution_count": 11,
   "id": "db9cfe93-f02e-4315-a9f9-e800c9800021",
   "metadata": {},
   "outputs": [
    {
     "name": "stdout",
     "output_type": "stream",
     "text": [
      "ali veli deli\n"
     ]
    }
   ],
   "source": [
    "canli_yayin = \"\\tali veli deli\\t\"\n",
    "print(canli_yayin.strip())"
   ]
  },
  {
   "cell_type": "code",
   "execution_count": 12,
   "id": "2bbe29b0-bd28-46a4-aaf9-e0e7d2091808",
   "metadata": {},
   "outputs": [
    {
     "data": {
      "text/plain": [
       "'laruswa'"
      ]
     },
     "execution_count": 12,
     "metadata": {},
     "output_type": "execute_result"
    }
   ],
   "source": [
    "\"clarusway\" .strip(\"cy\")"
   ]
  },
  {
   "cell_type": "code",
   "execution_count": 1,
   "id": "04599f34-4321-412d-81f3-d5fd00b00559",
   "metadata": {},
   "outputs": [
    {
     "name": "stdout",
     "output_type": "stream",
     "text": [
      "YOU CAN LEARN ALMOST EVERYTHING IN PRE-CLASS\n"
     ]
    }
   ],
   "source": [
    "text ='tyou can learn almost everything in pre-classz'\n",
    "text = text.rstrip('z') .lstrip('t').upper()\n",
    "print(text)"
   ]
  },
  {
   "cell_type": "code",
   "execution_count": 2,
   "id": "7df539a9-839e-4098-a879-69f827636ec4",
   "metadata": {},
   "outputs": [
    {
     "name": "stdout",
     "output_type": "stream",
     "text": [
      "-1\n"
     ]
    }
   ],
   "source": [
    "a = 1\n",
    "print(-a)"
   ]
  },
  {
   "cell_type": "code",
   "execution_count": 29,
   "id": "201a49bd-51e1-4615-984f-dc765d48c1cd",
   "metadata": {},
   "outputs": [
    {
     "data": {
      "text/plain": [
       "'3.15, 5.367, 7.3243'"
      ]
     },
     "execution_count": 29,
     "metadata": {},
     "output_type": "execute_result"
    }
   ],
   "source": [
    "text = \"{:.2f}, {:.3f}, {:.4f}\".format(3.1463, 5.367, 7.324324)\n",
    "text"
   ]
  },
  {
   "cell_type": "code",
   "execution_count": 30,
   "id": "b077af1e-42f9-4183-957b-9e98efa4a4bd",
   "metadata": {},
   "outputs": [
    {
     "data": {
      "text/plain": [
       "'a3, 5.b, 7.32'"
      ]
     },
     "execution_count": 30,
     "metadata": {},
     "output_type": "execute_result"
    }
   ],
   "source": [
    "text = \"{:.2s}, {:.3s}, {:.4s}\".format(\"a3.1463\", \"5.b367\", \"7.324324c\")\n",
    "text"
   ]
  },
  {
   "cell_type": "code",
   "execution_count": 31,
   "id": "66c10ba8-0d2f-4915-993e-99ba421d5d2d",
   "metadata": {},
   "outputs": [
    {
     "data": {
      "text/plain": [
       "'      test'"
      ]
     },
     "execution_count": 31,
     "metadata": {},
     "output_type": "execute_result"
    }
   ],
   "source": [
    "text = \"{:>10}\".format(\"test\")\n",
    "text"
   ]
  },
  {
   "cell_type": "code",
   "execution_count": 35,
   "id": "4130e4a1-20ce-4919-8b01-94a3df443e6c",
   "metadata": {},
   "outputs": [
    {
     "data": {
      "text/plain": [
       "'test      '"
      ]
     },
     "execution_count": 35,
     "metadata": {},
     "output_type": "execute_result"
    }
   ],
   "source": [
    "text = \"{:<10}\".format(\"test\")\n",
    "text"
   ]
  },
  {
   "cell_type": "code",
   "execution_count": 38,
   "id": "390b12a8-4d6e-499f-903b-0bb4d9bd804d",
   "metadata": {},
   "outputs": [
    {
     "data": {
      "text/plain": [
       "'formatlama satiri test bu da textin son kismi'"
      ]
     },
     "execution_count": 38,
     "metadata": {},
     "output_type": "execute_result"
    }
   ],
   "source": [
    "text = \"formatlama satiri {:>} bu da textin son kismi\".format(\"test\")\n",
    "text"
   ]
  },
  {
   "cell_type": "code",
   "execution_count": 39,
   "id": "6629c46e-4e47-48d3-98ba-dff079f1e49e",
   "metadata": {},
   "outputs": [
    {
     "data": {
      "text/plain": [
       "'        abc         '"
      ]
     },
     "execution_count": 39,
     "metadata": {},
     "output_type": "execute_result"
    }
   ],
   "source": [
    "text = \"{:^20}\".format(\"abc\")\n",
    "text"
   ]
  },
  {
   "cell_type": "code",
   "execution_count": 40,
   "id": "f6ee2b97-d097-479e-bcdf-e54667273b17",
   "metadata": {},
   "outputs": [
    {
     "data": {
      "text/plain": [
       "'hippo     '"
      ]
     },
     "execution_count": 40,
     "metadata": {},
     "output_type": "execute_result"
    }
   ],
   "source": [
    "\"{:10.5}\".format(\"hippopotamus\")"
   ]
  },
  {
   "cell_type": "code",
   "execution_count": 43,
   "id": "ea0d55a2-12c2-4ca9-971b-89f0eedd89e5",
   "metadata": {},
   "outputs": [
    {
     "data": {
      "text/plain": [
       "'          hippo'"
      ]
     },
     "execution_count": 43,
     "metadata": {},
     "output_type": "execute_result"
    }
   ],
   "source": [
    "\"{:>15.5}\".format(\"hippopotamus\")"
   ]
  },
  {
   "cell_type": "code",
   "execution_count": 44,
   "id": "fd1bc1f2-55c9-4805-b6db-058c9b528bf2",
   "metadata": {},
   "outputs": [
    {
     "data": {
      "text/plain": [
       "'+55'"
      ]
     },
     "execution_count": 44,
     "metadata": {},
     "output_type": "execute_result"
    }
   ],
   "source": [
    "\"{:+}\".format(55)"
   ]
  },
  {
   "cell_type": "code",
   "execution_count": null,
   "id": "b2609d22-6ea4-4db1-be22-77806d71c1e0",
   "metadata": {},
   "outputs": [],
   "source": []
  }
 ],
 "metadata": {
  "kernelspec": {
   "display_name": "Python 3",
   "language": "python",
   "name": "python3"
  },
  "language_info": {
   "codemirror_mode": {
    "name": "ipython",
    "version": 3
   },
   "file_extension": ".py",
   "mimetype": "text/x-python",
   "name": "python",
   "nbconvert_exporter": "python",
   "pygments_lexer": "ipython3",
   "version": "3.8.8"
  }
 },
 "nbformat": 4,
 "nbformat_minor": 5
}
