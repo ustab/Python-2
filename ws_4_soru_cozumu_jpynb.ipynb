{
 "cells": [
  {
   "cell_type": "markdown",
   "metadata": {
    "id": "pEnt2w72USFm"
   },
   "source": [
    "                                Question 1 \n",
    "\n",
    "It takes 21 seconds to wash your hands and help prevent the spread of COVID-19.\n",
    "\n",
    "Create a function that takes the number of times a person washes their hands per day N and the number of months they follow this routine nM and calculates the duration in minutes and seconds that person spends washing their hands.\n",
    "\n",
    "Examples\n",
    "\n",
    "(8, 7) ➞ \"588 minutes and 0 seconds\"\n",
    "\n",
    "\n",
    "(0, 0) ➞ \"0 minutes and 0 seconds\"\n",
    "\n",
    "\n",
    "(7, 9) ➞ \"661 minutes and 30 seconds\"\n",
    "\n",
    "Notes\n",
    "\n",
    "Consider a month has 30 days.\n",
    "\n",
    "Wash your hands."
   ]
  },
  {
   "cell_type": "code",
   "execution_count": 7,
   "metadata": {
    "id": "GP5_heLnUPIY"
   },
   "outputs": [
    {
     "name": "stdin",
     "output_type": "stream",
     "text": [
      " 7 9\n"
     ]
    },
    {
     "name": "stdout",
     "output_type": "stream",
     "text": [
      "661 minutes and 30 seconds\n"
     ]
    }
   ],
   "source": [
    "per_day, months = list(map(int, input(\"\").split()))\n",
    "\n",
    "total_seconds = 21 * per_day * 30 * months\n",
    "minutes = total_seconds // 60\n",
    "seconds = total_seconds % 60\n",
    "\n",
    "print(\"{} minutes and {} seconds\".format(minutes, seconds))"
   ]
  },
  {
   "cell_type": "code",
   "execution_count": 10,
   "metadata": {
    "id": "GP5_heLnUPIY"
   },
   "outputs": [
    {
     "name": "stdin",
     "output_type": "stream",
     "text": [
      " 7 9\n"
     ]
    },
    {
     "name": "stdout",
     "output_type": "stream",
     "text": [
      "661 minutes and 30 seconds\n"
     ]
    }
   ],
   "source": [
    "per_day, months = map(int, input(\"\").split())    # liste yaplmadanda calisiyor. map fonksiyonu ile ilk yazilan gorevi iknci yazilanlara uygular.arry =\n",
    "\n",
    "total_seconds = 21 * per_day * 30 * months\n",
    "minutes = total_seconds // 60\n",
    "seconds = total_seconds % 60\n",
    "\n",
    "print(\"{} minutes and {} seconds\".format(minutes, seconds))"
   ]
  },
  {
   "cell_type": "markdown",
   "metadata": {
    "id": "C4eFtS1CUWbf"
   },
   "source": [
    "                            Question 2\n",
    "                            \n",
    "Write a function that finds the largest even number in a list. Return -1 if not found. The use of built-in functions max() and sorted() are prohibited.\n",
    "\n",
    "Examples\n",
    "\n",
    "[3, 7, 2, 1, 7, 9, 10, 13] ➞ 10\n",
    "\n",
    "[1, 3, 5, 7] ➞ -1\n",
    "\n",
    "[0, 19, 18973623] ➞ 0\n",
    "\n",
    "Notes\n",
    "\n",
    "Consider using the modulo operator % or the bitwise and operator &."
   ]
  },
  {
   "cell_type": "code",
   "execution_count": 15,
   "metadata": {
    "id": "xEoWRC6cUiQs"
   },
   "outputs": [
    {
     "data": {
      "text/plain": [
       "10"
      ]
     },
     "execution_count": 15,
     "metadata": {},
     "output_type": "execute_result"
    }
   ],
   "source": [
    "arry = [3, 7, 2, 1, 7, 9, 10, 13]\n",
    "\n",
    "max_even = -1\n",
    "\n",
    "for i in arry :\n",
    "    if i % 2 == 0 and i > max_even :\n",
    "        max_even = i\n",
    "        \n",
    "max_even"
   ]
  },
  {
   "cell_type": "code",
   "execution_count": 17,
   "metadata": {
    "id": "xEoWRC6cUiQs"
   },
   "outputs": [
    {
     "data": {
      "text/plain": [
       "[]"
      ]
     },
     "execution_count": 17,
     "metadata": {},
     "output_type": "execute_result"
    }
   ],
   "source": [
    "[i for i in arry if i % 2 == 0 and i > max_even]"
   ]
  },
  {
   "cell_type": "code",
   "execution_count": 18,
   "metadata": {
    "id": "xEoWRC6cUiQs"
   },
   "outputs": [
    {
     "name": "stdin",
     "output_type": "stream",
     "text": [
      " 2 3 7 9 6 8\n"
     ]
    },
    {
     "data": {
      "text/plain": [
       "[2, 3, 7, 9, 6, 8]"
      ]
     },
     "execution_count": 18,
     "metadata": {},
     "output_type": "execute_result"
    }
   ],
   "source": [
    "arry = list(map(int, input(\"\").split()))\n",
    "arry"
   ]
  },
  {
   "cell_type": "markdown",
   "metadata": {
    "id": "0jbysvcTUizZ"
   },
   "source": [
    "                              Question 3\n",
    "\n",
    "Create a function that determines whether a number is Oddish or Evenish. A number is Oddish if the sum of all of its digits is odd, and a number is Evenish if the sum of all of its digits is even. If a number is Oddish, return \"Oddish\". Otherwise, return \"Evenish\".\n",
    "\n",
    "\n",
    "For example, (121) should return \"Evenish\", since 1 + 2 + 1 = 4. (41) should return \"Oddish\", since 4 + 1 = 5.\n",
    "\n",
    "Examples\n",
    "\n",
    "(43) ➞ \"Oddish\"\n",
    "\n",
    "4 + 3 = 7\n",
    "\n",
    "7 % 2 = 1\n",
    "\n",
    "\n",
    "(373) ➞ \"Oddish\"\n",
    "\n",
    "3 + 7 + 3 = 13\n",
    "\n",
    "13 % 2 = 1\n",
    "\n",
    "(4433) ➞ \"Evenish\"\n",
    "\n",
    "4 + 4 + 3 + 3 = 14\n",
    "\n",
    "14 % 2 = 0"
   ]
  },
  {
   "cell_type": "code",
   "execution_count": 23,
   "metadata": {
    "id": "98vQKGiMUroG"
   },
   "outputs": [
    {
     "name": "stdin",
     "output_type": "stream",
     "text": [
      "lutfen bir sayi giriniz:  52\n"
     ]
    },
    {
     "name": "stdout",
     "output_type": "stream",
     "text": [
      "Oddish\n"
     ]
    }
   ],
   "source": [
    "num = input(\"lutfen bir sayi giriniz: \")\n",
    "toplam = 0\n",
    "\n",
    "for i in num :\n",
    "    toplam += int(i)\n",
    "\n",
    "# if toplam % 2 :\n",
    "#     print(\"oddish\")\n",
    "# else :\n",
    "#     print(\"evenish\")\n",
    "    \n",
    "print(\"Evenish\" if toplam % 2 == 0 else \"Oddish\")  #print icinde islem yapacaksak yazdiracagimizi if in soluna koyuyoruz"
   ]
  },
  {
   "cell_type": "markdown",
   "metadata": {
    "id": "tQ9nkeSxUsEW"
   },
   "source": [
    "                               Question 4\n",
    "\n",
    "Program to print pyramid a using numbers.(User enter the numbers of rows)\n"
   ]
  },
  {
   "cell_type": "code",
   "execution_count": null,
   "metadata": {
    "id": "fV5a7fk5UwxP"
   },
   "outputs": [],
   "source": [
    "# 1\n",
    "# 2 2\n",
    "# 3 3 3\n",
    "# 4 4 4 4\n",
    "# 5 5 5 5 5"
   ]
  },
  {
   "cell_type": "code",
   "execution_count": 30,
   "metadata": {
    "id": "yABKi6xpUwC-"
   },
   "outputs": [
    {
     "name": "stdin",
     "output_type": "stream",
     "text": [
      "bir sayi giriniz:  5\n"
     ]
    },
    {
     "name": "stdout",
     "output_type": "stream",
     "text": [
      "1 \n",
      "2 2 \n",
      "3 3 3 \n",
      "4 4 4 4 \n",
      "5 5 5 5 5 \n"
     ]
    }
   ],
   "source": [
    "rows = int(input(\"bir sayi giriniz: \"))\n",
    "for i in range(1, rows + 1) :\n",
    "    print(i * (str(i) + \" \"))"
   ]
  },
  {
   "cell_type": "code",
   "execution_count": 29,
   "metadata": {
    "id": "yABKi6xpUwC-"
   },
   "outputs": [],
   "source": [
    "rows = int(input(\"bir sayi giriniz: \"))\n",
    "for i in range(1, rows + 1) :\n",
    "    print(*(i * str(i)))"
   ]
  },
  {
   "cell_type": "code",
   "execution_count": 29,
   "metadata": {
    "id": "yABKi6xpUwC-"
   },
   "outputs": [
    {
     "name": "stdin",
     "output_type": "stream",
     "text": [
      "bir sayi giriniz:  5\n"
     ]
    },
    {
     "name": "stdout",
     "output_type": "stream",
     "text": [
      "1\n",
      "2 2\n",
      "3 3 3\n",
      "4 4 4 4\n",
      "5 5 5 5 5\n"
     ]
    }
   ],
   "source": []
  },
  {
   "cell_type": "markdown",
   "metadata": {
    "id": "58NTScyuUzRN"
   },
   "source": [
    "                              Question 5\n",
    "                              \n",
    "Fruit salads are served best when the fruits are sliced and diced into small chunks!\n",
    "\n",
    "For this challenge, slice each fruit in half and sort the chunks alphabetically. This recipe tastes best when the chunks are joined together to make a string.\n",
    "\n",
    "Worked Example\n",
    "\n",
    "[\"apple\", \"pear\", \"grapes\"] ➞ \"apargrapepesple\"\n",
    "\n",
    "Chunks: [\"ap\", \"ple\", \"pe\", \"ar\", \"gra\", \"pes\"]\n",
    "\n",
    "Sorted chunks: [\"ap\", \"ar\", \"gra\", \"pe\", \"pes\", \"ple\"]\n",
    "\n",
    "Final string: \"apargrapepesple\"\n",
    "\n",
    "Examples\n",
    "\n",
    "[\"apple\", \"pear\", \"grapes\"] ➞ \"apargrapepesple\"\n",
    "\n",
    "[\"raspberries\", \"mango\"] ➞ \"erriesmangoraspb\"\n",
    "\n",
    "[\"banana\"] ➞ \"anaban\"\n",
    "\n",
    "Notes\n",
    "\n",
    "If a fruit has an odd number of letters, make the right side larger than the left.\n",
    "\n",
    "For example: \"apple\" will be sliced into \"ap\" and \"ple\".\n",
    "\n",
    "All fruits will be given in lowercase."
   ]
  },
  {
   "cell_type": "code",
   "execution_count": 4,
   "metadata": {
    "id": "ojlvVUHOU5iC"
   },
   "outputs": [
    {
     "name": "stdout",
     "output_type": "stream",
     "text": [
      "['ap', 'ar', 'gra', 'pe', 'pes', 'ple']\n",
      "['ap', 'ar', 'gra', 'pe', 'pes', 'ple']\n"
     ]
    }
   ],
   "source": [
    "arry = [\"apple\", \"pear\", \"grapes\"]\n",
    "new_arry = []\n",
    "\n",
    "for i in arry :\n",
    "    new_arry.append(i[0:len(i) // 2])        # stringi slice yapiyoruz. 0. harften yariya kadar olan harfi alacak sekilde\n",
    "    new_arry.append(i[len(i) // 2: ])         # stringin yarisindan baslayip sonuna kadar olan harfleri aliyor\n",
    "print(sorted(new_arry))\n",
    "new_arry.sort()\n",
    "print(new_arry)"
   ]
  },
  {
   "cell_type": "code",
   "execution_count": 6,
   "metadata": {
    "id": "ojlvVUHOU5iC"
   },
   "outputs": [
    {
     "name": "stdout",
     "output_type": "stream",
     "text": [
      "apargrapepesple\n",
      "ap-ar-gra-pe-pes-ple\n"
     ]
    }
   ],
   "source": [
    "print(\"\".join(new_arry))\n",
    "print(\"-\".join(new_arry))"
   ]
  },
  {
   "cell_type": "markdown",
   "metadata": {
    "id": "XrcfMShuU5yR"
   },
   "source": [
    "                              Question 6\n",
    "Given a positive integer N, The task is to write a Python program to check if the number is prime or not.\n",
    "\n",
    "Definition:\n",
    "\n",
    "A prime number is a natural number greater than 1 that has no positive divisors other than 1 and itself. \n",
    "\n",
    "The first few prime numbers are {2, 3, 5, 7, 11, ….}."
   ]
  },
  {
   "cell_type": "code",
   "execution_count": 17,
   "metadata": {
    "id": "qsQVVZujVCVa"
   },
   "outputs": [
    {
     "name": "stdin",
     "output_type": "stream",
     "text": [
      "lutfen bir sayi giriniz:  2\n"
     ]
    },
    {
     "name": "stdout",
     "output_type": "stream",
     "text": [
      "bu bir asal sayidir\n"
     ]
    }
   ],
   "source": [
    "num = int(input(\"lutfen bir sayi giriniz: \"))\n",
    "\n",
    "for i in range(2, num) :\n",
    "    if num % i == 0 :\n",
    "        print(\"asal sayi degil\")\n",
    "        break\n",
    "else :\n",
    "    print(\"bu bir asal sayidir\")"
   ]
  },
  {
   "cell_type": "markdown",
   "metadata": {
    "id": "TZsv9lgRVFEU"
   },
   "source": [
    "                                  Question 7\n",
    "Create a function that takes a word and extends all vowels by a number num.\n",
    "\n",
    "Examples\n",
    "\n",
    "\n",
    "\"Hello\", 5 ➞ \"Heeeeeelloooooo\"\n",
    "\n",
    "\"Edabit\", 3 ➞ \"EEEEdaaaabiiiit\"\n",
    "\n",
    "\"Extend\", 0 ➞ \"Extend\""
   ]
  },
  {
   "cell_type": "code",
   "execution_count": 20,
   "metadata": {
    "id": "boeD9OaLVHd7"
   },
   "outputs": [
    {
     "name": "stdin",
     "output_type": "stream",
     "text": [
      "lutfen bir kelime giriniz: hello\n",
      "bir sayi giriniz 2\n"
     ]
    },
    {
     "name": "stdout",
     "output_type": "stream",
     "text": [
      "heeellooo\n"
     ]
    }
   ],
   "source": [
    "text = input(\"lutfen bir kelime giriniz:\")\n",
    "num = int(input(\"bir sayi giriniz\"))\n",
    "vowels = \"aeiouAEIOU\"\n",
    "new_text = \"\"\n",
    "\n",
    "for i in text :\n",
    "    if i in vowels and num > 0 :\n",
    "        new_text += i * (num + 1)\n",
    "    elif i in vowels and nom == 0 :\n",
    "        new_text += i \n",
    "    else :\n",
    "        new_text += i\n",
    "        \n",
    "print(new_text)     \n",
    "               "
   ]
  },
  {
   "cell_type": "code",
   "execution_count": null,
   "metadata": {},
   "outputs": [],
   "source": []
  }
 ],
 "metadata": {
  "colab": {
   "name": "ws_4_soru_cozumu.jpynb",
   "provenance": []
  },
  "kernelspec": {
   "display_name": "Python 3",
   "language": "python",
   "name": "python3"
  },
  "language_info": {
   "codemirror_mode": {
    "name": "ipython",
    "version": 3
   },
   "file_extension": ".py",
   "mimetype": "text/x-python",
   "name": "python",
   "nbconvert_exporter": "python",
   "pygments_lexer": "ipython3",
   "version": "3.8.8"
  }
 },
 "nbformat": 4,
 "nbformat_minor": 4
}
