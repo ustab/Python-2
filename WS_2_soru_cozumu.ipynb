{
 "cells": [
  {
   "cell_type": "markdown",
   "metadata": {
    "id": "QlBsRwyPxMmg"
   },
   "source": [
    "**split()**"
   ]
  },
  {
   "cell_type": "code",
   "execution_count": null,
   "metadata": {
    "id": "gj-K91BAxCe0"
   },
   "outputs": [],
   "source": [
    "text = \"Hello dear friends\""
   ]
  },
  {
   "cell_type": "code",
   "execution_count": null,
   "metadata": {
    "id": "D50mmh7mxV_l"
   },
   "outputs": [],
   "source": [
    "text = \"For testing parameter: Londra, Prag, Canada, Beyrut, Isfahan, Phuket, Tokyo\""
   ]
  },
  {
   "cell_type": "code",
   "execution_count": 5,
   "metadata": {
    "id": "NcjUHWpvxZf0"
   },
   "outputs": [
    {
     "name": "stdout",
     "output_type": "stream",
     "text": [
      "Türkiye\n",
      " Singapur\n",
      " Malezya\n",
      " Lübnan\n",
      " Kanada, Portekiz, Japonya\n"
     ]
    }
   ],
   "source": [
    "countries = \"Türkiye, Singapur, Malezya, Lübnan, Kanada, Portekiz, Japonya\"\n",
    "country = countries.split(\",\", 4)\n",
    "print(*country, sep=\"\\n\")"
   ]
  },
  {
   "cell_type": "code",
   "execution_count": 7,
   "metadata": {
    "id": "8_uj-hFD63pt"
   },
   "outputs": [
    {
     "name": "stdout",
     "output_type": "stream",
     "text": [
      "a\n",
      "h\n",
      "m\n",
      "e\n",
      "t\n",
      "a\n",
      "h\n",
      "m\n",
      "e\n",
      "t\n"
     ]
    }
   ],
   "source": [
    "text = \"ahmetahmet\"\n",
    "print(*text, sep=\"\\n\")"
   ]
  },
  {
   "cell_type": "code",
   "execution_count": 8,
   "metadata": {
    "id": "8_uj-hFD63pt"
   },
   "outputs": [
    {
     "name": "stdout",
     "output_type": "stream",
     "text": [
      "soru\n"
     ]
    }
   ],
   "source": [
    "# cümledeki en kısa kelime nedir ve kaç karakterden oluşuyor.\n",
    "text = \" soru cozumuyle kodlama becerim gelisiyor.\"\n",
    "a = text.split()\n",
    "print(min(a, key=len))"
   ]
  },
  {
   "cell_type": "markdown",
   "metadata": {
    "id": "_8SwX2LFxizj"
   },
   "source": [
    "**map()**"
   ]
  },
  {
   "cell_type": "code",
   "execution_count": 9,
   "metadata": {
    "id": "mEpDElb2xdnK"
   },
   "outputs": [
    {
     "name": "stdout",
     "output_type": "stream",
     "text": [
      "[1.0, 2.0, 3.0, 4.0, 5.0]\n"
     ]
    }
   ],
   "source": [
    "list1 = [1,2,3,4,5]\n",
    "\n",
    "list2 = list(map(float, list1))  c# bir listede her elemana tek tek ulasmak icin map kullanilir\n",
    "print(list2)"
   ]
  },
  {
   "cell_type": "code",
   "execution_count": 12,
   "metadata": {
    "id": "Pqy7GDToxrTw"
   },
   "outputs": [
    {
     "name": "stdout",
     "output_type": "stream",
     "text": [
      "[12.16, 13.6, 8.0, 18.32, 13.2, 6.16, 8.8]\n"
     ]
    }
   ],
   "source": [
    "def discount(x):\n",
    "    return x-((x*20)/100)\n",
    "    \n",
    "price = [15.2, 17, 10, 22.9, 16.5, 7.7, 11]\n",
    "new_price = list(map(discount , price))\n",
    "print(new_price)"
   ]
  },
  {
   "cell_type": "markdown",
   "metadata": {
    "id": "mrkiXchaxxrY"
   },
   "source": [
    "**zip()**\n"
   ]
  },
  {
   "cell_type": "code",
   "execution_count": null,
   "metadata": {
    "id": "tu70MTT5x1UY"
   },
   "outputs": [],
   "source": [
    "list1 = [1,2,3,4,5]\n",
    "list2 = [\"a\",\"b\",\"c\",\"d\",\"e\"]"
   ]
  },
  {
   "cell_type": "code",
   "execution_count": null,
   "metadata": {
    "id": "yTOzZAvJx9_H"
   },
   "outputs": [],
   "source": [
    "list1 = [1,2,3]\n",
    "list2 = [\"a\",\"b\",\"c\",\"d\",\"e\"]"
   ]
  },
  {
   "cell_type": "markdown",
   "metadata": {
    "id": "xF5bxcFhyJ1p"
   },
   "source": [
    "Q-1) Verilen listeden {id:name} olacak şekilde dict oluşturunuz.\n",
    "\n",
    "*   test_list = [\"Ali\", 1, \"Veli\", 2, \"Osman\", 3, \"Ahmet\", 4] \n",
    "*   output : {1: 'Ali', 2: 'Veli', 3: 'Osman', 4: 'Ahmet'}\n",
    "\n"
   ]
  },
  {
   "cell_type": "code",
   "execution_count": null,
   "metadata": {
    "id": "DVaYG2DmyAog"
   },
   "outputs": [],
   "source": []
  },
  {
   "cell_type": "markdown",
   "metadata": {
    "id": "1UPB43Qay35F"
   },
   "source": [
    "Q-2) Kullanıcıdan alınan 5 sayı içerisinden en büyük 2. sayıyı bulan kodu yazınız.\n",
    "\n",
    "*   map() ve split() kullanalım.\n"
   ]
  },
  {
   "cell_type": "code",
   "execution_count": null,
   "metadata": {
    "id": "xc9NPumvzQzi"
   },
   "outputs": [],
   "source": []
  },
  {
   "cell_type": "markdown",
   "metadata": {
    "id": "LvhXFuYBzWZ3"
   },
   "source": [
    "Q-3) Kullanıcıdan alınan değer kadar numbers listesinin elemanlarını sağa kaydıran kodu yazınız.\n",
    "\n",
    "*   numbers = [2,3,5,7,11,44,34] \n",
    "\n",
    "\n"
   ]
  },
  {
   "cell_type": "code",
   "execution_count": null,
   "metadata": {
    "id": "sikUp9lqzkTX"
   },
   "outputs": [],
   "source": []
  },
  {
   "cell_type": "markdown",
   "metadata": {
    "id": "IJQFhpuwzm3n"
   },
   "source": [
    "Q-4) Kullanıcıdan alınan sayının negatif veya pozitif olduğunu bulan kodu yazınız."
   ]
  },
  {
   "cell_type": "code",
   "execution_count": null,
   "metadata": {
    "id": "7cUgc7Qrz5gz"
   },
   "outputs": [],
   "source": []
  },
  {
   "cell_type": "markdown",
   "metadata": {
    "id": "pK8i0pf0z6ir"
   },
   "source": [
    "Q-5) Kullanıcıdan 2 değer ve işlemi alıp sonucunu döndüren basit bir hesap makinesi programı yazınız.\n",
    "\n",
    "*   \"1\" Toplama\n",
    "*   \"2\" Çıkarma\n",
    "*   \"3\" Çarpma\n",
    "*   \"4\" Bölme\n",
    "\n",
    "\n",
    "\n"
   ]
  },
  {
   "cell_type": "code",
   "execution_count": null,
   "metadata": {
    "id": "vCLkwiqr0SXh"
   },
   "outputs": [],
   "source": []
  },
  {
   "cell_type": "markdown",
   "metadata": {
    "id": "FXi2yqRR0T8C"
   },
   "source": [
    "Q-6) E-mail ve parola bilgileri ile giriş kontrolü yapan programı yazınız.\n",
    "\n",
    "\n",
    "*   email = 'D999@clarusway.com'\n",
    "*   pswrd = 'd999'\n",
    "\n"
   ]
  },
  {
   "cell_type": "code",
   "execution_count": null,
   "metadata": {
    "id": "7aGnPRJ40sVD"
   },
   "outputs": [],
   "source": []
  },
  {
   "cell_type": "markdown",
   "metadata": {
    "id": "6-UqVTtw0veT"
   },
   "source": [
    "Q-7) Kullanıcıdan alınan boy ve kilo değerlerine göre beden kitle indeksini hesaplayın ve şu kurallara göre ekrana şu yazıları yazdırın.\n",
    "     \n",
    "     BKİ 18.5'un altındaysa -------> Zayıf\n",
    "     \n",
    "     BKİ 18.5 ile 25 arasındaysa ------> Normal\n",
    "     \n",
    "     BKİ 25 ile 30 arasındaysa --------> Fazla Kilolu\n",
    "     \n",
    "     BKİ 30'un üstündeyse -------------> Obez\n",
    "\n",
    "Not: Beden Kitle İndeksi: Kilo / Boy(m) *  Boy(m)\n"
   ]
  },
  {
   "cell_type": "code",
   "execution_count": null,
   "metadata": {
    "id": "tR3VnGA-1DvQ"
   },
   "outputs": [],
   "source": []
  },
  {
   "cell_type": "markdown",
   "metadata": {
    "id": "LYo_NNEy1Iya"
   },
   "source": [
    "Q-8) Kullanıcıdan alınan 3 sayıdan en büyüğünü bulan kodu yazınız."
   ]
  },
  {
   "cell_type": "code",
   "execution_count": null,
   "metadata": {
    "id": "Sog7RHFx1czS"
   },
   "outputs": [],
   "source": []
  }
 ],
 "metadata": {
  "colab": {
   "collapsed_sections": [],
   "name": "WS-2.ipynb",
   "provenance": []
  },
  "kernelspec": {
   "display_name": "Python 3",
   "language": "python",
   "name": "python3"
  },
  "language_info": {
   "codemirror_mode": {
    "name": "ipython",
    "version": 3
   },
   "file_extension": ".py",
   "mimetype": "text/x-python",
   "name": "python",
   "nbconvert_exporter": "python",
   "pygments_lexer": "ipython3",
   "version": "3.8.8"
  }
 },
 "nbformat": 4,
 "nbformat_minor": 4
}
