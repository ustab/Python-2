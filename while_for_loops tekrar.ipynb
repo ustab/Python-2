{
 "cells": [
  {
   "cell_type": "code",
   "execution_count": null,
   "metadata": {
    "id": "9pn1A0RCSBDM"
   },
   "outputs": [],
   "source": [
    "##############  while and for loops"
   ]
  },
  {
   "cell_type": "code",
   "execution_count": null,
   "metadata": {
    "id": "6g0J5P7qSFB7"
   },
   "outputs": [],
   "source": [
    "# looplar vasitasi ile biz bir kodumuzu yada elimizde bulunan birseyi tekrar ettiririz\n",
    "\n",
    "\n",
    "# while loop ile for loop birbirine benzer seylerdir ancak calisma prensipler farklidir\n",
    "\n",
    "# for loop iterable lar üzerinden gider. Bir iterable verinin elemanlari sayisinca iterate eder\n",
    "# iterable in elemanlari bitince for döngüsünün calismasi da durur\n",
    "\n",
    "# while loop ise condition lar üzerinden gider. Bizim kosulumuz saglandigi sürece while loop \n",
    "# calisir kosulumuz False a döndügünde while loop calismayi durdurur"
   ]
  },
  {
   "cell_type": "code",
   "execution_count": null,
   "metadata": {
    "id": "4pfe9xMVSFDw"
   },
   "outputs": [],
   "source": [
    "## while loop temel yapisi:\n",
    "\n",
    "# while condition: (: colon önemli)\n",
    "#    body   ## 4 space indentation "
   ]
  },
  {
   "cell_type": "code",
   "execution_count": null,
   "metadata": {
    "id": "JNTWZOYDSFGM"
   },
   "outputs": [],
   "source": [
    "# while looplar, condition kismina boolean degerler yada Truthy Falsy degerler alirlar\n",
    "# peki biz condition kismina neler yazabiliriz?\n",
    "\n",
    "while 3 > 2:   ##  Biz durdurmadigimiz sürece sonsuz döngü\n",
    "\n",
    "while True:\n",
    "\n",
    "while None:\n",
    "\n",
    "while False:\n",
    "\n",
    "while {}:\n",
    "\n",
    "while bool(1,2,3,4) + bool(\"A\", \"b\", \"c\"):    # boolean lar tek eleman alabilir. bunda error verir\n",
    "\n",
    "while \"ahmet\":\n",
    "  print(\"ahmet\")\n",
    "  break \n",
    "\n",
    "while \"ali\" and None or 2021:\n",
    "\n",
    "# mesela cay kahve makinesi:\n",
    "\n",
    "while para < 1:\n",
    "  print(\"Lütfen para ilave ediniz\")\n"
   ]
  },
  {
   "cell_type": "code",
   "execution_count": 1,
   "metadata": {},
   "outputs": [
    {
     "name": "stdout",
     "output_type": "stream",
     "text": [
      "2\n"
     ]
    }
   ],
   "source": [
    "print(bool(1) + bool(\"A\"))"
   ]
  },
  {
   "cell_type": "code",
   "execution_count": 2,
   "metadata": {
    "id": "eCbdUOX4SFOi"
   },
   "outputs": [
    {
     "name": "stdout",
     "output_type": "stream",
     "text": [
      "6.0\n",
      "5.5\n",
      "5.0\n",
      "4.5\n",
      "4.0\n",
      "3.5\n",
      "3.0\n",
      "2.5\n",
      "2.0\n",
      "1.5\n",
      "1.0\n",
      "0.5\n",
      "0.0\n"
     ]
    }
   ],
   "source": [
    "condition = 6.5  ##  Attention: Burada 6.5 degilde mesela 6.8 yazarsak\n",
    "                    # sürekli 0.5 azalacagindan sonuc 0 a hic düsmez ve sonsuz döngü olur\n",
    "while condition:\n",
    "  condition -= 0.5\n",
    "  print(condition)"
   ]
  },
  {
   "cell_type": "code",
   "execution_count": 3,
   "metadata": {
    "id": "8xfyMlmQYaWE"
   },
   "outputs": [
    {
     "name": "stdout",
     "output_type": "stream",
     "text": [
      "4\n",
      "3\n",
      "2\n",
      "1\n",
      "0\n"
     ]
    }
   ],
   "source": [
    "# ayni kosulu su sekilde de calistirabilirdik\n",
    "\n",
    "condition = 5   \n",
    "\n",
    "while condition > 0:\n",
    "  condition -= 1\n",
    "  print(condition)\n"
   ]
  },
  {
   "cell_type": "code",
   "execution_count": null,
   "metadata": {
    "id": "vZ0HIwKzfiFe"
   },
   "outputs": [],
   "source": [
    "# Attention: Bizim while döngümüz, kodumuzun herhangi bir bölümünde False a dönmesi \n",
    "# gerekir. Aksi takdirde kodumuz sonsuz döngüye girecektir.\n",
    "\n",
    "# yani bu demek olur ki while döngülerinde, elimizdeki veriyi yani rakamlari harfleri\n",
    "# bir sekilde degistirmemiz lazim. Eger elimizdeki veri hep sabit, yada hep True sonuc verirse\n",
    "# bu durumda sonsuz döngü ile sonuclanir\n",
    "\n",
    "# a += 1  yada a -= 1 gibi degiskenler kullanarak her iteration da \n",
    "# verimizin degistirilebilir\n",
    "\n",
    "# eger kodumuzdan cok emin degil isek o zaman break kelimesini kullanabiliriz\n",
    "\n",
    "condition = 5\n",
    "\n",
    "#while True:     ## mesela burada, condition kismi True, o nedenle condition = 5 gözardi edilir                 \n",
    "  condition -= 1        # ve burada if yapisi olmasa bu hic degismeyecektir\n",
    "  print(condition)\n",
    "  if condition == 0:\n",
    "    break"
   ]
  },
  {
   "cell_type": "code",
   "execution_count": null,
   "metadata": {
    "id": "2Js4Hm8wVWRh"
   },
   "outputs": [],
   "source": []
  },
  {
   "cell_type": "code",
   "execution_count": null,
   "metadata": {
    "id": "-_f3ZQzaVWTt"
   },
   "outputs": [],
   "source": []
  },
  {
   "cell_type": "code",
   "execution_count": null,
   "metadata": {
    "id": "wqhJpopYVWV9"
   },
   "outputs": [],
   "source": []
  },
  {
   "cell_type": "code",
   "execution_count": 8,
   "metadata": {
    "id": "flJ55nVoghxu"
   },
   "outputs": [
    {
     "name": "stdout",
     "output_type": "stream",
     "text": [
      "20\n",
      "condition >= 13\n",
      "condition >= 13\n",
      "condition >= 13\n",
      "condition >= 13\n",
      "condition >= 13\n",
      "condition >= 13\n",
      "condition >= 13\n",
      "condition >= 8\n",
      "condition >= 8\n",
      "condition >= 8\n",
      "condition >= 8\n",
      "condition >= 8\n",
      "7\n",
      "6\n",
      "5\n",
      "4\n",
      "3\n",
      "2\n",
      "1\n"
     ]
    }
   ],
   "source": [
    "# Not: Eger ic ice yani nested while loop lar ile calisiyorsak\n",
    "\n",
    "# ve en icteki loop umuzda break kullaniyorsak o zaman, en icteki looptan\n",
    "\n",
    "# cikar bir üst while loop ise calismaya devam eder\n",
    "\n",
    "condition = 20\n",
    "\n",
    "while condition > 0: \n",
    "  print(condition)\n",
    "  condition -= 1              ## 1 kez burada calisir\n",
    "\n",
    "  while 19 >= condition >= 13:    # 7 kez burada calisti      \n",
    "    print(\"condition >= 13\")\n",
    "    condition -= 1      \n",
    "\n",
    "    while 13 > condition > 7:    ## Burada sayi 8 den büyük oldugu sürece calisacak\n",
    "      print(\"condition >= 8\")    ##    7 e esit olunca icteki while dan cikacak ve distaki loop \n",
    "      condition -= 1             # # calismaya devam edecek\n",
    "      if condition == 7:\n",
    "        break"
   ]
  },
  {
   "cell_type": "code",
   "execution_count": 11,
   "metadata": {
    "id": "B_LKrdTba-yL"
   },
   "outputs": [
    {
     "name": "stdout",
     "output_type": "stream",
     "text": [
      "4\n",
      "4\n",
      "3\n",
      "3\n",
      "2\n",
      "2\n",
      "1\n",
      "1\n",
      "0\n",
      "0\n",
      "0\n"
     ]
    }
   ],
   "source": [
    "# peki print() func iki kez yazarsak nasil bir output aliriz ??\n",
    "\n",
    "condition = 5\n",
    "\n",
    "while condition > 0:\n",
    "    condition -= 1\n",
    "    print(condition)\n",
    "    print(condition)\n",
    "print(condition)    "
   ]
  },
  {
   "cell_type": "code",
   "execution_count": 12,
   "metadata": {
    "id": "BB1c5zTcbFn3"
   },
   "outputs": [
    {
     "name": "stdout",
     "output_type": "stream",
     "text": [
      "0\n"
     ]
    }
   ],
   "source": [
    "# print func while loop disinda yazilirsa output ne olur ??\n",
    "\n",
    "condition = 5\n",
    "\n",
    "while condition > 0:\n",
    "  condition -= 1\n",
    "print(condition)\n",
    "  "
   ]
  },
  {
   "cell_type": "code",
   "execution_count": 13,
   "metadata": {
    "id": "BOtzX6wbbFp9"
   },
   "outputs": [
    {
     "name": "stdout",
     "output_type": "stream",
     "text": [
      "5\n"
     ]
    }
   ],
   "source": [
    "## print while döngüsü üzerine yazilirsa ne sonuc aliriz ??\n",
    "\n",
    "condition = 5\n",
    "print(condition)\n",
    "\n",
    "while condition > 0:\n",
    "  condition -= 1\n",
    "  "
   ]
  },
  {
   "cell_type": "code",
   "execution_count": 18,
   "metadata": {
    "id": "3yw0WRtafBxU"
   },
   "outputs": [
    {
     "ename": "NameError",
     "evalue": "name 'y' is not defined",
     "output_type": "error",
     "traceback": [
      "\u001b[1;31m---------------------------------------------------------------------------\u001b[0m",
      "\u001b[1;31mNameError\u001b[0m                                 Traceback (most recent call last)",
      "\u001b[1;32m<ipython-input-18-ebc2df446fa1>\u001b[0m in \u001b[0;36m<module>\u001b[1;34m\u001b[0m\n\u001b[0;32m      2\u001b[0m \u001b[1;33m\u001b[0m\u001b[0m\n\u001b[0;32m      3\u001b[0m \u001b[1;33m\u001b[0m\u001b[0m\n\u001b[1;32m----> 4\u001b[1;33m \u001b[1;32mwhile\u001b[0m \u001b[0my\u001b[0m \u001b[1;33m>\u001b[0m \u001b[1;36m0\u001b[0m\u001b[1;33m:\u001b[0m\u001b[1;33m\u001b[0m\u001b[1;33m\u001b[0m\u001b[0m\n\u001b[0m\u001b[0;32m      5\u001b[0m     \u001b[0my\u001b[0m \u001b[1;33m=\u001b[0m \u001b[1;36m5\u001b[0m\u001b[1;33m\u001b[0m\u001b[1;33m\u001b[0m\u001b[0m\n\u001b[0;32m      6\u001b[0m     \u001b[0mprint\u001b[0m\u001b[1;33m(\u001b[0m\u001b[0my\u001b[0m\u001b[1;33m)\u001b[0m\u001b[1;33m\u001b[0m\u001b[1;33m\u001b[0m\u001b[0m\n",
      "\u001b[1;31mNameError\u001b[0m: name 'y' is not defined"
     ]
    }
   ],
   "source": [
    "## condition while loop altinda yazilirsa:\n",
    "\n",
    "\n",
    "while y > 0:\n",
    "    y = 5               # y while donusunden once tanimlanmalidir\n",
    "    print(y)\n",
    "    y -= 1"
   ]
  },
  {
   "cell_type": "code",
   "execution_count": 19,
   "metadata": {},
   "outputs": [
    {
     "name": "stdout",
     "output_type": "stream",
     "text": [
      "5\n",
      "4\n",
      "3\n",
      "2\n",
      "1\n"
     ]
    }
   ],
   "source": [
    "y = 5  \n",
    "while y > 0:\n",
    "                 # y while donusunden once tanimlanmalidir\n",
    "    print(y)\n",
    "    y -= 1"
   ]
  },
  {
   "cell_type": "code",
   "execution_count": null,
   "metadata": {
    "id": "RFoQVaJLfXSs"
   },
   "outputs": [],
   "source": []
  },
  {
   "cell_type": "code",
   "execution_count": null,
   "metadata": {
    "id": "B867vnTNfXaV"
   },
   "outputs": [],
   "source": []
  },
  {
   "cell_type": "code",
   "execution_count": 1,
   "metadata": {
    "id": "z5ImU4VPYaYu"
   },
   "outputs": [
    {
     "name": "stdout",
     "output_type": "stream",
     "text": [
      "4\n",
      "3\n",
      "2\n",
      "1\n",
      "0\n"
     ]
    }
   ],
   "source": [
    "# buradaki while loop'un calisma prensibini manuel olarak kendimiz yapalim:\n",
    "condition = 5\n",
    "\n",
    "while condition > 0:\n",
    "    condition -= 1\n",
    "    print(condition)\n",
    "  \n",
    "#condition = 4\n",
    "#print(condition)   ## bu artik yeni degisken olarak düsünelim. yeni degiskenimiz artik 4 print(condition)\n",
    "\n",
    "#condition = 3           ## yeni degisken burada 3 oldu\n",
    "#print(condition)\n",
    "\n",
    "#condition = 2        \n",
    "#print(condition)      \n",
    "                      \n",
    "#condition = 1\n",
    "#print(condition)\n",
    "#\n",
    "#condition = 0\n",
    "#print(condition)   # ama dikkat 0 basildi. cünkü bu islem yapilirken degiskenimiz 1 yani truthy"
   ]
  },
  {
   "cell_type": "code",
   "execution_count": null,
   "metadata": {
    "id": "Y8qiPnnHZweg"
   },
   "outputs": [],
   "source": [
    "## while calisma prensip:\n",
    "\n",
    "while statement  ==>> condition ==>> False ise döngüden cikar bir sonraki condition a gider\n",
    "                                ==>> True ise loop u calistirir"
   ]
  },
  {
   "cell_type": "code",
   "execution_count": 2,
   "metadata": {
    "id": "UUQ7rvAOZwlx"
   },
   "outputs": [
    {
     "name": "stdout",
     "output_type": "stream",
     "text": [
      "0\n",
      "1\n",
      "2\n",
      "3\n",
      "4\n",
      "5\n",
      "simdi sayi 6 ya esit veya daha büyük\n"
     ]
    }
   ],
   "source": [
    "number = 0\n",
    "\n",
    "while number < 6:  ## numara 6 dan kücük oldugu sürece bu kod calissin\n",
    "  print(number)    ## bu örnekte number += 1 print' in altinda.alt hücrede ise farkli\n",
    "  number += 1    ## bu satira gelince artik yani number degiskeni 0 degil  1 olur\n",
    "                  ## ve tekrar kontrol eder. 1 < 6 midir. evet kücüktür ve tekrar calisir\n",
    "                  # bu siralama ta ki 6 < 6 yi görene kadar devam eder. \n",
    "                  # ve döngümüz bittikten sonra kod blokumuz devam ediyor. \n",
    "                  # cünkü print while disinda\n",
    "print(\"simdi sayi 6 ya esit veya daha büyük\")"
   ]
  },
  {
   "cell_type": "code",
   "execution_count": 3,
   "metadata": {
    "id": "9HWeWy-0ZwoT"
   },
   "outputs": [
    {
     "name": "stdout",
     "output_type": "stream",
     "text": [
      "1\n",
      "2\n",
      "3\n",
      "4\n",
      "5\n",
      "6\n"
     ]
    }
   ],
   "source": [
    "number = 0\n",
    "\n",
    "while number < 6: \n",
    "  number += 1\n",
    "  print(number)    \n",
    "\n",
    "## Dikkat edersek burada print etmeden önce number degiskenine 1 ekliyoruz.\n",
    "# python yukaridan asagi calistigi icin üstteki hücrede 0 dan baslamistik\n",
    "# simdi ise 1 den basladik.\n",
    "\n",
    "# Burada önemli husus sudur. Döngümüzün kac iteration yaptigi ?\n",
    "# kactan baslarsak baslayalim loop umuz 6 iteration yapar"
   ]
  },
  {
   "cell_type": "code",
   "execution_count": 4,
   "metadata": {
    "id": "3BZW-aW-Zwqw"
   },
   "outputs": [
    {
     "name": "stdout",
     "output_type": "stream",
     "text": [
      "1'in karesi = 1\n",
      "2'in karesi = 4\n",
      "3'in karesi = 9\n",
      "4'in karesi = 16\n",
      "5'in karesi = 25\n"
     ]
    }
   ],
   "source": [
    "# while döngüleri condition lar ile calisir demistik ama\n",
    "# bu condition'i, for döngüsünde kullandigimiz  bir iterable\n",
    "# vasitasi ile de saglayabiliriz \n",
    "\n",
    "liste = [\"a\", \"b\", \"c\", \"d\", \"e\"]\n",
    "a = 0\n",
    "\n",
    "while a < len(liste):      \n",
    "  a += 1\n",
    "  print(\"{}'in karesi = {}\" .format(a, a ** 2))"
   ]
  },
  {
   "cell_type": "code",
   "execution_count": 6,
   "metadata": {
    "id": "a7qhHAJ4gPCa"
   },
   "outputs": [
    {
     "name": "stdin",
     "output_type": "stream",
     "text": [
      "yasinizi giriniz:  30.2\n"
     ]
    },
    {
     "name": "stdout",
     "output_type": "stream",
     "text": [
      "Yanlis formatta girdiniz\n"
     ]
    },
    {
     "name": "stdin",
     "output_type": "stream",
     "text": [
      "Lütfen yasinizi dogru formatta giriniz:  AS\n"
     ]
    },
    {
     "name": "stdout",
     "output_type": "stream",
     "text": [
      "Yanlis formatta girdiniz\n"
     ]
    },
    {
     "name": "stdin",
     "output_type": "stream",
     "text": [
      "Lütfen yasinizi dogru formatta giriniz:  50\n"
     ]
    },
    {
     "name": "stdout",
     "output_type": "stream",
     "text": [
      "Tesekkür ederiz. Yasiniz:  50\n"
     ]
    }
   ],
   "source": [
    "yas = input(\"yasinizi giriniz: \")\n",
    "\n",
    "while not yas.isdigit():            ## isdigit \n",
    "    print(\"Yanlis formatta girdiniz\")\n",
    "    yas = input(\"Lütfen yasinizi dogru formatta giriniz: \")\n",
    "\n",
    "print(\"Tesekkür ederiz. Yasiniz: \", yas)\n",
    "\n",
    "# Not: Neden print() func'i while döngüsü disina yazdik?\n",
    "# Cünkü, eger kullanici yasini dogru formatta girerse kodumuz hic while döngüsü \n",
    "# icerisine girmeden dogrudan print satirina atlayacaktir.\n",
    "\n",
    "# Eger biz print func'i while döngüsü icinde yazarsak o zaman\n",
    "# kullanici ilk girme hakkinda dogru format girdiginde kodumuz while döngüsü\n",
    "# icine girmez ama while döngüsü disinda da bir islem olmadigindan\n",
    "# biz bu durumda hicbir cikti alamayiz."
   ]
  },
  {
   "cell_type": "code",
   "execution_count": 2,
   "metadata": {},
   "outputs": [
    {
     "name": "stdout",
     "output_type": "stream",
     "text": [
      "True\n"
     ]
    }
   ],
   "source": [
    "a = \"5\".isdigit()\n",
    "\n",
    "print(a)"
   ]
  },
  {
   "cell_type": "code",
   "execution_count": null,
   "metadata": {
    "id": "DYhtrUi-DE9U"
   },
   "outputs": [],
   "source": [
    "# Not: yukaridaki kod da isdigit() zaten kendisi True ve False gibi boolean \n",
    "# degerler döndürdügü icin o nedenle tekrar bir daha == True yada\n",
    "# == False demeye ihtiyac duymuyoruz"
   ]
  },
  {
   "cell_type": "code",
   "execution_count": 55,
   "metadata": {
    "id": "kj8PqP_3_GAI"
   },
   "outputs": [
    {
     "name": "stdout",
     "output_type": "stream",
     "text": [
      "True\n",
      "False\n",
      "False\n",
      "False\n",
      "False\n",
      "False\n"
     ]
    }
   ],
   "source": [
    "## isdigit() calisma prensibi\n",
    "\n",
    "# isdigit() gibi methodlar string methodlaridir. Bu nedenle integer yada\n",
    "# diger veri tipleri ile kullanamayiz\n",
    "\n",
    "a = \"55\".isdigit()\n",
    "print(a)\n",
    "\n",
    "b = \"55.0\".isdigit()\n",
    "print(b)\n",
    "\n",
    "c = \"abc\".isdigit()\n",
    "print(c)\n",
    "\n",
    "d = \"-55\".isdigit()\n",
    "print(d)\n",
    "\n",
    "e = \"+\".isdigit()\n",
    "print(e)\n",
    "\n",
    "f = \"/\".isdigit()\n",
    "print(f)"
   ]
  },
  {
   "cell_type": "code",
   "execution_count": 57,
   "metadata": {},
   "outputs": [
    {
     "name": "stdout",
     "output_type": "stream",
     "text": [
      "True\n",
      "False\n",
      "False\n",
      "False\n",
      "False\n",
      "False\n"
     ]
    }
   ],
   "source": [
    "a = \"55\".isnumeric()\n",
    "print(a)\n",
    "\n",
    "b = \"55.0\".isnumeric()\n",
    "print(b)\n",
    "\n",
    "c = \"abc\".isnumeric()\n",
    "print(c)\n",
    "\n",
    "d = \"-55\".isnumeric()\n",
    "print(d)\n",
    "\n",
    "e = \"+\".isnumeric()\n",
    "print(e)\n",
    "\n",
    "f = \"$\".isnumeric()\n",
    "print(f)"
   ]
  },
  {
   "cell_type": "code",
   "execution_count": null,
   "metadata": {
    "id": "0VUmIllFZwsm"
   },
   "outputs": [],
   "source": [
    "## Dersteki Kahoot sorulari:\n",
    "\n",
    "# if elif ve else ler condition olarak bilinir\n"
   ]
  },
  {
   "cell_type": "code",
   "execution_count": 4,
   "metadata": {
    "id": "uVxM7TGKZwus"
   },
   "outputs": [
    {
     "name": "stdout",
     "output_type": "stream",
     "text": [
      "it works\n"
     ]
    }
   ],
   "source": [
    "condition = (3 > 1) and (1 < 1)\n",
    "\n",
    "if not condition:   # Dikkat: not var\n",
    "  print(\"it works\")   \n",
    "                      \n",
    "else:\n",
    "  print(\"something is wrong\")"
   ]
  },
  {
   "cell_type": "code",
   "execution_count": 5,
   "metadata": {
    "id": "Q_mUuRsdYaan"
   },
   "outputs": [
    {
     "ename": "TypeError",
     "evalue": "'<=' not supported between instances of 'str' and 'int'",
     "output_type": "error",
     "traceback": [
      "\u001b[1;31m---------------------------------------------------------------------------\u001b[0m",
      "\u001b[1;31mTypeError\u001b[0m                                 Traceback (most recent call last)",
      "\u001b[1;32m<ipython-input-5-d85c8577548e>\u001b[0m in \u001b[0;36m<module>\u001b[1;34m\u001b[0m\n\u001b[0;32m      1\u001b[0m \u001b[0mprice\u001b[0m \u001b[1;33m=\u001b[0m \u001b[1;34m\"2200\"\u001b[0m\u001b[1;33m\u001b[0m\u001b[1;33m\u001b[0m\u001b[0m\n\u001b[0;32m      2\u001b[0m \u001b[1;33m\u001b[0m\u001b[0m\n\u001b[1;32m----> 3\u001b[1;33m \u001b[1;32mif\u001b[0m \u001b[0mprice\u001b[0m \u001b[1;33m<=\u001b[0m \u001b[1;36m2200\u001b[0m\u001b[1;33m:\u001b[0m\u001b[1;33m\u001b[0m\u001b[1;33m\u001b[0m\u001b[0m\n\u001b[0m\u001b[0;32m      4\u001b[0m   \u001b[0mprint\u001b[0m\u001b[1;33m(\u001b[0m\u001b[1;34m\"ucuz\"\u001b[0m\u001b[1;33m)\u001b[0m\u001b[1;33m\u001b[0m\u001b[1;33m\u001b[0m\u001b[0m\n\u001b[0;32m      5\u001b[0m \u001b[1;33m\u001b[0m\u001b[0m\n",
      "\u001b[1;31mTypeError\u001b[0m: '<=' not supported between instances of 'str' and 'int'"
     ]
    }
   ],
   "source": [
    "price = \"2200\"\n",
    "\n",
    "if price <= 2200:\n",
    "  print(\"ucuz\")\n",
    "\n",
    "else:\n",
    "  print(\"pahali\")"
   ]
  },
  {
   "cell_type": "code",
   "execution_count": 6,
   "metadata": {
    "id": "u6U6rllDYaci"
   },
   "outputs": [
    {
     "name": "stdout",
     "output_type": "stream",
     "text": [
      "pahali\n"
     ]
    }
   ],
   "source": [
    "price = \"2200\"          ### Burada dikkat etmemiz gereken 2 husus vardir\n",
    "                        ## birincisi <= dedigimizde icerisinde = oldugu icin \n",
    "if price <= \"2100\":     #  ayni zamanda hem kücük hem de esittir demektir.\n",
    "  print(\"ucuz\")         # ikincisi ise string icerisinde bulunan 2 tane sayiyi\n",
    "                        # kücük ve büyük olarak kiyas edebilirz\n",
    "else:                   #  yani bizim kodumuzda <= degil de sadece < olsa bile\n",
    "  print(\"pahali\")       ## kodumuz calisirdi    \n",
    "\n",
    "                       "
   ]
  },
  {
   "cell_type": "code",
   "execution_count": null,
   "metadata": {
    "id": "F1yTFbgTjiy3"
   },
   "outputs": [],
   "source": []
  },
  {
   "cell_type": "code",
   "execution_count": null,
   "metadata": {
    "id": "bzdt8pGtji35"
   },
   "outputs": [],
   "source": []
  },
  {
   "cell_type": "code",
   "execution_count": 7,
   "metadata": {
    "id": "0b8iqpiWYaer"
   },
   "outputs": [
    {
     "name": "stdout",
     "output_type": "stream",
     "text": [
      "True\n",
      "False\n",
      "False\n",
      "False\n",
      "True\n"
     ]
    }
   ],
   "source": [
    " ## Dikkat: string veri tipi icerisindeki sayi ve harfleri birbirleri ile\n",
    "# karsilastirabiliriz. Yani price = \"abcd\" desek de kodumuz calisir \n",
    "\n",
    "# burada ise ascii kodlar devreye girer\n",
    "\n",
    "print(\"a\" < \"aa\")\n",
    "\n",
    "print(\"a\" < \"A\")\n",
    "\n",
    "print(\"a\" < \"1234\")\n",
    "\n",
    "print(\"a\" < \"+\")\n",
    "\n",
    "print(\"a\" == \"a\")"
   ]
  },
  {
   "cell_type": "code",
   "execution_count": 58,
   "metadata": {
    "id": "bwREjOaJGIUw"
   },
   "outputs": [
    {
     "name": "stdout",
     "output_type": "stream",
     "text": [
      "Hadi sayi oyunu oynayalim\n"
     ]
    },
    {
     "name": "stdin",
     "output_type": "stream",
     "text": [
      "Bil bakalim aklimdan gecen sayiyi:  55\n"
     ]
    },
    {
     "name": "stdout",
     "output_type": "stream",
     "text": [
      "Tebrikler bildin\n"
     ]
    }
   ],
   "source": [
    "# aklindan bir sayi tut oyunu:\n",
    "# Not bu sorunun kolay cözümü bu sekildedir. Yani True kullanacagiz ve bir kosul saglandiginda\n",
    "# break kullanacagiz ve break bizi döngüden cikaracak \n",
    "\n",
    "print(\"Hadi sayi oyunu oynayalim\")\n",
    "sayi = 55\n",
    "\n",
    "while True:          \n",
    "  girdi = int(input(\"Bil bakalim aklimdan gecen sayiyi: \"))\n",
    "\n",
    "  if girdi > sayi:                ## neden girdi degiskenini while loop icerisine yazdik\n",
    "    print(\"Biraz azalt: \")        # cünkü dogru cevap bilinmedigi sürece, her defasinda \n",
    "  elif girdi < sayi:              # kullanicidan yeni sayi isteyecegiz. Ve dikkat:\n",
    "    print(\"biraz artir: \")        ##  while altinda girdi istedigimizden bir daha if ler \n",
    "  else:                           # altinda girdi istemiyoruz\n",
    "    print(\"Tebrikler bildin\")\n",
    "    break\n"
   ]
  },
  {
   "cell_type": "code",
   "execution_count": 59,
   "metadata": {
    "id": "9eqLPomUGIX4"
   },
   "outputs": [
    {
     "name": "stdin",
     "output_type": "stream",
     "text": [
      "Bir sayi söyle!!!:  55\n"
     ]
    },
    {
     "name": "stdout",
     "output_type": "stream",
     "text": [
      "Tebrikler bildin\n"
     ]
    }
   ],
   "source": [
    "\n",
    "# bu sekilde 3 while ile de calistirilabilir\n",
    "\n",
    "girdi = int(input(\"Bir sayi söyle!!!: \"))\n",
    "sayi = 55\n",
    "\n",
    "while girdi < sayi:                 ### Dikkat buralarda break kullanmadik ve buna\n",
    "  print( \"Biraz artir!!!\")          # ragmen sonsuz döngü olusmuyor !!!\n",
    "  girdi = int(input(\"yeni sayi: \")) #  neden ??\n",
    "\n",
    "while girdi > sayi:\n",
    "  print(\"Biraz azalt!!!\")\n",
    "  girdi = int(input(\"Yeni sayi: \"))\n",
    "\n",
    "while girdi == sayi:\n",
    "  print(\"Tebrikler bildin\")\n",
    "  break"
   ]
  },
  {
   "cell_type": "code",
   "execution_count": null,
   "metadata": {
    "id": "9D8vEGRHGIZ_"
   },
   "outputs": [],
   "source": [
    "# not: Bu tarz kodlari while ve for kullanmadan sadece if ve else ler ile\n",
    "# yazamayiz. cünkü kullanicinin kac sefer de bilecegini bilemeyiz ve\n",
    "# sadece if ler ile bir döngü olusturamayiz "
   ]
  },
  {
   "cell_type": "code",
   "execution_count": 8,
   "metadata": {
    "id": "v4a_cFMQGIc5"
   },
   "outputs": [
    {
     "name": "stdin",
     "output_type": "stream",
     "text": [
      "Lütfen bir cümle giriniz(kelime aralarinda bosluk birakiniz):  be seni seviyorum\n"
     ]
    },
    {
     "name": "stdout",
     "output_type": "stream",
     "text": [
      "9\n"
     ]
    }
   ],
   "source": [
    "# kullanicinin girdigi cümlede en uzun kelimenin uzunlugunu bulma\n",
    "\n",
    "girdi = input(\"Lütfen bir cümle giriniz(kelime aralarinda bosluk birakiniz): \")\n",
    "new = girdi.split()\n",
    "counter = 0\n",
    "longest = 0\n",
    "\n",
    "while counter < len(new):\n",
    "  a = new[counter]\n",
    "  counter += 1\n",
    "\n",
    "  if len(a) > longest:\n",
    "    longest = len(a)\n",
    "  else:\n",
    "    longest = longest        ### else' i kullanmasak da kodumuz calisir\n",
    "\n",
    "print(longest)"
   ]
  },
  {
   "cell_type": "code",
   "execution_count": 61,
   "metadata": {
    "id": "RxtYvc9qGIgF"
   },
   "outputs": [
    {
     "name": "stdin",
     "output_type": "stream",
     "text": [
      "Lütfen bir cümle giriniz:  ben seni seviyorum\n"
     ]
    },
    {
     "name": "stdout",
     "output_type": "stream",
     "text": [
      "9\n"
     ]
    }
   ],
   "source": [
    "## hocanin cözümü:\n",
    "\n",
    "sentence = input(\"Lütfen bir cümle giriniz: \")\n",
    "\n",
    "word_list = sentence.split()\n",
    "i = 0\n",
    "longest = 0\n",
    "\n",
    "while i < len(word_list):\n",
    "\n",
    "    if len(word_list[i]) > longest:   # sadece if kullandik else e gerek kalmadi\n",
    "\n",
    "        longest = len(word_list[i])    ### eger yeni kelime uzunlugu longest tan uzun degilse\n",
    "                                    ## bu durumda longest in eski halinde bir degisiklik olmaz\n",
    "        i += 1                            #  ve bu durumda sadece alt satirdaki i bir tane artar.\n",
    "\n",
    "print(longest)         ###  Dikkat eger i counter'i if altinda yazarsak calismaz"
   ]
  },
  {
   "cell_type": "code",
   "execution_count": null,
   "metadata": {
    "id": "gpkCzQWd4UnP"
   },
   "outputs": [],
   "source": []
  },
  {
   "cell_type": "code",
   "execution_count": null,
   "metadata": {
    "id": "4JDA_ajs4Up0"
   },
   "outputs": [],
   "source": [
    "####### 13. Session"
   ]
  },
  {
   "cell_type": "code",
   "execution_count": null,
   "metadata": {
    "id": "xN_xSxip4Ury"
   },
   "outputs": [],
   "source": [
    "#### Not:  if yapilarinda indentation lar cok önemli oldugu gibi \n",
    "# while ve for loop larda da cok önemlidir.\n",
    "\n",
    "\n",
    "while condition:\n",
    "    body\n",
    "    while condition:\n",
    "        body\n",
    "        break\n",
    "\n",
    "# Buradaki break kelimesi sadece ic kisimdaki while icindir\n",
    "## eger disaridaki döngüyü de cikarmak istersek onun hizasinda ayrica break yazmamiz gerekir"
   ]
  },
  {
   "cell_type": "code",
   "execution_count": 10,
   "metadata": {
    "id": "lq__KnPT4Uug"
   },
   "outputs": [
    {
     "name": "stdout",
     "output_type": "stream",
     "text": [
      "[0, 1, 2, 3, 4, 5]\n"
     ]
    }
   ],
   "source": [
    "#### attention:\n",
    "\n",
    "# while döngüsü kurarken condition olusturma asamasinda dikkat\n",
    "# edilmesi gereken bir husus:\n",
    "\n",
    "liste = [11, 22, 33, 44, 55]\n",
    "bos = []\n",
    "i = 0\n",
    "\n",
    "while i <= len(liste):  ## burada <= kullanirsak toplam iterate sayisi ne olur?\n",
    "  bos.append(i)          # sadece < kullanirsak ne olur?\n",
    "  i += 1\n",
    "print(bos)"
   ]
  },
  {
   "cell_type": "code",
   "execution_count": null,
   "metadata": {
    "id": "wgaShixq4UwE"
   },
   "outputs": [],
   "source": []
  },
  {
   "cell_type": "code",
   "execution_count": null,
   "metadata": {
    "id": "TPbj7n2h4Uye"
   },
   "outputs": [],
   "source": [
    "################       for loop        ###############"
   ]
  },
  {
   "cell_type": "code",
   "execution_count": null,
   "metadata": {
    "id": "zy_cYk2a4U0R"
   },
   "outputs": [],
   "source": [
    "# for döngülerinde ana yapimiz:\n",
    "\n",
    "for variable in iterable:\n",
    "  body\n",
    "\n",
    "# while yapisina benzerlikler:\n",
    "# for satiri sonunda colon yani : kullanimi\n",
    "# body ye baslamadan önce 1 tab indentation\n",
    "\n",
    "\n",
    "# while dan farkli olan hususlar:\n",
    "\n",
    "# iterable lar ile döngü olusturur yani bir iterable verinin elemanlari\n",
    "# üzerinde gezinir\n",
    "# condition ile calismaz\n",
    "# while dan farkli olarak \"i\" gibi bir degisken alir\n",
    "# for döngüsünde list comprehension mümkün, while da yok\n",
    "\n",
    "# Soru? for döngüsünde de while döngüsünde oldugu gibi sonsuz döngü var midir?"
   ]
  },
  {
   "cell_type": "code",
   "execution_count": 11,
   "metadata": {
    "id": "BRP38fNn4U_Z"
   },
   "outputs": [
    {
     "name": "stdout",
     "output_type": "stream",
     "text": [
      "1\n",
      "2\n",
      "3\n",
      "4\n",
      "5\n"
     ]
    }
   ],
   "source": [
    "# for döngüsü calisma prensibini bu örnekte hem manuel olarak uygulayarak\n",
    "# hem de for döngüsü calistirarak görelim:\n",
    "\n",
    "# döngülerde kullanilan \"i\" harfini genelgecer bir kural olarak görebiliriz.\n",
    "# uluslararasi olarak bu sekilde alisilmis ve iteration kelimesinden gelmektedir\n",
    "\n",
    "# for döngüsü her iteration da, i degiskenine atama assigning yapar.\n",
    "# yani her iteration da i'nin degerinde bir güncelleme gerceklesir.\n",
    "\n",
    "liste = [1, 2, 3, 4, 5]\n",
    "# for i in liste:\n",
    "# print(i)\n",
    "\n",
    "i = 0\n",
    "i = liste[0]\n",
    "print(i)\n",
    "\n",
    "\n",
    "i = 1\n",
    "i = liste[1]\n",
    "print(i)\n",
    "\n",
    "\n",
    "i = 2\n",
    "i = liste[2]\n",
    "print(i)\n",
    "\n",
    "\n",
    "i = 3\n",
    "i = liste[3]\n",
    "print(i)\n",
    "\n",
    "\n",
    "i = 4\n",
    "i = liste[4]\n",
    "print(i)"
   ]
  },
  {
   "cell_type": "code",
   "execution_count": 14,
   "metadata": {},
   "outputs": [
    {
     "name": "stdout",
     "output_type": "stream",
     "text": [
      "1\n",
      "2\n",
      "3\n",
      "4\n",
      "5\n"
     ]
    }
   ],
   "source": [
    "liste = [1, 2, 3, 4, 5]\n",
    "for i in liste:\n",
    "    print(i)"
   ]
  },
  {
   "cell_type": "code",
   "execution_count": 17,
   "metadata": {},
   "outputs": [
    {
     "name": "stdout",
     "output_type": "stream",
     "text": [
      "3\n",
      "4\n",
      "5\n"
     ]
    }
   ],
   "source": [
    "liste = [1, 2, 3, 4, 5]\n",
    "for i in liste[2:]:\n",
    "    print(i)"
   ]
  },
  {
   "cell_type": "code",
   "execution_count": 20,
   "metadata": {},
   "outputs": [
    {
     "ename": "TypeError",
     "evalue": "'int' object is not iterable",
     "output_type": "error",
     "traceback": [
      "\u001b[1;31m---------------------------------------------------------------------------\u001b[0m",
      "\u001b[1;31mTypeError\u001b[0m                                 Traceback (most recent call last)",
      "\u001b[1;32m<ipython-input-20-7e3b82f20473>\u001b[0m in \u001b[0;36m<module>\u001b[1;34m\u001b[0m\n\u001b[0;32m      1\u001b[0m \u001b[0mliste\u001b[0m \u001b[1;33m=\u001b[0m \u001b[1;33m[\u001b[0m\u001b[1;36m1\u001b[0m\u001b[1;33m,\u001b[0m \u001b[1;36m2\u001b[0m\u001b[1;33m,\u001b[0m \u001b[1;36m3\u001b[0m\u001b[1;33m,\u001b[0m \u001b[1;36m4\u001b[0m\u001b[1;33m,\u001b[0m \u001b[1;36m5\u001b[0m\u001b[1;33m]\u001b[0m\u001b[1;33m\u001b[0m\u001b[1;33m\u001b[0m\u001b[0m\n\u001b[1;32m----> 2\u001b[1;33m \u001b[1;32mfor\u001b[0m \u001b[0mi\u001b[0m \u001b[1;32min\u001b[0m \u001b[0mliste\u001b[0m\u001b[1;33m[\u001b[0m\u001b[1;36m2\u001b[0m\u001b[1;33m]\u001b[0m\u001b[1;33m:\u001b[0m\u001b[1;33m\u001b[0m\u001b[1;33m\u001b[0m\u001b[0m\n\u001b[0m\u001b[0;32m      3\u001b[0m     \u001b[0mprint\u001b[0m\u001b[1;33m(\u001b[0m\u001b[0mi\u001b[0m\u001b[1;33m)\u001b[0m\u001b[1;33m\u001b[0m\u001b[1;33m\u001b[0m\u001b[0m\n",
      "\u001b[1;31mTypeError\u001b[0m: 'int' object is not iterable"
     ]
    }
   ],
   "source": [
    "liste = [1, 2, 3, 4, 5]\n",
    "for i in liste[2]:\n",
    "    print(i)"
   ]
  },
  {
   "cell_type": "code",
   "execution_count": 18,
   "metadata": {},
   "outputs": [
    {
     "name": "stdout",
     "output_type": "stream",
     "text": [
      "3\n"
     ]
    }
   ],
   "source": [
    "liste = [1, 2, [3], 4, 5]\n",
    "for i in liste[2]:\n",
    "    print(i)"
   ]
  },
  {
   "cell_type": "code",
   "execution_count": 15,
   "metadata": {
    "id": "ft7vqSGW4VBj"
   },
   "outputs": [
    {
     "name": "stdout",
     "output_type": "stream",
     "text": [
      "mehmet\n",
      "mehmet\n",
      "mehmet\n",
      "mehmet\n",
      "mehmet\n"
     ]
    }
   ],
   "source": [
    "## for döngüsünün body kisminda variable'i yani i degiskenini kullanmak \n",
    "# zorunda degiliz. Bunun yerine herhangi bir sey konulabilir.\n",
    "\n",
    "liste = [1, 2, 3, 4, 5]\n",
    "\n",
    "for i in liste:  ## bunun yerine range(0, 5) de kullanabiliriz\n",
    "    print(\"mehmet\")"
   ]
  },
  {
   "cell_type": "code",
   "execution_count": 16,
   "metadata": {
    "id": "jkpiIx714VDp"
   },
   "outputs": [
    {
     "name": "stdout",
     "output_type": "stream",
     "text": [
      "0\n",
      "1\n",
      "2\n",
      "3\n",
      "4\n",
      "5\n",
      "6\n",
      "7\n",
      "7\n"
     ]
    }
   ],
   "source": [
    "# for döngüsünden ciktiktan sonra i'nin degerini kullanmaya ihtiyac duyarsak:\n",
    "# Bu durumda ne output aliriz ??\n",
    "\n",
    "for i in range(0,8):\n",
    "    print(i)   \n",
    "              \n",
    "\n",
    "print(i)"
   ]
  },
  {
   "cell_type": "code",
   "execution_count": null,
   "metadata": {
    "id": "oRSj_mW44VFw"
   },
   "outputs": [],
   "source": []
  },
  {
   "cell_type": "code",
   "execution_count": 21,
   "metadata": {
    "id": "KdBQiK1S4VJj"
   },
   "outputs": [
    {
     "name": "stdout",
     "output_type": "stream",
     "text": [
      "0 1 2 3 4 5 6 7 8 9\n",
      "[0, 1, 2, 3, 4, 5, 6, 7, 8, 9]\n",
      "(0, 1, 2, 3, 4, 5, 6, 7, 8, 9)\n",
      "{0, 1, 2, 3, 4, 5, 6, 7, 8, 9}\n",
      "0\n",
      "1\n",
      "2\n",
      "3\n",
      "4\n",
      "5\n",
      "6\n",
      "7\n",
      "8\n",
      "9\n"
     ]
    }
   ],
   "source": [
    "##  hatirlatma:\n",
    "# range func icerisindeki degerleri ortaya cikarmanin birkac yolu vardir\n",
    "# 1:  for döngüsü icinde kullanma\n",
    "# 2:  list, tuple ve set gibi func'lar icerisinde kullanma\n",
    "# 3:  range func önünde yildiz kullanma(asteriks)\n",
    "\n",
    "\n",
    "print(*range(0,10))\n",
    "\n",
    "print(list(range(0,10)))\n",
    "print(tuple(range(0,10)))\n",
    "print(set(range(0,10)))\n",
    "# print(dict(range(0,10)))  # dict ile e calisir mi? calismaz\n",
    "\n",
    "for i in range(0,10):\n",
    "    print(i)\n"
   ]
  },
  {
   "cell_type": "code",
   "execution_count": 22,
   "metadata": {
    "id": "NS2X_IILojZv"
   },
   "outputs": [
    {
     "name": "stdout",
     "output_type": "stream",
     "text": [
      "0 1 2 3 4 5 6 7 8 9\n"
     ]
    }
   ],
   "source": [
    "##  Peki: * ile tüm elemanlari ayirip daha sonra bir yerde \n",
    "# kullanma sansimiz var midir ? Yani listelerdeki gibi indexleme \n",
    "# slayslama yapilabilir mi??\n",
    "\n",
    "print(*range(0,10))"
   ]
  },
  {
   "cell_type": "code",
   "execution_count": 23,
   "metadata": {
    "id": "fsGSDAnn4VLr"
   },
   "outputs": [
    {
     "name": "stdout",
     "output_type": "stream",
     "text": [
      "1\n",
      "cilek\n",
      "2.5\n",
      "True\n",
      "None\n",
      "0\n",
      "(3+5j)\n"
     ]
    }
   ],
   "source": [
    "tuplem = (1, \"cilek\", 2.5, True, None, 0, 3+5j)\n",
    "\n",
    "for i in tuplem:         ### tuple larda for loop calisir mi??\n",
    "    print(i)"
   ]
  },
  {
   "cell_type": "code",
   "execution_count": 24,
   "metadata": {
    "id": "tvburELv4VNw"
   },
   "outputs": [
    {
     "name": "stdout",
     "output_type": "stream",
     "text": [
      "0\n",
      "1\n",
      "2.5\n",
      "kiraz\n",
      "None\n",
      "(3+5j)\n"
     ]
    }
   ],
   "source": [
    "setim = {1, \"kiraz\", 2.5, True, None, 0, 3+5j}\n",
    "\n",
    "for i in setim:   ## setler unordered dir. setlerde de for loop calisir mi?\n",
    "    print(i)"
   ]
  },
  {
   "cell_type": "code",
   "execution_count": null,
   "metadata": {
    "id": "wB8KDnr7ECNQ"
   },
   "outputs": [],
   "source": []
  },
  {
   "cell_type": "code",
   "execution_count": 27,
   "metadata": {
    "id": "zD7y4Gd9IUq7"
   },
   "outputs": [
    {
     "name": "stdout",
     "output_type": "stream",
     "text": [
      "[5]\n",
      "5\n"
     ]
    }
   ],
   "source": [
    "a = [5]  ### Burada a degiskenini for döngüsü ile iterate edebilir miyiz??\n",
    "\n",
    "for i in a:\n",
    "    print(a)\n",
    "    print(i)"
   ]
  },
  {
   "cell_type": "code",
   "execution_count": 30,
   "metadata": {},
   "outputs": [
    {
     "name": "stdout",
     "output_type": "stream",
     "text": [
      "5\n",
      "goksel\n",
      "goksel\n",
      "goksel\n",
      "goksel\n",
      "goksel\n"
     ]
    }
   ],
   "source": [
    "a = [5]  ### Burada a degiskenini for döngüsü ile iterate edebilir miyiz??\n",
    "\n",
    "for i in a:\n",
    "    print(i)\n",
    "    \n",
    "for x in range(i):\n",
    "    print(\"goksel\")\n",
    "    "
   ]
  },
  {
   "cell_type": "code",
   "execution_count": 31,
   "metadata": {
    "id": "LmAV7N0Fps-X"
   },
   "outputs": [
    {
     "name": "stdout",
     "output_type": "stream",
     "text": [
      "(5,)\n"
     ]
    }
   ],
   "source": [
    "a = (5,)\n",
    "\n",
    "for i in a:\n",
    "    print(a)"
   ]
  },
  {
   "cell_type": "code",
   "execution_count": null,
   "metadata": {
    "id": "QOki4LGdptAl"
   },
   "outputs": [],
   "source": []
  },
  {
   "cell_type": "code",
   "execution_count": null,
   "metadata": {
    "id": "YeFQ1Ds7IVEG"
   },
   "outputs": [],
   "source": []
  },
  {
   "cell_type": "code",
   "execution_count": null,
   "metadata": {
    "id": "ZmbxIpy1ECQ8"
   },
   "outputs": [],
   "source": [
    "### Task:\n",
    "# elimizde isimlerden olusan bir liste var.\n",
    "# ve biz her bir ismin önüne hello \n",
    "# ve her bir isimden sonra iyi günler yazmak istiyoruz.\n",
    "# nasil yapariz?\n",
    "\n",
    "liste = [\"ayse\", \"emine\", \"hakan\", \"gökhan\", \"tomy\"]\n",
    "\n",
    "## vvvv"
   ]
  },
  {
   "cell_type": "code",
   "execution_count": 62,
   "metadata": {
    "id": "43Sphv4GpKQp"
   },
   "outputs": [
    {
     "name": "stdout",
     "output_type": "stream",
     "text": [
      "hello ayse iyi günler\n",
      "hello emine iyi günler\n",
      "hello hakan iyi günler\n",
      "hello gökhan iyi günler\n",
      "hello tomy iyi günler\n"
     ]
    }
   ],
   "source": [
    "liste = [\"ayse\", \"emine\", \"hakan\", \"gökhan\", \"tomy\"]\n",
    "for i in liste:\n",
    "    print(\"hello\", i, \"iyi günler\")"
   ]
  },
  {
   "cell_type": "code",
   "execution_count": null,
   "metadata": {
    "id": "rmEwOsc6pKTG"
   },
   "outputs": [],
   "source": []
  },
  {
   "cell_type": "code",
   "execution_count": 63,
   "metadata": {
    "id": "lcgjQ1jspKVJ"
   },
   "outputs": [
    {
     "name": "stdout",
     "output_type": "stream",
     "text": [
      "Hello, ayse, iyi günler\n",
      "Hello, emine, iyi günler\n",
      "Hello, hakan, iyi günler\n",
      "Hello, gökhan, iyi günler\n",
      "Hello, tomy, iyi günler\n"
     ]
    }
   ],
   "source": [
    "liste = [\"ayse\", \"emine\", \"hakan\", \"gökhan\", \"tomy\"]\n",
    "for i in liste:\n",
    "          \n",
    "    print(f\"Hello, {i}, iyi günler\")"
   ]
  },
  {
   "cell_type": "code",
   "execution_count": null,
   "metadata": {
    "id": "JPkJ2dB2pKW4"
   },
   "outputs": [],
   "source": []
  },
  {
   "cell_type": "code",
   "execution_count": 35,
   "metadata": {
    "id": "X9dp0_bAECUz"
   },
   "outputs": [
    {
     "name": "stdout",
     "output_type": "stream",
     "text": [
      "[1, 'kiraz', 2.5, True, None, 0, (3+5j), 'Ankara', 'Istanbul']\n"
     ]
    }
   ],
   "source": [
    "## task\n",
    "# bir tane listemiz var ve biz bu listenin elemanlarini alt alta degil de\n",
    "# yan yana ve bir liste icerisinde yazdirmak istiyoruz\n",
    "# ve sadece tek satir output almak istiyoruz.  nasil yapariz ??\n",
    "\n",
    "liste = [1, \"kiraz\", 2.5, True, None, 0, 3+5j, \"Ankara\", \"Istanbul\"]\n",
    "bos = []\n",
    "\n",
    "for i in liste:\n",
    "    bos.append(i)\n",
    "    \n",
    "print(bos)\n"
   ]
  },
  {
   "cell_type": "code",
   "execution_count": 36,
   "metadata": {
    "id": "-m9zuDe8ECW7"
   },
   "outputs": [
    {
     "name": "stdin",
     "output_type": "stream",
     "text": [
      "lütfen bir kelime giriniz:  ankara\n"
     ]
    },
    {
     "name": "stdout",
     "output_type": "stream",
     "text": [
      "a#n#k#a#r#a\n"
     ]
    }
   ],
   "source": [
    "# task \n",
    "# elimizde bir string var ve biz bu string'in her bir elemani arasina\n",
    "#  # karakteri koymak istiyoruz. ve hepsini tek satirda yan yana\n",
    "# cikti almak istiyoruz. Output'un Veri tipinin de string olmasini\n",
    "# istiyoruz.   nasil yapariz??\n",
    "\n",
    "girdi = input(\"lütfen bir kelime giriniz: \")\n",
    "bos = []\n",
    "\n",
    "for i in girdi:             #  <<<==  2. cözüm yolu\n",
    "    bos.append(i)\n",
    "    bos.append(\"#\")\n",
    "a = \"\".join(bos)\n",
    "print(a.strip(\"#\"))"
   ]
  },
  {
   "cell_type": "code",
   "execution_count": 38,
   "metadata": {
    "id": "wOxyUDr1ECYl"
   },
   "outputs": [
    {
     "name": "stdin",
     "output_type": "stream",
     "text": [
      "lütfen bir kelime giriniz:  ankara\n"
     ]
    },
    {
     "name": "stdout",
     "output_type": "stream",
     "text": [
      "a#n#k#a#r#a\n"
     ]
    }
   ],
   "source": [
    "#### Hocanin cözümü:\n",
    "\n",
    "girdi = input(\"lütfen bir kelime giriniz: \") # ankara\n",
    "\n",
    "counter = 0\n",
    "\n",
    "for i in girdi:\n",
    "    counter += 1          ### Bu yöntem de counter kullanma sebebi son karaktere # gelmemesi\n",
    "    if counter < len(girdi):\n",
    "        print(i, end = \"#\")\n",
    "    else:\n",
    "        print(i)"
   ]
  },
  {
   "cell_type": "code",
   "execution_count": 39,
   "metadata": {
    "id": "Dqep4XMe0OTJ"
   },
   "outputs": [
    {
     "name": "stdin",
     "output_type": "stream",
     "text": [
      "lütfen bir kelime giriniz:  ankara\n"
     ]
    },
    {
     "name": "stdout",
     "output_type": "stream",
     "text": [
      "a#n#k#a#r#a"
     ]
    }
   ],
   "source": [
    "## burada da diger bir yöntem:\n",
    "# sadece sonda print yaziyoruz\n",
    "\n",
    "girdi = input(\"lütfen bir kelime giriniz: \")\n",
    "\n",
    "counter = 0\n",
    "\n",
    "for i in girdi:\n",
    "counter += 1\n",
    "    if counter < len(girdi):\n",
    "    i = i + \"#\"\n",
    "    else:\n",
    "    i = i\n",
    "    print(i, end =\"\")"
   ]
  },
  {
   "cell_type": "code",
   "execution_count": null,
   "metadata": {
    "id": "F_DRa9YfstWR"
   },
   "outputs": [],
   "source": []
  },
  {
   "cell_type": "code",
   "execution_count": 40,
   "metadata": {
    "id": "lzvuASAn0OVv"
   },
   "outputs": [
    {
     "name": "stdout",
     "output_type": "stream",
     "text": [
      "name\n",
      "Surname\n",
      "age\n"
     ]
    }
   ],
   "source": [
    "## dict örnegi:\n",
    "# normalde bir degiskeni print ettirmek istedigimizde output da o degiskenin\n",
    "# value sunu görürüz. peki bu durum dict lerde nasildir ?\n",
    "\n",
    "# önce bu örnege bakalim.Sonra da eger \n",
    "# bu kod calisir ise value lari output alalim\n",
    "# en sonunda da itemlari alalim\n",
    "\n",
    "user = {\"name\" : \"Daniel\",\"Surname\" : \"Smith\",\"age\" : 35}\n",
    "\n",
    "for i in user:\n",
    "    print(i)"
   ]
  },
  {
   "cell_type": "code",
   "execution_count": null,
   "metadata": {
    "id": "MoDF5BZBtE8-"
   },
   "outputs": [],
   "source": []
  },
  {
   "cell_type": "code",
   "execution_count": null,
   "metadata": {
    "id": "2jRjKWTpt8wS"
   },
   "outputs": [],
   "source": []
  },
  {
   "cell_type": "code",
   "execution_count": 41,
   "metadata": {
    "id": "FmATOVk86d2Y"
   },
   "outputs": [
    {
     "name": "stdout",
     "output_type": "stream",
     "text": [
      "Daniel\n",
      "Smith\n",
      "35\n"
     ]
    }
   ],
   "source": [
    "### value lar\n",
    "\n",
    "user = {\n",
    "    \"name\" : \"Daniel\",\n",
    "    \"Surname\" : \"Smith\",\n",
    "    \"age\" : 35\n",
    "}\n",
    "\n",
    "for i in user.values():\n",
    "    print(i)"
   ]
  },
  {
   "cell_type": "code",
   "execution_count": 42,
   "metadata": {
    "id": "LWCj3QyL0OZa"
   },
   "outputs": [
    {
     "name": "stdout",
     "output_type": "stream",
     "text": [
      "('name', 'Daniel')\n",
      "<class 'tuple'>\n",
      "('Surname', 'Smith')\n",
      "<class 'tuple'>\n",
      "('age', 35)\n",
      "<class 'tuple'>\n"
     ]
    }
   ],
   "source": [
    "#   Dikkat: Bu sekilde print edersek nasil  bir sonuc aliriz\n",
    "# asagidaki hücredeki gibi olsa nasil olur?\n",
    "\n",
    "user = {\n",
    "    \"name\" : \"Daniel\",\n",
    "    \"Surname\" : \"Smith\",\n",
    "    \"age\" : 35\n",
    "}\n",
    "\n",
    "for i in user.items():\n",
    "    print(i)              ## dikkat sadece i print ediliyor. ama asagida i ve j\n",
    "    print(type(i))        ## output da item ve value aralarina ne girer??\n",
    "                        # ayrica outputlarda parantez ve \"\" var mi dikkat edelim\n",
    "\n",
    "                        # son olarak da burada veri type imiz ne olur??"
   ]
  },
  {
   "cell_type": "code",
   "execution_count": 43,
   "metadata": {
    "id": "l41EXC3M7GLL"
   },
   "outputs": [
    {
     "name": "stdout",
     "output_type": "stream",
     "text": [
      "name Daniel\n",
      "<class 'str'> <class 'str'>\n",
      "Surname Smith\n",
      "<class 'str'> <class 'str'>\n",
      "age 35\n",
      "<class 'str'> <class 'int'>\n"
     ]
    }
   ],
   "source": [
    "user = {\n",
    "    \"name\" : \"Daniel\",\n",
    "    \"Surname\" : \"Smith\",\n",
    "    \"age\" : 35\n",
    "}\n",
    "\n",
    "for i, j in user.items():\n",
    "    print(i , j)  ##  burada output nasil olur. asagida nasil olur? i'yi key j'yi value yazdirir\n",
    "    print(type(i), type(j))  ###  type dikkat"
   ]
  },
  {
   "cell_type": "code",
   "execution_count": 44,
   "metadata": {
    "id": "hMsAAFIu7hop"
   },
   "outputs": [
    {
     "name": "stdout",
     "output_type": "stream",
     "text": [
      "name:Daniel\n",
      "Surname:Smith\n"
     ]
    },
    {
     "ename": "TypeError",
     "evalue": "can only concatenate str (not \"int\") to str",
     "output_type": "error",
     "traceback": [
      "\u001b[1;31m---------------------------------------------------------------------------\u001b[0m",
      "\u001b[1;31mTypeError\u001b[0m                                 Traceback (most recent call last)",
      "\u001b[1;32m<ipython-input-44-1dcbdc3b230f>\u001b[0m in \u001b[0;36m<module>\u001b[1;34m\u001b[0m\n\u001b[0;32m      6\u001b[0m \u001b[1;33m\u001b[0m\u001b[0m\n\u001b[0;32m      7\u001b[0m \u001b[1;32mfor\u001b[0m \u001b[0mi\u001b[0m\u001b[1;33m,\u001b[0m \u001b[0mj\u001b[0m \u001b[1;32min\u001b[0m \u001b[0muser\u001b[0m\u001b[1;33m.\u001b[0m\u001b[0mitems\u001b[0m\u001b[1;33m(\u001b[0m\u001b[1;33m)\u001b[0m\u001b[1;33m:\u001b[0m\u001b[1;33m\u001b[0m\u001b[1;33m\u001b[0m\u001b[0m\n\u001b[1;32m----> 8\u001b[1;33m   \u001b[0mprint\u001b[0m\u001b[1;33m(\u001b[0m\u001b[0mi\u001b[0m \u001b[1;33m+\u001b[0m \u001b[1;34m\":\"\u001b[0m\u001b[1;33m+\u001b[0m \u001b[0mj\u001b[0m\u001b[1;33m)\u001b[0m  \u001b[1;31m###  Dikkat: aralara + koyduk. Ne sonuc aliriz?\u001b[0m\u001b[1;33m\u001b[0m\u001b[1;33m\u001b[0m\u001b[0m\n\u001b[0m",
      "\u001b[1;31mTypeError\u001b[0m: can only concatenate str (not \"int\") to str"
     ]
    }
   ],
   "source": [
    "user = {\n",
    "    \"name\" : \"Daniel\",\n",
    "    \"Surname\" : \"Smith\",\n",
    "    \"age\" : 35\n",
    "}\n",
    "\n",
    "for i, j in user.items():\n",
    "    print(i + \":\"+ j)  ###  Dikkat: aralara + koyduk. Ne sonuc aliriz?"
   ]
  },
  {
   "cell_type": "code",
   "execution_count": 45,
   "metadata": {},
   "outputs": [
    {
     "name": "stdout",
     "output_type": "stream",
     "text": [
      "name : Daniel\n",
      "Surname : Smith\n",
      "age : 35\n"
     ]
    }
   ],
   "source": [
    "user = {\n",
    "    \"name\" : \"Daniel\",\n",
    "    \"Surname\" : \"Smith\",\n",
    "    \"age\" : 35\n",
    "}\n",
    "\n",
    "for i, j in user.items():\n",
    "    print(i , \":\", j)  ###  Dikkat: aralara + koyduk. Ne sonuc aliriz?"
   ]
  },
  {
   "cell_type": "code",
   "execution_count": 46,
   "metadata": {
    "id": "D6SQjnjC0Oc7"
   },
   "outputs": [
    {
     "name": "stdin",
     "output_type": "stream",
     "text": [
      "Aralarda bosluk ile lütfen isim ve soyisimleri giriniz:  goksel bahadir ozlem bahadir elif bahadir\n"
     ]
    },
    {
     "name": "stdout",
     "output_type": "stream",
     "text": [
      "[{'goksel': 'bahadir'}, {'ozlem': 'bahadir'}, {'elif': 'bahadir'}]\n"
     ]
    }
   ],
   "source": [
    "###  task :\n",
    "# kullanicilardan öncelikle isim ve soyisim bilgilerini alacak sekilde bir\n",
    "# kod yazalim. sonrasinda alinan bu girdileri dict formatinda olacak sekilde\n",
    "# isim ve soyisim itemlari yapalim. ve en sonunda da bilgi giris tarih siralamasina\n",
    "# göre bir liste icinde data base simizde muhafaza edelim.\n",
    "\n",
    "girdi = list(map(str, input(\"Aralarda bosluk ile lütfen isim ve soyisimleri giriniz: \").split()))\n",
    "\n",
    "new = []\n",
    "new2 = []\n",
    "\n",
    "counter = 0\n",
    "database = []         ## Not bu kod ile tüm isim soyisimler ayri bir dictionary\n",
    "\n",
    "\n",
    "for i in girdi:\n",
    "    if counter % 2 == 0:\n",
    "        i = [i]\n",
    "        new.append(i)\n",
    "    else:\n",
    "        i = [i]\n",
    "        new2.append(i)\n",
    "    \n",
    "    counter += 1\n",
    "\n",
    "for i, j in zip(new, new2):      \n",
    "    zipp = dict(zip(i, j))\n",
    "    database.append(zipp)\n",
    "print(database)"
   ]
  },
  {
   "cell_type": "code",
   "execution_count": 47,
   "metadata": {
    "id": "WXFDSfb73a8X"
   },
   "outputs": [
    {
     "name": "stdin",
     "output_type": "stream",
     "text": [
      "Aralarda bosluk ile lütfen isim ve soyisimlerini giriniz:  goksel bahadir ozlem bahadir elif bahadir\n"
     ]
    },
    {
     "name": "stdout",
     "output_type": "stream",
     "text": [
      "[{'goksel': 'bahadir', 'ozlem': 'bahadir', 'elif': 'bahadir'}]\n"
     ]
    }
   ],
   "source": [
    "# Burada da tüm veriler sadece bir dict icerisinde \n",
    "\n",
    "girdi = list(map(str, input(\"Aralarda bosluk ile lütfen isim ve soyisimlerini giriniz: \").split()))\n",
    "\n",
    "new = []\n",
    "new2 = []\n",
    "counter = 0\n",
    "\n",
    "\n",
    "for i in girdi:\n",
    "    if counter % 2 == 0:\n",
    "        new.append(i)\n",
    "    else:\n",
    "        new2.append(i)\n",
    "    counter += 1 \n",
    "\n",
    "zipp = dict(zip(new, new2))\n",
    "database = []\n",
    "database.append(zipp)\n",
    "print(database)"
   ]
  },
  {
   "cell_type": "code",
   "execution_count": null,
   "metadata": {
    "id": "sZRp9tf53bIF"
   },
   "outputs": [],
   "source": []
  },
  {
   "cell_type": "code",
   "execution_count": 52,
   "metadata": {
    "id": "z0Wlxiy40OfO"
   },
   "outputs": [
    {
     "name": "stdout",
     "output_type": "stream",
     "text": [
      "a b\n",
      "c d\n"
     ]
    }
   ],
   "source": [
    "## for döngüsünde birden cok variable ile tuple lar icerisinde gezme:\n",
    "# unpacking\n",
    "\n",
    "liste = [(\"a\",\"b\"), (\"c\", \"d\")]\n",
    "\n",
    "for x, y in liste:\n",
    "    print(x, y)\n",
    "\n",
    "## Dikkat: burada a  ve b ciftlerimizin tuple olmasi sart degildir.\n",
    "# liste icinde tuple degil de liste de olsa, set de olsa python cift olduklarini algilar \n",
    "# sadece dict ler de calismaz (asagida oldugu gibi)"
   ]
  },
  {
   "cell_type": "code",
   "execution_count": 53,
   "metadata": {},
   "outputs": [
    {
     "name": "stdout",
     "output_type": "stream",
     "text": [
      "a\n",
      "c\n"
     ]
    }
   ],
   "source": [
    "liste = [(\"a\",\"b\"), (\"c\", \"d\")]\n",
    "\n",
    "for x, y in liste:\n",
    "    print(x)"
   ]
  },
  {
   "cell_type": "code",
   "execution_count": 49,
   "metadata": {
    "id": "Xmo6mH1erK54"
   },
   "outputs": [
    {
     "name": "stdout",
     "output_type": "stream",
     "text": [
      "('a', 'b')\n",
      "('c', 'd')\n"
     ]
    }
   ],
   "source": [
    "##  sadece x degiskeni kullansak output ne olur?\n",
    "\n",
    "liste = [(\"a\",\"b\"), (\"c\", \"d\")]\n",
    "\n",
    "for x in liste:\n",
    "  print(x)"
   ]
  },
  {
   "cell_type": "code",
   "execution_count": 50,
   "metadata": {},
   "outputs": [
    {
     "name": "stdout",
     "output_type": "stream",
     "text": [
      "1\n",
      "2\n",
      "3\n",
      "4\n",
      "5\n"
     ]
    }
   ],
   "source": [
    "liste = [1, 2, 3, 4, 5]\n",
    "\n",
    "for x in liste:\n",
    "  print(x)"
   ]
  },
  {
   "cell_type": "code",
   "execution_count": null,
   "metadata": {
    "id": "t7TbZNkB_jLj"
   },
   "outputs": [],
   "source": [
    "liste = [{\"a\" : \"b\"}, {\"c\" : \"d\"}] \n",
    "\n",
    "for x, y in liste:\n",
    "  print(x, y)        ##  Burada sadece x kullanirsak o zaman calisir "
   ]
  },
  {
   "cell_type": "code",
   "execution_count": null,
   "metadata": {
    "id": "a7bxr0e70Og-"
   },
   "outputs": [],
   "source": [
    "## tuple larin bu özelligi ile yine tuple larin immutable özelliklerini\n",
    "# birlestirerek biz nerede kullanabiliriz.\n",
    "# Mesela diyelim sirketimizde calisan personelin ocak, temmuz ve aralik maaslarini\n",
    "# personelimizden istiyoruz ve bunlarin sirasi degismeden ve bu bilgilerin kaybolmadan\n",
    "# muhafaza edilmesini istiyoruz. O durumda kullanicidan gelen 3 bilgiyi\n",
    "# aninda tuple yapip dogrudan liste icine append edebiliriz.\n"
   ]
  },
  {
   "cell_type": "code",
   "execution_count": null,
   "metadata": {
    "id": "_xaSadxI0OjL"
   },
   "outputs": [],
   "source": [
    "#######         Operations with for loops\n",
    "\n"
   ]
  },
  {
   "cell_type": "code",
   "execution_count": null,
   "metadata": {
    "id": "3PKwA_Ch0OlA"
   },
   "outputs": [],
   "source": [
    "##  kullaniciya bir islemi kac kez yapmamiz gerektigini soruyoruz\n",
    "# daha sonra o islemi o kadar kez icra ediyoruz.\n",
    "# Mesela telefon alarmi düsünelim. Alarm kac kez tekrar etsin kullaniciya soralim\n",
    "\n",
    "a = input(\"Lütfen alarm saatini giriniz: \")\n",
    "\n",
    "print(f\"Saatiniz {a} olarak ayarlandi\")\n",
    "\n",
    "tekrar = int(input(\"Alarmin kac kez tekrar etmesini istersiniz? \"))\n",
    "\n",
    "for i in range(tekrar):\n",
    "  print(\"Guguk Guguk Guguk\")"
   ]
  },
  {
   "cell_type": "code",
   "execution_count": null,
   "metadata": {
    "id": "Dqzf7ftVECa4"
   },
   "outputs": [],
   "source": [
    "##  Simdi de hepimiz icin sinir bozucu olan Alarm algoritmasi yapalim\n",
    "\n",
    "saat = round(float(input(\"Lütfen alarm saatini (18.05) formatinda giriniz: \")), 2)\n",
    "print(f\"Alarminiz {saat} olarak basariyla kuruldu\")\n",
    "print(f\"Guguk Guguk Guguk, Uyanma Zamani, Saat = {saat}\")\n",
    "\n",
    "tus = input(\"Lütfen bir tusa basiniz: \")\n",
    "\n",
    "while tus == \"ortatus\" or tus == \"erteleme\":  ##  burada and olursa calismaz \n",
    "  saat += 0.05\n",
    "  tepki = \"Guguk Guguk Guguk\"\n",
    "  print(\"{} saat {} \" .format(tepki, round(saat, 2)))\n",
    "  tus = input(\"Lütfen bir tusa basiniz: \")\n",
    "\n",
    "  if tus == \"kapatma\":\n",
    "    print(\"Alarm Kapatildi\")\n",
    "    break"
   ]
  },
  {
   "cell_type": "code",
   "execution_count": null,
   "metadata": {
    "id": "R64mnYjE4VQD"
   },
   "outputs": [],
   "source": [
    "### basit bir hesap makinesi\n",
    "# kullanicidan kullanicinin istedigi miktarda sayi alalim ve\n",
    "# hangi matematiksel islemi yapmak istedigini soralim\n",
    "\n",
    "sayilar = list(map(int, input(\"Lütfen sayi giriniz: \").split()))\n",
    "print(f\"Girdiginiz sayilar: {sayilar}\")\n",
    "islem = input(\"Lütfen yapmak istediginiz islemi giriniz: \")\n",
    "bos = 1\n",
    "\n",
    "\n",
    "for i in sayilar:\n",
    "  if islem == \"*\":\n",
    "    bos *= i\n",
    "    \n",
    "  elif islem == \"+\":  ## Not burada islem + - olunca bos degiskeni 0 olmasi gerekir\n",
    "    bos += i           #  nasil yapabiliriz ??\n",
    "     \n",
    "  elif islem == \"/\":\n",
    "    bos /= i\n",
    "    \n",
    "  elif islem == \"-\":\n",
    "    bos -= i\n",
    "  elif islem == \"**\":\n",
    "    bos **= i\n",
    "  else:\n",
    "    print(\"Hatali giris yaptiniz üzgünüz!!!\")\n",
    "\n",
    "print(bos)"
   ]
  },
  {
   "cell_type": "code",
   "execution_count": null,
   "metadata": {
    "id": "0YuADsG4OwPB"
   },
   "outputs": [],
   "source": [
    "\n",
    "  "
   ]
  },
  {
   "cell_type": "code",
   "execution_count": null,
   "metadata": {
    "id": "Uqe7_fXQOwRk"
   },
   "outputs": [],
   "source": []
  },
  {
   "cell_type": "code",
   "execution_count": null,
   "metadata": {
    "id": "lqyZPYREIXht"
   },
   "outputs": [],
   "source": [
    "# derste yaptigimiz basit carpim tablosu\n",
    "\n",
    "sayi = int(input(\"Lütfen bir sayi giriniz: \"))\n",
    "\n",
    "for i in range(11):\n",
    "  print(f\"{sayi} * {i} = {sayi * i}\")\n",
    "\n",
    "  "
   ]
  },
  {
   "cell_type": "code",
   "execution_count": null,
   "metadata": {
    "id": "tE5Wsd4cIXmG"
   },
   "outputs": [],
   "source": [
    "# derste yaptigimiz basit carpim tablosu\n",
    "# formatlama methodu ile\n",
    "\n",
    "sayi = int(input(\"Lütfen sayi giriniz: \"))\n",
    "\n",
    "for i in range(11):\n",
    "  print(\"{} x {} = \" .format(sayi, i), sayi * i)"
   ]
  },
  {
   "cell_type": "code",
   "execution_count": null,
   "metadata": {
    "id": "7JbmTGhSIXrl"
   },
   "outputs": [],
   "source": [
    "####  yari piramit:\n",
    "\n",
    "sayi = int(input(\"Lütfen bir sayi giriniz: \"))\n",
    "\n",
    "for i in range(1, sayi +1):\n",
    "  print(str(i) * i)"
   ]
  },
  {
   "cell_type": "code",
   "execution_count": null,
   "metadata": {
    "id": "JLSXUgtJbeSs"
   },
   "outputs": [],
   "source": [
    "##  stringlerin formatlama yöntemlerini hatirlayalim:\n",
    "\n",
    "# 1:   Aritmetik operatörler ile formatlama(yukarida yaptigimiz gibi)\n",
    "#      \"*\" ve \"+\" isaretleri birden cok stringi birbirine concat yapar\n",
    "# 2:   f formating ile formatlama\n",
    "# 3:   .format ile formatlama"
   ]
  },
  {
   "cell_type": "code",
   "execution_count": null,
   "metadata": {
    "id": "LgIsd6UlIXub"
   },
   "outputs": [],
   "source": [
    "#####  13. session Kahoot\n",
    "condition = (3 > 1) and (1 < 1)\n",
    "\n",
    "if \"condition\":  ##  string icinde dikkat\n",
    "  print(\"It works\")\n",
    "else:\n",
    "  print(\"Something is wrong\")"
   ]
  },
  {
   "cell_type": "code",
   "execution_count": null,
   "metadata": {
    "id": "MHn81sFmIXwJ"
   },
   "outputs": [],
   "source": [
    "condition = (3 > 1) and (-1 < 1)\n",
    "\n",
    "if condition: \n",
    "  print(\"It works\")\n",
    "else:\n",
    "  print(\"Something is wrong\")"
   ]
  },
  {
   "cell_type": "code",
   "execution_count": null,
   "metadata": {
    "id": "Hzm1MR9QIXx4"
   },
   "outputs": [],
   "source": [
    "condition = (3 > 1) and (1 < 1)\n",
    "\n",
    "if [\"condition\"]:  ##  liste icinde dikkat\n",
    "  print(\"It works\")\n",
    "else:\n",
    "  print(\"Something is wrong\")"
   ]
  },
  {
   "cell_type": "code",
   "execution_count": null,
   "metadata": {
    "id": "aZa1CG0zIX0I"
   },
   "outputs": [],
   "source": [
    "condition = (3 > 1) and (0 < 1)\n",
    "\n",
    "if not condition:    ### not condition\n",
    "  print(\"It works\")\n",
    "else:\n",
    "  print(\"Something is wrong\")"
   ]
  },
  {
   "cell_type": "code",
   "execution_count": null,
   "metadata": {
    "id": "o91nSghbIX-B"
   },
   "outputs": [],
   "source": [
    "## range func calisma prensibi:\n",
    "\n",
    "# range(start, stop, step) seklindedir.\n",
    "\n",
    "## Önemli: eger parantez icerisinde tek bir rakam görürsek bu stopdur. range(10) gibi\n",
    "\n",
    "# listelerde ve stringler de ise bu durum farkli idi. liste[1] seklinde tek rakam\n",
    "# gördügümüzde bu sadece start oluyordu. liste[1: 5] ise start ve stop du.\n",
    "\n",
    "# eger range icerisinde range(1, 11) seklinde 2 rakam görürsek bu start ve stop olur\n",
    "# 3 rakam görürsek bu da start stop ve step olur.\n",
    "\n",
    "a = list(range(1, 20, 2))  ## stop ayni listeler gibi -1 olarak calisir\n",
    "\n",
    "print(a)"
   ]
  },
  {
   "cell_type": "code",
   "execution_count": null,
   "metadata": {
    "id": "bYw1AKvFIYCd"
   },
   "outputs": [],
   "source": [
    "# peki range func da da negativ step var midir?\n",
    "##  var ise nasil calisir ??\n",
    "\n",
    "print(*range(10, 1, -1))     ###  vvvvvvvvvvvv"
   ]
  },
  {
   "cell_type": "code",
   "execution_count": null,
   "metadata": {
    "colab": {
     "base_uri": "https://localhost:8080/"
    },
    "id": "X7OTPDQ3hh3z",
    "outputId": "57222a14-5db8-4f11-ac57-1246e8b58d78"
   },
   "outputs": [
    {
     "name": "stdout",
     "output_type": "stream",
     "text": [
      "[]\n"
     ]
    }
   ],
   "source": [
    "### Attention:\n",
    "# Burada önemli olan husus sudur:  Biz parantez icerisinde 1 yazdik ama \n",
    "# buna ragmen output da 1 rakamini göremiyoruz.\n",
    "# Bunun sebebi: calisma prensibi olarak stop -1 olarak calismasidir.\n",
    "# Bu demek oluyor ki, hangi yönde gidersek gidelim stop dan bir önce duruyoruz\n",
    "\n",
    "# Burada dikkat etmemiz gereken ikinci husus ise sudur:\n",
    "\n",
    "a = [1, 2, 3, 4, 5, 6]\n",
    "\n",
    "print(a[::-1])\n",
    "\n",
    "# Dikkat edersek listelerde negativ step kullandigimizda ilk eleman 6 ve son eleman\n",
    "# ise 1 dir. Yani ilk eleman en sagdaki, son eleman da en soldaki elemandir.\n",
    "\n",
    "# Ancak range de ki ilk ve son elemana baktigimizda bu durumun farkli oldugunu görürüz.\n",
    "# range de ilk eleman yine en soldaki, son eleman yine en sagdaki elemandir.\n",
    "# Bunun sebebi sudur: \n",
    "\n",
    "# Burada listeyi sadece tersten yazdirdik. Eger listede negatif slayslama yapmak isteseydik\n",
    "# Bu durumda yine elemanlarin yerini degistirmek zorunda kalacaktik\n",
    "\n",
    "# örnegin asagidaki kod bos liste döndürür\n",
    "\n",
    "a = [1, 2, 3, 4, 5, 6]\n",
    "\n",
    "print(a[0:5:-1])  "
   ]
  },
  {
   "cell_type": "code",
   "execution_count": null,
   "metadata": {
    "id": "9sngM0U0IYEY"
   },
   "outputs": [],
   "source": []
  },
  {
   "cell_type": "code",
   "execution_count": null,
   "metadata": {
    "id": "jL4N3J8ZIYGm"
   },
   "outputs": [],
   "source": [
    "##  *  asteriks'in range haricinde kullandigimizda nasil calisir?\n",
    "#  iterable lar ile kullandigimizda, iterable' i elemanlarina böler:\n",
    "# peki iterable larda nasil calisir ona bakalim \n",
    "\n",
    "\n",
    "\n",
    "print(*[\"ankara\", \"a\", \"b\", \"c\"])\n",
    "\n",
    "print(*(*\"ankara\", \"1\", \"2\", \"3\"))  ## burada cift yildiz var\n",
    "\n",
    "print(type(* [1]))  # * kullandigimizda veri tipi verinin orjinal tipi olur\n",
    "\n",
    "## Dikkat: biz bir string in elemanlarini list veya tuple func lari ile\n",
    "# elemanlarina ayirdigimizda, o elemanlari tek tek kullanabiliyor ve\n",
    "# üzerlerinde islem yapabiliyorduk.\n",
    "#  * kullandigimizda da yine elemanlari tek tek baska bir islem icin kullanabilir miyiz?? "
   ]
  },
  {
   "cell_type": "code",
   "execution_count": null,
   "metadata": {
    "id": "3WdinLHnIYIi"
   },
   "outputs": [],
   "source": [
    "# dict lerde yildiz kullanirsak ne aliriz??\n",
    "\n",
    "dictim = {\"a\" : \"2\", \"b\" : \"4\"}\n",
    "\n",
    "print(*dictim)"
   ]
  },
  {
   "cell_type": "code",
   "execution_count": null,
   "metadata": {
    "id": "MuHiu7HbIYKr"
   },
   "outputs": [],
   "source": [
    "###  zip func calisma prensibi:\n",
    "\n",
    "# fermuar gibi calisir ve 2 iterable'in elemanlarini karsilikli eslestirir.\n",
    "\n",
    "# iterable larin eleman sayilari esit olmak zorunda degildir.\n",
    "\n",
    "# Dikkat: zip func da range gibi ketum functionlardandir. O nedenle cözmek gerekir\n",
    "# (for ile, *  ile, list, tuple, set vb ile)\n",
    "\n",
    "# Dikkat: zip() func icerisine sinirsiz sayida arguman alabilir. Sadece 2 tane iterable'i\n",
    "# zip yapmak sart degildir. Alt hücrelerde örneklerini yapacagiz\n",
    "# Yani bu argumanlar birlestirmek \n",
    "# istedigimiz farkli iterable'larin variable isimleridir. Yada direkt olarak zip func icerisine\n",
    "# iterable larin kendisini de yazabiliriz. Bunun örnegi bir alt hücrede\n",
    "\n",
    "a = [\"a\", \"b\", \"c\", \"d\", \"e\"]\n",
    "\n",
    "b = (1, 2, 3, 4, 5)\n",
    "\n",
    "c = set(zip(a, b))\n",
    "\n",
    "print(c)\n",
    "\n",
    "# Burada dikkat etmemiz gereken husus:\n",
    "# Zip ile ürettigimiz tuple lari daha sonra teker teker alip baska bir yerde \n",
    "# kullanma sansimiz var midir ??"
   ]
  },
  {
   "cell_type": "code",
   "execution_count": null,
   "metadata": {
    "id": "lj_4lopIAEHT"
   },
   "outputs": [],
   "source": [
    "# parantez icerisinde direkt iterable lari yazma\n",
    "\n",
    "x = list(zip([1, 2, 3], (\"a\", \"b\", \"c\")))       \n",
    "\n",
    "print(x)"
   ]
  },
  {
   "cell_type": "code",
   "execution_count": null,
   "metadata": {
    "id": "E0hEl-1VwPs2"
   },
   "outputs": [],
   "source": []
  },
  {
   "cell_type": "code",
   "execution_count": null,
   "metadata": {
    "id": "v0lfggS1wP2n"
   },
   "outputs": [],
   "source": []
  },
  {
   "cell_type": "code",
   "execution_count": null,
   "metadata": {
    "id": "QvKEWtotAm4c"
   },
   "outputs": [],
   "source": [
    "## Dikkat!!!\n",
    "\n",
    "## peki zip func icerisine iki degil de tek argüman yazarsak ne olur ??\n",
    "# error mu aliriz?\n",
    "\n",
    "x = [1, 2, 3]      \n",
    "\n",
    "print(list(zip(x)))"
   ]
  },
  {
   "cell_type": "code",
   "execution_count": null,
   "metadata": {
    "id": "dOiCA7JkIYM3"
   },
   "outputs": [],
   "source": [
    "## iterable larin tüm elemanlarini degil de, belirli elemanlarini\n",
    "# zip yapabilir miyiz??\n",
    "\n",
    "a = [\"a\", \"b\", \"c\", \"d\", \"e\"]\n",
    "\n",
    "b = (1, 2, 3, 4, 5)\n",
    "\n",
    "c = list(zip(a[1], b[1]))   #  <<<====  Dikkat: Bu sekilde calisir mi?\n",
    "                                ##    asagidaki hücre calisir mi?\n",
    "print(c)"
   ]
  },
  {
   "cell_type": "code",
   "execution_count": null,
   "metadata": {
    "id": "1UOa9ymu-bh8"
   },
   "outputs": [],
   "source": [
    "a = [\"a\", \"b\", \"c\", \"d\", \"e\"]\n",
    "\n",
    "b = (1, 2, 3, 4, 5)\n",
    "\n",
    "c = list(zip(a[0:4], b[0:4]))   \n",
    "                               \n",
    "print(c)"
   ]
  },
  {
   "cell_type": "code",
   "execution_count": null,
   "metadata": {
    "id": "8XwCvHEDD276"
   },
   "outputs": [],
   "source": [
    "### Task:\n",
    "# Diyelim ki iki iterable'i zipledik ama su an icin bizim zipledigimiz \n",
    "# iterable larin ürettigi tüm tuple lar bize lazim degil. Su an icin sadece\n",
    "# her bir iterable' in cift veya tek sayili elemanlarinin ürettigi tuple lar bize lazim ve \n",
    "# bunlari cekip almamiz gerekiyor. nasil yapariz?\n",
    "\n",
    "# Mesela söyle düsünelim. asagidaki iterable larda clarusway ögrenci no ve notlari \n",
    "# yaziyor. ve biz bunlari tek sayili ögrenci notlari ve cift sayili ögrenci notlari\n",
    "# diye ayiracagiz\n",
    "\n",
    "ögrenci = [\"1490\", \"1491\", \"1492\", \"1493\", \"1494\", \"1495\", \"1496\"]\n",
    "\n",
    "notlar = (80, 85, 83, 75, 90, 79, 60)\n",
    "\n",
    "counter = 0\n",
    "\n",
    "for i, j in zip(ögrenci, notlar):\n",
    "  if counter % 2 == 0:   ##  >>>   bu cift sayili olanlari üretir\n",
    "    print(i, \":\", j)\n",
    "  counter += 1"
   ]
  },
  {
   "cell_type": "code",
   "execution_count": null,
   "metadata": {
    "id": "pXl_nkVeBWY8"
   },
   "outputs": [],
   "source": [
    "##  dikkat!!!\n",
    "# zip func ile sadece i degiskeni kullanirsak ne output aliriz?\n",
    "# asagidaki hücrede oldugu gibi i ve j kullanirsak output ne olur ??\n",
    "\n",
    "# !!!!!!    outputlarin veri tiplerine Dikkat\n",
    "\n",
    "a = [\"a\", \"b\", \"c\", \"d\", \"e\"]\n",
    "\n",
    "b = (1, 2, 3, 4, 5)\n",
    "\n",
    "for i in zip(a, b):\n",
    "  print(i)"
   ]
  },
  {
   "cell_type": "code",
   "execution_count": null,
   "metadata": {
    "id": "xXRfVbg5-bkD"
   },
   "outputs": [],
   "source": [
    "a = [\"a\", \"b\", \"c\", \"d\", \"e\"]\n",
    "\n",
    "b = (1, 2, 3, 4, 5)\n",
    "\n",
    "for i, j in zip(a, b):\n",
    "  print(i, j)"
   ]
  },
  {
   "cell_type": "code",
   "execution_count": null,
   "metadata": {
    "id": "juOUu7wl-bn9"
   },
   "outputs": [],
   "source": [
    "# zip de ikiden fazla degisken calisir mi?\n",
    "\n",
    "a = [\"a\", \"b\", \"c\", \"d\", \"e\"]\n",
    "\n",
    "b = (1, 2, 3, 4, 5)\n",
    "\n",
    "c= {\"ben\", \"sen\", \"o\", \"biz\", \"siz\"}\n",
    "\n",
    "print(*zip(a, b, c))"
   ]
  },
  {
   "cell_type": "code",
   "execution_count": null,
   "metadata": {
    "id": "qI1Mwfd1-bp2"
   },
   "outputs": [],
   "source": [
    "###  Dikkat: zip func tek seferlik output verir ve sonra icerisi bosalir demistik.\n",
    "# Eger biz tekrar cikti almak istersek zip func i tekrar doldurmamiz gerekir.\n",
    "\n",
    "a = [\"a\", \"b\", \"c\", \"d\", \"e\"]\n",
    "\n",
    "b = (1, 2, 3, 4, 5)\n",
    "\n",
    "zipp = zip(a, b)\n",
    "print(*zipp)\n",
    "print(*zipp)\n",
    "print(zipp)  # asteriks kullanmaz isek ne olur??"
   ]
  },
  {
   "cell_type": "code",
   "execution_count": null,
   "metadata": {
    "id": "i3nFtxolGt0d"
   },
   "outputs": [],
   "source": [
    "a = [\"a\", \"b\", \"c\", \"d\", \"e\"]\n",
    "b = (1, 2, 3, 4, 5)\n",
    "zipp = zip(a, b)\n",
    "\n",
    "for i in zipp:\n",
    "  print(i)\n",
    "\n",
    "print(list(zipp))  ##  BU satir ne döndürür??"
   ]
  },
  {
   "cell_type": "code",
   "execution_count": null,
   "metadata": {
    "id": "sNYOsOHQGt2m"
   },
   "outputs": [],
   "source": [
    "### Bu konulari internette generator ve iterator olarak bulabiliriz\n",
    "# zip func i her doldurusumuz bir generate dir"
   ]
  },
  {
   "cell_type": "code",
   "execution_count": null,
   "metadata": {
    "id": "cYabJ8H9Gt4U"
   },
   "outputs": [],
   "source": [
    "###  Dikkat zip() func dict üretimi icin cok uygundur.\n",
    "# Yani bizim dictlerde ihtiyacimiz olan key value pair lari \n",
    "# zip func otomatik olarak üretir.\n",
    "\n",
    "# Elimizde bir tuple ve bir liste olmasina ragmen bunlari\n",
    "# tek bir komut ile birlestiriyoruz ve daha önemlisi de \n",
    "# dict komutu vasitasi ile outputumuz orijinal bir dict görüntüsünde oluyor  \n",
    "\n",
    "a = [\"a\", \"b\", \"c\", \"d\", \"e\"]\n",
    "b = (1, 2, 3, 4, 5)\n",
    "zipp = dict(zip(a, b))\n",
    "\n",
    "print(zipp)"
   ]
  },
  {
   "cell_type": "code",
   "execution_count": null,
   "metadata": {
    "id": "9jogGX9XcDX_"
   },
   "outputs": [],
   "source": [
    "##  zip' i string func ile kullanirsak output ne olur??\n",
    "\n",
    "a = [\"a\", \"b\", \"c\", \"d\", \"e\"]\n",
    "b = (1, 2, 3, 4, 5)\n",
    "zipp = dict(zip(a, b))\n",
    "\n",
    "print(zipp)"
   ]
  },
  {
   "cell_type": "code",
   "execution_count": null,
   "metadata": {
    "id": "hUOyzBETcQ6X"
   },
   "outputs": [],
   "source": []
  },
  {
   "cell_type": "code",
   "execution_count": null,
   "metadata": {
    "id": "1xeZ7WdmcRDJ"
   },
   "outputs": [],
   "source": [
    "a = [\"a\", \"b\", \"c\"]\n",
    "b = (1, 2, 3)\n",
    "zipp = str(zip(a, b))\n",
    "\n",
    "print(zipp)"
   ]
  },
  {
   "cell_type": "code",
   "execution_count": null,
   "metadata": {
    "id": "m5PuMxSwcXST"
   },
   "outputs": [],
   "source": []
  },
  {
   "cell_type": "code",
   "execution_count": null,
   "metadata": {
    "id": "9FulUdnVcXXU"
   },
   "outputs": [],
   "source": []
  },
  {
   "cell_type": "code",
   "execution_count": null,
   "metadata": {
    "id": "VB1Ri_DEGt6J"
   },
   "outputs": [],
   "source": [
    "###  derste cözdügümüz task:\n",
    "\n",
    "# Range func ile 0 dan 20 ye kadar bir liste olusturacagiz. \n",
    "# Ve bu listenin tek elemanlarini tek isimli listeye cift elemanlarini cift\n",
    "# isimli listeye atacagiz.\n",
    "# en sonunda da listenin elemanlarini toplayip\n",
    "# her bir listenin elemanlarinin toplamini söyleyecegiz\n",
    "\n",
    "tek = []\n",
    "cift = []\n",
    "\n",
    "for i in range(20):\n",
    "  if i % 2:\n",
    "    tek.append(i)\n",
    "  else:\n",
    "    cift.append(i)\n",
    "\n",
    "print(tek)\n",
    "print(cift)\n",
    "\n",
    "# simdi de listenin elemanlarini toplayalim:\n",
    "\n",
    "tekbos = 0\n",
    "ciftbos = 0\n",
    "\n",
    "for i in tek:\n",
    "  tekbos += i\n",
    "print(f\"Tek sayilarin toplami = {tekbos}\")\n",
    "\n",
    "for i in cift:\n",
    "  ciftbos += i\n",
    "print(f\"Cift sayilarin Toplami = {ciftbos}\")"
   ]
  },
  {
   "cell_type": "code",
   "execution_count": null,
   "metadata": {
    "id": "JgADKhAyGt79"
   },
   "outputs": [],
   "source": [
    "###   Task:\n",
    "\n",
    "#  kullanicidan birden cok sayi aliyoruz. Ve kullanicinin kac adet tek sayi\n",
    "# kac adet cift sayi girdigini tekrar kullaniciya söylüyoruz:\n",
    "\n",
    "# Bu task a baslamadan önce map func integer ve float ile nasil calisir \n",
    "# mantigina bakalim:\n",
    "\n",
    "# öncelikle map() func su sekilde kurulur:\n",
    "\n",
    "# map(func, iterable) ==>> tüm bu yapiya map object denir\n",
    "\n",
    "# yani map object iterable bir eleman alir. eger biz integer gibi\n",
    "# bir veri girersek bu durumda elemanlarina ayiramaz ve hata verir.\n",
    "\n",
    "# peki map() func calismayi ne zaman durdurur?\n",
    "# ayni for döngüsü gibi icerisinde bulunan iterable'in elemanlari son buldugunda\n",
    "#  calismasi son bulur. \n",
    "\n",
    "# map() func ismi mapping den gelmektedir yani eşleme olarak bilinir,\n",
    "#  çünkü yinelenebilir bir girdideki her öğeyi sonuçta yinelenebilir bir şekilde \n",
    "# yeni bir öğeyle eşler. Bunu yapmak için, map() yinelenebilir girdideki \n",
    "# tüm öğelere bir dönüşüm işlevi uygular.\n"
   ]
  },
  {
   "cell_type": "code",
   "execution_count": null,
   "metadata": {
    "id": "MpeMvDnBrWc2"
   },
   "outputs": [],
   "source": [
    "#  map()  func'nin calisma prensibini anlamak icin for döngüsü\n",
    "# ile kiyas edelim.\n",
    "\n",
    "# elimizde bir liste olsun ve biz bu listenin her bir elemaninin karesini \n",
    "# alarak yeni bir liste olusturalim\n",
    "\n",
    "liste = [1, 2, 3, 4, 5]\n",
    "bos = []\n",
    "\n",
    "for i in liste:\n",
    "  i = i ** 2\n",
    "  bos.append(i)\n",
    "\n",
    "print(bos)"
   ]
  },
  {
   "cell_type": "code",
   "execution_count": null,
   "metadata": {
    "id": "jIp2T9xtiKkv"
   },
   "outputs": [],
   "source": [
    "##  simdi ayni islevi map() ile yapalim.\n",
    "\n",
    "def kare(sayi):\n",
    "  return sayi ** 2\n",
    "\n",
    "liste = [1, 2, 3, 4, 5]\n",
    "\n",
    "a = map(kare, liste) \n",
    "\n",
    "print(list(a))"
   ]
  },
  {
   "cell_type": "code",
   "execution_count": null,
   "metadata": {
    "id": "Ncmnzqg7rWfy"
   },
   "outputs": [],
   "source": [
    "# Not: eger map func'in sonunda split kullanmaz isek girdigimiz her bir \n",
    "# karakteri tek tek ayirir. Örnegin:\n",
    "\n",
    "sayi = list(map(int, input(\"Lütfen bir sayi giriniz: \" )))\n",
    "\n",
    "print(sayi)\n",
    "\n",
    "\n"
   ]
  },
  {
   "cell_type": "code",
   "execution_count": null,
   "metadata": {
    "id": "IzjAYXi_kJmU"
   },
   "outputs": [],
   "source": [
    "# map() func'nin split ile calisma prensibi\n",
    "\n",
    "sayi = list(map(int, input(\"Lütfen birden cok sayi giriniz: \" ).split()))\n",
    "\n",
    "print(sayi)\n",
    "\n",
    "# Burada dikkat etmemiz gereken husus nedir?\n",
    "# split() methodunu tam olarak nereye yazacagimiz hususudur.\n",
    "\n",
    "\n",
    "# Buradaki mantik su sekilde isler. map() methodu bizim verimizi tek tek\n",
    "# ayirmadan önce bizim kendi istegimize göre ayirmamiz gerekir.\n",
    "# Bu nedenle  split() methodunu direkt input verisinin pesine yazariz ki\n",
    "\n",
    "# verimiz henüz map() islemine tabi tutulmadan ayirma islemini kendimiz\n",
    "# gerceklestiririz\n",
    "\n",
    "# eger map() func parantezi disina yazarsak error aliriz"
   ]
  },
  {
   "cell_type": "code",
   "execution_count": null,
   "metadata": {
    "id": "v82iarPjkJoy"
   },
   "outputs": [],
   "source": [
    "\n",
    "## Dikkat: Normal de input str cikti üretir. Biz burada input alir almaz\n",
    "# verimizi map func ile int yapiyoruz.\n",
    "\n",
    "# Burada dikkat etmemiz gereken husus sudur ve önemlidir:\n",
    "# normalde biz asagida oldugu gibi map func icerisinde int bir deger yazarsak\n",
    "# hata aliriz demistik\n",
    "\n",
    "# a = map(int, 123456)\n",
    "\n",
    "# print(a)\n",
    "\n",
    "\n",
    "\n",
    "# map burada su sekilde calisir:\n",
    "\n",
    "# user'in girdigi string veri tipindeki sayisal degeri alir,\n",
    "# iterable oldugu icin elemanlarina ayirir ve her bir elemani integer'a\n",
    "# cevirir. Ve son olarak da biz liste istedigimiz icin bunu liste icerisine atar.\n",
    "\n",
    "\n",
    "\n",
    "# asagidaki hücrede verilerin type'ina bakalim"
   ]
  },
  {
   "cell_type": "code",
   "execution_count": null,
   "metadata": {
    "id": "m8tWKIgbGt9y"
   },
   "outputs": [],
   "source": [
    "sayi = list(map(int, input(\"Lütfen birden cok sayi giriniz: \" ).split()))\n",
    "\n",
    "print(type(sayi[0]))  #  user'in girdigi rakamin 0. index numarasinin veri tipi"
   ]
  },
  {
   "cell_type": "code",
   "execution_count": null,
   "metadata": {
    "id": "2I_sBe3R-bte"
   },
   "outputs": [],
   "source": [
    "# map func float ile nasil calisir?\n",
    "\n",
    "sayi = list(map(float, input(\"Lütfen bir sayi giriniz: \" )))\n",
    "\n",
    "print(sayi)"
   ]
  },
  {
   "cell_type": "code",
   "execution_count": null,
   "metadata": {
    "id": "u_9qsG4q-bvG"
   },
   "outputs": [],
   "source": []
  },
  {
   "cell_type": "code",
   "execution_count": null,
   "metadata": {
    "id": "FbP-POYI-bxU"
   },
   "outputs": [],
   "source": [
    "## Simdi task imiza geri dönelim:\n",
    "\n",
    "###   Task:\n",
    "\n",
    "#  kullanicidan birden cok sayi aliyoruz. Ve kullanicinin kac adet tek sayi\n",
    "# kac adet cift sayi girdigini tekrar kullaniciya söylüyoruz:\n",
    "\n",
    "# Not: Bu task'in iki farkli cözüm methodu vardir.\n",
    "\n",
    "# önce 1. method ile cözelim: (counter kullanarak)\n",
    "\n",
    "sayilar = list(map(int, input(\"Lütfen birden cok sayi giriniz: \").split() ))\n",
    "\n",
    "countertek = 0\n",
    "countercift = 0\n",
    "\n",
    "for i in sayilar:\n",
    "  if i % 2:\n",
    "    countertek += 1\n",
    "  else:\n",
    "    countercift += 1\n",
    "\n",
    "print(\"{} adet tek sayi girdiniz\" .format(countertek))\n",
    "\n",
    "print(\"{} adet cift sayi girdiniz\" .format(countercift))"
   ]
  },
  {
   "cell_type": "code",
   "execution_count": null,
   "metadata": {
    "id": "0fX-M9hEfinr"
   },
   "outputs": [],
   "source": [
    "## ikinci methodumuz ise append() ve len() methodu ile cözüm yoludur:\n",
    "\n",
    "sayilar = list(map(int, input(\"Lütfen birden cok sayi giriniz: \").split() ))\n",
    "\n",
    "tekliste = []\n",
    "ciftliste = []\n",
    "\n",
    "for i in sayilar:\n",
    "  if i % 2:\n",
    "    tekliste.append(i)\n",
    "  else:\n",
    "    ciftliste.append(i)\n",
    "\n",
    "print(f\"{len(tekliste)} adet tek sayi girdiniz\")\n",
    "\n",
    "print(f\"{len(ciftliste)} adet cift sayi girdiniz\")"
   ]
  },
  {
   "cell_type": "code",
   "execution_count": null,
   "metadata": {
    "id": "1j2-6xYkfiqI"
   },
   "outputs": [],
   "source": [
    "## sum()  func kullanimi:\n",
    "\n",
    "# calisma prensibi:\n",
    "\n",
    "# sum(iterable, start)  seklinde calisir.\n",
    "\n",
    "# buradaki iterable dan kasit numeric bir iterable olmasi gerektigidir.\n",
    "# Bu func,  numeric olmayan degerleri reddeder. Ama ilerleyen \n",
    "# hücrelerde buna bir care arayacagiz\n",
    "\n",
    "# start ifadesindeki anlam ise indexleme ve slicing deki start stop ve step den\n",
    "# tamamen farklidir. sum() daki start kelimesi toplama islemine baslarken\n",
    "# baslangic degerini kac kabul ettigimizdir. yani 1, 2, 3 sayilarini topladigimizda\n",
    "# toplam 6 dir. eger biz baslangic degerini 4 kabul edersek. sonuc 4 + 6 = 10 eder.\n",
    "\n",
    "a = sum([1,2,3,4,5], 0)  #  start yazmaz isek default 0 dir\n",
    "\n",
    "print(a)\n",
    "\n",
    "# Not: sum() icerisinde tek bir iterable kullanilmalidr. Bu nedenle tuple\n",
    "# kullanmak istersek parantez icerisinde kullanmamiz gerekir.\n",
    "\n",
    "# Simdi sum func' i biraz inceleyelim:\n"
   ]
  },
  {
   "cell_type": "code",
   "execution_count": null,
   "metadata": {
    "id": "0Pj6MAnQkA_v"
   },
   "outputs": [],
   "source": [
    "# Not: mesela bos bir liste kullanirsak sum() icerisinde;\n",
    "\n",
    "# Bu durumda sonuc bos liste dönmez. Bu func sayilar ile is yaptigi icin \n",
    "# sonuc 0 olur.\n",
    "\n",
    "a = sum([])\n",
    "\n",
    "print(a)"
   ]
  },
  {
   "cell_type": "code",
   "execution_count": null,
   "metadata": {
    "id": "3AsVid7SkBCP"
   },
   "outputs": [],
   "source": [
    "# sum hangi collection type larda calisir?\n",
    "# liste evet\n",
    "# tuple evet\n",
    "# set evet\n",
    "# dict ? (asagidaki hücrede bakalim)\n",
    "\n",
    "a = sum({1,2,3,4,5}, 0)\n",
    "\n",
    "print(a)"
   ]
  },
  {
   "cell_type": "code",
   "execution_count": null,
   "metadata": {
    "id": "YT4gVtuEkBEJ"
   },
   "outputs": [],
   "source": [
    "# dictlerde sum() func kullanmanin birkac yöntemi vardir:\n",
    "# eger items yada values keys gibi parametreler yazmaz isek ve\n",
    "# bizim keylerimizin hepsi sayisal deger ise o zaman hata vermeden\n",
    "# default olarak sadece keyleri toplar.\n",
    "\n",
    "\n",
    "# ama eger tüm value larimiz sayisal deger ise  o zaman sadece value larda toplanabilir\n",
    "\n",
    "\n",
    "# Ancak item()  lara gelince is biraz degisir. item in elemamlari olan\n",
    "# value ve keyler bir tuple icerisinde  birlestirildiginden burada toplama\n",
    "# islemi gerceklesmez ve hata verir. Yani bu islemi tek satir da yapamayiz.\n",
    "# Ancak burada söyle bir alternatif yol üretebiliirz:\n",
    "\n",
    "# bir satir da keyler toplanir. Diger satirda value lar ve bunlar\n",
    "# 3. satirda birlestirilir\n",
    "\n",
    "a = {1 : 10, 2 : 20, 3 : 30, 4 : 40, 5 : 50}\n",
    "\n",
    "x = sum(a.keys())\n",
    "y = sum(a.values()) \n",
    "z = x + y\n",
    "\n",
    "print(z)"
   ]
  },
  {
   "cell_type": "code",
   "execution_count": null,
   "metadata": {
    "id": "nwijnfcCkBGH"
   },
   "outputs": [],
   "source": [
    "#   sum()  func sayisal olmayan degerleri reddeder demistik.\n",
    "# yani sum ile string icerisinde sayisal degerlerde yazsa biz bu stringin \n",
    "# elemanlarini toplayamayiz.\n",
    "\n",
    "# peki bizlere verilen string bir degerin icerisindeki rakamlari toplamak\n",
    "# zorunda kalirsak neler yapabilirz ?? Cevabimiz asagida var.\n",
    "# ama biraz beyin firtinasi yapalim\n",
    "\n",
    "string = \"123456789\" # bu string icerisindeki degerleri sum ile toplayalim\n",
    "\n"
   ]
  },
  {
   "cell_type": "code",
   "execution_count": null,
   "metadata": {
    "id": "UI-sLatrfisL"
   },
   "outputs": [],
   "source": []
  },
  {
   "cell_type": "code",
   "execution_count": null,
   "metadata": {
    "id": "QIA5aa-lst5w"
   },
   "outputs": [],
   "source": []
  },
  {
   "cell_type": "code",
   "execution_count": null,
   "metadata": {
    "id": "CATC_Mm1ssTJ"
   },
   "outputs": [],
   "source": []
  },
  {
   "cell_type": "code",
   "execution_count": null,
   "metadata": {
    "id": "7rGCV2HEssXT"
   },
   "outputs": [],
   "source": []
  },
  {
   "cell_type": "code",
   "execution_count": null,
   "metadata": {
    "id": "wwMTCgLqfiuC"
   },
   "outputs": [],
   "source": [
    "# birinci yöntem \n",
    "\n",
    "string = \"123456789\"\n",
    "\n",
    "toplam = sum(map(int, string))   ## Dikkat burada map'i listeye yada tuple'a \n",
    "                                  # cevirmeye ihtiyac kalmadi\n",
    "print(toplam)"
   ]
  },
  {
   "cell_type": "code",
   "execution_count": null,
   "metadata": {
    "id": "p7JIVitefiv1"
   },
   "outputs": [],
   "source": [
    "# Ikinci yöntem\n",
    "\n",
    "string = \"123456789\" \n",
    "toplam = 0\n",
    "\n",
    "for i in string:\n",
    "  i = int(i)\n",
    "  toplam += i\n",
    "print(toplam)"
   ]
  },
  {
   "cell_type": "code",
   "execution_count": null,
   "metadata": {
    "id": "zMdjqRq_twDC"
   },
   "outputs": [],
   "source": []
  },
  {
   "cell_type": "code",
   "execution_count": null,
   "metadata": {
    "id": "7w2g1RnhtwFd"
   },
   "outputs": [],
   "source": []
  },
  {
   "cell_type": "code",
   "execution_count": null,
   "metadata": {
    "id": "4qft245Gfixg"
   },
   "outputs": [],
   "source": [
    "##########         14. session        ###############"
   ]
  },
  {
   "cell_type": "code",
   "execution_count": null,
   "metadata": {
    "id": "aa7Aj4PBfi1q"
   },
   "outputs": [],
   "source": [
    "### derste cözdügümüz Task:\n",
    "# 1 ile 74 arasindaki sayilarin toplamini veren kodu yaziniz:\n",
    "# counter methodu ile cözüm\n",
    "\n",
    "counter = 0\n",
    "\n",
    "for i in range(1,75):\n",
    "  counter += i\n",
    "print(counter)"
   ]
  },
  {
   "cell_type": "code",
   "execution_count": null,
   "metadata": {
    "id": "hcbybAo7fi3o"
   },
   "outputs": [],
   "source": [
    "# uzun cözüm, iki adet for döngüsü\n",
    "\n",
    "bos = []\n",
    "\n",
    "for i in range(1,75):\n",
    "  bos.append(i)\n",
    "\n",
    "counter = 0\n",
    "for i in bos:\n",
    "  counter += i\n",
    "\n",
    "print(counter)"
   ]
  },
  {
   "cell_type": "code",
   "execution_count": null,
   "metadata": {
    "id": "prZUere9-bzR"
   },
   "outputs": [],
   "source": [
    "#######   nested for loop    #########"
   ]
  },
  {
   "cell_type": "code",
   "execution_count": null,
   "metadata": {
    "id": "5lNhNmN9da0c"
   },
   "outputs": [],
   "source": [
    "##  normal de for döngüsü yapilari su sekildedir:\n",
    "\n",
    "for variable in iterable:\n",
    "  body\n",
    "\n",
    "# nested for döngülerinde ise en distaki for döngüsünün body si \n",
    "# alt kisimda bulunan for döngüsüdür\n",
    "\n",
    "for variable1 in iterable1:\n",
    "  for variable2 in iterable2:\n",
    "    body\n"
   ]
  },
  {
   "cell_type": "code",
   "execution_count": null,
   "metadata": {
    "id": "P0wC9raTda2u"
   },
   "outputs": [],
   "source": [
    "## if yapilari genel calisma prensibi nasildi?\n",
    "# i degiskenimiz yazmis oldugumuz iterable icerisine girer ve bu iterable\n",
    "# icerisinde sadece bir döngü yapar. Ve sonra body kismina gecer, body nin ise tamamini \n",
    "# calistirir. \n",
    "# yani body nin tamamini calistirdigi icin altta bulunan iterable in tüm elemanlari \n",
    "# döndürülür, daha sonra tekrar üstteki for döngüsüne dönüs yapilir.  \n",
    "\n",
    "a = [\"1 \", \"2 \", \"3 \", \"4 \"]  ### Burada output nasil olur?\n",
    "\n",
    "b = [\"bir\", \"iki\", \"üc\", \"dört\"]\n",
    "\n",
    "for i in a:\n",
    "  for ii in b:\n",
    "    print(i + ii)    # vvv  "
   ]
  },
  {
   "cell_type": "code",
   "execution_count": null,
   "metadata": {
    "id": "uyB6R6iEwAMi"
   },
   "outputs": [],
   "source": [
    "# nested for loop larda kac adet output umuz olacagini, iki degiskenimizin value \n",
    "# sayilarini carparak hesap edebiliriz.\n",
    "\n",
    "\n",
    "# yani asagidaki sekilde degerlendirdigimizde, sagdaki tüm degerleri soldaki\n",
    "# ilk elemana teker teker assign eder, daha sonra soldaki ikinci elemana \n",
    "# assign islemine gecer\n",
    "\n",
    "# [\"1 \", \"2 \", \"3 \", \"4 \"] <=====> [\"bir\", \"iki\", \"üc\", \"dört\"] "
   ]
  },
  {
   "cell_type": "code",
   "execution_count": null,
   "metadata": {
    "id": "CrWc4Rrkda4p"
   },
   "outputs": [],
   "source": [
    "## nested for loop lari daha iyi anlamak  ve nested for yapisinin \n",
    "# nasil calistigini aklimizda daha iyi tutabilmek icin söyle bir örnek düsünelim.\n",
    "\n",
    "# ilkokullarda ortaokullarda ve listeler de 1 den 11 e kadar sinif\n",
    "# numaralari vardir. Ve her bir sinif kendi icerisinde a  b c d e f g\n",
    "# seklinde harflendirilmistir. Iste bu sinif numaralari ve harflendirme\n",
    "# islemini tek bir kod ile yapmaya calisalim.\n",
    "\n",
    "# Burada dikkat etmemiz gereken husus, hangi verinin önce return ettirilmesi istiyorsak\n",
    "# o veriyi üstteki yani ilk for döngüsü icerisine yerlestirmemiz gerekir\n",
    "\n",
    "sinif = [1, 2, 3, 4, 5, 6, 7, 8]\n",
    "\n",
    "harfler = [\"a\", \"b\", \"c\", \"d\", \"e\", \"f\"]\n",
    "\n",
    "for i in sinif:\n",
    "  for ii in harfler:\n",
    "    print(i, ii)"
   ]
  },
  {
   "cell_type": "code",
   "execution_count": null,
   "metadata": {
    "id": "2fKzurmPda6h"
   },
   "outputs": [],
   "source": [
    "## Bir diger örnegimizde su sekildedir:\n",
    "# Her bir araba markasinin a, b, c, d ve suv segmentleri ve\n",
    "# bu segmentlere göre adlandirilmis özel isimleri bulunmaktadir.\n",
    "# araba markalarindan ve modellerinden olusan bir kod yazalim\n",
    "\n",
    "marka = [\"mercedes\", \"bmw\", \"volkswagen\", \"seat\", \"audi\"]\n",
    "\n",
    "model = [\"a\", \"b\", \"c\", \"d\", \"suv\"]\n",
    "\n",
    "for i in marka:\n",
    "  for ii in model:    ### Dikkat: nested for'larda, ayni degisken kullanilmaz\n",
    "    print(i, \":\", ii)"
   ]
  },
  {
   "cell_type": "code",
   "execution_count": null,
   "metadata": {
    "id": "DmhmwwWxiMos"
   },
   "outputs": [],
   "source": []
  },
  {
   "cell_type": "markdown",
   "metadata": {
    "id": "apjLhC-c0LNS"
   },
   "source": [
    "# List Comprehension"
   ]
  },
  {
   "cell_type": "code",
   "execution_count": null,
   "metadata": {
    "id": "jgLr5YXKiMrS"
   },
   "outputs": [],
   "source": [
    "# normal bir for loop yapisi:\n",
    "for item in iterable:\n",
    "  expression(body)   ## yani önce for satiri sonra body"
   ]
  },
  {
   "cell_type": "code",
   "execution_count": null,
   "metadata": {
    "id": "AYoWvq2wiMtg"
   },
   "outputs": [],
   "source": [
    "# list comprehension yapisi ise su sekildedir:\n",
    "\n",
    "[expression for item in iterable]\n",
    "\n",
    "# yani önce body sonra for\n",
    "\n",
    "## Not: Kafa karisikligi olusturmamasi acisindan list comprehension yapisi\n",
    "# kurmanin en kolay yolu; normal for döngüsü siralamasinda yapi kurularak\n",
    "# en son basa dönüp body kismini yazmaktir\n",
    "\n",
    "# normal for loop da, python a öncelikle nerede döngü yapacagini söyleriz\n",
    "# daha sonra ise bu döngü icerisinde ne yapacagini söyleriz.\n",
    "\n",
    "# list comp da ise; önce python a ne yapacagini söyleriz daha sonra\n",
    "# bunu nerede yapacagini söyleriz\n",
    "\n",
    "# list comprehension kullanarak daha az degisken kullanacagimiz icin,\n",
    "# ve bu kullanim sayesinde normal for döngüsüne göre daha az kod yazmamiz gerektiginden \n",
    "# olusturdugumuz programin hizini artirabiliriz"
   ]
  },
  {
   "cell_type": "code",
   "execution_count": null,
   "metadata": {
    "id": "U5fuMVBYiMvX"
   },
   "outputs": [],
   "source": [
    "##  normal for döngülerinde elimizde bos bir liste bulunur ve \n",
    "\n",
    "# biz bu listenin icerisine disaridan attigimiz elemanlar ile doldurururuz\n",
    "\n",
    "# list comprehension da ise listenin icerisindeyiz ve önemli olan sudur\n",
    "\n",
    "# liste icerisine disaridan eleman cekmiyoruz. Liste icerisinde bulunurken\n",
    "\n",
    "#  listenin disina cikmadan for döngüsü calistiriyoruz ve iceride eleman üretiyoruz\n",
    "\n",
    "# expression kismina ne yazdi isek, hepsi listenin elemanlari haline gelir ve\n",
    "\n",
    "# virgüller ile birbirinden ayrilir.\n"
   ]
  },
  {
   "cell_type": "code",
   "execution_count": null,
   "metadata": {
    "id": "k8qX5LP2iMxN"
   },
   "outputs": [],
   "source": [
    "## klasik bir for döngüsünü list comp yapalim\n",
    "\n",
    "bos = []\n",
    "\n",
    "for i in range(8):  ## Dikkat etmemiz gereken husus: Normal for döngülerinde bulunan\n",
    "  bos.append(i)     # noktalama isaretlerini burada kullanmiyoruz.  sadece space yeterli \n",
    "\n",
    "print(bos)    ##  bunu simdi beraber list comp yapalim"
   ]
  },
  {
   "cell_type": "code",
   "execution_count": null,
   "metadata": {
    "id": "-iLl-lnkx-A1"
   },
   "outputs": [],
   "source": []
  },
  {
   "cell_type": "code",
   "execution_count": null,
   "metadata": {
    "id": "cYwrTj-YiMy2"
   },
   "outputs": [],
   "source": [
    "##   Dikkat normal for döngüsünde listenin disarisinda oldugumuz icin, \n",
    "# listenin icerisine eleman eklemek icin append methodu kullanilir.\n",
    "\n",
    "# Ancak list comp' larda listenin icerisinde bulundugumuzdan dolayi,\n",
    "# append kullanmamiza gerek yoktur.\n",
    "\n",
    "# expression kismina, neyi output almak istiyorsak onu yaziyoruz\n",
    "# yani bu kisimda outputumuzu istedigimiz sekilde formüle ediyoruz\n",
    "\n",
    "a = [(i ** 2) / 2 for i in range(8)]\n",
    "\n",
    "print(a)"
   ]
  },
  {
   "cell_type": "code",
   "execution_count": null,
   "metadata": {
    "id": "RQZb0Hw6iM0x"
   },
   "outputs": [],
   "source": []
  },
  {
   "cell_type": "code",
   "execution_count": null,
   "metadata": {
    "id": "3exMaiqwda8a"
   },
   "outputs": [],
   "source": [
    "##  output taki her elemanimizi nasil ayri ayri liste, tuple yada set yapariz?\n",
    "\n",
    "# liste ve set icin sadece i'yi [] icerisine yada {} icerisine almamiz yeterlidir.\n",
    "# ancak tuple yaparken sadece () icerisine almamiz yeterli degildir.\n",
    "# cünkü tek elemanli tuple yapimi farklidir\n",
    "\n",
    "\n",
    "a = [[i] for i in range(10)]\n",
    "\n",
    "print(a)\n",
    "\n",
    "a = [{i} for i in range(10)]\n",
    "\n",
    "print(a)\n",
    "\n",
    "a = [(i,) for i in range(10)]\n",
    "\n",
    "print(a)\n",
    "\n",
    "# a = [tuple(i) for i in range(10)]   ##  Bu sekilde ne output aliriz???\n",
    "\n",
    "# print(a)"
   ]
  },
  {
   "cell_type": "code",
   "execution_count": null,
   "metadata": {
    "id": "LhnT2AgUda-L"
   },
   "outputs": [],
   "source": [
    "# kücük listeler seklinde islem yapmak da mümkündür:\n",
    "# Mesela elimizde iki tane liste var. Biz bu listenin elemanlarini zip ile\n",
    "\n",
    "# birlestirelim. birbirleri ile toplayip ikiye bölelim ve karelerini alalim.\n",
    "# son olarak da hepsini liste icine atip saklayalim\n",
    "\n",
    "# Not burada ayni zamanda round() func kullanimini hatirlayalim\n",
    "\n",
    "a = [1, 2, 3, 4, 5]\n",
    "\n",
    "b = [6, 7, 8, 9, 10]\n",
    "\n",
    "a = [[round(((i + ii) / 2) ** 2, 1)] for i, ii in zip(a, b)]\n",
    "\n",
    "print(a)"
   ]
  },
  {
   "cell_type": "code",
   "execution_count": null,
   "metadata": {
    "id": "4Xr5rIUSda_-"
   },
   "outputs": [],
   "source": [
    "a = [1, 2, 3, 4, 5]\n",
    "\n",
    "b = [6, 7, 8, 9, 10]\n",
    "\n",
    "for i, ii in a, b:  ##  Önemli:  eger burada oldugu gibi iki listenin ismi \n",
    "  print(i, ii)      # zip gibi herhangi bir func yada method kullanmadan yazarsak\n",
    "                    # kodumuz calismayacaktir."
   ]
  },
  {
   "cell_type": "code",
   "execution_count": null,
   "metadata": {
    "id": "1CToZ9rCIYO4"
   },
   "outputs": [],
   "source": [
    "###  if statements ile list comprehension birlesimi:\n",
    "# Bu if yapilarina ternary if condition denir. yani tek satirda if yapilari\n",
    "\n",
    "# Burada yapimiz su sekildedir:\n",
    "\n",
    "#  [ne yapmali?(body)   ne icin ve nerede yapmali?(for)   hangi durumda yapmali(if else) ]\n",
    "\n",
    "# bunu asagidaki örnekle inceleyelim"
   ]
  },
  {
   "cell_type": "code",
   "execution_count": null,
   "metadata": {
    "id": "pIUEAuTKdP83"
   },
   "outputs": [],
   "source": [
    "# elimizde bir liste var. Biz bu listenin elemanlarindan tek sayi olanlarin\n",
    "# karesini almak istiyoruz ve bunu bos bir listede depolamak istiyoruz.\n",
    "# bunu öncelikle normal for döngüsü ile yapalim\n",
    "\n",
    "\n",
    "listem = [10, 11, 12, 13, 14, 15, 16, 17, 18]\n",
    "bos= []\n",
    "for i in listem:\n",
    "  if i % 2: \n",
    "    bos.append(i ** 2)          ## bu yapida bos bir liste atamak ve append kullanmak\n",
    "print(bos)                      # zorundayiz"
   ]
  },
  {
   "cell_type": "code",
   "execution_count": null,
   "metadata": {
    "id": "Fm1BB9Oa4VRo"
   },
   "outputs": [],
   "source": [
    "##  simdi de list comprehension ile yapalim\n",
    "\n",
    "# Dikkat: bir liste icerisinde for if else ve body leri ayni anda kullaniyoruz\n",
    "\n",
    "# ve aralarda hicbir noktalama isareti kulanmiyoruz\n",
    "\n",
    "listem = [10, 11, 12, 13, 14, 15, 16, 17, 18]\n",
    "\n",
    "a = [i ** 2 for i in listem if i % 2]\n",
    "\n",
    "print(a)           \n",
    "\n",
    "#  Bu yapilarda elif yoktur. sadece if ve else vardir\n",
    "\n",
    "# Dikkat: Eger kurdugumuz yapida body, for ve if'in yerlerini degistirir isek,\n",
    "# o zaman kodumuz calismaz.\n",
    "\n",
    "# Dikkat etmemiz gereken bir diger husus sudur:\n",
    "# for döngüsü  body si for un solunda kalan kisimdir.\n",
    "# if döngüsü body si ise if in solunda kalan komple kisimdir.(for da buna dahildir)\n",
    "\n",
    "\n",
    "\n",
    "# yani buradan cikan sonuc sudur: \n",
    "# normal yapilarda hem for loop'un hem de if statement'in body leri \n",
    "# kendilerinden sonra yani alt satirda gelir. Ama list comprehension larda\n",
    "# bu durum tam tersine döner ve body ler kendilerinden önce gelir.\n",
    "\n"
   ]
  },
  {
   "cell_type": "code",
   "execution_count": null,
   "metadata": {
    "id": "8ro96IfY5o5o"
   },
   "outputs": [],
   "source": [
    "## peki else de kullanmak istersek nasil  bir yapi kurmaliyiz ??\n",
    "\n",
    "listem = [10, 11, 12, 13, 14, 15, 16, 17, 18]\n",
    "\n",
    "a = [i ** 2 for i in listem if i % 2]\n",
    "\n",
    "print(a)         "
   ]
  },
  {
   "cell_type": "code",
   "execution_count": null,
   "metadata": {
    "id": "09bxaRA96Uis"
   },
   "outputs": [],
   "source": [
    "#  diger bir else' li örnek\n",
    "\n",
    "# fruits = [\"mango\" if i%3 == 0 else \"orange\" for i in range(10)]\n",
    "# print(fruits)"
   ]
  },
  {
   "cell_type": "code",
   "execution_count": null,
   "metadata": {
    "id": "g6ikArSC7XdT"
   },
   "outputs": [],
   "source": [
    "# nested for looplar ile list comprehension\n",
    "\n",
    "liste = [f\"{str(i)} - {j}\" for i in range(1, 4) for j in [\"a\", \"b\", \"c\"]]\n",
    "\n",
    "print(liste)"
   ]
  },
  {
   "cell_type": "code",
   "execution_count": null,
   "metadata": {
    "id": "LhVnu6548lk9"
   },
   "outputs": [],
   "source": []
  },
  {
   "cell_type": "code",
   "execution_count": null,
   "metadata": {
    "id": "3o5EqPyA8mUp"
   },
   "outputs": [],
   "source": [
    "## nested if statements lar ile list comprehension:\n",
    "\n",
    "\n",
    "liste = [i for i in range(50) if i % 2 == 0 if i % 3 == 0 if i % 4 == 0]\n",
    "\n",
    "print(liste)\n",
    "\n",
    "# Dikkat bu örnekte sadece tek bir cikti var o da i dir.\n",
    "# Peki list comprehension ile birden cok cikti print ettirebilir miyiz?\n",
    "# mesela \n",
    "# if i % 2 == 0   print(2)\n",
    "# if i % 3 == 3   print(3)\n",
    "# else            print(\"x\")    # vvv"
   ]
  },
  {
   "cell_type": "code",
   "execution_count": null,
   "metadata": {
    "id": "7-PGFiIRq3_m"
   },
   "outputs": [],
   "source": []
  },
  {
   "cell_type": "code",
   "execution_count": null,
   "metadata": {
    "id": "G_-nxAdUq4B6"
   },
   "outputs": [],
   "source": []
  },
  {
   "cell_type": "code",
   "execution_count": null,
   "metadata": {
    "id": "TTAJPDEbq4Ee"
   },
   "outputs": [],
   "source": []
  },
  {
   "cell_type": "code",
   "execution_count": null,
   "metadata": {
    "id": "jLOy0qTrq4Hm"
   },
   "outputs": [],
   "source": []
  },
  {
   "cell_type": "code",
   "execution_count": null,
   "metadata": {
    "id": "9cslk2Kb9dKc"
   },
   "outputs": [],
   "source": [
    "liste = [\"2\" if i % 2 == 0 else \"3\" if i % 3 == 0 else \"x\" for i in range(10)]\n",
    "\n",
    "print(liste)"
   ]
  },
  {
   "cell_type": "code",
   "execution_count": null,
   "metadata": {
    "id": "Z9uCZd2spbmv"
   },
   "outputs": [],
   "source": [
    "a = [1, 2, 3, 4, 5]\n",
    "\n",
    "b = [\"yes\" if i == 1 else \"no\" if i == 2 else \"idle\" for i in a]\n",
    "\n",
    "print(b)"
   ]
  },
  {
   "cell_type": "code",
   "execution_count": null,
   "metadata": {
    "id": "ui6497h-zdOB"
   },
   "outputs": [],
   "source": [
    "##  araba modelleri sorusunu list comprehension ile cözelim:\n",
    "\n",
    "marka = [\"mercedes\", \"bmw\", \"volkswagen\", \"seat\", \"skoda\"]\n",
    "\n",
    "model = [\"a\", \"b\", \"c\", \"d\", \"suv\"]\n",
    "\n",
    "\n",
    "# Dikkat nested for yapisi kuracagiz ve ana for nerede olacak\n",
    "# nested for nerede olacak?"
   ]
  },
  {
   "cell_type": "code",
   "execution_count": null,
   "metadata": {
    "id": "YKPHbxRq-aGz"
   },
   "outputs": [],
   "source": []
  },
  {
   "cell_type": "code",
   "execution_count": null,
   "metadata": {
    "id": "sx2FXIm7-aJg"
   },
   "outputs": [],
   "source": []
  },
  {
   "cell_type": "code",
   "execution_count": null,
   "metadata": {
    "id": "gDKJEBiz-aL_"
   },
   "outputs": [],
   "source": []
  },
  {
   "cell_type": "code",
   "execution_count": null,
   "metadata": {
    "id": "kuh0x8MNfYzZ"
   },
   "outputs": [],
   "source": [
    "marka = [\"mercedes\", \"bmw\", \"volkswagen\", \"seat\", \"skoda\"]\n",
    "\n",
    "model = [\"a\", \"b\", \"c\", \"d\", \"suv\"]\n",
    "\n",
    "new = [i + \" -\" + ii for i in marka for ii in model]\n",
    "                                               \n",
    "print(new)"
   ]
  },
  {
   "cell_type": "code",
   "execution_count": null,
   "metadata": {
    "id": "YprVUiBSkzrs"
   },
   "outputs": [],
   "source": [
    "# Dikkat:\n",
    "\n",
    "## list comprehension kullanarak ayni liste icerisine degil de baska\n",
    "\n",
    "# bir liste icerisine append yapilabilir mi??\n",
    "\n",
    "bos = []\n",
    "\n",
    "a = [bos.append(i) for i in range(5)]\n",
    "\n",
    "print(bos)   ##  print(a)  dersek output ne olur?"
   ]
  },
  {
   "cell_type": "code",
   "execution_count": null,
   "metadata": {
    "id": "tGLw2442lmRR"
   },
   "outputs": [],
   "source": [
    "### Dikkat!!!!!!\n",
    "# peki bu list comprehension a disaridaki bir for ile eleman\n",
    "# ekleyebilir miyiz??\n",
    "\n",
    "bos = []\n",
    "a = [bos.append(i) for i in range(5)]\n",
    "\n",
    "print(a)\n",
    "\n",
    "for i in range(5):\n",
    "  a.append(i)\n",
    "\n",
    "print(a)"
   ]
  },
  {
   "cell_type": "code",
   "execution_count": null,
   "metadata": {
    "id": "JwbMAtfcfY1v"
   },
   "outputs": [],
   "source": [
    "a = [\"a\", \"b\", \"c\", \"d\"]\n",
    "b = [\"1\", \"2\", \"3\", \"4\"]\n",
    "\n",
    "for i in a, b:          # Burada i ve ii zip seklinde 2 degisken kullanirken\n",
    "   print(i)             # zip kullanmazsak kodumuz calismaz demistik.\n",
    "                        # peki iki listede tek i degiskeni kullanirsak\n",
    "                        # ne sonuc aliriz ?  "
   ]
  },
  {
   "cell_type": "code",
   "execution_count": null,
   "metadata": {
    "id": "d5kbA-t1fZA0"
   },
   "outputs": [],
   "source": [
    "# derste cözdügümüz örnek\n",
    "\n",
    "(monday, tuesday, wednesday, thursday, friday, saturday, sunday) = range(1, 8)\n",
    "\n",
    "print(monday)\n",
    "print(friday)\n",
    "\n",
    "## dikkat 1 deyince gün gelmez"
   ]
  },
  {
   "cell_type": "code",
   "execution_count": null,
   "metadata": {
    "id": "tb7-FT-rzdQR"
   },
   "outputs": [],
   "source": [
    "## enumerate kullanimi:\n",
    "\n",
    "günler = (\"monday\", \"tuesday\", \"wednesday\", \"thursday\", \"friday\", \"saturday\", \"sunday\")\n",
    "\n",
    "yeni = list(enumerate(günler, 1))  ## ketum function dir\n",
    "\n",
    "# yeni.reverse()      #  reverse kullanirsak output ne olur?\n",
    "\n",
    "print(yeni)"
   ]
  },
  {
   "cell_type": "code",
   "execution_count": null,
   "metadata": {
    "id": "nVZHA1TmzdSm"
   },
   "outputs": [],
   "source": [
    "## enumerate ve for ile terse cevirme:\n",
    "\n",
    "günler = (\"monday\", \"tuesday\", \"wednesday\", \"thursday\", \"friday\", \"saturday\", \"sunday\")\n",
    "\n",
    "yeni = list(enumerate(günler, 1))  \n",
    "\n",
    "listyeni = []\n",
    "\n",
    "for i in yeni:    ## enumerate verileri tuple'a dönüstürdügü icin önce liste yapiyoruz\n",
    "  i = list(i)\n",
    "  listyeni.append(i)\n",
    "  i = i.reverse()\n",
    "  \n",
    "print(listyeni)"
   ]
  },
  {
   "cell_type": "code",
   "execution_count": null,
   "metadata": {
    "id": "Ozo1kuQ7zdUa"
   },
   "outputs": [],
   "source": [
    "###  append() methodu ile bir seferde en fazla tek eleman eklenebilir\n",
    "\n",
    "# ve append() ile bir listeye baska birden cok elemani liste olarak eklemek istersek\n",
    "# bu listenin elemanlarini tek tek degil, asagida oldugu gibi\n",
    "# listeyi komple append() eder.\n",
    "\n",
    "a = [1, 2 ,3]\n",
    "b= [4, 5, 6]\n",
    "\n",
    "a.append(b)\n",
    "\n",
    "print(a)             \n",
    "\n",
    "# bu nedenle birden cok elemani bir seferde eklemek istersek\n",
    "#asagidaki methodu kullanabiliriz"
   ]
  },
  {
   "cell_type": "code",
   "execution_count": null,
   "metadata": {
    "id": "Pv_yGz8OzdWZ"
   },
   "outputs": [],
   "source": [
    "a = [1, 2 ,3]\n",
    "b= [4, 5, 6]\n",
    "\n",
    "c = a + b\n",
    "\n",
    "print(c)"
   ]
  },
  {
   "cell_type": "code",
   "execution_count": null,
   "metadata": {
    "id": "TCx3o488zdYQ"
   },
   "outputs": [],
   "source": [
    "# Hatirlatma:\n",
    "\n",
    "x, y,*z = (11, 22, 33, 44, 55)\n",
    "\n",
    "print(x)\n",
    "print(y)\n",
    "print(z)  ###   dikkat * kullaninca output umuz liste olur"
   ]
  },
  {
   "cell_type": "code",
   "execution_count": null,
   "metadata": {
    "id": "JP1pFfqvzdaF"
   },
   "outputs": [],
   "source": [
    "### placeholder\n",
    "\n",
    "## binlerce elemandan olusan bir tuple var\n",
    "# ve biz bunun sadece ilk 2 elemanini simdi atamak istyoruz\n",
    "# digerleri de hafiza da yer kaplamasin istiyoruz\n",
    "\n",
    "\n",
    "x, y, *_ = (10, 20, 30, 40 ,50, 60, 70, 80 ,90)\n",
    "\n",
    "print(x)\n",
    "print(y)"
   ]
  },
  {
   "cell_type": "code",
   "execution_count": null,
   "metadata": {
    "id": "VwYCUfkozdcJ"
   },
   "outputs": [],
   "source": [
    "# asteriks herhangi bir yerde kullanilabilir\n",
    "\n",
    "x, y, *z, t= (10, 20, 30, 40 ,50, 60, 70, 80 ,90)\n",
    "\n",
    "print(x)\n",
    "print(y)\n",
    "print(z)\n",
    "print(t)"
   ]
  },
  {
   "cell_type": "code",
   "execution_count": null,
   "metadata": {
    "id": "wORoastdzdeN"
   },
   "outputs": [],
   "source": [
    "## iki yildiz kullaninca hata aliriz\n",
    "\n",
    "x, *y, *z, t= (10, 20, 30, 40 ,50, 60, 70, 80 ,90)\n",
    "\n",
    "print(x)\n",
    "print(y)\n",
    "print(z)\n",
    "print(t)"
   ]
  },
  {
   "cell_type": "code",
   "execution_count": null,
   "metadata": {
    "id": "hFxqJF6azdf7"
   },
   "outputs": [],
   "source": [
    "### derste cözdügümüz örnek\n",
    "\n",
    "names = [\"susan\", \"tom\", \"edward\"]\n",
    "\n",
    "mood = [\"happy\", \"sad\"]\n",
    "\n",
    "a = [i + \" is \" + j for i in names for j in mood]\n",
    "\n",
    "print(a)"
   ]
  },
  {
   "cell_type": "code",
   "execution_count": null,
   "metadata": {
    "id": "3Bu-CLYczdhp"
   },
   "outputs": [],
   "source": [
    "## derstek örnek:\n",
    "\n",
    "count = 0\n",
    "\n",
    "while count >= 0:\n",
    "  print(count)\n",
    "  count += 1\n",
    "  if count == 10:\n",
    "    count = -1"
   ]
  },
  {
   "cell_type": "code",
   "execution_count": null,
   "metadata": {
    "id": "Y7uILoEJ4VUA"
   },
   "outputs": [],
   "source": []
  },
  {
   "cell_type": "code",
   "execution_count": null,
   "metadata": {
    "id": "V9Bz6mODGIic"
   },
   "outputs": [],
   "source": []
  },
  {
   "cell_type": "code",
   "execution_count": null,
   "metadata": {
    "id": "yEE9PtFFb2pb"
   },
   "outputs": [],
   "source": []
  },
  {
   "cell_type": "code",
   "execution_count": null,
   "metadata": {
    "id": "tdajW1tEb2rv"
   },
   "outputs": [],
   "source": []
  },
  {
   "cell_type": "code",
   "execution_count": null,
   "metadata": {
    "id": "9ttY1tXib2tc"
   },
   "outputs": [],
   "source": []
  },
  {
   "cell_type": "code",
   "execution_count": null,
   "metadata": {
    "id": "GJMkrLRqb2vc"
   },
   "outputs": [],
   "source": []
  },
  {
   "cell_type": "code",
   "execution_count": null,
   "metadata": {
    "id": "1x3QOabKb2xZ"
   },
   "outputs": [],
   "source": []
  },
  {
   "cell_type": "code",
   "execution_count": null,
   "metadata": {
    "id": "w2JsvEvwGIlN"
   },
   "outputs": [],
   "source": []
  },
  {
   "cell_type": "code",
   "execution_count": null,
   "metadata": {
    "id": "Wf9qzhJa4SSx"
   },
   "outputs": [],
   "source": []
  },
  {
   "cell_type": "code",
   "execution_count": null,
   "metadata": {
    "id": "bhiCcQFW4SVX"
   },
   "outputs": [],
   "source": []
  },
  {
   "cell_type": "code",
   "execution_count": null,
   "metadata": {
    "id": "_n8_M1Wk4SXF"
   },
   "outputs": [],
   "source": []
  },
  {
   "cell_type": "code",
   "execution_count": null,
   "metadata": {
    "id": "qC6mTLJk6ICs"
   },
   "outputs": [],
   "source": []
  },
  {
   "cell_type": "code",
   "execution_count": null,
   "metadata": {
    "id": "vJvHVzaw6IFY"
   },
   "outputs": [],
   "source": []
  },
  {
   "cell_type": "code",
   "execution_count": null,
   "metadata": {
    "id": "AunV3WEZ6IHw"
   },
   "outputs": [],
   "source": []
  },
  {
   "cell_type": "code",
   "execution_count": null,
   "metadata": {
    "id": "Q8RTo-nK6IJ8"
   },
   "outputs": [],
   "source": []
  },
  {
   "cell_type": "code",
   "execution_count": null,
   "metadata": {
    "id": "e-ddtPd14SeZ"
   },
   "outputs": [],
   "source": []
  },
  {
   "cell_type": "code",
   "execution_count": null,
   "metadata": {
    "id": "F7xrWmBjGInq"
   },
   "outputs": [],
   "source": []
  },
  {
   "cell_type": "code",
   "execution_count": null,
   "metadata": {
    "id": "I70_srJcDQXv"
   },
   "outputs": [],
   "source": []
  },
  {
   "cell_type": "code",
   "execution_count": null,
   "metadata": {
    "id": "O0i_ZGhCDQZx"
   },
   "outputs": [],
   "source": []
  },
  {
   "cell_type": "code",
   "execution_count": null,
   "metadata": {
    "id": "68Upbk_DDQb9"
   },
   "outputs": [],
   "source": []
  },
  {
   "cell_type": "code",
   "execution_count": null,
   "metadata": {
    "id": "Ga2AzQFfDQfw"
   },
   "outputs": [],
   "source": []
  },
  {
   "cell_type": "code",
   "execution_count": null,
   "metadata": {
    "id": "kqXVDKbwDQhy"
   },
   "outputs": [],
   "source": []
  },
  {
   "cell_type": "code",
   "execution_count": null,
   "metadata": {
    "id": "b_pXYB93Gw4Q"
   },
   "outputs": [],
   "source": []
  },
  {
   "cell_type": "code",
   "execution_count": null,
   "metadata": {
    "id": "NAi8KhVPGw6X"
   },
   "outputs": [],
   "source": []
  },
  {
   "cell_type": "code",
   "execution_count": null,
   "metadata": {
    "id": "3tjQdno_Gw8o"
   },
   "outputs": [],
   "source": []
  },
  {
   "cell_type": "code",
   "execution_count": null,
   "metadata": {
    "id": "cNhU4OD3Gw-1"
   },
   "outputs": [],
   "source": []
  },
  {
   "cell_type": "code",
   "execution_count": null,
   "metadata": {
    "id": "Y-x_S56MGxBz"
   },
   "outputs": [],
   "source": []
  },
  {
   "cell_type": "code",
   "execution_count": null,
   "metadata": {
    "id": "qBRI9WLMIsQt"
   },
   "outputs": [],
   "source": []
  },
  {
   "cell_type": "code",
   "execution_count": null,
   "metadata": {
    "id": "-0qjzAo-IsTJ"
   },
   "outputs": [],
   "source": []
  },
  {
   "cell_type": "code",
   "execution_count": null,
   "metadata": {
    "id": "wxyjhrctIsVO"
   },
   "outputs": [],
   "source": []
  },
  {
   "cell_type": "code",
   "execution_count": null,
   "metadata": {
    "id": "Y8wWWhI8IsbJ"
   },
   "outputs": [],
   "source": []
  },
  {
   "cell_type": "code",
   "execution_count": null,
   "metadata": {
    "id": "pChDgcLHmOTF"
   },
   "outputs": [],
   "source": []
  },
  {
   "cell_type": "code",
   "execution_count": null,
   "metadata": {
    "id": "xmkmL0epmOVC"
   },
   "outputs": [],
   "source": []
  },
  {
   "cell_type": "code",
   "execution_count": null,
   "metadata": {
    "id": "s62iiQYAmOW7"
   },
   "outputs": [],
   "source": []
  },
  {
   "cell_type": "code",
   "execution_count": null,
   "metadata": {
    "id": "n6-ouE7fnCTc"
   },
   "outputs": [],
   "source": []
  },
  {
   "cell_type": "code",
   "execution_count": null,
   "metadata": {
    "id": "cFAACzKMnCVe"
   },
   "outputs": [],
   "source": []
  },
  {
   "cell_type": "code",
   "execution_count": null,
   "metadata": {
    "id": "wA6zS5sOnCZO"
   },
   "outputs": [],
   "source": []
  },
  {
   "cell_type": "code",
   "execution_count": null,
   "metadata": {
    "id": "EjuolBOXnCbE"
   },
   "outputs": [],
   "source": []
  },
  {
   "cell_type": "code",
   "execution_count": null,
   "metadata": {
    "id": "tcJpEuFpnCc_"
   },
   "outputs": [],
   "source": []
  },
  {
   "cell_type": "code",
   "execution_count": null,
   "metadata": {
    "id": "djPZ1O65mOYq"
   },
   "outputs": [],
   "source": []
  },
  {
   "cell_type": "code",
   "execution_count": null,
   "metadata": {
    "id": "eF1BII-0fIbF"
   },
   "outputs": [],
   "source": []
  },
  {
   "cell_type": "code",
   "execution_count": null,
   "metadata": {
    "id": "o4pWJqwcfIc_"
   },
   "outputs": [],
   "source": []
  },
  {
   "cell_type": "code",
   "execution_count": null,
   "metadata": {
    "id": "Z3gnsiy0fIep"
   },
   "outputs": [],
   "source": []
  },
  {
   "cell_type": "code",
   "execution_count": null,
   "metadata": {
    "id": "4bWyyskZfIgg"
   },
   "outputs": [],
   "source": []
  }
 ],
 "metadata": {
  "colab": {
   "collapsed_sections": [],
   "name": "while_for_loops.ipynb",
   "provenance": []
  },
  "kernelspec": {
   "display_name": "Python 3",
   "language": "python",
   "name": "python3"
  },
  "language_info": {
   "codemirror_mode": {
    "name": "ipython",
    "version": 3
   },
   "file_extension": ".py",
   "mimetype": "text/x-python",
   "name": "python",
   "nbconvert_exporter": "python",
   "pygments_lexer": "ipython3",
   "version": "3.8.8"
  }
 },
 "nbformat": 4,
 "nbformat_minor": 4
}
