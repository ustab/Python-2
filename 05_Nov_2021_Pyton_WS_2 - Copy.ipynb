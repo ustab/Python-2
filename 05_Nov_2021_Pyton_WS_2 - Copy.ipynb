{
 "cells": [
  {
   "cell_type": "markdown",
   "metadata": {
    "id": "-PdhzlMtAX3U"
   },
   "source": [
    " **split() Metodu** verilen bir ifade veya dizgeyi belirtilen parametrelere göre parçalar.                                        İki farklı parametre alır. \n",
    "\n",
    "*   parçalara ayırmak için kullanılacak referans\n",
    "*   limit değeri\n",
    "\n"
   ]
  },
  {
   "cell_type": "code",
   "execution_count": null,
   "metadata": {
    "id": "4rTs_-kAp5Jx"
   },
   "outputs": [],
   "source": [
    "text = \"Hello dear friends\"\n",
    "word_list = text.split()\n",
    "print(word_list)\n",
    "\n",
    "print(*word_list, sep=\"\\n\")"
   ]
  },
  {
   "cell_type": "code",
   "execution_count": null,
   "metadata": {
    "colab": {
     "base_uri": "https://localhost:8080/"
    },
    "id": "NMIAF3YiBi8X",
    "outputId": "22d763ff-afa8-417d-bb41-86292e33119e"
   },
   "outputs": [
    {
     "name": "stdout",
     "output_type": "stream",
     "text": [
      "['For testing parameter: Londra', ' Prag', ' Canada', ' Beyrut', ' Isfahan', ' Phuket', ' Tokyo']\n",
      " \n",
      "['For', 'testing', 'parameter:', 'Londra,', 'Prag,', 'Canada,', 'Beyrut,', 'Isfahan,', 'Phuket,', 'Tokyo']\n"
     ]
    }
   ],
   "source": [
    "text = \"For testing parameter: Londra, Prag, Canada, Beyrut, Isfahan, Phuket, Tokyo\"\n",
    "city = text.split(',')\n",
    "city2 = text.split(\" \")\n",
    "print(city)\n",
    "print(\" \")\n",
    "print(city2)"
   ]
  },
  {
   "cell_type": "code",
   "execution_count": null,
   "metadata": {
    "id": "RI3n8drKDEhn"
   },
   "outputs": [],
   "source": [
    "\"\"\"\n",
    "    Ayırmak istediğimiz ifadeyi boşluk karakterini dikkate alarak\n",
    "    ve max index değeri 4 olacak şekilde ayırmasını istiyoruz.\n",
    "    Bu halde liste yapılarında index değerleri sıfırdan başladığı\n",
    "    için index değeri dört olana kadar beş elemanın oluşması gerekir.\n",
    "    Son eleman ise kalan ifadenin tamamını içermektedir. Yani \n",
    "    ülkelerin son üç tanesi bir liste elemanı olarak karşımıza çıkacaktır.\n",
    "\"\"\"\n",
    "countries = \"Türkiye, Singapur, Malezya, Lübnan, Kanada, Portekiz, Japonya\"\n",
    "country = countries.split(' ', 4)\n",
    "print(country)\n",
    "print(*country, sep=\"\\n\")\n",
    "\n",
    "\n",
    "#print(\" \".join(country))\n"
   ]
  },
  {
   "cell_type": "code",
   "execution_count": null,
   "metadata": {
    "id": "z-bQaW9L6wc0"
   },
   "outputs": [],
   "source": [
    "text = \" soru cozumuyle kodlama becerim gelisiyor.\"\n",
    "en_kısa = min(text.split(), key=len)\n",
    "print(\"en kısa kelime '{}' ve {} karakterden oluşmaktadır.\".format(en_kısa,len(en_kısa)))"
   ]
  },
  {
   "cell_type": "markdown",
   "metadata": {
    "id": "PH2YY-W5I8I4"
   },
   "source": [
    "**map(func,iter1)** Bir listedeki tüm öğelere bir fonksiyonu uygular. "
   ]
  },
  {
   "cell_type": "code",
   "execution_count": null,
   "metadata": {
    "id": "s7GncxJDGjZf"
   },
   "outputs": [],
   "source": [
    "list1 = [1,2,3,4,5]\n",
    "# list2 = list(map(str,list1))\n",
    "list2 = list(map(float,list1))\n",
    "\n",
    "print(list2)\n"
   ]
  },
  {
   "cell_type": "code",
   "execution_count": null,
   "metadata": {
    "colab": {
     "base_uri": "https://localhost:8080/"
    },
    "id": "XSdARiI5LGqa",
    "outputId": "bf2d8536-c62c-4c75-e66f-1e1bc811cdfc"
   },
   "outputs": [
    {
     "name": "stdout",
     "output_type": "stream",
     "text": [
      "[12.16, 13.6, 8.0, 18.32, 13.2, 6.16, 8.8]\n"
     ]
    }
   ],
   "source": [
    "def discount(x):\n",
    "  return x-((x*20)/100)\n",
    "\n",
    "price = [15.2, 17, 10, 22.9, 16.5, 7.7, 11]\n",
    "\n",
    "new_price = list(map(discount,price))\n",
    "\n",
    "print(new_price)\n",
    "\n"
   ]
  },
  {
   "cell_type": "markdown",
   "metadata": {
    "id": "MNKYsXmeOMU4"
   },
   "source": [
    "**zip()** kelime anlamı = fermuar. Tam olarak da bu anlamda kullanılıyor. 2 listeyi birleştiriyor.\n",
    "Bunu yaparken de kısa olan listenin uzunluğunu baz alıyor.\n",
    "\n"
   ]
  },
  {
   "cell_type": "code",
   "execution_count": null,
   "metadata": {
    "colab": {
     "base_uri": "https://localhost:8080/"
    },
    "id": "k-lp6YwmPkZ6",
    "outputId": "2ab813a0-e7fe-4b67-cf59-a644213e455d"
   },
   "outputs": [
    {
     "name": "stdout",
     "output_type": "stream",
     "text": [
      "{1: 'a', 2: 'b'}\n",
      "[(1, 'a'), (2, 'b')]\n"
     ]
    }
   ],
   "source": [
    "list1 = [1,2,3,4,5]\n",
    "list2 = [\"a\",\"b\",\"c\",\"d\",\"e\"]\n",
    "\n",
    "print(dict(zip(list1,list2)))\n",
    "print(list(zip(list1,list2)))"
   ]
  },
  {
   "cell_type": "code",
   "execution_count": null,
   "metadata": {
    "colab": {
     "base_uri": "https://localhost:8080/"
    },
    "id": "2-Nsj-zJQIf9",
    "outputId": "37bbfa7d-83ad-4a7f-da79-83d8ea23d7dd"
   },
   "outputs": [
    {
     "name": "stdout",
     "output_type": "stream",
     "text": [
      "[(1, 'a'), (2, 'b'), (3, 'c')]\n",
      "(1, 'a')\n",
      "(2, 'b')\n",
      "(3, 'c')\n"
     ]
    }
   ],
   "source": [
    "list1 = [1,2,3]\n",
    "list2 = [\"a\",\"b\",\"c\",\"d\",\"e\"]\n",
    "\n",
    "print(list(zip(list1,list2)))\n",
    "print(*list(zip(list1,list2)),sep=\"\\n\")"
   ]
  },
  {
   "cell_type": "code",
   "execution_count": null,
   "metadata": {
    "colab": {
     "base_uri": "https://localhost:8080/"
    },
    "id": "XBZxIoV7S2m5",
    "outputId": "857adb4c-8ac2-4875-e9dc-2b5346ee9c84"
   },
   "outputs": [
    {
     "name": "stdout",
     "output_type": "stream",
     "text": [
      "{1: 'Ali', 2: 'Veli', 3: 'Osman', 4: 'Ahmet'}\n"
     ]
    }
   ],
   "source": [
    "#Q-1 \n",
    "# Verilen listeden {id:name} olacak şekilde bir dict oluşturan kodu yazınız.\n",
    "#zip fonksiyonunu ve listeler bilgimizi birleştirelim.\n",
    "test_list = [\"Ali\", 1, \"Veli\", 2, \"Osman\", 3, \"Ahmet\", 4]\n",
    "name_list = test_list[0::2]\n",
    "id_list = test_list[1::2]\n",
    "\n",
    "# last_dict = dict(zip(id_list,name_list))\n",
    "# print(last_dict)\n",
    "\n",
    "print(dict(zip(test_list[1::2],test_list[0::2])))\n",
    "\n"
   ]
  },
  {
   "cell_type": "code",
   "execution_count": null,
   "metadata": {
    "colab": {
     "base_uri": "https://localhost:8080/"
    },
    "id": "rBwcbnGfcsJd",
    "outputId": "6bfa40c7-0a05-4ab3-a84c-5250b2cd2bbc"
   },
   "outputs": [
    {
     "name": "stdout",
     "output_type": "stream",
     "text": [
      "Enter five numbers: 2 1 5 -3 -1\n",
      "[2, 1, 5, -3, -1]\n",
      "Second max number is: 2\n"
     ]
    }
   ],
   "source": [
    "#Q-2 \n",
    "# Kullanıcıdan alınan 5 sayı içerisinden en büyük 2. sayıyı bulan kodu yazınız.\n",
    "# map ve split metodu kullanalım.\n",
    "\n",
    "numbers = list(map(int,input(\"Enter five numbers: \").split()))\n",
    "print(numbers)\n",
    "sec_max = sorted(set(numbers))[-2]\n",
    "print(\"Second max number is: {}\".format(sec_max))"
   ]
  },
  {
   "cell_type": "code",
   "execution_count": null,
   "metadata": {
    "colab": {
     "base_uri": "https://localhost:8080/"
    },
    "id": "NrpCayWUiGFA",
    "outputId": "6a506739-b653-4f7b-9ee5-729482ef188c"
   },
   "outputs": [
    {
     "name": "stdout",
     "output_type": "stream",
     "text": [
      "Enter shift value: 2\n",
      "[44, 34]\n",
      "[2, 3, 5, 7, 11]\n",
      "[44, 34, 2, 3, 5, 7, 11]\n"
     ]
    }
   ],
   "source": [
    "#Q-3\n",
    "#Kullanıcıdan alınan değer kadar numbers listesinin elemanlarını sağa kaydıran kodu yazınız.\n",
    "numbers = [2,3,5,7,11,44,34] \n",
    "shift = int(input(\"Enter shift value: \"))\n",
    "shifted_numbers = numbers[len(numbers)-shift:] + numbers[:len(numbers)-shift]\n",
    "\n",
    "print(numbers[len(numbers)-shift:])\n",
    "print(numbers[:len(numbers)-shift])\n",
    "\n",
    "print(shifted_numbers)\n"
   ]
  },
  {
   "cell_type": "markdown",
   "metadata": {
    "id": "bmpPtv1SXZ5k"
   },
   "source": [
    "**Koşullu Ifadeler**\n"
   ]
  },
  {
   "cell_type": "code",
   "execution_count": null,
   "metadata": {
    "colab": {
     "base_uri": "https://localhost:8080/"
    },
    "id": "mrkaf_ixXmlT",
    "outputId": "e9832c35-1cac-41a1-bc24-4f1045037614"
   },
   "outputs": [
    {
     "name": "stdout",
     "output_type": "stream",
     "text": [
      "Enter a number: 0\n",
      "Number is Zero\n"
     ]
    }
   ],
   "source": [
    "#Q-4\n",
    "#Kullanıcıdan alınan sayının negatif veya pozitif olduğunu bulan kodu yazınız.\n",
    "\n",
    "a= int(input(\"Enter a number: \"))\n",
    "if a<0:\n",
    "  print(\"Negative\")\n",
    "elif a>0:\n",
    "  print(\"Positive\")\n",
    "else:\n",
    "  print(\"Number is Zero\")\n",
    "\n"
   ]
  },
  {
   "cell_type": "code",
   "execution_count": null,
   "metadata": {
    "id": "k2h11jtxYxI0"
   },
   "outputs": [],
   "source": [
    "#Q-5\n",
    "# Kullanıcıdan 2 değer ve işlemi alıp sonucunu döndüren basit bir hesap makinesi programı yazınız.\n",
    "# İşlemler; 1. Toplama İşlemi 2. Çıkarma İşlemi 3. Çarpma İşlemi 4. Bölme İşlemi\n",
    "\n",
    "a = int(input(\"Birinci Sayı:\")) # Birinci Sayıyı Alıyoruz.\n",
    "b = int(input(\"İkinci Sayı:\")) # İkinci Sayıyı Alıyoruz.\n",
    "\n",
    "process =  input(\"İşlem Numarasını Giriniz:\") # Buna göre koşullarımızı yazacağız.\n",
    "\n",
    "if (process == \"1\"): # Toplama İşlemi\n",
    "\n",
    "    print(\"{} ile {} 'nin toplamı {} dır.\".format(a,b,a+b))\n",
    "\n",
    "elif (process == \"2\"):\n",
    "\n",
    "    print(\"{} ile {} 'nin farkı {} dır.\".format(a, b, a - b))\n",
    "\n",
    "elif (process == \"3\"):\n",
    "\n",
    "    print(\"{} ile {} 'nin çarpımı {} dır.\".format(a, b, a * b))\n",
    "\n",
    "elif (process == \"4\"):\n",
    "\n",
    "    print(\"{} 'nın {} 'e bölümü {} dır.\".format(a, b, a / b))\n",
    "else:\n",
    "\n",
    "    print(\"Lütfen geçerli bir işlem giriniz...\")"
   ]
  },
  {
   "cell_type": "code",
   "execution_count": null,
   "metadata": {
    "colab": {
     "base_uri": "https://localhost:8080/"
    },
    "id": "qovoebtXpmo1",
    "outputId": "57b5d0be-90d4-4506-8799-cd3bc0c99f3f"
   },
   "outputs": [
    {
     "name": "stdout",
     "output_type": "stream",
     "text": [
      "Enter your email: adff\n",
      "Enter password: adjd\n",
      "wrong e-mail and password\n"
     ]
    }
   ],
   "source": [
    "#Q-6\n",
    "# E-mail ve parola bilgileri ile giriş kontrolü yapan programı yazınız.\n",
    "\n",
    "email = 'D999@clarusway.com'\n",
    "pswrd = 'd999'\n",
    "\n",
    "ent_mail = input('Enter your email: ')\n",
    "ent_pswrd = input('Enter password: ')\n",
    "\n",
    "if (ent_mail != email and pswrd == ent_pswrd):\n",
    "    print(\"Wrong e-mail...\")\n",
    "elif (ent_mail == email and  pswrd != ent_pswrd):\n",
    "    print(\"Wrong password...\")\n",
    "\n",
    "elif (ent_mail != email and pswrd != ent_pswrd):\n",
    "    print(\"wrong e-mail and password\")\n",
    "\n",
    "else:\n",
    "    print(\"Başarıyla Giriş Yaptınız...\")\n"
   ]
  },
  {
   "cell_type": "code",
   "execution_count": null,
   "metadata": {
    "colab": {
     "base_uri": "https://localhost:8080/"
    },
    "id": "3cPQ9kFStMRO",
    "outputId": "ff6a4cf2-24c8-45da-a0df-43520941d0c3"
   },
   "outputs": [
    {
     "name": "stdout",
     "output_type": "stream",
     "text": [
      "Boyunuzu Giriniz:1.78\n",
      "Kilonuzu Giriniz:83\n",
      "Fazla Kilolu\n"
     ]
    }
   ],
   "source": [
    "#Q-7\n",
    "#Kullanıcıdan alınan boy ve kilo değerlerine göre beden kitle indeksini hesaplayın\n",
    "#ve şu kurallara göre ekrana şu yazıları yazdırın.\n",
    "\n",
    "\"\"\" Beden Kitle İndeksi: Kilo / Boy(m) *  Boy(m)\n",
    "    \n",
    "     BKİ 18.5'un altındaysa -------> Zayıf\n",
    "     \n",
    "     BKİ 18.5 ile 25 arasındaysa ------> Normal\n",
    "     \n",
    "     BKİ 25 ile 30 arasındaysa --------> Fazla Kilolu\n",
    "     \n",
    "     BKİ 30'un üstündeyse -------------> Obez \"\"\"\n",
    "\n",
    "boy = float(input(\"Boyunuzu Giriniz:\"))\n",
    "kilo = int(input(\"Kilonuzu Giriniz:\"))\n",
    "\n",
    "bki =  kilo / (boy ** 2)\n",
    "\n",
    "if (bki < 18.5):\n",
    "    print(\"Zayıf\")\n",
    "elif (bki >= 18.5 and bki < 25):\n",
    "    print(\"Normal\")\n",
    "elif (bki >= 25 and bki < 30):\n",
    "    print(\"Fazla Kilolu\")\n",
    "else:\n",
    "    print(\"Obez\")"
   ]
  },
  {
   "cell_type": "code",
   "execution_count": null,
   "metadata": {
    "colab": {
     "base_uri": "https://localhost:8080/"
    },
    "id": "CyB0DLj8wa1H",
    "outputId": "83a84b21-eb56-46c4-d919-457eb52459c4"
   },
   "outputs": [
    {
     "name": "stdout",
     "output_type": "stream",
     "text": [
      "a:3\n",
      "b:2\n",
      "c:1\n",
      "En büyük sayı: 3\n"
     ]
    }
   ],
   "source": [
    "#Q-8\n",
    "#Kullanıcıdan alınan 3 sayıdan en büyüğünü bulan kodu yazınız.\n",
    "a =  int(input(\"a:\"))\n",
    "\n",
    "b = int(input(\"b:\"))\n",
    "\n",
    "c = int(input(\"c:\"))\n",
    "\n",
    "if (a >= b and a >= c):\n",
    "    print(\"En büyük sayı:\",a)\n",
    "elif (b >= a and b >= c):\n",
    "    print(\"En büyük sayı:\",b)\n",
    "elif (c >= a and c >= b):\n",
    "    print(\"En büyük sayı:\",c)"
   ]
  }
 ],
 "metadata": {
  "colab": {
   "collapsed_sections": [],
   "name": "05KAS2021-Pyton-WS-2.ipynb",
   "provenance": []
  },
  "kernelspec": {
   "display_name": "Python 3",
   "language": "python",
   "name": "python3"
  },
  "language_info": {
   "codemirror_mode": {
    "name": "ipython",
    "version": 3
   },
   "file_extension": ".py",
   "mimetype": "text/x-python",
   "name": "python",
   "nbconvert_exporter": "python",
   "pygments_lexer": "ipython3",
   "version": "3.8.8"
  }
 },
 "nbformat": 4,
 "nbformat_minor": 4
}
