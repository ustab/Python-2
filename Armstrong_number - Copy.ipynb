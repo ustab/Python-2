{
 "cells": [
  {
   "cell_type": "code",
   "execution_count": 9,
   "id": "ee47b741-fa9a-423d-a853-9a0e1351c4f0",
   "metadata": {},
   "outputs": [
    {
     "name": "stdin",
     "output_type": "stream",
     "text": [
      "Enter a number ==>  153\n"
     ]
    },
    {
     "name": "stdout",
     "output_type": "stream",
     "text": [
      "153 is an n-Armstrong Number\n"
     ]
    }
   ],
   "source": [
    "state = True\n",
    "while state:\n",
    "    number = input('Enter a number ==> ')\n",
    "    if not number.isnumeric():\n",
    "        state =True\n",
    "        print('Invalid number try again')\n",
    "    else:\n",
    "        state = False\n",
    "length = len(number)\n",
    "result = 0\n",
    "for i in number:\n",
    "    result += int(i)**length  \n",
    "if result == int(number):\n",
    "    print(f'{number} is an n-Armstrong Number')\n",
    "else:\n",
    "    print(f'{number} is not an n-Armstrong Number')\n",
    "    "
   ]
  },
  {
   "cell_type": "code",
   "execution_count": null,
   "id": "1f24ad7e-aeea-4d8f-a8a1-c641644dfe91",
   "metadata": {},
   "outputs": [],
   "source": []
  }
 ],
 "metadata": {
  "kernelspec": {
   "display_name": "Python 3 (ipykernel)",
   "language": "python",
   "name": "python3"
  },
  "language_info": {
   "codemirror_mode": {
    "name": "ipython",
    "version": 3
   },
   "file_extension": ".py",
   "mimetype": "text/x-python",
   "name": "python",
   "nbconvert_exporter": "python",
   "pygments_lexer": "ipython3",
   "version": "3.9.7"
  }
 },
 "nbformat": 4,
 "nbformat_minor": 5
}
