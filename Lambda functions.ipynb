{
 "cells": [
  {
   "cell_type": "code",
   "execution_count": 1,
   "id": "59cc5fae-b778-43e5-9833-d9cd41241d80",
   "metadata": {},
   "outputs": [
    {
     "name": "stdout",
     "output_type": "stream",
     "text": [
      "Athens in Europe\n",
      "Ulaanbaatar in Asia\n",
      "Cape Town in Africa\n"
     ]
    }
   ],
   "source": [
    "def city(capital, continent='Europe'):\n",
    "    print(capital, 'in', continent)\n",
    "\n",
    "city('Athens')  # we don't have to pass any arguments into 'continent'\n",
    "city('Ulaanbaatar', continent='Asia')  # we can change the default value by kwargs\n",
    "city('Cape Town', 'Africa')  # we can change the default value by positional args."
   ]
  },
  {
   "cell_type": "code",
   "execution_count": 2,
   "id": "dd94abc1-0326-452c-acc1-d00387ed8676",
   "metadata": {},
   "outputs": [
    {
     "name": "stdout",
     "output_type": "stream",
     "text": [
      "I want to get orange and banana\n",
      "I want to get orange and banana\n"
     ]
    }
   ],
   "source": [
    "def fruiterer(fruit1, fruit2) :\n",
    "    print('I want to get', fruit1, 'and', fruit2)  # *args, konum argümanları yerine sadece anahtar kelimeler olarak kullanılabilirler.\n",
    "    print('I want to get', fruit1, 'and', fruit2)  \n",
    "        \n",
    "fruiterer('orange', 'banana')"
   ]
  },
  {
   "cell_type": "code",
   "execution_count": 3,
   "id": "488d0e0d-15bc-4279-94c6-93c4caec31c1",
   "metadata": {},
   "outputs": [
    {
     "name": "stdout",
     "output_type": "stream",
     "text": [
      "I want to get :\n",
      "- orange\n",
      "- banana\n",
      "- melon\n",
      "- ananas\n"
     ]
    }
   ],
   "source": [
    "def fruiterer(*fruit) :\n",
    "    print('I want to get :')\n",
    "    for i in fruit :\n",
    "        print('-', i)\n",
    "        \n",
    "fruiterer('orange', 'banana', 'melon', 'ananas')"
   ]
  },
  {
   "cell_type": "code",
   "execution_count": 4,
   "id": "c793a2fd-b248-453e-be4c-b15ec5b75d39",
   "metadata": {},
   "outputs": [
    {
     "name": "stdout",
     "output_type": "stream",
     "text": [
      "Lions are Carnivores\n",
      "Bears are Omnivores\n",
      "Deers are Herbivores\n",
      "Human are Nomnivores\n"
     ]
    }
   ],
   "source": [
    "def animals(**kwargs):\n",
    "    for key, value in kwargs.items():\n",
    "        print(value, \"are\", key)\n",
    " \n",
    "animals(Carnivores=\"Lions\", Omnivores=\"Bears\", Herbivores=\"Deers\", Nomnivores=\"Human\")"
   ]
  },
  {
   "cell_type": "markdown",
   "id": "e493a021-41fc-4b19-821d-7c74047a683f",
   "metadata": {},
   "source": [
    "# Birden çok konumsal parametre ile tanımlanmış bir işlevi çağırırken *arg, \n",
    "parantez içindeki sözdizimini kullanarak , tüm argümanları tek bir değişkenle işleve geçirebiliriz. \n",
    "Aynı şekilde; Birden çok anahtar kelime argümanı ile tanımlanmış bir fonksiyonu **kwargs parantez içinde sözdizimi kullanarak çağırırken, \n",
    "sözlük formundaki tüm argümanları tek bir değişkenle fonksiyona geçirebiliriz."
   ]
  },
  {
   "cell_type": "code",
   "execution_count": 5,
   "id": "55947cc5-78a9-4fd2-9a6c-d7ca4e3d71c6",
   "metadata": {},
   "outputs": [
    {
     "name": "stdout",
     "output_type": "stream",
     "text": [
      "Here are the names of brothers :\n",
      "tom\n",
      "sue\n",
      "tim\n"
     ]
    }
   ],
   "source": [
    "def brothers(bro1, bro2, bro3):\n",
    "    print('Here are the names of brothers :')\n",
    "    print(bro1, bro2, bro3, sep='\\n')\n",
    "\n",
    "family = ['tom', 'sue', 'tim']\n",
    "brothers(*family)"
   ]
  },
  {
   "cell_type": "code",
   "execution_count": 6,
   "id": "fd926b36-5479-4ea6-bd3b-e765cdda3d44",
   "metadata": {},
   "outputs": [
    {
     "name": "stdout",
     "output_type": "stream",
     "text": [
      "Fred belongs to Generation X\n",
      "Marry belongs to Generation Y\n"
     ]
    }
   ],
   "source": [
    "def gene(x, y):  # defined by positional args\n",
    "    print(x, \"belongs to Generation X\")\n",
    "    print(y, \"belongs to Generation Y\")\n",
    " \n",
    "dict_gene = {'y' : \"Marry\", 'x' : \"Fred\"}\n",
    "gene(**dict_gene)  # we call the function by a single argument(variable)"
   ]
  },
  {
   "cell_type": "code",
   "execution_count": 7,
   "id": "ed8fac5a-41b7-4196-9317-22aab9634990",
   "metadata": {},
   "outputs": [
    {
     "name": "stdout",
     "output_type": "stream",
     "text": [
      "Fred belongs to Generation X\n",
      "Marry belongs to Generation Y\n"
     ]
    }
   ],
   "source": [
    "def gene(x='Solomon', y='David'):  # defined by kwargs (default values assigned to x and y)\n",
    "    print(x, \"belongs to Generation X\")\n",
    "    print(y, \"belongs to Generation Y\")\n",
    " \n",
    "dict_gene = {'y' : \"Marry\", 'x' : \"Fred\"}\n",
    "gene(**dict_gene) "
   ]
  },
  {
   "cell_type": "markdown",
   "id": "229ff00a-c02f-4443-9e57-10ad9c52c916",
   "metadata": {},
   "source": [
    "LAMBDA FUNCTIONS : anlik fonksiton ihtiyaci oldugunda kullanilan tek kullanimlik fonksiyonlardir"
   ]
  },
  {
   "cell_type": "code",
   "execution_count": 8,
   "id": "0d86c6a8-9002-4fe9-be32-93ec091034d0",
   "metadata": {},
   "outputs": [],
   "source": [
    "def square(x) :\n",
    "    return x**2"
   ]
  },
  {
   "cell_type": "code",
   "execution_count": 9,
   "id": "aaec837c-abf6-47f8-b915-ef8a6d366a9e",
   "metadata": {},
   "outputs": [
    {
     "data": {
      "text/plain": [
       "<function __main__.<lambda>(x)>"
      ]
     },
     "execution_count": 9,
     "metadata": {},
     "output_type": "execute_result"
    }
   ],
   "source": [
    "lambda x: x**2 # tek satirda tamam\n"
   ]
  },
  {
   "cell_type": "code",
   "execution_count": 10,
   "id": "7347f55e-7dfd-4a49-93f3-a0f1c08a92ea",
   "metadata": {},
   "outputs": [
    {
     "data": {
      "text/plain": [
       "<function __main__.<lambda>(x, y)>"
      ]
     },
     "execution_count": 10,
     "metadata": {},
     "output_type": "execute_result"
    }
   ],
   "source": [
    "lambda x, y: (x+y)/2  # takes two numbers, returns the result"
   ]
  },
  {
   "cell_type": "code",
   "execution_count": 11,
   "id": "94c63ae1-96a5-4d03-ba56-50dfcbf61c7d",
   "metadata": {},
   "outputs": [
    {
     "data": {
      "text/plain": [
       "<function __main__.<lambda>(x)>"
      ]
     },
     "execution_count": 11,
     "metadata": {},
     "output_type": "execute_result"
    }
   ],
   "source": [
    "lambda x: 'odd' if x % 2 != 0 else 'even'"
   ]
  },
  {
   "cell_type": "code",
   "execution_count": 12,
   "id": "1807cc75-505e-4d7b-9d53-5783dab73d0b",
   "metadata": {},
   "outputs": [
    {
     "name": "stdout",
     "output_type": "stream",
     "text": [
      "4\n"
     ]
    }
   ],
   "source": [
    "print((lambda x: x**2) (2))"
   ]
  },
  {
   "cell_type": "code",
   "execution_count": 13,
   "id": "004f5b2c-30de-4b1d-9697-5deeb19e442e",
   "metadata": {},
   "outputs": [
    {
     "data": {
      "text/plain": [
       "'even'"
      ]
     },
     "execution_count": 13,
     "metadata": {},
     "output_type": "execute_result"
    }
   ],
   "source": [
    "(lambda x: 'odd' if x % 2 != 0 else 'even')(2)     # fonksiyonu paranteze alip yanina parantez icinde arguman yollayabiliriz\n"
   ]
  },
  {
   "cell_type": "code",
   "execution_count": 14,
   "id": "e9eca837-7553-4f66-9524-56ebe3bce523",
   "metadata": {},
   "outputs": [
    {
     "data": {
      "text/plain": [
       "'odd'"
      ]
     },
     "execution_count": 14,
     "metadata": {},
     "output_type": "execute_result"
    }
   ],
   "source": [
    "(lambda x: 'odd' if x % 2 != 0 else 'even')(3)"
   ]
  },
  {
   "cell_type": "code",
   "execution_count": 15,
   "id": "470b6aaa-dfe8-4069-8909-baf2ac6edd35",
   "metadata": {},
   "outputs": [
    {
     "name": "stdout",
     "output_type": "stream",
     "text": [
      "4.0\n"
     ]
    }
   ],
   "source": [
    "print((lambda x, y: (x+y)/2)(3, 5))"
   ]
  },
  {
   "cell_type": "code",
   "execution_count": 16,
   "id": "5f804029-65cf-4273-b8f8-cffe4d36b14c",
   "metadata": {},
   "outputs": [
    {
     "name": "stdout",
     "output_type": "stream",
     "text": [
      "ila\n"
     ]
    }
   ],
   "source": [
    "print((lambda x : x[::-1])(\"ali\"))"
   ]
  },
  {
   "cell_type": "code",
   "execution_count": 17,
   "id": "fad83f7e-b848-46a5-b363-7b986e5208df",
   "metadata": {},
   "outputs": [
    {
     "ename": "AttributeError",
     "evalue": "'str' object has no attribute 'reverse'",
     "output_type": "error",
     "traceback": [
      "\u001b[1;31m---------------------------------------------------------------------------\u001b[0m",
      "\u001b[1;31mAttributeError\u001b[0m                            Traceback (most recent call last)",
      "\u001b[1;32m<ipython-input-17-c98762049e8b>\u001b[0m in \u001b[0;36m<module>\u001b[1;34m\u001b[0m\n\u001b[1;32m----> 1\u001b[1;33m \u001b[0mprint\u001b[0m\u001b[1;33m(\u001b[0m\u001b[1;33m(\u001b[0m\u001b[1;32mlambda\u001b[0m \u001b[0mx\u001b[0m \u001b[1;33m:\u001b[0m \u001b[0mx\u001b[0m\u001b[1;33m.\u001b[0m\u001b[0mreverse\u001b[0m\u001b[1;33m(\u001b[0m\u001b[1;33m)\u001b[0m\u001b[1;33m)\u001b[0m\u001b[1;33m(\u001b[0m\u001b[1;34m\"ali\"\u001b[0m\u001b[1;33m)\u001b[0m\u001b[1;33m)\u001b[0m\u001b[1;33m\u001b[0m\u001b[1;33m\u001b[0m\u001b[0m\n\u001b[0m",
      "\u001b[1;32m<ipython-input-17-c98762049e8b>\u001b[0m in \u001b[0;36m<lambda>\u001b[1;34m(x)\u001b[0m\n\u001b[1;32m----> 1\u001b[1;33m \u001b[0mprint\u001b[0m\u001b[1;33m(\u001b[0m\u001b[1;33m(\u001b[0m\u001b[1;32mlambda\u001b[0m \u001b[0mx\u001b[0m \u001b[1;33m:\u001b[0m \u001b[0mx\u001b[0m\u001b[1;33m.\u001b[0m\u001b[0mreverse\u001b[0m\u001b[1;33m(\u001b[0m\u001b[1;33m)\u001b[0m\u001b[1;33m)\u001b[0m\u001b[1;33m(\u001b[0m\u001b[1;34m\"ali\"\u001b[0m\u001b[1;33m)\u001b[0m\u001b[1;33m)\u001b[0m\u001b[1;33m\u001b[0m\u001b[1;33m\u001b[0m\u001b[0m\n\u001b[0m",
      "\u001b[1;31mAttributeError\u001b[0m: 'str' object has no attribute 'reverse'"
     ]
    }
   ],
   "source": [
    "print((lambda x : x.reverse())(\"ali\"))  #???????????????????"
   ]
  },
  {
   "cell_type": "code",
   "execution_count": null,
   "id": "3ebe2708-9f26-4ab0-9297-f49c166e296e",
   "metadata": {},
   "outputs": [],
   "source": [
    "average = (lambda x, y: (x+y)/2)(3, 5) \n",
    "print(average)"
   ]
  },
  {
   "cell_type": "code",
   "execution_count": null,
   "id": "d36c03fb-9cca-4777-a32c-7f3077fcde51",
   "metadata": {},
   "outputs": [],
   "source": [
    "print((lambda x, y: (x+y)/2)(3, 5))"
   ]
  },
  {
   "cell_type": "code",
   "execution_count": 1,
   "id": "f3722788-25ae-458b-98db-db0b9270bb1e",
   "metadata": {},
   "outputs": [
    {
     "name": "stdout",
     "output_type": "stream",
     "text": [
      "4.0\n"
     ]
    }
   ],
   "source": [
    "average = lambda x, y: (x+y)/2   # lambdanin ikincil kullanimi. ayni def deki gibi cagirip deger atayabiliriz\n",
    "print(average(3, 5))  # we call"
   ]
  },
  {
   "cell_type": "code",
   "execution_count": 19,
   "id": "9d12b4ca-e83f-4909-91bb-cb7f01f91e2a",
   "metadata": {},
   "outputs": [
    {
     "name": "stdout",
     "output_type": "stream",
     "text": [
      "1 : odd\n",
      "2 : even\n",
      "3 : odd\n",
      "4 : even\n",
      "5 : odd\n",
      "6 : even\n"
     ]
    }
   ],
   "source": [
    "liste = [1, 2, 3, 4, 5, 6]\n",
    "for i in liste :\n",
    "  print(i, \":\" , (lambda x : \"odd\" if x  % 2 != 0 else \"even\")(i))\n"
   ]
  },
  {
   "cell_type": "code",
   "execution_count": 20,
   "id": "c5fcab01-2b46-4796-afb4-d9b420b32660",
   "metadata": {},
   "outputs": [
    {
     "name": "stdout",
     "output_type": "stream",
     "text": [
      "odd\n"
     ]
    }
   ],
   "source": [
    "finder = lambda x: 'odd' if x % 2 != 0 else 'even'\n",
    "print(finder(5))"
   ]
  },
  {
   "cell_type": "code",
   "execution_count": 21,
   "id": "0f9d8fd0-ac8d-4588-87a7-106024cb7580",
   "metadata": {},
   "outputs": [
    {
     "name": "stdout",
     "output_type": "stream",
     "text": [
      "ila\n"
     ]
    }
   ],
   "source": [
    "reverser = (lambda x : x[::-1])\n",
    "print(reverser(\"ali\"))"
   ]
  },
  {
   "cell_type": "code",
   "execution_count": 23,
   "id": "bf72052a-f59a-4283-a8e8-02fe9705d4dc",
   "metadata": {},
   "outputs": [
    {
     "data": {
      "text/plain": [
       "[1, 4, 9]"
      ]
     },
     "execution_count": 23,
     "metadata": {},
     "output_type": "execute_result"
    }
   ],
   "source": [
    "sonuc = list(map(lambda x: x**2, [1, 2, 3]))"
   ]
  },
  {
   "cell_type": "code",
   "execution_count": 24,
   "id": "b66ded5f-bd8c-4b7d-88fa-2f620b362d3a",
   "metadata": {},
   "outputs": [
    {
     "name": "stdout",
     "output_type": "stream",
     "text": [
      "1 4 9\n"
     ]
    }
   ],
   "source": [
    "fonksiyon = lambda x: x**2\n",
    "iterable = [1, 2, 3]\n",
    "\n",
    "sonuc = map(fonksiyon, iterable)  # map fonksiyonu icine 1 fonksiyon ve 1 iterable konmalidir\n",
    "\n",
    "print(*sonuc)"
   ]
  },
  {
   "cell_type": "code",
   "execution_count": 30,
   "id": "ac30eb61-a368-44c8-b825-658db079b159",
   "metadata": {},
   "outputs": [
    {
     "name": "stdout",
     "output_type": "stream",
     "text": [
      "<map object at 0x00000272F739EFA0>\n",
      "1 4 9\n"
     ]
    }
   ],
   "source": [
    "sonuc = (map(lambda x: x**2, [1, 2, 3]))\n",
    "\n",
    "print(sonuc)\n",
    "print(*sonuc)"
   ]
  },
  {
   "cell_type": "code",
   "execution_count": 33,
   "id": "7c12da76-3d8f-4cc2-a725-a908669cb2f1",
   "metadata": {},
   "outputs": [
    {
     "name": "stdout",
     "output_type": "stream",
     "text": [
      "hellohellohello\n"
     ]
    }
   ],
   "source": [
    "echo_word = lambda x, y: x * y\n",
    "print(echo_word(\"hello\", 3))"
   ]
  },
  {
   "cell_type": "code",
   "execution_count": 34,
   "id": "23a79471-4324-42c1-aa3f-cc06e88d7ae5",
   "metadata": {},
   "outputs": [
    {
     "name": "stdout",
     "output_type": "stream",
     "text": [
      "<class 'map'>\n",
      "[1, 4, 9, 16, 25]\n",
      "[1, 4, 9, 16, 25]\n"
     ]
    }
   ],
   "source": [
    "iterable = [1, 2, 3, 4, 5]\n",
    "map(lambda x:x**2, iterable)\n",
    "result = map(lambda x:x**2, iterable)\n",
    "print(type(result))  # it's a map type\n",
    "\n",
    "print(list(result))  # we've converted it to list type to print\n",
    "\n",
    "print(list(map(lambda x:x**2, iterable)))  # you can print directly"
   ]
  },
  {
   "cell_type": "code",
   "execution_count": 35,
   "id": "e499bc39-f1f1-4a1a-8738-387dbae52412",
   "metadata": {},
   "outputs": [
    {
     "name": "stdout",
     "output_type": "stream",
     "text": [
      "[1, 4, 9, 16, 25]\n"
     ]
    }
   ],
   "source": [
    "def square(n):   # at least two additional lines of code\n",
    "    return n**2  \n",
    "  \n",
    "iterable = [1, 2, 3, 4, 5]\n",
    "result = map(square, iterable) \n",
    "print(list(result))"
   ]
  },
  {
   "cell_type": "code",
   "execution_count": 39,
   "id": "0c4676ac-80e7-40af-b30f-32b3edf2a908",
   "metadata": {},
   "outputs": [
    {
     "name": "stdout",
     "output_type": "stream",
     "text": [
      "['one', 'six', 'ten', 'two']\n"
     ]
    }
   ],
   "source": [
    "letter1 = ['o', 's', 't', 't']\n",
    "letter2 = ['n', 'i', 'e', 'w']\n",
    "letter3 = ['e', 'x', 'n', 'o']\n",
    "numbers = map(lambda x, y, z: x+y+z, letter1, letter2, letter3)  # map fonksiyonu ile her listenin sirasiyla elemanlarini birlestirir\n",
    "\n",
    "print(list(numbers))"
   ]
  },
  {
   "cell_type": "code",
   "execution_count": 43,
   "id": "880ce5ab-d758-46f9-b136-a7ff2d738528",
   "metadata": {},
   "outputs": [
    {
     "name": "stdout",
     "output_type": "stream",
     "text": [
      "<function <lambda> at 0x00000272F8545D30> ['o', 's', 't', 't'] ['n', 'i', 'e', 'w'] ['e', 'x', 'n', 'o']\n"
     ]
    }
   ],
   "source": [
    "letter1 = ['o', 's', 't', 't']\n",
    "letter2 = ['n', 'i', 'e', 'w']\n",
    "letter3 = ['e', 'x', 'n', 'o']\n",
    "numbers = (lambda x, y, z: x+y+z, letter1, letter2, letter3)   #map kullanmazsak ne olur diye\n",
    "print(numbers)"
   ]
  },
  {
   "cell_type": "code",
   "execution_count": 46,
   "id": "d462e292-0c11-402f-8d86-fdfbdb63fd82",
   "metadata": {},
   "outputs": [
    {
     "name": "stdout",
     "output_type": "stream",
     "text": [
      "[6.0, 6.0, 6.0, 6.0]\n"
     ]
    }
   ],
   "source": [
    "num1 = [9, 6, 7, 4]\n",
    "num2 = [3, 6, 5, 8]\n",
    "\n",
    "func = lambda x, y: (x + y) / 2\n",
    "number = map(func, num1, num2)\n",
    "print(list(number))"
   ]
  },
  {
   "cell_type": "code",
   "execution_count": 53,
   "id": "c5052d3c-1382-4b64-b979-196592407f4e",
   "metadata": {},
   "outputs": [
    {
     "name": "stdout",
     "output_type": "stream",
     "text": [
      "i love you\n",
      "you ate much\n",
      "he works hard\n"
     ]
    }
   ],
   "source": [
    "words1 = [\"you\", \"much\", \"hard\"]\n",
    "words2 = [\"i\", \"you\", \"he\"]\n",
    "words3 = [\"love\", \"ate\", \"works\"]\n",
    "\n",
    "sentences = map(lambda a, b, c: b + \" \" + c + \" \" + a, words1, words2, words3)\n",
    "for i in sentences:\n",
    "    print(i)"
   ]
  },
  {
   "cell_type": "code",
   "execution_count": 54,
   "id": "2aef80d4-7f7d-43f7-91eb-933ac2b8cd7e",
   "metadata": {},
   "outputs": [
    {
     "name": "stdout",
     "output_type": "stream",
     "text": [
      "<class 'filter'>\n",
      "Even numbers are : [0, 2, 4, 6, 8]\n"
     ]
    }
   ],
   "source": [
    "first_ten = [0, 1, 2, 3, 4, 5, 6, 7, 8, 9] \n",
    "  \n",
    "even = filter(lambda x: x % 2 == 0, first_ten) \n",
    "print(type(even))  # it's 'filter' type, \n",
    "                   # in order to print the result,\n",
    "                   # we'd better convert it into the list type\n",
    "\n",
    "print('Even numbers are :', list(even))"
   ]
  },
  {
   "cell_type": "code",
   "execution_count": 55,
   "id": "61ea36c1-ecd3-4ad3-9ae7-3cade4f563a5",
   "metadata": {},
   "outputs": [
    {
     "name": "stdout",
     "output_type": "stream",
     "text": [
      "Vowels are : ['a', 'e', 'i']\n"
     ]
    }
   ],
   "source": [
    "vowel_list = ['a', 'e', 'i', 'o', 'u']\n",
    "first_ten = ['a', 'b', 'c', 'd', 'e', 'f', 'g', 'h', 'i', 'j']\n",
    "  \n",
    "vowels = filter(lambda x: True if x in vowel_list else False, first_ten) \n",
    "\n",
    "print('Vowels are :', list(vowels))"
   ]
  },
  {
   "cell_type": "code",
   "execution_count": 56,
   "id": "103e502e-b488-44a9-b7fc-ea3353a7f00a",
   "metadata": {},
   "outputs": [
    {
     "name": "stdout",
     "output_type": "stream",
     "text": [
      "['swim', 'me', 'kiwi']\n"
     ]
    }
   ],
   "source": [
    "words = [\"apple\", \"swim\", \"clock\", \"me\", \"kiwi\", \"banana\"]\n",
    "\n",
    "small = filter(lambda x : len(x) < 5 , words)\n",
    "print(list(small))\n"
   ]
  },
  {
   "cell_type": "code",
   "execution_count": 57,
   "id": "49bb21eb-f177-4d49-a077-276fa1002186",
   "metadata": {},
   "outputs": [
    {
     "name": "stdout",
     "output_type": "stream",
     "text": [
      "swim\n",
      "me\n",
      "kiwi\n"
     ]
    }
   ],
   "source": [
    "words = [\"apple\", \"swim\", \"clock\", \"me\", \"kiwi\", \"banana\"]\n",
    "\n",
    "for i in filter(lambda x : len(x) < 5 , words) :\n",
    "    print(i)"
   ]
  },
  {
   "cell_type": "code",
   "execution_count": 61,
   "id": "29d8a788-82fa-4ed1-861e-bb2d5653bea4",
   "metadata": {},
   "outputs": [
    {
     "name": "stdout",
     "output_type": "stream",
     "text": [
      "4\n",
      "8\n",
      "16\n"
     ]
    }
   ],
   "source": [
    "def modular_function(n):\n",
    "    return lambda x: x ** n\n",
    "    \n",
    "power_of_2 = modular_function(2)  # first sub-function derived from def          foksiyondan yeni fonksiyon yapiyoruz\n",
    "power_of_3 = modular_function(3)  # second sub-function derived from def\n",
    "power_of_4 = modular_function(4)  # third sub-function derived from def\n",
    "\n",
    "print(power_of_2(2))  # 2 to the power of 2  2**2\n",
    "print(power_of_3(2))  # 2 to the power of 3  2**3\n",
    "print(power_of_4(2))  # 2 to the power of 4  2**4"
   ]
  },
  {
   "cell_type": "code",
   "execution_count": 62,
   "id": "7614c13f-f0dd-4f71-9981-b45e61bd086e",
   "metadata": {},
   "outputs": [
    {
     "name": "stdout",
     "output_type": "stream",
     "text": [
      "alex alex \n",
      "lara lara lara \n",
      "linda linda linda linda \n"
     ]
    }
   ],
   "source": [
    "def repeater(n):\n",
    "    return lambda x: x * n    # n kere tektar eden fonksiyon yazdik\n",
    "    \n",
    "repeat_2_times = repeater(2)  # repeats 2 times\n",
    "repeat_3_times = repeater(3)  # repeats 3 times\n",
    "repeat_4_times = repeater(4)  # repeats 4 times\n",
    "\n",
    "print(repeat_2_times('alex '))\n",
    "print(repeat_3_times('lara '))\n",
    "print(repeat_4_times('linda '))"
   ]
  },
  {
   "cell_type": "code",
   "execution_count": 64,
   "id": "db6f8467-defd-4759-a68d-9cdb0c620736",
   "metadata": {},
   "outputs": [
    {
     "name": "stdout",
     "output_type": "stream",
     "text": [
      "hello :)\n",
      "hello :(\n",
      "hello :|\n"
     ]
    }
   ],
   "source": [
    "def functioner(emoji):\n",
    "    return lambda x : print(x, emoji)\n",
    "\n",
    "myPrint_smile = functioner(\":)\")\n",
    "myPrint_sad = functioner(\":(\")\n",
    "myPrint_neutral = functioner(\":|\")\n",
    "\n",
    "myPrint_smile(\"hello\")\n",
    "myPrint_sad(\"hello\")\n",
    "myPrint_neutral(\"hello\")     \n",
    "   "
   ]
  },
  {
   "cell_type": "code",
   "execution_count": 65,
   "id": "6ba13be9-6a23-4eeb-af9a-9b4a179c1d09",
   "metadata": {},
   "outputs": [],
   "source": [
    "def func_generator(func_name):\n",
    "    return lambda x: func_name(x)\n"
   ]
  },
  {
   "cell_type": "code",
   "execution_count": 66,
   "id": "5f4ae970-ebe5-43f5-8ab7-616bcc2fa81a",
   "metadata": {},
   "outputs": [],
   "source": [
    "goksel_max = func_generator(max)\n",
    "goksel_sorted = func_generator(sorted)"
   ]
  },
  {
   "cell_type": "code",
   "execution_count": 67,
   "id": "bd1c5d83-30b0-4c51-8b4e-97e0133acd1d",
   "metadata": {},
   "outputs": [
    {
     "data": {
      "text/plain": [
       "7"
      ]
     },
     "execution_count": 67,
     "metadata": {},
     "output_type": "execute_result"
    }
   ],
   "source": [
    "goksel_max((2, 5, 7, 1, 3))"
   ]
  },
  {
   "cell_type": "code",
   "execution_count": 68,
   "id": "f0ca22ee-ae43-4c52-aa2c-d6ee18fd9e7b",
   "metadata": {},
   "outputs": [
    {
     "data": {
      "text/plain": [
       "[1, 3, 4, 6, 7, 8]"
      ]
     },
     "execution_count": 68,
     "metadata": {},
     "output_type": "execute_result"
    }
   ],
   "source": [
    "goksel_sorted((7, 8, 3, 4,  6, 1))"
   ]
  },
  {
   "cell_type": "code",
   "execution_count": null,
   "id": "d7327868-19d5-48b2-af5c-dd06abecfcfe",
   "metadata": {},
   "outputs": [],
   "source": []
  }
 ],
 "metadata": {
  "kernelspec": {
   "display_name": "Python 3",
   "language": "python",
   "name": "python3"
  },
  "language_info": {
   "codemirror_mode": {
    "name": "ipython",
    "version": 3
   },
   "file_extension": ".py",
   "mimetype": "text/x-python",
   "name": "python",
   "nbconvert_exporter": "python",
   "pygments_lexer": "ipython3",
   "version": "3.8.8"
  }
 },
 "nbformat": 4,
 "nbformat_minor": 5
}
