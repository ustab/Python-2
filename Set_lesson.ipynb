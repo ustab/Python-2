{
 "cells": [
  {
   "cell_type": "code",
   "execution_count": 1,
   "id": "53a9a278-d09d-4cd1-b85a-f3ef5e9c53de",
   "metadata": {},
   "outputs": [
    {
     "data": {
      "text/plain": [
       "5"
      ]
     },
     "execution_count": 1,
     "metadata": {},
     "output_type": "execute_result"
    }
   ],
   "source": [
    "len([1, 1, 2, 0, 1])"
   ]
  },
  {
   "cell_type": "code",
   "execution_count": 2,
   "id": "158fb7b2-c599-416e-b1c5-9fd30239fde5",
   "metadata": {},
   "outputs": [
    {
     "data": {
      "text/plain": [
       "3"
      ]
     },
     "execution_count": 2,
     "metadata": {},
     "output_type": "execute_result"
    }
   ],
   "source": [
    "len({1, 1, 2, 0, 1})  # kumelerde eleman tekrari yoktur. Herbir elemandan 1 tane kabul eder"
   ]
  },
  {
   "cell_type": "code",
   "execution_count": 3,
   "id": "b70ed477-fc79-4b3b-9008-2d8413aa5e68",
   "metadata": {},
   "outputs": [
    {
     "data": {
      "text/plain": [
       "{0, 1, 2}"
      ]
     },
     "execution_count": 3,
     "metadata": {},
     "output_type": "execute_result"
    }
   ],
   "source": [
    "ilk_kumem = {1, 1, 2, 0, 1}\n",
    "ilk_kumem"
   ]
  },
  {
   "cell_type": "code",
   "execution_count": 4,
   "id": "deb26d99-bc23-43e2-8e1a-91a736e4fd10",
   "metadata": {},
   "outputs": [
    {
     "name": "stdout",
     "output_type": "stream",
     "text": [
      "['a', 'b', 'c', 'd', 'e', 'f', 'g', 'h', 'i', 'j', 'k', 'l', 'm', 'n', 'o', 'p', 'r', 's', 't', 'u', 'v', 'x', 'w', 'y', 'z']\n"
     ]
    }
   ],
   "source": [
    "letter = \"a b c d e f g h i j k l m n o p r s t u v x w y z\".split()\n",
    "print(letter)"
   ]
  },
  {
   "cell_type": "code",
   "execution_count": 5,
   "id": "65da9c65-c12a-4305-b499-730c032702e5",
   "metadata": {},
   "outputs": [
    {
     "name": "stdout",
     "output_type": "stream",
     "text": [
      "{'p', 'b', 'k', 'u', 'l', 'v', 'f', 'o', 'e', 'i', 'x', 'y', 'm', 'g', 'z', 'h', 'n', 'w', 't', 'a', 'd', 'r', 's', 'c', 'j'}\n"
     ]
    }
   ],
   "source": [
    "print(set(letter))  # (set)kume ye cevirince random siralar. Bir kurali yok"
   ]
  },
  {
   "cell_type": "code",
   "execution_count": 6,
   "id": "5bdd90cb-1a3c-427a-93c7-685568a98284",
   "metadata": {},
   "outputs": [
    {
     "name": "stdout",
     "output_type": "stream",
     "text": [
      "{'p', 'b', 'k', 'u', 'l', 'v', 'f', 'o', 'e', 'i', 'x', 'y', 'm', 'g', 'z', 'h', 'n', 'w', 't', 'a', 'd', 'r', 's', 'c', 'j'}\n"
     ]
    }
   ],
   "source": [
    "print(set(letter))"
   ]
  },
  {
   "cell_type": "code",
   "execution_count": 7,
   "id": "71530b0b-dadf-48ef-8c39-370f59dc9cfa",
   "metadata": {},
   "outputs": [
    {
     "name": "stdout",
     "output_type": "stream",
     "text": [
      "{'red', 'pink', 'blue'}\n",
      "{'red', 'pink', 'blue'}\n"
     ]
    }
   ],
   "source": [
    "set_1 = {'red', 'blue', 'pink', 'red'}\n",
    "colors = 'red', 'blue', 'pink', 'red'\n",
    "set_2 = set(colors)\n",
    "print(set_1)\n",
    "print(set_2)"
   ]
  },
  {
   "cell_type": "code",
   "execution_count": 8,
   "id": "14130deb-6f39-4a8d-be4e-f539a6b02816",
   "metadata": {},
   "outputs": [
    {
     "data": {
      "text/plain": [
       "2"
      ]
     },
     "execution_count": 8,
     "metadata": {},
     "output_type": "execute_result"
    }
   ],
   "source": [
    "test = {1, \"1\", 1.0}   # integer 1 ile float 1.0 ayni kabul eder\n",
    "len(test)"
   ]
  },
  {
   "cell_type": "code",
   "execution_count": 9,
   "id": "f7c64227-e7b7-42c5-b5eb-928566af3f51",
   "metadata": {},
   "outputs": [
    {
     "ename": "TypeError",
     "evalue": "unhashable type: 'list'",
     "output_type": "error",
     "traceback": [
      "\u001b[1;31m---------------------------------------------------------------------------\u001b[0m",
      "\u001b[1;31mTypeError\u001b[0m                                 Traceback (most recent call last)",
      "\u001b[1;32m<ipython-input-9-afdcb2aa6bd2>\u001b[0m in \u001b[0;36m<module>\u001b[1;34m\u001b[0m\n\u001b[0;32m      1\u001b[0m \u001b[0mgiven_list\u001b[0m \u001b[1;33m=\u001b[0m \u001b[1;33m[\u001b[0m\u001b[1;36m1\u001b[0m\u001b[1;33m,\u001b[0m \u001b[1;36m2\u001b[0m\u001b[1;33m,\u001b[0m \u001b[1;36m3\u001b[0m\u001b[1;33m,\u001b[0m \u001b[1;36m4\u001b[0m\u001b[1;33m,\u001b[0m \u001b[1;36m5\u001b[0m\u001b[1;33m]\u001b[0m\u001b[1;33m\u001b[0m\u001b[1;33m\u001b[0m\u001b[0m\n\u001b[1;32m----> 2\u001b[1;33m \u001b[1;33m{\u001b[0m\u001b[0mgiven_list\u001b[0m\u001b[1;33m}\u001b[0m      \u001b[1;31m# listelerden manuel olarak kume yapamayiz\u001b[0m\u001b[1;33m\u001b[0m\u001b[1;33m\u001b[0m\u001b[0m\n\u001b[0m",
      "\u001b[1;31mTypeError\u001b[0m: unhashable type: 'list'"
     ]
    }
   ],
   "source": [
    "given_list = [1, 2, 3, 4, 5]\n",
    "{given_list}      # listelerden manuel olarak kume yapamayiz"
   ]
  },
  {
   "cell_type": "code",
   "execution_count": 10,
   "id": "6bab545f-9bad-453b-9574-5f6baaa3f021",
   "metadata": {},
   "outputs": [
    {
     "ename": "TypeError",
     "evalue": "unhashable type: 'list'",
     "output_type": "error",
     "traceback": [
      "\u001b[1;31m---------------------------------------------------------------------------\u001b[0m",
      "\u001b[1;31mTypeError\u001b[0m                                 Traceback (most recent call last)",
      "\u001b[1;32m<ipython-input-10-ec78a3f60b4c>\u001b[0m in \u001b[0;36m<module>\u001b[1;34m\u001b[0m\n\u001b[1;32m----> 1\u001b[1;33m \u001b[0mkarisik\u001b[0m \u001b[1;33m=\u001b[0m \u001b[1;33m{\u001b[0m\u001b[1;33m[\u001b[0m\u001b[1;36m1\u001b[0m\u001b[1;33m,\u001b[0m\u001b[1;36m2\u001b[0m\u001b[1;33m,\u001b[0m\u001b[1;36m3\u001b[0m\u001b[1;33m]\u001b[0m\u001b[1;33m,\u001b[0m \u001b[1;33m{\u001b[0m\u001b[1;36m1\u001b[0m \u001b[1;33m:\u001b[0m \u001b[1;34m\"bir\"\u001b[0m\u001b[1;33m}\u001b[0m\u001b[1;33m,\u001b[0m \u001b[1;33m(\u001b[0m\u001b[1;34m\"uc\"\u001b[0m\u001b[1;33m,\u001b[0m \u001b[1;34m\"dort\"\u001b[0m\u001b[1;33m)\u001b[0m\u001b[1;33m}\u001b[0m   \u001b[1;31m# icinde liste varsa kume olamaz.\u001b[0m\u001b[1;33m\u001b[0m\u001b[1;33m\u001b[0m\u001b[0m\n\u001b[0m",
      "\u001b[1;31mTypeError\u001b[0m: unhashable type: 'list'"
     ]
    }
   ],
   "source": [
    "karisik = {[1,2,3], {1 : \"bir\"}, (\"uc\", \"dort\")}   # icinde liste varsa kume olamaz.\n"
   ]
  },
  {
   "cell_type": "code",
   "execution_count": 11,
   "id": "8afd4eb1-c21c-42a2-9137-90010d59cfd9",
   "metadata": {},
   "outputs": [
    {
     "ename": "TypeError",
     "evalue": "unhashable type: 'set'",
     "output_type": "error",
     "traceback": [
      "\u001b[1;31m---------------------------------------------------------------------------\u001b[0m",
      "\u001b[1;31mTypeError\u001b[0m                                 Traceback (most recent call last)",
      "\u001b[1;32m<ipython-input-11-c0301524fa02>\u001b[0m in \u001b[0;36m<module>\u001b[1;34m\u001b[0m\n\u001b[1;32m----> 1\u001b[1;33m \u001b[0mmix\u001b[0m \u001b[1;33m=\u001b[0m \u001b[1;33m{\u001b[0m\u001b[1;36m1\u001b[0m\u001b[1;33m,\u001b[0m \u001b[1;36m2\u001b[0m\u001b[1;33m,\u001b[0m \u001b[1;33m{\u001b[0m\u001b[1;36m3\u001b[0m\u001b[1;33m,\u001b[0m \u001b[1;36m4\u001b[0m\u001b[1;33m}\u001b[0m\u001b[1;33m}\u001b[0m  \u001b[1;31m#kumenin icinde kume de olamaz\u001b[0m\u001b[1;33m\u001b[0m\u001b[1;33m\u001b[0m\u001b[0m\n\u001b[0m",
      "\u001b[1;31mTypeError\u001b[0m: unhashable type: 'set'"
     ]
    }
   ],
   "source": [
    "mix = {1, 2, {3, 4}}  #kumenin icinde kume de olamaz "
   ]
  },
  {
   "cell_type": "code",
   "execution_count": 12,
   "id": "55cba4fb-383d-44fa-9aa6-8354853d2e9d",
   "metadata": {},
   "outputs": [
    {
     "data": {
      "text/plain": [
       "{(3, 4), 1, 2}"
      ]
     },
     "execution_count": 12,
     "metadata": {},
     "output_type": "execute_result"
    }
   ],
   "source": [
    "tuple_set = {1, 2, (3, 4)}   # kume icinde tuple olabilir\n",
    "tuple_set"
   ]
  },
  {
   "cell_type": "code",
   "execution_count": 13,
   "id": "dc9e2dd5-5af7-4683-9817-88d93f89edbe",
   "metadata": {},
   "outputs": [
    {
     "name": "stdout",
     "output_type": "stream",
     "text": [
      "{'violet', 'carnation', 'rose', 'orchid'}\n",
      "['violet', 'carnation', 'rose', 'orchid']\n"
     ]
    }
   ],
   "source": [
    "flower_list = ['rose', 'violet', 'carnation', 'rose', 'orchid', 'rose', 'orchid']   #set list'e list set'e donusebilir.\n",
    "flowerset = set(flower_list)\n",
    "flowerlist = list(flowerset)\n",
    "\n",
    "print(flowerset) \n",
    "print(flowerlist)"
   ]
  },
  {
   "cell_type": "code",
   "execution_count": 14,
   "id": "a57aca38-93bb-4e00-868a-9693d9a39112",
   "metadata": {},
   "outputs": [
    {
     "data": {
      "text/plain": [
       "True"
      ]
     },
     "execution_count": 14,
     "metadata": {},
     "output_type": "execute_result"
    }
   ],
   "source": [
    "a = {'carnation', 'orchid', 'rose', 'violet'} \n",
    "b = {'rose', 'orchid', 'rose', 'violet', 'carnation'}   # iki kume esittir\n",
    "a == b"
   ]
  },
  {
   "cell_type": "code",
   "execution_count": 15,
   "id": "35a665e1-a1f1-4444-b6fa-07ad21cbc231",
   "metadata": {},
   "outputs": [
    {
     "data": {
      "text/plain": [
       "{'carnation', 'lily', 'orchid', 'rose', 'violet'}"
      ]
     },
     "execution_count": 15,
     "metadata": {},
     "output_type": "execute_result"
    }
   ],
   "source": [
    "a.add(\"lily\")   #add komutu ile eleman eklenir*********************************************\n",
    "a"
   ]
  },
  {
   "cell_type": "code",
   "execution_count": 16,
   "id": "3a0f90d4-9ce1-4252-aa2b-32837ef4d747",
   "metadata": {},
   "outputs": [
    {
     "data": {
      "text/plain": [
       "{'carnation', 'orchid', 'violet'}"
      ]
     },
     "execution_count": 16,
     "metadata": {},
     "output_type": "execute_result"
    }
   ],
   "source": [
    "a = {'carnation', 'orchid', 'rose', 'violet'} \n",
    "a.remove(\"rose\")              #remove komutu ile eleman cikarilir**************************************\n",
    "a"
   ]
  },
  {
   "cell_type": "code",
   "execution_count": 17,
   "id": "053872a2-adf3-4a19-b299-3eafda7f63ab",
   "metadata": {},
   "outputs": [
    {
     "name": "stdout",
     "output_type": "stream",
     "text": [
      "{'a', 'e'}\n",
      "{'a', 'e'}\n"
     ]
    }
   ],
   "source": [
    "a = set('philadelphia')\n",
    "b = set('dolphin')\n",
    "print(a-b)\n",
    "print(a.difference(b))   # a nin b den farkini bulma yontemi"
   ]
  },
  {
   "cell_type": "code",
   "execution_count": 18,
   "id": "9820b003-b25a-41b7-ba94-c8f0383a55aa",
   "metadata": {},
   "outputs": [
    {
     "name": "stdout",
     "output_type": "stream",
     "text": [
      "{'a', 'd', 'p', 'l', 'o', 'h', 'e', 'i', 'n'}\n",
      "{'a', 'd', 'p', 'l', 'o', 'h', 'e', 'i', 'n'}\n"
     ]
    }
   ],
   "source": [
    "a = set('philadelphia')\n",
    "b = set('dolphin')\n",
    "print(a | b)\n",
    "print(a.union(b))    # a ve b kumesini birlestirme"
   ]
  },
  {
   "cell_type": "code",
   "execution_count": 19,
   "id": "45fa0e29-33b2-449b-a5e9-11d42beaced0",
   "metadata": {},
   "outputs": [
    {
     "name": "stdout",
     "output_type": "stream",
     "text": [
      "{'d', 'p', 'l', 'h', 'i'}\n"
     ]
    }
   ],
   "source": [
    "a = set('philadelphia')\n",
    "b = set('dolphin')\n",
    "print(a.intersection(b))   # a ile b kumesinin kesisim kumesi "
   ]
  },
  {
   "cell_type": "code",
   "execution_count": 20,
   "id": "4312f20b-2bee-4352-ba76-0700f7c730dc",
   "metadata": {},
   "outputs": [
    {
     "name": "stdout",
     "output_type": "stream",
     "text": [
      "13\n",
      "{'d', 's', 'c', 'l', 'v', 'f', 'o', 'h', 'e', 'i', 'n', ' ', 't'}\n"
     ]
    }
   ],
   "source": [
    "print(len(set('listen to the voice of enlisted')))\n",
    "print(set('listen to the voice of enlisted'))"
   ]
  },
  {
   "cell_type": "code",
   "execution_count": 21,
   "id": "9367e137-8028-4120-a798-8c6a77bb3a5b",
   "metadata": {},
   "outputs": [
    {
     "name": "stdout",
     "output_type": "stream",
     "text": [
      "{'a', 'e'}\n"
     ]
    }
   ],
   "source": [
    "a = set('philadelphia')\n",
    "b = set('dolphin')\n",
    "print(a - b)"
   ]
  },
  {
   "cell_type": "code",
   "execution_count": 22,
   "id": "1e2ec346-1f40-4064-98e1-98ae7b4ca126",
   "metadata": {},
   "outputs": [
    {
     "name": "stdout",
     "output_type": "stream",
     "text": [
      "{'o', 'n'}\n"
     ]
    }
   ],
   "source": [
    "print(b - a)"
   ]
  },
  {
   "cell_type": "code",
   "execution_count": 23,
   "id": "00bedbc0-f227-4eed-a9d1-cae542b7fde2",
   "metadata": {},
   "outputs": [
    {
     "name": "stdout",
     "output_type": "stream",
     "text": [
      "{'a', 'd', 'p', 'l', 'o', 'h', 'e', 'i', 'n'}\n"
     ]
    }
   ],
   "source": [
    "print(a | b)  # | isareti union (birlesim) demektir"
   ]
  },
  {
   "cell_type": "code",
   "execution_count": 25,
   "id": "d0b4f0e8-7979-4c5c-87de-38fba952a62b",
   "metadata": {},
   "outputs": [
    {
     "name": "stdout",
     "output_type": "stream",
     "text": [
      "{'d', 'p', 'l', 'h', 'i'}\n"
     ]
    }
   ],
   "source": [
    "print(a & b)  # & isareti intersection (kesisim) demektir"
   ]
  },
  {
   "cell_type": "code",
   "execution_count": 27,
   "id": "1f4c2aa1-254c-4327-ac39-6bb7b1e4f093",
   "metadata": {},
   "outputs": [
    {
     "data": {
      "text/plain": [
       "{'/', '0', '1', '2', '4'}"
      ]
     },
     "execution_count": 27,
     "metadata": {},
     "output_type": "execute_result"
    }
   ],
   "source": [
    "date = \"11/04/2021\"\n",
    "set(date)"
   ]
  },
  {
   "cell_type": "code",
   "execution_count": 28,
   "id": "7ae1dbc3-9f72-4532-92e7-4dd72261bd72",
   "metadata": {},
   "outputs": [
    {
     "data": {
      "text/plain": [
       "{'11/04/2021'}"
      ]
     },
     "execution_count": 28,
     "metadata": {},
     "output_type": "execute_result"
    }
   ],
   "source": [
    "{date}"
   ]
  },
  {
   "cell_type": "code",
   "execution_count": 29,
   "id": "9f9c2b05-56f5-43cb-93a2-347fc2786106",
   "metadata": {},
   "outputs": [],
   "source": [
    "usa = set(\"washington\")\n",
    "nz = set(\"wellington\")"
   ]
  },
  {
   "cell_type": "code",
   "execution_count": 30,
   "id": "3ab26511-ff2d-4509-927d-fccb0a9c1a34",
   "metadata": {},
   "outputs": [
    {
     "data": {
      "text/plain": [
       "{'a', 'h', 's'}"
      ]
     },
     "execution_count": 30,
     "metadata": {},
     "output_type": "execute_result"
    }
   ],
   "source": [
    "usa - nz"
   ]
  },
  {
   "cell_type": "code",
   "execution_count": 31,
   "id": "45afc280-f610-4e2e-a1c9-08216c406741",
   "metadata": {},
   "outputs": [
    {
     "data": {
      "text/plain": [
       "{'e', 'l'}"
      ]
     },
     "execution_count": 31,
     "metadata": {},
     "output_type": "execute_result"
    }
   ],
   "source": [
    "nz - usa"
   ]
  },
  {
   "cell_type": "code",
   "execution_count": 32,
   "id": "fe6d2e15-e6ff-44b7-8379-8890d620ea96",
   "metadata": {},
   "outputs": [
    {
     "data": {
      "text/plain": [
       "{'g', 'i', 'n', 'o', 't', 'w'}"
      ]
     },
     "execution_count": 32,
     "metadata": {},
     "output_type": "execute_result"
    }
   ],
   "source": [
    "usa & nz"
   ]
  },
  {
   "cell_type": "code",
   "execution_count": 33,
   "id": "3b8a0c47-3ca6-41be-8a74-d268723b57f6",
   "metadata": {},
   "outputs": [
    {
     "data": {
      "text/plain": [
       "{'a', 'e', 'g', 'h', 'i', 'l', 'n', 'o', 's', 't', 'w'}"
      ]
     },
     "execution_count": 33,
     "metadata": {},
     "output_type": "execute_result"
    }
   ],
   "source": [
    "usa | nz"
   ]
  },
  {
   "cell_type": "code",
   "execution_count": 1,
   "id": "5bfd8f12-7827-4783-b32a-96ee300bb9ac",
   "metadata": {},
   "outputs": [
    {
     "name": "stdout",
     "output_type": "stream",
     "text": [
      "{'b', 'c', 'a'}\n",
      "{'san', 'b', 'c', 'a'}\n",
      "{'san', 'p', 'c', 'a', 'q', 'b'}\n"
     ]
    }
   ],
   "source": [
    "z=set('abc') \n",
    "print(z)\n",
    "\n",
    "z.add('san') \n",
    "print(z)\n",
    "\n",
    "z.update(set(['p', 'q'])) \n",
    "print(z)"
   ]
  },
  {
   "cell_type": "code",
   "execution_count": null,
   "id": "b72e73af-2d79-4d7e-8179-b9ffd5b219db",
   "metadata": {},
   "outputs": [],
   "source": []
  }
 ],
 "metadata": {
  "kernelspec": {
   "display_name": "Python 3",
   "language": "python",
   "name": "python3"
  },
  "language_info": {
   "codemirror_mode": {
    "name": "ipython",
    "version": 3
   },
   "file_extension": ".py",
   "mimetype": "text/x-python",
   "name": "python",
   "nbconvert_exporter": "python",
   "pygments_lexer": "ipython3",
   "version": "3.8.8"
  }
 },
 "nbformat": 4,
 "nbformat_minor": 5
}
