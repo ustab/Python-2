{
 "cells": [
  {
   "cell_type": "code",
   "execution_count": 11,
   "id": "dea6ddcd-894e-4057-9565-5adc2193919a",
   "metadata": {},
   "outputs": [
    {
     "ename": "SyntaxError",
     "evalue": "unexpected EOF while parsing (<ipython-input-11-72cc15c8adf1>, line 1)",
     "output_type": "error",
     "traceback": [
      "\u001b[1;36m  File \u001b[1;32m\"<ipython-input-11-72cc15c8adf1>\"\u001b[1;36m, line \u001b[1;32m1\u001b[0m\n\u001b[1;33m    print(\"Don't say 'I never make a mistake'\"\u001b[0m\n\u001b[1;37m                                              ^\u001b[0m\n\u001b[1;31mSyntaxError\u001b[0m\u001b[1;31m:\u001b[0m unexpected EOF while parsing\n"
     ]
    }
   ],
   "source": [
    "print(\"Don't say 'I never make a mistake'\""
   ]
  },
  {
   "cell_type": "markdown",
   "id": "86bd7955-3652-4016-800d-76ea53e698e6",
   "metadata": {},
   "source": [
    "Traceback modulu:  hatalari algilayip bize isaretleyerek gosteren moduldur. ^ isareti ile gosterir\n"
   ]
  },
  {
   "cell_type": "code",
   "execution_count": 12,
   "id": "ce870147-5feb-4022-8e65-7ebac956f849",
   "metadata": {},
   "outputs": [
    {
     "ename": "SyntaxError",
     "evalue": "invalid syntax (<ipython-input-12-cbdc82ecc18d>, line 2)",
     "output_type": "error",
     "traceback": [
      "\u001b[1;36m  File \u001b[1;32m\"<ipython-input-12-cbdc82ecc18d>\"\u001b[1;36m, line \u001b[1;32m2\u001b[0m\n\u001b[1;33m    File \"code.py\", line 1\u001b[0m\n\u001b[1;37m         ^\u001b[0m\n\u001b[1;31mSyntaxError\u001b[0m\u001b[1;31m:\u001b[0m invalid syntax\n"
     ]
    }
   ],
   "source": [
    "#Traceback (most recent call last):\n",
    "File \"code.py\", line 1\n",
    "    print(\"Don't say 'I never make a mistake'\"\n",
    "                                              ^\n",
    "SyntaxError: unexpected EOF while parsing"
   ]
  },
  {
   "cell_type": "code",
   "execution_count": null,
   "id": "1fc1fa40-1dad-48d3-88fb-e90cca8ece0c",
   "metadata": {},
   "outputs": [],
   "source": [
    "Tipik olarak, programınızı derlemeye çalışırken Python'un karşılaştığı veya kodunuzun çalıştırılamadığı bir sorunu belirtirler. YAZIM HATALARIDIR\n",
    "1- Tirnak isatretleri 2- Yanlis parantez 3- Yazim hatalari 4- Indents (girinti) hatalari"
   ]
  },
  {
   "cell_type": "markdown",
   "id": "7a08d2ca-2311-4e92-b394-9a2f8b95a57d",
   "metadata": {},
   "source": [
    "*****EXCEPTIONS*****\n",
    "\n",
    "SYNTAX ERROR da kodun okunurken olusan errordur. Kod hic calismaz. EXCEPTION ERROR da kod calisirken bir satirda ver verdigi errordur\n",
    "\n",
    "#TypeError- It occurs when the expected type does not match with the given type of a variable.\n",
    "#ValueError- It occurs when an expected value is not given, suppose you are expecting 6 elements in a list and you gave 2.\n",
    "#NameError- It occurs when you are trying to access an undefined variable\n",
    "#IOError- It occurs when you are trying to access a file that does not exist.\n",
    "#IndexError- It occurs when you are trying to access an invalid index of a sequence.\n",
    "#KeyError- It occurs when you use an invalid key to access a value in the dictionary."
   ]
  },
  {
   "cell_type": "code",
   "execution_count": null,
   "id": "4c8b2fcc-eaf9-4a96-853c-c35b20f701bc",
   "metadata": {},
   "outputs": [],
   "source": []
  },
  {
   "cell_type": "code",
   "execution_count": 13,
   "id": "8a368a69-dca4-4e59-847e-a4566e5d9be2",
   "metadata": {},
   "outputs": [
    {
     "name": "stdout",
     "output_type": "stream",
     "text": [
      "hello\n"
     ]
    },
    {
     "ename": "NameError",
     "evalue": "name 'hello' is not defined",
     "output_type": "error",
     "traceback": [
      "\u001b[1;31m---------------------------------------------------------------------------\u001b[0m",
      "\u001b[1;31mNameError\u001b[0m                                 Traceback (most recent call last)",
      "\u001b[1;32m<ipython-input-13-d52eb7f989a3>\u001b[0m in \u001b[0;36m<module>\u001b[1;34m\u001b[0m\n\u001b[0;32m      1\u001b[0m \u001b[0mprint\u001b[0m\u001b[1;33m(\u001b[0m\u001b[1;34m\"hello\"\u001b[0m\u001b[1;33m)\u001b[0m\u001b[1;33m\u001b[0m\u001b[1;33m\u001b[0m\u001b[0m\n\u001b[1;32m----> 2\u001b[1;33m \u001b[0mprint\u001b[0m\u001b[1;33m(\u001b[0m\u001b[0mhello\u001b[0m\u001b[1;33m)\u001b[0m\u001b[1;33m\u001b[0m\u001b[1;33m\u001b[0m\u001b[0m\n\u001b[0m",
      "\u001b[1;31mNameError\u001b[0m: name 'hello' is not defined"
     ]
    }
   ],
   "source": [
    "print(\"hello\")\n",
    "print(hello)"
   ]
  },
  {
   "cell_type": "code",
   "execution_count": 14,
   "id": "e04366eb-1d3e-40c9-b9ea-122513d812f1",
   "metadata": {},
   "outputs": [
    {
     "name": "stdout",
     "output_type": "stream",
     "text": [
      "Here we go!\n",
      "I will be the second text\n",
      "It is time for an error message :(\n"
     ]
    },
    {
     "ename": "TypeError",
     "evalue": "can only concatenate str (not \"int\") to str",
     "output_type": "error",
     "traceback": [
      "\u001b[1;31m---------------------------------------------------------------------------\u001b[0m",
      "\u001b[1;31mTypeError\u001b[0m                                 Traceback (most recent call last)",
      "\u001b[1;32m<ipython-input-14-a8bfc29e0ece>\u001b[0m in \u001b[0;36m<module>\u001b[1;34m\u001b[0m\n\u001b[0;32m      4\u001b[0m \u001b[0mb\u001b[0m \u001b[1;33m=\u001b[0m \u001b[1;36m5\u001b[0m\u001b[1;33m\u001b[0m\u001b[1;33m\u001b[0m\u001b[0m\n\u001b[0;32m      5\u001b[0m \u001b[0mprint\u001b[0m\u001b[1;33m(\u001b[0m\u001b[1;34m'It is time for an error message :('\u001b[0m\u001b[1;33m)\u001b[0m\u001b[1;33m\u001b[0m\u001b[1;33m\u001b[0m\u001b[0m\n\u001b[1;32m----> 6\u001b[1;33m \u001b[0mprint\u001b[0m\u001b[1;33m(\u001b[0m\u001b[0ma\u001b[0m \u001b[1;33m+\u001b[0m \u001b[0mb\u001b[0m\u001b[1;33m)\u001b[0m  \u001b[1;31m# it won't be printed\u001b[0m\u001b[1;33m\u001b[0m\u001b[1;33m\u001b[0m\u001b[0m\n\u001b[0m\u001b[0;32m      7\u001b[0m \u001b[0mprint\u001b[0m\u001b[1;33m(\u001b[0m\u001b[1;34m\"Sorry, but I won't be printed\"\u001b[0m\u001b[1;33m)\u001b[0m  \u001b[1;31m# it won't be printed\u001b[0m\u001b[1;33m\u001b[0m\u001b[1;33m\u001b[0m\u001b[0m\n",
      "\u001b[1;31mTypeError\u001b[0m: can only concatenate str (not \"int\") to str"
     ]
    }
   ],
   "source": [
    "print('Here we go!')\n",
    "print('I will be the second text')\n",
    "a = '3'\n",
    "b = 5\n",
    "print('It is time for an error message :(')\n",
    "print(a + b)  # it won't be printed\n",
    "print(\"Sorry, but I won't be printed\")  # it won't be printed"
   ]
  },
  {
   "cell_type": "code",
   "execution_count": 20,
   "id": "2b926ee1-d6d8-4534-a53b-81618a35f21b",
   "metadata": {},
   "outputs": [
    {
     "ename": "TypeError",
     "evalue": "'str' object cannot be interpreted as an integer",
     "output_type": "error",
     "traceback": [
      "\u001b[1;31m---------------------------------------------------------------------------\u001b[0m",
      "\u001b[1;31mTypeError\u001b[0m                                 Traceback (most recent call last)",
      "\u001b[1;32m<ipython-input-20-6dc3a9759f2b>\u001b[0m in \u001b[0;36m<module>\u001b[1;34m\u001b[0m\n\u001b[1;32m----> 1\u001b[1;33m \u001b[1;32mfor\u001b[0m \u001b[0mi\u001b[0m \u001b[1;32min\u001b[0m \u001b[0mrange\u001b[0m\u001b[1;33m(\u001b[0m\u001b[1;34m'x'\u001b[0m\u001b[1;33m)\u001b[0m\u001b[1;33m:\u001b[0m\u001b[1;33m\u001b[0m\u001b[1;33m\u001b[0m\u001b[0m\n\u001b[0m\u001b[0;32m      2\u001b[0m     \u001b[0mprint\u001b[0m\u001b[1;33m(\u001b[0m\u001b[0mi\u001b[0m\u001b[1;33m)\u001b[0m\u001b[1;33m\u001b[0m\u001b[1;33m\u001b[0m\u001b[0m\n",
      "\u001b[1;31mTypeError\u001b[0m: 'str' object cannot be interpreted as an integer"
     ]
    }
   ],
   "source": [
    "for i in range('x'):\n",
    "    print(i)\n"
   ]
  },
  {
   "cell_type": "code",
   "execution_count": 21,
   "id": "8bcffdb2-a855-4f5a-a3dd-cf600cab641d",
   "metadata": {},
   "outputs": [
    {
     "ename": "ValueError",
     "evalue": "invalid literal for int() with base 10: 'ten'",
     "output_type": "error",
     "traceback": [
      "\u001b[1;31m---------------------------------------------------------------------------\u001b[0m",
      "\u001b[1;31mValueError\u001b[0m                                Traceback (most recent call last)",
      "\u001b[1;32m<ipython-input-21-1fe0c5042e33>\u001b[0m in \u001b[0;36m<module>\u001b[1;34m\u001b[0m\n\u001b[1;32m----> 1\u001b[1;33m \u001b[0mprint\u001b[0m\u001b[1;33m(\u001b[0m\u001b[0mint\u001b[0m\u001b[1;33m(\u001b[0m\u001b[1;34m'ten'\u001b[0m\u001b[1;33m)\u001b[0m\u001b[1;33m)\u001b[0m\u001b[1;33m\u001b[0m\u001b[1;33m\u001b[0m\u001b[0m\n\u001b[0m",
      "\u001b[1;31mValueError\u001b[0m: invalid literal for int() with base 10: 'ten'"
     ]
    }
   ],
   "source": [
    "print(int('ten'))"
   ]
  },
  {
   "cell_type": "code",
   "execution_count": 22,
   "id": "5fb85ff3-2c13-4dae-8b60-be1fb876ded5",
   "metadata": {},
   "outputs": [
    {
     "ename": "NameError",
     "evalue": "name 'variable' is not defined",
     "output_type": "error",
     "traceback": [
      "\u001b[1;31m---------------------------------------------------------------------------\u001b[0m",
      "\u001b[1;31mNameError\u001b[0m                                 Traceback (most recent call last)",
      "\u001b[1;32m<ipython-input-22-4d9687973dd3>\u001b[0m in \u001b[0;36m<module>\u001b[1;34m\u001b[0m\n\u001b[1;32m----> 1\u001b[1;33m \u001b[0mprint\u001b[0m\u001b[1;33m(\u001b[0m\u001b[0mvariable\u001b[0m\u001b[1;33m)\u001b[0m\u001b[1;33m\u001b[0m\u001b[1;33m\u001b[0m\u001b[0m\n\u001b[0m\u001b[0;32m      2\u001b[0m \u001b[0mvariable\u001b[0m \u001b[1;33m=\u001b[0m \u001b[1;34m\"Don't ever give up!\"\u001b[0m\u001b[1;33m\u001b[0m\u001b[1;33m\u001b[0m\u001b[0m\n",
      "\u001b[1;31mNameError\u001b[0m: name 'variable' is not defined"
     ]
    }
   ],
   "source": [
    "print(variable)\n",
    "variable = \"Don't ever give up!\""
   ]
  },
  {
   "cell_type": "code",
   "execution_count": 23,
   "id": "0c1e7956-7304-4237-80e7-69a1bb45db88",
   "metadata": {},
   "outputs": [
    {
     "name": "stdin",
     "output_type": "stream",
     "text": [
      "The first number please :  5\n",
      "The second number please :  0\n"
     ]
    },
    {
     "ename": "ZeroDivisionError",
     "evalue": "division by zero",
     "output_type": "error",
     "traceback": [
      "\u001b[1;31m---------------------------------------------------------------------------\u001b[0m",
      "\u001b[1;31mZeroDivisionError\u001b[0m                         Traceback (most recent call last)",
      "\u001b[1;32m<ipython-input-23-56b1590ff214>\u001b[0m in \u001b[0;36m<module>\u001b[1;34m\u001b[0m\n\u001b[0;32m      2\u001b[0m     \u001b[0mno_one\u001b[0m \u001b[1;33m=\u001b[0m \u001b[0mint\u001b[0m\u001b[1;33m(\u001b[0m\u001b[0minput\u001b[0m\u001b[1;33m(\u001b[0m\u001b[1;34m\"The first number please : \"\u001b[0m\u001b[1;33m)\u001b[0m\u001b[1;33m)\u001b[0m\u001b[1;33m\u001b[0m\u001b[1;33m\u001b[0m\u001b[0m\n\u001b[0;32m      3\u001b[0m     \u001b[0mno_two\u001b[0m \u001b[1;33m=\u001b[0m \u001b[0mint\u001b[0m\u001b[1;33m(\u001b[0m\u001b[0minput\u001b[0m\u001b[1;33m(\u001b[0m\u001b[1;34m\"The second number please : \"\u001b[0m\u001b[1;33m)\u001b[0m\u001b[1;33m)\u001b[0m   \u001b[1;31m# 2. SAYIDA SIFIR KULLANINCA ERROR VERDI\u001b[0m\u001b[1;33m\u001b[0m\u001b[1;33m\u001b[0m\u001b[0m\n\u001b[1;32m----> 4\u001b[1;33m     \u001b[0mdivision\u001b[0m \u001b[1;33m=\u001b[0m \u001b[0mno_one\u001b[0m \u001b[1;33m/\u001b[0m \u001b[0mno_two\u001b[0m\u001b[1;33m\u001b[0m\u001b[1;33m\u001b[0m\u001b[0m\n\u001b[0m\u001b[0;32m      5\u001b[0m     \u001b[0mprint\u001b[0m\u001b[1;33m(\u001b[0m\u001b[1;34m\"The result of the division is : \"\u001b[0m\u001b[1;33m,\u001b[0m \u001b[0mdivision\u001b[0m\u001b[1;33m)\u001b[0m\u001b[1;33m\u001b[0m\u001b[1;33m\u001b[0m\u001b[0m\n\u001b[0;32m      6\u001b[0m     \u001b[1;32mbreak\u001b[0m\u001b[1;33m\u001b[0m\u001b[1;33m\u001b[0m\u001b[0m\n",
      "\u001b[1;31mZeroDivisionError\u001b[0m: division by zero"
     ]
    }
   ],
   "source": [
    "while True:\n",
    "    no_one = int(input(\"The first number please : \"))\n",
    "    no_two = int(input(\"The second number please : \"))   # 2. SAYIDA SIFIR KULLANINCA ERROR VERDI\n",
    "    division = no_one / no_two\n",
    "    print(\"The result of the division is : \", division)\n",
    "    break"
   ]
  },
  {
   "cell_type": "markdown",
   "id": "b8c680ef-2de8-495c-9513-dbef3014d30a",
   "metadata": {},
   "source": [
    "# try-except ifadesini kullanarak programımızın tereddüt etmeden \n",
    "devam etmesini sağlayabiliriz . \n",
    "Temel yapısı try-except açıklamada şöyle görünür:\n",
    "\n",
    "try blokundaki kod içinde exception yükselirse o bloğu atlayarak except bloğunu çalıştırıyor.\n",
    "eğer exception yükselmezse try bloğu sonuna kadar çalışıyor ve except bloğu çalışmıyor"
   ]
  },
  {
   "cell_type": "markdown",
   "id": "ecdd3ce0-c83f-4d96-a2ce-42d1bc33e41c",
   "metadata": {},
   "source": [
    "# try:\n",
    "    code block to be normally executed\n",
    "# except:\n",
    "    code block to be exceptionally executed"
   ]
  },
  {
   "cell_type": "code",
   "execution_count": 27,
   "id": "37e8fe62-e232-468f-809d-5d6a4ed299b2",
   "metadata": {},
   "outputs": [
    {
     "name": "stdin",
     "output_type": "stream",
     "text": [
      "The first number please :  7\n",
      "The second number please :  0\n"
     ]
    },
    {
     "name": "stdout",
     "output_type": "stream",
     "text": [
      "Something went wrong...Try again.\n"
     ]
    },
    {
     "name": "stdin",
     "output_type": "stream",
     "text": [
      "The first number please :  7\n",
      "The second number please :  2\n"
     ]
    },
    {
     "name": "stdout",
     "output_type": "stream",
     "text": [
      "The result of the division is :  3.5\n"
     ]
    }
   ],
   "source": [
    "while True:\n",
    "    no_one = int(input(\"The first number please : \"))\n",
    "    no_two = int(input(\"The second number please : \"))\n",
    "    try:\n",
    "        division = no_one / no_two\n",
    "        print(\"The result of the division is : \", division)\n",
    "        break\n",
    "    except:\n",
    "        print(\"Something went wrong...Try again.\")  # 2. SAYI OLARAK SIFIR KULLANSAK BILE ERROR VERMEDEN DEVAM EDER"
   ]
  },
  {
   "cell_type": "code",
   "execution_count": 1,
   "id": "328ad10c-c2a2-4b16-99a2-6dd7e66290c7",
   "metadata": {},
   "outputs": [
    {
     "name": "stdin",
     "output_type": "stream",
     "text": [
      "The first number please :  7\n",
      "The second number please :  0\n"
     ]
    },
    {
     "name": "stdout",
     "output_type": "stream",
     "text": [
      "You can't divide by zero! Enter again and don't use zero.\n"
     ]
    },
    {
     "name": "stdin",
     "output_type": "stream",
     "text": [
      "The first number please :  7\n",
      "The second number please :  2\n"
     ]
    },
    {
     "name": "stdout",
     "output_type": "stream",
     "text": [
      "The result of the division is :  3.5\n"
     ]
    }
   ],
   "source": [
    "while True:\n",
    "    no_one = int(input(\"The first number please : \"))\n",
    "    no_two = int(input(\"The second number please : \"))\n",
    "    try:\n",
    "        division = no_one / no_two\n",
    "        print(\"The result of the division is : \", division)\n",
    "        break\n",
    "    except ZeroDivisionError:\n",
    "        print(\"You can't divide by zero! Enter again and don't use zero.\")"
   ]
  },
  {
   "cell_type": "code",
   "execution_count": 2,
   "id": "36f31dd0-c2a1-4726-9510-78f269c6e33a",
   "metadata": {},
   "outputs": [
    {
     "name": "stdin",
     "output_type": "stream",
     "text": [
      "The first number please :  7\n",
      "The second number please :  0\n"
     ]
    },
    {
     "name": "stdout",
     "output_type": "stream",
     "text": [
      "You can't divide by zero! Try again.\n",
      "Thanks for using our mini divison calculator! Come again!\n"
     ]
    }
   ],
   "source": [
    "while True:\n",
    "    no_one = int(input(\"The first number please : \"))\n",
    "    no_two = int(input(\"The second number please : \"))\n",
    "    try:\n",
    "        division = no_one / no_two  # normal part of the program\n",
    "    except ZeroDivisionError:\n",
    "        print(\"You can't divide by zero! Try again.\")  # executes when division by zero\n",
    "    else:\n",
    "        print(\"The result of the division is : \", division)  # executes if there is no exception\n",
    "    finally:\n",
    "        print(\"Thanks for using our mini divison calculator! Come again!\")\n",
    "        break  # exits the while loop"
   ]
  },
  {
   "cell_type": "code",
   "execution_count": 3,
   "id": "06ab8ef2-64a0-4bdc-9512-00bc913d8fb9",
   "metadata": {},
   "outputs": [
    {
     "name": "stdin",
     "output_type": "stream",
     "text": [
      "The first number please :  7\n",
      "The second number please :  0\n"
     ]
    },
    {
     "name": "stdout",
     "output_type": "stream",
     "text": [
      "Something went wrong...Try again.\n",
      "Probably it is because of 'division by zero' error\n"
     ]
    }
   ],
   "source": [
    "while True:\n",
    "    no_one = int(input(\"The first number please : \"))\n",
    "    no_two = int(input(\"The second number please : \"))\n",
    "    try:\n",
    "        division = no_one / no_two\n",
    "        print(\"The result of the division is : \", division)\n",
    "        break\n",
    "    except Exception as e:\n",
    "        print(\"Something went wrong...Try again.\")\n",
    "        print(\"Probably it is because of '{}' error\".format(e))\n",
    "        break"
   ]
  },
  {
   "cell_type": "code",
   "execution_count": 4,
   "id": "6c6fed0a-8943-43d2-9ceb-b77e9f6c00bc",
   "metadata": {},
   "outputs": [
    {
     "name": "stdout",
     "output_type": "stream",
     "text": [
      "The error message is :  name 'c' is not defined\n"
     ]
    }
   ],
   "source": [
    "try :\n",
    "    a = 10\n",
    "    b = 2\n",
    "    print(\"The result of division is :\", c)\n",
    "except Exception as e:\n",
    "    print(\"The error message is : \", e)"
   ]
  },
  {
   "cell_type": "code",
   "execution_count": 5,
   "id": "d0f5e1a0-138e-4db4-8b3c-8c2bde08e8c7",
   "metadata": {},
   "outputs": [
    {
     "name": "stdout",
     "output_type": "stream",
     "text": [
      "Hello\n",
      "Nothing is wrong\n"
     ]
    }
   ],
   "source": [
    "try:\n",
    "    print(\"Hello\")\n",
    "except:\n",
    "    print(\"Something is wrong\")\n",
    "else:\n",
    "    print(\"Nothing is wrong\")"
   ]
  },
  {
   "cell_type": "code",
   "execution_count": 6,
   "id": "9097d8a5-4a4d-4c13-a90e-ce9cbc5db1df",
   "metadata": {},
   "outputs": [
    {
     "name": "stdout",
     "output_type": "stream",
     "text": [
      "Nothing went wrong\n"
     ]
    }
   ],
   "source": [
    "try:\n",
    "    x = 4 / 1\n",
    "except:\n",
    "    print('Something went wrong')\n",
    "else:\n",
    "    print('Nothing went wrong')\n"
   ]
  },
  {
   "cell_type": "code",
   "execution_count": 7,
   "id": "9b0d1bf6-ea8b-4809-8b88-250946c5ee05",
   "metadata": {},
   "outputs": [
    {
     "name": "stdout",
     "output_type": "stream",
     "text": [
      "Something went wrong\n",
      "Always execute this\n"
     ]
    }
   ],
   "source": [
    "try:\n",
    "    x = 3 / 0\n",
    "except:\n",
    "    print('Something went wrong')\n",
    "finally:\n",
    "    print('Always execute this')\n",
    "    "
   ]
  },
  {
   "cell_type": "code",
   "execution_count": 9,
   "id": "aef69ed8-9f1c-4109-8522-8f34b86472c3",
   "metadata": {},
   "outputs": [
    {
     "name": "stdout",
     "output_type": "stream",
     "text": [
      "Something went wrong\n"
     ]
    },
    {
     "ename": "NameError",
     "evalue": "name 'f' is not defined",
     "output_type": "error",
     "traceback": [
      "\u001b[1;31m---------------------------------------------------------------------------\u001b[0m",
      "\u001b[1;31mNameError\u001b[0m                                 Traceback (most recent call last)",
      "\u001b[1;32m<ipython-input-9-782ed6471f81>\u001b[0m in \u001b[0;36m<module>\u001b[1;34m\u001b[0m\n\u001b[0;32m      5\u001b[0m     \u001b[0mprint\u001b[0m\u001b[1;33m(\u001b[0m\u001b[1;34m\"Something went wrong\"\u001b[0m\u001b[1;33m)\u001b[0m\u001b[1;33m\u001b[0m\u001b[1;33m\u001b[0m\u001b[0m\n\u001b[0;32m      6\u001b[0m \u001b[1;32mfinally\u001b[0m\u001b[1;33m:\u001b[0m\u001b[1;33m\u001b[0m\u001b[1;33m\u001b[0m\u001b[0m\n\u001b[1;32m----> 7\u001b[1;33m     \u001b[0mf\u001b[0m\u001b[1;33m.\u001b[0m\u001b[0mclose\u001b[0m\u001b[1;33m(\u001b[0m\u001b[1;33m)\u001b[0m\u001b[1;33m\u001b[0m\u001b[1;33m\u001b[0m\u001b[0m\n\u001b[0m",
      "\u001b[1;31mNameError\u001b[0m: name 'f' is not defined"
     ]
    }
   ],
   "source": [
    "try:\n",
    "    f = open('myfile.txt')\n",
    "    print(f.read())\n",
    "except:\n",
    "    print(\"Something went wrong\")\n",
    "finally:\n",
    "    f.close()"
   ]
  },
  {
   "cell_type": "code",
   "execution_count": 10,
   "id": "e8249d4d-4689-4538-8c97-a515c56fdee6",
   "metadata": {},
   "outputs": [
    {
     "name": "stdout",
     "output_type": "stream",
     "text": [
      "Attempt to divide by zero\n"
     ]
    }
   ],
   "source": [
    "try:\n",
    "    x = 2/0\n",
    "except ZeroDivisionError:\n",
    "    print('Attempt to divide by zero')\n",
    "except:\n",
    "    print('Something else went wrong')"
   ]
  },
  {
   "cell_type": "markdown",
   "id": "122cde59-05ff-4604-8570-a1f1322f00c5",
   "metadata": {},
   "source": [
    "Tüm yerleşik istisnalar hiyerarşik bir yapı oluşturulduğundan , aşağıdaki istisna sözdizimlerini kullanabilirsiniz. \n",
    "Birkaç olasılığı yakalamak exceptiçin, farklı istisnalar için iki veya daha fazla blok kullanmak daha iyi olur ."
   ]
  },
  {
   "cell_type": "code",
   "execution_count": null,
   "id": "4d22e204-1738-4efa-91f5-32c1779d2601",
   "metadata": {},
   "outputs": [],
   "source": [
    "#input-1: belirli bir istisna tanımlayamazsınız:\n",
    "\n",
    "....\n",
    "except:\n",
    "    print(\"Unknown exception error occured. Tyr again please.\")\n",
    "input-2: different exception blocks :"
   ]
  },
  {
   "cell_type": "code",
   "execution_count": null,
   "id": "45192af9-5a17-4c85-a234-e9fecc537b82",
   "metadata": {},
   "outputs": [],
   "source": [
    "#input 2:farklı istisna blokları:\n",
    "\n",
    "....\n",
    "except ZeroDivisionError:\n",
    "   print(\"You can't divide by zero!!\")\n",
    "except ValueError:\n",
    "   print(\"You can only enter numbers consisting of digits, not text!!\")"
   ]
  },
  {
   "cell_type": "code",
   "execution_count": null,
   "id": "274c0b0e-9d0b-4695-a764-e9bc66d75c59",
   "metadata": {},
   "outputs": [],
   "source": [
    "#input 3: bir istisna sözdizimi ayrıca virgülle ayrılmış ve parantez içine alınmış birden çok istisna içerebilir.\n",
    "\n",
    "....\n",
    "except (ValueError, TypeError):\n",
    "    print(\"You can only enter numbers consisting of digits, not text!!\")"
   ]
  },
  {
   "cell_type": "code",
   "execution_count": null,
   "id": "3f8761a5-f1cd-46fc-bb5e-8b76e10b8a50",
   "metadata": {},
   "outputs": [],
   "source": [
    "#input 4: hiyerarşik yapı nedeniyle , bir istisna aslında çeşitli istisnaları yakalayabilir.\n",
    "\n",
    "....\n",
    "except ArithmeticError:\n",
    "    print(\"I will also catch OverflowError, FloatingPointError and ZeroDivisionError\")\n"
   ]
  },
  {
   "cell_type": "code",
   "execution_count": 15,
   "id": "35278627-5e41-47d8-9933-ae9e690bc2de",
   "metadata": {},
   "outputs": [],
   "source": [
    "import math\n"
   ]
  },
  {
   "cell_type": "code",
   "execution_count": 17,
   "id": "639132e9-c8a8-457d-a0de-22e52b715585",
   "metadata": {},
   "outputs": [
    {
     "ename": "ValueError",
     "evalue": "factorial() only accepts integral values",
     "output_type": "error",
     "traceback": [
      "\u001b[1;31m---------------------------------------------------------------------------\u001b[0m",
      "\u001b[1;31mValueError\u001b[0m                                Traceback (most recent call last)",
      "\u001b[1;32m<ipython-input-17-b91e08f20c98>\u001b[0m in \u001b[0;36m<module>\u001b[1;34m\u001b[0m\n\u001b[1;32m----> 1\u001b[1;33m \u001b[0mmath\u001b[0m\u001b[1;33m.\u001b[0m\u001b[0mfactorial\u001b[0m\u001b[1;33m(\u001b[0m\u001b[1;36m3.5\u001b[0m\u001b[1;33m)\u001b[0m\u001b[1;33m\u001b[0m\u001b[1;33m\u001b[0m\u001b[0m\n\u001b[0m",
      "\u001b[1;31mValueError\u001b[0m: factorial() only accepts integral values"
     ]
    }
   ],
   "source": [
    "math.factorial(3.5)"
   ]
  },
  {
   "cell_type": "code",
   "execution_count": 18,
   "id": "46935e57-cde3-45fe-9945-3994e65e44d7",
   "metadata": {},
   "outputs": [
    {
     "data": {
      "text/plain": [
       "5.0"
      ]
     },
     "execution_count": 18,
     "metadata": {},
     "output_type": "execute_result"
    }
   ],
   "source": [
    "math.sqrt(25) # karekoku alir"
   ]
  },
  {
   "cell_type": "code",
   "execution_count": 20,
   "id": "880e8e9a-e93a-4b93-855b-27e4396b08da",
   "metadata": {},
   "outputs": [
    {
     "ename": "ValueError",
     "evalue": "math domain error",
     "output_type": "error",
     "traceback": [
      "\u001b[1;31m---------------------------------------------------------------------------\u001b[0m",
      "\u001b[1;31mValueError\u001b[0m                                Traceback (most recent call last)",
      "\u001b[1;32m<ipython-input-20-ff1e1a1e1457>\u001b[0m in \u001b[0;36m<module>\u001b[1;34m\u001b[0m\n\u001b[1;32m----> 1\u001b[1;33m \u001b[0mmath\u001b[0m\u001b[1;33m.\u001b[0m\u001b[0msqrt\u001b[0m\u001b[1;33m(\u001b[0m\u001b[1;33m-\u001b[0m\u001b[1;36m25\u001b[0m\u001b[1;33m)\u001b[0m  \u001b[1;31m# eksi sayilarin karekoku olmaz\u001b[0m\u001b[1;33m\u001b[0m\u001b[1;33m\u001b[0m\u001b[0m\n\u001b[0m",
      "\u001b[1;31mValueError\u001b[0m: math domain error"
     ]
    }
   ],
   "source": [
    "math.sqrt(-25)  # eksi sayilarin karekoku olmaz\n"
   ]
  },
  {
   "cell_type": "code",
   "execution_count": 21,
   "id": "ecd02ce4-da62-4f2a-9e38-aebbc36cd69e",
   "metadata": {},
   "outputs": [
    {
     "data": {
      "text/plain": [
       "24"
      ]
     },
     "execution_count": 21,
     "metadata": {},
     "output_type": "execute_result"
    }
   ],
   "source": [
    "math.factorial(4) # kendisine kadar olan sayilarin carpimidir 4*3*2*1"
   ]
  },
  {
   "cell_type": "code",
   "execution_count": 22,
   "id": "77f9cde3-657b-40e6-8406-ee4b10f6be2e",
   "metadata": {},
   "outputs": [
    {
     "ename": "ValueError",
     "evalue": "factorial() not defined for negative values",
     "output_type": "error",
     "traceback": [
      "\u001b[1;31m---------------------------------------------------------------------------\u001b[0m",
      "\u001b[1;31mValueError\u001b[0m                                Traceback (most recent call last)",
      "\u001b[1;32m<ipython-input-22-001ef41ec39f>\u001b[0m in \u001b[0;36m<module>\u001b[1;34m\u001b[0m\n\u001b[1;32m----> 1\u001b[1;33m \u001b[0mmath\u001b[0m\u001b[1;33m.\u001b[0m\u001b[0mfactorial\u001b[0m\u001b[1;33m(\u001b[0m\u001b[1;33m-\u001b[0m\u001b[1;36m4\u001b[0m\u001b[1;33m)\u001b[0m\u001b[1;33m\u001b[0m\u001b[1;33m\u001b[0m\u001b[0m\n\u001b[0m",
      "\u001b[1;31mValueError\u001b[0m: factorial() not defined for negative values"
     ]
    }
   ],
   "source": [
    "math.factorial(-4)"
   ]
  },
  {
   "cell_type": "code",
   "execution_count": 18,
   "id": "02bbab9e-fbc3-4008-af5a-03c5f186ffab",
   "metadata": {},
   "outputs": [],
   "source": [
    "def factor(x) :\n",
    "    if x == 1 or x == 0 :\n",
    "        return 1 \n",
    "    else :\n",
    "        return x * factor(x - 1)"
   ]
  },
  {
   "cell_type": "code",
   "execution_count": 19,
   "id": "eb31eb5d-d71b-43e4-9990-7fffb4a1b1f7",
   "metadata": {},
   "outputs": [
    {
     "data": {
      "text/plain": [
       "120"
      ]
     },
     "execution_count": 19,
     "metadata": {},
     "output_type": "execute_result"
    }
   ],
   "source": [
    "factor(5)"
   ]
  },
  {
   "cell_type": "code",
   "execution_count": 3,
   "id": "f33d7d40-49cd-40e6-b9a6-07530c5754be",
   "metadata": {},
   "outputs": [],
   "source": [
    "def factorix(x) :\n",
    "    result = 1\n",
    "    for i in range(x) :\n",
    "        result *= (i + 1) \n",
    "    return result"
   ]
  },
  {
   "cell_type": "code",
   "execution_count": 5,
   "id": "82f6010c-fcef-46b2-a757-c5d2912b64d3",
   "metadata": {},
   "outputs": [
    {
     "name": "stdout",
     "output_type": "stream",
     "text": [
      "120\n"
     ]
    }
   ],
   "source": [
    "factorix(5)"
   ]
  },
  {
   "cell_type": "code",
   "execution_count": 16,
   "id": "4ae889a7-de34-41cd-b4a2-98e711ab1bfb",
   "metadata": {},
   "outputs": [],
   "source": [
    "def fx(x) :\n",
    "    result1 = 1\n",
    "    while x > 0 :\n",
    "        result1 *= x\n",
    "        x -= 1\n",
    "    return result1\n",
    "        "
   ]
  },
  {
   "cell_type": "code",
   "execution_count": 17,
   "id": "33135ecd-8d17-40ed-929a-54b29b04b1d7",
   "metadata": {},
   "outputs": [
    {
     "data": {
      "text/plain": [
       "120"
      ]
     },
     "execution_count": 17,
     "metadata": {},
     "output_type": "execute_result"
    }
   ],
   "source": [
    "fx(5)"
   ]
  },
  {
   "cell_type": "code",
   "execution_count": 4,
   "id": "fcbc1a5f-3f6e-4bc1-8c93-42cb6c0e6419",
   "metadata": {},
   "outputs": [
    {
     "ename": "SyntaxError",
     "evalue": "unexpected EOF while parsing (<ipython-input-4-75c38eda9610>, line 2)",
     "output_type": "error",
     "traceback": [
      "\u001b[1;36m  File \u001b[1;32m\"<ipython-input-4-75c38eda9610>\"\u001b[1;36m, line \u001b[1;32m2\u001b[0m\n\u001b[1;33m    print(4 + \"4\")\u001b[0m\n\u001b[1;37m                  ^\u001b[0m\n\u001b[1;31mSyntaxError\u001b[0m\u001b[1;31m:\u001b[0m unexpected EOF while parsing\n"
     ]
    }
   ],
   "source": [
    "try :\n",
    "    print(4 + \"4\")"
   ]
  },
  {
   "cell_type": "code",
   "execution_count": 3,
   "id": "cdea41ab-0bd6-4007-be08-880d48015758",
   "metadata": {},
   "outputs": [
    {
     "name": "stdout",
     "output_type": "stream",
     "text": [
      "muhtemelen yanlis birseyler yaptin\n"
     ]
    }
   ],
   "source": [
    "try :\n",
    "    print(4 + \"4\")\n",
    "except :\n",
    "    print(\"muhtemelen yanlis birseyler yaptin\")"
   ]
  },
  {
   "cell_type": "code",
   "execution_count": 5,
   "id": "a9d4a8d0-d7f7-4f3a-8893-25b0a423edba",
   "metadata": {},
   "outputs": [
    {
     "name": "stdout",
     "output_type": "stream",
     "text": [
      "44\n"
     ]
    }
   ],
   "source": [
    "try :\n",
    "    print(\"4\" + \"4\")\n",
    "except :\n",
    "    print(\"muhtemelen yanlis birseyler yaptin\")    "
   ]
  },
  {
   "cell_type": "code",
   "execution_count": 6,
   "id": "996b298c-e609-4baa-911d-ab1e89b64885",
   "metadata": {},
   "outputs": [
    {
     "name": "stdout",
     "output_type": "stream",
     "text": [
      "Something went wrong\n"
     ]
    }
   ],
   "source": [
    "try:\n",
    "    f = open('myfile.txt')\n",
    "    print(f.read())\n",
    "except:\n",
    "    print(\"Something went wrong\")"
   ]
  },
  {
   "cell_type": "code",
   "execution_count": 14,
   "id": "da7c5ec6-bcc5-4e7a-9282-5e2ab18c9e24",
   "metadata": {},
   "outputs": [
    {
     "name": "stdout",
     "output_type": "stream",
     "text": [
      "Something went wrong\n"
     ]
    }
   ],
   "source": [
    "try:\n",
    "    file = open('myfile.txt')\n",
    "    print(file.read())\n",
    "    file.close()\n",
    "except:\n",
    "    print(\"Something went wrong\")\n",
    "    "
   ]
  },
  {
   "cell_type": "code",
   "execution_count": 12,
   "id": "32353013-0c6c-43f1-b659-af2c1ce6b4ae",
   "metadata": {},
   "outputs": [
    {
     "name": "stdout",
     "output_type": "stream",
     "text": [
      "There i not such a file or path is incorrect\n"
     ]
    }
   ],
   "source": [
    "try:\n",
    "    file = open('myfile.txt')\n",
    "    print(file.read())\n",
    "    file.close()\n",
    "except FileNotFoundError :\n",
    "    print(\"There i not such a file or path is incorrect\")\n",
    "    "
   ]
  },
  {
   "cell_type": "code",
   "execution_count": 15,
   "id": "7fcc2070-04c2-42b1-bed4-aa7832096916",
   "metadata": {},
   "outputs": [
    {
     "name": "stdout",
     "output_type": "stream",
     "text": [
      "The type is incorrect\n"
     ]
    }
   ],
   "source": [
    "try:\n",
    "    a = 4 + \"4\"\n",
    "    file = open('myfile.txt', \"r\")\n",
    "    print(file.read())\n",
    "    file.close()\n",
    "except FileNotFoundError :\n",
    "    print(\"There i not such a file or path is incorrect\")\n",
    "except TypeError :\n",
    "    print(\"The type is incorrect\")"
   ]
  },
  {
   "cell_type": "code",
   "execution_count": 19,
   "id": "13f756ac-2345-44ae-a233-6f1c57d0243f",
   "metadata": {},
   "outputs": [
    {
     "name": "stdout",
     "output_type": "stream",
     "text": [
      "hello\n",
      "aaa demek hata yok. try icinde exception  yukselmemis 45\n",
      "nihayet bana sira geldi. Her halukarda calisirim\n"
     ]
    }
   ],
   "source": [
    "try :\n",
    "    sonuc = \"4\" + \"5\"\n",
    "    print(\"hello\")\n",
    "\n",
    "except TypeError :\n",
    "    print(\"type hatasi var. Tipi kontrol et\")\n",
    "    \n",
    "else :\n",
    "    print(\"aaa demek hata yok. try icinde exception  yukselmemis\", sonuc)\n",
    "    \n",
    "finally :\n",
    "    print(\"nihayet bana sira geldi. Her halukarda calisirim\")\n",
    "    "
   ]
  },
  {
   "cell_type": "code",
   "execution_count": 20,
   "id": "5fcfff2f-336b-404b-a4ee-0126f168a5cf",
   "metadata": {},
   "outputs": [
    {
     "name": "stdout",
     "output_type": "stream",
     "text": [
      "type hatasi var. Tipi kontrol et\n",
      "nihayet bana sira geldi. Her halukarda calisirim\n"
     ]
    }
   ],
   "source": [
    "try :\n",
    "    sonuc = \"4\" + 5\n",
    "    print(\"hello\")\n",
    "\n",
    "except TypeError :\n",
    "    print(\"type hatasi var. Tipi kontrol et\")\n",
    "    \n",
    "else :\n",
    "    print(\"aaa demek hata yok. try icinde exception  yukselmemis\", sonuc)\n",
    "    \n",
    "finally :\n",
    "    print(\"nihayet bana sira geldi. Her halukarda calisirim\")\n",
    "    "
   ]
  },
  {
   "cell_type": "code",
   "execution_count": 21,
   "id": "392598e8-6d78-470b-bf1f-a89d9f668bf1",
   "metadata": {},
   "outputs": [
    {
     "name": "stdout",
     "output_type": "stream",
     "text": [
      "helle universe\n",
      "type hatasi var. Tipi kontrol et\n",
      "nihayet bana sira geldi. Her halukarda calisirim\n"
     ]
    }
   ],
   "source": [
    "try :\n",
    "    print(\"helle universe\")   # bunu calistirir\n",
    "    sonuc = 4 + \"5\"  # exception yukselen satirdan sonra except i calistirir\n",
    "    print(\"hello\")\n",
    "\n",
    "except TypeError :\n",
    "    print(\"type hatasi var. Tipi kontrol et\")\n",
    "    \n",
    "else :\n",
    "    print(\"aaa demek hata yok. try icinde exception  yukselmemis\", sonuc)\n",
    "    \n",
    "finally :\n",
    "    print(\"nihayet bana sira geldi. Her halukarda calisirim\")\n",
    "    "
   ]
  },
  {
   "cell_type": "code",
   "execution_count": 22,
   "id": "865c6ed6-5513-48be-92ff-4d6bf1432371",
   "metadata": {},
   "outputs": [
    {
     "name": "stdout",
     "output_type": "stream",
     "text": [
      "helle universe\n",
      "nihayet bana sira geldi. Her halukarda calisirim\n"
     ]
    },
    {
     "ename": "TypeError",
     "evalue": "unsupported operand type(s) for +: 'int' and 'str'",
     "output_type": "error",
     "traceback": [
      "\u001b[1;31m---------------------------------------------------------------------------\u001b[0m",
      "\u001b[1;31mTypeError\u001b[0m                                 Traceback (most recent call last)",
      "\u001b[1;32m<ipython-input-22-0c9dad2df7fc>\u001b[0m in \u001b[0;36m<module>\u001b[1;34m\u001b[0m\n\u001b[0;32m      1\u001b[0m \u001b[1;32mtry\u001b[0m \u001b[1;33m:\u001b[0m\u001b[1;33m\u001b[0m\u001b[1;33m\u001b[0m\u001b[0m\n\u001b[0;32m      2\u001b[0m     \u001b[0mprint\u001b[0m\u001b[1;33m(\u001b[0m\u001b[1;34m\"helle universe\"\u001b[0m\u001b[1;33m)\u001b[0m   \u001b[1;31m# bunu calistirir\u001b[0m\u001b[1;33m\u001b[0m\u001b[1;33m\u001b[0m\u001b[0m\n\u001b[1;32m----> 3\u001b[1;33m     \u001b[0msonuc\u001b[0m \u001b[1;33m=\u001b[0m \u001b[1;36m4\u001b[0m \u001b[1;33m+\u001b[0m \u001b[1;34m\"5\"\u001b[0m  \u001b[1;31m# exception yukselen satirdan sonra except i calistirir\u001b[0m\u001b[1;33m\u001b[0m\u001b[1;33m\u001b[0m\u001b[0m\n\u001b[0m\u001b[0;32m      4\u001b[0m     \u001b[0mprint\u001b[0m\u001b[1;33m(\u001b[0m\u001b[1;34m\"hello\"\u001b[0m\u001b[1;33m)\u001b[0m\u001b[1;33m\u001b[0m\u001b[1;33m\u001b[0m\u001b[0m\n\u001b[0;32m      5\u001b[0m \u001b[1;33m\u001b[0m\u001b[0m\n",
      "\u001b[1;31mTypeError\u001b[0m: unsupported operand type(s) for +: 'int' and 'str'"
     ]
    }
   ],
   "source": [
    "try :\n",
    "    print(\"helle universe\")   # bunu calistirir\n",
    "    sonuc = 4 + \"5\"  # exception yukselen satirdan sonra except i calistirir\n",
    "    print(\"hello\")\n",
    "\n",
    "except ValueError :    # *****************************bu type error oldugu icin excpt calismaz\n",
    "    print(\"type hatasi var. Tipi kontrol et\")\n",
    "    \n",
    "else :\n",
    "    print(\"aaa demek hata yok. try icinde exception  yukselmemis\", sonuc)\n",
    "    \n",
    "finally :\n",
    "    print(\"nihayet bana sira geldi. Her halukarda calisirim\")\n",
    "    "
   ]
  },
  {
   "cell_type": "code",
   "execution_count": 23,
   "id": "c4e45568-57bc-4fd0-8e95-7dd28812439a",
   "metadata": {},
   "outputs": [
    {
     "name": "stdout",
     "output_type": "stream",
     "text": [
      "helle universe\n",
      "type hatasi var. Tipi kontrol et\n",
      "nihayet bana sira geldi. Her halukarda calisirim\n"
     ]
    }
   ],
   "source": [
    "try :\n",
    "    print(\"helle universe\")   # bunu calistirir\n",
    "    sonuc = 4 + \"5\"  # exception yukselen satirdan sonra except i calistirir\n",
    "    print(\"hello\")\n",
    "\n",
    "except  :      # *****************************    tum exceptionlara acik bu yuzden except calisti\n",
    "    print(\"type hatasi var. Tipi kontrol et\")\n",
    "    \n",
    "else :\n",
    "    print(\"aaa demek hata yok. try icinde exception  yukselmemis\", sonuc)\n",
    "    \n",
    "finally :\n",
    "    print(\"nihayet bana sira geldi. Her halukarda calisirim\")\n",
    "    "
   ]
  },
  {
   "cell_type": "code",
   "execution_count": 24,
   "id": "30691552-ab74-41c8-897a-e4ae34ddc802",
   "metadata": {},
   "outputs": [
    {
     "name": "stdout",
     "output_type": "stream",
     "text": [
      "helle universe\n",
      "type hatasi var. Type Error e gore kod yaz\n",
      "nihayet bana sira geldi. Her halukarda calisirim\n"
     ]
    }
   ],
   "source": [
    "try :\n",
    "    print(\"helle universe\")   # bunu calistirir\n",
    "    sonuc = 4 + \"5\"  # exception yukselen satirdan sonra except i calistirir. Type Error yaptik\n",
    "    print(\"hello\")\n",
    "\n",
    "except ValueError :    \n",
    "    print(\"value error e gre kod ya\n",
    "\n",
    "except TypeError :     \n",
    "    print(\"type hatasi var. Type Error e gore kod yaz\")\n",
    "    \n",
    "except ZeroDivisionError :     \n",
    "    print(\"ZeroDivisionError hatasi var. ZeroDivisionError e gore kod yaz\")    \n",
    "    \n",
    "else :\n",
    "    print(\"aaa demek hata yok. try icinde exception  yukselmemis\", sonuc)\n",
    "    \n",
    "finally :\n",
    "    print(\"nihayet bana sira geldi. Her halukarda calisirim\")\n",
    "    "
   ]
  },
  {
   "cell_type": "code",
   "execution_count": 25,
   "id": "f78a1d94-8d06-475a-95ff-808fee8fa845",
   "metadata": {},
   "outputs": [
    {
     "name": "stdout",
     "output_type": "stream",
     "text": [
      "helle universe\n",
      "ZeroDivisionError hatasi var. ZeroDivisionError e gore kod yaz\n",
      "nihayet bana sira geldi. Her halukarda calisirim\n"
     ]
    }
   ],
   "source": [
    "try :\n",
    "    print(\"helle universe\")   # bunu calistirir\n",
    "    sonuc = 7 / 0  # exception yukselen satirdan sonra except i calistirir. ZeroDivisionError yaptik \n",
    "    print(\"hello\")\n",
    "\n",
    "except ValueError :    \n",
    "    print(\"value error e gre kod yaz\")\n",
    "\n",
    "except TypeError :     \n",
    "    print(\"type hatasi var. Type Error e gore kod yaz\")\n",
    "    \n",
    "except ZeroDivisionError :     \n",
    "    print(\"ZeroDivisionError hatasi var. ZeroDivisionError e gore kod yaz\")    \n",
    "    \n",
    "else :\n",
    "    print(\"aaa demek hata yok. try icinde exception  yukselmemis\", sonuc)\n",
    "    \n",
    "finally :\n",
    "    print(\"nihayet bana sira geldi. Her halukarda calisirim\")\n",
    "    "
   ]
  },
  {
   "cell_type": "code",
   "execution_count": 28,
   "id": "aa179ba7-2782-4ec7-8e23-247bfde9b6a9",
   "metadata": {},
   "outputs": [
    {
     "name": "stdout",
     "output_type": "stream",
     "text": [
      "helle universe\n",
      "value error e gore kod yaz\n",
      "nihayet bana sira geldi. Her halukarda calisirim\n"
     ]
    }
   ],
   "source": [
    "import math\n",
    "try :\n",
    "    print(\"helle universe\")   # bunu calistirir\n",
    "    sonuc = math.log(-10)  # exception yukselen satirdan sonra except i calistirir value error yaptik\n",
    "    print(\"hello\")\n",
    "\n",
    "except ValueError :    \n",
    "    print(\"value error e gore kod yaz\")\n",
    "\n",
    "except TypeError :     \n",
    "    print(\"type hatasi var. Type Error e gore kod yaz\")\n",
    "    \n",
    "except ZeroDivisionError :     \n",
    "    print(\"ZeroDivisionError hatasi var. ZeroDivisionError e gore kod yaz\")    \n",
    "    \n",
    "else :\n",
    "    print(\"aaa demek hata yok. try icinde exception  yukselmemis\", sonuc)\n",
    "    \n",
    "finally :\n",
    "    print(\"nihayet bana sira geldi. Her halukarda calisirim\")\n",
    "    "
   ]
  },
  {
   "cell_type": "code",
   "execution_count": 29,
   "id": "f766d61b-4bc6-44bc-b82f-a585f0ecab16",
   "metadata": {},
   "outputs": [
    {
     "name": "stdin",
     "output_type": "stream",
     "text": [
      "The first number please :  7\n",
      "The second number please :  0\n"
     ]
    },
    {
     "name": "stdout",
     "output_type": "stream",
     "text": [
      "You can't divide by zero! Try again.\n",
      "Thanks for using our mini divison calculator! Come again!\n"
     ]
    }
   ],
   "source": [
    "while True:\n",
    "    no_one = int(input(\"The first number please : \"))\n",
    "    no_two = int(input(\"The second number please : \"))\n",
    "    try:\n",
    "        division = no_one / no_two  # normal part of the program\n",
    "    except ZeroDivisionError:\n",
    "        print(\"You can't divide by zero! Try again.\")  # executes when division by zero\n",
    "    else:\n",
    "        print(\"The result of the division is : \", division)  # executes if there is no exception\n",
    "    finally:\n",
    "        print(\"Thanks for using our mini divison calculator! Come again!\")\n",
    "        break  # exits the while loop"
   ]
  },
  {
   "cell_type": "code",
   "execution_count": 30,
   "id": "2401f6e3-3b40-4044-8c1f-291af8fbc75a",
   "metadata": {},
   "outputs": [
    {
     "name": "stdin",
     "output_type": "stream",
     "text": [
      "The first number please :  7\n",
      "The second number please :  0\n"
     ]
    },
    {
     "name": "stdout",
     "output_type": "stream",
     "text": [
      "Something went wrong...Try again.\n",
      "Probably it is because of 'division by zero' error\n"
     ]
    }
   ],
   "source": [
    "while True:\n",
    "    no_one = int(input(\"The first number please : \"))\n",
    "    no_two = int(input(\"The second number please : \"))\n",
    "    try:\n",
    "        division = no_one / no_two\n",
    "        print(\"The result of the division is : \", division)\n",
    "        break\n",
    "    except Exception as e:           # daha once tahmin etmedigiz exceptionu bize bildirsin dye tazdigimiz kod blogu. \n",
    "                                     # gelen hata uyari mesajini as'den sonra gelen variable'e atar bize string sonuc olarak bildirir\n",
    "        print(\"Something went wrong...Try again.\")\n",
    "        print(\"Probably it is because of '{}' error\".format(e))\n",
    "        break"
   ]
  },
  {
   "cell_type": "code",
   "execution_count": 4,
   "id": "ef27901a-9488-40da-9388-9dc28aaf27ed",
   "metadata": {},
   "outputs": [
    {
     "name": "stdout",
     "output_type": "stream",
     "text": [
      "You have 3 right.\n"
     ]
    },
    {
     "name": "stdin",
     "output_type": "stream",
     "text": [
      "Enter a index number 6\n"
     ]
    },
    {
     "name": "stdout",
     "output_type": "stream",
     "text": [
      "Index error. You have 2 right left. Try again\n",
      "Our fruits are always fresh\n",
      "You have 2 right.\n"
     ]
    },
    {
     "name": "stdin",
     "output_type": "stream",
     "text": [
      "Enter a index number iki\n"
     ]
    },
    {
     "name": "stdout",
     "output_type": "stream",
     "text": [
      "Value error. You have 1 right left. Try again\n",
      "Our fruits are always fresh\n",
      "You have 1 right.\n"
     ]
    },
    {
     "name": "stdin",
     "output_type": "stream",
     "text": [
      "Enter a index number 2\n"
     ]
    },
    {
     "name": "stdout",
     "output_type": "stream",
     "text": [
      "Your farorite fruit is pear\n",
      "Congrats! You've entered valid input\n",
      "Our fruits are always fresh\n"
     ]
    }
   ],
   "source": [
    "fruits = [\"banana\", \"mango\", \"pear\", \"apple\", \"kiwi\", \"grape\"]\n",
    "Counter = 3\n",
    "while Counter > 0 :\n",
    "    try :\n",
    "        print(f\"You have {Counter} right.\")\n",
    "        index = int(input(\"Enter a index number\"))\n",
    "        print(\"Your farorite fruit is \" + fruits[index])\n",
    "    \n",
    "    except IndexError :\n",
    "        Counter -= 1\n",
    "        print(f\"Index error. You have {Counter} right left. Try again\")\n",
    "            \n",
    "    except ValueError:\n",
    "        Counter -= 1\n",
    "        print(f\"Value error. You have {Counter} right left. Try again\")\n",
    "            \n",
    "    else :\n",
    "        print(\"Congrats! You've entered valid input\")\n",
    "        break\n",
    "    \n",
    "    finally :\n",
    "        print(\"Our fruits are always fresh\")"
   ]
  },
  {
   "cell_type": "code",
   "execution_count": null,
   "id": "808bf30b-12e3-47d0-97ff-615004a0b9ff",
   "metadata": {},
   "outputs": [],
   "source": []
  }
 ],
 "metadata": {
  "kernelspec": {
   "display_name": "Python 3",
   "language": "python",
   "name": "python3"
  },
  "language_info": {
   "codemirror_mode": {
    "name": "ipython",
    "version": 3
   },
   "file_extension": ".py",
   "mimetype": "text/x-python",
   "name": "python",
   "nbconvert_exporter": "python",
   "pygments_lexer": "ipython3",
   "version": "3.8.8"
  }
 },
 "nbformat": 4,
 "nbformat_minor": 5
}
