{
 "cells": [
  {
   "cell_type": "code",
   "execution_count": 1,
   "id": "2a651bab-c9d1-4584-a930-66ba19242b7c",
   "metadata": {},
   "outputs": [
    {
     "name": "stdout",
     "output_type": "stream",
     "text": [
      "Denver\n"
     ]
    }
   ],
   "source": [
    "state_capitals = {'Arkansas': 'Little Rock',\n",
    "                  'Colorado': 'Denver',\n",
    "                  'California': 'Sacramento',\n",
    "                  'Georgia': 'Atlanta' \n",
    "                 }\n",
    "\n",
    "print(state_capitals['Colorado']) # accessing method"
   ]
  },
  {
   "cell_type": "code",
   "execution_count": 2,
   "id": "12dd87f2-5b1e-4bc7-b595-d42d1a5e440e",
   "metadata": {},
   "outputs": [
    {
     "name": "stdout",
     "output_type": "stream",
     "text": [
      "[['New York', 'London', 'Istanbul', 'Seoul', 'Sydney']]\n"
     ]
    }
   ],
   "source": [
    "city = ['New York', 'London', 'Istanbul', 'Seoul', 'Sydney']\n",
    "city_new = []\n",
    "city_new.append(city)\n",
    "print(city_new)"
   ]
  },
  {
   "cell_type": "code",
   "execution_count": 3,
   "id": "025b14e6-5792-42d7-99de-61c9c137e5e7",
   "metadata": {},
   "outputs": [
    {
     "name": "stdout",
     "output_type": "stream",
     "text": [
      "Istanbul\n"
     ]
    }
   ],
   "source": [
    "print(city_new[0][2])"
   ]
  },
  {
   "cell_type": "code",
   "execution_count": 4,
   "id": "116e7acf-dd14-4775-8888-37463f207dd4",
   "metadata": {},
   "outputs": [
    {
     "name": "stdout",
     "output_type": "stream",
     "text": [
      "a\n"
     ]
    }
   ],
   "source": [
    "print(city_new[0][2][3])"
   ]
  },
  {
   "cell_type": "code",
   "execution_count": 5,
   "id": "607c0cbc-127c-4bff-ab9a-f3f3d67d7f31",
   "metadata": {},
   "outputs": [
    {
     "data": {
      "text/plain": [
       "[1, 3, 5, 7, 9]"
      ]
     },
     "execution_count": 5,
     "metadata": {},
     "output_type": "execute_result"
    }
   ],
   "source": [
    "sayilar = list(range(1,11,2))  # range kullanimi ********************************************\n",
    "\n",
    "sayilar"
   ]
  },
  {
   "cell_type": "code",
   "execution_count": 8,
   "id": "aabf360a-6e4a-4d23-8846-9fecd800018d",
   "metadata": {},
   "outputs": [
    {
     "data": {
      "text/plain": [
       "[11, 10, 9, 8, 7, 6, 5, 4, 3, 2]"
      ]
     },
     "execution_count": 8,
     "metadata": {},
     "output_type": "execute_result"
    }
   ],
   "source": [
    "sayilar = list(range(11,1,-1))\n",
    "sayilar"
   ]
  },
  {
   "cell_type": "code",
   "execution_count": 2,
   "id": "5ff9a4e8-ad09-48b3-98d0-c7c105aaa8c2",
   "metadata": {},
   "outputs": [
    {
     "name": "stdout",
     "output_type": "stream",
     "text": [
      "['one', 'two', 'three']\n"
     ]
    }
   ],
   "source": [
    "mix_list = [1, [1, \"one\", 2, \"two\", 3, \"three\"], 4]\n",
    "print(mix_list[1][1::2])"
   ]
  },
  {
   "cell_type": "code",
   "execution_count": 1,
   "id": "558a1d17-491b-4d63-b20b-24eb0222710f",
   "metadata": {},
   "outputs": [
    {
     "data": {
      "text/plain": [
       "range(1, 11)"
      ]
     },
     "execution_count": 1,
     "metadata": {},
     "output_type": "execute_result"
    }
   ],
   "source": [
    "sayilar = range(1, 11)\n",
    "sayilar\n"
   ]
  },
  {
   "cell_type": "code",
   "execution_count": 2,
   "id": "752d94c0-b431-4173-8014-7dc1934b877f",
   "metadata": {},
   "outputs": [
    {
     "data": {
      "text/plain": [
       "(1, 2, 3, 4, 5, 6, 7, 8, 9, 10)"
      ]
     },
     "execution_count": 2,
     "metadata": {},
     "output_type": "execute_result"
    }
   ],
   "source": [
    "tuple(sayilar)"
   ]
  },
  {
   "cell_type": "code",
   "execution_count": 4,
   "id": "4b28aacb-4437-48a0-9437-6e373d7842dd",
   "metadata": {},
   "outputs": [
    {
     "name": "stdout",
     "output_type": "stream",
     "text": [
      "six\n"
     ]
    }
   ],
   "source": [
    "mix_tuple = ('11', 11, [2, 'two', ('six', 6)], (5, 'fair'))\n",
    "print(mix_tuple[2][2][0])"
   ]
  },
  {
   "cell_type": "code",
   "execution_count": 6,
   "id": "4a3ae3e0-5e7f-4b2d-9125-035f58151408",
   "metadata": {},
   "outputs": [
    {
     "data": {
      "text/plain": [
       "('11', 11, [2, 'two', ('six', 6), False], (5, 'fair'))"
      ]
     },
     "execution_count": 6,
     "metadata": {},
     "output_type": "execute_result"
    }
   ],
   "source": [
    "mix_tuple[2].append (False)  #tuple icindeki listeye ekleme yaptim ************\n",
    "mix_tuple"
   ]
  },
  {
   "cell_type": "code",
   "execution_count": 7,
   "id": "c990b86e-dd9b-4c2a-a433-20bf7077b6d9",
   "metadata": {},
   "outputs": [
    {
     "name": "stdout",
     "output_type": "stream",
     "text": [
      "fair\n",
      "fair\n"
     ]
    }
   ],
   "source": [
    "mix_tuple = ('11', 11, [2, 'two', ('six', 6)], (5, 'fair'))\n",
    "print(mix_tuple[3][1])\n",
    "print(mix_tuple[-1][-1])"
   ]
  },
  {
   "cell_type": "code",
   "execution_count": 11,
   "id": "483264c9-c590-48aa-9425-c4f502323f0a",
   "metadata": {},
   "outputs": [
    {
     "data": {
      "text/plain": [
       "{1: 'one',\n",
       " 'two': 2,\n",
       " False: [1, 2, 3],\n",
       " 1.5: ('one', 'two'),\n",
       " (1, 2): 'clarusway'}"
      ]
     },
     "execution_count": 11,
     "metadata": {},
     "output_type": "execute_result"
    }
   ],
   "source": [
    "first_dict = {1:\"one\", \"two\":2, False:[1,2,3], 1.5:('one', 'two'), (1,2):'clarusway'}  # key olarak tuple kullanilabilir *****************\n",
    "first_dict                                                    "
   ]
  },
  {
   "cell_type": "code",
   "execution_count": 13,
   "id": "3e930920-4a99-464d-9fac-c903dfdada6d",
   "metadata": {},
   "outputs": [
    {
     "ename": "TypeError",
     "evalue": "unhashable type: 'list'",
     "output_type": "error",
     "traceback": [
      "\u001b[1;31m---------------------------------------------------------------------------\u001b[0m",
      "\u001b[1;31mTypeError\u001b[0m                                 Traceback (most recent call last)",
      "\u001b[1;32m<ipython-input-13-94011f325e0d>\u001b[0m in \u001b[0;36m<module>\u001b[1;34m\u001b[0m\n\u001b[1;32m----> 1\u001b[1;33m \u001b[0msecond_dict\u001b[0m \u001b[1;33m=\u001b[0m \u001b[1;33m{\u001b[0m\u001b[1;36m1\u001b[0m\u001b[1;33m:\u001b[0m\u001b[1;34m\"one\"\u001b[0m\u001b[1;33m,\u001b[0m \u001b[1;34m\"two\"\u001b[0m\u001b[1;33m:\u001b[0m\u001b[1;36m2\u001b[0m\u001b[1;33m,\u001b[0m \u001b[1;32mFalse\u001b[0m\u001b[1;33m:\u001b[0m\u001b[1;33m[\u001b[0m\u001b[1;36m1\u001b[0m\u001b[1;33m,\u001b[0m\u001b[1;36m2\u001b[0m\u001b[1;33m,\u001b[0m\u001b[1;36m3\u001b[0m\u001b[1;33m]\u001b[0m\u001b[1;33m,\u001b[0m \u001b[1;36m1.5\u001b[0m\u001b[1;33m:\u001b[0m\u001b[1;33m(\u001b[0m\u001b[1;34m'one'\u001b[0m\u001b[1;33m,\u001b[0m \u001b[1;34m'two'\u001b[0m\u001b[1;33m)\u001b[0m\u001b[1;33m,\u001b[0m \u001b[1;33m[\u001b[0m\u001b[1;36m1\u001b[0m\u001b[1;33m,\u001b[0m\u001b[1;36m2\u001b[0m\u001b[1;33m]\u001b[0m\u001b[1;33m:\u001b[0m\u001b[1;34m'clarusway'\u001b[0m\u001b[1;33m}\u001b[0m   \u001b[1;31m#key olarak liste kullanilamaz ****************************\u001b[0m\u001b[1;33m\u001b[0m\u001b[1;33m\u001b[0m\u001b[0m\n\u001b[0m\u001b[0;32m      2\u001b[0m \u001b[0msecond_dict\u001b[0m\u001b[1;33m\u001b[0m\u001b[1;33m\u001b[0m\u001b[0m\n",
      "\u001b[1;31mTypeError\u001b[0m: unhashable type: 'list'"
     ]
    }
   ],
   "source": [
    "second_dict = {1:\"one\", \"two\":2, False:[1,2,3], 1.5:('one', 'two'), [1,2]:'clarusway'}   #key olarak liste kullanilamaz [1,2] ****************************\n",
    "second_dict"
   ]
  },
  {
   "cell_type": "code",
   "execution_count": 15,
   "id": "f0b9454f-61d8-4ed5-b23d-f11a5abf6fd3",
   "metadata": {},
   "outputs": [
    {
     "ename": "TypeError",
     "evalue": "unhashable type: 'list'",
     "output_type": "error",
     "traceback": [
      "\u001b[1;31m---------------------------------------------------------------------------\u001b[0m",
      "\u001b[1;31mTypeError\u001b[0m                                 Traceback (most recent call last)",
      "\u001b[1;32m<ipython-input-15-41420f7444e4>\u001b[0m in \u001b[0;36m<module>\u001b[1;34m\u001b[0m\n\u001b[1;32m----> 1\u001b[1;33m \u001b[0mthird_dict\u001b[0m \u001b[1;33m=\u001b[0m \u001b[1;33m{\u001b[0m\u001b[1;36m1\u001b[0m\u001b[1;33m:\u001b[0m\u001b[1;34m\"one\"\u001b[0m\u001b[1;33m,\u001b[0m \u001b[1;34m\"two\"\u001b[0m\u001b[1;33m:\u001b[0m\u001b[1;36m2\u001b[0m\u001b[1;33m,\u001b[0m \u001b[1;32mFalse\u001b[0m\u001b[1;33m:\u001b[0m\u001b[1;33m[\u001b[0m\u001b[1;36m1\u001b[0m\u001b[1;33m,\u001b[0m\u001b[1;36m2\u001b[0m\u001b[1;33m,\u001b[0m\u001b[1;36m3\u001b[0m\u001b[1;33m]\u001b[0m\u001b[1;33m,\u001b[0m \u001b[1;36m1.5\u001b[0m\u001b[1;33m:\u001b[0m\u001b[1;33m(\u001b[0m\u001b[1;34m'one'\u001b[0m\u001b[1;33m,\u001b[0m \u001b[1;34m'two'\u001b[0m\u001b[1;33m)\u001b[0m\u001b[1;33m,\u001b[0m \u001b[1;33m(\u001b[0m\u001b[1;34m\"a\"\u001b[0m\u001b[1;33m,\u001b[0m \u001b[1;33m[\u001b[0m\u001b[1;36m1\u001b[0m\u001b[1;33m,\u001b[0m\u001b[1;36m2\u001b[0m\u001b[1;33m]\u001b[0m\u001b[1;33m)\u001b[0m\u001b[1;33m:\u001b[0m\u001b[1;34m'clarusway'\u001b[0m\u001b[1;33m}\u001b[0m   \u001b[1;31m#key olarak tuple icinde liste de kulanamiyoruz ********************\u001b[0m\u001b[1;33m\u001b[0m\u001b[1;33m\u001b[0m\u001b[0m\n\u001b[0m\u001b[0;32m      2\u001b[0m \u001b[0mthird_dict\u001b[0m\u001b[1;33m\u001b[0m\u001b[1;33m\u001b[0m\u001b[0m\n",
      "\u001b[1;31mTypeError\u001b[0m: unhashable type: 'list'"
     ]
    }
   ],
   "source": [
    "third_dict = {1:\"one\", \"two\":2, False:[1,2,3], 1.5:('one', 'two'), (\"a\", [1,2]):'clarusway'}   #key olarak tuple icinde liste de kulanamiyoruz ********************\n",
    "third_dict"
   ]
  },
  {
   "cell_type": "code",
   "execution_count": 21,
   "id": "0c9fb5f4-9aeb-4ab9-9e9f-b50c6a8d07a1",
   "metadata": {},
   "outputs": [
    {
     "ename": "SyntaxError",
     "evalue": "expression cannot contain assignment, perhaps you meant \"==\"? (<ipython-input-21-c35c02110ea3>, line 1)",
     "output_type": "error",
     "traceback": [
      "\u001b[1;36m  File \u001b[1;32m\"<ipython-input-21-c35c02110ea3>\"\u001b[1;36m, line \u001b[1;32m1\u001b[0m\n\u001b[1;33m    dict(1 = 'bir')  # dict icinde integer kullanamiyoruz ***************\u001b[0m\n\u001b[1;37m         ^\u001b[0m\n\u001b[1;31mSyntaxError\u001b[0m\u001b[1;31m:\u001b[0m expression cannot contain assignment, perhaps you meant \"==\"?\n"
     ]
    }
   ],
   "source": [
    "dict(1 = 'bir')  # dict icinde key olarak integer kullanamiyoruz ***************"
   ]
  },
  {
   "cell_type": "code",
   "execution_count": 18,
   "id": "b934a85e-4a9d-491a-a895-a65328d1ac25",
   "metadata": {},
   "outputs": [
    {
     "data": {
      "text/plain": [
       "{1: 'bir'}"
      ]
     },
     "execution_count": 18,
     "metadata": {},
     "output_type": "execute_result"
    }
   ],
   "source": [
    "{1 : 'bir'}"
   ]
  },
  {
   "cell_type": "code",
   "execution_count": 19,
   "id": "a86b39f0-ed73-4c86-a802-0f8541217895",
   "metadata": {},
   "outputs": [
    {
     "data": {
      "text/plain": [
       "{'isim': 'ali veli'}"
      ]
     },
     "execution_count": 19,
     "metadata": {},
     "output_type": "execute_result"
    }
   ],
   "source": [
    "dict(isim = \"ali veli\")"
   ]
  },
  {
   "cell_type": "code",
   "execution_count": 22,
   "id": "db23444c-3fc3-4ba1-b9ac-5a4163aca80d",
   "metadata": {},
   "outputs": [
    {
     "data": {
      "text/plain": [
       "{'sayilar': [1, 2, 3], 'harfler': {1: 'bir'}}"
      ]
     },
     "execution_count": 22,
     "metadata": {},
     "output_type": "execute_result"
    }
   ],
   "source": [
    "dict(sayilar = [1,2,3], harfler = {1:\"bir\"})"
   ]
  },
  {
   "cell_type": "code",
   "execution_count": 23,
   "id": "e866f459-7756-415b-ba92-0aad3203b438",
   "metadata": {},
   "outputs": [
    {
     "name": "stdout",
     "output_type": "stream",
     "text": [
      "{'Arkansas': 'Little Rock', 'Colorado': 'Denver', 'California': 'Sacramento', 'Georgia': 'Atlanta', 'Virginia': 'Richmond'}\n"
     ]
    }
   ],
   "source": [
    "state_capitals = {'Arkansas': 'Little Rock',\n",
    "                  'Colorado': 'Denver',\n",
    "                  'California': 'Sacramento',\n",
    "                  'Georgia': 'Atlanta' \n",
    "                 }\n",
    "\n",
    "state_capitals['Virginia'] = 'Richmond' # adding a new item*************************************************\n",
    "\n",
    "print(state_capitals)"
   ]
  },
  {
   "cell_type": "code",
   "execution_count": 24,
   "id": "d84ba865-ff7b-4553-9063-11aa083457a2",
   "metadata": {},
   "outputs": [
    {
     "name": "stdout",
     "output_type": "stream",
     "text": [
      "Denver\n"
     ]
    }
   ],
   "source": [
    "state_capitals = {'Arkansas': 'Little Rock',\n",
    "                  'Colorado': 'Denver',\n",
    "                  'California': 'Sacramento',\n",
    "                  'Georgia': 'Atlanta' \n",
    "                 }\n",
    "\n",
    "print(state_capitals['Colorado']) # accessing method***************************************"
   ]
  },
  {
   "cell_type": "code",
   "execution_count": 25,
   "id": "45091f65-570f-4611-a4ef-e14688843474",
   "metadata": {},
   "outputs": [
    {
     "data": {
      "text/plain": [
       "{'name1': 'Goksel', 'name2': 'Ozlem', 'name3': 'Elif'}"
      ]
     },
     "execution_count": 25,
     "metadata": {},
     "output_type": "execute_result"
    }
   ],
   "source": [
    "myfamily = {'name1' : 'Goksel', 'name2' : 'Ozlem', 'name3' : 'Elif'}"
   ]
  },
  {
   "cell_type": "code",
   "execution_count": 26,
   "id": "ece9f211-8165-4eda-929c-95900eddc5c5",
   "metadata": {},
   "outputs": [
    {
     "data": {
      "text/plain": [
       "{'name1': 'Goksel', 'name2': 'Ozlem', 'name3': 'Elif', 'name4': 'Ahmet'}"
      ]
     },
     "execution_count": 26,
     "metadata": {},
     "output_type": "execute_result"
    }
   ],
   "source": [
    "mix_values = {'animal': ('dog', 'cat'),  # tuple type\n",
    "              'planet': ['Neptun', 'Saturn', 'Jupiter'],  # list type\n",
    "              'number': 40,  # int type\n",
    "              'pi': 3.14,  # float type\n",
    "              'is_good': True}  # bool type\n",
    "\n",
    "mix_keys = {22 : \"integer\",\n",
    "            1.2 : \"float\",\n",
    "            True : \"boolean\",\n",
    "            \"key\" : \"string\"}\n",
    "myfamily['name4'] = 'Ahmet'\n",
    "myfamily"
   ]
  },
  {
   "cell_type": "code",
   "execution_count": 33,
   "id": "e5a2b65a-4c2e-409f-8044-02309f10a3d0",
   "metadata": {},
   "outputs": [
    {
     "name": "stdout",
     "output_type": "stream",
     "text": [
      "{'animal': 'dog', 'planet': 'neptun', 'number': 40, 'pi': 3.14, 'is_good': True}\n"
     ]
    }
   ],
   "source": [
    "dict_by_dict = dict(animal='dog', planet='neptun', number=40, pi=3.14, is_good=True)  # print ile cikti alinca yanyana listeliyor\n",
    "print(dict_by_dict)"
   ]
  },
  {
   "cell_type": "code",
   "execution_count": 34,
   "id": "67806a60-62eb-4806-8850-1f6140ff2126",
   "metadata": {},
   "outputs": [
    {
     "data": {
      "text/plain": [
       "{'animal': 'dog',\n",
       " 'planet': 'neptun',\n",
       " 'number': 40,\n",
       " 'pi': 3.14,\n",
       " 'is_good': True}"
      ]
     },
     "execution_count": 34,
     "metadata": {},
     "output_type": "execute_result"
    }
   ],
   "source": [
    "dict_by_dict = dict(animal='dog', planet='neptun', number=40, pi=3.14, is_good=True)  # printsiz cikti alt alta oluyor\n",
    "dict_by_dict"
   ]
  },
  {
   "cell_type": "code",
   "execution_count": 37,
   "id": "73ad3b6c-553c-4e8a-a9dc-984b7a50818b",
   "metadata": {},
   "outputs": [
    {
     "data": {
      "text/plain": [
       "{1: 'Istanbul', 'Yasemin': 'bayan', 'nufusum': 1000, 'hava_yagmurlumu': False}"
      ]
     },
     "execution_count": 37,
     "metadata": {},
     "output_type": "execute_result"
    }
   ],
   "source": [
    "sehir = 'Istanbul'\n",
    "isim = 'Yasemin'\n",
    "nufus = 1000\n",
    "yagmurlumu = False\n",
    "benim = {1 : sehir, isim : \"bayan\", \"nufusum\" : nufus, \"hava_yagmurlumu\" : yagmurlumu}\n",
    "benim"
   ]
  },
  {
   "cell_type": "code",
   "execution_count": 39,
   "id": "e94521ba-55ae-45c3-b8d1-65c45ca8b67a",
   "metadata": {},
   "outputs": [
    {
     "data": {
      "text/plain": [
       "{22: 'integer', 1.2: 'float', True: 'boolean', 'key': 'string'}"
      ]
     },
     "execution_count": 39,
     "metadata": {},
     "output_type": "execute_result"
    }
   ],
   "source": [
    "mix_values = {'animal': ('dog', 'cat'),  # tuple type\n",
    "              'planet': ['Neptun', 'Saturn', 'Jupiter'],  # list type\n",
    "              'number': 40,  # int type\n",
    "              'pi': 3.14,  # float type\n",
    "              'is_good': True}  # bool type\n",
    "\n",
    "mix_keys = {22 : \"integer\",\n",
    "            1.2 : \"float\",\n",
    "            True : \"boolean\",\n",
    "            \"key\" : \"string\"}\n",
    "mix_values\n",
    "mix_keys"
   ]
  },
  {
   "cell_type": "code",
   "execution_count": 41,
   "id": "61cf249c-74e1-4252-88cf-75aa6bc3690f",
   "metadata": {},
   "outputs": [
    {
     "data": {
      "text/plain": [
       "{'name1': 'Goksel', 'name2': 'Ozlem', 'name3': 'Elif'}"
      ]
     },
     "execution_count": 41,
     "metadata": {},
     "output_type": "execute_result"
    }
   ],
   "source": [
    "myfamily = {'name1' : 'Goksel', 'name2' : 'Ozlem', 'name3' : 'Elif'}\n",
    "myfamily"
   ]
  },
  {
   "cell_type": "code",
   "execution_count": 43,
   "id": "b0def58b-fc7b-4761-9b10-4a73499c4e27",
   "metadata": {},
   "outputs": [
    {
     "data": {
      "text/plain": [
       "{'name1': 'Goksel', 'name2': 'Ozlem', 'name3': 'Elif'}"
      ]
     },
     "execution_count": 43,
     "metadata": {},
     "output_type": "execute_result"
    }
   ],
   "source": [
    "myfamily = dict(name1='Goksel', name2='Ozlem', name3='Elif')\n",
    "myfamily"
   ]
  },
  {
   "cell_type": "code",
   "execution_count": 45,
   "id": "35a733cb-c3bc-4c5c-bd7e-90e368907fc3",
   "metadata": {},
   "outputs": [
    {
     "data": {
      "text/plain": [
       "{'name1': 'Goksel',\n",
       " 'name2': 'Ozlem',\n",
       " 'name3': 'Elif',\n",
       " 'name4': 'Ahmet',\n",
       " 'name5': 'Emir'}"
      ]
     },
     "execution_count": 45,
     "metadata": {},
     "output_type": "execute_result"
    }
   ],
   "source": [
    "myfamily.update({\"name4\" : \"Ahmet\", \"name5\" : \"Emir\"})\n",
    "myfamily"
   ]
  },
  {
   "cell_type": "code",
   "execution_count": 48,
   "id": "3ca35635-5f13-499a-917b-e2d4649d3433",
   "metadata": {},
   "outputs": [
    {
     "data": {
      "text/plain": [
       "'t'"
      ]
     },
     "execution_count": 48,
     "metadata": {},
     "output_type": "execute_result"
    }
   ],
   "source": [
    "isim = max('ahmeta')\n",
    "isim"
   ]
  },
  {
   "cell_type": "code",
   "execution_count": 59,
   "id": "7877bd9a-5b6c-40d0-968c-0024dda12cf2",
   "metadata": {},
   "outputs": [
    {
     "data": {
      "text/plain": [
       "[1, 1, 1, 1, 2, 2, 2, 3, 3, 4, 5]"
      ]
     },
     "execution_count": 59,
     "metadata": {},
     "output_type": "execute_result"
    }
   ],
   "source": [
    "numbers = [1, 1, 1, 1, 2, 2, 2, 3, 3, 4, 5]\n",
    "numbers"
   ]
  },
  {
   "cell_type": "code",
   "execution_count": 60,
   "id": "ec6531dc-3e73-44e1-9570-b5f5a9f459ff",
   "metadata": {},
   "outputs": [
    {
     "data": {
      "text/plain": [
       "5"
      ]
     },
     "execution_count": 60,
     "metadata": {},
     "output_type": "execute_result"
    }
   ],
   "source": [
    "max(numbers)  # max fonksiyonu en buyukolani verir ********************"
   ]
  },
  {
   "cell_type": "code",
   "execution_count": 57,
   "id": "21829da8-c945-4627-b67c-3d3795e6e825",
   "metadata": {},
   "outputs": [
    {
     "data": {
      "text/plain": [
       "4"
      ]
     },
     "execution_count": 57,
     "metadata": {},
     "output_type": "execute_result"
    }
   ],
   "source": [
    "numbers.count(1)   # count fonksiyonu istenilen sayinin tekrar sayisini sayar****************************"
   ]
  },
  {
   "cell_type": "code",
   "execution_count": 61,
   "id": "ab32162f-ede9-41e7-a680-c04387f52021",
   "metadata": {},
   "outputs": [
    {
     "data": {
      "text/plain": [
       "1"
      ]
     },
     "execution_count": 61,
     "metadata": {},
     "output_type": "execute_result"
    }
   ],
   "source": [
    "max(numbers, key=sequence.count)  # frekans sikligini gormek icin key fonksiyonuna her sayiyi saydirip en buyugu (en sik ollani) ataniyor ********************\n"
   ]
  },
  {
   "cell_type": "code",
   "execution_count": 65,
   "id": "77b9eca3-aa5e-4ed4-9124-acb02c76c530",
   "metadata": {},
   "outputs": [
    {
     "data": {
      "text/plain": [
       "['van', 'agri', 'ankara', 'istanbul']"
      ]
     },
     "execution_count": 65,
     "metadata": {},
     "output_type": "execute_result"
    }
   ],
   "source": [
    "sehirler = [\"istanbul\", \"agri\", \"ankara\", \"van\"]\n",
    "sorted(sehirler, key=len)"
   ]
  },
  {
   "cell_type": "code",
   "execution_count": 66,
   "id": "aac66ede-fca3-45f7-9315-4e0a29b99426",
   "metadata": {},
   "outputs": [
    {
     "data": {
      "text/plain": [
       "['istanbul', 'ankara', 'agri', 'van']"
      ]
     },
     "execution_count": 66,
     "metadata": {},
     "output_type": "execute_result"
    }
   ],
   "source": [
    "sehirler = [\"istanbul\", \"agri\", \"ankara\", \"van\"]\n",
    "sorted(sehirler, key=len, reverse =True)"
   ]
  },
  {
   "cell_type": "code",
   "execution_count": 71,
   "id": "9d64f4af-3f2b-4913-8546-006b5ae0975e",
   "metadata": {},
   "outputs": [
    {
     "ename": "TypeError",
     "evalue": "unsupported operand type(s) for -: 'str' and 'str'",
     "output_type": "error",
     "traceback": [
      "\u001b[1;31m---------------------------------------------------------------------------\u001b[0m",
      "\u001b[1;31mTypeError\u001b[0m                                 Traceback (most recent call last)",
      "\u001b[1;32m<ipython-input-71-5eb194ca70cf>\u001b[0m in \u001b[0;36m<module>\u001b[1;34m\u001b[0m\n\u001b[1;32m----> 1\u001b[1;33m \u001b[0ma\u001b[0m \u001b[1;33m=\u001b[0m \u001b[1;33m[\u001b[0m\u001b[1;34m\"2\"\u001b[0m \u001b[1;33m+\u001b[0m \u001b[1;34m\"2\"\u001b[0m \u001b[1;33m-\u001b[0m \u001b[1;34m\"2\"\u001b[0m\u001b[1;33m]\u001b[0m\u001b[1;33m\u001b[0m\u001b[1;33m\u001b[0m\u001b[0m\n\u001b[0m\u001b[0;32m      2\u001b[0m \u001b[0ma\u001b[0m\u001b[1;33m\u001b[0m\u001b[1;33m\u001b[0m\u001b[0m\n",
      "\u001b[1;31mTypeError\u001b[0m: unsupported operand type(s) for -: 'str' and 'str'"
     ]
    }
   ],
   "source": [
    "a = [\"2\" + \"2\" - \"2\"]\n",
    "a"
   ]
  },
  {
   "cell_type": "code",
   "execution_count": 74,
   "id": "564d4983-60d5-448b-a9ca-7964b68fc3dc",
   "metadata": {},
   "outputs": [
    {
     "ename": "TypeError",
     "evalue": "unsupported operand type(s) for -: 'str' and 'str'",
     "output_type": "error",
     "traceback": [
      "\u001b[1;31m---------------------------------------------------------------------------\u001b[0m",
      "\u001b[1;31mTypeError\u001b[0m                                 Traceback (most recent call last)",
      "\u001b[1;32m<ipython-input-74-a27ff2ca4296>\u001b[0m in \u001b[0;36m<module>\u001b[1;34m\u001b[0m\n\u001b[1;32m----> 1\u001b[1;33m \u001b[0ma\u001b[0m \u001b[1;33m=\u001b[0m \u001b[1;33m[\u001b[0m\u001b[1;34m\"2\"\u001b[0m \u001b[1;33m-\u001b[0m \u001b[1;34m\"2\"\u001b[0m\u001b[1;33m]\u001b[0m\u001b[1;33m\u001b[0m\u001b[1;33m\u001b[0m\u001b[0m\n\u001b[0m\u001b[0;32m      2\u001b[0m \u001b[0ma\u001b[0m\u001b[1;33m\u001b[0m\u001b[1;33m\u001b[0m\u001b[0m\n",
      "\u001b[1;31mTypeError\u001b[0m: unsupported operand type(s) for -: 'str' and 'str'"
     ]
    }
   ],
   "source": [
    "a = [\"2\" + \"2\"]\n",
    "a"
   ]
  },
  {
   "cell_type": "code",
   "execution_count": 1,
   "id": "fcc024d9-e2f6-4658-adaa-df447c396ba3",
   "metadata": {},
   "outputs": [
    {
     "data": {
      "text/plain": [
       "{'name1': 'Goksel', 'name2': 'Ozlem', 'name3': 'Elif'}"
      ]
     },
     "execution_count": 1,
     "metadata": {},
     "output_type": "execute_result"
    }
   ],
   "source": [
    "myfamily = {'name1' : 'Goksel', 'name2' : 'Ozlem', 'name3' : 'Elif'}\n",
    "myfamily"
   ]
  },
  {
   "cell_type": "code",
   "execution_count": 2,
   "id": "22e2aad2-6fdb-499a-93c7-51f6ee3c6de3",
   "metadata": {},
   "outputs": [
    {
     "data": {
      "text/plain": [
       "{'name1': 'Goksel',\n",
       " 'name2': 'Ozlem',\n",
       " 'name3': 'Elif',\n",
       " 'name4': 'Ahmet',\n",
       " 'name5': 'Emir'}"
      ]
     },
     "execution_count": 2,
     "metadata": {},
     "output_type": "execute_result"
    }
   ],
   "source": [
    "myfamily.update({\"name4\" : \"Ahmet\", \"name5\" : \"Emir\"})  #update metodu ile dict'e dict yada eleman eklenebilir\n",
    "myfamily"
   ]
  },
  {
   "cell_type": "code",
   "execution_count": 4,
   "id": "406ed737-2876-446d-95c5-9fac882b7692",
   "metadata": {},
   "outputs": [
    {
     "data": {
      "text/plain": [
       "{'name1': 'Goksel', 'name4': 'Ahmet', 'name5': 'Emir'}"
      ]
     },
     "execution_count": 4,
     "metadata": {},
     "output_type": "execute_result"
    }
   ],
   "source": [
    "del myfamily['name2'], myfamily['name3']   # del metodu ile bayanlarin ismini dict'ten sildik\n",
    "myfamily"
   ]
  },
  {
   "cell_type": "code",
   "execution_count": 10,
   "id": "29fa32e7-f4c7-422c-a360-e1ea5decd9f2",
   "metadata": {},
   "outputs": [
    {
     "data": {
      "text/plain": [
       "False"
      ]
     },
     "execution_count": 10,
     "metadata": {},
     "output_type": "execute_result"
    }
   ],
   "source": [
    "'name2' in 'myfamily'"
   ]
  },
  {
   "cell_type": "code",
   "execution_count": 17,
   "id": "348c6522-2f78-4330-93da-464b94987cb3",
   "metadata": {},
   "outputs": [
    {
     "data": {
      "text/plain": [
       "False"
      ]
     },
     "execution_count": 17,
     "metadata": {},
     "output_type": "execute_result"
    }
   ],
   "source": [
    "'Ahmet' in 'myfamily'  # in ile sadece keylere bakilir. Value'lere bakilmaz********************"
   ]
  },
  {
   "cell_type": "code",
   "execution_count": 18,
   "id": "7966b1aa-998f-4eee-99f2-6f27dc70a30e",
   "metadata": {},
   "outputs": [
    {
     "data": {
      "text/plain": [
       "True"
      ]
     },
     "execution_count": 18,
     "metadata": {},
     "output_type": "execute_result"
    }
   ],
   "source": [
    "'name2' not in 'myfamily'  # not in ile dict icinde yok mu diye sorgulanir"
   ]
  },
  {
   "cell_type": "code",
   "execution_count": 15,
   "id": "447db8f4-c30a-4a96-a4a1-caf134a84405",
   "metadata": {},
   "outputs": [
    {
     "data": {
      "text/plain": [
       "['c', 'l', 'a', 'r', 'u', 's', 'w', 'a', 'y']"
      ]
     },
     "execution_count": 15,
     "metadata": {},
     "output_type": "execute_result"
    }
   ],
   "source": [
    "bootcamp = \"clarusway\"\n",
    "bootcamp =\"c l a r u s w a y\".split()\n",
    "bootcamp"
   ]
  },
  {
   "cell_type": "code",
   "execution_count": 1,
   "id": "20f09a15-1a36-4b29-8a2a-e44903ab2ad3",
   "metadata": {},
   "outputs": [
    {
     "name": "stdout",
     "output_type": "stream",
     "text": [
      "['C', 'L', 'A', 'R', 'U', 'S', 'W', 'A', 'Y']\n"
     ]
    }
   ],
   "source": [
    "print([*\"CLARUSWAY\"])"
   ]
  },
  {
   "cell_type": "code",
   "execution_count": 16,
   "id": "5b4ee721-0fa8-49d8-af85-d01cc7e943be",
   "metadata": {},
   "outputs": [
    {
     "data": {
      "text/plain": [
       "True"
      ]
     },
     "execution_count": 16,
     "metadata": {},
     "output_type": "execute_result"
    }
   ],
   "source": [
    "\"a\" in bootcamp"
   ]
  },
  {
   "cell_type": "code",
   "execution_count": 21,
   "id": "e6a9f6ef-4f83-406a-bc04-1bb7326d7939",
   "metadata": {},
   "outputs": [
    {
     "name": "stdout",
     "output_type": "stream",
     "text": [
      "2\n"
     ]
    }
   ],
   "source": [
    "school_records={\n",
    "\t'personal_info':\n",
    "\t\t{'kid':{'tom':{'class':'intermediate', 'age':10},\n",
    "\t\t\t'sue':{'class':'elemantary', 'age':8}\n",
    "\t\t\t},\n",
    "\t\t'teen':{'joseph':{'class':'college', 'age':19},\n",
    "\t\t\t'marry':{'class':'high school', 'age':16}\n",
    "\t\t\t},\n",
    "\t\t},\n",
    "\t'grades_info':\n",
    "\t\t{'kid':{'tom':{'math':88, 'speech':69},\n",
    "\t\t\t'sue':{'math':90, 'speech':81}\n",
    "\t\t\t},\n",
    "\t\t'teen':{'joseph':{'coding':80, 'math':89},\n",
    "\t\t\t'marry':{'coding':70, 'math':96}\n",
    "\t\t\t},\n",
    "\t\t}\n",
    "}\n",
    "print(len(school_records))"
   ]
  },
  {
   "cell_type": "code",
   "execution_count": 22,
   "id": "8b234e9b-d1ec-453c-b230-72bf10f94159",
   "metadata": {},
   "outputs": [
    {
     "name": "stdout",
     "output_type": "stream",
     "text": [
      "16\n"
     ]
    }
   ],
   "source": [
    "school_records={\n",
    "    \"personal_info\":\n",
    "        {\"kid\":{\"tom\": {\"class\":\"intermediate\", \"age\":10},\n",
    "                \"sue\": {\"class\":\"elementary\", \"age\":8}\n",
    "               },\n",
    "         \"teen\":{\"joseph\":{\"class\":\"college\", \"age\":19},\n",
    "                 \"marry\":{\"class\":\"high school\", \"age\":16}\n",
    "               },               \n",
    "        },\n",
    "}\n",
    "\n",
    "print(school_records['personal_info']['teen']['marry']['age'])  #Ic ice gecmis dict lerin icine koseli parantez ile girip istetedigimiz elemani bulabilririz"
   ]
  },
  {
   "cell_type": "code",
   "execution_count": 27,
   "id": "94a428c3-557a-4509-b8c3-2f75feccd7f3",
   "metadata": {},
   "outputs": [
    {
     "name": "stdout",
     "output_type": "stream",
     "text": [
      "{'friends1': {'first': 'Sue', 'last': 'Bold'}, 'friends2': {'first': 'Steve', 'last': 'Smith'}, 'friends3': {'first': 'John', 'last': 'Doe'}}\n"
     ]
    }
   ],
   "source": [
    "myfriends = {\n",
    "    \"friends1\" : {\"first\" : \"Sue\", \"last\" : \"Bold\"},\n",
    "    \"friends2\" : {\"first\" : \"Steve\", \"last\" : \"Smith\"},\n",
    "    \"friends3\" : {\"first\" : \"John\", \"last\" : \"Doe\"}\n",
    "}\n",
    "print(myfriends)"
   ]
  },
  {
   "cell_type": "code",
   "execution_count": 1,
   "id": "de1dc78f-3e7f-4317-bb80-6170a6d145e5",
   "metadata": {},
   "outputs": [
    {
     "name": "stdout",
     "output_type": "stream",
     "text": [
      "{'a': 1, 'b': [2, 3, 4]}\n"
     ]
    }
   ],
   "source": [
    "a={} \n",
    "a['a']=1 \n",
    "a['b']=[2,3,4] \n",
    "print(a) "
   ]
  },
  {
   "cell_type": "code",
   "execution_count": null,
   "id": "ba1d3cf4-5ab8-4746-8110-50dfd91af496",
   "metadata": {},
   "outputs": [],
   "source": []
  }
 ],
 "metadata": {
  "kernelspec": {
   "display_name": "Python 3",
   "language": "python",
   "name": "python3"
  },
  "language_info": {
   "codemirror_mode": {
    "name": "ipython",
    "version": 3
   },
   "file_extension": ".py",
   "mimetype": "text/x-python",
   "name": "python",
   "nbconvert_exporter": "python",
   "pygments_lexer": "ipython3",
   "version": "3.8.8"
  }
 },
 "nbformat": 4,
 "nbformat_minor": 5
}
