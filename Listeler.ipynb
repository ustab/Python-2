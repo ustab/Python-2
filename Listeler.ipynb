{
 "cells": [
  {
   "cell_type": "code",
   "execution_count": 1,
   "id": "b952b731-6797-47b9-a1f1-4b1c92df89bb",
   "metadata": {},
   "outputs": [
    {
     "name": "stdout",
     "output_type": "stream",
     "text": [
      "[['New York', 'London', 'Istanbul', 'Seoul', 'Sydney']]\n"
     ]
    }
   ],
   "source": [
    "city = ['New York', 'London', 'Istanbul', 'Seoul', 'Sydney']\n",
    "\n",
    "city_list = []\n",
    "city_list.append(city) # we have created a nested list\n",
    "\n",
    "print(city_list)"
   ]
  },
  {
   "cell_type": "code",
   "execution_count": null,
   "id": "5dcedb49-534b-471e-9861-c9ef321799fd",
   "metadata": {},
   "outputs": [],
   "source": []
  },
  {
   "cell_type": "code",
   "execution_count": 2,
   "id": "66d41159-088f-4d74-b871-17d92827a5dd",
   "metadata": {},
   "outputs": [
    {
     "name": "stdout",
     "output_type": "stream",
     "text": [
      "['New York', 'London', 'Istanbul', 'Seoul', 'Sydney']\n"
     ]
    }
   ],
   "source": [
    "city_list = [['New York', 'London', 'Istanbul', 'Seoul', 'Sydney']]\n",
    "print(city_list[0]) # access to first and only element"
   ]
  },
  {
   "cell_type": "code",
   "execution_count": 3,
   "id": "ca4e21bb-df86-4029-bd0b-d8a468070b74",
   "metadata": {},
   "outputs": [
    {
     "name": "stdout",
     "output_type": "stream",
     "text": [
      "Istanbul\n"
     ]
    }
   ],
   "source": [
    "city_list = [['New York', 'London', 'Istanbul', 'Seoul', 'Sydney']]\n",
    "print(city_list[0][2])"
   ]
  },
  {
   "cell_type": "code",
   "execution_count": 4,
   "id": "78c503f6-2d54-4587-bce7-0c2a38924ed7",
   "metadata": {},
   "outputs": [
    {
     "name": "stdout",
     "output_type": "stream",
     "text": [
      "['New York', 'London', 'Istanbul', 'Seoul', 'Sydney'] [2]\n"
     ]
    }
   ],
   "source": [
    "city_list = [['New York', 'London', 'Istanbul', 'Seoul', 'Sydney']]\n",
    "print(city_list[0],[2])"
   ]
  },
  {
   "cell_type": "code",
   "execution_count": 5,
   "id": "83603101-67aa-49b7-8626-a494386ebc25",
   "metadata": {},
   "outputs": [
    {
     "name": "stdout",
     "output_type": "stream",
     "text": [
      "w\n"
     ]
    }
   ],
   "source": [
    "city_list = ['New York', 'London', 'Istanbul', 'Seoul', 'Sydney']\n",
    "print(city_list[0][2])"
   ]
  },
  {
   "cell_type": "code",
   "execution_count": 6,
   "id": "55833e91-72d1-4fbe-a02f-40c5adf1a39b",
   "metadata": {},
   "outputs": [
    {
     "name": "stdout",
     "output_type": "stream",
     "text": [
      "New York [2]\n"
     ]
    }
   ],
   "source": [
    "city_list = ['New York', 'London', 'Istanbul', 'Seoul', 'Sydney']\n",
    "print(city_list[0],[2])"
   ]
  },
  {
   "cell_type": "code",
   "execution_count": 7,
   "id": "acf35134-f303-4241-bc0f-462f136ce439",
   "metadata": {},
   "outputs": [
    {
     "name": "stdout",
     "output_type": "stream",
     "text": [
      "Istanbul\n"
     ]
    }
   ],
   "source": [
    "city_list = [['New York', 'London', 'Istanbul', 'Seoul', 'Sydney']]\n",
    "print(city_list[0][2])\n"
   ]
  },
  {
   "cell_type": "code",
   "execution_count": 8,
   "id": "40a68016-3fea-46df-898d-fd43254fd8a3",
   "metadata": {},
   "outputs": [
    {
     "name": "stdout",
     "output_type": "stream",
     "text": [
      "a\n"
     ]
    }
   ],
   "source": [
    "city_list = [['New York', 'London', 'Istanbul', 'Seoul', 'Sydney']]\n",
    "print(city_list[0][2][3])"
   ]
  },
  {
   "cell_type": "code",
   "execution_count": 9,
   "id": "a803b18e-bb18-4ff4-ae71-db6d2064bc83",
   "metadata": {},
   "outputs": [
    {
     "name": "stdout",
     "output_type": "stream",
     "text": [
      "27\n"
     ]
    }
   ],
   "source": [
    "odd_numbers = [[11, 13, 15], 17, 19, 21, 23, 25, 27, 29]\n",
    "\n",
    "print(odd_numbers[6])"
   ]
  },
  {
   "cell_type": "code",
   "execution_count": 10,
   "id": "b6a83fa1-17c5-4b54-b615-3da0f7925bbc",
   "metadata": {},
   "outputs": [
    {
     "name": "stdout",
     "output_type": "stream",
     "text": [
      "l\n"
     ]
    }
   ],
   "source": [
    "fruits = ['apple', 'banana', 'watermelon', 'orange', 'mango', 'avocado']\n",
    "\n",
    "fruit_list = []\n",
    "fruit_list.insert(0, fruits)\n",
    "print(fruit_list[0][2][7])"
   ]
  },
  {
   "cell_type": "code",
   "execution_count": 11,
   "id": "bffb61bd-dd90-4b8a-a664-b21087498b5a",
   "metadata": {},
   "outputs": [
    {
     "name": "stdout",
     "output_type": "stream",
     "text": [
      "['elephant', 'bear', 'fox', 'wolf', 'rabbit', 'deer', 'giraffe']\n"
     ]
    }
   ],
   "source": [
    "animals = ['elephant', 'bear', 'fox', 'wolf', 'rabbit', 'deer', 'giraffe']\n",
    "\n",
    "print(animals[:])  # all elements of the list"
   ]
  },
  {
   "cell_type": "code",
   "execution_count": 12,
   "id": "4b5f9a11-393b-434b-badc-6015b9dd2ba9",
   "metadata": {},
   "outputs": [
    {
     "name": "stdout",
     "output_type": "stream",
     "text": [
      "['wolf', 'rabbit', 'deer', 'giraffe']\n"
     ]
    }
   ],
   "source": [
    "animals = ['elephant', 'bear', 'fox', 'wolf', 'rabbit', 'deer', 'giraffe']\n",
    "print(animals[3:])"
   ]
  },
  {
   "cell_type": "code",
   "execution_count": 13,
   "id": "128c8125-4135-4bdc-a377-5c1a173f5c3b",
   "metadata": {},
   "outputs": [
    {
     "name": "stdout",
     "output_type": "stream",
     "text": [
      "['elephant', 'bear', 'fox', 'wolf', 'rabbit']\n"
     ]
    }
   ],
   "source": [
    "animals = ['elephant', 'bear', 'fox', 'wolf', 'rabbit', 'deer', 'giraffe']\n",
    "print(animals[:5])"
   ]
  },
  {
   "cell_type": "code",
   "execution_count": 14,
   "id": "7a3ab764-0a17-4acd-b216-15f568cc789e",
   "metadata": {},
   "outputs": [
    {
     "name": "stdout",
     "output_type": "stream",
     "text": [
      "['elephant', 'fox', 'rabbit', 'giraffe']\n"
     ]
    }
   ],
   "source": [
    "animals = ['elephant', 'bear', 'fox', 'wolf', 'rabbit', 'deer', 'giraffe']\n",
    "print(animals[::2])"
   ]
  },
  {
   "cell_type": "code",
   "execution_count": 15,
   "id": "a6e161a7-e313-4e95-b601-54c0b1caa030",
   "metadata": {},
   "outputs": [
    {
     "name": "stdout",
     "output_type": "stream",
     "text": [
      "1\n"
     ]
    }
   ],
   "source": [
    "print(len([[12, 34, 56]]))"
   ]
  },
  {
   "cell_type": "code",
   "execution_count": 16,
   "id": "1e4363c5-cedc-4c57-a921-f26a55764a7d",
   "metadata": {},
   "outputs": [
    {
     "name": "stdout",
     "output_type": "stream",
     "text": [
      "3\n"
     ]
    }
   ],
   "source": [
    "print(len([[12, 34, 56]][0]))"
   ]
  },
  {
   "cell_type": "code",
   "execution_count": 17,
   "id": "39dbbc28-0344-461c-89a6-e81081fd9793",
   "metadata": {},
   "outputs": [
    {
     "name": "stdout",
     "output_type": "stream",
     "text": [
      "London\n"
     ]
    }
   ],
   "source": [
    "city = ['New York', 'London', 'Istanbul', 'Seoul', 'Sydney']\n",
    "print(city[-4])"
   ]
  },
  {
   "cell_type": "code",
   "execution_count": 18,
   "id": "72f478f1-b11a-4798-a9ad-76a90195de62",
   "metadata": {},
   "outputs": [
    {
     "name": "stdout",
     "output_type": "stream",
     "text": [
      "['lobster', 'squid', 'octopus']\n"
     ]
    }
   ],
   "source": [
    "reef = ['swordfish', 'shark', 'whale', 'jellyfish', 'lobster', 'squid', 'octopus']\n",
    "print(reef[-3:])"
   ]
  },
  {
   "cell_type": "code",
   "execution_count": 19,
   "id": "97f1ca65-a63f-4bc3-b682-cb7e6fd4a58d",
   "metadata": {},
   "outputs": [
    {
     "name": "stdout",
     "output_type": "stream",
     "text": [
      "['swordfish', 'shark', 'whale', 'jellyfish']\n"
     ]
    }
   ],
   "source": [
    "reef = ['swordfish', 'shark', 'whale', 'jellyfish', 'lobster', 'squid', 'octopus']\n",
    "print(reef[:-3])"
   ]
  },
  {
   "cell_type": "code",
   "execution_count": 20,
   "id": "6bbddfe2-3446-4d52-8abc-e34d259a52a2",
   "metadata": {},
   "outputs": [
    {
     "name": "stdout",
     "output_type": "stream",
     "text": [
      "['octopus', 'squid', 'lobster', 'jellyfish', 'whale', 'shark', 'swordfish']\n"
     ]
    }
   ],
   "source": [
    "reef = ['swordfish', 'shark', 'whale', 'jellyfish', 'lobster', 'squid', 'octopus']\n",
    "print(reef[::-1])  # we have produced the reverse of the list"
   ]
  },
  {
   "cell_type": "code",
   "execution_count": 29,
   "id": "49d016e2-2551-4d74-8591-0451b4f48f70",
   "metadata": {},
   "outputs": [
    {
     "name": "stdout",
     "output_type": "stream",
     "text": [
      "['eggplant', 'spinach', 'leek']\n"
     ]
    }
   ],
   "source": [
    "grocer = [\"banana\", [\"orange\", [\"apple\", \"eggplant\", \"melon\", \"spinach\", \"cheese\", \"leek\" ], \"water\"], \"mandarin\"]\n",
    "print(grocer[1][1][1:6:2])"
   ]
  },
  {
   "cell_type": "code",
   "execution_count": 31,
   "id": "23162e18-60be-4af2-a042-2fb4ae7c0461",
   "metadata": {},
   "outputs": [
    {
     "name": "stdout",
     "output_type": "stream",
     "text": [
      "['eggplant', 'spinach', 'leek']\n"
     ]
    }
   ],
   "source": [
    "grocer = [\"banana\", [\"orange\", [\"apple\", \"eggplant\", \"melon\", \"spinach\", \"cheese\", \"leek\" ], \"water\"], \"mandarin\"]\n",
    "print(grocer[1][1][1::2])"
   ]
  },
  {
   "cell_type": "code",
   "execution_count": 32,
   "id": "049c0a4e-ee0f-448d-b608-5bb559b4f967",
   "metadata": {},
   "outputs": [
    {
     "data": {
      "text/plain": [
       "['a', 'l', 'i']"
      ]
     },
     "execution_count": 32,
     "metadata": {},
     "output_type": "execute_result"
    }
   ],
   "source": [
    "list('ali')"
   ]
  },
  {
   "cell_type": "code",
   "execution_count": 33,
   "id": "e64e96fe-8fb9-49fd-978c-0194c7e60781",
   "metadata": {},
   "outputs": [
    {
     "data": {
      "text/plain": [
       "['h', 'a', 'p', 'p', 'y']"
      ]
     },
     "execution_count": 33,
     "metadata": {},
     "output_type": "execute_result"
    }
   ],
   "source": [
    "list('happy')"
   ]
  },
  {
   "cell_type": "code",
   "execution_count": 36,
   "id": "23dfebfd-f049-4427-aaf7-14b5c1ec80d9",
   "metadata": {},
   "outputs": [
    {
     "name": "stdout",
     "output_type": "stream",
     "text": [
      "['h', 'a', 'p', 'p', 'y']\n",
      "['h', 'a', 'p', 'p', 'y']\n"
     ]
    }
   ],
   "source": [
    "list_1 = ['h', 'a', 'p', 'p', 'y']\n",
    "word = 'happy'\n",
    "list_2 = list(word)\n",
    "print(list_1)\n",
    "print(list_2)"
   ]
  },
  {
   "cell_type": "code",
   "execution_count": 37,
   "id": "faf719f0-6023-4fd9-b93e-161f5df968ab",
   "metadata": {},
   "outputs": [
    {
     "data": {
      "text/plain": [
       "['I', ' ', 'q', 'u', 'i', 't', ' ', 's', 'm', 'o', 'k', 'i', 'n', 'g']"
      ]
     },
     "execution_count": 37,
     "metadata": {},
     "output_type": "execute_result"
    }
   ],
   "source": [
    "list('I quit smoking')"
   ]
  },
  {
   "cell_type": "code",
   "execution_count": 38,
   "id": "d6f5885c-2770-4d1f-bbc4-e4cf0842f44d",
   "metadata": {},
   "outputs": [
    {
     "name": "stdout",
     "output_type": "stream",
     "text": [
      "['Joseph', 'Clarusway', 2020]\n",
      "3\n",
      "[['Joseph', 'Clarusway', 2020]]\n",
      "1\n"
     ]
    }
   ],
   "source": [
    "my_list = ['Joseph', 'Clarusway', 2020]\n",
    "new_list1 = list(my_list)\n",
    "new_list2 = [my_list]\n",
    "\n",
    "print(new_list1)\n",
    "print(len(new_list1))\n",
    "print(new_list2)\n",
    "print(len(new_list2))"
   ]
  },
  {
   "cell_type": "code",
   "execution_count": 40,
   "id": "8fc2add6-eefc-45be-a168-8102a607ff4a",
   "metadata": {},
   "outputs": [
    {
     "data": {
      "text/plain": [
       "['2', '2', '0', \"'\", 's', ' ', 'h', 'a', 'r', 'd']"
      ]
     },
     "execution_count": 40,
     "metadata": {},
     "output_type": "execute_result"
    }
   ],
   "source": [
    "yil = \"220's hard\"\n",
    "yil_list = list(yil)\n",
    "yil_list"
   ]
  },
  {
   "cell_type": "code",
   "execution_count": 41,
   "id": "6657e7ea-3e53-4ba6-9ffe-9b9fb1791f83",
   "metadata": {},
   "outputs": [
    {
     "data": {
      "text/plain": [
       "[1, 2, 3]"
      ]
     },
     "execution_count": 41,
     "metadata": {},
     "output_type": "execute_result"
    }
   ],
   "source": [
    "a = 1\n",
    "b = 2\n",
    "c = 3\n",
    "sayilar = [a, b, c]\n",
    "sayilar"
   ]
  },
  {
   "cell_type": "code",
   "execution_count": 43,
   "id": "c565d7c7-9644-4b41-9693-14a9716349bb",
   "metadata": {},
   "outputs": [
    {
     "data": {
      "text/plain": [
       "[1, 2, 3, 3.14, 3.14]"
      ]
     },
     "execution_count": 43,
     "metadata": {},
     "output_type": "execute_result"
    }
   ],
   "source": [
    "sayilar.append(3.14)\n",
    "sayilar"
   ]
  },
  {
   "cell_type": "code",
   "execution_count": 44,
   "id": "0f1b3405-41d5-45f7-bb52-de2be9d8d474",
   "metadata": {},
   "outputs": [
    {
     "data": {
      "text/plain": [
       "3.14"
      ]
     },
     "execution_count": 44,
     "metadata": {},
     "output_type": "execute_result"
    }
   ],
   "source": [
    "sayilar.pop()"
   ]
  },
  {
   "cell_type": "code",
   "execution_count": 45,
   "id": "59b56fc8-249c-4e58-8684-2d47a394dd67",
   "metadata": {},
   "outputs": [
    {
     "data": {
      "text/plain": [
       "[1, 2, 3, 3.14]"
      ]
     },
     "execution_count": 45,
     "metadata": {},
     "output_type": "execute_result"
    }
   ],
   "source": [
    "sayilar"
   ]
  },
  {
   "cell_type": "code",
   "execution_count": 46,
   "id": "41dd9757-463f-4b03-9a35-cb33c017f7a4",
   "metadata": {},
   "outputs": [
    {
     "data": {
      "text/plain": [
       "2"
      ]
     },
     "execution_count": 46,
     "metadata": {},
     "output_type": "execute_result"
    }
   ],
   "source": [
    "sayilar.pop(1)"
   ]
  },
  {
   "cell_type": "code",
   "execution_count": 47,
   "id": "89e3c337-1baf-48bb-a64a-48761e90eb88",
   "metadata": {},
   "outputs": [
    {
     "data": {
      "text/plain": [
       "[1, 3, 3.14]"
      ]
     },
     "execution_count": 47,
     "metadata": {},
     "output_type": "execute_result"
    }
   ],
   "source": [
    "sayilar"
   ]
  },
  {
   "cell_type": "code",
   "execution_count": 50,
   "id": "57df97b3-b694-49b2-860d-297c315bfefb",
   "metadata": {},
   "outputs": [
    {
     "data": {
      "text/plain": [
       "[1, 2, 3, 4]"
      ]
     },
     "execution_count": 50,
     "metadata": {},
     "output_type": "execute_result"
    }
   ],
   "source": [
    "sayilar = []\n",
    "sayilar.append(1)\n",
    "sayilar.append(2)\n",
    "sayilar.append(3)\n",
    "sayilar.append(4)\n",
    "sayilar\n"
   ]
  },
  {
   "cell_type": "code",
   "execution_count": 51,
   "id": "a72e1e4a-4817-4213-b939-db2d8dbe4f30",
   "metadata": {},
   "outputs": [],
   "source": [
    "sayilar.insert(2,9)"
   ]
  },
  {
   "cell_type": "code",
   "execution_count": 53,
   "id": "e2a4f2bc-7a35-45b4-83c0-bc75b1c57ee4",
   "metadata": {},
   "outputs": [
    {
     "data": {
      "text/plain": [
       "[1, 2, 9, 3, 4]"
      ]
     },
     "execution_count": 53,
     "metadata": {},
     "output_type": "execute_result"
    }
   ],
   "source": [
    "sayilar"
   ]
  },
  {
   "cell_type": "code",
   "execution_count": 54,
   "id": "846ad81a-a942-42e9-8976-02a239c66cc5",
   "metadata": {},
   "outputs": [
    {
     "ename": "SyntaxError",
     "evalue": "invalid syntax (<ipython-input-54-de2a694ee9b1>, line 1)",
     "output_type": "error",
     "traceback": [
      "\u001b[1;36m  File \u001b[1;32m\"<ipython-input-54-de2a694ee9b1>\"\u001b[1;36m, line \u001b[1;32m1\u001b[0m\n\u001b[1;33m    sayilar.insert(,9)\u001b[0m\n\u001b[1;37m                   ^\u001b[0m\n\u001b[1;31mSyntaxError\u001b[0m\u001b[1;31m:\u001b[0m invalid syntax\n"
     ]
    }
   ],
   "source": [
    "sayilar.insert(,9)"
   ]
  },
  {
   "cell_type": "code",
   "execution_count": 56,
   "id": "423caa62-1096-4726-8a37-e051918f02fe",
   "metadata": {},
   "outputs": [
    {
     "data": {
      "text/plain": [
       "[1, 2, 3, 4, 5]"
      ]
     },
     "execution_count": 56,
     "metadata": {},
     "output_type": "execute_result"
    }
   ],
   "source": [
    "sayilar = [1, 2, 3, 4]\n",
    "sayilar.insert(4,5)\n",
    "sayilar"
   ]
  },
  {
   "cell_type": "code",
   "execution_count": 58,
   "id": "3589c9bb-31b7-42fb-8928-cc4513129a19",
   "metadata": {},
   "outputs": [
    {
     "data": {
      "text/plain": [
       "[1, 2, 3, 4, 5]"
      ]
     },
     "execution_count": 58,
     "metadata": {},
     "output_type": "execute_result"
    }
   ],
   "source": [
    "sayilar = [1, 2, 3, 4]\n",
    "sayilar.insert(7,5)\n",
    "sayilar"
   ]
  },
  {
   "cell_type": "code",
   "execution_count": 60,
   "id": "7adb1f2e-6541-4940-b613-189cf72986d8",
   "metadata": {},
   "outputs": [
    {
     "data": {
      "text/plain": [
       "[5, 1, 2, 3, 4]"
      ]
     },
     "execution_count": 60,
     "metadata": {},
     "output_type": "execute_result"
    }
   ],
   "source": [
    "sayilar = [1, 2, 3, 4]\n",
    "sayilar.insert(-0,5)\n",
    "sayilar"
   ]
  },
  {
   "cell_type": "code",
   "execution_count": 61,
   "id": "d1ec1ec5-3fcb-47f1-8f1b-80239c5f8f2e",
   "metadata": {},
   "outputs": [
    {
     "data": {
      "text/plain": [
       "[1, 2, 'ekledim', 3, 4]"
      ]
     },
     "execution_count": 61,
     "metadata": {},
     "output_type": "execute_result"
    }
   ],
   "source": [
    "sayilar = [1, 2, 3, 4]\n",
    "sayilar.insert(2, \"ekledim\")\n",
    "sayilar"
   ]
  },
  {
   "cell_type": "code",
   "execution_count": 63,
   "id": "6fb8eb69-818a-4cd2-9bb4-fd6e994d87ac",
   "metadata": {},
   "outputs": [
    {
     "data": {
      "text/plain": [
       "['New York', 'Istanbul', 'Seoul', 'Sydney', 'Addis Abbaba']"
      ]
     },
     "execution_count": 63,
     "metadata": {},
     "output_type": "execute_result"
    }
   ],
   "source": [
    "city = ['New York', 'London', 'Istanbul', 'Seoul', 'Sydney', 'Addis Abbaba']\n",
    "city.remove('London')\n",
    "city"
   ]
  },
  {
   "cell_type": "code",
   "execution_count": 64,
   "id": "ebe1861b-d6a3-4937-ad19-5f5f0462cd0c",
   "metadata": {},
   "outputs": [
    {
     "data": {
      "text/plain": [
       "[1, 2, 3, 4, 7]"
      ]
     },
     "execution_count": 64,
     "metadata": {},
     "output_type": "execute_result"
    }
   ],
   "source": [
    "liste = [ 4, 3, 7, 1, 2]\n",
    "liste.sort()\n",
    "liste"
   ]
  },
  {
   "cell_type": "code",
   "execution_count": 65,
   "id": "5c08923a-30ee-4935-a968-9c7297529a70",
   "metadata": {},
   "outputs": [
    {
     "data": {
      "text/plain": [
       "['A', 'B', 'a', 'b']"
      ]
     },
     "execution_count": 65,
     "metadata": {},
     "output_type": "execute_result"
    }
   ],
   "source": [
    "harfler = [\"b\", \"A\", \"B\", \"a\"]\n",
    "harfler.sort()\n",
    "harfler"
   ]
  },
  {
   "cell_type": "code",
   "execution_count": 68,
   "id": "9de7c7b6-b1bf-4395-9ef7-0bd3d96ef935",
   "metadata": {},
   "outputs": [
    {
     "data": {
      "text/plain": [
       "['Addis Abbaba', 'Istanbul', 'London', 'New York', 'Seoul', 'Sydney']"
      ]
     },
     "execution_count": 68,
     "metadata": {},
     "output_type": "execute_result"
    }
   ],
   "source": [
    "city = ['New York', 'London', 'Istanbul', 'Seoul', 'Sydney', 'Addis Abbaba']\n",
    "city.sort()\n",
    "city"
   ]
  },
  {
   "cell_type": "code",
   "execution_count": 69,
   "id": "43646595-868d-4753-b951-ffbac81be9ce",
   "metadata": {},
   "outputs": [
    {
     "ename": "TypeError",
     "evalue": "'<' not supported between instances of 'int' and 'str'",
     "output_type": "error",
     "traceback": [
      "\u001b[1;31m---------------------------------------------------------------------------\u001b[0m",
      "\u001b[1;31mTypeError\u001b[0m                                 Traceback (most recent call last)",
      "\u001b[1;32m<ipython-input-69-70fe285e6bbe>\u001b[0m in \u001b[0;36m<module>\u001b[1;34m\u001b[0m\n\u001b[0;32m      1\u001b[0m \u001b[0mkume\u001b[0m \u001b[1;33m=\u001b[0m \u001b[1;33m[\u001b[0m\u001b[1;34m\"b\"\u001b[0m\u001b[1;33m,\u001b[0m \u001b[1;36m6\u001b[0m\u001b[1;33m,\u001b[0m \u001b[1;34m\"A\"\u001b[0m\u001b[1;33m,\u001b[0m \u001b[1;34m\"B\"\u001b[0m\u001b[1;33m,\u001b[0m \u001b[1;36m2\u001b[0m\u001b[1;33m,\u001b[0m \u001b[1;34m\"a\"\u001b[0m\u001b[1;33m,\u001b[0m\u001b[1;36m1\u001b[0m\u001b[1;33m,\u001b[0m \u001b[1;36m9\u001b[0m\u001b[1;33m]\u001b[0m\u001b[1;33m\u001b[0m\u001b[1;33m\u001b[0m\u001b[0m\n\u001b[1;32m----> 2\u001b[1;33m \u001b[0mkume\u001b[0m\u001b[1;33m.\u001b[0m\u001b[0msort\u001b[0m\u001b[1;33m(\u001b[0m\u001b[1;33m)\u001b[0m\u001b[1;33m\u001b[0m\u001b[1;33m\u001b[0m\u001b[0m\n\u001b[0m\u001b[0;32m      3\u001b[0m \u001b[0mkume\u001b[0m\u001b[1;33m\u001b[0m\u001b[1;33m\u001b[0m\u001b[0m\n",
      "\u001b[1;31mTypeError\u001b[0m: '<' not supported between instances of 'int' and 'str'"
     ]
    }
   ],
   "source": [
    "kume = [\"b\", 6, \"A\", \"B\", 2, \"a\",1, 9]\n",
    "kume.sort()\n",
    "kume"
   ]
  },
  {
   "cell_type": "code",
   "execution_count": 70,
   "id": "07d9e7fb-6331-45b9-9d5c-4f93ef6ef636",
   "metadata": {},
   "outputs": [
    {
     "data": {
      "text/plain": [
       "['four', 'nine', 'one']"
      ]
     },
     "execution_count": 70,
     "metadata": {},
     "output_type": "execute_result"
    }
   ],
   "source": [
    "list_1 = ['one', 'four', 'nine']\n",
    "list_1.sort()\n",
    "list_1"
   ]
  },
  {
   "cell_type": "code",
   "execution_count": 71,
   "id": "a5fc015c-0895-452a-92ac-08c4df02fe66",
   "metadata": {},
   "outputs": [
    {
     "data": {
      "text/plain": [
       "['*-', '@', 'False']"
      ]
     },
     "execution_count": 71,
     "metadata": {},
     "output_type": "execute_result"
    }
   ],
   "source": [
    "list_2 = ['@', '*-', 'False']\n",
    "list_2.sort()\n",
    "list_2"
   ]
  },
  {
   "cell_type": "code",
   "execution_count": 72,
   "id": "aba45df3-7129-4015-9c59-040ab31898a2",
   "metadata": {},
   "outputs": [
    {
     "data": {
      "text/plain": [
       "64"
      ]
     },
     "execution_count": 72,
     "metadata": {},
     "output_type": "execute_result"
    }
   ],
   "source": [
    "ord(\"@\")"
   ]
  },
  {
   "cell_type": "code",
   "execution_count": 73,
   "id": "f6b2ce7f-d997-4fde-a285-09884dd1969c",
   "metadata": {},
   "outputs": [
    {
     "data": {
      "text/plain": [
       "42"
      ]
     },
     "execution_count": 73,
     "metadata": {},
     "output_type": "execute_result"
    }
   ],
   "source": [
    "ord(\"*\")"
   ]
  },
  {
   "cell_type": "code",
   "execution_count": 75,
   "id": "42f9b02b-9805-4f7e-9063-4e02125975a2",
   "metadata": {},
   "outputs": [
    {
     "data": {
      "text/plain": [
       "70"
      ]
     },
     "execution_count": 75,
     "metadata": {},
     "output_type": "execute_result"
    }
   ],
   "source": [
    "ord(\"F\")"
   ]
  },
  {
   "cell_type": "code",
   "execution_count": 77,
   "id": "82ac4252-2ac4-4604-8203-0c73d6c8bc83",
   "metadata": {},
   "outputs": [
    {
     "data": {
      "text/plain": [
       "[False, True]"
      ]
     },
     "execution_count": 77,
     "metadata": {},
     "output_type": "execute_result"
    }
   ],
   "source": [
    "list_2 = [True, False]\n",
    "list_2.sort()\n",
    "list_2"
   ]
  },
  {
   "cell_type": "code",
   "execution_count": 80,
   "id": "0cdd5e0f-2fff-48aa-b10a-76f6e7d8305f",
   "metadata": {},
   "outputs": [
    {
     "name": "stdout",
     "output_type": "stream",
     "text": [
      "3\n"
     ]
    }
   ],
   "source": [
    "print(len([[12, 34, 56]][0]))"
   ]
  },
  {
   "cell_type": "code",
   "execution_count": 81,
   "id": "5a85afad-3bdc-4956-817f-d5a2eba3c5c6",
   "metadata": {},
   "outputs": [
    {
     "ename": "IndexError",
     "evalue": "list index out of range",
     "output_type": "error",
     "traceback": [
      "\u001b[1;31m---------------------------------------------------------------------------\u001b[0m",
      "\u001b[1;31mIndexError\u001b[0m                                Traceback (most recent call last)",
      "\u001b[1;32m<ipython-input-81-e45b533fee16>\u001b[0m in \u001b[0;36m<module>\u001b[1;34m\u001b[0m\n\u001b[1;32m----> 1\u001b[1;33m \u001b[0mprint\u001b[0m\u001b[1;33m(\u001b[0m\u001b[0mlen\u001b[0m\u001b[1;33m(\u001b[0m\u001b[1;33m[\u001b[0m\u001b[1;33m[\u001b[0m\u001b[1;36m12\u001b[0m\u001b[1;33m,\u001b[0m \u001b[1;36m34\u001b[0m\u001b[1;33m,\u001b[0m \u001b[1;36m56\u001b[0m\u001b[1;33m]\u001b[0m\u001b[1;33m]\u001b[0m\u001b[1;33m[\u001b[0m\u001b[1;36m1\u001b[0m\u001b[1;33m]\u001b[0m\u001b[1;33m)\u001b[0m\u001b[1;33m)\u001b[0m\u001b[1;33m\u001b[0m\u001b[1;33m\u001b[0m\u001b[0m\n\u001b[0m",
      "\u001b[1;31mIndexError\u001b[0m: list index out of range"
     ]
    }
   ],
   "source": [
    "print(len([[12, 34, 56]][1]))"
   ]
  },
  {
   "cell_type": "code",
   "execution_count": 82,
   "id": "11621b46-4e90-4586-ba49-a197198dc212",
   "metadata": {},
   "outputs": [
    {
     "ename": "TypeError",
     "evalue": "object of type 'int' has no len()",
     "output_type": "error",
     "traceback": [
      "\u001b[1;31m---------------------------------------------------------------------------\u001b[0m",
      "\u001b[1;31mTypeError\u001b[0m                                 Traceback (most recent call last)",
      "\u001b[1;32m<ipython-input-82-94162c195e55>\u001b[0m in \u001b[0;36m<module>\u001b[1;34m\u001b[0m\n\u001b[1;32m----> 1\u001b[1;33m \u001b[0mprint\u001b[0m\u001b[1;33m(\u001b[0m\u001b[0mlen\u001b[0m\u001b[1;33m(\u001b[0m\u001b[1;33m[\u001b[0m\u001b[1;36m12\u001b[0m\u001b[1;33m,\u001b[0m \u001b[1;36m34\u001b[0m\u001b[1;33m,\u001b[0m \u001b[1;36m56\u001b[0m\u001b[1;33m]\u001b[0m\u001b[1;33m[\u001b[0m\u001b[1;36m0\u001b[0m\u001b[1;33m]\u001b[0m\u001b[1;33m)\u001b[0m\u001b[1;33m)\u001b[0m\u001b[1;33m\u001b[0m\u001b[1;33m\u001b[0m\u001b[0m\n\u001b[0m",
      "\u001b[1;31mTypeError\u001b[0m: object of type 'int' has no len()"
     ]
    }
   ],
   "source": [
    "print(len([12, 34, 56][0]))"
   ]
  },
  {
   "cell_type": "code",
   "execution_count": 83,
   "id": "3b5a59e5-8072-44f5-87b6-b3a848cde8be",
   "metadata": {},
   "outputs": [
    {
     "name": "stdout",
     "output_type": "stream",
     "text": [
      "3\n"
     ]
    }
   ],
   "source": [
    "print(len([12, 34, 56]))"
   ]
  },
  {
   "cell_type": "code",
   "execution_count": 84,
   "id": "600c8e0a-5a8b-47ec-bf7b-a2e957fc32f4",
   "metadata": {},
   "outputs": [
    {
     "name": "stderr",
     "output_type": "stream",
     "text": [
      "<>:1: SyntaxWarning: list indices must be integers or slices, not tuple; perhaps you missed a comma?\n",
      "<>:1: SyntaxWarning: list indices must be integers or slices, not tuple; perhaps you missed a comma?\n",
      "<ipython-input-84-ea2b21e5c5dd>:1: SyntaxWarning: list indices must be integers or slices, not tuple; perhaps you missed a comma?\n",
      "  print(len([[1][12, 34, 56]][0]))\n"
     ]
    },
    {
     "ename": "TypeError",
     "evalue": "list indices must be integers or slices, not tuple",
     "output_type": "error",
     "traceback": [
      "\u001b[1;31m---------------------------------------------------------------------------\u001b[0m",
      "\u001b[1;31mTypeError\u001b[0m                                 Traceback (most recent call last)",
      "\u001b[1;32m<ipython-input-84-ea2b21e5c5dd>\u001b[0m in \u001b[0;36m<module>\u001b[1;34m\u001b[0m\n\u001b[1;32m----> 1\u001b[1;33m \u001b[0mprint\u001b[0m\u001b[1;33m(\u001b[0m\u001b[0mlen\u001b[0m\u001b[1;33m(\u001b[0m\u001b[1;33m[\u001b[0m\u001b[1;33m[\u001b[0m\u001b[1;36m1\u001b[0m\u001b[1;33m]\u001b[0m\u001b[1;33m[\u001b[0m\u001b[1;36m12\u001b[0m\u001b[1;33m,\u001b[0m \u001b[1;36m34\u001b[0m\u001b[1;33m,\u001b[0m \u001b[1;36m56\u001b[0m\u001b[1;33m]\u001b[0m\u001b[1;33m]\u001b[0m\u001b[1;33m[\u001b[0m\u001b[1;36m0\u001b[0m\u001b[1;33m]\u001b[0m\u001b[1;33m)\u001b[0m\u001b[1;33m)\u001b[0m\u001b[1;33m\u001b[0m\u001b[1;33m\u001b[0m\u001b[0m\n\u001b[0m",
      "\u001b[1;31mTypeError\u001b[0m: list indices must be integers or slices, not tuple"
     ]
    }
   ],
   "source": [
    "print(len([[[12, 34, 56]][0]))"
   ]
  },
  {
   "cell_type": "code",
   "execution_count": 1,
   "id": "1ffc20c1-1e4c-4e0e-a13f-5a735c1caf1f",
   "metadata": {},
   "outputs": [
    {
     "name": "stdout",
     "output_type": "stream",
     "text": [
      "['swordfish', 'shark', 'whale', 'jellyfish']\n"
     ]
    }
   ],
   "source": [
    "reef = ['swordfish', 'shark', 'whale', 'jellyfish', 'lobster', 'squid', 'octopus']\n",
    "print(reef[:-3])"
   ]
  },
  {
   "cell_type": "code",
   "execution_count": 3,
   "id": "9ab68955-6e9a-4287-8e2b-a5b9da6b2acc",
   "metadata": {},
   "outputs": [
    {
     "name": "stdout",
     "output_type": "stream",
     "text": [
      "['octopus', 'lobster', 'whale', 'swordfish']\n"
     ]
    }
   ],
   "source": [
    "reef = ['swordfish', 'shark', 'whale', 'jellyfish', 'lobster', 'squid', 'octopus']\n",
    "print(reef[::-2])\n"
   ]
  },
  {
   "cell_type": "code",
   "execution_count": 5,
   "id": "d820e685-debd-4bd5-966b-fe7e2f68e272",
   "metadata": {},
   "outputs": [
    {
     "name": "stdout",
     "output_type": "stream",
     "text": [
      "['h', 'a', 'p', 'p', 'y']\n",
      "['h', 'a', 'p', 'p', 'y']\n"
     ]
    }
   ],
   "source": [
    "list_1 = ['h', 'a', 'p', 'p', 'y']\n",
    "list_1 = ['h', 'a', 'p', 'p', 'y']\n",
    "word = 'happy'\n",
    "list_2 = list(word)\n",
    "print(list_1)\n",
    "print(list_2)"
   ]
  },
  {
   "cell_type": "code",
   "execution_count": 7,
   "id": "47642c4c-d2ad-493d-9591-f2b456525f1d",
   "metadata": {},
   "outputs": [
    {
     "name": "stdout",
     "output_type": "stream",
     "text": [
      "['h', 'a', 'p', 'p', 'y']\n",
      "('h', 'a', 'p', 'p', 'y')\n"
     ]
    }
   ],
   "source": [
    "word = 'happy'\n",
    "list_1 = list(word)\n",
    "list_2 = tuple(word)\n",
    "print(list_1)\n",
    "print(list_2)"
   ]
  },
  {
   "cell_type": "code",
   "execution_count": 8,
   "id": "0d957af3-d476-490f-a72e-5a075c6d824a",
   "metadata": {},
   "outputs": [
    {
     "data": {
      "text/plain": [
       "tuple"
      ]
     },
     "execution_count": 8,
     "metadata": {},
     "output_type": "execute_result"
    }
   ],
   "source": [
    "a = 1, 2, 3\n",
    "type(a)"
   ]
  },
  {
   "cell_type": "code",
   "execution_count": 9,
   "id": "4370d126-3785-4c59-a43f-57828b596b5d",
   "metadata": {},
   "outputs": [
    {
     "data": {
      "text/plain": [
       "int"
      ]
     },
     "execution_count": 9,
     "metadata": {},
     "output_type": "execute_result"
    }
   ],
   "source": [
    "b =1\n",
    "type(b)"
   ]
  },
  {
   "cell_type": "code",
   "execution_count": 10,
   "id": "1064f54a-526d-48fc-8207-b4902db15907",
   "metadata": {},
   "outputs": [
    {
     "data": {
      "text/plain": [
       "tuple"
      ]
     },
     "execution_count": 10,
     "metadata": {},
     "output_type": "execute_result"
    }
   ],
   "source": [
    "c = 1,\n",
    "type(c)"
   ]
  },
  {
   "cell_type": "code",
   "execution_count": 11,
   "id": "945c83de-4f3a-4ba2-8974-957984af89a7",
   "metadata": {},
   "outputs": [
    {
     "data": {
      "text/plain": [
       "('Solar',)"
      ]
     },
     "execution_count": 11,
     "metadata": {},
     "output_type": "execute_result"
    }
   ],
   "source": [
    "tuple([\"Solar\"])"
   ]
  },
  {
   "cell_type": "code",
   "execution_count": 12,
   "id": "b3fe19ca-b978-4733-8ca6-3454eecc670a",
   "metadata": {},
   "outputs": [
    {
     "data": {
      "text/plain": [
       "tuple"
      ]
     },
     "execution_count": 12,
     "metadata": {},
     "output_type": "execute_result"
    }
   ],
   "source": [
    "x = \"Ali\", \"Veli\", \"Deli\"\n",
    "type(x)"
   ]
  },
  {
   "cell_type": "code",
   "execution_count": 13,
   "id": "492f2af9-d7e2-4402-9073-3664982dfd89",
   "metadata": {},
   "outputs": [
    {
     "name": "stdout",
     "output_type": "stream",
     "text": [
      "('Earth', 'Venus', 'Uranus')\n",
      "<class 'tuple'>\n"
     ]
    }
   ],
   "source": [
    "solar = \"Earth\", \"Venus\", \"Uranus\" \n",
    "print(solar, type(solar), sep=\"\\n\")"
   ]
  },
  {
   "cell_type": "code",
   "execution_count": 14,
   "id": "5619f1c9-5b9a-4837-807d-8cdb3f50c89b",
   "metadata": {},
   "outputs": [
    {
     "name": "stdout",
     "output_type": "stream",
     "text": [
      "<class 'list'> [1, 4, 3, 4, 5, 6, 7, 4]\n"
     ]
    }
   ],
   "source": [
    "my_tuple=(1, 4, 3, 4, 5, 6, 7, 4)  # tuple'i listeye cevirme\n",
    "\n",
    "my_list = list(my_tuple)\n",
    "\n",
    "print(type(my_list), my_list)"
   ]
  },
  {
   "cell_type": "code",
   "execution_count": 15,
   "id": "259501d6-b703-4056-b6f1-069bb4d9cdf2",
   "metadata": {},
   "outputs": [
    {
     "name": "stdout",
     "output_type": "stream",
     "text": [
      "<class 'tuple'> (1, 4, 3, 4, 5, 6, 7, 4)\n"
     ]
    }
   ],
   "source": [
    "my_list = [1, 4, 3, 4, 5, 6, 7, 4]  # listeyi tuple a cevirme\n",
    "\n",
    "my_tuple = tuple(my_list)\n",
    "\n",
    "print(type(my_tuple), my_tuple)"
   ]
  },
  {
   "cell_type": "code",
   "execution_count": null,
   "id": "9dbb29cc-1550-4dbf-9b78-2d7cc31a646f",
   "metadata": {},
   "outputs": [],
   "source": []
  }
 ],
 "metadata": {
  "kernelspec": {
   "display_name": "Python 3",
   "language": "python",
   "name": "python3"
  },
  "language_info": {
   "codemirror_mode": {
    "name": "ipython",
    "version": 3
   },
   "file_extension": ".py",
   "mimetype": "text/x-python",
   "name": "python",
   "nbconvert_exporter": "python",
   "pygments_lexer": "ipython3",
   "version": "3.8.8"
  }
 },
 "nbformat": 4,
 "nbformat_minor": 5
}
