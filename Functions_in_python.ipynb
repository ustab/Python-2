{
 "cells": [
  {
   "cell_type": "markdown",
   "metadata": {
    "id": "9tnaQb4cmXsg"
   },
   "source": [
    "## Github colab baglantisi"
   ]
  },
  {
   "cell_type": "markdown",
   "metadata": {
    "id": "CA_vKdUKZDRG"
   },
   "source": [
    " ############            Functions"
   ]
  },
  {
   "cell_type": "markdown",
   "metadata": {
    "id": "YrrooPu7mbdN"
   },
   "source": [
    "# Temel olarak, bir  fonksiyon  bizim için mantık yürüten bir kod bloğudur, \n",
    "# örneğin bir metin yazdırır, bazı verileri siler veya bir sayının karesini alır. \n",
    "# Başka bir deyişle, bir fonksiyon , yalnızca çağrıldığında çalışan bir kod parçasıdır. "
   ]
  },
  {
   "cell_type": "markdown",
   "metadata": {
    "id": "2Cj8VPEPmbfY"
   },
   "source": [
    "# Fonksiyonlar kodlama sürecini basitleştirir, gereksiz mantığı önler \n",
    "# ve kodun takip edilmesini kolaylaştırır."
   ]
  },
  {
   "cell_type": "markdown",
   "metadata": {
    "id": "EYsfSI-lmbhJ"
   },
   "source": [
    "# Bazı durumlarda, kendi fonksiyonumuzu oluşturmamız gerekebilir. \n",
    "# Böylece olusturdugumuz bu function lar kodumuzdaki karışıklığı ortadan kaldırmaya \n",
    "# yardımcı olurlar. Cünkü bizi gereksiz tekrarlardan kurtarırlar. \n"
   ]
  },
  {
   "cell_type": "markdown",
   "metadata": {
    "id": "bY1ZA2rZmbjA"
   },
   "source": [
    "# Olusturdugumuz function i istedigimiz yer ve zamanda cagirabilir ve kullanabiliriz\n"
   ]
  },
  {
   "cell_type": "markdown",
   "metadata": {
    "id": "MmOMFr6Gmbk2"
   },
   "source": [
    "# Interview Question\n",
    "# S : Python'da fonksiyon nedir?\n",
    "# Bir fonksiyon, yalnızca çağrıldığında yürütülen bir kod bloğudur. \n",
    "# Bir Python func tanımlamak için def anahtar sözcüğü kullanılır.\n",
    "\n",
    "# a function is a piece of code that only runs when its name is called."
   ]
  },
  {
   "cell_type": "markdown",
   "metadata": {
    "id": "DHucvJshpQAO",
    "tags": []
   },
   "source": [
    "###############               Calling a Function"
   ]
  },
  {
   "cell_type": "markdown",
   "metadata": {
    "id": "rsivvbijpQCk"
   },
   "source": [
    "# Bir func cagirma onu kullanma anlamina gelir."
   ]
  },
  {
   "cell_type": "markdown",
   "metadata": {
    "id": "qbsjilAApQEh"
   },
   "source": [
    "# Basit bir örnekle func yapisini görelim\n",
    "\n",
    "# multiply(no1, no2)\n",
    "\n",
    "# Burada multiply fonksiyonumuzun adidir. no1 ve no2 ise bu fonksiyonun \n",
    "\n",
    "# carpim islemi icin ihtiyac duydugu parametrelerdir. Cünkü carpim olmasi icin\n",
    "\n",
    "# en az iki parametreye ihtiyac vardir.\n",
    "\n",
    "# Birde argument tabiri vardir. Argumentlar ise parametreler arasindaki farki \n",
    "# detayli inceleyecegiz"
   ]
  },
  {
   "cell_type": "code",
   "execution_count": null,
   "metadata": {
    "id": "z9Rm22VBpQGk"
   },
   "outputs": [],
   "source": []
  },
  {
   "cell_type": "code",
   "execution_count": null,
   "metadata": {
    "id": "jrF4v2e1pQIi"
   },
   "outputs": [],
   "source": []
  },
  {
   "cell_type": "markdown",
   "metadata": {
    "id": "5w1y9dSWs1Yp"
   },
   "source": [
    "## ###########             Calling print() Function"
   ]
  },
  {
   "cell_type": "code",
   "execution_count": 1,
   "metadata": {
    "id": "73NxqPI5s1bA"
   },
   "outputs": [
    {
     "name": "stdout",
     "output_type": "stream",
     "text": [
      "\n",
      "1 2 Sivas (3+5j)\n",
      "Biz IT kursundayiz\n"
     ]
    }
   ],
   "source": [
    "# Print() fonksiyonunun calisma prensibini hepimiz cok iyi biliyoruz.\n",
    "\n",
    "# print olarak ismi yazilir ve yanina ()  parantez koyularak cagrilir.\n",
    "\n",
    "# Ve biz bu func icerisine arguman yazmak zorunda olmadigimiz gibi\n",
    "\n",
    "# birden cok argument da yazabiliriz.\n",
    "\n",
    "# For example:\n",
    "\n",
    "print()\n",
    "\n",
    "print(1, 2, \"Sivas\", 3 + 5j)\n",
    "\n",
    "print(\"Biz IT kursundayiz\")"
   ]
  },
  {
   "cell_type": "markdown",
   "metadata": {
    "id": "6gH8lCq4s1c4"
   },
   "source": [
    "# Soru :  (Bosluga ne gelmelidir)\n",
    "\n",
    "# You can enter or input data, known as .........   into a function and \n",
    "\n",
    "# it returns something good that you want. (a) Arguments"
   ]
  },
  {
   "cell_type": "code",
   "execution_count": null,
   "metadata": {
    "id": "XaLC-3IKuEQC"
   },
   "outputs": [],
   "source": []
  },
  {
   "cell_type": "markdown",
   "metadata": {
    "id": "hHFrV_dUuEUP"
   },
   "source": [
    "##########         Built-in Functions   (yerlesik fonksiyonlar)"
   ]
  },
  {
   "cell_type": "markdown",
   "metadata": {
    "id": "PrgTLkWn1bmL"
   },
   "source": [
    "### Python da iki türlü function vardir.\n",
    "\n",
    "# Birincisi built in func dedigimiz python'in sürümlerinde gelistiriciler tarafindan\n",
    "\n",
    "# hazir olarak piyasaya sürülmüs ve bizim de hazir olarak kullandigimiz \n",
    "\n",
    "# print()  gibi functionlardir.\n",
    "\n",
    "\n",
    "# Ikincisi ise;  User-defined Functions dedigimiz kullanici tarafindan tanimlanan \n",
    "\n",
    "# functionlardir."
   ]
  },
  {
   "cell_type": "markdown",
   "metadata": {
    "id": "NheyYKe5uEXY"
   },
   "source": [
    "# Python da İstediğimiz bir şeyi yapabilecek bir işlev düşünüyorsak, \n",
    "\n",
    "# muhtemelen vardır. Sadece varlığından haberdar olmamız gerekiyor.\n",
    "\n",
    "# ve En son Python 3.9 sürümünde yerleşik functionlarin sayısı 69'dur\n",
    "\n",
    "# Bunlardan bazilari: print(), int(), list(), input(), range()"
   ]
  },
  {
   "cell_type": "markdown",
   "metadata": {
    "id": "Oynp1f_EuEaP"
   },
   "source": [
    "# Bu functionlarin bazilari \n",
    "\n",
    "# içindeki koşullu algoritmaya göre bool tür döndürür. Örnegin:\n",
    "\n",
    "# .all(iterable)     any(iterable)      callable(object)   "
   ]
  },
  {
   "cell_type": "markdown",
   "metadata": {
    "id": "wipwLq25s1gp"
   },
   "source": [
    "# Bazıları veri türlerini birbirine dönüştürmenize yardımcı olur. \n",
    "\n",
    "# Örneğin; bool(), float(), int()ve str()."
   ]
  },
  {
   "cell_type": "markdown",
   "metadata": {
    "id": "iZP-hS_dpQKh"
   },
   "source": [
    "# Bazıları, koleksiyon türlerini oluşturmanıza ve işlememize izin verir. \n",
    "\n",
    "# Mesela: dict(), list(), tuple(), set(), len(), frozenset(), zip(), \n",
    "\n",
    "# ve .filter(function, iterable) enumerate(iterable)"
   ]
  },
  {
   "cell_type": "markdown",
   "metadata": {
    "id": "-eskF-7N0inM"
   },
   "source": [
    "# Bazıları sayılarla islem yapar. Mesela: max(), min(), sum()ve round()."
   ]
  },
  {
   "cell_type": "markdown",
   "metadata": {
    "id": "vFyO4g7-0ipu"
   },
   "source": [
    "# Birde özel amaçlar için inşa edilmiş functionlar vardir. \n",
    "\n",
    "# Bunlar Bazı karmaşık uygulamalar yaparlar. \n",
    "\n",
    "# Örneğin:\n",
    "\n",
    "# .map(function, iterable)\n",
    "\n",
    "# eval(expression[, globals[, locals]])\n",
    "\n",
    "# sorted(iterable)\n",
    "\n",
    "# open()\n",
    "\n",
    "# dir([object])\n",
    "\n",
    "# hash()\n",
    "\n",
    "# help([object])"
   ]
  },
  {
   "cell_type": "markdown",
   "metadata": {
    "id": "iqn_CjpD0irp"
   },
   "source": [
    "## Interview Question :\n",
    "\n",
    "#  Python da Function nedir?  vvvvv"
   ]
  },
  {
   "cell_type": "code",
   "execution_count": null,
   "metadata": {
    "id": "VT0jL-wh0it-"
   },
   "outputs": [],
   "source": []
  },
  {
   "cell_type": "code",
   "execution_count": null,
   "metadata": {
    "id": "A6eJ2-IM0iwE"
   },
   "outputs": [],
   "source": []
  },
  {
   "cell_type": "markdown",
   "metadata": {
    "id": "sv37faX72gbY"
   },
   "source": [
    "# Bir fonksiyon, programın bir bölümü veya bir kez yazılan ve programda \n",
    "\n",
    "# istendiği zaman çalıştırılabilen bir kod bloğudur. \n",
    "\n",
    "# Func , geçerli bir isme, parametre listesine ve gövdeye(body ye) sahip bağımsız \n",
    "\n",
    "# ifadelerden oluşan bir bloktur. Functionlar, modüler görevleri gerçekleştirmek için \n",
    "\n",
    "# programlamayı daha işlevsel ve modüler hale getirir. Python, \n",
    "\n",
    "# görevleri tamamlamak için çeşitli yerleşik işlevler sağlar ve ayrıca \n",
    "\n",
    "# kullanıcının yeni işlevler oluşturmasına da olanak tanır. \n"
   ]
  },
  {
   "cell_type": "markdown",
   "metadata": {
    "id": "ZHZsaD0g2gc8"
   },
   "source": [
    "## Sorular (pre_class)\n",
    "\n",
    "# Which of the following statements is incorrect about functions?\n",
    "\n",
    "# Select one or more:\n",
    "\n",
    "# Functions make the code more complex\n",
    "\n",
    "\n",
    "# They make the code easier to follow\n",
    "\n",
    "\n",
    "# Functions simplify the coding process"
   ]
  },
  {
   "cell_type": "markdown",
   "metadata": {
    "id": "iW5XuNTf2gen"
   },
   "source": [
    "# Calling a function doesn’t mean using it. \n",
    "\n",
    "# Calling and using a function have different meanings.\n",
    "# Select one:\n",
    "# True\n",
    "# False"
   ]
  },
  {
   "cell_type": "code",
   "execution_count": null,
   "metadata": {
    "id": "BFNBgL5U2ggn"
   },
   "outputs": [],
   "source": []
  },
  {
   "cell_type": "code",
   "execution_count": null,
   "metadata": {
    "id": "WaGLVYnd3bQD"
   },
   "outputs": [],
   "source": []
  },
  {
   "cell_type": "markdown",
   "metadata": {
    "id": "I-KeC7jH3bXr"
   },
   "source": [
    "###########         Defining (Creating) a Function"
   ]
  },
  {
   "cell_type": "markdown",
   "metadata": {
    "id": "94Vgdddf3bau"
   },
   "source": [
    "## Bazen bir program yazarken, yerleşik functionlar bizim için yeterli olmayabilir. \n",
    "\n",
    "# Veya bazen programımızda tekrar tekrar bir kod bloğu kullanmamız gerekebilir. \n",
    "\n",
    "# Bu durumda kendi fuct imizi yazabiliriz. \n",
    "\n",
    "# Buna Python'da kullanıcı tanımlı func yani user-defined function denir . \n"
   ]
  },
  {
   "cell_type": "markdown",
   "metadata": {
    "id": "6asf0zuQ3bdU"
   },
   "source": [
    "#  Kendi func imizi olustururken yapi su sekildedir:\n",
    "\n",
    "#  def  functionname(parameter(s)):    # def, ingilizce definition dan gelir\n",
    "#  ----executionbody   \n",
    "\n",
    "## Dikkat etmemiz gereken hususlar\n",
    "\n",
    "# 1: anahtar kelime def func in adini tanimlar ve sonra 1 space birakilir\n",
    "# 2: functionname ve sonrasinda hemen normal parantez.\n",
    "# 3: colon :\n",
    "# 4: indentation(4 space)\n",
    "# 5: body"
   ]
  },
  {
   "cell_type": "markdown",
   "metadata": {
    "id": "6chUqY8H3bfv"
   },
   "source": [
    "# Sorular (bosluk a ne gelmeli)\n",
    "\n",
    "# The ...def..... introduces the name of the user-defined function. It must be followed by the \n",
    "# functionname and the parenthesized list of formal arguments. \n",
    "\n",
    "\n",
    "# When built-in functions are not enough, or when you need to use a block of code \n",
    "\n",
    "# in your program repeatedly, you write your own functions. \n",
    "\n",
    "# They are called user-defined functions\n",
    " "
   ]
  },
  {
   "cell_type": "markdown",
   "metadata": {
    "id": "ecxE9ac3U0gA"
   },
   "source": [
    "##   Main Principles of 'Defining' (tanimlamanin temel ilkeleri)"
   ]
  },
  {
   "cell_type": "markdown",
   "metadata": {
    "id": "WSAeUCOuU0iZ"
   },
   "source": [
    "# Pep 8 Kurallari burada da geçerlidir. Bu yüzden kelimeler arasında \n",
    "\n",
    "# alt çizgi kullanilmali ve küçük harflerle yazılmalıdır . \n",
    "\n",
    "# Parametreler isteğe bağlıdır, ancak parantezler DEĞİLDİR. () zorunludur\n",
    "\n",
    "# İki nokta üst üste,  kapanış parantezini takip eder ve fonksiyon gövdemizin \n",
    "\n",
    "# başlangıcını gösterir. Fonksiyonun kodları (yürütme gövdesi) def deyimin altına \n",
    "\n",
    "# girintili OLMALIDIR .\n",
    "\n",
    "\n",
    "## Önemli: Asagidaki örnekte eger biz print den önce bosluk vermezsek, bu durumda python, \n",
    "\n",
    "# func tanimlama isleminin sona erdigini düsünür ve \n",
    "\n",
    "# print ifadesini bizim function imiza dahil degilmis olarak algiladigindan \n",
    "\n",
    "# error aliriz"
   ]
  },
  {
   "cell_type": "code",
   "execution_count": 2,
   "metadata": {
    "id": "Mnki5TZ5U0lc"
   },
   "outputs": [
    {
     "name": "stdout",
     "output_type": "stream",
     "text": [
      "13\n"
     ]
    }
   ],
   "source": [
    "## Örnek:\n",
    "\n",
    "def first_function(argument1, argument2):\n",
    "  print(argument1 ** 2 + argument2 ** 2)\n",
    "\n",
    "first_function(2, 3)\n"
   ]
  },
  {
   "cell_type": "code",
   "execution_count": 3,
   "metadata": {
    "id": "_81nkCxpU0n2"
   },
   "outputs": [
    {
     "name": "stdout",
     "output_type": "stream",
     "text": [
      "25\n",
      "Antalya Antalya Antalya Antalya Antalya \n",
      "-5.5\n"
     ]
    }
   ],
   "source": [
    "## Simdi bir func tanimlayalim\n",
    "\n",
    "# Outputlarimiz nasil olur ?? \n",
    "\n",
    "def multiply(parameter1, parameter2):\n",
    "  print(parameter1 * parameter2)\n",
    "\n",
    "multiply(5, 5)\n",
    "\n",
    "multiply(5, \"Antalya \")\n",
    "\n",
    "multiply(-1, 5.5)"
   ]
  },
  {
   "cell_type": "code",
   "execution_count": null,
   "metadata": {
    "id": "ksf_7I62jQYs"
   },
   "outputs": [],
   "source": []
  },
  {
   "cell_type": "code",
   "execution_count": null,
   "metadata": {
    "id": "T1WQMW79jQiZ"
   },
   "outputs": [],
   "source": []
  },
  {
   "cell_type": "code",
   "execution_count": null,
   "metadata": {
    "id": "R5e86rItjQq3"
   },
   "outputs": [],
   "source": []
  },
  {
   "cell_type": "code",
   "execution_count": 4,
   "metadata": {
    "id": "DdpJ-fj0U0rA"
   },
   "outputs": [
    {
     "name": "stdout",
     "output_type": "stream",
     "text": [
      "Biz ders tekrari yapiyoruz\n"
     ]
    }
   ],
   "source": [
    "# Daha önce söyledigimiz gibi parametre olmadan da func tanimlayabiliriz\n",
    "\n",
    "# yani parantez ici bos function\n",
    "\n",
    "def ders_tekrari():\n",
    "  print(\"Biz ders tekrari yapiyoruz\")\n",
    "\n",
    "ders_tekrari()\n",
    "\n",
    "# önemli bir husus: biz en alt satirda ()  parantez acip kapatmazsak ne olur ??"
   ]
  },
  {
   "cell_type": "code",
   "execution_count": null,
   "metadata": {
    "id": "uQCu1QCdU0t4"
   },
   "outputs": [],
   "source": []
  },
  {
   "cell_type": "code",
   "execution_count": null,
   "metadata": {
    "id": "jCp8hALWU0wj"
   },
   "outputs": [],
   "source": []
  },
  {
   "cell_type": "code",
   "execution_count": null,
   "metadata": {
    "id": "hKeu-1ZJdhNa"
   },
   "outputs": [],
   "source": [
    "##########               Execution of a Function"
   ]
  },
  {
   "cell_type": "code",
   "execution_count": 5,
   "metadata": {
    "id": "P_7EQmiUdhQI"
   },
   "outputs": [
    {
     "name": "stdout",
     "output_type": "stream",
     "text": [
      "20\n"
     ]
    },
    {
     "data": {
      "text/plain": [
       "20"
      ]
     },
     "execution_count": 5,
     "metadata": {},
     "output_type": "execute_result"
    }
   ],
   "source": [
    "## Bizler Program akışımızdaki fonksiyonların ürettiği çıktı ve \n",
    "\n",
    "# veri tiplerini daha sonra kullanabilmek için return anahtar kelimesine \n",
    "\n",
    "# def tanimlama kelimesine ihtiyac duyariz.\n",
    "\n",
    "def multiply1(argument1, argument2):\n",
    "  print(argument1 * argument2)\n",
    "\n",
    "def multiply2(argument1, argument2):\n",
    "  return(argument1 * argument2)\n",
    "\n",
    "multiply1(4, 5)           ### Önemli: Outputlara baktigimizda herhangi bir fark \n",
    "                          ##  göremeyiz. Ancak asagidaki hücrede ayni islemlerin\n",
    "multiply2(4, 5)            ## type ini inceleyelim\n"
   ]
  },
  {
   "cell_type": "code",
   "execution_count": 6,
   "metadata": {
    "id": "BU99jIejdhTW"
   },
   "outputs": [
    {
     "name": "stdout",
     "output_type": "stream",
     "text": [
      "20\n",
      "20\n",
      "<class 'NoneType'>\n",
      "<class 'int'>\n"
     ]
    }
   ],
   "source": [
    "def multiply1(argument1, argument2):\n",
    "  print(argument1 * argument2)\n",
    "\n",
    "def multiply2(argument1, argument2):\n",
    "  return(argument1 * argument2)\n",
    "\n",
    "multiply1(4, 5)           \n",
    "\n",
    "multiply2(4, 5) \n",
    "\n",
    "\n",
    "print(type(multiply1(4, 5)))\n",
    "\n",
    "print(type(multiply2(4, 5)))   "
   ]
  },
  {
   "cell_type": "code",
   "execution_count": 7,
   "metadata": {
    "id": "a5eAdeYQdhV8"
   },
   "outputs": [
    {
     "name": "stdout",
     "output_type": "stream",
     "text": [
      "KayseriKayseriKayseriKayseri\n",
      "KayseriKayseriKayseriKayseri\n",
      "<class 'NoneType'>\n",
      "<class 'str'>\n"
     ]
    }
   ],
   "source": [
    "## string ile kullanim\n",
    "\n",
    "def multiply1(argument1, argument2):\n",
    "  print(argument1 * argument2)\n",
    "\n",
    "def multiply2(argument1, argument2):\n",
    "  return(argument1 * argument2)\n",
    "\n",
    "multiply1(4, \"Kayseri\")           \n",
    "multiply2(4, \"Kayseri\") \n",
    "\n",
    "print(type(multiply1(4, \"Kayseri\")))\n",
    "print(type(multiply2(4, \"Kayseri\")))"
   ]
  },
  {
   "cell_type": "markdown",
   "metadata": {
    "id": "iRjq11JJmwXg"
   },
   "source": [
    "# Ortaya cikan sonuc:\n",
    "\n",
    "# Yani Kodlamamizin ilerleyen asamalarinda ihtiyaç duyduğumuzda ilk fonksiyonu \n",
    "\n",
    "# kullanamiyoruz. Cünkü sonuc olarak bize Nonetype döndürüyor.\n",
    "\n",
    "# Ancak return kullandigimizda ise , gelecekte ihtiyaç duyduğumuzda kullanabileceğimiz \n",
    "\n",
    "# tamsayı, float, string gibi veriler return eder. \n",
    "\n",
    "# Peki burada ileride ihtiyac duymaktan kasit nedir. Mesela \n",
    "\n",
    "# Bizler internet sitesi kullanicisindan yani user dan input ile veriler aliyoruz.\n",
    "\n",
    "# Ve hatirlarsaniz input func daima string döndürdügünden biz bu degerleri bazen\n",
    "\n",
    "# integer a yada float a dönüstürmek zorunda kaliyoruz.\n",
    "\n",
    "# Ama bizim veri tiplerimiz None type olmus olsa biz bu degerleri \n",
    "\n",
    "# Ne toplayabiliriz ne cikarabiliriz. Hicbir islem yapamayiz."
   ]
  },
  {
   "cell_type": "code",
   "execution_count": 11,
   "metadata": {
    "id": "i0FQCla90_py"
   },
   "outputs": [
    {
     "name": "stdout",
     "output_type": "stream",
     "text": [
      "It can't be assigned to any variable\n",
      "None\n"
     ]
    }
   ],
   "source": [
    "# degiskene Nonetype atama\n",
    "\n",
    "degisken = print(\"It can't be assigned to any variable\")\n",
    "print(degisken)\n",
    "\n",
    "### Dikkat:\n",
    "# Burada outputlari dikkatle incelersek; ikinci satirdaki kodumuzun outputunun \n",
    "# None oldugunu görecegiz. Bunun sebebi sudur: Biz Bir degere veri tipi None olan\n",
    "\n",
    "# bir deger atayamayiz. Iste print() func. Type i None olan bir veri döndürdügü icin\n",
    "\n",
    "# biz print()  func in outputunu variable a atayamadik."
   ]
  },
  {
   "cell_type": "code",
   "execution_count": 8,
   "metadata": {
    "id": "HRs0Eiej0_sF"
   },
   "outputs": [
    {
     "name": "stdout",
     "output_type": "stream",
     "text": [
      "14\n"
     ]
    }
   ],
   "source": [
    "def toplam(a, b):\n",
    "    return (a +b)\n",
    "\n",
    "print(toplam(3, 4) + 7)"
   ]
  },
  {
   "cell_type": "code",
   "execution_count": 9,
   "metadata": {},
   "outputs": [
    {
     "name": "stdout",
     "output_type": "stream",
     "text": [
      "7\n"
     ]
    },
    {
     "ename": "TypeError",
     "evalue": "unsupported operand type(s) for +: 'NoneType' and 'int'",
     "output_type": "error",
     "traceback": [
      "\u001b[1;31m---------------------------------------------------------------------------\u001b[0m",
      "\u001b[1;31mTypeError\u001b[0m                                 Traceback (most recent call last)",
      "\u001b[1;32m<ipython-input-9-5578ff20c809>\u001b[0m in \u001b[0;36m<module>\u001b[1;34m\u001b[0m\n\u001b[0;32m      2\u001b[0m     \u001b[0mprint\u001b[0m \u001b[1;33m(\u001b[0m\u001b[0ma\u001b[0m \u001b[1;33m+\u001b[0m\u001b[0mb\u001b[0m\u001b[1;33m)\u001b[0m\u001b[1;33m\u001b[0m\u001b[1;33m\u001b[0m\u001b[0m\n\u001b[0;32m      3\u001b[0m \u001b[1;33m\u001b[0m\u001b[0m\n\u001b[1;32m----> 4\u001b[1;33m \u001b[0mprint\u001b[0m\u001b[1;33m(\u001b[0m\u001b[0mtoplam\u001b[0m\u001b[1;33m(\u001b[0m\u001b[1;36m3\u001b[0m\u001b[1;33m,\u001b[0m \u001b[1;36m4\u001b[0m\u001b[1;33m)\u001b[0m \u001b[1;33m+\u001b[0m \u001b[1;36m7\u001b[0m\u001b[1;33m)\u001b[0m\u001b[1;33m\u001b[0m\u001b[1;33m\u001b[0m\u001b[0m\n\u001b[0m",
      "\u001b[1;31mTypeError\u001b[0m: unsupported operand type(s) for +: 'NoneType' and 'int'"
     ]
    }
   ],
   "source": [
    "def toplam(a, b):\n",
    "    print (a +b)    #print sonucu nontype oldugu icin toplayamaz\n",
    "\n",
    "print(toplam(3, 4) + 7)  "
   ]
  },
  {
   "cell_type": "code",
   "execution_count": 10,
   "metadata": {
    "id": "csDT8i4udhYX"
   },
   "outputs": [
    {
     "name": "stdout",
     "output_type": "stream",
     "text": [
      "Izmir Izmir Izmir Izmir \n"
     ]
    },
    {
     "data": {
      "text/plain": [
       "'Izmir Izmir Izmir Izmir '"
      ]
     },
     "execution_count": 10,
     "metadata": {},
     "output_type": "execute_result"
    }
   ],
   "source": [
    "##  Not: func cagirirken, tanimlama esnasinda kac adet parameter girildi ise\n",
    "# ayni sayida argument girilmelidir\n",
    "\n",
    "def multiply1(argument1, argument2):   \n",
    "    print(argument1 * argument2)\n",
    "\n",
    "def multiply2(argument1, argument2):\n",
    "    return(argument1 * argument2)\n",
    "\n",
    "multiply1(4, \"Izmir \")          \n",
    "\n",
    "multiply2(4, \"Izmir \") "
   ]
  },
  {
   "cell_type": "code",
   "execution_count": 12,
   "metadata": {
    "id": "gG38iZJbhQzB"
   },
   "outputs": [
    {
     "name": "stdout",
     "output_type": "stream",
     "text": [
      "KayseriKayseriKayseriKayseri\n"
     ]
    }
   ],
   "source": [
    "def carpma(argument1, argument2): \n",
    "    print(argument1 * argument2)\n",
    "\n",
    "carpma(4, \"Kayseri\")         \n",
    "\n",
    "## Attention: biz normalde print() yazdigimizda bunun rengini beyaz olarak degil\n",
    "\n",
    "# sari olarak görürüz. Cünkü bu siradan bir ifade degildir bir functiondir.\n",
    "\n",
    "# Bu nedenle def yaninda yazili olan carpma ifadesine dikkat edersek \n",
    "\n",
    "# onun rengi de saridir.\n",
    "\n",
    "# biz  carpma kelimesini python a tanitiyoruz ve bu kelime türkce olmasina ragmen\n",
    "\n",
    "# print kelimesi ile ayni statüye tasiyoruz."
   ]
  },
  {
   "cell_type": "code",
   "execution_count": 14,
   "metadata": {
    "id": "8u8EfIjphQ09"
   },
   "outputs": [
    {
     "data": {
      "text/plain": [
       "50"
      ]
     },
     "execution_count": 14,
     "metadata": {},
     "output_type": "execute_result"
    }
   ],
   "source": [
    "### Attention : Eger bir func tanimlama da birden fazla return var ise \n",
    "\n",
    "# sonuc ne olur ??\n",
    "\n",
    "def multiply2(argument1, argument2):\n",
    "    return(argument1 * argument2)     # ilk return dondurulur ******************************************************************************\n",
    "    return(argument1 + argument2)       \n",
    "    return(argument1 - argument2)     \n",
    "          \n",
    "multiply2(10, 5)"
   ]
  },
  {
   "cell_type": "code",
   "execution_count": 30,
   "metadata": {
    "id": "jeKtTGELqErB"
   },
   "outputs": [
    {
     "name": "stdout",
     "output_type": "stream",
     "text": [
      "50\n"
     ]
    },
    {
     "data": {
      "text/plain": [
       "15"
      ]
     },
     "execution_count": 30,
     "metadata": {},
     "output_type": "execute_result"
    }
   ],
   "source": [
    "def multiply2(argument1, argument2):\n",
    "    print(argument1 * argument2)     # ilk return dondurulur ******************************************************************************\n",
    "    return(argument1 + argument2)    #sonrasi print calismaz   \n",
    "    print(argument1 - argument2)     \n",
    "          \n",
    "multiply2(10, 5)"
   ]
  },
  {
   "cell_type": "code",
   "execution_count": 16,
   "metadata": {
    "id": "mVifddK4qFZi"
   },
   "outputs": [
    {
     "name": "stdout",
     "output_type": "stream",
     "text": [
      "50\n",
      "15\n"
     ]
    },
    {
     "data": {
      "text/plain": [
       "5"
      ]
     },
     "execution_count": 16,
     "metadata": {},
     "output_type": "execute_result"
    }
   ],
   "source": [
    "def multiply2(argument1, argument2):  #onceki printler yazilir\n",
    "    print(argument1 * argument2)      # ilk return dondurulur ******************************************************************************\n",
    "    print(argument1 + argument2)       \n",
    "    return(argument1 - argument2)     \n",
    "          \n",
    "multiply2(10, 5)"
   ]
  },
  {
   "cell_type": "code",
   "execution_count": 17,
   "metadata": {
    "id": "MSeRHuf2jpK2"
   },
   "outputs": [
    {
     "name": "stdout",
     "output_type": "stream",
     "text": [
      "50\n",
      "15\n",
      "5\n"
     ]
    }
   ],
   "source": [
    "### Peki bu durum print() de nasildir ????\n",
    "\n",
    "def multiply2(argument1, argument2):\n",
    "    print(argument1 * argument2)\n",
    "    print(argument1 + argument2)\n",
    "    print(argument1 - argument2)\n",
    "          \n",
    "multiply2(10, 5) "
   ]
  },
  {
   "cell_type": "markdown",
   "metadata": {
    "id": "dSvDX8PNjpOj"
   },
   "source": [
    "## Interview Question\n",
    "\n",
    "# Return etmek(döndürmek) ne demektir?\n",
    "\n",
    "# Q: What is the return keyword used for in Python?\n",
    "# The purpose of a function is to receive the inputs and return some output. \n",
    "\n",
    "# The return is a Python statement which we can use in a function \n",
    "\n",
    "# for sending a value back to its caller."
   ]
  },
  {
   "cell_type": "markdown",
   "metadata": {
    "id": "U6c5A6VDjpSv"
   },
   "source": [
    "####                preclass Youtube video"
   ]
  },
  {
   "cell_type": "code",
   "execution_count": 18,
   "metadata": {
    "id": "WEZrhVebjpU9"
   },
   "outputs": [
    {
     "name": "stdout",
     "output_type": "stream",
     "text": [
      "task completed\n",
      "2021-11-28 18:34:38.174149\n",
      "merhaba\n",
      "0\n",
      "1\n",
      "2\n",
      "3\n",
      "4\n",
      "5\n",
      "6\n",
      "7\n",
      "8\n",
      "9\n",
      "task completed\n",
      "2021-11-28 18:34:38.174149\n",
      "merhaba\n"
     ]
    }
   ],
   "source": [
    "# Eger kod yazarken bir yada birkac kod satirini birden cok kez\n",
    "\n",
    "# tekrar ediyorsak o zaman isimizi hizlandirmak ve pratiklestirmek icin\n",
    "\n",
    "# bu kod blogunu bir fonksiyona atayarak; ona her ihtiyacimiz oldugunda, sadece\n",
    "\n",
    "# olusturmus oldugumuz bu yeni fonksiyonu cagirabiliriz.\n",
    "\n",
    "#### Örnek bir kod:\n",
    "\n",
    "import datetime\n",
    " \n",
    "print(\"task completed\")           \n",
    "print(datetime.datetime.now()) \n",
    "print(\"merhaba\")\n",
    "\n",
    "                                 \n",
    "for x in range(0, 10):            \n",
    "    print(x)                        \n",
    "                                  \n",
    "print(\"task completed\")\n",
    "print(datetime.datetime.now())      #  Not: burada print kisimlarinin tüm kod blokumuzda\n",
    "print(\"merhaba\")                    # tekrar edildigi simule ediliyor             "
   ]
  },
  {
   "cell_type": "code",
   "execution_count": 19,
   "metadata": {
    "id": "S3N5FcuIjpWi"
   },
   "outputs": [
    {
     "name": "stdout",
     "output_type": "stream",
     "text": [
      "task completed\n",
      "2021-11-28 18:35:16.791034\n",
      "merhaba\n",
      "0\n",
      "1\n",
      "2\n",
      "3\n",
      "4\n",
      "5\n",
      "6\n",
      "7\n",
      "8\n",
      "9\n",
      "task completed\n",
      "2021-11-28 18:35:16.792016\n",
      "merhaba\n"
     ]
    }
   ],
   "source": [
    "def time():\n",
    "  print(\"task completed\")           \n",
    "  print(datetime.datetime.now())\n",
    "  print(\"merhaba\")         ###  buraya kadar func tanimladik.\n",
    "                            ## Buradan sonra normal günlük hayattan bir kod blogumuzu\n",
    "                           #  yaziyoruz olarak hayal  edelim\n",
    "time()                      ## ve yukaridaki kod ile bu hücredeki kodumuzu kiyas edelim\n",
    "\n",
    "for x in range(0, 10):            \n",
    "  print(x)\n",
    "\n",
    "time()"
   ]
  },
  {
   "cell_type": "markdown",
   "metadata": {
    "id": "KXFbts_VhQ2i"
   },
   "source": [
    "## Func kullanmanin bize sagladigi üc fayda:\n",
    "\n",
    "# 1: kodumuzu daha okunakli yapar\n",
    "\n",
    "# 2: isimizi pratiklestirir\n",
    "\n",
    "# 3: biz yazdigimiz kod da bir hata yapmis isek, kendi olusturdugumuz\n",
    "\n",
    "# func icerisinde degisiklik yaptigimizda bu func'i cagirdigimizda her satirda\n",
    "# degisiklik otomatik olacaktir.\n",
    "\n",
    "# Ancak func definition yapmayip da tüm satirlari tek tek el ile yazdiysak\n",
    "\n",
    "# o zaman tüm satirlarda tek tek degisiklik yapmak zorunda kalacaktik\n",
    "\n",
    "\n",
    "\n",
    "\n",
    " # Dikkat :Burada dikkat etmmeiz gereken  husus sudur:\n",
    "\n",
    "# func adi verirken hem kendimiz anlayacagimiz hem de baskalari anlayacak sekilde\n",
    "\n",
    "# isim verirsek, kodlamamizin cok ilerleyen satirlarinda unutma \n",
    "\n",
    "# yada yazdigimizi anlamama gibi sikintilar ortadan kalkmis olur\n",
    "\n",
    "\n",
    "# Bir diger husus ise; olusturdugumuz her function dan sonra bunun ne ise\n",
    "\n",
    "# yaradigini ve nerelerde kullanmak icin olusturdugumuzu aciklamak icin \n",
    "\n",
    "# birer comment yada docstring yazmamiz cok iyi olacaktir. \n",
    "\n",
    "# docstring yazimini ileride inceleyecegiz"
   ]
  },
  {
   "cell_type": "code",
   "execution_count": 22,
   "metadata": {
    "id": "v0cbUIq_-0lM"
   },
   "outputs": [
    {
     "name": "stdout",
     "output_type": "stream",
     "text": [
      "2021-11-28 18:43:53.501606\n"
     ]
    }
   ],
   "source": [
    "## Eger datetime i bu sekilde kullanirsak print() satirinda ikinci kez\n",
    "\n",
    "# datetime prefix i ni kullanmaya ihtiyac duymayiz\n",
    "\n",
    "from datetime import datetime   # (ilk) datetime modulunden (ikinci) datetime fonksiyonunu cagiriyoruz\n",
    "\n",
    "def time():\n",
    "    print(datetime.now())\n",
    "\n",
    "time()"
   ]
  },
  {
   "cell_type": "code",
   "execution_count": 21,
   "metadata": {
    "colab": {
     "base_uri": "https://localhost:8080/"
    },
    "id": "iUzqp0EE4LBE",
    "outputId": "1eeb4533-7348-4815-baf6-60ebd263a061"
   },
   "outputs": [
    {
     "name": "stdout",
     "output_type": "stream",
     "text": [
      "2021-11-28 18:41:52.252587\n"
     ]
    }
   ],
   "source": [
    "# today\n",
    "\n",
    "from datetime import datetime\n",
    "\n",
    "def time():\n",
    "    print(datetime.today())\n",
    "\n",
    "time()"
   ]
  },
  {
   "cell_type": "code",
   "execution_count": null,
   "metadata": {
    "id": "LUj28HIf41Sf"
   },
   "outputs": [],
   "source": []
  },
  {
   "cell_type": "code",
   "execution_count": 24,
   "metadata": {
    "id": "vZwYA_zu-0nH"
   },
   "outputs": [
    {
     "name": "stdin",
     "output_type": "stream",
     "text": [
      "Adinizi giriniz  Goksel\n",
      "Soyadinizi giriniz  Bahadir\n"
     ]
    },
    {
     "name": "stdout",
     "output_type": "stream",
     "text": [
      "Isim ve soyisminizin kisaltmasi:  GB\n"
     ]
    }
   ],
   "source": [
    "## Simdi func i nerelerde kullanabilecegimizi daha detayli görelim:\n",
    "\n",
    "# Bir sirkette calisiyoruz ve bize bir task verildi.\n",
    "\n",
    "# Kullanicilarin isim ve soyisimlerini al.\n",
    "\n",
    "# Isim ve soyisimlerinin ilk harflerini bulan kodu yazalim ve bunlari bir\n",
    "\n",
    "# yerde depolayalim\n",
    "\n",
    "## Bu bizim normal olarak yazacagimiz bir kod blogudur\n",
    "\n",
    "first_name = input(\"Adinizi giriniz \")\n",
    "kisaltma1 = first_name[0]\n",
    "\n",
    "last_name = input(\"Soyadinizi giriniz \")\n",
    "kisaltma2 = last_name[0]\n",
    "\n",
    "print(\"Isim ve soyisminizin kisaltmasi: \", kisaltma1 + kisaltma2)"
   ]
  },
  {
   "cell_type": "code",
   "execution_count": 25,
   "metadata": {
    "id": "SvYb9o-4-0pD"
   },
   "outputs": [
    {
     "name": "stdin",
     "output_type": "stream",
     "text": [
      "isminizi giriniz  Goksel\n",
      "soyadinizi giriniz  Bahadir\n"
     ]
    },
    {
     "name": "stdout",
     "output_type": "stream",
     "text": [
      "isminizin ve soyisminizin kisaltmasi:  GB\n"
     ]
    }
   ],
   "source": [
    "### simdi bu kodumuzu bir func define ederek yapalim:\n",
    "\n",
    "def kisaltma(name):\n",
    "    kisa = name[0]\n",
    "    return(kisa)\n",
    "\n",
    "isim = input(\"isminizi giriniz \")\n",
    "isim_kisaltma = kisaltma(isim)  \n",
    "\n",
    "soyisim = input(\"soyadinizi giriniz \")\n",
    "soyisim_kisaltma = kisaltma(soyisim)\n",
    "\n",
    "print(\"isminizin ve soyisminizin kisaltmasi: \", isim_kisaltma + soyisim_kisaltma)"
   ]
  },
  {
   "cell_type": "code",
   "execution_count": 27,
   "metadata": {
    "id": "cruTCoB4-0qz"
   },
   "outputs": [
    {
     "name": "stdin",
     "output_type": "stream",
     "text": [
      "isminizi giriniz  goksel\n",
      "soyadinizi giriniz  bahadir\n"
     ]
    },
    {
     "name": "stdout",
     "output_type": "stream",
     "text": [
      "isminizin ve soyisminizin kisaltmasi:  gb\n"
     ]
    }
   ],
   "source": [
    "###  Burada dikkatimizi birsey cekmesi gerekir:\n",
    "\n",
    "# def ile func tanimlarken def in altina direkt print(\"...\")  de diyebiliyoruz\n",
    "\n",
    "# yada def in altina bir degisken atiyoruz ve bu degiskeni print() et diyebiliyoruz\n",
    "\n",
    "# mesela yukaridaki örnegi degisken atamadan yapalim\n",
    "\n",
    "def kisaltma(name):\n",
    "  return (name[0:1])       ### burada degisken atamadik direkt return ettik\n",
    "\n",
    "isim = input(\"isminizi giriniz \")\n",
    "isim_kisaltma = kisaltma(isim)  \n",
    "\n",
    "soyisim = input(\"soyadinizi giriniz \")\n",
    "soyisim_kisaltma = kisaltma(soyisim)\n",
    "\n",
    "print(\"isminizin ve soyisminizin kisaltmasi: \", isim_kisaltma + soyisim_kisaltma)"
   ]
  },
  {
   "cell_type": "code",
   "execution_count": 28,
   "metadata": {
    "id": "wDtGK6eyRKnI"
   },
   "outputs": [
    {
     "name": "stdin",
     "output_type": "stream",
     "text": [
      "isminizi giriniz:  goksel\n",
      "soyadinizi giriniz:  bahadir\n"
     ]
    },
    {
     "name": "stdout",
     "output_type": "stream",
     "text": [
      "isminizin ve soyisminizin kisaltmasi:  GB\n"
     ]
    }
   ],
   "source": [
    "### mesela ileride bir tarihte kodumuzun arasinda kisaltmis oldugumuz \n",
    "\n",
    "# isim ve soyisim bloklarini büyük harfle yazdirmak istedik.\n",
    "\n",
    "# Bu durumda sadece kendimiz olusturdugumuz function daki kod da oynama \n",
    "\n",
    "# yapmamiz yeterlidir.\n",
    "\n",
    "#örnegin:\n",
    "\n",
    "def kisaltma(name):\n",
    "    kisa = name[0].upper()\n",
    "    return(kisa)      \n",
    "\n",
    "isim = input(\"isminizi giriniz: \")\n",
    "isim_kisaltma = kisaltma(isim)  \n",
    "\n",
    "soyisim = input(\"soyadinizi giriniz: \")\n",
    "soyisim_kisaltma = kisaltma(soyisim)\n",
    "\n",
    "print(\"isminizin ve soyisminizin kisaltmasi: \", isim_kisaltma + soyisim_kisaltma)"
   ]
  },
  {
   "cell_type": "code",
   "execution_count": 31,
   "metadata": {
    "id": "b3XgRsa9RKps"
   },
   "outputs": [
    {
     "name": "stdin",
     "output_type": "stream",
     "text": [
      "isminizi giriniz:  goksel\n",
      "soyadinizi giriniz:  bahadir\n"
     ]
    },
    {
     "name": "stdout",
     "output_type": "stream",
     "text": [
      "G B\n"
     ]
    }
   ],
   "source": [
    "# olusturmus oldugumuz function i iki türlü kullanma sansina sahibiz\n",
    "\n",
    "### bu function i direkt olarak print icinde de calistirabiliriz\n",
    "\n",
    "def kisaltma(name):\n",
    "    kisa = name[0].upper()\n",
    "    return(kisa)  \n",
    "\n",
    "isim = input(\"isminizi giriniz: \") ## burada sadece input aldik yukaridaki gibi\n",
    "                                    # ismin kisaltmasini degiskene atamadik\n",
    "soyisim = input(\"soyadinizi giriniz: \")\n",
    "\n",
    "print(kisaltma(isim), kisaltma(soyisim)) \n",
    "\n",
    "## Yani kullanim asamasinda bizim tanimladigimiz function in \n",
    "\n",
    "# python da tanimli functionlardan hicbir farki yoktur."
   ]
  },
  {
   "cell_type": "code",
   "execution_count": null,
   "metadata": {
    "id": "K3SYn-SCGA44"
   },
   "outputs": [],
   "source": []
  },
  {
   "cell_type": "markdown",
   "metadata": {
    "id": "zYXRphviGA7e"
   },
   "source": [
    "### check yourself sorulari\n",
    "\n",
    "# If you generate the output of a function using the print keyword, \n",
    "# the result will be a NoneType data. \n",
    "\n",
    "# But if you use the return keyword, the result will have a data type."
   ]
  },
  {
   "cell_type": "markdown",
   "metadata": {
    "id": "ePGFcI4MGA-L"
   },
   "source": [
    "# When built-in functions are not enough, or when you need to use a block of code \n",
    "# in your program repeatedly, you write your own functions. They are called \n",
    "# user-defined functions"
   ]
  },
  {
   "cell_type": "markdown",
   "metadata": {
    "id": "upRObPKiGBA4"
   },
   "source": [
    "# If there are more than one keyword return in a function, then the execution of that function \n",
    "# will end after the last return. (False)    ilk return calisir"
   ]
  },
  {
   "cell_type": "code",
   "execution_count": 32,
   "metadata": {
    "id": "4GY4q8Z0GBEM"
   },
   "outputs": [
    {
     "data": {
      "text/plain": [
       "12"
      ]
     },
     "execution_count": 32,
     "metadata": {},
     "output_type": "execute_result"
    }
   ],
   "source": [
    "# dikdörtgen alani hesaplayan bir func yaziniz:\n",
    "\n",
    "def alan(a, b):   # burada a ve b; kisa ve uzun kenar uzunluklaridir\n",
    "    return (a * b)\n",
    "\n",
    "alan(3, 4)"
   ]
  },
  {
   "cell_type": "code",
   "execution_count": 34,
   "metadata": {
    "id": "dzY4GOjRGBHe"
   },
   "outputs": [
    {
     "name": "stdin",
     "output_type": "stream",
     "text": [
      "Lütfen girmek istediginiz isimleri yaziniz:  ben seni seviyorum\n"
     ]
    },
    {
     "name": "stdout",
     "output_type": "stream",
     "text": [
      "Girdiginiz en uzun isim seviyorum ve 9 karakterdir\n"
     ]
    }
   ],
   "source": [
    "## Önce bir func tanimlayalim. Bu func icerisine liste gibi bir iterable alsin \n",
    "# daha sonra bu iterable' in elemanlari arasinda gezinerek en uzun olanini bulsun\n",
    "# ve en uzun elemani bize print etsin. \n",
    "\n",
    "# Daha sonra kullanicidan isimler isteyelim ve bu isimlerden hangisinin\n",
    "# en uzun oldugunu tanimladigimiz bu func vasitasi ile tespit edelim \n",
    "\n",
    "def karsilastirma(iterable):\n",
    "    counter = 0\n",
    "    enuzun = \"\"\n",
    "    for i in iterable:\n",
    "        if len(i) > counter:\n",
    "            counter = len(i)\n",
    "            enuzun = i\n",
    "    print(\"Girdiginiz en uzun isim\", enuzun, \"ve\", counter, \"karakterdir\")\n",
    "\n",
    "\n",
    "girdi = list(map(str, input(\"Lütfen girmek istediginiz isimleri yaziniz: \").split()))\n",
    "\n",
    "karsilastirma(girdi)"
   ]
  },
  {
   "cell_type": "code",
   "execution_count": 35,
   "metadata": {
    "id": "Zvd4lk70GBP0"
   },
   "outputs": [
    {
     "name": "stdin",
     "output_type": "stream",
     "text": [
      "birden cok syi giriniz:  5 10 20 25\n"
     ]
    },
    {
     "name": "stdout",
     "output_type": "stream",
     "text": [
      "[5, 10, 20, 25]\n"
     ]
    }
   ],
   "source": [
    "girdi = input(\"birden cok syi giriniz: \").split()\n",
    "bos = []\n",
    "\n",
    "for i in girdi :\n",
    "    bos.append(int(i))\n",
    "print(bos)"
   ]
  },
  {
   "cell_type": "code",
   "execution_count": 40,
   "metadata": {},
   "outputs": [
    {
     "name": "stdout",
     "output_type": "stream",
     "text": [
      "['Ali', 'okula', 'gitti']\n",
      "['A', 'l', 'i', ' ', 'o', 'k', 'u', 'l', 'a', ' ', 'g', 'i', 't', 't', 'i']\n"
     ]
    }
   ],
   "source": [
    "print(list(map(str, (\"Ali okula gitti\").split())))\n",
    "print(list(map(str, \"Ali okula gitti\")))"
   ]
  },
  {
   "cell_type": "markdown",
   "metadata": {
    "id": "bRsw4cjZGBTB"
   },
   "source": [
    "###############       The Matter of Arguments     ###########"
   ]
  },
  {
   "cell_type": "markdown",
   "metadata": {
    "id": "xOEmmvNEGBVx"
   },
   "source": [
    "## argüman nedir parametre nedir ?\n",
    "# aslinda cok benzer seylerdir ama aralarinda bir fark vardir\n",
    "# Örnek ile aciklayalim"
   ]
  },
  {
   "cell_type": "code",
   "execution_count": 50,
   "metadata": {
    "id": "tMROI3r4GBY_"
   },
   "outputs": [
    {
     "name": "stdout",
     "output_type": "stream",
     "text": [
      "sizin isminiz Merve\n",
      "sizin soyisminiz Kaplan\n",
      "Sizin isminiz ve soyisminiz  <function kim at 0x000002ED68D2E820>\n"
     ]
    }
   ],
   "source": [
    "def kim(isim, soyisim): ###  Burada isim ve soyisim kim func'nin parametleridir\n",
    "    print(f\"sizin isminiz {isim}\")\n",
    "    print(\"sizin soyisminiz {}\" .format(soyisim))\n",
    "\n",
    "kim(\"Merve\", \"Kaplan\")     ###  Burada merve ve kaplan argümanlardir\n",
    "\n",
    "print(\"Sizin isminiz ve soyisminiz \", kim)\n",
    "# Yani kisaca söylemek gerekirse; func'i tanimlayan kisinin yazdigi degiskenler, parametredir\n",
    "# func'i kullanan kisinin girdikleri ise argümanlar olur\n",
    "#  Bu durumu built in func larda da test edebiliriz.\n",
    "# mesela max() yazip bekledigimizde karsimiza cikan aciklamayi okuyabiliriz \n",
    "\n",
    "\n",
    "## Parametreler, func'i tanimlayan kisi tarafindan verilen \n",
    "# sadece bir isimden ibarettir. Herhangi bir isim yazilabilir.\n",
    "# ve parametre isimleri ve sayilari tanimlayici tarafindan\n",
    "# bir kez belirlendikten sonra artik sabittirler\n",
    "\n",
    "\n",
    " # Ancak argümanlar sürekli degisirler. Bizim tanimladigimiz\n",
    "# fonksiyonu kullanan user, argüman olarak ne girmek isterse\n",
    "# girebilir"
   ]
  },
  {
   "cell_type": "code",
   "execution_count": null,
   "metadata": {
    "id": "BF0XGjO9GBbn"
   },
   "outputs": [],
   "source": [
    "## Dikkat:\n",
    "\n",
    "# func tanimlayan kisi kac parametre belirledi ise, kullanici o kadar sayida\n",
    "# argüman girmek zorundadir. Aksi takdir de kodumuz calismaz"
   ]
  },
  {
   "cell_type": "code",
   "execution_count": 47,
   "metadata": {
    "id": "0rcojAjFGBd8"
   },
   "outputs": [
    {
     "name": "stdout",
     "output_type": "stream",
     "text": [
      "Your first name is : Marry\n",
      "Your last name is : Bold\n"
     ]
    }
   ],
   "source": [
    "# ### pre class soru\n",
    "\n",
    "# Look at the definition of a function given below.\n",
    "\n",
    "def who(first, last) :      \n",
    "  print('Your first name is :', first)\n",
    "  print('Your last name is :', last)\n",
    "\n",
    "who('Marry', 'Bold')\n",
    "\n",
    "# Which of the following statements is incorrect about this function?\n",
    "\n",
    "# Select one or more:\n",
    "\n",
    "# 'first' and 'last' are the parameters.\n",
    "# The first three lines are the function itself, and the \n",
    "# last line has been used to call the function.\n",
    "\n",
    "# This function has one parameter and it takes one argument.\n",
    "\n",
    "# 'Marry' and 'Bold' are the arguments."
   ]
  },
  {
   "cell_type": "code",
   "execution_count": null,
   "metadata": {
    "id": "i0-F-A1sAOwl"
   },
   "outputs": [],
   "source": []
  },
  {
   "cell_type": "code",
   "execution_count": null,
   "metadata": {
    "id": "lM2DgHGgF-KI"
   },
   "outputs": [],
   "source": [
    "#######   Correct Use of Arguments"
   ]
  },
  {
   "cell_type": "code",
   "execution_count": 51,
   "metadata": {
    "id": "qq03uNSCF-M4"
   },
   "outputs": [
    {
     "name": "stdout",
     "output_type": "stream",
     "text": [
      "3 is the first argument\n",
      "4 is the second argument\n",
      "4 is the first argument\n",
      "3 is the second argument\n"
     ]
    }
   ],
   "source": [
    "# Bir fonksiyon cagirmada argümanlari kullanmanin 2 farkli yöntemi vardir\n",
    "# 1: Positional argument(konumsal)\n",
    "# 2: keyword arguments(kisaltmasi kwarg)\n",
    "\n",
    "# Aslında, su ana kadar öğrendiğimiz argümanlar konumsal olanlardır. \n",
    "# Bu argämanlarda, Argümanların konumu yani kullanim sirasi önemlidir. \n",
    "# Eger yerlerinde degisiklik yaparsak yada hatali yazarsak kodumuz calismaz yada\n",
    "# hatali calisir.\n",
    "\n",
    "# Konumsal argümanlarla bir fonksiyon çağırırken , bunlar soldan sağa sırayla iletilmelidir .\n",
    "\n",
    "# Konumsal argümanlara örnek:\n",
    "\n",
    "def pos_args(a, b):   ##  Burada a ve b konumsal argümanlardir ve yerleri degisir ise\n",
    "    print(a, 'is the first argument')     # kodumuz farkli bir output verir\n",
    "    print(b, 'is the second argument')\n",
    "\n",
    "pos_args(3,4)\n",
    "\n",
    "pos_args(4,3)"
   ]
  },
  {
   "cell_type": "code",
   "execution_count": 52,
   "metadata": {
    "id": "VZIPI953F-Oz"
   },
   "outputs": [
    {
     "name": "stdout",
     "output_type": "stream",
     "text": [
      "first is the first argument\n",
      "second is the second argument\n",
      "second is the first argument\n",
      "first is the second argument\n"
     ]
    }
   ],
   "source": [
    "## diger bir örnek:\n",
    "\n",
    "def pos_args(a, b):   \n",
    "    print(a, 'is the first argument')     \n",
    "    print(b, 'is the second argument')\n",
    "    \n",
    "pos_args('first','second')  ##  bunlar da positional argümanlardir\n",
    "\n",
    "pos_args('second', 'first')"
   ]
  },
  {
   "cell_type": "code",
   "execution_count": null,
   "metadata": {
    "id": "Fr2kksLHF-Qj"
   },
   "outputs": [],
   "source": []
  },
  {
   "cell_type": "markdown",
   "metadata": {
    "id": "RxAmA78aF-Sm"
   },
   "source": [
    "#################       Keyword Arguments"
   ]
  },
  {
   "cell_type": "markdown",
   "metadata": {
    "id": "OTBNCFaiF-Ua"
   },
   "source": [
    "# Ne icin ve nasil kullanilirlar?\n",
    "\n",
    "# Bir işlevi çağırdığımızda argümanların pozisyonlarının \n",
    "# bizi kısıtlamasıni istemiyorsak, bu argümanları anahtar kelimelerle \n",
    "# çağıririz. Genel olarak ve geleneksel olarak,  kwargs  anahtar kelimesi\n",
    "#  keyword argümanlarının kısaltması olarak kullanılır"
   ]
  },
  {
   "cell_type": "markdown",
   "metadata": {
    "id": "TE_HTzIOF-Wi"
   },
   "source": [
    "# su sekilde formüle edilirler\n",
    "\n",
    "# kwargs = values."
   ]
  },
  {
   "cell_type": "code",
   "execution_count": 53,
   "metadata": {
    "id": "FmHoMmaCF-YU"
   },
   "outputs": [
    {
     "name": "stdout",
     "output_type": "stream",
     "text": [
      "Your first name is : Guido\n",
      "Your last name is : van Rossum\n"
     ]
    }
   ],
   "source": [
    "def who(first, last) :          \n",
    "    print('Your first name is :', first)\n",
    "    print('Your last name is :', last)\n",
    "\n",
    "who(first='Guido', last='van Rossum')  \n",
    "\n",
    "# Burada func cagirirken sadece \"Guido\" ve \"van Rossum\" yazmis olsaydik\n",
    "# kodumuz yine calisacakti.\n",
    "# Ancak burada keyword argüman kullanmamizin amaci farkli. Asagidaki örnege bakalim"
   ]
  },
  {
   "cell_type": "code",
   "execution_count": 54,
   "metadata": {
    "id": "B54c0ezWF-ad"
   },
   "outputs": [
    {
     "name": "stdout",
     "output_type": "stream",
     "text": [
      "Your first name is : Guido\n",
      "Your last name is : van Rossum\n"
     ]
    }
   ],
   "source": [
    "def who(first, last) :            \n",
    "    print('Your first name is :', first)\n",
    "    print('Your last name is :', last)\n",
    "\n",
    "who(last='van Rossum', first='Guido')\n",
    "\n",
    "# Dikkat edersek burada  kullanici önce soyisim yazdi daha sonra isim.\n",
    "# Ama output a bakarsak önce isim sonra soyisim görülecektir.\n",
    "\n",
    "# iste bu durum positional argümanlarda söz konusu degildir. Orada önce ne\n",
    "# yazilir ise cikti olarak önce o alinir."
   ]
  },
  {
   "cell_type": "markdown",
   "metadata": {
    "id": "KunzTTSAF-cM"
   },
   "source": [
    "## Önemli:\n",
    "\n",
    "# Positional arguman kullaniminda kullanicinin girmesi gereken argümana;\n",
    "# required argument denir.\n",
    "\n",
    "\n",
    "# Keyword argüman kullaniminda ise;\n",
    "# optional arguments denir."
   ]
  },
  {
   "cell_type": "code",
   "execution_count": 55,
   "metadata": {
    "id": "qQBRJ7OoF-eE"
   },
   "outputs": [
    {
     "name": "stdout",
     "output_type": "stream",
     "text": [
      "Bu kus cik cik etmedi\n",
      "Eger dokunmak yaparsaniz kus öter\n",
      "Bu kusun rengi Norvec mavisi\n",
      "Ve kusun tüyleri sert\n"
     ]
    }
   ],
   "source": [
    "def kus(etki, tüyler='sert', action='cik cik', renk='Norvec mavisi'):\n",
    "    print(\"Bu kus\", action, \"etmedi\")\n",
    "    print(\"Eger\", etki, \"yaparsaniz\", \"kus öter\")\n",
    "    print(\"Bu kusun rengi\", renk)\n",
    "    print(\"Ve kusun tüyleri\", tüyler)\n",
    "\n",
    "kus(\"dokunmak\")"
   ]
  },
  {
   "cell_type": "code",
   "execution_count": 59,
   "metadata": {
    "id": "nlC1JLCSF-gJ"
   },
   "outputs": [],
   "source": [
    "# Burada ise kus func cagirmanin cesitli yöntemlerini inceleyegiz\n",
    "\n",
    "#kus(1000)                                          # 1 positional argument\n",
    "# kus(etki=1000)                                  # 1 keyword argument\n",
    "# kus(etki=1000000, action='VOOOOOM')             # 2 keyword arguments\n",
    "# kus(action='VOOOOOM', etki=1000000)             # 2 keyword arguments  # Dikkat etki ve action yerleri degisti\n",
    "# kus('a million', 'bereft of life', 'jump')         # 3 positional arguments\n",
    "# kus('a thousand', tüyler='pushing up the daisies')  # 1 positional, 1 keyword\n",
    "\n",
    "# herbirini ayri bir hücrede inceleyelim"
   ]
  },
  {
   "cell_type": "code",
   "execution_count": 58,
   "metadata": {
    "id": "t3VGUHt7F-iN"
   },
   "outputs": [
    {
     "name": "stdout",
     "output_type": "stream",
     "text": [
      "Bu kus cik cik etmedi\n",
      "Eger 1000 yaparsaniz kus öter\n",
      "Bu kusun rengi Norvec mavisi\n",
      "Ve kusun tüyleri sert\n"
     ]
    }
   ],
   "source": [
    "def kus(etki, tüyler='sert', action='cik cik', type='Norvec mavisi'):\n",
    "    print(\"Bu kus\", action, \"etmedi\")\n",
    "    print(\"Eger\", etki, \"yaparsaniz\", \"kus öter\")\n",
    "    print(\"Bu kusun rengi\", type)\n",
    "    print(\"Ve kusun tüyleri\", tüyler)\n",
    "\n",
    "kus(1000)  ### tek bir positional yazdigimizda etki olur"
   ]
  },
  {
   "cell_type": "code",
   "execution_count": 60,
   "metadata": {
    "id": "SHHuPN_XLXlD"
   },
   "outputs": [
    {
     "name": "stdout",
     "output_type": "stream",
     "text": [
      "Bu kus cik cik etmedi\n",
      "Eger dokunmak yaparsaniz kus öter\n",
      "Bu kusun rengi Norvec mavisi\n",
      "Ve kusun tüyleri sert\n"
     ]
    }
   ],
   "source": [
    "def kus(etki, tüyler='sert', action='cik cik', type='Norvec mavisi'):\n",
    "    print(\"Bu kus\", action, \"etmedi\")\n",
    "    print(\"Eger\", etki, \"yaparsaniz\", \"kus öter\")\n",
    "    print(\"Bu kusun rengi\", type)\n",
    "    print(\"Ve kusun tüyleri\", tüyler)\n",
    "\n",
    "\n",
    "kus(etki=\"dokunmak\")    ### tek bir keyword argüman"
   ]
  },
  {
   "cell_type": "code",
   "execution_count": 61,
   "metadata": {
    "id": "RWXKtH97LXn7"
   },
   "outputs": [
    {
     "name": "stdout",
     "output_type": "stream",
     "text": [
      "Bu kus pir pir etmedi\n",
      "Eger dokunmak yaparsaniz kus öter\n",
      "Bu kusun rengi Norvec mavisi\n",
      "Ve kusun tüyleri sert\n"
     ]
    }
   ],
   "source": [
    "def kus(etki, tüyler='sert', action='cik cik', type='Norvec mavisi'):\n",
    "    print(\"Bu kus\", action, \"etmedi\")\n",
    "    print(\"Eger\", etki, \"yaparsaniz\", \"kus öter\")\n",
    "    print(\"Bu kusun rengi\", type)\n",
    "    print(\"Ve kusun tüyleri\", tüyler)\n",
    "\n",
    "\n",
    "kus(etki=\"dokunmak\", action='pir pir')   # 2 keyword"
   ]
  },
  {
   "cell_type": "code",
   "execution_count": 62,
   "metadata": {
    "id": "y9BedjTFLXq9"
   },
   "outputs": [
    {
     "name": "stdout",
     "output_type": "stream",
     "text": [
      "Bu kus pir pir etmedi\n",
      "Eger dokunmak yaparsaniz kus öter\n",
      "Bu kusun rengi Norvec mavisi\n",
      "Ve kusun tüyleri sert\n"
     ]
    }
   ],
   "source": [
    "def kus(etki, tüyler='sert', action='cik cik', type='Norvec mavisi'):\n",
    "    print(\"Bu kus\", action, \"etmedi\")\n",
    "    print(\"Eger\", etki, \"yaparsaniz\", \"kus öter\")\n",
    "    print(\"Bu kusun rengi\", type)\n",
    "    print(\"Ve kusun tüyleri\", tüyler)\n",
    "\n",
    "\n",
    "kus(action='pir pir', etki=\"dokunmak\")  #yukaridakinin aynisi ama yerler degisik\n",
    "                                        # yerler degisik ama output ayni"
   ]
  },
  {
   "cell_type": "code",
   "execution_count": 63,
   "metadata": {
    "id": "xC1jOT-XLXtw"
   },
   "outputs": [
    {
     "name": "stdout",
     "output_type": "stream",
     "text": [
      "Bu kus pir pir etmedi\n",
      "Eger dokunmak yaparsaniz kus öter\n",
      "Bu kusun rengi Norvec mavisi\n",
      "Ve kusun tüyleri yumusak\n"
     ]
    }
   ],
   "source": [
    "def kus(etki, tüyler='sert', action='cik cik', type='Norvec mavisi'):\n",
    "    print(\"Bu kus\", action, \"etmedi\")  \n",
    "    print(\"Eger\", etki, \"yaparsaniz\", \"kus öter\")\n",
    "    print(\"Bu kusun rengi\", type)\n",
    "    print(\"Ve kusun tüyleri\", tüyler)\n",
    "\n",
    "\n",
    "kus('dokunmak', 'yumusak', 'pir pir')\n",
    "\n",
    "#  Dikkat:   Biz burada hic positional arg. kullanmadik sadece keyword kullandik.\n",
    "# Peki burada python keyword argümanlari nasil siraladi ?\n",
    "\n",
    "#  1. satirdaki print() 3. siradaki argümani alip print ediyor\n",
    "#  2. satirdaki print() 1. siradaki argümani alip print ediyor\n",
    "#  3. satirdaki print() zaten type'i alip print ediyor\n",
    "#  4. satirdaki print() 2. siradaki argümani alip print ediyor\n",
    "\n",
    "# Burada asil dikkat etmemiz gereken husus sudur:\n",
    "# Biz tüm elemanlari string olarak yazdik. Ancak python bunlarin ilkini\n",
    "# positional argümana atadi. Digerlerini keywordlere atadi."
   ]
  },
  {
   "cell_type": "code",
   "execution_count": 64,
   "metadata": {
    "id": "tKS8lILFLXxO"
   },
   "outputs": [
    {
     "name": "stdout",
     "output_type": "stream",
     "text": [
      "Bu kus cik cik etmedi\n",
      "Eger pat pat yaparsaniz kus öter\n",
      "Bu kusun rengi Norvec mavisi\n",
      "Ve kusun tüyleri mor\n"
     ]
    }
   ],
   "source": [
    "def kus(etki, tüyler='sert', action='cik cik', type='Norvec mavisi'):\n",
    "    print(\"Bu kus\", action, \"etmedi\")  \n",
    "    print(\"Eger\", etki, \"yaparsaniz\", \"kus öter\")\n",
    "    print(\"Bu kusun rengi\", type)\n",
    "    print(\"Ve kusun tüyleri\", tüyler)\n",
    "\n",
    "kus('pat pat', tüyler='mor')\n",
    "\n",
    "#  Dikkat: keyword olarak atadigimiz parametreler icin, func'i cagirirken \n",
    "# özellikle atama yapmazsak, output da default olani görürüz.\n",
    "\n",
    "# Yani biz func' i tanimlarken action = \"cik cik\" yazdiysak ve\n",
    "# func'i cagirirken tekrar action tanimlamadi isek bu durumda\n",
    "# default olan degismeyecektir."
   ]
  },
  {
   "cell_type": "code",
   "execution_count": 67,
   "metadata": {
    "id": "T9IDeW21LX0T"
   },
   "outputs": [
    {
     "ename": "SyntaxError",
     "evalue": "positional argument follows keyword argument (<ipython-input-67-85976488fa29>, line 11)",
     "output_type": "error",
     "traceback": [
      "\u001b[1;36m  File \u001b[1;32m\"<ipython-input-67-85976488fa29>\"\u001b[1;36m, line \u001b[1;32m11\u001b[0m\n\u001b[1;33m    kus(etki = \"dokunmak\", 'dead')  # non-keyword argument after a keyword argument\u001b[0m\n\u001b[1;37m                           ^\u001b[0m\n\u001b[1;31mSyntaxError\u001b[0m\u001b[1;31m:\u001b[0m positional argument follows keyword argument\n"
     ]
    }
   ],
   "source": [
    "## Bu hücrede bulunan func cagirma yöntemlerinin hepsi yanlistir.\n",
    "\n",
    "def kus(etki, tüyler='sert', action='cik cik', type='Norvec mavisi'):\n",
    "    print(\"Bu kus\", action, \"etmedi\")  \n",
    "    print(\"Eger\", etki, \"yaparsaniz\", \"kus öter\")\n",
    "    print(\"Bu kusun rengi\", type)\n",
    "    print(\"Ve kusun tüyleri\", tüyler)\n",
    "\n",
    "\n",
    "kus()                     # required argument missing \n",
    "kus(etki = \"dokunmak\", 'dead')  # non-keyword argument after a keyword argument\n",
    "kus(\"pat pat\", etki = \"tik tik\")     # duplicate value for the same argument\n",
    "kus(actor = 'John Cleese')  # unknown keyword argument"
   ]
  },
  {
   "cell_type": "markdown",
   "metadata": {
    "id": "e_OCISLxLX3O"
   },
   "source": [
    "###  Attention\n",
    "\n",
    "# In a function call, keyword arguments must follow positional arguments."
   ]
  },
  {
   "cell_type": "code",
   "execution_count": null,
   "metadata": {
    "id": "n7kyMbEtLX6C"
   },
   "outputs": [],
   "source": []
  },
  {
   "cell_type": "markdown",
   "metadata": {
    "id": "RbATx6d8LX9C"
   },
   "source": [
    "###  Special Arguments (Optional)   (Bu konu inclass da yok)"
   ]
  },
  {
   "cell_type": "markdown",
   "metadata": {
    "id": "S5S3KKKSLX_Q"
   },
   "source": [
    "# Resmi ilgili Python belgelerine göre: Varsayılan olarak, argümanlar \n",
    "# bir Python fonksiyonuna ya positional olarak ya da keyword ile iletilebilir.\n"
   ]
  },
  {
   "cell_type": "markdown",
   "metadata": {
    "id": "aLHCbKgOBfMN"
   },
   "source": [
    "# Okunabilirlik ve performans için, bir developer in öğelerin sadece konuma göre mi, \n",
    "# konuma veya anahtar kelimeye göre mi yoksa sadece anahtar kelimeye \n",
    "# göre mi iletildiğini belirlemek için yalnızca func tanımına bakması yeterli"
   ]
  },
  {
   "cell_type": "markdown",
   "metadata": {
    "id": "kCbYwFJ-LYBW"
   },
   "source": [
    "# burada / veya  * kullanimi isteğe bağlıdır. Kullanılırsa, bu semboller, \n",
    "# argümanların func'a nasıl iletilecegine göre parametre türünü belirtir: \n",
    "# 1: yalnızca positional , \n",
    "# 2: positional or keyword\n",
    "# 3: yalnızca keyword \n",
    "\n",
    "\n",
    "# Eger kullanilmazlarsa o zaman sadece iki secenek kalmaktadir:\n",
    "# 1:  sadece positional\n",
    "# 2:  sadece keyword \n"
   ]
  },
  {
   "cell_type": "markdown",
   "metadata": {
    "id": "lQrcvyp-F-kR"
   },
   "source": [
    "# Not:  Keyword argümanlar, bazi yerlerde \"named arguments\" yada \"named parameters\"\n",
    "\n",
    "# olarak da adlandirilirlar"
   ]
  },
  {
   "cell_type": "markdown",
   "metadata": {
    "id": "JnYLOxy3F-mR"
   },
   "source": [
    "#  Simdi bu 3 secenegi detayli inceleyelim\n",
    "\n",
    "#  1:  Positional-Only Arguments\n",
    "\n",
    "# Yalnızca  konumsalsa , parametrelerin sırası önemlidir ve \n",
    "# parametreler anahtar kelimeyle calismaz\n",
    "\n",
    "# Yalnızca konumsal parametreler bir / (eğik çizgi) önüne yerleştirilir . \n",
    "# Yalnızca konumsal parametreleri diğer parametrelerden ayırmak için \"/\" kullanılır. \n",
    "# Eger func tanımında \"/\" yoksa, yalnızca konumsal parametre yoktur demektir\n",
    "\n",
    "\n",
    "# \"/\" egik cizgiyi takip eden parametreler ise positional-or-keyword parametreler\n",
    "# yada sadece keyword parametreler olabilir"
   ]
  },
  {
   "cell_type": "markdown",
   "metadata": {
    "id": "0tPyUuaGC3Ax"
   },
   "source": [
    "# 2:   Keyword-Only Arguments\n",
    "\n",
    "# Parametreleri yalnızca keyword olarak kullanmak için, \n",
    "# parametrelerin keyword tarafından iletilmesi gerektiğini belirtmemiz gerekir.\n",
    "# Peki bu islemi nasil yapariz??\n",
    "\n",
    "\n",
    "# func()'in sag tarafinda bulunan parantez icerisinde, kullanmak istedigimiz\n",
    "# keyword-only arguments'larin ilkinin önüne \"*\"  yerlestirilir"
   ]
  },
  {
   "cell_type": "code",
   "execution_count": 68,
   "metadata": {
    "id": "nLI7pVtAC3G-"
   },
   "outputs": [
    {
     "name": "stdout",
     "output_type": "stream",
     "text": [
      "a b c d e\n",
      "a b c d e\n",
      "a b c d e\n"
     ]
    }
   ],
   "source": [
    "def mix(pos1, pos2, pos_or_kwrd,*, kwrd1, kwrd2):  # burada / kullanimina izin vermiyor\n",
    "    print(pos1, pos2, pos_or_kwrd, kwrd1, kwrd2)\n",
    "\n",
    "mix(\"a\", \"b\", pos_or_kwrd = \"c\", kwrd1 = \"d\", kwrd2 = \"e\")\n",
    "\n",
    "mix(\"a\", \"b\", \"c\", kwrd1 = \"d\", kwrd2 = \"e\")  # 3. eleman yazimi farkli olabilir\n",
    "\n",
    "mix(\"a\", pos2 = \"b\", pos_or_kwrd = \"c\", kwrd1 = \"d\", kwrd2 = \"e\")  \n",
    "\n",
    "## pos2'nin degeri keyword ile atanabilir ama pos1 atanamaz. Cünkü positional argümanlar \n",
    "# basa alinmak zorundadir. Eger pos1'in degerini keyword ile atamak istiyorsak pos2 de \n",
    "# keyword ile atanmalidir."
   ]
  },
  {
   "cell_type": "code",
   "execution_count": null,
   "metadata": {
    "id": "wjIgUZgmF-oj"
   },
   "outputs": [],
   "source": []
  },
  {
   "cell_type": "markdown",
   "metadata": {
    "id": "Z7HeyDhNqnn7"
   },
   "source": [
    "##########     inclass       ###########"
   ]
  },
  {
   "cell_type": "markdown",
   "metadata": {
    "id": "MBfeP14mqnsf"
   },
   "source": [
    "# multiply(2, 3)  #  Burada multiply isim, 2 ve 3 ise argumanlardir\n",
    "\n",
    "# mesela print(\"Hello world\")  \n",
    "\n",
    "# burada print func ismi\n",
    "# Hello world ise argumandir"
   ]
  },
  {
   "cell_type": "markdown",
   "metadata": {
    "id": "hLXXorpUqnv1"
   },
   "source": [
    "# Not: her func' in icerisine arguman yazmak zorunda degiliz.\n",
    "# Icerisine arguman almayan func'larda vardir\n",
    "\n",
    "# ama cogu func icine arguman alir"
   ]
  },
  {
   "cell_type": "markdown",
   "metadata": {
    "id": "aDHNp_d9mLfC"
   },
   "source": [
    "#################       built in functions         ##############"
   ]
  },
  {
   "cell_type": "code",
   "execution_count": 69,
   "metadata": {
    "id": "TzVJL7VHqnzN"
   },
   "outputs": [
    {
     "name": "stdout",
     "output_type": "stream",
     "text": [
      "True\n",
      "False\n",
      "True\n",
      "True\n"
     ]
    }
   ],
   "source": [
    "# all\n",
    "\n",
    "# and operatörü gibi calisir\n",
    "# ismi all oldugu icin herseyin true olmasini ister\n",
    "\n",
    "# eger bir tane bile False varsa False return eder\n",
    "# hepsi True ise True verir\n",
    "\n",
    "# Dikkat: bos eleman da True verir !!!!!!!!!!!!!!!!!!!!!!!!!!!!!!!!!!!!!!!!!!!!!!!!!!**********************************************************************\n",
    "# False odakli calisir. False bulamadigi zaman bos bile olsa True verir\n",
    "\n",
    "\n",
    "# Kullanim alani: Cok uzun bir iterable imiz var ve biz bunun icerisinde \n",
    "# Falsy bir eleman olup olmadigini ögrenmek istiyoruz\n",
    "\n",
    "a = [1, 2, 3, 4, 5, 6, 7, 8, 9, 10, 11, 12, 13, 14, 15, 16, 16, 17, 18]\n",
    "b = [\"a\", \"b\", \"\"]\n",
    "c = {}\n",
    "\n",
    "print(all(a))\n",
    "print(all(b))\n",
    "print(all(c))\n",
    "\n",
    "d = all([1, 2, 3, 4])   # Bu sekilde degiskene atayarak da kullanilabilir \n",
    "print(d)"
   ]
  },
  {
   "cell_type": "code",
   "execution_count": 75,
   "metadata": {},
   "outputs": [
    {
     "name": "stdout",
     "output_type": "stream",
     "text": [
      "False\n",
      "True\n"
     ]
    }
   ],
   "source": [
    "print(all([None]))\n",
    "print(all([]))"
   ]
  },
  {
   "cell_type": "code",
   "execution_count": null,
   "metadata": {
    "id": "obdTsb0WKixL"
   },
   "outputs": [],
   "source": [
    "# all() func iterable lar ile kullanilir.\n",
    "# Eger sadece tek bir elemanin falsy mi truthy mi oldugunu ögrenmek \n",
    "# istiyorsak o zaman bool() da kullanabiliriz all()  da\n",
    "\n",
    "# a = 1\n",
    "\n",
    "# print(all(a)) #  Burada output ne olur???\n",
    "\n",
    "\n",
    "b = [1]\n",
    "print(all(b))   #  Output lar nedir?\n",
    "\n",
    "\n",
    "c = []\n",
    "print(all(c))\n",
    "\n",
    "d = set()\n",
    "print(all(d))"
   ]
  },
  {
   "cell_type": "code",
   "execution_count": null,
   "metadata": {
    "id": "CbV0oXPjGc5U"
   },
   "outputs": [],
   "source": [
    "# any\n",
    "\n",
    "# any() func ise or gibi calisir. Eger bir tane bile True varsa\n",
    "# True döndürür. Hepsi False ise False döndürür\n",
    "\n",
    "# Dikkat:  bos iterable da ise False döndürür\n",
    "\n",
    "a = [\"a\", \"n\", \"\"]\n",
    "b = [None, \"\", 0]\n",
    "c = set()\n",
    "\n",
    "print(any(a))\n",
    "print(any(b))\n",
    "print(any(c))"
   ]
  },
  {
   "cell_type": "code",
   "execution_count": null,
   "metadata": {
    "id": "TW0GCBuYedl4"
   },
   "outputs": [],
   "source": [
    "listA = [\"susan\", \"tom\", False]\n",
    "listB = [None, (), 0]\n",
    "empty = {}               \n",
    "\n",
    "print(any(listA))\n",
    "print(any(listB))\n",
    "print(any(empty))"
   ]
  },
  {
   "cell_type": "code",
   "execution_count": null,
   "metadata": {
    "id": "iDwaQWbHedya"
   },
   "outputs": [],
   "source": []
  },
  {
   "cell_type": "code",
   "execution_count": null,
   "metadata": {
    "id": "r2Cfep7sGc7d"
   },
   "outputs": [],
   "source": [
    "# callable(object)"
   ]
  },
  {
   "cell_type": "code",
   "execution_count": null,
   "metadata": {
    "id": "gYKAgRrVGc_g"
   },
   "outputs": [],
   "source": [
    "# filter(function, iterable)\n",
    "\n",
    "# Filter func icerisine bir func bir tane de iterable alir.\n",
    "\n",
    "# Buradaki func'i kendimiz de yapabiliriz yada built in func da kullanabiliriz\n",
    "\n",
    "# filter,  icerisine aldigi func'i iterable'in tüm elemanlarina uygular ve \n",
    "# sonrasinda True yada False döndürür. Dolayisi ile bize filter icerisinde \n",
    "# kullanmak icin True yada False döndürecek bir func lazimdir.\n",
    "\n",
    "\n",
    "# Bu func icerisine aldigi iterable'i yine icerisine aldigi func ile filtreden gecirir.\n",
    "\n",
    "# filter da ketum bir func' dir ve ayni zip gibi range gibi acmak icin birkac yola \n",
    "# ihtiyac duyar"
   ]
  },
  {
   "cell_type": "code",
   "execution_count": null,
   "metadata": {
    "id": "9B_ImfL5hax1"
   },
   "outputs": [],
   "source": [
    "# eger biz filter func icerisine bir func degil de sadece None yazarsak\n",
    "# Bu durumda sadece Truety leri gecirir ve herhangi bir func'a ihtiyac duymaz.\n",
    "\n",
    "# Yani buradan cikan sonuc sudur:\n",
    "\n",
    "# filter()  iki sekilde kullanilabilir. \n",
    "\n",
    "# Birincisi filter(func(), iterable)\n",
    "\n",
    "# ikincisi filter(None, iterable)"
   ]
  },
  {
   "cell_type": "code",
   "execution_count": null,
   "metadata": {
    "id": "xmn3MWm_h58G"
   },
   "outputs": [],
   "source": [
    "a = [1, 2, 3, 4, 5, 6, 0, None, False]\n",
    "b = list(filter(None, a))\n",
    "\n",
    "print(\"Filtrelenmis elemanlar sunlardir: \", b)"
   ]
  },
  {
   "cell_type": "code",
   "execution_count": null,
   "metadata": {
    "id": "YkDHkQUbh5-3"
   },
   "outputs": [],
   "source": [
    "# for döngüsü ile kullanim:\n",
    "\n",
    "a = [1, 2, 3, 4, 5, 6, 0, None, False]\n",
    "b = list(filter(None, a))\n",
    "\n",
    "for i in b:\n",
    "  print(i, end = \" \")\n",
    "print(type(i))"
   ]
  },
  {
   "cell_type": "code",
   "execution_count": null,
   "metadata": {
    "id": "oJB5T_X1h6A5"
   },
   "outputs": [],
   "source": [
    "# Önemli:  all() func da filter()  gibi True yada False döndürür. \n",
    "# Ancak arada büyük bir fark vardir.\n",
    "\n",
    "# all() icerisine bir iterable alir ve bu iterable' in tüm elemanlarina bakar,\n",
    "# eger bir tane bile Falsy varsa False döndürür. Yani sonuc True yada False' dur.\n",
    "\n",
    "# Ancak filter da ise yine iterable'in tüm elemanlari süzgecten gecirilir. Ancak,\n",
    "# sonuc olarak elemanlarin kendisi döndürülür. Yani filter, output olarak;\n",
    "# Truthy degerlerden olusan bir iterable döndürür."
   ]
  },
  {
   "cell_type": "code",
   "execution_count": null,
   "metadata": {
    "id": "lRgIziN4jHvJ"
   },
   "outputs": [],
   "source": [
    "a = [1, 2, 3, 4, 5, 6, 0]\n",
    "print(any(a))"
   ]
  },
  {
   "cell_type": "code",
   "execution_count": null,
   "metadata": {
    "id": "ssce_3oGzYxx"
   },
   "outputs": [],
   "source": []
  },
  {
   "cell_type": "code",
   "execution_count": null,
   "metadata": {
    "id": "Zbj1FvPgjHxR"
   },
   "outputs": [],
   "source": [
    "## filter func'in bir fonksiyon ile kullanimi\n",
    "\n",
    "def cift(iterable):       ## Burada cift sayilari bulan bir func tanimliyoruz\n",
    "  c = []\n",
    "  for i in iterable:\n",
    "    if int(i) % 2 == 0:\n",
    "      c.append(i)\n",
    "  return c\n",
    "\n",
    "a = [\"1\", \"2\", \"3\", \"0\"]\n",
    "\n",
    "d = list(filter(cift, a))       ## Burada ise listeyi filtreden geciriyoruz\n",
    "\n",
    "print(d)                      "
   ]
  },
  {
   "cell_type": "code",
   "execution_count": null,
   "metadata": {
    "id": "-KKoj9m9pS_m"
   },
   "outputs": [],
   "source": []
  },
  {
   "cell_type": "code",
   "execution_count": null,
   "metadata": {
    "id": "_jv5ORTzGdBE"
   },
   "outputs": [],
   "source": [
    "# enumerate()\n",
    "\n",
    "# icerisine iterable alir ve ana yapisi su sekildedir.\n",
    "\n",
    "# enumerate(iterable, start)\n",
    "\n",
    "# start' in defaultu 0 dir ama biz bunu degistirebiliriz. Start'a kac yazarsak\n",
    "# o numaradan baslar ve artarak gider \n",
    "\n",
    "# bu func da zip()  gibi ketumdur. output olarak bir enumerate object döndürür.\n",
    "# Bu nedenle biz bu func'i acmak zorunda kaliriz.\n",
    "\n",
    "# Her bir eleman ile sayi eslestirmesi yapar ve bu ciftlerin herbirini\n",
    "# bir tuple'a dönüstürür."
   ]
  },
  {
   "cell_type": "code",
   "execution_count": null,
   "metadata": {
    "id": "Ocf_YndErT8V"
   },
   "outputs": [],
   "source": [
    "liste = [\"a\", \"b\", \"c\", \"d\"]\n",
    "new = enumerate(liste, 1)\n",
    "print(new)       \n",
    "\n",
    "new2 = list(enumerate(liste, 1))\n",
    "print(new2)\n",
    "print(type(new2[0])) "
   ]
  },
  {
   "cell_type": "code",
   "execution_count": null,
   "metadata": {
    "id": "FPHl1HrbrT_1"
   },
   "outputs": [],
   "source": [
    "#  enumerate func() ciftler olusturarark tuple meydana getirdigi icin,\n",
    "# dict func ile kullanima cok uygundur.\n",
    "\n",
    "liste = [\"a\", \"b\", \"c\", \"d\"]\n",
    "new = enumerate(liste, 1)\n",
    "print(new)        \n",
    "\n",
    "new2 = dict(enumerate(liste, 1))\n",
    "print(new2)"
   ]
  },
  {
   "cell_type": "code",
   "execution_count": null,
   "metadata": {
    "id": "Fq5TRzIarUCn"
   },
   "outputs": [],
   "source": []
  },
  {
   "cell_type": "code",
   "execution_count": null,
   "metadata": {
    "id": "wQV4N75wGdDK"
   },
   "outputs": [],
   "source": [
    "# max()   \n",
    "\n",
    "# icerisine hem iterable alarak calisir hem de iterable almadan birden cok argument\n",
    "# alarak calisir.\n",
    "\n",
    "liste = [1, 2, 3, 4, 5]    #  iterable ile kullanim\n",
    "print(max(liste))"
   ]
  },
  {
   "cell_type": "code",
   "execution_count": null,
   "metadata": {
    "colab": {
     "base_uri": "https://localhost:8080/"
    },
    "id": "4v8Sg7LPwJ1X",
    "outputId": "15902936-fb19-43f2-8f00-726b11e23c7b"
   },
   "outputs": [
    {
     "name": "stdout",
     "output_type": "stream",
     "text": [
      "5\n"
     ]
    }
   ],
   "source": [
    "print(max(1, 2, 3, 4, 5))   # birden cok arguman ile kullanim"
   ]
  },
  {
   "cell_type": "code",
   "execution_count": null,
   "metadata": {
    "id": "EV4kX9-HwUoh"
   },
   "outputs": [],
   "source": [
    "# output nedir ???\n",
    "\n",
    "liste1 = [1, 2, 3, 4, 5]\n",
    "liste2 = [6, 7, 8, 9, 10]\n",
    "liste3 = [11, 12, 13, 14, 15]\n",
    "\n",
    "print(max(liste1, liste2, liste3))  "
   ]
  },
  {
   "cell_type": "code",
   "execution_count": null,
   "metadata": {
    "id": "iZf3mCqCBy1q"
   },
   "outputs": [],
   "source": []
  },
  {
   "cell_type": "code",
   "execution_count": null,
   "metadata": {
    "id": "VjG2nP5IwzSU"
   },
   "outputs": [],
   "source": [
    "# stringlerden olusan bir iterable' da max() func hareket tarzi:\n",
    "\n",
    "liste = [\"a\"]\n",
    "liste2 = [\"a\", \"b\"]\n",
    "liste3 = [\"a\", \"b\", \"c\"]\n",
    "\n",
    "print(max(liste, liste2, liste3))"
   ]
  },
  {
   "cell_type": "code",
   "execution_count": null,
   "metadata": {
    "id": "PH8-7pDawJ4G"
   },
   "outputs": [],
   "source": [
    "#  max()  func eger bos bir iterable ile calistirilirsa ne döndürür ? \n",
    "\n",
    "a = []\n",
    "print(a)"
   ]
  },
  {
   "cell_type": "code",
   "execution_count": null,
   "metadata": {
    "id": "mIX0pIJ5wJ6f"
   },
   "outputs": [],
   "source": [
    "## output ???\n",
    "\n",
    "a = max(\"ahmet AHMET 12345\")\n",
    "print(a)"
   ]
  },
  {
   "cell_type": "code",
   "execution_count": null,
   "metadata": {
    "id": "WFgeBGxMIWK_"
   },
   "outputs": [],
   "source": [
    "# Kullanicidan bir cümle alalim ve bunun en uzun kelimesini yazdiralim\n",
    "# tarzinda sorularda max func() kullanabiliriz.\n",
    "\n",
    "girdi = input(\"Lütfen bir cümle giriniz: \").split()\n",
    "bos = []\n",
    "for i in girdi:\n",
    "  bos.append(len(i))\n",
    "  enuzun = max(bos)\n",
    "  enkisa = min(bos)\n",
    "\n",
    "print(enuzun)\n",
    "print(enkisa)"
   ]
  },
  {
   "cell_type": "code",
   "execution_count": null,
   "metadata": {
    "id": "7qCZRgjPGdEz"
   },
   "outputs": [],
   "source": [
    "# min\n",
    "\n",
    "# max()  icin gecerli olan tüm özellikler min icin de gecerlidir. Sadece max'dan \n",
    "# farkli olarak en kücükleri return eder "
   ]
  },
  {
   "cell_type": "code",
   "execution_count": null,
   "metadata": {
    "id": "B9Tr9EW1GdG4"
   },
   "outputs": [],
   "source": [
    "# sum \n",
    "\n",
    "# bu func() sayilar ile calisir. sayi disindaki veri tiplerini reddeder.\n",
    "# Dikkat: max ve min de sayilar ile calisir ama string gibi \n",
    "# diger veri tipleri ile de calistirilabilir.\n",
    "\n",
    "# ana yapi su sekilde kurulur:\n",
    "# sum(iterable, start)\n",
    "\n",
    "# eger start bos birakilir ise toplamaya default olarak 0 dan baslar. Start yazilir ise\n",
    "# start degerinden baslar.\n",
    "\n",
    "#  Eger bu func ile bos bir iterable kullanilir ise bu durumda\n",
    "# start degeri döndürülür"
   ]
  },
  {
   "cell_type": "code",
   "execution_count": null,
   "metadata": {
    "id": "4ys8GtQNKTzR"
   },
   "outputs": [],
   "source": [
    "a = [1, 4, 6, 7, 9, 10]\n",
    "\n",
    "print(sum(a))\n",
    "\n",
    "print(sum(a, 10))"
   ]
  },
  {
   "cell_type": "code",
   "execution_count": null,
   "metadata": {
    "id": "tLNdl7WAEitF"
   },
   "outputs": [],
   "source": []
  },
  {
   "cell_type": "code",
   "execution_count": null,
   "metadata": {
    "id": "BUBXeHkIKT2g"
   },
   "outputs": [],
   "source": [
    "## Bu func'i nerelerde kullanabiliriz? \n",
    "\n",
    "# mesela bir sirketin finans departmanin da calisiyoruz ve sirketin aylik \n",
    "# kazanclarini ciro ve giderler olarak ayri ayri listelerde tutuyoruz.\n",
    "# yil sonunda tüm yilin kar, ciro ve masraf miktarini hesaplayabiliriz \n",
    "\n",
    "aylikciro = [10000, 12000, 20000, 50000, 100000]\n",
    "aylikmaliyet = [5000, 6000, 10000, 25000, 50000]\n",
    "\n",
    "topciro = sum(aylikciro)\n",
    "topmaliyet = sum(aylikmaliyet)\n",
    "\n",
    "print(topciro)\n",
    "print(topmaliyet)\n",
    "\n",
    "# aylik kar hesaplama(her bir ayin cirosundan o ayin maliyetini cikaracagiz)\n",
    "\n",
    "aylikkar = []\n",
    "\n",
    "for i, j in zip(aylikciro, aylikmaliyet):\n",
    "  kar = i -j\n",
    "  aylikkar.append(kar)\n",
    "print(aylikkar)\n",
    "\n",
    "## simdi de toplam yillik kari hesaplayalim\n",
    "\n",
    "toplamkar = sum(aylikkar)  # yada\n",
    "toplamkar2 = topciro - topmaliyet\n",
    "\n",
    "print(toplamkar)\n",
    "print(toplamkar2)"
   ]
  },
  {
   "cell_type": "code",
   "execution_count": null,
   "metadata": {
    "id": "0g82XysFKT8W"
   },
   "outputs": [],
   "source": [
    "# bos iterable ile sum()\n",
    "\n",
    "a = []\n",
    "print(sum(a))           # output?\n",
    "\n",
    "print(sum(a, 10))       # output?"
   ]
  },
  {
   "cell_type": "code",
   "execution_count": null,
   "metadata": {
    "id": "R8bzIVXbOOD5"
   },
   "outputs": [],
   "source": [
    "# sum() func icerisine direkt olarak bir iterable da yazilabilir\n",
    "# ancak sadece tek bir iterable alir\n",
    "\n",
    "print(sum([10000, 12000, 20000, 50000, 100000]))"
   ]
  },
  {
   "cell_type": "code",
   "execution_count": null,
   "metadata": {
    "id": "w9ipB53YOcxJ"
   },
   "outputs": [],
   "source": [
    "print(sum(1, 2, 3, 4, 5))    # output?"
   ]
  },
  {
   "cell_type": "code",
   "execution_count": null,
   "metadata": {
    "id": "Kj2CBLx6Oc0A"
   },
   "outputs": [],
   "source": [
    "## herhangi bir func() ' a ait parantez icerisinde yazdigimiz ve virgüller ile\n",
    "# ayrilmis her bir deger bir argümandir\n",
    "\n",
    "\n",
    "# max ile sum arasindaki en büyük fark sudur:\n",
    "# sum tek bir iterable alirken\n",
    "# max hem tek bir iterable alir , hem de birden fazla deger alabilir \n",
    "\n",
    "print(max(1, 2, 3, 4, 5))\n",
    "# print(sum(1, 2, 3, 4, 5)) # error"
   ]
  },
  {
   "cell_type": "code",
   "execution_count": null,
   "metadata": {
    "id": "e4NSnXEtOc20"
   },
   "outputs": [],
   "source": []
  },
  {
   "cell_type": "code",
   "execution_count": null,
   "metadata": {
    "id": "TeF1R3sfPnZG"
   },
   "outputs": [],
   "source": [
    "############  round()  func\n",
    "\n",
    "# sayilarda yuvarlama islevi görür\n",
    "# ana yapi su sekildedir:\n",
    "\n",
    "# round(number, ndigits=None)  # virgülden sonra basamak kismi default olarak None dir.\n",
    "\n",
    "print(round(12))\n",
    "print(round(12, 2))                   ##   outputlar nasildir?\n",
    "print(round(10.8))\n",
    "print(round(10.8, 5))\n",
    "print(round(3.665, 2))\n",
    "print(round(3.675, 2))\n",
    "print(round(3.123456789, 5))"
   ]
  },
  {
   "cell_type": "code",
   "execution_count": null,
   "metadata": {
    "id": "iOY87eqNPnb0"
   },
   "outputs": [],
   "source": [
    "# Not: rakamlar binary sistem üzerinden calistigi icin float rakamlarda\n",
    "# pc den pc ye farkliliklar görülebilir\n",
    "# mesela 3.675'in orjinal hali 3.6746570565065095640956495645444   seklindedir\n",
    "# Bu nedenle bakildiginda 3. 675 yani yukaridaki degere yuvarlanir gibi \n",
    "# görünseler de bu sayilar round func icerisine girdiginde asagiya yuvarlanir\n",
    "\n",
    "# The behavior of round() for floats can be surprising: \n",
    "# for example, round(2.675, 2) gives 2.67 instead of the \n",
    "# expected 2.68. This is not a bug: it’s a result of the \n",
    "# fact that most decimal fractions can’t be represented exactly as a float"
   ]
  },
  {
   "cell_type": "code",
   "execution_count": null,
   "metadata": {
    "id": "7iU-f2OSGdKt"
   },
   "outputs": [],
   "source": [
    "# map"
   ]
  },
  {
   "cell_type": "code",
   "execution_count": null,
   "metadata": {
    "id": "weZnK6TYH7Mt"
   },
   "outputs": [],
   "source": [
    "# eval"
   ]
  },
  {
   "cell_type": "code",
   "execution_count": null,
   "metadata": {
    "id": "hMD_ZX7AH7Ox"
   },
   "outputs": [],
   "source": [
    "# sorted(iterable)"
   ]
  },
  {
   "cell_type": "code",
   "execution_count": null,
   "metadata": {
    "id": "IY4ybf1pH7Qr"
   },
   "outputs": [],
   "source": [
    "# open()  dosya veya herhangi birsey acma kapamaya yarar"
   ]
  },
  {
   "cell_type": "code",
   "execution_count": null,
   "metadata": {
    "id": "CwwBSepEH7TV"
   },
   "outputs": [],
   "source": [
    "# dir([object])    icerik listeler"
   ]
  },
  {
   "cell_type": "code",
   "execution_count": null,
   "metadata": {
    "id": "Q8BRpWhSIHlH"
   },
   "outputs": [],
   "source": [
    "# help(object)  "
   ]
  },
  {
   "cell_type": "code",
   "execution_count": null,
   "metadata": {
    "id": "rZO_HE9LIHnT"
   },
   "outputs": [],
   "source": [
    "### hatirlatma:\n",
    "\n",
    "# eger sayilardan olusan bir listeye ihtiyac duyarsak \n",
    "# range func(),  collection type larin func() lari ile kombineli olarak kullanilabilir\n",
    "# ve bunun icerisinde detayli slayslama yada indexleme yapilabilir\n",
    "\n",
    "# mesela 5 den 20 ye kadar olan tek sayilar yada cift sayilar\n",
    "# Bu durumlarda, bazen döngüleri kullanmadan da islerimizi yapabiliriz\n",
    "\n",
    "a = list(range(5, 20, 2))\n",
    "b = tuple(range(6, 20, 2))\n",
    "\n",
    "print(a)\n",
    "print(b)"
   ]
  },
  {
   "cell_type": "code",
   "execution_count": null,
   "metadata": {
    "id": "6QH6kIsYIHpO"
   },
   "outputs": [],
   "source": []
  },
  {
   "cell_type": "code",
   "execution_count": null,
   "metadata": {
    "id": "Sni6l4roIHrg"
   },
   "outputs": [],
   "source": [
    "##################  defining a function\n"
   ]
  },
  {
   "cell_type": "code",
   "execution_count": null,
   "metadata": {
    "id": "MBssjb3NmHVp"
   },
   "outputs": [],
   "source": [
    "# bir func olustururken ana yapimiz su sekildedir:\n",
    "\n",
    "def functionname(parameter(s)):  ##  bu iki satirda yaptigimiz isleme defining a func denir\n",
    "  execution body         \n",
    "\n",
    "# python da bu yapi evrenseldir. for, while  ve if yapilarin da da aynidir"
   ]
  },
  {
   "cell_type": "code",
   "execution_count": null,
   "metadata": {
    "id": "pFKMCVaumHXs"
   },
   "outputs": [],
   "source": [
    "#  python orjinal dökümanlarinda bile argüment ile parametre bazi yerlerde \n",
    "# birbirlerinin yerine kullanilirlar\n",
    "# ama temelde bir fark vardir:\n",
    "\n",
    "# func() tanimlanirken kullandigimiz degiskenlere parametre denir\n",
    "# ancak func() cagirirken kullandigimiz degiskenlere argüman denir\n",
    "# yani bu durumda yapimiz su sekilde olur\n",
    "\n",
    "def functionname(parameter1, parameter2):\n",
    "  print(parameter1 * parameter2)\n",
    "\n",
    "functionname(argument1, argument2)  "
   ]
  },
  {
   "cell_type": "code",
   "execution_count": null,
   "metadata": {
    "id": "aZ_C7mNkIHs2"
   },
   "outputs": [],
   "source": [
    "# hipotenüs hesaplayan bir func tanimlayalim\n",
    "\n",
    "def hipotenüs(a, b):   # bunlar parametre\n",
    "  print(\"Hipotenüs = \", (a ** 2 + b ** 2) ** 0.5)\n",
    "\n",
    "hipotenüs(3, 4)      ##  argümanlar"
   ]
  },
  {
   "cell_type": "code",
   "execution_count": null,
   "metadata": {
    "id": "dhXw6UWRnlhI"
   },
   "outputs": [],
   "source": [
    "def carpma(a, b):\n",
    "  print(a * b)\n",
    "\n",
    "carpma(\"computer \", 5)\n",
    "\n",
    "##  Dikkat: Burada aslinda bir assigning islemi vardir.\n",
    "# Yani a yerine \"computer\", b yerine de 5 assign edildi"
   ]
  },
  {
   "cell_type": "code",
   "execution_count": null,
   "metadata": {
    "id": "0DR8e37XnljV"
   },
   "outputs": [],
   "source": [
    "## her fonksiyonun parametresi olmak zorunda degildir\n",
    "\n",
    "def slogan():\n",
    "  print(\"Kendini kesfetmekten korkma\")\n",
    "\n",
    "slogan()\n",
    "\n",
    "# Bu tarz func' lari split(), sort(). pop() methodlari gibi düsünebiliriz.\n",
    "# Bu tarz func'larin yada methodlarin icerisinde daha önce tanimlanmis islemler vardir.\n",
    "\n",
    "# Biz parantez icerisine hicbir sey yazmamamiza ragmen o kendinde default\n",
    "# olarak tanimlanmis islemi yapar.\n",
    "\n",
    "# örnegin:"
   ]
  },
  {
   "cell_type": "code",
   "execution_count": null,
   "metadata": {
    "id": "teVZv6wtI1Tf"
   },
   "outputs": [],
   "source": [
    "liste = [1, 2, 3, 4, 5]\n",
    "liste.pop()\n",
    "\n",
    "print(liste)"
   ]
  },
  {
   "cell_type": "code",
   "execution_count": null,
   "metadata": {
    "id": "9Wwxnko7nllN"
   },
   "outputs": [],
   "source": [
    "def toplama(a, b, c):\n",
    "  print(a + b + c)\n",
    "\n",
    "toplama(\"4\", \"4\", \"4\")"
   ]
  },
  {
   "cell_type": "code",
   "execution_count": null,
   "metadata": {
    "id": "PSIv1664nlnC"
   },
   "outputs": [],
   "source": [
    "# basit bir hesap makinesini func olarak tanimlama:\n",
    "# 3 parametre alacagiz. Bunlardan ilk 2 tanesi sayi 3. ise yapilacak islemdir\n",
    "\n",
    "def hesap(a, b, c):\n",
    "  if c == \"+\":\n",
    "    print(a + b)\n",
    "  elif c == \"-\":\n",
    "    print(a - b)\n",
    "  elif c == \"/\":\n",
    "    print(a / b)\n",
    "  elif c == \"*\":\n",
    "    print(a * b)\n",
    "  else:\n",
    "    print(\"Gecersiz bir deger girdiniz\")\n",
    "\n",
    "hesap(10, 2, \"+\")\n",
    "hesap(10, 2, \"-\")\n",
    "hesap(10, 2, \"/\")\n",
    "hesap(10, 2, \"*\")\n",
    "hesap(10, 2, \"**\")"
   ]
  },
  {
   "cell_type": "code",
   "execution_count": null,
   "metadata": {
    "id": "p4tc3g19nlow"
   },
   "outputs": [],
   "source": []
  },
  {
   "cell_type": "code",
   "execution_count": null,
   "metadata": {
    "id": "lnx8xCuHtfRo"
   },
   "outputs": [],
   "source": [
    "#################   Execution of a function     ###############"
   ]
  },
  {
   "cell_type": "code",
   "execution_count": null,
   "metadata": {
    "id": "ZYGFQtUItfT3"
   },
   "outputs": [],
   "source": [
    "# print ve return farkli seylerdir.\n",
    "\n",
    "# Dikkat edersek Bizim kullandigimiz bütün built in func' lar bir sonuc döndürür.\n",
    "# Ancak biz bu sonucu print etmedigimiz takdirde herhangi bir sonuc alamayiz.\n",
    "\n",
    "# örnegin:\n",
    "\n",
    "liste = [10, 5, 9, 2, 0, 8]\n",
    "\n",
    "sorted(liste)    ## Burada aldigimiz sonuc colab' in kendi özelligidir. Aslinda\n",
    "                  # normal bir python kod yaziminda biz bu sekilde bir kod yazdigimizda\n",
    "                  # hicbir sonuc alamayiz.\n",
    "\n",
    "                  # Peki Burada sorted func() bize ne döndürdü?\n",
    "                  # Bize listemizin kücükten büyüge dogru siralanmis halini döndürdü"
   ]
  },
  {
   "cell_type": "code",
   "execution_count": null,
   "metadata": {
    "id": "LSJ-pcHxtfVu"
   },
   "outputs": [],
   "source": [
    "liste = [10, 5, 9, 2, 0, 8]\n",
    "max(liste)          # # ayni sekilde max func() bize listemizin en büyük elemanini döndürdü\n",
    "\n",
    "                    # yani buradan su cikmaktadir. print() haricinde hicbir\n",
    "                    # built in func() 'in print etme özelligi yoktur.\n",
    "                    # func lar bir deger döndürür biz de görmek istedigimiz degeri print ederiz        "
   ]
  },
  {
   "cell_type": "code",
   "execution_count": null,
   "metadata": {
    "id": "s_U_oheTtfX5"
   },
   "outputs": [],
   "source": [
    "# simdi ise return islemini kendimiz define ettigimiz bir func()  da görelim\n",
    "\n",
    "def carpma(a, b, c):\n",
    "  return a * b * c\n",
    "\n",
    "## burada func' i cagirmadigimiz sürece herhangi bir sonuc alamayiz"
   ]
  },
  {
   "cell_type": "code",
   "execution_count": null,
   "metadata": {
    "id": "HMY0ya3ltfZj"
   },
   "outputs": [],
   "source": [
    "# return ve print kullandigimizda veri tipleri de farkli olacaktir.\n",
    "\n",
    "def carpma(a, b, c):\n",
    "  return a * b * c\n",
    "\n",
    "print(type(carpma(2, 4, 5)))"
   ]
  },
  {
   "cell_type": "code",
   "execution_count": null,
   "metadata": {
    "id": "hrO3Hoo3tfbu"
   },
   "outputs": [],
   "source": [
    "def carpma(a, b, c):\n",
    "  print(a * b * c)\n",
    "\n",
    "print(type(carpma(2, 4, 5)))"
   ]
  },
  {
   "cell_type": "code",
   "execution_count": null,
   "metadata": {
    "id": "LCWyb3sPJ4Pj"
   },
   "outputs": [],
   "source": [
    "## Bunun sebebi sudur:\n",
    "# Biz bir func defining yaparken print kullanirsak,ve daha sonra bunu\n",
    "# print func ile print etmek istersek,  ayni asagida oldugu gibi\n",
    "# print icerisinde print kullanmis oluruz.\n",
    "\n",
    "# Bu durumda da type imiz none type olur\n",
    "\n",
    "a = [1, 2, 3]\n",
    "print(type(print(a)))"
   ]
  },
  {
   "cell_type": "code",
   "execution_count": null,
   "metadata": {
    "id": "inTKl4Zbkhmd"
   },
   "outputs": [],
   "source": [
    "## Dikkat:  Nasil ki bir degiskeni print ettigimizde o degiskenin kendisi degil\n",
    "# valuesu print ediliyorsa, ayni sekilde bir fonksiyonu cagirdigimizda da \n",
    "# o fonksiyonun karsiligi olan deger print edilir. Örnegin:\n",
    "\n",
    "a = 1234\n",
    "print(a)  #  degisken value iliskisi\n",
    "\n",
    "def a():\n",
    "  return 1234\n",
    "\n",
    "a()   # Dikkat edersek burada print ettirmedik, buna ragmen a'yi cagirdigimizda 1234 geldi"
   ]
  },
  {
   "cell_type": "code",
   "execution_count": null,
   "metadata": {
    "id": "Wukw-MINkhrd"
   },
   "outputs": [],
   "source": [
    "##  fonksiyonlarin bu özelligini her yerde kullanabiliriz:\n",
    "\n",
    "def a():\n",
    "  return True         ## True döndüren bir func yazdik\n",
    "\n",
    "if a():                  # burada a func() bize True döndürür. Bu nedenle if calisir\n",
    "  print(\"ali\")          \n",
    "\n",
    "\n",
    "# matematiksel olarak baktigimizda a() = \"ali\"  diyebiliriz"
   ]
  },
  {
   "cell_type": "code",
   "execution_count": null,
   "metadata": {
    "id": "geoJUG8jkh1X"
   },
   "outputs": [],
   "source": [
    "## diger bir örnek:\n",
    "\n",
    "listem = [1, 2, 3, 4, 5]\n",
    "print(listem)\n",
    "\n",
    "\n",
    "def listem():\n",
    "  return [1, 2, 3, 4, 5]\n",
    "\n",
    "# artik listem func() 'i cagirdigimizda bize liste gelecektir. Dolayisi ile\n",
    "# biz bu listeyi artik her yerde kullanabiliriz. Mesela for döngüsünde:\n",
    "\n",
    "for i in listem():        ##  dikkat: () unutmuyoruz\n",
    "  print(i)\n",
    "                          ## buradaki listem isimli func bir iterable' a esittir "
   ]
  },
  {
   "cell_type": "code",
   "execution_count": null,
   "metadata": {
    "id": "FLa7iaX7pZYV"
   },
   "outputs": [],
   "source": [
    "#  listeden tuple'a cevirme islemlerini ayni sekilde func ' da da yapabiliirz\n",
    "\n",
    "listem = [1, 2, 3, 4, 5]   ## normal islem\n",
    "\n",
    "tuplem = tuple(listem)\n",
    "print(tuplem)\n",
    "\n",
    "\n",
    "def listem():\n",
    "  return [1, 2, 3, 4, 5]\n",
    "\n",
    "new = tuple(listem())     ### dikkat ()\n",
    "print(new)"
   ]
  },
  {
   "cell_type": "code",
   "execution_count": null,
   "metadata": {
    "id": "arqHJhnypZbG"
   },
   "outputs": [],
   "source": [
    "##  Bu func bir liste oldugu icin, bunun üzerinde indexleme slayslama da \n",
    "# yapabiliriz:\n",
    "\n",
    "def listem():\n",
    "  return [1, 2, 3, 4, 5]\n",
    "\n",
    "print(listem()[2])   ##  Dikkat () unutmayalim\n",
    "\n",
    "print(listem()[::-1])\n",
    "\n",
    "print(listem()[1:4])"
   ]
  },
  {
   "cell_type": "code",
   "execution_count": null,
   "metadata": {
    "id": "gmy8oJg6pZdS"
   },
   "outputs": [],
   "source": [
    "#  append gibi methodlar calisir mi peki?\n",
    "\n",
    "def listem():\n",
    "  return [5, 4, 3, 2, 1]\n",
    "\n",
    "listem().append(6)\n",
    "print(listem())      ## output nedir\n",
    "\n",
    "print(sorted(listem()))   ## output nedir\n",
    "\n",
    "listem().insert(1,8)     ## output nedir?\n",
    "print(listem())"
   ]
  },
  {
   "cell_type": "code",
   "execution_count": null,
   "metadata": {
    "id": "ErFYaOSxpZfZ"
   },
   "outputs": [],
   "source": []
  },
  {
   "cell_type": "code",
   "execution_count": null,
   "metadata": {
    "colab": {
     "base_uri": "https://localhost:8080/",
     "height": 36
    },
    "id": "jOMoEi6Ptfd1",
    "outputId": "15b6e6ac-5c32-43c7-f2af-c0b395e74e90"
   },
   "outputs": [
    {
     "data": {
      "application/vnd.google.colaboratory.intrinsic+json": {
       "type": "string"
      },
      "text/plain": [
       "'Gecersiz bir deger girdiniz'"
      ]
     },
     "execution_count": 27,
     "metadata": {},
     "output_type": "execute_result"
    }
   ],
   "source": [
    "## hesap makinesini return ile yapalim:\n",
    "\n",
    "def hesap2(a, b, c):\n",
    "  if c == \"+\":\n",
    "    return (a + b)\n",
    "  elif c == \"-\":\n",
    "    return (a - b)\n",
    "  elif c == \"/\":\n",
    "    return (a / b)\n",
    "  elif c == \"*\":\n",
    "    return (a * b)\n",
    "  else:\n",
    "    return \"Gecersiz bir deger girdiniz\"\n",
    "\n",
    "hesap2(10, 2, \"+\")\n",
    "hesap2(10, 2, \"-\")\n",
    "hesap2(10, 2, \"/\")\n",
    "hesap2(10, 2, \"*\")\n",
    "hesap2(10, 2, \"**\")\n",
    "\n",
    "# Dikkat: Bu kodu yukarida print ile olusturdugumuzda, alt alta her cagirdigimizda\n",
    "# hepsinden de output almistik. Ama burada return ile yaptigimizda sadece\n",
    "# en son satirin outputunu verdi. Bunun sebebi sudur:\n",
    "\n",
    "# bizim bu fonksiyonu her cagirdigimizda bunu print etmemiz gerekir.\n",
    "# biz ise burada print etmedigimiz icin colab in özelligi geregi sadece son\n",
    "# satir  print edildi\n",
    "\n",
    "# yani sonuc olarak sunu söyleyebiliriz. print ile return farkli seylerdir.\n",
    "# print sadece output'u ekrana yazdirir. return ise func icerisinde kullandigimiz\n",
    "# degeri func' in kendisine esitler"
   ]
  },
  {
   "cell_type": "code",
   "execution_count": null,
   "metadata": {
    "id": "MRLL0NllRRij"
   },
   "outputs": [],
   "source": [
    "## burada da en alt satirda print kullanalim\n",
    "# output ne olur ??\n",
    "\n",
    "def hesap2(a, b, c):\n",
    "  if c == \"+\":\n",
    "    return (a + b)\n",
    "  elif c == \"-\":\n",
    "    return (a - b)\n",
    "  elif c == \"/\":\n",
    "    return (a / b)\n",
    "  elif c == \"*\":\n",
    "    return (a * b)\n",
    "  else:\n",
    "    return \"Gecersiz bir deger girdiniz\"\n",
    "\n",
    "hesap2(10, 2, \"+\")\n",
    "hesap2(10, 2, \"-\")\n",
    "hesap2(10, 2, \"/\")\n",
    "hesap2(10, 2, \"*\")\n",
    "hesap2(10, 2, \"**\")\n",
    "\n",
    "print(hesap2(10, 2, \"*\"))  "
   ]
  },
  {
   "cell_type": "code",
   "execution_count": null,
   "metadata": {
    "id": "SFmZc-0EiXQ8"
   },
   "outputs": [],
   "source": [
    "# derste yaptigimiz kahoot\n",
    "\n",
    "count = 0   ## output nedir?\n",
    "\n",
    "for i in [\"bus\"]:\n",
    "  count += 1\n",
    "  print(i, count, end = \"\")"
   ]
  },
  {
   "cell_type": "code",
   "execution_count": null,
   "metadata": {
    "id": "lPAPBUzAiXTa"
   },
   "outputs": [],
   "source": [
    "## Kullanicinin girdigi sayinin absolute degerini yazdiran bir func yazalim:\n",
    "\n",
    "def absolute(a):\n",
    "  if a < 0:\n",
    "    return -a\n",
    "  else:\n",
    "    return a\n",
    "\n",
    "girdi = int(input(\"Lütfen bir sayi giriniz: \"))\n",
    "\n",
    "absolute(girdi)"
   ]
  },
  {
   "cell_type": "code",
   "execution_count": null,
   "metadata": {
    "id": "18BgWG7giXV0"
   },
   "outputs": [],
   "source": [
    "# Bizim yazmis oldugumuz bu kod ile ayni vazifeyi yapan birde abs()\n",
    "# func vardir. Bu func built in func dir ve kullanima hazirdir.\n",
    "\n",
    "# calisma prensibi su sekildedir:\n",
    "\n",
    "# abs(argument)\n",
    "\n",
    "# Dikkat:  abs()  func sadece tek bir argüman alir. daha fazla almaz\n"
   ]
  },
  {
   "cell_type": "code",
   "execution_count": null,
   "metadata": {
    "id": "e4qS-RCmSNUm"
   },
   "outputs": [],
   "source": [
    "# simdi bununla ilgili birkac örnek yapalim:\n",
    "\n",
    "mutlak = abs(-3)      # output?\n",
    "\n",
    "print(mutlak)"
   ]
  },
  {
   "cell_type": "code",
   "execution_count": null,
   "metadata": {
    "id": "OaB_00LZSzv6"
   },
   "outputs": [],
   "source": [
    "mutlak = abs(\"ali\")      # output?\n",
    "\n",
    "print(mutlak)"
   ]
  },
  {
   "cell_type": "code",
   "execution_count": null,
   "metadata": {
    "id": "0xZmgSAyS5iY"
   },
   "outputs": [],
   "source": [
    "mutlak = abs(-2.6)      # output?\n",
    "\n",
    "print(mutlak)"
   ]
  },
  {
   "cell_type": "code",
   "execution_count": null,
   "metadata": {
    "id": "aM5DqP_A8TTG"
   },
   "outputs": [],
   "source": [
    "mutlak = abs(0)\n",
    "print(mutlak)"
   ]
  },
  {
   "cell_type": "code",
   "execution_count": null,
   "metadata": {
    "id": "NNU1kRvE8TVf"
   },
   "outputs": [],
   "source": [
    "##  simdi de matematiksel olarak bir mutlak deger sorusu cözelim:\n",
    "\n",
    "## |6 – 2| + |2 – 5| – |1 + 4| = ?   ##  output nedir ?\n",
    "\n",
    "a = 6 -2\n",
    "b = 2 - 5\n",
    "c = 1 + 4\n",
    "\n",
    "print(abs(a) + abs(b) - abs(c))"
   ]
  },
  {
   "cell_type": "code",
   "execution_count": null,
   "metadata": {
    "id": "qoWlSL6i8TXe"
   },
   "outputs": [],
   "source": [
    "####  fonksiyonlarda docstring yazimi:\n",
    "\n",
    "# docstring ne demektir ?\n",
    "\n",
    "# bu isim document dan gelmektedir ve bir func' a ait olan dökümantasyonu icerir\n",
    "\n",
    "# fonksiyonun ilk satirindan hemen sonra yazilir.\n",
    "\n",
    "# peki bir func' a ait olan docstring nasil okunur ? \n",
    "\n",
    "# functionname.__doc__   yazarak görüntüleyebiliriz\n",
    "\n",
    "def absolute(a):\n",
    "  \"Bu fonksiyon girilen sayinin mutlak degerini return eder\"\n",
    "\n",
    "  if a < 0:\n",
    "    return -a\n",
    "  else:\n",
    "    return a\n",
    "\n",
    "girdi = int(input(\"Lütfen bir sayi giriniz: \"))\n",
    "absolute(girdi)\n",
    "\n",
    "print(absolute.__doc__)\n",
    "\n",
    "               ##  Dikkat: Bizim yazmis oldugumuz user defined func'lar artik\n",
    "                # python tarafindan taninmis demektir. Ve bu nedenle colab'in de \n",
    "                # özelligi olarak funcname yazip () parantez acip bekledigimizde\n",
    "                # docstring cikar\n",
    "# absolute()"
   ]
  },
  {
   "cell_type": "code",
   "execution_count": null,
   "metadata": {
    "id": "Rq5GQmOz8TZ4"
   },
   "outputs": [],
   "source": [
    "## simdi de abs func orjinal docstringini okuyalim\n",
    "\n",
    "print(abs.__doc__)    ## dikkat buraya sadece doc yaziyoruz. docstring degil"
   ]
  },
  {
   "cell_type": "code",
   "execution_count": null,
   "metadata": {
    "id": "Nm6y0N3E8Td3"
   },
   "outputs": [],
   "source": [
    "###  tuple lar ile list comprehension yapabilir miyiz ??\n",
    "\n",
    "generate = (i ** 2 for i in range(6))   ## output nedir ?\n",
    "\n",
    "print(generate)         #vvvvvvvv"
   ]
  },
  {
   "cell_type": "code",
   "execution_count": null,
   "metadata": {
    "id": "nXbloQvA8TiD"
   },
   "outputs": [],
   "source": [
    "# tuple ile list comprehension yaptigimizda bu bize bir generator object döndürür\n",
    "# Bu durumda Bizim output'u aciga cikarmamiz lazim: \n",
    "\n",
    "generate = (i ** 2 for i in range(6))\n",
    "\n",
    "print(*generate)\n",
    "\n",
    "print(list(generate))   ##  peki burada output nedir?"
   ]
  },
  {
   "cell_type": "code",
   "execution_count": null,
   "metadata": {
    "id": "4NRb18aE8TkD"
   },
   "outputs": [],
   "source": [
    "## simdi de for döngüleri icerisinde bulunan ve arka planda calisan \n",
    "# next func' i inceleyelim:\n",
    "\n",
    "generate = (i ** 2 for i in range(6))\n",
    "\n",
    "print(next(generate))   ## dikkat normal de bizim comprehension' imiz liste icinde \n",
    "                        # degil. tuple icerisinde. Yani normal de bir output vermiyor\n",
    "                        # bunun yerine bir generator object döndürüyor.\n",
    "\n",
    "                        # ama next func for döngüsü gibi calistigi icin bu generator\n",
    "                        # objecti aciga cikariyor ve her seferinde bir eleman return ediyor\n",
    "\n",
    "print(next(generate))\n",
    "print(next(generate))\n",
    "print(next(generate))   "
   ]
  },
  {
   "cell_type": "code",
   "execution_count": null,
   "metadata": {
    "id": "UpYqXbqz8TtU"
   },
   "outputs": [],
   "source": [
    "#####  Attention Attention:  \n",
    "\n",
    "# next func bizim sahip oldugumuz generator object gibi on the air object lerde \n",
    "# calisir. Yani bizim print edemedigimiz ve * gibi list gibi etkilerle\n",
    "# aciga cikardigimiz object lerde islem görür\n",
    "\n",
    "# Eger biz next func'i normal liste yada tuple larda kullanmak istersek hata aliriz\n",
    "\n",
    "# eger next() yazip beklersek colab bize next hakkinda detayli bilgi verecektir\n",
    "# Bu bilgiler arasinda, next' in bir iterable degil iterator aldigi bilgisi bulunur\n",
    "# iterable ile iterator farkli seylerdir. iterator dedigimiz bir generator dir\n",
    "\n",
    "\n",
    "tuplem = (1,2,3, 4, 5)\n",
    "print(next(tuplem))  ### yada\n",
    "\n",
    "\n",
    "liste = [1,2,3, 4, 5]\n",
    "print(next(liste))"
   ]
  },
  {
   "cell_type": "code",
   "execution_count": null,
   "metadata": {
    "colab": {
     "base_uri": "https://localhost:8080/"
    },
    "id": "YTt4qrwP8Txd",
    "outputId": "c450cc72-d835-4211-e7f2-c4777fb89db6"
   },
   "outputs": [
    {
     "name": "stdout",
     "output_type": "stream",
     "text": [
      "(1, 'ali')\n",
      "(2, 'veli')\n"
     ]
    }
   ],
   "source": [
    "#  next func'i kapali bir object üreten tüm func'lar da kullanabiliriz\n",
    "\n",
    "tuplem = (1, 2)\n",
    "liste = [\"ali\", \"veli\"]\n",
    "\n",
    "zipp = zip(tuplem, liste)\n",
    "\n",
    "print(next(zipp))\n",
    "print(next(zipp))\n",
    "#print(next(zipp))  # bu satirdaki next calisirsa output ne olur ?\n"
   ]
  },
  {
   "cell_type": "code",
   "execution_count": null,
   "metadata": {
    "id": "DwzQV5aI8T0W"
   },
   "outputs": [],
   "source": []
  },
  {
   "cell_type": "code",
   "execution_count": null,
   "metadata": {
    "id": "Zd6kansi8T2Y"
   },
   "outputs": [],
   "source": [
    "## Not:\n",
    "\n",
    "# for loop, * asteriks ve list gibi collection func'lar outputlari\n",
    "# bir cirpida topluca verir. Ama next func tek tek verir"
   ]
  },
  {
   "cell_type": "code",
   "execution_count": null,
   "metadata": {
    "id": "DIjKRQma8T4T"
   },
   "outputs": [],
   "source": [
    "generate = (i ** 2 for i in range(10))\n",
    "\n",
    "print(next(generate))\n",
    "print(next(generate))\n",
    "print(next(generate))\n",
    "\n",
    "print(*generate)  ## bu satirdaki kodun ciktisi ne olur ?  "
   ]
  },
  {
   "cell_type": "code",
   "execution_count": null,
   "metadata": {
    "id": "L7GRuCf_qn2Z"
   },
   "outputs": [],
   "source": []
  },
  {
   "cell_type": "code",
   "execution_count": null,
   "metadata": {
    "id": "1MkO0uukqn7H"
   },
   "outputs": [],
   "source": [
    "text= \"Clarusway\"\n",
    "count = 0\n",
    "\n",
    "for i in text : \n",
    "  count += 1\n",
    "  if count < len(text) :\n",
    "    i += \"-\" \n",
    "  print(i, end = \"\")"
   ]
  },
  {
   "cell_type": "code",
   "execution_count": null,
   "metadata": {
    "id": "dMA3iKKV7WAN"
   },
   "outputs": [],
   "source": [
    "liste = [(1, 2, 3), (3, 4, 5)]\n",
    "\n",
    "for i, j, k in liste:\n",
    "  print(i, j, k)"
   ]
  },
  {
   "cell_type": "code",
   "execution_count": null,
   "metadata": {
    "id": "LbDjMB_K7WCt"
   },
   "outputs": [],
   "source": [
    "numara = int(input(\"\"))\n",
    "\n",
    "for i in range(0,10):\n",
    "  print(\"{}x{} = \" .format(numara, i), numara * i)"
   ]
  },
  {
   "cell_type": "code",
   "execution_count": null,
   "metadata": {
    "colab": {
     "base_uri": "https://localhost:8080/"
    },
    "id": "4YRPIvVr7WFX",
    "outputId": "a6b20187-197b-4acc-c460-c57191176756"
   },
   "outputs": [
    {
     "name": "stdout",
     "output_type": "stream",
     "text": [
      "1 1\n",
      "2 2\n",
      "3 3\n",
      "4 4\n"
     ]
    }
   ],
   "source": [
    "text = [\"1\", \"2\", \"3\", \"4\"]\n",
    "number = {1, 2, 3, 4}\n",
    "\n",
    "for x, y in zip(text, number):\n",
    "  print(x, y)"
   ]
  }
 ],
 "metadata": {
  "colab": {
   "collapsed_sections": [],
   "name": "Functions_in_python.ipynb",
   "provenance": []
  },
  "kernelspec": {
   "display_name": "Python 3",
   "language": "python",
   "name": "python3"
  },
  "language_info": {
   "codemirror_mode": {
    "name": "ipython",
    "version": 3
   },
   "file_extension": ".py",
   "mimetype": "text/x-python",
   "name": "python",
   "nbconvert_exporter": "python",
   "pygments_lexer": "ipython3",
   "version": "3.8.8"
  }
 },
 "nbformat": 4,
 "nbformat_minor": 4
}
