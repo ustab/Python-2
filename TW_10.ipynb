{
 "cells": [
  {
   "cell_type": "code",
   "execution_count": 1,
   "id": "3a0fa648-d4d7-4713-8f8c-652c435c3eca",
   "metadata": {},
   "outputs": [
    {
     "name": "stdout",
     "output_type": "stream",
     "text": [
      "13\n"
     ]
    }
   ],
   "source": [
    "def san(x):\n",
    " print(x+1)\n",
    "x=-2\n",
    "x=4\n",
    "san(12)"
   ]
  },
  {
   "cell_type": "code",
   "execution_count": 2,
   "id": "6876cc17-667a-44f5-a162-d29623b277d5",
   "metadata": {},
   "outputs": [
    {
     "name": "stdout",
     "output_type": "stream",
     "text": [
      "3\n",
      "1\n"
     ]
    }
   ],
   "source": [
    "def foo(fname, val):\n",
    " print(fname(val))\n",
    "foo(max, [1, 2, 3])\n",
    "foo(min, [1, 2, 3])"
   ]
  },
  {
   "cell_type": "code",
   "execution_count": 3,
   "id": "b4b89c60-3ed7-47b7-b8b8-f8b6aa2171e8",
   "metadata": {},
   "outputs": [
    {
     "name": "stdout",
     "output_type": "stream",
     "text": [
      "2\n"
     ]
    }
   ],
   "source": [
    "count = 0\n",
    "my_string = \"Clarusway\"\n",
    "my_char = \"a\"\n",
    "for i in my_string:\n",
    "    if i == my_char:\n",
    "        count += 1\n",
    "print(count)"
   ]
  },
  {
   "cell_type": "code",
   "execution_count": 4,
   "id": "edefbdd2-10b3-4e27-a7cd-65f4ba805b08",
   "metadata": {},
   "outputs": [
    {
     "name": "stdout",
     "output_type": "stream",
     "text": [
      "3102\n"
     ]
    }
   ],
   "source": [
    "num = 2013\n",
    "reversed_num = 0\n",
    "while num != 0:\n",
    "    digit = num % 10\n",
    "    reversed_num = reversed_num * 10 + digit\n",
    "    num //= 10\n",
    "print(reversed_num)"
   ]
  },
  {
   "cell_type": "code",
   "execution_count": 5,
   "id": "f392593f-a05a-4a8c-9e4b-49f0ea1ca590",
   "metadata": {},
   "outputs": [
    {
     "name": "stdout",
     "output_type": "stream",
     "text": [
      "False True\n"
     ]
    }
   ],
   "source": [
    "f=lambda x:bool(x%2)\n",
    "print(f(20), f(21))\n"
   ]
  },
  {
   "cell_type": "code",
   "execution_count": null,
   "id": "1eb09a1d-d3a8-4e63-ae06-5df4bcc5d436",
   "metadata": {},
   "outputs": [],
   "source": []
  }
 ],
 "metadata": {
  "kernelspec": {
   "display_name": "Python 3",
   "language": "python",
   "name": "python3"
  },
  "language_info": {
   "codemirror_mode": {
    "name": "ipython",
    "version": 3
   },
   "file_extension": ".py",
   "mimetype": "text/x-python",
   "name": "python",
   "nbconvert_exporter": "python",
   "pygments_lexer": "ipython3",
   "version": "3.8.8"
  }
 },
 "nbformat": 4,
 "nbformat_minor": 5
}
