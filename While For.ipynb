{
 "cells": [
  {
   "cell_type": "code",
   "execution_count": 1,
   "id": "5ada87d6-cc55-46f9-92b2-e59be335ac3c",
   "metadata": {},
   "outputs": [
    {
     "name": "stdin",
     "output_type": "stream",
     "text": [
      "How many times should I say 'I love you' 2\n"
     ]
    },
    {
     "name": "stdout",
     "output_type": "stream",
     "text": [
      "I love you\n",
      "I love you\n"
     ]
    }
   ],
   "source": [
    "times = int(input(\"How many times should I say 'I love you'\"))\n",
    "\n",
    "for i in range(times):\n",
    "    print('I love you')\n",
    "    "
   ]
  },
  {
   "cell_type": "code",
   "execution_count": 2,
   "id": "2881cd4c-ecd8-43f6-bf48-1a3c76093218",
   "metadata": {},
   "outputs": [
    {
     "name": "stdin",
     "output_type": "stream",
     "text": [
      "enter a number between 1-10 6\n"
     ]
    },
    {
     "name": "stdout",
     "output_type": "stream",
     "text": [
      "6x0 =  0\n",
      "6x1 =  6\n",
      "6x2 =  12\n",
      "6x3 =  18\n",
      "6x4 =  24\n",
      "6x5 =  30\n",
      "6x6 =  36\n",
      "6x7 =  42\n",
      "6x8 =  48\n",
      "6x9 =  54\n",
      "6x10 =  60\n"
     ]
    }
   ],
   "source": [
    "n = int(input('enter a number between 1-10'))\n",
    "\n",
    "for i in range(11):\n",
    "    print('{}x{} = '.format(n, i), n*i)"
   ]
  },
  {
   "cell_type": "code",
   "execution_count": 3,
   "id": "8ca13be7-c221-4a86-a8de-eecfd5d26c31",
   "metadata": {},
   "outputs": [
    {
     "name": "stdout",
     "output_type": "stream",
     "text": [
      "1\n",
      "2\n",
      "3\n",
      "4\n",
      "5\n"
     ]
    }
   ],
   "source": [
    "for i in [1, 2, 3, 4, 5] :\n",
    "    print(i)\n",
    "    "
   ]
  },
  {
   "cell_type": "code",
   "execution_count": 4,
   "id": "942a186c-3197-4075-8991-17083326ee6d",
   "metadata": {},
   "outputs": [
    {
     "name": "stdout",
     "output_type": "stream",
     "text": [
      "spring\n",
      "summer\n",
      "autumn\n",
      "winter\n"
     ]
    }
   ],
   "source": [
    "seasons = ['spring', 'summer', 'autumn', 'winter']\n",
    "\n",
    "for season in seasons :\n",
    "    print(season)"
   ]
  },
  {
   "cell_type": "code",
   "execution_count": 5,
   "id": "994f3104-d1bc-4161-bc31-3c6be6b4b142",
   "metadata": {},
   "outputs": [],
   "source": [
    "while 0 :\n",
    "    print(\"one\")"
   ]
  },
  {
   "cell_type": "code",
   "execution_count": 6,
   "id": "62e22781-b167-4a02-bb7c-19e9ee558b04",
   "metadata": {},
   "outputs": [
    {
     "name": "stdout",
     "output_type": "stream",
     "text": [
      "4\n",
      "3\n",
      "2\n",
      "1\n",
      "0\n"
     ]
    }
   ],
   "source": [
    "condition = 5\n",
    "while condition :\n",
    "    condition -= 1\n",
    "    print(condition)"
   ]
  },
  {
   "cell_type": "code",
   "execution_count": 7,
   "id": "db224df9-a3c8-43d3-9e2c-43e7de708e85",
   "metadata": {},
   "outputs": [
    {
     "name": "stdout",
     "output_type": "stream",
     "text": [
      "0\n",
      "1\n",
      "2\n",
      "3\n",
      "4\n",
      "5\n",
      "now, numner is equal or bigger than 6\n"
     ]
    }
   ],
   "source": [
    "number = 0\n",
    "while number < 6 :\n",
    "    print(number)\n",
    "    number += 1\n",
    "print(\"now, numner is equal or bigger than 6\")\n"
   ]
  },
  {
   "cell_type": "code",
   "execution_count": 8,
   "id": "7537959b-4766-4b2f-9298-dcb0fd15655c",
   "metadata": {},
   "outputs": [
    {
     "name": "stdout",
     "output_type": "stream",
     "text": [
      "4\n",
      "3\n",
      "2\n",
      "1\n",
      "0\n"
     ]
    }
   ],
   "source": [
    "condition = 5\n",
    "\n",
    "while True :\n",
    "    condition -= 1\n",
    "    \n",
    "    print(condition)\n",
    "    \n",
    "    if condition == 0 :\n",
    "        break"
   ]
  },
  {
   "cell_type": "code",
   "execution_count": 9,
   "id": "a1dc7663-55d8-400f-96b5-af427fcd7971",
   "metadata": {},
   "outputs": [
    {
     "name": "stdout",
     "output_type": "stream",
     "text": [
      "square of 0 is 0\n",
      "square of 1 is 1\n",
      "square of 2 is 4\n",
      "square of 3 is 9\n",
      "square of 4 is 16\n"
     ]
    }
   ],
   "source": [
    "my_list = [\"a\", \"b\", \"c\", \"d\", \"e\"]\n",
    "a = 0\n",
    "while a < len(my_list) :\n",
    "    print(\"square of {} is {}\".format(a, a**2))\n",
    "    a += 1"
   ]
  },
  {
   "cell_type": "code",
   "execution_count": 10,
   "id": "2a86e058-92eb-4e94-9c48-4b45df73f499",
   "metadata": {},
   "outputs": [
    {
     "data": {
      "text/plain": [
       "False"
      ]
     },
     "execution_count": 10,
     "metadata": {},
     "output_type": "execute_result"
    }
   ],
   "source": [
    "\"onalti\".isdigit()"
   ]
  },
  {
   "cell_type": "code",
   "execution_count": 11,
   "id": "8ec340bd-bc16-4bb5-a653-0a178008017f",
   "metadata": {},
   "outputs": [
    {
     "data": {
      "text/plain": [
       "True"
      ]
     },
     "execution_count": 11,
     "metadata": {},
     "output_type": "execute_result"
    }
   ],
   "source": [
    "\"44\".isdigit()"
   ]
  },
  {
   "cell_type": "code",
   "execution_count": 12,
   "id": "828670cf-3907-4288-8628-f18c341f2563",
   "metadata": {},
   "outputs": [
    {
     "data": {
      "text/plain": [
       "False"
      ]
     },
     "execution_count": 12,
     "metadata": {},
     "output_type": "execute_result"
    }
   ],
   "source": [
    "\"-44\".isdigit()"
   ]
  },
  {
   "cell_type": "code",
   "execution_count": 13,
   "id": "42fb61cd-39b3-4cb1-abfe-4c28930c69b6",
   "metadata": {},
   "outputs": [
    {
     "name": "stdin",
     "output_type": "stream",
     "text": [
      "Enter your age: 30\n"
     ]
    },
    {
     "name": "stdout",
     "output_type": "stream",
     "text": [
      "Great! Tou entered valid input: 30\n"
     ]
    }
   ],
   "source": [
    "age = input(\"Enter your age:\")  # isdigit() fonksiyonu ile alinan str icindekinin tam sayi rakam olup olmadigini anlariz. Float ve eksi sayilarda False verir.\n",
    "\n",
    "while not age.isdigit() :             # basina not koyarak false sonucu True yaparak donguyu calistirdik\n",
    "    print(\"You entered incorrect\")\n",
    "    age = input(\"Enter your age again:\")\n",
    "\n",
    "print(\"Great! Tou entered valid input:\", age)"
   ]
  },
  {
   "cell_type": "code",
   "execution_count": 14,
   "id": "cc699668-f1c5-4e3c-84e2-bdc311a8c604",
   "metadata": {},
   "outputs": [
    {
     "name": "stdout",
     "output_type": "stream",
     "text": [
      "Let's play the guessing game!\n"
     ]
    },
    {
     "name": "stdin",
     "output_type": "stream",
     "text": [
      "What a two-digit number am I think off? 44\n"
     ]
    },
    {
     "name": "stdout",
     "output_type": "stream",
     "text": [
      "Are you a MINDREADER!\n"
     ]
    }
   ],
   "source": [
    "answer = 44\n",
    "\n",
    "print (\"Let's play the guessing game!\")\n",
    "\n",
    "while True :\n",
    "    \n",
    "    guess = int(input(\"What a two-digit number am I think off?\"))\n",
    "    \n",
    "    if guess < answer:\n",
    "        print('Little higher')\n",
    "    elif guess > answer:\n",
    "        print('Little lower')\n",
    "    else:                                        # guess == answer\n",
    "        print('Are you a MINDREADER!')\n",
    "        break"
   ]
  },
  {
   "cell_type": "code",
   "execution_count": 15,
   "id": "41aa06a1-6ece-41a2-ba39-46a347f2983e",
   "metadata": {},
   "outputs": [],
   "source": [
    "#flowers = ['Rose', 'Orchid', 'Tulip']\n",
    "#count1 = len(....)\n",
    "#count2 = ...\n",
    "\n",
    "#while count...>0 :\n",
    "    #print(flowers[....])\n",
    "    #count... -= ...\n",
    "    #count... += ...\n",
    "    "
   ]
  },
  {
   "cell_type": "code",
   "execution_count": 16,
   "id": "11ffcd1a-d173-4f61-b202-6189e3102aec",
   "metadata": {},
   "outputs": [
    {
     "data": {
      "text/plain": [
       "True"
      ]
     },
     "execution_count": 16,
     "metadata": {},
     "output_type": "execute_result"
    }
   ],
   "source": [
    "\"a\" > \"A\"   # Ascii kodlara bakar"
   ]
  },
  {
   "cell_type": "code",
   "execution_count": 32,
   "id": "969df9ec-5092-43cb-a949-6e0cf392df79",
   "metadata": {},
   "outputs": [
    {
     "name": "stdin",
     "output_type": "stream",
     "text": [
      "Please enter a sentence :  clarusway is the best boot camp\n"
     ]
    },
    {
     "name": "stdout",
     "output_type": "stream",
     "text": [
      "the leght the longest word is  9\n"
     ]
    }
   ],
   "source": [
    "sentence = input(\"Please enter a sentence : \")\n",
    "words = sentence.split()     # split() ile cumleyi kelimelerine ayiririz \n",
    "i = 0\n",
    "longest = 0\n",
    "\n",
    "while i < len(words) :\n",
    "    \n",
    "    if len(words[i]) > longest :\n",
    "        longest = len(words[i])\n",
    "    i += 1\n",
    "\n",
    "print(\"the leght the longest word is \", longest)"
   ]
  },
  {
   "cell_type": "code",
   "execution_count": 33,
   "id": "73f53cb3-6ed8-4ab0-afde-a6c185c515c6",
   "metadata": {},
   "outputs": [
    {
     "name": "stdout",
     "output_type": "stream",
     "text": [
      "1\n",
      "2\n",
      "3\n",
      "4\n",
      "5\n"
     ]
    }
   ],
   "source": [
    "for i in [1, 2, 3, 4, 5] :    # listeyi itere ediyoruz\n",
    "    print(i)\n",
    "    "
   ]
  },
  {
   "cell_type": "code",
   "execution_count": 20,
   "id": "8791c6ae-5971-4fb0-b6ae-469fa3b2b780",
   "metadata": {},
   "outputs": [
    {
     "name": "stdout",
     "output_type": "stream",
     "text": [
      "c\n",
      "l\n",
      "a\n",
      "r\n",
      "u\n",
      "s\n",
      "w\n",
      "a\n",
      "y\n"
     ]
    }
   ],
   "source": [
    "course = 'clarusway'\n",
    "\n",
    "for i in course :   \n",
    "    print(i)\n",
    "    "
   ]
  },
  {
   "cell_type": "code",
   "execution_count": 35,
   "id": "87f406c6-bbc2-418d-a7f1-1b0f895d58f9",
   "metadata": {},
   "outputs": [
    {
     "name": "stdout",
     "output_type": "stream",
     "text": [
      "Goksel\n",
      "Goksel\n",
      "Goksel\n",
      "Goksel\n",
      "Goksel\n",
      "Goksel\n",
      "Goksel\n",
      "Goksel\n",
      "Goksel\n"
     ]
    }
   ],
   "source": [
    "course = 'clarusway'\n",
    "\n",
    "for i in course :   # print i demez baska birsey yazarsak iterable harfleri sayisinca onu yazar\n",
    "    print(\"Goksel\")\n",
    "    "
   ]
  },
  {
   "cell_type": "code",
   "execution_count": 37,
   "id": "25594e2a-0623-485c-92e1-35b1d7319c12",
   "metadata": {
    "tags": []
   },
   "outputs": [
    {
     "data": {
      "text/plain": [
       "[0, 1, 2, 3, 4, 5, 6, 7, 8, 9, 10]"
      ]
     },
     "execution_count": 37,
     "metadata": {},
     "output_type": "execute_result"
    }
   ],
   "source": [
    "list(range(11))"
   ]
  },
  {
   "cell_type": "code",
   "execution_count": 41,
   "id": "d9a362e1-0926-49b8-9d42-2006c440dcc0",
   "metadata": {
    "tags": []
   },
   "outputs": [
    {
     "name": "stdout",
     "output_type": "stream",
     "text": [
      "0\n",
      "1\n",
      "2\n",
      "3\n",
      "4\n",
      "5\n",
      "6\n",
      "7\n",
      "8\n",
      "9\n",
      "10\n"
     ]
    }
   ],
   "source": [
    "for i in range(11):\n",
    "    print(i)"
   ]
  },
  {
   "cell_type": "code",
   "execution_count": 59,
   "id": "8197dcb5-66a6-4ecb-a174-b119c6fd7c9a",
   "metadata": {},
   "outputs": [
    {
     "name": "stdin",
     "output_type": "stream",
     "text": [
      "enter a number between 1-10 5\n"
     ]
    },
    {
     "name": "stdout",
     "output_type": "stream",
     "text": [
      "5 x 0 = 0\n",
      "5 x 1 = 5\n",
      "5 x 2 = 10\n",
      "5 x 3 = 15\n",
      "5 x 4 = 20\n",
      "5 x 5 = 25\n",
      "5 x 6 = 30\n",
      "5 x 7 = 35\n",
      "5 x 8 = 40\n",
      "5 x 9 = 45\n",
      "5 x 10 = 50\n"
     ]
    }
   ],
   "source": [
    "n = int(input('enter a number between 1-10'))\n",
    "\n",
    "for i in range(11):\n",
    "   # print('{}x{} = '.format(n, i), n*i)\n",
    "    print(n, \"x\", i, \"=\", n*i)"
   ]
  },
  {
   "cell_type": "code",
   "execution_count": 26,
   "id": "c1fbe186-4373-4619-862b-444428f6dda5",
   "metadata": {},
   "outputs": [
    {
     "name": "stdout",
     "output_type": "stream",
     "text": [
      "range(0, 5)\n",
      "0 1 2 3 4\n"
     ]
    }
   ],
   "source": [
    "print(range(5))  # it will not print the numbers in sequence\n",
    "\n",
    "print(*range(5))  # '*' separates its elements  list set tuple dict yapmadan direk range dizisi almak icin range fonksiyonu basina * koyuyoruz"
   ]
  },
  {
   "cell_type": "code",
   "execution_count": 27,
   "id": "c8058c2f-5a86-4f2d-8879-790d692a0fc0",
   "metadata": {},
   "outputs": [
    {
     "name": "stdout",
     "output_type": "stream",
     "text": [
      "5 7 9 11 13 15 17 19 21 23\n"
     ]
    }
   ],
   "source": [
    "print(*range(5,25,2))\n"
   ]
  },
  {
   "cell_type": "code",
   "execution_count": 28,
   "id": "8c35a0aa-f021-4301-b8cb-12bc581f537b",
   "metadata": {},
   "outputs": [
    {
     "name": "stdout",
     "output_type": "stream",
     "text": [
      "s e p a r a t e\n"
     ]
    }
   ],
   "source": [
    "print(*('separate'))    # * konunca string te harfleri aralarinda bosluk olarak yazar\n"
   ]
  },
  {
   "cell_type": "code",
   "execution_count": 29,
   "id": "c05c4906-938e-4f72-b027-3d3a34155bcc",
   "metadata": {},
   "outputs": [
    {
     "name": "stdout",
     "output_type": "stream",
     "text": [
      "10 8 6 4 2\n"
     ]
    }
   ],
   "source": [
    "print(*range(10,0,-2))\n"
   ]
  },
  {
   "cell_type": "code",
   "execution_count": 31,
   "id": "2ed76daf-13e1-415c-a10c-9ece9c30bf5d",
   "metadata": {},
   "outputs": [
    {
     "name": "stdout",
     "output_type": "stream",
     "text": [
      "I am happy\n",
      "I am confident\n",
      "You are happy\n",
      "You are confident\n"
     ]
    }
   ],
   "source": [
    "who = ['I am ', 'You are ']\n",
    "mood = ['happy', 'confident']\n",
    "for i in who:\n",
    "    for ii in mood:\n",
    "        print(i + ii)"
   ]
  },
  {
   "cell_type": "code",
   "execution_count": 42,
   "id": "b976dc33-c5ee-4692-9b05-f946ce23cfb8",
   "metadata": {},
   "outputs": [
    {
     "name": "stdout",
     "output_type": "stream",
     "text": [
      "[1]\n",
      "[1, 2]\n",
      "[1, 2, 3]\n",
      "[1, 2, 3, 4]\n",
      "[1, 2, 3, 4, 5]\n"
     ]
    }
   ],
   "source": [
    "numbers =[]\n",
    "for i in range(1, 6):\n",
    "    numbers.append(i)\n",
    "    print(numbers)\n"
   ]
  },
  {
   "cell_type": "code",
   "execution_count": 43,
   "id": "9bc752d3-b893-46c0-b33f-e31872a159cb",
   "metadata": {},
   "outputs": [
    {
     "name": "stdout",
     "output_type": "stream",
     "text": [
      "[1, 2, 3, 4, 5]\n"
     ]
    }
   ],
   "source": [
    "numbers =[]\n",
    "for i in range(1, 6):\n",
    "    numbers.append(i)\n",
    "print(numbers)    # printi en basa almak lazim\n"
   ]
  },
  {
   "cell_type": "code",
   "execution_count": 53,
   "id": "a835a34e-fe48-4ea9-a624-f6feffdfff1d",
   "metadata": {},
   "outputs": [
    {
     "name": "stdin",
     "output_type": "stream",
     "text": [
      "Enter a word clarusway\n"
     ]
    },
    {
     "name": "stdout",
     "output_type": "stream",
     "text": [
      "c-l-a-r-u-s-w-a-y-"
     ]
    }
   ],
   "source": [
    "word = input(\"Enter a word\")\n",
    "for i in word :\n",
    "    print(i, end = \"-\")"
   ]
  },
  {
   "cell_type": "code",
   "execution_count": 50,
   "id": "713ad773-7128-46c3-8c90-029345d3dcc6",
   "metadata": {},
   "outputs": [
    {
     "name": "stdin",
     "output_type": "stream",
     "text": [
      "Enter a word clarusway\n"
     ]
    },
    {
     "name": "stdout",
     "output_type": "stream",
     "text": [
      "c-l-a-r-u-s-w-a-y"
     ]
    }
   ],
   "source": [
    "word = input(\"Enter a word\")\n",
    "\n",
    "count = 0\n",
    "for i in word :\n",
    "    count += 1\n",
    "    if count < len(word) :\n",
    "        i = i + \"-\"\n",
    "    print(i, end = '')"
   ]
  },
  {
   "cell_type": "code",
   "execution_count": 61,
   "id": "baa55537-79ae-45b8-9122-77e6e6078c97",
   "metadata": {},
   "outputs": [
    {
     "name": "stdout",
     "output_type": "stream",
     "text": [
      "1\n",
      "22\n",
      "333\n",
      "4444\n",
      "55555\n",
      "666666\n",
      "7777777\n",
      "88888888\n",
      "999999999\n"
     ]
    }
   ],
   "source": [
    "  for i in range(1, 10) :\n",
    "    print(i*str(i))   # ****************************************************"
   ]
  },
  {
   "cell_type": "code",
   "execution_count": 62,
   "id": "a1e5d717-35e6-4fa2-8196-a4c7f14eafcc",
   "metadata": {},
   "outputs": [
    {
     "name": "stdout",
     "output_type": "stream",
     "text": [
      "10 9 8 7 6 5 4 3 2\n"
     ]
    }
   ],
   "source": [
    "print(* range(10,1,-1))"
   ]
  },
  {
   "cell_type": "code",
   "execution_count": 65,
   "id": "b3df71d3-c31d-4518-8f0f-b8f746f497f7",
   "metadata": {},
   "outputs": [
    {
     "name": "stdout",
     "output_type": "stream",
     "text": [
      "s e p a r a t e\n"
     ]
    }
   ],
   "source": [
    "print(*\"separate\") # * asterix basina konan stringi itera eder"
   ]
  },
  {
   "cell_type": "code",
   "execution_count": 66,
   "id": "cf66c1cd-bc3d-4a8d-b8c9-60f9c687e722",
   "metadata": {},
   "outputs": [
    {
     "name": "stdout",
     "output_type": "stream",
     "text": [
      "<zip object at 0x0000017B758EBD00>\n",
      "('one', 1) ('two', 2) ('three', 3) ('four', 4) ('five', 5)\n"
     ]
    }
   ],
   "source": [
    "text = ['one','two','three','four','five']\n",
    "numbers = [1, 2, 3, 4, 5]\n",
    "zipped = zip(text, numbers)\n",
    "print(zipped)\n",
    "print(*zipped)"
   ]
  },
  {
   "cell_type": "code",
   "execution_count": 67,
   "id": "522966c5-7c82-4a37-9e93-ef96d2746626",
   "metadata": {},
   "outputs": [
    {
     "name": "stdout",
     "output_type": "stream",
     "text": [
      "{'one': 1, 'two': 2, 'three': 3, 'four': 4, 'five': 5}\n"
     ]
    }
   ],
   "source": [
    "text = ['one','two','three','four','five']\n",
    "numbers = [1, 2, 3, 4, 5]\n",
    "zipped = zip(text, numbers)\n",
    "print(dict(zipped))"
   ]
  },
  {
   "cell_type": "code",
   "execution_count": 68,
   "id": "e50c003c-efc7-4c0d-94eb-6a7781efeb3c",
   "metadata": {},
   "outputs": [
    {
     "name": "stdout",
     "output_type": "stream",
     "text": [
      "one : 1\n",
      "two : 2\n",
      "three : 3\n",
      "four : 4\n",
      "five : 5\n"
     ]
    }
   ],
   "source": [
    "text = ['one','two','three','four','five']\n",
    "numbers = [1, 2, 3, 4, 5]\n",
    "for x, y in zip(text, numbers):\n",
    "    print(x, ':', y)"
   ]
  },
  {
   "cell_type": "code",
   "execution_count": 1,
   "id": "9c50a262-ca5c-4e41-bae3-377e6b8095dc",
   "metadata": {},
   "outputs": [
    {
     "name": "stdout",
     "output_type": "stream",
     "text": [
      "evens :  [0, 2, 4, 6, 8]\n",
      "odds :  [1, 3, 5, 7, 9]\n"
     ]
    }
   ],
   "source": [
    "evens =[]\n",
    "odds = []\n",
    "for n in range(10):\n",
    "    \n",
    "    if n % 2 == 0 :\n",
    "        evens.append(n)\n",
    "    else :\n",
    "        odds.append(n)\n",
    "print(\"evens : \", evens) \n",
    "print(\"odds : \", odds)\n"
   ]
  },
  {
   "cell_type": "code",
   "execution_count": 3,
   "id": "ad51bcac-35fa-4b59-8f8e-ba99c6b65465",
   "metadata": {},
   "outputs": [
    {
     "name": "stdout",
     "output_type": "stream",
     "text": [
      "even counts : 5\n",
      "odd counts : 4\n"
     ]
    }
   ],
   "source": [
    "numbers = [11, 26, 33, 66, 89, 21, 32, 16, 10]\n",
    "\n",
    "odds = 0\n",
    "evens = 0\n",
    "for i in numbers :\n",
    "    if i % 2 ==0 :\n",
    "        evens += 1\n",
    "    else :\n",
    "        odds += 1\n",
    "\n",
    "print(\"even counts :\", evens)\n",
    "print(\"odd counts :\", odds)\n",
    "    "
   ]
  },
  {
   "cell_type": "code",
   "execution_count": 7,
   "id": "a0f7d9d4-1f90-4241-8a9e-b48a52f7165d",
   "metadata": {},
   "outputs": [
    {
     "name": "stdout",
     "output_type": "stream",
     "text": [
      "5\n",
      "4\n"
     ]
    }
   ],
   "source": [
    "numbers = [11, 26, 33, 66, 89, 21, 32, 16, 10]\n",
    "\n",
    "odds = [i for i in numbers if i % 2 == 0]\n",
    "evens = [i for i in numbers if i % 2 == 1]\n",
    "print(len(odds), len(evens), sep = \"\\n\")"
   ]
  },
  {
   "cell_type": "code",
   "execution_count": 1,
   "id": "3a3df78d-57c3-462f-9990-6043a74bc7b0",
   "metadata": {},
   "outputs": [
    {
     "name": "stdout",
     "output_type": "stream",
     "text": [
      "12\n",
      "16\n",
      "20\n",
      "24\n",
      "28\n",
      "32\n",
      "36\n",
      "40\n",
      "44\n",
      "48\n",
      "52\n",
      "56\n",
      "60\n",
      "64\n",
      "68\n",
      "72\n",
      "76\n",
      "80\n",
      "84\n",
      "88\n",
      "92\n",
      "96\n",
      "100\n",
      "104\n",
      "108\n",
      "112\n",
      "116\n",
      "120\n",
      "124\n",
      "128\n",
      "132\n",
      "136\n",
      "140\n",
      "144\n",
      "148\n",
      "152\n",
      "156\n",
      "160\n",
      "164\n",
      "168\n",
      "172\n",
      "176\n",
      "180\n",
      "184\n",
      "188\n",
      "192\n",
      "196\n",
      "200\n",
      "204\n",
      "208\n",
      "end\n"
     ]
    }
   ],
   "source": [
    "for i in range(1, 100, 2):\n",
    "    islem = i * 2 + 10\n",
    "    print(islem)\n",
    "print(\"end\")"
   ]
  },
  {
   "cell_type": "code",
   "execution_count": 2,
   "id": "769c6752-7978-4266-828a-e6d173ce505f",
   "metadata": {},
   "outputs": [
    {
     "name": "stdout",
     "output_type": "stream",
     "text": [
      "1\n",
      "6\n",
      "2\n",
      "9\n",
      "3\n",
      "14\n",
      "4\n",
      "21\n",
      "5\n",
      "30\n",
      "6\n",
      "41\n",
      "7\n",
      "54\n",
      "8\n",
      "69\n",
      "9\n",
      "86\n",
      "10\n",
      "105\n",
      "End of for loop\n"
     ]
    }
   ],
   "source": [
    "list = [1, 2, 3, 4, 5, 6, 7, 8, 9, 10]\n",
    "for i in list:\n",
    "    print(i)\n",
    "    islem = i ** 2 + 5\n",
    "    print(islem)\n",
    "print(\"End of for loop\")"
   ]
  },
  {
   "cell_type": "code",
   "execution_count": 3,
   "id": "4d0ce55a-1ad3-40fb-833a-711c5bd29157",
   "metadata": {},
   "outputs": [
    {
     "name": "stdout",
     "output_type": "stream",
     "text": [
      "Hello World! 0\n",
      "Hello World! 1\n",
      "Hello World! 2\n",
      "Hello World! 3\n",
      "Hello World! 4\n",
      "Hello World! 5\n",
      "Hello World! 6\n",
      "Hello World! 7\n",
      "Hello World! 8\n",
      "Hello World! 9\n",
      "Hello World! 10\n",
      "Hello World! 11\n",
      "Hello World! 12\n",
      "Hello World! 13\n",
      "Hello World! 14\n",
      "Hello World! 15\n",
      "Hello World! 16\n",
      "Hello World! 17\n",
      "Hello World! 18\n",
      "Hello World! 19\n",
      "End of while loop\n"
     ]
    }
   ],
   "source": [
    "counter = 0\n",
    "while counter < 20:\n",
    "    print(\"Hello World!\", counter)\n",
    "    #counter = counter + 1\n",
    "    counter += 1\n",
    "print(\"End of while loop\")\n"
   ]
  },
  {
   "cell_type": "code",
   "execution_count": 5,
   "id": "ddc68cf9-fef7-4480-822c-61ed03493493",
   "metadata": {},
   "outputs": [
    {
     "name": "stdout",
     "output_type": "stream",
     "text": [
      "2775\n"
     ]
    }
   ],
   "source": [
    "counter = 0\n",
    "for i in range(1, 75) :\n",
    "    counter += i\n",
    "\n",
    "print(counter)\n"
   ]
  },
  {
   "cell_type": "code",
   "execution_count": 7,
   "id": "6a777937-9c97-4b92-b0fa-10237f6b230c",
   "metadata": {},
   "outputs": [
    {
     "name": "stdout",
     "output_type": "stream",
     "text": [
      "I am happy\n",
      "I am confident\n",
      "You are happy\n",
      "You are confident\n"
     ]
    }
   ],
   "source": [
    "who = ['I am ', 'You are ']      # ilk listedeki 1. elemani 2. liste ile tek tek eslestirir\n",
    "mod = ['happy', 'confident']   # sonra ilk listenin 2. elemanini  ikinci liste  ile tek tek eslestirir\n",
    "for i in who:\n",
    "    for ii in mod:\n",
    "        print(i + ii)"
   ]
  },
  {
   "cell_type": "code",
   "execution_count": 10,
   "id": "8ef4629e-81c3-4bd3-964b-b18a36ea4fda",
   "metadata": {},
   "outputs": [
    {
     "name": "stdout",
     "output_type": "stream",
     "text": [
      "susan is happy\n",
      "susan is sad\n",
      "tom is happy\n",
      "tom is sad\n",
      "edward is happy\n",
      "edward is sad\n"
     ]
    }
   ],
   "source": [
    "name = ['susan', 'tom', 'edward']      \n",
    "mod = ['happy', 'sad']   \n",
    "for i in name:\n",
    "    for ii in mod:\n",
    "        print(i + \" is \" + ii)"
   ]
  },
  {
   "cell_type": "code",
   "execution_count": 12,
   "id": "d5510e26-486d-4e42-bab3-d6ed08f03206",
   "metadata": {},
   "outputs": [
    {
     "name": "stdout",
     "output_type": "stream",
     "text": [
      "five\n",
      "5\n",
      "True\n"
     ]
    }
   ],
   "source": [
    "v = ('five', 5, True)\n",
    "(x, y, z) = v\n",
    "print(x)\n",
    "print(y)\n",
    "print(z)\n"
   ]
  },
  {
   "cell_type": "code",
   "execution_count": 1,
   "id": "f9ddb2b6-e082-47d0-9c40-24292d8285f6",
   "metadata": {},
   "outputs": [
    {
     "name": "stdout",
     "output_type": "stream",
     "text": [
      "pp\n",
      "qq\n",
      "rr\n"
     ]
    }
   ],
   "source": [
    "for x in set('pqr'): \n",
    "  print(x*2)"
   ]
  },
  {
   "cell_type": "code",
   "execution_count": null,
   "id": "113cbefa-5f31-4035-a7bf-01fae52de844",
   "metadata": {},
   "outputs": [],
   "source": []
  }
 ],
 "metadata": {
  "kernelspec": {
   "display_name": "Python 3",
   "language": "python",
   "name": "python3"
  },
  "language_info": {
   "codemirror_mode": {
    "name": "ipython",
    "version": 3
   },
   "file_extension": ".py",
   "mimetype": "text/x-python",
   "name": "python",
   "nbconvert_exporter": "python",
   "pygments_lexer": "ipython3",
   "version": "3.8.8"
  },
  "toc-autonumbering": true,
  "toc-showcode": true,
  "toc-showmarkdowntxt": false
 },
 "nbformat": 4,
 "nbformat_minor": 5
}
