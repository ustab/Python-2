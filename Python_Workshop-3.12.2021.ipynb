{
 "cells": [
  {
   "cell_type": "markdown",
   "metadata": {},
   "source": [
    "<h1><center>Python Workshop - 03.12.2021</center></h1>"
   ]
  },
  {
   "cell_type": "markdown",
   "metadata": {},
   "source": [
    "### Question 1\n",
    "```\n",
    "# https://edabit.com/challenge/646cCaFig6AP89YRo\n",
    "\n",
    "With List Comprehension Solution:\n",
    "\n",
    "Write a program that returns a list of all the numbers from 1 to an integer argument. But for multiples of three use “Fizz” instead of the number and for the multiples of five use “Buzz”. For numbers which are multiples of both three and five use “FizzBuzz”.\n",
    "\n",
    "fizz_buzz(10) ➞ [1, 2, \"Fizz\", 4, \"Buzz\", \"Fizz\", 7, 8, \"Fizz\", \"Buzz\"]\n",
    "\n",
    "fizz_buzz(15) ➞ [1, 2, \"Fizz\", 4, \"Buzz\", \"Fizz\", 7, 8, \"Fizz\", \"Buzz\", 11, \"Fizz\", 13, 14, \"FizzBuzz\"] \n",
    "```"
   ]
  },
  {
   "cell_type": "code",
   "execution_count": 8,
   "metadata": {},
   "outputs": [
    {
     "name": "stdout",
     "output_type": "stream",
     "text": [
      "[1, 2, 3, 4, 5, 6, 7, 8, 9, 10, 11, 12, 13, 14, 15]\n",
      "[1, 2, 'Fizz', 4, 'Buzz', 'Fizz', 7, 8, 'Fizz', 'Buzz', 11, 'Fizz', 13, 14, 'FizzBuzz']\n"
     ]
    }
   ],
   "source": [
    "def fizz_buzz(maximum):\n",
    "    lst = list(range(1, maximum+1))\n",
    "    print(lst)\n",
    "    for i in lst:\n",
    "        if i % 15 == 0 :\n",
    "            lst[lst.index(i)] = \"FizzBuzz\"\n",
    "        \n",
    "        elif i % 5 == 0 :\n",
    "            lst[lst.index(i)] = \"Buzz\"\n",
    "        \n",
    "        elif i % 3 == 0 :\n",
    "            lst[lst.index(i)] = \"Fizz\"\n",
    "    return lst\n",
    "print(fizz_buzz(15))\n",
    "        "
   ]
  },
  {
   "cell_type": "code",
   "execution_count": 7,
   "metadata": {},
   "outputs": [
    {
     "name": "stdout",
     "output_type": "stream",
     "text": [
      "[1, 2, 'Fizz', 4, 'Buzz', 'Fizz', 7, 8, 'Fizz', 'Buzz', 11, 'Fizz', 13, 14, 'FizzBuzz']\n"
     ]
    }
   ],
   "source": [
    "def fizz_buzz(num):\n",
    "    return [\"FizzBuzz\" if not n % 15  \n",
    "            else \"Buzz\" if not n % 5 \n",
    "           else \"Fizz\" if not n % 3 \n",
    "           else n for n in range(1, num+1)]\n",
    "print(fizz_buzz(15))"
   ]
  },
  {
   "cell_type": "markdown",
   "metadata": {},
   "source": [
    "### Question 2\n",
    "```\n",
    "https://edabit.com/challenge/vTGXrd5ntYRk3t6Ma\n",
    "\n",
    "An isogram is a word that has no duplicate letters. Create a function that takes a string and returns either True or False depending on whether or not it's an \"isogram\".\n",
    "\n",
    "is_isogram(\"Algorism\") ➞ True\n",
    "\n",
    "is_isogram(\"PasSword\") ➞ False\n",
    "# Not case sensitive.\n",
    "\n",
    "is_isogram(\"Consecutive\") ➞ False\n",
    "\n",
    "Notes\n",
    "Ignore letter case (should not be case sensitive).\n",
    "All test cases contain valid one word strings.\n",
    "```"
   ]
  },
  {
   "cell_type": "code",
   "execution_count": 14,
   "metadata": {},
   "outputs": [],
   "source": [
    "def is_isogram(txt):\n",
    "    t=[]\n",
    "    for i in txt.lower():\n",
    "        if i not in t:\n",
    "            t.append(i)\n",
    "    return sorted(t)==sorted(txt.lower())"
   ]
  },
  {
   "cell_type": "code",
   "execution_count": null,
   "metadata": {},
   "outputs": [],
   "source": [
    "def is_isogram(txt):\n",
    "  return len(txt) == len(set(txt.lower()))"
   ]
  },
  {
   "cell_type": "markdown",
   "metadata": {},
   "source": [
    "### Question 3\n",
    "```\n",
    "https://edabit.com/challenge/fmQ9QvPBWL7N9hSkq\n",
    "\n",
    "Write a function that takes a string, and returns a new string with any duplicate consecutive letters removed.\n",
    "\n",
    "unstretch(\"ppoeemm\") ➞ \"poem\"\n",
    "\n",
    "unstretch(\"wiiiinnnnd\") ➞ \"wind\"\n",
    "\n",
    "unstretch(\"ttiiitllleeee\") ➞ \"title\"\n",
    "\n",
    "unstretch(\"cccccaaarrrbbonnnnn\") ➞ \"carbon\"\n",
    "\n",
    "Final strings won't include words with double letters (e.g. \"passing\", \"lottery\").\n",
    "```"
   ]
  },
  {
   "cell_type": "code",
   "execution_count": 9,
   "metadata": {},
   "outputs": [
    {
     "name": "stdout",
     "output_type": "stream",
     "text": [
      "title\n"
     ]
    }
   ],
   "source": [
    "def unstretch(word):\n",
    "    c = word[0]\n",
    "    for i in range(1, len(word)) :\n",
    "        if word[i] != c[-1] :\n",
    "            c += word[i]\n",
    "    return c \n",
    "print(unstretch(\"ttiiitllleeee\"))"
   ]
  },
  {
   "cell_type": "code",
   "execution_count": 13,
   "metadata": {},
   "outputs": [
    {
     "name": "stdout",
     "output_type": "stream",
     "text": [
      "title\n"
     ]
    }
   ],
   "source": [
    "def unstretch(wrd):\n",
    "    c = wrd[0]\n",
    "    for i in range(1, len(wrd)) :\n",
    "        if wrd[i] != wrd[i-1] :\n",
    "            c += wrd[i]\n",
    "    return c\n",
    "print(unstretch(\"ttiiitllleeee\"))\n",
    "    "
   ]
  },
  {
   "cell_type": "code",
   "execution_count": null,
   "metadata": {},
   "outputs": [],
   "source": [
    "def unstretch(s):\n",
    "    return s[0]+\"\".join(s[i] for i in range(1,len(s)) if s[i]!=s[i-1])"
   ]
  },
  {
   "cell_type": "markdown",
   "metadata": {},
   "source": [
    "### Question 4\n",
    "```\n",
    "https://edabit.com/challenge/6CGomPbu3dK536PH2\n",
    "\n",
    "Create a function that takes in a list and returns a list of the accumulating sum.\n",
    "\n",
    "accumulating_list([1, 2, 3, 4]) ➞ [1, 3, 6, 10]\n",
    "# [1, 3, 6, 10] can be written as  [1, 1 + 2, 1 + 2 + 3, 1 + 2 + 3 + 4]\n",
    "\n",
    "accumulating_list([1, 5, 7]) ➞ [1, 6, 13]\n",
    "\n",
    "accumulating_list([1, 0, 1, 0, 1]) ➞ [1, 1, 2, 2, 3]\n",
    "\n",
    "accumulating_list([]) ➞ []\n",
    "\n",
    "An empty list input [] should return an empty list [].\n",
    "```"
   ]
  },
  {
   "cell_type": "code",
   "execution_count": null,
   "metadata": {},
   "outputs": [],
   "source": [
    "def accumulating_list(lst):\n",
    "    k=0\n",
    "    t=[]\n",
    "    for i in range(len(lst)):\n",
    "        k=k+lst[i]\n",
    "        t.append(k)\n",
    "    return t"
   ]
  },
  {
   "cell_type": "code",
   "execution_count": null,
   "metadata": {},
   "outputs": [],
   "source": [
    "def accumulating_list(lst):\n",
    "    return [sum(lst[:i+1]) for i in range(len(lst))]"
   ]
  },
  {
   "cell_type": "markdown",
   "metadata": {},
   "source": [
    "### Question 5\n",
    "```\n",
    "# Write a Python code to sort the list at below without using .sort() method of list. elements of list = [999, 333, 2, 8982, 12, 45, 77, 99, 11] Expected output: [2, 11, 12, 45, 77, 99, 333, 999, 8982]\n",
    "```"
   ]
  },
  {
   "cell_type": "code",
   "execution_count": 16,
   "metadata": {},
   "outputs": [
    {
     "name": "stdout",
     "output_type": "stream",
     "text": [
      "[2, 11, 12, 45, 77, 99, 333, 999, 8982]\n"
     ]
    }
   ],
   "source": [
    "list_ = [999, 333, 2, 8982, 12, 45, 77, 99, 11]\n",
    "new_list = []\n",
    "\n",
    "while list_:\n",
    "    min_element = list_[0]\n",
    "    for i in list_:\n",
    "        if i < min_element:\n",
    "            min_element = i\n",
    "    new_list.append(min_element)\n",
    "    list_.remove(min_element)\n",
    "print(new_list)"
   ]
  },
  {
   "cell_type": "code",
   "execution_count": 17,
   "metadata": {},
   "outputs": [
    {
     "name": "stdout",
     "output_type": "stream",
     "text": [
      "[2, 11, 12, 45, 77, 99, 333, 999, 8982]\n"
     ]
    }
   ],
   "source": [
    "my_list = [999, 333, 2, 8982, 12, 45, 77, 99, 11]\n",
    "for i in range(len(my_list)):\n",
    "    for j in range(i+1, len(my_list)):\n",
    "        if my_list[i] > my_list[j]:\n",
    "            my_list[i], my_list[j] = my_list[j],  my_list[i]\n",
    "print(my_list)\n"
   ]
  },
  {
   "cell_type": "markdown",
   "metadata": {},
   "source": [
    "### Question 6\n",
    "```\n",
    "https://edabit.com/challenge/6vSZmN66xhMRDX8YT\n",
    "\n",
    "Create a function that takes a list of numbers or strings and returns a list with the items from the original list stored into sublists. Items of the same value should be in the same sublist.\n",
    "\n",
    "advanced_sort([2, 1, 2, 1]) ➞ [[2, 2], [1, 1]]\n",
    "\n",
    "advanced_sort([5, 4, 5, 5, 4, 3]) ➞ [[5, 5, 5], [4, 4], [3]]\n",
    "\n",
    "advanced_sort([\"b\", \"a\", \"b\", \"a\", \"c\"]) ➞ [[\"b\", \"b\"], [\"a\", \"a\"], [\"c\"]]\n",
    "\n",
    "Notes\n",
    "The sublists should be returned in the order of each element's first appearance in the given list.\n",
    "```"
   ]
  },
  {
   "cell_type": "code",
   "execution_count": null,
   "metadata": {},
   "outputs": [],
   "source": [
    "def advanced_sort(lst):\n",
    "    lst_nw, set_nw = [] , set()\n",
    "    for i in lst:\n",
    "        if i not in set_nw:\n",
    "            lst_nw.append([i for x in range(lst.count(i))])\n",
    "            set_nw.add(i)\n",
    "    return lst_nw"
   ]
  },
  {
   "cell_type": "code",
   "execution_count": null,
   "metadata": {},
   "outputs": [],
   "source": [
    "def advanced_sort(lst):\n",
    "        new_lst = []\n",
    "    for i in lst:\n",
    "        if [i]*lst.count(i) not in new_lst:\n",
    "            new_lst.append([i]*lst.count(i))\n",
    "    return (new_lst)"
   ]
  },
  {
   "cell_type": "markdown",
   "metadata": {},
   "source": [
    "### Question 7\n",
    "```\n",
    "https://edabit.com/challenge/YN33GEpLQqa5imcFx\n",
    "\n",
    "The goal of this challenge is to return Pascal's triangle up to number 29. Pascal's triangle is the sum of the two upper corners.\n",
    "    1\n",
    "   1 1\n",
    "  1 2 1\n",
    " 1 3 3 1\n",
    "\n",
    "# There will always be the 1 in the first\n",
    "# place and the row in the second.\n",
    "\n",
    "Create a function that returns a row from Pascal's triangle. To find the row and column you can use n!/(k!*(n-k)!) where n is the row down and k is the column.\n",
    "\n",
    "pascals_triangle(1) ➞ \"1 1\"\n",
    "\n",
    "pascals_triangle(4) ➞ \"1 4 6 4 1\"\n",
    "\n",
    "pascals_triangle(6) ➞ \"1 6 15 20 15 6 1\"\n",
    "\n",
    "pascals_triangle(8) ➞ \"1 8 28 56 70 56 28 8 1\"\n",
    "```"
   ]
  },
  {
   "cell_type": "code",
   "execution_count": 18,
   "metadata": {},
   "outputs": [],
   "source": [
    "def pascals_triangle(n):\n",
    "    lst = []\n",
    "    for i in range(0, n+1):\n",
    "        if i ==0 or i == 1:\n",
    "            lst.append(1)\n",
    "        else:\n",
    "            n_lst = lst.copy()\n",
    "            for j in range(len(n_lst)-1):\n",
    "                lst[j+1] = n_lst[j] + n_lst[j+1]\n",
    "            lst.append(1)\n",
    "    return \" \".join(str(item) for item in lst)\n"
   ]
  },
  {
   "cell_type": "code",
   "execution_count": null,
   "metadata": {},
   "outputs": [],
   "source": [
    "def factoriel"
   ]
  }
 ],
 "metadata": {
  "kernelspec": {
   "display_name": "Python 3",
   "language": "python",
   "name": "python3"
  },
  "language_info": {
   "codemirror_mode": {
    "name": "ipython",
    "version": 3
   },
   "file_extension": ".py",
   "mimetype": "text/x-python",
   "name": "python",
   "nbconvert_exporter": "python",
   "pygments_lexer": "ipython3",
   "version": "3.8.8"
  }
 },
 "nbformat": 4,
 "nbformat_minor": 4
}
